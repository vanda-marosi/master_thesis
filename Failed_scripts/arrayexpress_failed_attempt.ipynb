{
 "cells": [
  {
   "cell_type": "markdown",
   "metadata": {},
   "source": [
    "# Download data to transcriptomic papers\n",
    "## 1. Data import"
   ]
  },
  {
   "cell_type": "code",
   "execution_count": 3,
   "metadata": {},
   "outputs": [],
   "source": [
    "library(ArrayExpress, warn.conflicts = FALSE)\n",
    "library(parallel)\n",
    "library(foreach, warn.conflicts = FALSE)\n",
    "library(doParallel)\n",
    "library(dplyr, warn.conflicts = FALSE)\n",
    "setwd(\"/nfs/pgsb/projects/comparative_triticeae/phenotype/flower_development/refpapers/\")"
   ]
  },
  {
   "cell_type": "code",
   "execution_count": 4,
   "metadata": {},
   "outputs": [
    {
     "name": "stdout",
     "output_type": "stream",
     "text": [
      "'data.frame':\t53 obs. of  1 variable:\n",
      " $ PubmedID: Factor w/ 53 levels \"10852485\",\"18539775\",..: 51 49 47 42 43 45 24 50 46 32 ...\n"
     ]
    }
   ],
   "source": [
    "pmid_transcript <- readRDS(\"PMIDlist_transcript.rds\")\n",
    "pmid_trans <- as.data.frame(pmid_transcript, rownames = FALSE)\n",
    "colnames(pmid_trans) <- \"PubmedID\"\n",
    "str(pmid_trans)"
   ]
  },
  {
   "cell_type": "markdown",
   "metadata": {},
   "source": [
    "## 2. Create query in ArrayExpress, intersect with PMID_transcriptomic list\n",
    "* **Issues:** original set of searchwords from `EasyPubmed` is not possible to load to `ArrayExpress`, as there are emtpy search-results that cause an error, thus I have been making a subset of existing searchwords:\n",
    "    - `queryAE()` takes 2 arguments: `keywords` that are in dataset description and `species` that are part of the submitted organisms\n",
    "    - using the 2 arguments at the same time is limiting the search\n",
    "    - I used them separately:\n",
    "        * `keywords = '\"wheat\" OR \"Triticum+aestivum\" OR \"barley\" OR \"Hordeum+vulgare\" OR \"Triticeae\" OR \"Hordeinae\" OR \"Triticum\" OR \"Hordeum\"'`\n",
    "        * `species = '\"Triticum\" OR \"Hordeum\" OR \"Secale\" OR \"Triticinae\" OR \"Aegilops\"'`\n",
    "    - only 6-6 PMIDs are found from the list 53 transcriptomic papers\n",
    "    - as it is shown below, the whole *Triticum aestivum* database is just 190 experiments, \"wheat\" appears in 292 experiments"
   ]
  },
  {
   "cell_type": "code",
   "execution_count": 5,
   "metadata": {},
   "outputs": [
    {
     "name": "stdout",
     "output_type": "stream",
     "text": [
      "Rows: 439\n",
      "Columns: 8\n",
      "$ ID                <fct> E-MTAB-8971, E-MTAB-8675, E-MTAB-8469, E-MTAB-6109,…\n",
      "$ Raw               <fct> no, no, no, no, no, no, no, no, no, yes, yes, yes, …\n",
      "$ Processed         <fct> no, no, no, no, no, no, no, no, no, no, no, no, no,…\n",
      "$ ReleaseDate       <fct> 2020-05-01, 2020-02-11, 2020-02-07, 2020-01-09, 202…\n",
      "$ PubmedID          <fct> NA, NA, NA, 30748050, NA, NA, NA, NA, NA, NA, NA, N…\n",
      "$ Species           <fct> Streptomyces coelicolor A3(2), Triticum aestivum, T…\n",
      "$ ExperimentDesign  <fct> growth condition design, organism part comparison d…\n",
      "$ ExperimentFactors <fct> \"growth condition=glucose | growth condition=wheat …\n"
     ]
    }
   ],
   "source": [
    "# original searchwords <- (\"wheat\", \"barley\", \"triticeae\", \"hordeinae\", \"agropyron\", \"anthosachne\", \"australopyrum\", \"campeiostachys\", \"connorochloa\", \"critesion\", \"crithopsis\", \"douglasdeweya\", \"elymus\", \"eremopyrum\", \"festucopsis\", \"henrardia\", \"heteranthelium\", \"hordelymus\", \"hordeum\", \"hystrix\", \"kengyilia\", \"leymus\", \"pascopyrum\", \"peridictyon\", \"psathyrostachys\", \"pseudoroegneria\", \"secale\", \"stenostachys\", \"taeniatherum\", \"triticinae\", \"aegilops\", \"amblyopyrum\", \"dasypyrum\", \"haynaldia\", \"lophopyrum\", \"thinopyrum\")\n",
    "# starting from Agropyron the names have 0 result, and interrupt the command\n",
    "# here keywords search gave 439 results\n",
    "setwd(\"/nfs/pgsb/projects/comparative_triticeae/phenotype/flower_development/refsets/\")\n",
    "triticeae <- '\"wheat\" OR \"Triticum+aestivum\" OR \"barley\" OR \"Hordeum+vulgare\" OR \"Triticeae\" OR \"Hordeinae\" OR \"Triticum\" OR \"Hordeum\"' \n",
    "cl <- makeCluster(30)\n",
    "registerDoParallel(cl)\n",
    "query1 <- foreach(i=triticeae, .packages =\"ArrayExpress\", .combine = rbind) %dopar% {\n",
    "    queryAE(keywords = i)\n",
    "    }\n",
    "stopCluster(cl)\n",
    "glimpse(query1)"
   ]
  },
  {
   "cell_type": "code",
   "execution_count": 6,
   "metadata": {},
   "outputs": [
    {
     "name": "stdout",
     "output_type": "stream",
     "text": [
      "Rows: 339\n",
      "Columns: 8\n",
      "$ ID                <fct> E-MTAB-8675, E-MTAB-8469, E-MTAB-5701, E-MTAB-8520,…\n",
      "$ Raw               <fct> no, no, no, no, no, no, no, yes, yes, yes, yes, no,…\n",
      "$ Processed         <fct> no, no, no, no, no, no, no, no, no, no, no, no, no,…\n",
      "$ ReleaseDate       <fct> 2020-02-11, 2020-02-07, 2020-01-01, 2019-12-19, 201…\n",
      "$ PubmedID          <fct> NA, NA, NA, NA, NA, NA, NA, NA, NA, NA, NA, NA, NA,…\n",
      "$ Species           <fct> Triticum aestivum, Triticum durum, Triticum monococ…\n",
      "$ ExperimentDesign  <fct> organism part comparison design, disease state desi…\n",
      "$ ExperimentFactors <fct> \"organism part=pistil | organism part=stamen\", \"phe…\n"
     ]
    }
   ],
   "source": [
    "# here species search gave 339 results\n",
    "species <- '\"Triticum\" OR \"Hordeum\" OR \"Secale\" OR \"Triticinae\" OR \"Aegilops\"'\n",
    "cl <- makeCluster(30)\n",
    "registerDoParallel(cl)\n",
    "query2 <- foreach(i=species, .packages =\"ArrayExpress\", .combine = rbind) %dopar% {\n",
    "    queryAE(species = i)\n",
    "    }\n",
    "stopCluster(cl)\n",
    "glimpse(query2)"
   ]
  },
  {
   "cell_type": "code",
   "execution_count": 7,
   "metadata": {},
   "outputs": [
    {
     "name": "stderr",
     "output_type": "stream",
     "text": [
      "Warning message:\n",
      "“Column `PubmedID` joining factors with different levels, coercing to character vector”"
     ]
    },
    {
     "name": "stdout",
     "output_type": "stream",
     "text": [
      "Rows: 6\n",
      "Columns: 8\n",
      "$ ID                <fct> E-MTAB-4114, E-MTAB-4469, E-GEOD-37134, E-MTAB-4401…\n",
      "$ Raw               <fct> no, no, no, no, no, no\n",
      "$ Processed         <fct> no, no, no, no, no, no\n",
      "$ ReleaseDate       <fct> 2015-03-10, 2014-03-14, 2012-04-11, 2012-04-04, 201…\n",
      "$ PubmedID          <chr> \"26307377\", \"25886815\", \"22508932\", \"22443345\", \"22…\n",
      "$ Species           <fct> Hordeum vulgare, Triticum aestivum, Triticum aestiv…\n",
      "$ ExperimentDesign  <fct> NA, NA, NA, NA, NA, NA\n",
      "$ ExperimentFactors <fct> \"developmental stage=early reproductive phase | dev…\n"
     ]
    },
    {
     "data": {
      "text/html": [
       "<table>\n",
       "<caption>A data.frame: 6 × 8</caption>\n",
       "<thead>\n",
       "\t<tr><th></th><th scope=col>ID</th><th scope=col>Raw</th><th scope=col>Processed</th><th scope=col>ReleaseDate</th><th scope=col>PubmedID</th><th scope=col>Species</th><th scope=col>ExperimentDesign</th><th scope=col>ExperimentFactors</th></tr>\n",
       "\t<tr><th></th><th scope=col>&lt;fct&gt;</th><th scope=col>&lt;fct&gt;</th><th scope=col>&lt;fct&gt;</th><th scope=col>&lt;fct&gt;</th><th scope=col>&lt;chr&gt;</th><th scope=col>&lt;fct&gt;</th><th scope=col>&lt;fct&gt;</th><th scope=col>&lt;fct&gt;</th></tr>\n",
       "</thead>\n",
       "<tbody>\n",
       "\t<tr><th scope=row>1</th><td>E-MTAB-4114 </td><td>no</td><td>no</td><td>2015-03-10</td><td>26307377</td><td>Hordeum vulgare        </td><td>NA</td><td>developmental stage=early reproductive phase | developmental stage=end of vegetative phase | developmental stage=stamen primordium visible stage | developmental stage=vegetative phase | environmental stress=long day length regimen | environmental stress=short day length regimen | genotype=ppd-H1 mutant | genotype=wild type | organism part=leaf | organism part=shoot apex</td></tr>\n",
       "\t<tr><th scope=row>2</th><td>E-MTAB-4469 </td><td>no</td><td>no</td><td>2014-03-14</td><td>25886815</td><td>Triticum aestivum      </td><td>NA</td><td>genotype=control | genotype=HTS-1 mutant | organism part=carpel | organism part=carpel-like structure | organism part=stamen                                                                                                                                                                                                                                                        </td></tr>\n",
       "\t<tr><th scope=row>3</th><td>E-GEOD-37134</td><td>no</td><td>no</td><td>2012-04-11</td><td>22508932</td><td>Triticum aestivum      </td><td>NA</td><td>environmental stress=cold temperature regimen | environmental stress=control                                                                                                                                                                                                                                                                                                        </td></tr>\n",
       "\t<tr><th scope=row>4</th><td>E-MTAB-4401 </td><td>no</td><td>no</td><td>2012-04-04</td><td>22443345</td><td>Brachypodium distachyon</td><td>NA</td><td>organism part=anther | organism part=early inflorescence | organism part=emerging inflorescence | organism part=endosperm | organism part=leaf | organism part=pistil | organism part=plant embryo | organism part=seed 10 days after pollination | organism part=seed 5 days after pollination                                                                                     </td></tr>\n",
       "\t<tr><th scope=row>5</th><td>E-MTAB-4400 </td><td>no</td><td>no</td><td>2012-04-04</td><td>22443345</td><td>Sorghum bicolor        </td><td>NA</td><td>organism part=anther | organism part=early inflorescence | organism part=emerging inflorescence | organism part=endosperm | organism part=leaf | organism part=pistil | organism part=plant embryo | organism part=seed 10 days after pollination | organism part=seed 5 days after pollination                                                                                     </td></tr>\n",
       "\t<tr><th scope=row>6</th><td>E-GEOD-36867</td><td>no</td><td>no</td><td>2012-03-29</td><td>22508932</td><td>Triticum aestivum      </td><td>NA</td><td>developmental stage=pollen development stage, anther length 1.0 mm | developmental stage=pollen development stage, anther length 1.5 mm | developmental stage=pollen development stage, anther length 2.2 mm | developmental stage=pollen development stage, anther length 3.0 mm | environmental stress=cold temperature regimen | environmental stress=control                    </td></tr>\n",
       "</tbody>\n",
       "</table>\n"
      ],
      "text/latex": [
       "A data.frame: 6 × 8\n",
       "\\begin{tabular}{r|llllllll}\n",
       "  & ID & Raw & Processed & ReleaseDate & PubmedID & Species & ExperimentDesign & ExperimentFactors\\\\\n",
       "  & <fct> & <fct> & <fct> & <fct> & <chr> & <fct> & <fct> & <fct>\\\\\n",
       "\\hline\n",
       "\t1 & E-MTAB-4114  & no & no & 2015-03-10 & 26307377 & Hordeum vulgare         & NA & developmental stage=early reproductive phase \\textbar{} developmental stage=end of vegetative phase \\textbar{} developmental stage=stamen primordium visible stage \\textbar{} developmental stage=vegetative phase \\textbar{} environmental stress=long day length regimen \\textbar{} environmental stress=short day length regimen \\textbar{} genotype=ppd-H1 mutant \\textbar{} genotype=wild type \\textbar{} organism part=leaf \\textbar{} organism part=shoot apex\\\\\n",
       "\t2 & E-MTAB-4469  & no & no & 2014-03-14 & 25886815 & Triticum aestivum       & NA & genotype=control \\textbar{} genotype=HTS-1 mutant \\textbar{} organism part=carpel \\textbar{} organism part=carpel-like structure \\textbar{} organism part=stamen                                                                                                                                                                                                                                                        \\\\\n",
       "\t3 & E-GEOD-37134 & no & no & 2012-04-11 & 22508932 & Triticum aestivum       & NA & environmental stress=cold temperature regimen \\textbar{} environmental stress=control                                                                                                                                                                                                                                                                                                        \\\\\n",
       "\t4 & E-MTAB-4401  & no & no & 2012-04-04 & 22443345 & Brachypodium distachyon & NA & organism part=anther \\textbar{} organism part=early inflorescence \\textbar{} organism part=emerging inflorescence \\textbar{} organism part=endosperm \\textbar{} organism part=leaf \\textbar{} organism part=pistil \\textbar{} organism part=plant embryo \\textbar{} organism part=seed 10 days after pollination \\textbar{} organism part=seed 5 days after pollination                                                                                     \\\\\n",
       "\t5 & E-MTAB-4400  & no & no & 2012-04-04 & 22443345 & Sorghum bicolor         & NA & organism part=anther \\textbar{} organism part=early inflorescence \\textbar{} organism part=emerging inflorescence \\textbar{} organism part=endosperm \\textbar{} organism part=leaf \\textbar{} organism part=pistil \\textbar{} organism part=plant embryo \\textbar{} organism part=seed 10 days after pollination \\textbar{} organism part=seed 5 days after pollination                                                                                     \\\\\n",
       "\t6 & E-GEOD-36867 & no & no & 2012-03-29 & 22508932 & Triticum aestivum       & NA & developmental stage=pollen development stage, anther length 1.0 mm \\textbar{} developmental stage=pollen development stage, anther length 1.5 mm \\textbar{} developmental stage=pollen development stage, anther length 2.2 mm \\textbar{} developmental stage=pollen development stage, anther length 3.0 mm \\textbar{} environmental stress=cold temperature regimen \\textbar{} environmental stress=control                    \\\\\n",
       "\\end{tabular}\n"
      ],
      "text/markdown": [
       "\n",
       "A data.frame: 6 × 8\n",
       "\n",
       "| <!--/--> | ID &lt;fct&gt; | Raw &lt;fct&gt; | Processed &lt;fct&gt; | ReleaseDate &lt;fct&gt; | PubmedID &lt;chr&gt; | Species &lt;fct&gt; | ExperimentDesign &lt;fct&gt; | ExperimentFactors &lt;fct&gt; |\n",
       "|---|---|---|---|---|---|---|---|---|\n",
       "| 1 | E-MTAB-4114  | no | no | 2015-03-10 | 26307377 | Hordeum vulgare         | NA | developmental stage=early reproductive phase | developmental stage=end of vegetative phase | developmental stage=stamen primordium visible stage | developmental stage=vegetative phase | environmental stress=long day length regimen | environmental stress=short day length regimen | genotype=ppd-H1 mutant | genotype=wild type | organism part=leaf | organism part=shoot apex |\n",
       "| 2 | E-MTAB-4469  | no | no | 2014-03-14 | 25886815 | Triticum aestivum       | NA | genotype=control | genotype=HTS-1 mutant | organism part=carpel | organism part=carpel-like structure | organism part=stamen                                                                                                                                                                                                                                                         |\n",
       "| 3 | E-GEOD-37134 | no | no | 2012-04-11 | 22508932 | Triticum aestivum       | NA | environmental stress=cold temperature regimen | environmental stress=control                                                                                                                                                                                                                                                                                                         |\n",
       "| 4 | E-MTAB-4401  | no | no | 2012-04-04 | 22443345 | Brachypodium distachyon | NA | organism part=anther | organism part=early inflorescence | organism part=emerging inflorescence | organism part=endosperm | organism part=leaf | organism part=pistil | organism part=plant embryo | organism part=seed 10 days after pollination | organism part=seed 5 days after pollination                                                                                      |\n",
       "| 5 | E-MTAB-4400  | no | no | 2012-04-04 | 22443345 | Sorghum bicolor         | NA | organism part=anther | organism part=early inflorescence | organism part=emerging inflorescence | organism part=endosperm | organism part=leaf | organism part=pistil | organism part=plant embryo | organism part=seed 10 days after pollination | organism part=seed 5 days after pollination                                                                                      |\n",
       "| 6 | E-GEOD-36867 | no | no | 2012-03-29 | 22508932 | Triticum aestivum       | NA | developmental stage=pollen development stage, anther length 1.0 mm | developmental stage=pollen development stage, anther length 1.5 mm | developmental stage=pollen development stage, anther length 2.2 mm | developmental stage=pollen development stage, anther length 3.0 mm | environmental stress=cold temperature regimen | environmental stress=control                     |\n",
       "\n"
      ],
      "text/plain": [
       "  ID           Raw Processed ReleaseDate PubmedID Species                \n",
       "1 E-MTAB-4114  no  no        2015-03-10  26307377 Hordeum vulgare        \n",
       "2 E-MTAB-4469  no  no        2014-03-14  25886815 Triticum aestivum      \n",
       "3 E-GEOD-37134 no  no        2012-04-11  22508932 Triticum aestivum      \n",
       "4 E-MTAB-4401  no  no        2012-04-04  22443345 Brachypodium distachyon\n",
       "5 E-MTAB-4400  no  no        2012-04-04  22443345 Sorghum bicolor        \n",
       "6 E-GEOD-36867 no  no        2012-03-29  22508932 Triticum aestivum      \n",
       "  ExperimentDesign\n",
       "1 NA              \n",
       "2 NA              \n",
       "3 NA              \n",
       "4 NA              \n",
       "5 NA              \n",
       "6 NA              \n",
       "  ExperimentFactors                                                                                                                                                                                                                                                                                                                                                                   \n",
       "1 developmental stage=early reproductive phase | developmental stage=end of vegetative phase | developmental stage=stamen primordium visible stage | developmental stage=vegetative phase | environmental stress=long day length regimen | environmental stress=short day length regimen | genotype=ppd-H1 mutant | genotype=wild type | organism part=leaf | organism part=shoot apex\n",
       "2 genotype=control | genotype=HTS-1 mutant | organism part=carpel | organism part=carpel-like structure | organism part=stamen                                                                                                                                                                                                                                                        \n",
       "3 environmental stress=cold temperature regimen | environmental stress=control                                                                                                                                                                                                                                                                                                        \n",
       "4 organism part=anther | organism part=early inflorescence | organism part=emerging inflorescence | organism part=endosperm | organism part=leaf | organism part=pistil | organism part=plant embryo | organism part=seed 10 days after pollination | organism part=seed 5 days after pollination                                                                                     \n",
       "5 organism part=anther | organism part=early inflorescence | organism part=emerging inflorescence | organism part=endosperm | organism part=leaf | organism part=pistil | organism part=plant embryo | organism part=seed 10 days after pollination | organism part=seed 5 days after pollination                                                                                     \n",
       "6 developmental stage=pollen development stage, anther length 1.0 mm | developmental stage=pollen development stage, anther length 1.5 mm | developmental stage=pollen development stage, anther length 2.2 mm | developmental stage=pollen development stage, anther length 3.0 mm | environmental stress=cold temperature regimen | environmental stress=control                    "
      ]
     },
     "metadata": {},
     "output_type": "display_data"
    },
    {
     "name": "stderr",
     "output_type": "stream",
     "text": [
      "Warning message:\n",
      "“Column `PubmedID` joining factors with different levels, coercing to character vector”"
     ]
    },
    {
     "name": "stdout",
     "output_type": "stream",
     "text": [
      "Rows: 4\n",
      "Columns: 8\n",
      "$ ID                <fct> E-MTAB-4114, E-MTAB-4469, E-GEOD-37134, E-GEOD-36867\n",
      "$ Raw               <fct> no, no, no, no\n",
      "$ Processed         <fct> no, no, no, no\n",
      "$ ReleaseDate       <fct> 2015-03-10, 2014-03-14, 2012-04-11, 2012-03-29\n",
      "$ PubmedID          <chr> \"26307377\", \"25886815\", \"22508932\", \"22508932\"\n",
      "$ Species           <fct> Hordeum vulgare, Triticum aestivum, Triticum aestiv…\n",
      "$ ExperimentDesign  <fct> NA, NA, NA, NA\n",
      "$ ExperimentFactors <fct> \"developmental stage=early reproductive phase | dev…\n"
     ]
    }
   ],
   "source": [
    "# intersection of both queries with pmid_transcript list\n",
    "# inner join with pmid-list & keywordsAE\n",
    "AEtranscript1 <- inner_join(query1, pmid_trans, by = \"PubmedID\")\n",
    "glimpse(AEtranscript1)\n",
    "head(AEtranscript1)\n",
    "# only 6 datasets are in intersection & speciesAE\n",
    "AEtranscript2 <- inner_join(query2, pmid_trans, by = \"PubmedID\")\n",
    "glimpse(AEtranscript2)\n",
    "# only 4 datasets are in intersection"
   ]
  },
  {
   "cell_type": "code",
   "execution_count": 8,
   "metadata": {},
   "outputs": [
    {
     "name": "stdout",
     "output_type": "stream",
     "text": [
      "Rows: 292\n",
      "Columns: 8\n",
      "$ ID                <fct> E-MTAB-8971, E-MTAB-8675, E-MTAB-8469, E-MTAB-5701,…\n",
      "$ Raw               <fct> no, no, no, no, no, no, no, no, yes, no, no, no, no…\n",
      "$ Processed         <fct> no, no, no, no, no, no, no, no, no, no, no, no, no,…\n",
      "$ ReleaseDate       <fct> 2020-05-01, 2020-02-11, 2020-02-07, 2020-01-01, 201…\n",
      "$ PubmedID          <fct> NA, NA, NA, NA, NA, NA, NA, NA, NA, NA, NA, NA, 311…\n",
      "$ Species           <fct> Streptomyces coelicolor A3(2), Triticum aestivum, T…\n",
      "$ ExperimentDesign  <fct> growth condition design, organism part comparison d…\n",
      "$ ExperimentFactors <fct> \"growth condition=glucose | growth condition=wheat …\n",
      "Rows: 190\n",
      "Columns: 8\n",
      "$ ID                <fct> E-MTAB-8675, E-MTAB-8520, E-MTAB-6140, E-MTAB-8397,…\n",
      "$ Raw               <fct> no, no, no, no, no, yes, no, no, no, no, yes, yes, …\n",
      "$ Processed         <fct> no, no, no, no, no, no, no, no, no, no, no, no, no,…\n",
      "$ ReleaseDate       <fct> 2020-02-11, 2019-12-19, 2019-12-16, 2019-11-01, 201…\n",
      "$ PubmedID          <fct> NA, NA, NA, NA, NA, NA, NA, NA, NA, 31113363 | 2943…\n",
      "$ Species           <fct> Triticum aestivum, Triticum aestivum, Triticum aest…\n",
      "$ ExperimentDesign  <fct> organism part comparison design, development or dif…\n",
      "$ ExperimentFactors <fct> organism part=pistil | organism part=stamen, age=10…\n"
     ]
    }
   ],
   "source": [
    "wheat1 <- queryAE(keywords =\"wheat\")\n",
    "glimpse(wheat1)\n",
    "wheat2 <- queryAE(species = \"Triticum+aestivum\")\n",
    "glimpse(wheat2)"
   ]
  },
  {
   "cell_type": "markdown",
   "metadata": {},
   "source": [
    "## 3. Direct search with 53 PMIDs"
   ]
  },
  {
   "cell_type": "code",
   "execution_count": 9,
   "metadata": {},
   "outputs": [
    {
     "name": "stdout",
     "output_type": "stream",
     "text": [
      " chr [1:53] \"32066846\" \"32019527\" \"31910796\" \"31165748\" \"31185903\" ...\n",
      " chr [1:53] \"pmid:\" \"pmid:\" \"pmid:\" \"pmid:\" \"pmid:\" \"pmid:\" \"pmid:\" \"pmid:\" ...\n",
      " chr [1:53] \"pmid:32066846\" \"pmid:32019527\" \"pmid:31910796\" \"pmid:31165748\" ...\n"
     ]
    }
   ],
   "source": [
    "# according to AEwebsite, search can be narrowed into specific field like \"pmid:\"\n",
    "str(pmid_transcript)\n",
    "pmid <- rep(\"pmid:\", each = 53)\n",
    "str(pmid)\n",
    "trans <- paste(pmid, pmid_transcript, sep = \"\", collapse = NULL)\n",
    "str(trans)"
   ]
  },
  {
   "cell_type": "code",
   "execution_count": 10,
   "metadata": {},
   "outputs": [
    {
     "name": "stderr",
     "output_type": "stream",
     "text": [
      "Caught an error!\n"
     ]
    },
    {
     "name": "stdout",
     "output_type": "stream",
     "text": [
      "<simpleError in queryAE(keywords = i): task 1 failed - \"subscript out of bounds\">\n",
      "List of 2\n",
      " $ message: chr \"task 1 failed - \\\"subscript out of bounds\\\"\"\n",
      " $ call   : language queryAE(keywords = i)\n",
      " - attr(*, \"class\")= chr [1:3] \"simpleError\" \"error\" \"condition\"\n"
     ]
    }
   ],
   "source": [
    "cl <- makeCluster(30)\n",
    "registerDoParallel(cl)\n",
    "query3 <- tryCatch(\n",
    "    {foreach(i=trans, \n",
    "             .packages =\"ArrayExpress\", \n",
    "             .combine = rbind) %dopar% queryAE(keywords = i)}, \n",
    "    error = function(e) {message('Caught an error!')\n",
    "            print(e)},\n",
    "    finally = {stopCluster(cl)})\n",
    "str(query3)"
   ]
  },
  {
   "cell_type": "code",
   "execution_count": 11,
   "metadata": {},
   "outputs": [
    {
     "name": "stderr",
     "output_type": "stream",
     "text": [
      "Caught an error!\n"
     ]
    },
    {
     "name": "stdout",
     "output_type": "stream",
     "text": [
      "<simpleError in queryAE(keywords = i): task 1 failed - \"missing value where TRUE/FALSE needed\">\n",
      "List of 2\n",
      " $ message: chr \"task 1 failed - \\\"missing value where TRUE/FALSE needed\\\"\"\n",
      " $ call   : language queryAE(keywords = i)\n",
      " - attr(*, \"class\")= chr [1:3] \"simpleError\" \"error\" \"condition\"\n"
     ]
    }
   ],
   "source": [
    "# some PMIDs work for this way of search, some doesnt...very annoying but couldnt find out the reason\n",
    "# worked example from AE website: pmid:16553887\n",
    "# doesnt work, although it is from the intersected list: pmid:22508932 - but it gives results on the website!\n",
    "trans <- \"pmid:22508932\"\n",
    "cl <- makeCluster(3)\n",
    "registerDoParallel(cl)\n",
    "query4 <- tryCatch(\n",
    "    {foreach(i=trans, \n",
    "             .packages =\"ArrayExpress\", \n",
    "             .combine = rbind) %dopar% queryAE(keywords = i)}, \n",
    "    error = function(e) {message('Caught an error!')\n",
    "            print(e)},\n",
    "    finally = {stopCluster(cl)})\n",
    "str(query4)"
   ]
  },
  {
   "cell_type": "code",
   "execution_count": 12,
   "metadata": {},
   "outputs": [
    {
     "data": {
      "text/plain": [
       "R version 3.6.3 (2020-02-29)\n",
       "Platform: x86_64-conda_cos6-linux-gnu (64-bit)\n",
       "Running under: CentOS Linux 7 (Core)\n",
       "\n",
       "Matrix products: default\n",
       "BLAS/LAPACK: /home/vanda.marosi/anaconda3/envs/r/lib/libopenblasp-r0.3.9.so\n",
       "\n",
       "locale:\n",
       " [1] LC_CTYPE=en_US.UTF-8       LC_NUMERIC=C              \n",
       " [3] LC_TIME=de_DE.UTF-8        LC_COLLATE=en_US.UTF-8    \n",
       " [5] LC_MONETARY=de_DE.UTF-8    LC_MESSAGES=en_US.UTF-8   \n",
       " [7] LC_PAPER=de_DE.UTF-8       LC_NAME=C                 \n",
       " [9] LC_ADDRESS=C               LC_TELEPHONE=C            \n",
       "[11] LC_MEASUREMENT=de_DE.UTF-8 LC_IDENTIFICATION=C       \n",
       "\n",
       "attached base packages:\n",
       "[1] parallel  stats     graphics  grDevices utils     datasets  methods  \n",
       "[8] base     \n",
       "\n",
       "other attached packages:\n",
       "[1] dplyr_0.8.5         doParallel_1.0.14   iterators_1.0.12   \n",
       "[4] foreach_1.5.0       ArrayExpress_1.46.0 Biobase_2.46.0     \n",
       "[7] BiocGenerics_0.32.0\n",
       "\n",
       "loaded via a namespace (and not attached):\n",
       " [1] Rcpp_1.0.4.6                lattice_0.20-41            \n",
       " [3] Biostrings_2.54.0           utf8_1.1.4                 \n",
       " [5] assertthat_0.2.1            digest_0.6.25              \n",
       " [7] IRdisplay_0.7.0             R6_2.4.1                   \n",
       " [9] GenomeInfoDb_1.22.0         repr_1.1.0                 \n",
       "[11] stats4_3.6.3                RSQLite_2.2.0              \n",
       "[13] evaluate_0.14               pillar_1.4.3               \n",
       "[15] oligoClasses_1.48.0         zlibbioc_1.32.0            \n",
       "[17] rlang_0.4.5                 uuid_0.1-4                 \n",
       "[19] blob_1.2.1                  S4Vectors_0.24.0           \n",
       "[21] Matrix_1.2-18               preprocessCore_1.48.0      \n",
       "[23] splines_3.6.3               BiocParallel_1.20.0        \n",
       "[25] RCurl_1.98-1.2              bit_1.1-15.2               \n",
       "[27] DelayedArray_0.12.0         compiler_3.6.3             \n",
       "[29] pkgconfig_2.0.3             base64enc_0.1-3            \n",
       "[31] htmltools_0.4.0             oligo_1.50.0               \n",
       "[33] tidyselect_1.0.0            SummarizedExperiment_1.16.0\n",
       "[35] tibble_3.0.1                GenomeInfoDbData_1.2.2     \n",
       "[37] ff_2.2-14.2                 IRanges_2.20.0             \n",
       "[39] codetools_0.2-16            matrixStats_0.56.0         \n",
       "[41] XML_3.99-0.3                fansi_0.4.1                \n",
       "[43] crayon_1.3.4                bitops_1.0-6               \n",
       "[45] grid_3.6.3                  jsonlite_1.6.1             \n",
       "[47] lifecycle_0.2.0             DBI_1.1.0                  \n",
       "[49] magrittr_1.5                cli_2.0.2                  \n",
       "[51] XVector_0.26.0              affyio_1.56.0              \n",
       "[53] limma_3.42.0                ellipsis_0.3.0             \n",
       "[55] vctrs_0.2.4                 IRkernel_0.8.15            \n",
       "[57] tools_3.6.3                 bit64_0.9-7                \n",
       "[59] glue_1.4.0                  purrr_0.3.4                \n",
       "[61] BiocManager_1.30.10         GenomicRanges_1.38.0       \n",
       "[63] memoise_1.1.0               pbdZMQ_0.3-3               \n",
       "[65] affxparser_1.58.0          "
      ]
     },
     "metadata": {},
     "output_type": "display_data"
    }
   ],
   "source": [
    "sessionInfo()"
   ]
  }
 ],
 "metadata": {
  "kernelspec": {
   "display_name": "R [conda env:r]",
   "language": "R",
   "name": "conda-env-r-r"
  },
  "language_info": {
   "codemirror_mode": "r",
   "file_extension": ".r",
   "mimetype": "text/x-r-source",
   "name": "R",
   "pygments_lexer": "r",
   "version": "3.6.3"
  }
 },
 "nbformat": 4,
 "nbformat_minor": 4
}
