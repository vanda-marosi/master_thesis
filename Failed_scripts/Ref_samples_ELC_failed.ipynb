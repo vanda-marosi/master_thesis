{
 "cells": [
  {
   "cell_type": "markdown",
   "metadata": {},
   "source": [
    "# Classifying overall expression level categories (ELC)"
   ]
  },
  {
   "cell_type": "code",
   "execution_count": 1,
   "metadata": {},
   "outputs": [],
   "source": [
    "set.seed(42) # For reproducibility of results"
   ]
  },
  {
   "cell_type": "code",
   "execution_count": 3,
   "metadata": {},
   "outputs": [],
   "source": [
    "library(tidyverse, warn.conflicts = FALSE)\n",
    "library(foreach, warn.conflicts = FALSE)\n",
    "library(doParallel, warn.conflicts = FALSE)\n",
    "library(cowplot, warn.conflicts = FALSE)\n",
    "library(data.table, warn.conflicts = FALSE)\n",
    "library(RPostgreSQL, warn.conflicts = FALSE)"
   ]
  },
  {
   "cell_type": "code",
   "execution_count": 4,
   "metadata": {},
   "outputs": [
    {
     "data": {
      "text/html": [
       "<style>\n",
       ".list-inline {list-style: none; margin:0; padding: 0}\n",
       ".list-inline>li {display: inline-block}\n",
       ".list-inline>li:not(:last-child)::after {content: \"\\00b7\"; padding: 0 .5ex}\n",
       "</style>\n",
       "<ol class=list-inline><li>49281</li><li>193</li></ol>\n"
      ],
      "text/latex": [
       "\\begin{enumerate*}\n",
       "\\item 49281\n",
       "\\item 193\n",
       "\\end{enumerate*}\n"
      ],
      "text/markdown": [
       "1. 49281\n",
       "2. 193\n",
       "\n",
       "\n"
      ],
      "text/plain": [
       "[1] 49281   193"
      ]
     },
     "metadata": {},
     "output_type": "display_data"
    },
    {
     "data": {
      "text/html": [
       "<table>\n",
       "<caption>A matrix: 6 × 193 of type dbl</caption>\n",
       "<thead>\n",
       "\t<tr><th></th><th scope=col>ERR1248084</th><th scope=col>ERR1248085</th><th scope=col>ERR1248086</th><th scope=col>ERR1248087</th><th scope=col>ERR1248088</th><th scope=col>ERR1248089</th><th scope=col>ERR1248116</th><th scope=col>ERR1248117</th><th scope=col>ERR1248118</th><th scope=col>ERR1248119</th><th scope=col>⋯</th><th scope=col>ERR515188</th><th scope=col>ERR515189</th><th scope=col>ERR515190</th><th scope=col>ERR515191</th><th scope=col>ERR515192</th><th scope=col>ERR515193</th><th scope=col>ERR515194</th><th scope=col>ERR515195</th><th scope=col>ERR515196</th><th scope=col>ERR515197</th></tr>\n",
       "</thead>\n",
       "<tbody>\n",
       "\t<tr><th scope=row>Horvu_MOREX_1H01G000100</th><td>1102.000</td><td>2178.000</td><td>2399.000</td><td>3877.000</td><td> 925.000</td><td>2010.000</td><td>1773.00</td><td>2407.000</td><td>2224.000</td><td>3328.000</td><td>⋯</td><td>1232.000</td><td>2237.000</td><td>1503.000</td><td>1833.000</td><td>1695.000</td><td>2477.000</td><td>2265.000</td><td>2578.000</td><td>2468.000</td><td>2317.000</td></tr>\n",
       "\t<tr><th scope=row>Horvu_MOREX_1H01G000200</th><td>   3.000</td><td>   4.000</td><td>  38.000</td><td>  14.000</td><td>   1.000</td><td>  65.000</td><td> 641.00</td><td>2034.000</td><td>2230.000</td><td>2022.000</td><td>⋯</td><td>   1.000</td><td>   3.000</td><td>  10.000</td><td>   1.000</td><td>   2.000</td><td>   8.000</td><td>   6.000</td><td>   0.000</td><td>   2.000</td><td>   2.000</td></tr>\n",
       "\t<tr><th scope=row>Horvu_MOREX_1H01G000300</th><td> 346.000</td><td> 682.000</td><td> 613.000</td><td>1097.000</td><td> 369.000</td><td> 903.000</td><td>1513.00</td><td>2346.000</td><td>2464.000</td><td>2226.000</td><td>⋯</td><td> 428.000</td><td> 610.000</td><td> 519.000</td><td> 466.000</td><td> 492.000</td><td> 652.000</td><td> 569.000</td><td> 677.000</td><td> 710.000</td><td> 584.000</td></tr>\n",
       "\t<tr><th scope=row>Horvu_MOREX_1H01G000400</th><td>1282.000</td><td>1703.000</td><td> 681.000</td><td>1293.000</td><td>1645.000</td><td>1748.000</td><td> 490.00</td><td> 484.000</td><td> 578.000</td><td> 685.000</td><td>⋯</td><td> 971.000</td><td>1640.000</td><td>1312.000</td><td>1160.000</td><td>2093.000</td><td>2738.000</td><td>2795.000</td><td>3687.000</td><td>3044.000</td><td>3045.000</td></tr>\n",
       "\t<tr><th scope=row>Horvu_MOREX_1H01G000500</th><td>2693.000</td><td>5151.000</td><td>2940.000</td><td>4303.000</td><td>3550.000</td><td>3758.000</td><td>1589.00</td><td>2689.000</td><td>2926.000</td><td>3255.000</td><td>⋯</td><td>3656.000</td><td>4336.000</td><td>4734.000</td><td>4469.000</td><td>2296.000</td><td>2418.000</td><td>2349.000</td><td>3908.000</td><td>3340.000</td><td>3221.000</td></tr>\n",
       "\t<tr><th scope=row>Horvu_MOREX_1H01G000600</th><td>1759.535</td><td>2989.789</td><td>1806.463</td><td>2680.405</td><td>2580.237</td><td>3770.057</td><td>2290.44</td><td>2551.647</td><td>2561.501</td><td>2173.419</td><td>⋯</td><td>2808.661</td><td>3316.393</td><td>2766.549</td><td>2833.275</td><td>2984.255</td><td>4250.868</td><td>3915.629</td><td>4172.974</td><td>4106.843</td><td>4045.146</td></tr>\n",
       "</tbody>\n",
       "</table>\n"
      ],
      "text/latex": [
       "A matrix: 6 × 193 of type dbl\n",
       "\\begin{tabular}{r|lllllllllllllllllllll}\n",
       "  & ERR1248084 & ERR1248085 & ERR1248086 & ERR1248087 & ERR1248088 & ERR1248089 & ERR1248116 & ERR1248117 & ERR1248118 & ERR1248119 & ⋯ & ERR515188 & ERR515189 & ERR515190 & ERR515191 & ERR515192 & ERR515193 & ERR515194 & ERR515195 & ERR515196 & ERR515197\\\\\n",
       "\\hline\n",
       "\tHorvu\\_MOREX\\_1H01G000100 & 1102.000 & 2178.000 & 2399.000 & 3877.000 &  925.000 & 2010.000 & 1773.00 & 2407.000 & 2224.000 & 3328.000 & ⋯ & 1232.000 & 2237.000 & 1503.000 & 1833.000 & 1695.000 & 2477.000 & 2265.000 & 2578.000 & 2468.000 & 2317.000\\\\\n",
       "\tHorvu\\_MOREX\\_1H01G000200 &    3.000 &    4.000 &   38.000 &   14.000 &    1.000 &   65.000 &  641.00 & 2034.000 & 2230.000 & 2022.000 & ⋯ &    1.000 &    3.000 &   10.000 &    1.000 &    2.000 &    8.000 &    6.000 &    0.000 &    2.000 &    2.000\\\\\n",
       "\tHorvu\\_MOREX\\_1H01G000300 &  346.000 &  682.000 &  613.000 & 1097.000 &  369.000 &  903.000 & 1513.00 & 2346.000 & 2464.000 & 2226.000 & ⋯ &  428.000 &  610.000 &  519.000 &  466.000 &  492.000 &  652.000 &  569.000 &  677.000 &  710.000 &  584.000\\\\\n",
       "\tHorvu\\_MOREX\\_1H01G000400 & 1282.000 & 1703.000 &  681.000 & 1293.000 & 1645.000 & 1748.000 &  490.00 &  484.000 &  578.000 &  685.000 & ⋯ &  971.000 & 1640.000 & 1312.000 & 1160.000 & 2093.000 & 2738.000 & 2795.000 & 3687.000 & 3044.000 & 3045.000\\\\\n",
       "\tHorvu\\_MOREX\\_1H01G000500 & 2693.000 & 5151.000 & 2940.000 & 4303.000 & 3550.000 & 3758.000 & 1589.00 & 2689.000 & 2926.000 & 3255.000 & ⋯ & 3656.000 & 4336.000 & 4734.000 & 4469.000 & 2296.000 & 2418.000 & 2349.000 & 3908.000 & 3340.000 & 3221.000\\\\\n",
       "\tHorvu\\_MOREX\\_1H01G000600 & 1759.535 & 2989.789 & 1806.463 & 2680.405 & 2580.237 & 3770.057 & 2290.44 & 2551.647 & 2561.501 & 2173.419 & ⋯ & 2808.661 & 3316.393 & 2766.549 & 2833.275 & 2984.255 & 4250.868 & 3915.629 & 4172.974 & 4106.843 & 4045.146\\\\\n",
       "\\end{tabular}\n"
      ],
      "text/markdown": [
       "\n",
       "A matrix: 6 × 193 of type dbl\n",
       "\n",
       "| <!--/--> | ERR1248084 | ERR1248085 | ERR1248086 | ERR1248087 | ERR1248088 | ERR1248089 | ERR1248116 | ERR1248117 | ERR1248118 | ERR1248119 | ⋯ | ERR515188 | ERR515189 | ERR515190 | ERR515191 | ERR515192 | ERR515193 | ERR515194 | ERR515195 | ERR515196 | ERR515197 |\n",
       "|---|---|---|---|---|---|---|---|---|---|---|---|---|---|---|---|---|---|---|---|---|---|\n",
       "| Horvu_MOREX_1H01G000100 | 1102.000 | 2178.000 | 2399.000 | 3877.000 |  925.000 | 2010.000 | 1773.00 | 2407.000 | 2224.000 | 3328.000 | ⋯ | 1232.000 | 2237.000 | 1503.000 | 1833.000 | 1695.000 | 2477.000 | 2265.000 | 2578.000 | 2468.000 | 2317.000 |\n",
       "| Horvu_MOREX_1H01G000200 |    3.000 |    4.000 |   38.000 |   14.000 |    1.000 |   65.000 |  641.00 | 2034.000 | 2230.000 | 2022.000 | ⋯ |    1.000 |    3.000 |   10.000 |    1.000 |    2.000 |    8.000 |    6.000 |    0.000 |    2.000 |    2.000 |\n",
       "| Horvu_MOREX_1H01G000300 |  346.000 |  682.000 |  613.000 | 1097.000 |  369.000 |  903.000 | 1513.00 | 2346.000 | 2464.000 | 2226.000 | ⋯ |  428.000 |  610.000 |  519.000 |  466.000 |  492.000 |  652.000 |  569.000 |  677.000 |  710.000 |  584.000 |\n",
       "| Horvu_MOREX_1H01G000400 | 1282.000 | 1703.000 |  681.000 | 1293.000 | 1645.000 | 1748.000 |  490.00 |  484.000 |  578.000 |  685.000 | ⋯ |  971.000 | 1640.000 | 1312.000 | 1160.000 | 2093.000 | 2738.000 | 2795.000 | 3687.000 | 3044.000 | 3045.000 |\n",
       "| Horvu_MOREX_1H01G000500 | 2693.000 | 5151.000 | 2940.000 | 4303.000 | 3550.000 | 3758.000 | 1589.00 | 2689.000 | 2926.000 | 3255.000 | ⋯ | 3656.000 | 4336.000 | 4734.000 | 4469.000 | 2296.000 | 2418.000 | 2349.000 | 3908.000 | 3340.000 | 3221.000 |\n",
       "| Horvu_MOREX_1H01G000600 | 1759.535 | 2989.789 | 1806.463 | 2680.405 | 2580.237 | 3770.057 | 2290.44 | 2551.647 | 2561.501 | 2173.419 | ⋯ | 2808.661 | 3316.393 | 2766.549 | 2833.275 | 2984.255 | 4250.868 | 3915.629 | 4172.974 | 4106.843 | 4045.146 |\n",
       "\n"
      ],
      "text/plain": [
       "                        ERR1248084 ERR1248085 ERR1248086 ERR1248087 ERR1248088\n",
       "Horvu_MOREX_1H01G000100 1102.000   2178.000   2399.000   3877.000    925.000  \n",
       "Horvu_MOREX_1H01G000200    3.000      4.000     38.000     14.000      1.000  \n",
       "Horvu_MOREX_1H01G000300  346.000    682.000    613.000   1097.000    369.000  \n",
       "Horvu_MOREX_1H01G000400 1282.000   1703.000    681.000   1293.000   1645.000  \n",
       "Horvu_MOREX_1H01G000500 2693.000   5151.000   2940.000   4303.000   3550.000  \n",
       "Horvu_MOREX_1H01G000600 1759.535   2989.789   1806.463   2680.405   2580.237  \n",
       "                        ERR1248089 ERR1248116 ERR1248117 ERR1248118 ERR1248119\n",
       "Horvu_MOREX_1H01G000100 2010.000   1773.00    2407.000   2224.000   3328.000  \n",
       "Horvu_MOREX_1H01G000200   65.000    641.00    2034.000   2230.000   2022.000  \n",
       "Horvu_MOREX_1H01G000300  903.000   1513.00    2346.000   2464.000   2226.000  \n",
       "Horvu_MOREX_1H01G000400 1748.000    490.00     484.000    578.000    685.000  \n",
       "Horvu_MOREX_1H01G000500 3758.000   1589.00    2689.000   2926.000   3255.000  \n",
       "Horvu_MOREX_1H01G000600 3770.057   2290.44    2551.647   2561.501   2173.419  \n",
       "                        ⋯ ERR515188 ERR515189 ERR515190 ERR515191 ERR515192\n",
       "Horvu_MOREX_1H01G000100 ⋯ 1232.000  2237.000  1503.000  1833.000  1695.000 \n",
       "Horvu_MOREX_1H01G000200 ⋯    1.000     3.000    10.000     1.000     2.000 \n",
       "Horvu_MOREX_1H01G000300 ⋯  428.000   610.000   519.000   466.000   492.000 \n",
       "Horvu_MOREX_1H01G000400 ⋯  971.000  1640.000  1312.000  1160.000  2093.000 \n",
       "Horvu_MOREX_1H01G000500 ⋯ 3656.000  4336.000  4734.000  4469.000  2296.000 \n",
       "Horvu_MOREX_1H01G000600 ⋯ 2808.661  3316.393  2766.549  2833.275  2984.255 \n",
       "                        ERR515193 ERR515194 ERR515195 ERR515196 ERR515197\n",
       "Horvu_MOREX_1H01G000100 2477.000  2265.000  2578.000  2468.000  2317.000 \n",
       "Horvu_MOREX_1H01G000200    8.000     6.000     0.000     2.000     2.000 \n",
       "Horvu_MOREX_1H01G000300  652.000   569.000   677.000   710.000   584.000 \n",
       "Horvu_MOREX_1H01G000400 2738.000  2795.000  3687.000  3044.000  3045.000 \n",
       "Horvu_MOREX_1H01G000500 2418.000  2349.000  3908.000  3340.000  3221.000 \n",
       "Horvu_MOREX_1H01G000600 4250.868  3915.629  4172.974  4106.843  4045.146 "
      ]
     },
     "metadata": {},
     "output_type": "display_data"
    }
   ],
   "source": [
    "# import count table\n",
    "setwd(\"/nfs/pgsb/projects/comparative_triticeae/phenotype/flower_development/refsets/hordeum/\")\n",
    "hord <- readRDS(\"barley_count_table_paired.rds\")\n",
    "d <- hord$counts\n",
    "dim(d)\n",
    "head(d)\n",
    "# dimensions shows that a total of 180 samples were mapped to 123 075 genes of T.aestivum"
   ]
  },
  {
   "cell_type": "code",
   "execution_count": 5,
   "metadata": {},
   "outputs": [],
   "source": [
    "non.expr.cutoff=0.5"
   ]
  },
  {
   "cell_type": "code",
   "execution_count": 6,
   "metadata": {},
   "outputs": [
    {
     "data": {
      "text/html": [
       "<table>\n",
       "<caption>A data.table: 6 × 3</caption>\n",
       "<thead>\n",
       "\t<tr><th scope=col>locus</th><th scope=col>sample_id</th><th scope=col>tpm</th></tr>\n",
       "\t<tr><th scope=col>&lt;chr&gt;</th><th scope=col>&lt;fct&gt;</th><th scope=col>&lt;dbl&gt;</th></tr>\n",
       "</thead>\n",
       "<tbody>\n",
       "\t<tr><td>Horvu_MOREX_1H01G000100</td><td>ERR1248084</td><td>1102</td></tr>\n",
       "\t<tr><td>Horvu_MOREX_1H01G000100</td><td>ERR1248085</td><td>2178</td></tr>\n",
       "\t<tr><td>Horvu_MOREX_1H01G000100</td><td>ERR1248086</td><td>2399</td></tr>\n",
       "\t<tr><td>Horvu_MOREX_1H01G000100</td><td>ERR1248087</td><td>3877</td></tr>\n",
       "\t<tr><td>Horvu_MOREX_1H01G000100</td><td>ERR1248088</td><td> 925</td></tr>\n",
       "\t<tr><td>Horvu_MOREX_1H01G000100</td><td>ERR1248089</td><td>2010</td></tr>\n",
       "</tbody>\n",
       "</table>\n"
      ],
      "text/latex": [
       "A data.table: 6 × 3\n",
       "\\begin{tabular}{lll}\n",
       " locus & sample\\_id & tpm\\\\\n",
       " <chr> & <fct> & <dbl>\\\\\n",
       "\\hline\n",
       "\t Horvu\\_MOREX\\_1H01G000100 & ERR1248084 & 1102\\\\\n",
       "\t Horvu\\_MOREX\\_1H01G000100 & ERR1248085 & 2178\\\\\n",
       "\t Horvu\\_MOREX\\_1H01G000100 & ERR1248086 & 2399\\\\\n",
       "\t Horvu\\_MOREX\\_1H01G000100 & ERR1248087 & 3877\\\\\n",
       "\t Horvu\\_MOREX\\_1H01G000100 & ERR1248088 &  925\\\\\n",
       "\t Horvu\\_MOREX\\_1H01G000100 & ERR1248089 & 2010\\\\\n",
       "\\end{tabular}\n"
      ],
      "text/markdown": [
       "\n",
       "A data.table: 6 × 3\n",
       "\n",
       "| locus &lt;chr&gt; | sample_id &lt;fct&gt; | tpm &lt;dbl&gt; |\n",
       "|---|---|---|\n",
       "| Horvu_MOREX_1H01G000100 | ERR1248084 | 1102 |\n",
       "| Horvu_MOREX_1H01G000100 | ERR1248085 | 2178 |\n",
       "| Horvu_MOREX_1H01G000100 | ERR1248086 | 2399 |\n",
       "| Horvu_MOREX_1H01G000100 | ERR1248087 | 3877 |\n",
       "| Horvu_MOREX_1H01G000100 | ERR1248088 |  925 |\n",
       "| Horvu_MOREX_1H01G000100 | ERR1248089 | 2010 |\n",
       "\n"
      ],
      "text/plain": [
       "  locus                   sample_id  tpm \n",
       "1 Horvu_MOREX_1H01G000100 ERR1248084 1102\n",
       "2 Horvu_MOREX_1H01G000100 ERR1248085 2178\n",
       "3 Horvu_MOREX_1H01G000100 ERR1248086 2399\n",
       "4 Horvu_MOREX_1H01G000100 ERR1248087 3877\n",
       "5 Horvu_MOREX_1H01G000100 ERR1248088  925\n",
       "6 Horvu_MOREX_1H01G000100 ERR1248089 2010"
      ]
     },
     "metadata": {},
     "output_type": "display_data"
    },
    {
     "data": {
      "text/html": [
       "9511233"
      ],
      "text/latex": [
       "9511233"
      ],
      "text/markdown": [
       "9511233"
      ],
      "text/plain": [
       "[1] 9511233"
      ]
     },
     "metadata": {},
     "output_type": "display_data"
    }
   ],
   "source": [
    "#m=as.data.frame(d, stringsAsFactors=FALSE)\n",
    "#m$locus=row.names(d)\n",
    "#m <- pivot_longer(m, cols = c(1:193), names_to =\"sample\",values_to=\"tpm\")\n",
    "#m <- arrange(m,locus,sample)\n",
    "#m$tpm <- as.integer(m$tpm)\n",
    "\n",
    "m=as.data.table(d)\n",
    "m$locus=row.names(d)\n",
    "m=melt(m,id.vars=c(\"locus\"),variable.name=\"sample_id\",value.name=\"tpm\")\n",
    "setkey(m,locus,sample_id)\n",
    "\n",
    "head(m)\n",
    "nrow(m)"
   ]
  },
  {
   "cell_type": "code",
   "execution_count": 15,
   "metadata": {},
   "outputs": [],
   "source": [
    "tau_func<-function(x){\n",
    "  if(any(is.na(x))) stop('NA\\'s need to be 0.')\n",
    "  if(any(x<0)) stop('Negative input values not permitted. Maybe data is log transformed?')\n",
    "  t<-sum(1-x/max(x))/(length(x)-1)\n",
    "}"
   ]
  },
  {
   "cell_type": "code",
   "execution_count": 16,
   "metadata": {},
   "outputs": [
    {
     "data": {
      "text/html": [
       "<table>\n",
       "<caption>A matrix: 6 × 193 of type dbl</caption>\n",
       "<thead>\n",
       "\t<tr><th></th><th scope=col>ERR1248084</th><th scope=col>ERR1248085</th><th scope=col>ERR1248086</th><th scope=col>ERR1248087</th><th scope=col>ERR1248088</th><th scope=col>ERR1248089</th><th scope=col>ERR1248116</th><th scope=col>ERR1248117</th><th scope=col>ERR1248118</th><th scope=col>ERR1248119</th><th scope=col>⋯</th><th scope=col>ERR515188</th><th scope=col>ERR515189</th><th scope=col>ERR515190</th><th scope=col>ERR515191</th><th scope=col>ERR515192</th><th scope=col>ERR515193</th><th scope=col>ERR515194</th><th scope=col>ERR515195</th><th scope=col>ERR515196</th><th scope=col>ERR515197</th></tr>\n",
       "</thead>\n",
       "<tbody>\n",
       "\t<tr><th scope=row>Horvu_MOREX_1H01G000100</th><td>1102.000</td><td>2178.000</td><td>2399.000</td><td>3877.000</td><td> 925.000</td><td>2010.000</td><td>1773.00</td><td>2407.000</td><td>2224.000</td><td>3328.000</td><td>⋯</td><td>1232.000</td><td>2237.000</td><td>1503.000</td><td>1833.000</td><td>1695.000</td><td>2477.000</td><td>2265.000</td><td>2578.000</td><td>2468.000</td><td>2317.000</td></tr>\n",
       "\t<tr><th scope=row>Horvu_MOREX_1H01G000200</th><td>   3.000</td><td>   4.000</td><td>  38.000</td><td>  14.000</td><td>   1.000</td><td>  65.000</td><td> 641.00</td><td>2034.000</td><td>2230.000</td><td>2022.000</td><td>⋯</td><td>   1.000</td><td>   3.000</td><td>  10.000</td><td>   1.000</td><td>   2.000</td><td>   8.000</td><td>   6.000</td><td>   0.000</td><td>   2.000</td><td>   2.000</td></tr>\n",
       "\t<tr><th scope=row>Horvu_MOREX_1H01G000300</th><td> 346.000</td><td> 682.000</td><td> 613.000</td><td>1097.000</td><td> 369.000</td><td> 903.000</td><td>1513.00</td><td>2346.000</td><td>2464.000</td><td>2226.000</td><td>⋯</td><td> 428.000</td><td> 610.000</td><td> 519.000</td><td> 466.000</td><td> 492.000</td><td> 652.000</td><td> 569.000</td><td> 677.000</td><td> 710.000</td><td> 584.000</td></tr>\n",
       "\t<tr><th scope=row>Horvu_MOREX_1H01G000400</th><td>1282.000</td><td>1703.000</td><td> 681.000</td><td>1293.000</td><td>1645.000</td><td>1748.000</td><td> 490.00</td><td> 484.000</td><td> 578.000</td><td> 685.000</td><td>⋯</td><td> 971.000</td><td>1640.000</td><td>1312.000</td><td>1160.000</td><td>2093.000</td><td>2738.000</td><td>2795.000</td><td>3687.000</td><td>3044.000</td><td>3045.000</td></tr>\n",
       "\t<tr><th scope=row>Horvu_MOREX_1H01G000500</th><td>2693.000</td><td>5151.000</td><td>2940.000</td><td>4303.000</td><td>3550.000</td><td>3758.000</td><td>1589.00</td><td>2689.000</td><td>2926.000</td><td>3255.000</td><td>⋯</td><td>3656.000</td><td>4336.000</td><td>4734.000</td><td>4469.000</td><td>2296.000</td><td>2418.000</td><td>2349.000</td><td>3908.000</td><td>3340.000</td><td>3221.000</td></tr>\n",
       "\t<tr><th scope=row>Horvu_MOREX_1H01G000600</th><td>1759.535</td><td>2989.789</td><td>1806.463</td><td>2680.405</td><td>2580.237</td><td>3770.057</td><td>2290.44</td><td>2551.647</td><td>2561.501</td><td>2173.419</td><td>⋯</td><td>2808.661</td><td>3316.393</td><td>2766.549</td><td>2833.275</td><td>2984.255</td><td>4250.868</td><td>3915.629</td><td>4172.974</td><td>4106.843</td><td>4045.146</td></tr>\n",
       "</tbody>\n",
       "</table>\n"
      ],
      "text/latex": [
       "A matrix: 6 × 193 of type dbl\n",
       "\\begin{tabular}{r|lllllllllllllllllllll}\n",
       "  & ERR1248084 & ERR1248085 & ERR1248086 & ERR1248087 & ERR1248088 & ERR1248089 & ERR1248116 & ERR1248117 & ERR1248118 & ERR1248119 & ⋯ & ERR515188 & ERR515189 & ERR515190 & ERR515191 & ERR515192 & ERR515193 & ERR515194 & ERR515195 & ERR515196 & ERR515197\\\\\n",
       "\\hline\n",
       "\tHorvu\\_MOREX\\_1H01G000100 & 1102.000 & 2178.000 & 2399.000 & 3877.000 &  925.000 & 2010.000 & 1773.00 & 2407.000 & 2224.000 & 3328.000 & ⋯ & 1232.000 & 2237.000 & 1503.000 & 1833.000 & 1695.000 & 2477.000 & 2265.000 & 2578.000 & 2468.000 & 2317.000\\\\\n",
       "\tHorvu\\_MOREX\\_1H01G000200 &    3.000 &    4.000 &   38.000 &   14.000 &    1.000 &   65.000 &  641.00 & 2034.000 & 2230.000 & 2022.000 & ⋯ &    1.000 &    3.000 &   10.000 &    1.000 &    2.000 &    8.000 &    6.000 &    0.000 &    2.000 &    2.000\\\\\n",
       "\tHorvu\\_MOREX\\_1H01G000300 &  346.000 &  682.000 &  613.000 & 1097.000 &  369.000 &  903.000 & 1513.00 & 2346.000 & 2464.000 & 2226.000 & ⋯ &  428.000 &  610.000 &  519.000 &  466.000 &  492.000 &  652.000 &  569.000 &  677.000 &  710.000 &  584.000\\\\\n",
       "\tHorvu\\_MOREX\\_1H01G000400 & 1282.000 & 1703.000 &  681.000 & 1293.000 & 1645.000 & 1748.000 &  490.00 &  484.000 &  578.000 &  685.000 & ⋯ &  971.000 & 1640.000 & 1312.000 & 1160.000 & 2093.000 & 2738.000 & 2795.000 & 3687.000 & 3044.000 & 3045.000\\\\\n",
       "\tHorvu\\_MOREX\\_1H01G000500 & 2693.000 & 5151.000 & 2940.000 & 4303.000 & 3550.000 & 3758.000 & 1589.00 & 2689.000 & 2926.000 & 3255.000 & ⋯ & 3656.000 & 4336.000 & 4734.000 & 4469.000 & 2296.000 & 2418.000 & 2349.000 & 3908.000 & 3340.000 & 3221.000\\\\\n",
       "\tHorvu\\_MOREX\\_1H01G000600 & 1759.535 & 2989.789 & 1806.463 & 2680.405 & 2580.237 & 3770.057 & 2290.44 & 2551.647 & 2561.501 & 2173.419 & ⋯ & 2808.661 & 3316.393 & 2766.549 & 2833.275 & 2984.255 & 4250.868 & 3915.629 & 4172.974 & 4106.843 & 4045.146\\\\\n",
       "\\end{tabular}\n"
      ],
      "text/markdown": [
       "\n",
       "A matrix: 6 × 193 of type dbl\n",
       "\n",
       "| <!--/--> | ERR1248084 | ERR1248085 | ERR1248086 | ERR1248087 | ERR1248088 | ERR1248089 | ERR1248116 | ERR1248117 | ERR1248118 | ERR1248119 | ⋯ | ERR515188 | ERR515189 | ERR515190 | ERR515191 | ERR515192 | ERR515193 | ERR515194 | ERR515195 | ERR515196 | ERR515197 |\n",
       "|---|---|---|---|---|---|---|---|---|---|---|---|---|---|---|---|---|---|---|---|---|---|\n",
       "| Horvu_MOREX_1H01G000100 | 1102.000 | 2178.000 | 2399.000 | 3877.000 |  925.000 | 2010.000 | 1773.00 | 2407.000 | 2224.000 | 3328.000 | ⋯ | 1232.000 | 2237.000 | 1503.000 | 1833.000 | 1695.000 | 2477.000 | 2265.000 | 2578.000 | 2468.000 | 2317.000 |\n",
       "| Horvu_MOREX_1H01G000200 |    3.000 |    4.000 |   38.000 |   14.000 |    1.000 |   65.000 |  641.00 | 2034.000 | 2230.000 | 2022.000 | ⋯ |    1.000 |    3.000 |   10.000 |    1.000 |    2.000 |    8.000 |    6.000 |    0.000 |    2.000 |    2.000 |\n",
       "| Horvu_MOREX_1H01G000300 |  346.000 |  682.000 |  613.000 | 1097.000 |  369.000 |  903.000 | 1513.00 | 2346.000 | 2464.000 | 2226.000 | ⋯ |  428.000 |  610.000 |  519.000 |  466.000 |  492.000 |  652.000 |  569.000 |  677.000 |  710.000 |  584.000 |\n",
       "| Horvu_MOREX_1H01G000400 | 1282.000 | 1703.000 |  681.000 | 1293.000 | 1645.000 | 1748.000 |  490.00 |  484.000 |  578.000 |  685.000 | ⋯ |  971.000 | 1640.000 | 1312.000 | 1160.000 | 2093.000 | 2738.000 | 2795.000 | 3687.000 | 3044.000 | 3045.000 |\n",
       "| Horvu_MOREX_1H01G000500 | 2693.000 | 5151.000 | 2940.000 | 4303.000 | 3550.000 | 3758.000 | 1589.00 | 2689.000 | 2926.000 | 3255.000 | ⋯ | 3656.000 | 4336.000 | 4734.000 | 4469.000 | 2296.000 | 2418.000 | 2349.000 | 3908.000 | 3340.000 | 3221.000 |\n",
       "| Horvu_MOREX_1H01G000600 | 1759.535 | 2989.789 | 1806.463 | 2680.405 | 2580.237 | 3770.057 | 2290.44 | 2551.647 | 2561.501 | 2173.419 | ⋯ | 2808.661 | 3316.393 | 2766.549 | 2833.275 | 2984.255 | 4250.868 | 3915.629 | 4172.974 | 4106.843 | 4045.146 |\n",
       "\n"
      ],
      "text/plain": [
       "                        ERR1248084 ERR1248085 ERR1248086 ERR1248087 ERR1248088\n",
       "Horvu_MOREX_1H01G000100 1102.000   2178.000   2399.000   3877.000    925.000  \n",
       "Horvu_MOREX_1H01G000200    3.000      4.000     38.000     14.000      1.000  \n",
       "Horvu_MOREX_1H01G000300  346.000    682.000    613.000   1097.000    369.000  \n",
       "Horvu_MOREX_1H01G000400 1282.000   1703.000    681.000   1293.000   1645.000  \n",
       "Horvu_MOREX_1H01G000500 2693.000   5151.000   2940.000   4303.000   3550.000  \n",
       "Horvu_MOREX_1H01G000600 1759.535   2989.789   1806.463   2680.405   2580.237  \n",
       "                        ERR1248089 ERR1248116 ERR1248117 ERR1248118 ERR1248119\n",
       "Horvu_MOREX_1H01G000100 2010.000   1773.00    2407.000   2224.000   3328.000  \n",
       "Horvu_MOREX_1H01G000200   65.000    641.00    2034.000   2230.000   2022.000  \n",
       "Horvu_MOREX_1H01G000300  903.000   1513.00    2346.000   2464.000   2226.000  \n",
       "Horvu_MOREX_1H01G000400 1748.000    490.00     484.000    578.000    685.000  \n",
       "Horvu_MOREX_1H01G000500 3758.000   1589.00    2689.000   2926.000   3255.000  \n",
       "Horvu_MOREX_1H01G000600 3770.057   2290.44    2551.647   2561.501   2173.419  \n",
       "                        ⋯ ERR515188 ERR515189 ERR515190 ERR515191 ERR515192\n",
       "Horvu_MOREX_1H01G000100 ⋯ 1232.000  2237.000  1503.000  1833.000  1695.000 \n",
       "Horvu_MOREX_1H01G000200 ⋯    1.000     3.000    10.000     1.000     2.000 \n",
       "Horvu_MOREX_1H01G000300 ⋯  428.000   610.000   519.000   466.000   492.000 \n",
       "Horvu_MOREX_1H01G000400 ⋯  971.000  1640.000  1312.000  1160.000  2093.000 \n",
       "Horvu_MOREX_1H01G000500 ⋯ 3656.000  4336.000  4734.000  4469.000  2296.000 \n",
       "Horvu_MOREX_1H01G000600 ⋯ 2808.661  3316.393  2766.549  2833.275  2984.255 \n",
       "                        ERR515193 ERR515194 ERR515195 ERR515196 ERR515197\n",
       "Horvu_MOREX_1H01G000100 2477.000  2265.000  2578.000  2468.000  2317.000 \n",
       "Horvu_MOREX_1H01G000200    8.000     6.000     0.000     2.000     2.000 \n",
       "Horvu_MOREX_1H01G000300  652.000   569.000   677.000   710.000   584.000 \n",
       "Horvu_MOREX_1H01G000400 2738.000  2795.000  3687.000  3044.000  3045.000 \n",
       "Horvu_MOREX_1H01G000500 2418.000  2349.000  3908.000  3340.000  3221.000 \n",
       "Horvu_MOREX_1H01G000600 4250.868  3915.629  4172.974  4106.843  4045.146 "
      ]
     },
     "metadata": {},
     "output_type": "display_data"
    },
    {
     "data": {
      "text/html": [
       "<style>\n",
       ".dl-inline {width: auto; margin:0; padding: 0}\n",
       ".dl-inline>dt, .dl-inline>dd {float: none; width: auto; display: inline-block}\n",
       ".dl-inline>dt::after {content: \":\\0020\"; padding-right: .5ex}\n",
       ".dl-inline>dt:not(:first-of-type) {padding-left: .5ex}\n",
       "</style><dl class=dl-inline><dt>Horvu_MOREX_1H01G000100</dt><dd>0.849465026395174</dd><dt>Horvu_MOREX_1H01G000200</dt><dd>0.927251494768311</dd><dt>Horvu_MOREX_1H01G000300</dt><dd>0.842513138138138</dd><dt>Horvu_MOREX_1H01G000400</dt><dd>0.852703842804267</dd><dt>Horvu_MOREX_1H01G000500</dt><dd>0.798769229088366</dd><dt>Horvu_MOREX_1H01G000600</dt><dd>0.676759294314271</dd></dl>\n"
      ],
      "text/latex": [
       "\\begin{description*}\n",
       "\\item[Horvu\\textbackslash{}\\_MOREX\\textbackslash{}\\_1H01G000100] 0.849465026395174\n",
       "\\item[Horvu\\textbackslash{}\\_MOREX\\textbackslash{}\\_1H01G000200] 0.927251494768311\n",
       "\\item[Horvu\\textbackslash{}\\_MOREX\\textbackslash{}\\_1H01G000300] 0.842513138138138\n",
       "\\item[Horvu\\textbackslash{}\\_MOREX\\textbackslash{}\\_1H01G000400] 0.852703842804267\n",
       "\\item[Horvu\\textbackslash{}\\_MOREX\\textbackslash{}\\_1H01G000500] 0.798769229088366\n",
       "\\item[Horvu\\textbackslash{}\\_MOREX\\textbackslash{}\\_1H01G000600] 0.676759294314271\n",
       "\\end{description*}\n"
      ],
      "text/markdown": [
       "Horvu_MOREX_1H01G000100\n",
       ":   0.849465026395174Horvu_MOREX_1H01G000200\n",
       ":   0.927251494768311Horvu_MOREX_1H01G000300\n",
       ":   0.842513138138138Horvu_MOREX_1H01G000400\n",
       ":   0.852703842804267Horvu_MOREX_1H01G000500\n",
       ":   0.798769229088366Horvu_MOREX_1H01G000600\n",
       ":   0.676759294314271\n",
       "\n"
      ],
      "text/plain": [
       "Horvu_MOREX_1H01G000100 Horvu_MOREX_1H01G000200 Horvu_MOREX_1H01G000300 \n",
       "              0.8494650               0.9272515               0.8425131 \n",
       "Horvu_MOREX_1H01G000400 Horvu_MOREX_1H01G000500 Horvu_MOREX_1H01G000600 \n",
       "              0.8527038               0.7987692               0.6767593 "
      ]
     },
     "metadata": {},
     "output_type": "display_data"
    }
   ],
   "source": [
    "head(d)\n",
    "tau=apply(d,1,tau_func)\n",
    "head(tau)"
   ]
  },
  {
   "cell_type": "code",
   "execution_count": 12,
   "metadata": {},
   "outputs": [
    {
     "data": {
      "text/html": [
       "<table>\n",
       "<caption>A data.table: 6 × 6</caption>\n",
       "<thead>\n",
       "\t<tr><th scope=col>sample</th><th scope=col>locus</th><th scope=col>min_tpm</th><th scope=col>median_tpm</th><th scope=col>max_tpm</th><th scope=col>breadth</th></tr>\n",
       "\t<tr><th scope=col>&lt;fct&gt;</th><th scope=col>&lt;chr&gt;</th><th scope=col>&lt;dbl&gt;</th><th scope=col>&lt;dbl&gt;</th><th scope=col>&lt;dbl&gt;</th><th scope=col>&lt;dbl&gt;</th></tr>\n",
       "</thead>\n",
       "<tbody>\n",
       "\t<tr><td>ERR1248084</td><td>Horvu_MOREX_1H01G000100</td><td>207</td><td>1389</td><td>9724</td><td>1</td></tr>\n",
       "\t<tr><td>ERR1248085</td><td>Horvu_MOREX_1H01G000100</td><td>207</td><td>1389</td><td>9724</td><td>1</td></tr>\n",
       "\t<tr><td>ERR1248086</td><td>Horvu_MOREX_1H01G000100</td><td>207</td><td>1389</td><td>9724</td><td>1</td></tr>\n",
       "\t<tr><td>ERR1248087</td><td>Horvu_MOREX_1H01G000100</td><td>207</td><td>1389</td><td>9724</td><td>1</td></tr>\n",
       "\t<tr><td>ERR1248088</td><td>Horvu_MOREX_1H01G000100</td><td>207</td><td>1389</td><td>9724</td><td>1</td></tr>\n",
       "\t<tr><td>ERR1248089</td><td>Horvu_MOREX_1H01G000100</td><td>207</td><td>1389</td><td>9724</td><td>1</td></tr>\n",
       "</tbody>\n",
       "</table>\n"
      ],
      "text/latex": [
       "A data.table: 6 × 6\n",
       "\\begin{tabular}{llllll}\n",
       " sample & locus & min\\_tpm & median\\_tpm & max\\_tpm & breadth\\\\\n",
       " <fct> & <chr> & <dbl> & <dbl> & <dbl> & <dbl>\\\\\n",
       "\\hline\n",
       "\t ERR1248084 & Horvu\\_MOREX\\_1H01G000100 & 207 & 1389 & 9724 & 1\\\\\n",
       "\t ERR1248085 & Horvu\\_MOREX\\_1H01G000100 & 207 & 1389 & 9724 & 1\\\\\n",
       "\t ERR1248086 & Horvu\\_MOREX\\_1H01G000100 & 207 & 1389 & 9724 & 1\\\\\n",
       "\t ERR1248087 & Horvu\\_MOREX\\_1H01G000100 & 207 & 1389 & 9724 & 1\\\\\n",
       "\t ERR1248088 & Horvu\\_MOREX\\_1H01G000100 & 207 & 1389 & 9724 & 1\\\\\n",
       "\t ERR1248089 & Horvu\\_MOREX\\_1H01G000100 & 207 & 1389 & 9724 & 1\\\\\n",
       "\\end{tabular}\n"
      ],
      "text/markdown": [
       "\n",
       "A data.table: 6 × 6\n",
       "\n",
       "| sample &lt;fct&gt; | locus &lt;chr&gt; | min_tpm &lt;dbl&gt; | median_tpm &lt;dbl&gt; | max_tpm &lt;dbl&gt; | breadth &lt;dbl&gt; |\n",
       "|---|---|---|---|---|---|\n",
       "| ERR1248084 | Horvu_MOREX_1H01G000100 | 207 | 1389 | 9724 | 1 |\n",
       "| ERR1248085 | Horvu_MOREX_1H01G000100 | 207 | 1389 | 9724 | 1 |\n",
       "| ERR1248086 | Horvu_MOREX_1H01G000100 | 207 | 1389 | 9724 | 1 |\n",
       "| ERR1248087 | Horvu_MOREX_1H01G000100 | 207 | 1389 | 9724 | 1 |\n",
       "| ERR1248088 | Horvu_MOREX_1H01G000100 | 207 | 1389 | 9724 | 1 |\n",
       "| ERR1248089 | Horvu_MOREX_1H01G000100 | 207 | 1389 | 9724 | 1 |\n",
       "\n"
      ],
      "text/plain": [
       "  sample     locus                   min_tpm median_tpm max_tpm breadth\n",
       "1 ERR1248084 Horvu_MOREX_1H01G000100 207     1389       9724    1      \n",
       "2 ERR1248085 Horvu_MOREX_1H01G000100 207     1389       9724    1      \n",
       "3 ERR1248086 Horvu_MOREX_1H01G000100 207     1389       9724    1      \n",
       "4 ERR1248087 Horvu_MOREX_1H01G000100 207     1389       9724    1      \n",
       "5 ERR1248088 Horvu_MOREX_1H01G000100 207     1389       9724    1      \n",
       "6 ERR1248089 Horvu_MOREX_1H01G000100 207     1389       9724    1      "
      ]
     },
     "metadata": {},
     "output_type": "display_data"
    },
    {
     "data": {
      "text/html": [
       "9511233"
      ],
      "text/latex": [
       "9511233"
      ],
      "text/markdown": [
       "9511233"
      ],
      "text/plain": [
       "[1] 9511233"
      ]
     },
     "metadata": {},
     "output_type": "display_data"
    }
   ],
   "source": [
    "#Mall <- mutate(m, sample=sample, min_tpm=min(tpm,na.rm=TRUE),median_tpm=median(tpm,na.rm=TRUE),max_tpm=max(tpm,na.rm=TRUE),breadth=length(tpm[tpm>non.expr.cutoff])/length(tpm))\n",
    "#Mall <- select(Mall, sample, locus, min_tpm, median_tpm, max_tpm, breadth)\n",
    "# setkey sorts a data.table and marks it as sorted with an attribute sorted. The sorted columns are the key. \n",
    "# The key can be any number of columns. The columns are always sorted in ascending order. \n",
    "# The table is changed by reference and setkey is very memory efficient\n",
    "#Mall <- arrange(Mall,sample)\n",
    "#Mall$sample <- as.character(Mall$sample)\n",
    "#Mall$breadth <- as.integer(Mall$breadth)\n",
    "\n",
    "Mall = m[,list(sample_id=sample_id, min_tpm=min(tpm,na.rm=TRUE),median_tpm=median(tpm,na.rm=TRUE),max_tpm=max(tpm,na.rm=TRUE),breadth=length(tpm[tpm>non.expr.cutoff])/length(tpm)),by=list(locus)]\n",
    "Mall = data.table(sample=Mall$sample_id, locus=Mall$locus,min_tpm=Mall$min_tpm, median_tpm=Mall$median_tpm, max_tpm=Mall$max_tpm, breadth=Mall$breadth)\n",
    "setkey(Mall,locus)\n",
    "\n",
    "head(Mall)\n",
    "nrow(Mall)"
   ]
  },
  {
   "cell_type": "code",
   "execution_count": 17,
   "metadata": {},
   "outputs": [
    {
     "data": {
      "text/html": [
       "<table>\n",
       "<caption>A data.table: 6 × 2</caption>\n",
       "<thead>\n",
       "\t<tr><th scope=col>locus</th><th scope=col>tau</th></tr>\n",
       "\t<tr><th scope=col>&lt;fct&gt;</th><th scope=col>&lt;dbl&gt;</th></tr>\n",
       "</thead>\n",
       "<tbody>\n",
       "\t<tr><td>Horvu_MOREX_1H01G000100</td><td>0.8494650</td></tr>\n",
       "\t<tr><td>Horvu_MOREX_1H01G000200</td><td>0.9272515</td></tr>\n",
       "\t<tr><td>Horvu_MOREX_1H01G000300</td><td>0.8425131</td></tr>\n",
       "\t<tr><td>Horvu_MOREX_1H01G000400</td><td>0.8527038</td></tr>\n",
       "\t<tr><td>Horvu_MOREX_1H01G000500</td><td>0.7987692</td></tr>\n",
       "\t<tr><td>Horvu_MOREX_1H01G000600</td><td>0.6767593</td></tr>\n",
       "</tbody>\n",
       "</table>\n"
      ],
      "text/latex": [
       "A data.table: 6 × 2\n",
       "\\begin{tabular}{ll}\n",
       " locus & tau\\\\\n",
       " <fct> & <dbl>\\\\\n",
       "\\hline\n",
       "\t Horvu\\_MOREX\\_1H01G000100 & 0.8494650\\\\\n",
       "\t Horvu\\_MOREX\\_1H01G000200 & 0.9272515\\\\\n",
       "\t Horvu\\_MOREX\\_1H01G000300 & 0.8425131\\\\\n",
       "\t Horvu\\_MOREX\\_1H01G000400 & 0.8527038\\\\\n",
       "\t Horvu\\_MOREX\\_1H01G000500 & 0.7987692\\\\\n",
       "\t Horvu\\_MOREX\\_1H01G000600 & 0.6767593\\\\\n",
       "\\end{tabular}\n"
      ],
      "text/markdown": [
       "\n",
       "A data.table: 6 × 2\n",
       "\n",
       "| locus &lt;fct&gt; | tau &lt;dbl&gt; |\n",
       "|---|---|\n",
       "| Horvu_MOREX_1H01G000100 | 0.8494650 |\n",
       "| Horvu_MOREX_1H01G000200 | 0.9272515 |\n",
       "| Horvu_MOREX_1H01G000300 | 0.8425131 |\n",
       "| Horvu_MOREX_1H01G000400 | 0.8527038 |\n",
       "| Horvu_MOREX_1H01G000500 | 0.7987692 |\n",
       "| Horvu_MOREX_1H01G000600 | 0.6767593 |\n",
       "\n"
      ],
      "text/plain": [
       "  locus                   tau      \n",
       "1 Horvu_MOREX_1H01G000100 0.8494650\n",
       "2 Horvu_MOREX_1H01G000200 0.9272515\n",
       "3 Horvu_MOREX_1H01G000300 0.8425131\n",
       "4 Horvu_MOREX_1H01G000400 0.8527038\n",
       "5 Horvu_MOREX_1H01G000500 0.7987692\n",
       "6 Horvu_MOREX_1H01G000600 0.6767593"
      ]
     },
     "metadata": {},
     "output_type": "display_data"
    },
    {
     "data": {
      "text/html": [
       "49281"
      ],
      "text/latex": [
       "49281"
      ],
      "text/markdown": [
       "49281"
      ],
      "text/plain": [
       "[1] 49281"
      ]
     },
     "metadata": {},
     "output_type": "display_data"
    }
   ],
   "source": [
    "#tau <- as.data.frame(tau, stringsAsFactors = FALSE)\n",
    "#tau$locus <- row.names(tau)\n",
    "#tau <- arrange(tau,locus)\n",
    "\n",
    "tau=as.data.table(data.frame(locus=names(tau),tau=tau))\n",
    "setkey(tau,locus)\n",
    "\n",
    "head(tau)\n",
    "nrow(tau)"
   ]
  },
  {
   "cell_type": "code",
   "execution_count": 18,
   "metadata": {},
   "outputs": [
    {
     "data": {
      "text/html": [
       "<table>\n",
       "<caption>A data.table: 6 × 7</caption>\n",
       "<thead>\n",
       "\t<tr><th scope=col>locus</th><th scope=col>sample</th><th scope=col>min_tpm</th><th scope=col>median_tpm</th><th scope=col>max_tpm</th><th scope=col>breadth</th><th scope=col>tau</th></tr>\n",
       "\t<tr><th scope=col>&lt;fct&gt;</th><th scope=col>&lt;fct&gt;</th><th scope=col>&lt;dbl&gt;</th><th scope=col>&lt;dbl&gt;</th><th scope=col>&lt;dbl&gt;</th><th scope=col>&lt;dbl&gt;</th><th scope=col>&lt;dbl&gt;</th></tr>\n",
       "</thead>\n",
       "<tbody>\n",
       "\t<tr><td>Horvu_MOREX_1H01G000100</td><td>ERR1248084</td><td>207</td><td>1389</td><td>9724</td><td>1</td><td>0.849465</td></tr>\n",
       "\t<tr><td>Horvu_MOREX_1H01G000100</td><td>ERR1248085</td><td>207</td><td>1389</td><td>9724</td><td>1</td><td>0.849465</td></tr>\n",
       "\t<tr><td>Horvu_MOREX_1H01G000100</td><td>ERR1248086</td><td>207</td><td>1389</td><td>9724</td><td>1</td><td>0.849465</td></tr>\n",
       "\t<tr><td>Horvu_MOREX_1H01G000100</td><td>ERR1248087</td><td>207</td><td>1389</td><td>9724</td><td>1</td><td>0.849465</td></tr>\n",
       "\t<tr><td>Horvu_MOREX_1H01G000100</td><td>ERR1248088</td><td>207</td><td>1389</td><td>9724</td><td>1</td><td>0.849465</td></tr>\n",
       "\t<tr><td>Horvu_MOREX_1H01G000100</td><td>ERR1248089</td><td>207</td><td>1389</td><td>9724</td><td>1</td><td>0.849465</td></tr>\n",
       "</tbody>\n",
       "</table>\n"
      ],
      "text/latex": [
       "A data.table: 6 × 7\n",
       "\\begin{tabular}{lllllll}\n",
       " locus & sample & min\\_tpm & median\\_tpm & max\\_tpm & breadth & tau\\\\\n",
       " <fct> & <fct> & <dbl> & <dbl> & <dbl> & <dbl> & <dbl>\\\\\n",
       "\\hline\n",
       "\t Horvu\\_MOREX\\_1H01G000100 & ERR1248084 & 207 & 1389 & 9724 & 1 & 0.849465\\\\\n",
       "\t Horvu\\_MOREX\\_1H01G000100 & ERR1248085 & 207 & 1389 & 9724 & 1 & 0.849465\\\\\n",
       "\t Horvu\\_MOREX\\_1H01G000100 & ERR1248086 & 207 & 1389 & 9724 & 1 & 0.849465\\\\\n",
       "\t Horvu\\_MOREX\\_1H01G000100 & ERR1248087 & 207 & 1389 & 9724 & 1 & 0.849465\\\\\n",
       "\t Horvu\\_MOREX\\_1H01G000100 & ERR1248088 & 207 & 1389 & 9724 & 1 & 0.849465\\\\\n",
       "\t Horvu\\_MOREX\\_1H01G000100 & ERR1248089 & 207 & 1389 & 9724 & 1 & 0.849465\\\\\n",
       "\\end{tabular}\n"
      ],
      "text/markdown": [
       "\n",
       "A data.table: 6 × 7\n",
       "\n",
       "| locus &lt;fct&gt; | sample &lt;fct&gt; | min_tpm &lt;dbl&gt; | median_tpm &lt;dbl&gt; | max_tpm &lt;dbl&gt; | breadth &lt;dbl&gt; | tau &lt;dbl&gt; |\n",
       "|---|---|---|---|---|---|---|\n",
       "| Horvu_MOREX_1H01G000100 | ERR1248084 | 207 | 1389 | 9724 | 1 | 0.849465 |\n",
       "| Horvu_MOREX_1H01G000100 | ERR1248085 | 207 | 1389 | 9724 | 1 | 0.849465 |\n",
       "| Horvu_MOREX_1H01G000100 | ERR1248086 | 207 | 1389 | 9724 | 1 | 0.849465 |\n",
       "| Horvu_MOREX_1H01G000100 | ERR1248087 | 207 | 1389 | 9724 | 1 | 0.849465 |\n",
       "| Horvu_MOREX_1H01G000100 | ERR1248088 | 207 | 1389 | 9724 | 1 | 0.849465 |\n",
       "| Horvu_MOREX_1H01G000100 | ERR1248089 | 207 | 1389 | 9724 | 1 | 0.849465 |\n",
       "\n"
      ],
      "text/plain": [
       "  locus                   sample     min_tpm median_tpm max_tpm breadth\n",
       "1 Horvu_MOREX_1H01G000100 ERR1248084 207     1389       9724    1      \n",
       "2 Horvu_MOREX_1H01G000100 ERR1248085 207     1389       9724    1      \n",
       "3 Horvu_MOREX_1H01G000100 ERR1248086 207     1389       9724    1      \n",
       "4 Horvu_MOREX_1H01G000100 ERR1248087 207     1389       9724    1      \n",
       "5 Horvu_MOREX_1H01G000100 ERR1248088 207     1389       9724    1      \n",
       "6 Horvu_MOREX_1H01G000100 ERR1248089 207     1389       9724    1      \n",
       "  tau     \n",
       "1 0.849465\n",
       "2 0.849465\n",
       "3 0.849465\n",
       "4 0.849465\n",
       "5 0.849465\n",
       "6 0.849465"
      ]
     },
     "metadata": {},
     "output_type": "display_data"
    }
   ],
   "source": [
    "#Mall <- full_join(Mall,tau, by= \"locus\")\n",
    "#Mall$min_tpm <- as.numeric(Mall$min_tpm)\n",
    "#Mall$median_tpm <- as.numeric(Mall$median_tpm)\n",
    "#Mall$max_tpm <- as.numeric(Mall$max_tpm)\n",
    "Mall=merge(Mall,tau)\n",
    "head(Mall)"
   ]
  },
  {
   "cell_type": "code",
   "execution_count": 19,
   "metadata": {},
   "outputs": [
    {
     "data": {
      "text/html": [
       "9511233"
      ],
      "text/latex": [
       "9511233"
      ],
      "text/markdown": [
       "9511233"
      ],
      "text/plain": [
       "[1] 9511233"
      ]
     },
     "metadata": {},
     "output_type": "display_data"
    },
    {
     "data": {
      "text/html": [
       "7"
      ],
      "text/latex": [
       "7"
      ],
      "text/markdown": [
       "7"
      ],
      "text/plain": [
       "[1] 7"
      ]
     },
     "metadata": {},
     "output_type": "display_data"
    }
   ],
   "source": [
    "nrow(Mall)\n",
    "ncol(Mall)"
   ]
  },
  {
   "cell_type": "code",
   "execution_count": 20,
   "metadata": {},
   "outputs": [],
   "source": [
    "get_elc=function(cut,f,n) {\n",
    "    s=Mall\n",
    "    sx=s[s[[f]]>cut]\n",
    "    k=kmeans(log(sx[,f,with=FALSE]+cut),4)\n",
    "    kk=ordered(k$cluster,levels=order(k$centers))\n",
    "    levels(kk)=paste(\"E\",1:4,sep=\"\")\n",
    "    so=ordered(rep(\"E0\",nrow(s)),levels=paste(\"E\",0:4,sep=\"\"))\n",
    "    so[s[[f]]>cut]=kk\n",
    "    so=data.frame(o=so)\n",
    "    names(so)[ncol(so)]=gsub(\"tpm\",\"elc\",n)\n",
    "    so\n",
    "}"
   ]
  },
  {
   "cell_type": "code",
   "execution_count": 26,
   "metadata": {},
   "outputs": [
    {
     "ename": "ERROR",
     "evalue": "Error: recursive indexing failed at level 2\n\n",
     "output_type": "error",
     "traceback": [
      "Error: recursive indexing failed at level 2\n\nTraceback:\n",
      "1. Mall[Mall[[3:5]] > 0.5]",
      "2. `[.data.table`(Mall, Mall[[3:5]] > 0.5)",
      "3. tryCatch(eval(.massagei(isub), x, parent.frame()), error = function(e) .checkTypos(e, \n .     names(x)))",
      "4. tryCatchList(expr, classes, parentenv, handlers)",
      "5. tryCatchOne(expr, names, parentenv, handlers[[1L]])",
      "6. value[[3L]](cond)",
      "7. .checkTypos(e, names(x))",
      "8. stop(err$message, call. = FALSE)"
     ]
    }
   ],
   "source": [
    "sx=Mall[Mall[[3:5]]>0.5]"
   ]
  },
  {
   "cell_type": "code",
   "execution_count": 22,
   "metadata": {},
   "outputs": [
    {
     "ename": "ERROR",
     "evalue": "Error in get_elc(non.expr.cutoff, i, names(Mall)[i]): task 1 failed - \"undefined columns selected\"\n",
     "output_type": "error",
     "traceback": [
      "Error in get_elc(non.expr.cutoff, i, names(Mall)[i]): task 1 failed - \"undefined columns selected\"\nTraceback:\n",
      "1. foreach(i = 1:9511233, .combine = \"cbind\") %dopar% get_elc(non.expr.cutoff, \n .     i, names(Mall)[i])",
      "2. e$fun(obj, substitute(ex), parent.frame(), e$data)"
     ]
    }
   ],
   "source": [
    "cl <- makeCluster(60)\n",
    "registerDoParallel(cl)\n",
    "MO <- foreach(i=1:9511233,\n",
    "              .combine=\"cbind\") %dopar% get_elc(non.expr.cutoff,i,names(Mall)[i])\n",
    "stopCluster(cl)\n",
    "\n",
    "MO <- inner_join(Mall, MO, by = \"locus\")\n",
    "MO <- arrange(MO,sample)"
   ]
  },
  {
   "cell_type": "code",
   "execution_count": 17,
   "metadata": {},
   "outputs": [
    {
     "data": {
      "text/html": [
       "<table>\n",
       "<caption>A data.table: 6 × 10</caption>\n",
       "<thead>\n",
       "\t<tr><th scope=col>locus</th><th scope=col>min_tpm</th><th scope=col>median_tpm</th><th scope=col>max_tpm</th><th scope=col>breadth</th><th scope=col>tau</th><th scope=col>min_elc</th><th scope=col>median_elc</th><th scope=col>max_elc</th><th scope=col>blc</th></tr>\n",
       "\t<tr><th scope=col>&lt;fct&gt;</th><th scope=col>&lt;dbl&gt;</th><th scope=col>&lt;dbl&gt;</th><th scope=col>&lt;dbl&gt;</th><th scope=col>&lt;dbl&gt;</th><th scope=col>&lt;dbl&gt;</th><th scope=col>&lt;ord&gt;</th><th scope=col>&lt;ord&gt;</th><th scope=col>&lt;ord&gt;</th><th scope=col>&lt;fct&gt;</th></tr>\n",
       "</thead>\n",
       "<tbody>\n",
       "\t<tr><td>Horvu_MOREX_1H01G000100</td><td>207</td><td>1389.000</td><td> 9724.000</td><td>1.0000000</td><td>0.8494650</td><td>E4</td><td>E4</td><td>E4</td><td>most</td></tr>\n",
       "\t<tr><td>Horvu_MOREX_1H01G000200</td><td>  0</td><td>   6.000</td><td> 2230.000</td><td>0.8031088</td><td>0.9272515</td><td>E0</td><td>E1</td><td>E3</td><td>most</td></tr>\n",
       "\t<tr><td>Horvu_MOREX_1H01G000300</td><td> 17</td><td> 329.000</td><td> 2775.000</td><td>1.0000000</td><td>0.8425131</td><td>E2</td><td>E3</td><td>E3</td><td>most</td></tr>\n",
       "\t<tr><td>Horvu_MOREX_1H01G000400</td><td> 16</td><td> 583.000</td><td> 6124.000</td><td>1.0000000</td><td>0.8527038</td><td>E2</td><td>E4</td><td>E4</td><td>most</td></tr>\n",
       "\t<tr><td>Horvu_MOREX_1H01G000500</td><td>181</td><td>1891.000</td><td>11441.000</td><td>1.0000000</td><td>0.7987692</td><td>E4</td><td>E4</td><td>E4</td><td>most</td></tr>\n",
       "\t<tr><td>Horvu_MOREX_1H01G000600</td><td> 38</td><td>1005.952</td><td> 4267.252</td><td>1.0000000</td><td>0.6767593</td><td>E3</td><td>E4</td><td>E4</td><td>most</td></tr>\n",
       "</tbody>\n",
       "</table>\n"
      ],
      "text/latex": [
       "A data.table: 6 × 10\n",
       "\\begin{tabular}{llllllllll}\n",
       " locus & min\\_tpm & median\\_tpm & max\\_tpm & breadth & tau & min\\_elc & median\\_elc & max\\_elc & blc\\\\\n",
       " <fct> & <dbl> & <dbl> & <dbl> & <dbl> & <dbl> & <ord> & <ord> & <ord> & <fct>\\\\\n",
       "\\hline\n",
       "\t Horvu\\_MOREX\\_1H01G000100 & 207 & 1389.000 &  9724.000 & 1.0000000 & 0.8494650 & E4 & E4 & E4 & most\\\\\n",
       "\t Horvu\\_MOREX\\_1H01G000200 &   0 &    6.000 &  2230.000 & 0.8031088 & 0.9272515 & E0 & E1 & E3 & most\\\\\n",
       "\t Horvu\\_MOREX\\_1H01G000300 &  17 &  329.000 &  2775.000 & 1.0000000 & 0.8425131 & E2 & E3 & E3 & most\\\\\n",
       "\t Horvu\\_MOREX\\_1H01G000400 &  16 &  583.000 &  6124.000 & 1.0000000 & 0.8527038 & E2 & E4 & E4 & most\\\\\n",
       "\t Horvu\\_MOREX\\_1H01G000500 & 181 & 1891.000 & 11441.000 & 1.0000000 & 0.7987692 & E4 & E4 & E4 & most\\\\\n",
       "\t Horvu\\_MOREX\\_1H01G000600 &  38 & 1005.952 &  4267.252 & 1.0000000 & 0.6767593 & E3 & E4 & E4 & most\\\\\n",
       "\\end{tabular}\n"
      ],
      "text/markdown": [
       "\n",
       "A data.table: 6 × 10\n",
       "\n",
       "| locus &lt;fct&gt; | min_tpm &lt;dbl&gt; | median_tpm &lt;dbl&gt; | max_tpm &lt;dbl&gt; | breadth &lt;dbl&gt; | tau &lt;dbl&gt; | min_elc &lt;ord&gt; | median_elc &lt;ord&gt; | max_elc &lt;ord&gt; | blc &lt;fct&gt; |\n",
       "|---|---|---|---|---|---|---|---|---|---|\n",
       "| Horvu_MOREX_1H01G000100 | 207 | 1389.000 |  9724.000 | 1.0000000 | 0.8494650 | E4 | E4 | E4 | most |\n",
       "| Horvu_MOREX_1H01G000200 |   0 |    6.000 |  2230.000 | 0.8031088 | 0.9272515 | E0 | E1 | E3 | most |\n",
       "| Horvu_MOREX_1H01G000300 |  17 |  329.000 |  2775.000 | 1.0000000 | 0.8425131 | E2 | E3 | E3 | most |\n",
       "| Horvu_MOREX_1H01G000400 |  16 |  583.000 |  6124.000 | 1.0000000 | 0.8527038 | E2 | E4 | E4 | most |\n",
       "| Horvu_MOREX_1H01G000500 | 181 | 1891.000 | 11441.000 | 1.0000000 | 0.7987692 | E4 | E4 | E4 | most |\n",
       "| Horvu_MOREX_1H01G000600 |  38 | 1005.952 |  4267.252 | 1.0000000 | 0.6767593 | E3 | E4 | E4 | most |\n",
       "\n"
      ],
      "text/plain": [
       "  locus                   min_tpm median_tpm max_tpm   breadth   tau      \n",
       "1 Horvu_MOREX_1H01G000100 207     1389.000    9724.000 1.0000000 0.8494650\n",
       "2 Horvu_MOREX_1H01G000200   0        6.000    2230.000 0.8031088 0.9272515\n",
       "3 Horvu_MOREX_1H01G000300  17      329.000    2775.000 1.0000000 0.8425131\n",
       "4 Horvu_MOREX_1H01G000400  16      583.000    6124.000 1.0000000 0.8527038\n",
       "5 Horvu_MOREX_1H01G000500 181     1891.000   11441.000 1.0000000 0.7987692\n",
       "6 Horvu_MOREX_1H01G000600  38     1005.952    4267.252 1.0000000 0.6767593\n",
       "  min_elc median_elc max_elc blc \n",
       "1 E4      E4         E4      most\n",
       "2 E0      E1         E3      most\n",
       "3 E2      E3         E3      most\n",
       "4 E2      E4         E4      most\n",
       "5 E4      E4         E4      most\n",
       "6 E3      E4         E4      most"
      ]
     },
     "metadata": {},
     "output_type": "display_data"
    }
   ],
   "source": [
    "MO = as.data.table(MO)\n",
    "MO[,blc:=cut(breadth,breaks=seq(0,1,0.2,),include.lowest=TRUE,ordered.result=TRUE,labels=c(\"very few\",\"few\",\"medium\",\"many\",\"most\")),by=list(locus)]\n",
    "head(MO)"
   ]
  },
  {
   "cell_type": "code",
   "execution_count": null,
   "metadata": {},
   "outputs": [],
   "source": [
    "setwd(\"/home/vanda.marosi/floral_development_thesis_vm/\")\n",
    "barley_meta <- read.table(\"wheat_final.csv\", header = TRUE, sep = \",\", stringsAsFactors = FALSE)\n",
    "glimpse(barley_meta)\n",
    "# create subset of paired reads\n",
    "barley_meta_p <- select(barley_meta, Run.ID, Dataset, GM, Zadok_scale, Intermediate_age, High_level_age, Intermediate_tissue, High_level_tissue, Treatment, RNA_extraction, RNA_enrichment, RNA_input..microg., PCR_purification, Growth_condition, Day_night_condition, Temperature_day_night_c, Growth_location, Seq_location, Instrument, Library.layout)\n",
    "colnames(barley_meta_p) <- c(\"sample\", \"dataset\", \"gm\", \"zadoc_scale\", \"intermediate_age\", \"high_level_age\", \"intermediate_tissue\", \"high_level_tissue\", \"treatment\", \"rna_extraction\", \"rna_enrichment\", \"rna_input\", \"pcr_purification\", \"growth_condition\", \"day_night\", \"temp\", \"growth_location\", \"seq_location\", \"instrument\", \"library\")\n",
    "barley_meta_p <- group_by(barley_meta_p, library)\n",
    "barley_meta_p <- filter(barley_meta_p, library == \"paired\")\n",
    "barley_meta_p <- as.data.frame(ungroup(barley_meta_p))\n",
    "rownames(barley_meta_p) <- barley_meta_p$sample\n",
    "glimpse(barley_meta_p)\n",
    "head(barley_meta_p)"
   ]
  },
  {
   "cell_type": "code",
   "execution_count": 26,
   "metadata": {},
   "outputs": [
    {
     "data": {
      "text/html": [
       "<table>\n",
       "<caption>A data.frame: 6 × 10</caption>\n",
       "<thead>\n",
       "\t<tr><th></th><th scope=col>geneid</th><th scope=col>min_tpm</th><th scope=col>median_tpm</th><th scope=col>max_tpm</th><th scope=col>breadth</th><th scope=col>tau</th><th scope=col>min_elc</th><th scope=col>median_elc</th><th scope=col>max_elc</th><th scope=col>blc</th></tr>\n",
       "\t<tr><th></th><th scope=col>&lt;fct&gt;</th><th scope=col>&lt;dbl&gt;</th><th scope=col>&lt;dbl&gt;</th><th scope=col>&lt;dbl&gt;</th><th scope=col>&lt;dbl&gt;</th><th scope=col>&lt;dbl&gt;</th><th scope=col>&lt;ord&gt;</th><th scope=col>&lt;ord&gt;</th><th scope=col>&lt;ord&gt;</th><th scope=col>&lt;fct&gt;</th></tr>\n",
       "</thead>\n",
       "<tbody>\n",
       "\t<tr><th scope=row>1</th><td>Horvu_MOREX_1H01G000100</td><td>207</td><td>1389.000</td><td> 9724.000</td><td>1.0000000</td><td>0.8494650</td><td>E4</td><td>E4</td><td>E4</td><td>most</td></tr>\n",
       "\t<tr><th scope=row>2</th><td>Horvu_MOREX_1H01G000200</td><td>  0</td><td>   6.000</td><td> 2230.000</td><td>0.8031088</td><td>0.9272515</td><td>E0</td><td>E1</td><td>E3</td><td>most</td></tr>\n",
       "\t<tr><th scope=row>3</th><td>Horvu_MOREX_1H01G000300</td><td> 17</td><td> 329.000</td><td> 2775.000</td><td>1.0000000</td><td>0.8425131</td><td>E2</td><td>E3</td><td>E3</td><td>most</td></tr>\n",
       "\t<tr><th scope=row>4</th><td>Horvu_MOREX_1H01G000400</td><td> 16</td><td> 583.000</td><td> 6124.000</td><td>1.0000000</td><td>0.8527038</td><td>E2</td><td>E4</td><td>E4</td><td>most</td></tr>\n",
       "\t<tr><th scope=row>5</th><td>Horvu_MOREX_1H01G000500</td><td>181</td><td>1891.000</td><td>11441.000</td><td>1.0000000</td><td>0.7987692</td><td>E4</td><td>E4</td><td>E4</td><td>most</td></tr>\n",
       "\t<tr><th scope=row>6</th><td>Horvu_MOREX_1H01G000600</td><td> 38</td><td>1005.952</td><td> 4267.252</td><td>1.0000000</td><td>0.6767593</td><td>E3</td><td>E4</td><td>E4</td><td>most</td></tr>\n",
       "</tbody>\n",
       "</table>\n"
      ],
      "text/latex": [
       "A data.frame: 6 × 10\n",
       "\\begin{tabular}{r|llllllllll}\n",
       "  & geneid & min\\_tpm & median\\_tpm & max\\_tpm & breadth & tau & min\\_elc & median\\_elc & max\\_elc & blc\\\\\n",
       "  & <fct> & <dbl> & <dbl> & <dbl> & <dbl> & <dbl> & <ord> & <ord> & <ord> & <fct>\\\\\n",
       "\\hline\n",
       "\t1 & Horvu\\_MOREX\\_1H01G000100 & 207 & 1389.000 &  9724.000 & 1.0000000 & 0.8494650 & E4 & E4 & E4 & most\\\\\n",
       "\t2 & Horvu\\_MOREX\\_1H01G000200 &   0 &    6.000 &  2230.000 & 0.8031088 & 0.9272515 & E0 & E1 & E3 & most\\\\\n",
       "\t3 & Horvu\\_MOREX\\_1H01G000300 &  17 &  329.000 &  2775.000 & 1.0000000 & 0.8425131 & E2 & E3 & E3 & most\\\\\n",
       "\t4 & Horvu\\_MOREX\\_1H01G000400 &  16 &  583.000 &  6124.000 & 1.0000000 & 0.8527038 & E2 & E4 & E4 & most\\\\\n",
       "\t5 & Horvu\\_MOREX\\_1H01G000500 & 181 & 1891.000 & 11441.000 & 1.0000000 & 0.7987692 & E4 & E4 & E4 & most\\\\\n",
       "\t6 & Horvu\\_MOREX\\_1H01G000600 &  38 & 1005.952 &  4267.252 & 1.0000000 & 0.6767593 & E3 & E4 & E4 & most\\\\\n",
       "\\end{tabular}\n"
      ],
      "text/markdown": [
       "\n",
       "A data.frame: 6 × 10\n",
       "\n",
       "| <!--/--> | geneid &lt;fct&gt; | min_tpm &lt;dbl&gt; | median_tpm &lt;dbl&gt; | max_tpm &lt;dbl&gt; | breadth &lt;dbl&gt; | tau &lt;dbl&gt; | min_elc &lt;ord&gt; | median_elc &lt;ord&gt; | max_elc &lt;ord&gt; | blc &lt;fct&gt; |\n",
       "|---|---|---|---|---|---|---|---|---|---|---|\n",
       "| 1 | Horvu_MOREX_1H01G000100 | 207 | 1389.000 |  9724.000 | 1.0000000 | 0.8494650 | E4 | E4 | E4 | most |\n",
       "| 2 | Horvu_MOREX_1H01G000200 |   0 |    6.000 |  2230.000 | 0.8031088 | 0.9272515 | E0 | E1 | E3 | most |\n",
       "| 3 | Horvu_MOREX_1H01G000300 |  17 |  329.000 |  2775.000 | 1.0000000 | 0.8425131 | E2 | E3 | E3 | most |\n",
       "| 4 | Horvu_MOREX_1H01G000400 |  16 |  583.000 |  6124.000 | 1.0000000 | 0.8527038 | E2 | E4 | E4 | most |\n",
       "| 5 | Horvu_MOREX_1H01G000500 | 181 | 1891.000 | 11441.000 | 1.0000000 | 0.7987692 | E4 | E4 | E4 | most |\n",
       "| 6 | Horvu_MOREX_1H01G000600 |  38 | 1005.952 |  4267.252 | 1.0000000 | 0.6767593 | E3 | E4 | E4 | most |\n",
       "\n"
      ],
      "text/plain": [
       "  geneid                  min_tpm median_tpm max_tpm   breadth   tau      \n",
       "1 Horvu_MOREX_1H01G000100 207     1389.000    9724.000 1.0000000 0.8494650\n",
       "2 Horvu_MOREX_1H01G000200   0        6.000    2230.000 0.8031088 0.9272515\n",
       "3 Horvu_MOREX_1H01G000300  17      329.000    2775.000 1.0000000 0.8425131\n",
       "4 Horvu_MOREX_1H01G000400  16      583.000    6124.000 1.0000000 0.8527038\n",
       "5 Horvu_MOREX_1H01G000500 181     1891.000   11441.000 1.0000000 0.7987692\n",
       "6 Horvu_MOREX_1H01G000600  38     1005.952    4267.252 1.0000000 0.6767593\n",
       "  min_elc median_elc max_elc blc \n",
       "1 E4      E4         E4      most\n",
       "2 E0      E1         E3      most\n",
       "3 E2      E3         E3      most\n",
       "4 E2      E4         E4      most\n",
       "5 E4      E4         E4      most\n",
       "6 E3      E4         E4      most"
      ]
     },
     "metadata": {},
     "output_type": "display_data"
    }
   ],
   "source": [
    "MO <- as.data.frame(MO)\n",
    "elc <- select(MO, sample, locus, median_elc) %>% \n",
    "        group_by(MO, sample) %>% \n",
    "        summarize(MO, E0 = n_distinct(E0), E1 = n_distinct(E1), E2 = n_distinct(E2), E3 = n_distinct(E3), E4 = n_distinct(E4)) %>%\n",
    "        mutate(MO, sum = E0 + E1 + E2 + E3 + E4)\n",
    "head(elc)\n",
    "elc_meta <- inner_join(elc, barley_meta_p, by = \"sample\")\n",
    "head(elc_meta)"
   ]
  },
  {
   "cell_type": "code",
   "execution_count": 27,
   "metadata": {},
   "outputs": [
    {
     "data": {
      "image/png": "[encoded data removed]",
      "text/plain": [
       "plot without title"
      ]
     },
     "metadata": {},
     "output_type": "display_data"
    }
   ],
   "source": [
    "ggplot(elc_meta, aes(fill = median_elc, y = sum, x = sample)) +\n",
    "        geom_bar(position = \"fill\", stat = \"identity\") +\n",
    "        coord_flip() +\n",
    "        labs(x = \"Sample ID\", y = \"Number of genes (%)\")\n",
    "        facet_wrap( ~ dataset, ncol = 3)\n",
    "\n",
    "#ggplot(na.omit(MO), aes( x = sample) + \n",
    "#        geom_boxplot() + \n",
    "#        facet_wrap(~median_elc,scales=\"free\") + \n",
    "#        scale_y_log10() +\n",
    "#        coord_flip()\n",
    "# na.omit returns values excluding NAs"
   ]
  },
  {
   "cell_type": "code",
   "execution_count": null,
   "metadata": {},
   "outputs": [],
   "source": []
  },
  {
   "cell_type": "code",
   "execution_count": null,
   "metadata": {},
   "outputs": [],
   "source": []
  },
  {
   "cell_type": "code",
   "execution_count": null,
   "metadata": {},
   "outputs": [],
   "source": []
  },
  {
   "cell_type": "code",
   "execution_count": null,
   "metadata": {},
   "outputs": [],
   "source": [
    "sessionInfo()"
   ]
  }
 ],
 "metadata": {
  "kernelspec": {
   "display_name": "R [conda env:r]",
   "language": "R",
   "name": "conda-env-r-r"
  },
  "language_info": {
   "codemirror_mode": "r",
   "file_extension": ".r",
   "mimetype": "text/x-r-source",
   "name": "R",
   "pygments_lexer": "r",
   "version": "3.6.3"
  }
 },
 "nbformat": 4,
 "nbformat_minor": 4
}
