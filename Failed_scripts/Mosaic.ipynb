{
 "cells": [
  {
   "cell_type": "markdown",
   "metadata": {},
   "source": [
    "# Mosaic plot with `ggmosaic`"
   ]
  },
  {
   "cell_type": "code",
   "execution_count": 24,
   "metadata": {},
   "outputs": [
    {
     "name": "stdout",
     "output_type": "stream",
     "text": [
      "'data.frame':\t455 obs. of  6 variables:\n",
      " $ Species            : chr  \"Hordeum vulgare\" \"Hordeum vulgare\" \"Hordeum vulgare\" \"Hordeum vulgare\" ...\n",
      " $ Zadok_scale        : int  9 9 9 11 11 11 11 11 11 29 ...\n",
      " $ Intermediate_age   : chr  \"Germination\" \"Germination\" \"Germination\" \"Leaf_development\" ...\n",
      " $ High_level_age     : chr  \"Seedling\" \"Seedling\" \"Seedling\" \"Seedling\" ...\n",
      " $ Intermediate_tissue: chr  \"apex\" \"apex\" \"apex\" \"apex\" ...\n",
      " $ High_level_tissue  : chr  \"leaf\" \"leaf\" \"leaf\" \"leaf\" ...\n"
     ]
    }
   ],
   "source": [
    "library(ggmosaic)\n",
    "setwd(\"/home/vanda.marosi//floral_development_thesis_vm/datatables\")\n",
    "mosaic <- read.table(\"mosaic_table.csv\", header = TRUE, sep = \",\", stringsAsFactors = FALSE)\n",
    "theme_set(theme_bw())\n",
    "str(mosaic)"
   ]
  },
  {
   "cell_type": "code",
   "execution_count": 25,
   "metadata": {},
   "outputs": [
    {
     "name": "stderr",
     "output_type": "stream",
     "text": [
      "Warning message in guide_axis(panel_params[[paste0(scale, \".major\")]], panel_params[[paste0(scale, :\n",
      "“restarting interrupted promise evaluation”Warning message in guide_axis(panel_params[[paste0(scale, \".major\")]], panel_params[[paste0(scale, :\n",
      "“internal error -3 in R_decompress1”ERROR while rich displaying an object: Error in guide_axis(panel_params[[paste0(scale, \".major\")]], panel_params[[paste0(scale, : lazy-load database '/home/vanda.marosi/anaconda3/envs/mosaic/lib/R/library/gtable/R/gtable.rdb' is corrupt\n",
      "\n",
      "Traceback:\n",
      "1. FUN(X[[i]], ...)\n",
      "2. tryCatch(withCallingHandlers({\n",
      " .     if (!mime %in% names(repr::mime2repr)) \n",
      " .         stop(\"No repr_* for mimetype \", mime, \" in repr::mime2repr\")\n",
      " .     rpr <- repr::mime2repr[[mime]](obj)\n",
      " .     if (is.null(rpr)) \n",
      " .         return(NULL)\n",
      " .     prepare_content(is.raw(rpr), rpr)\n",
      " . }, error = error_handler), error = outer_handler)\n",
      "3. tryCatchList(expr, classes, parentenv, handlers)\n",
      "4. tryCatchOne(expr, names, parentenv, handlers[[1L]])\n",
      "5. doTryCatch(return(expr), name, parentenv, handler)\n",
      "6. withCallingHandlers({\n",
      " .     if (!mime %in% names(repr::mime2repr)) \n",
      " .         stop(\"No repr_* for mimetype \", mime, \" in repr::mime2repr\")\n",
      " .     rpr <- repr::mime2repr[[mime]](obj)\n",
      " .     if (is.null(rpr)) \n",
      " .         return(NULL)\n",
      " .     prepare_content(is.raw(rpr), rpr)\n",
      " . }, error = error_handler)\n",
      "7. repr::mime2repr[[mime]](obj)\n",
      "8. repr_text.default(obj)\n",
      "9. paste(capture.output(print(obj)), collapse = \"\\n\")\n",
      "10. capture.output(print(obj))\n",
      "11. evalVis(expr)\n",
      "12. withVisible(eval(expr, pf))\n",
      "13. eval(expr, pf)\n",
      "14. eval(expr, pf)\n",
      "15. print(obj)\n",
      "16. print.ggplot(obj)\n",
      "17. ggplot_gtable(data)\n",
      "18. ggplot_gtable.ggplot_built(data)\n",
      "19. layout$render(geom_grobs, data, theme, plot$labels)\n",
      "20. f(..., self = self)\n",
      "21. self$facet$draw_panels(panels, self$layout, self$panel_scales_x, \n",
      "  .     self$panel_scales_y, self$panel_params, self$coord, data, \n",
      "  .     theme, self$facet_params)\n",
      "22. f(...)\n",
      "23. coord$render_axis_h(range, theme)\n",
      "24. f(...)\n",
      "25. render_axis(panel_params, arrange[2], \"x\", \"bottom\", theme)\n",
      "26. guide_axis(panel_params[[paste0(scale, \".major\")]], panel_params[[paste0(scale, \n",
      "  .     \".labels\")]], position, theme)\n"
     ]
    },
    {
     "data": {
      "image/png": "[encoded data removed]",
      "text/plain": [
       "plot without title"
      ]
     },
     "metadata": {},
     "output_type": "display_data"
    }
   ],
   "source": [
    "ggplot(data = mosaic) +\n",
    "  geom_mosaic(aes(x = product(Species), fill=High_level_age))"
   ]
  },
  {
   "cell_type": "code",
   "execution_count": null,
   "metadata": {},
   "outputs": [],
   "source": []
  },
  {
   "cell_type": "code",
   "execution_count": null,
   "metadata": {},
   "outputs": [],
   "source": []
  },
  {
   "cell_type": "code",
   "execution_count": null,
   "metadata": {},
   "outputs": [],
   "source": []
  },
  {
   "cell_type": "code",
   "execution_count": 6,
   "metadata": {},
   "outputs": [
    {
     "data": {
      "text/plain": [
       "R version 3.6.3 (2020-02-29)\n",
       "Platform: x86_64-conda_cos6-linux-gnu (64-bit)\n",
       "Running under: CentOS Linux 7 (Core)\n",
       "\n",
       "Matrix products: default\n",
       "BLAS/LAPACK: /home/vanda.marosi/anaconda3/envs/mosaic/lib/libopenblasp-r0.3.10.so\n",
       "\n",
       "locale:\n",
       " [1] LC_CTYPE=en_US.UTF-8       LC_NUMERIC=C              \n",
       " [3] LC_TIME=de_DE.UTF-8        LC_COLLATE=en_US.UTF-8    \n",
       " [5] LC_MONETARY=de_DE.UTF-8    LC_MESSAGES=en_US.UTF-8   \n",
       " [7] LC_PAPER=de_DE.UTF-8       LC_NAME=C                 \n",
       " [9] LC_ADDRESS=C               LC_TELEPHONE=C            \n",
       "[11] LC_MEASUREMENT=de_DE.UTF-8 LC_IDENTIFICATION=C       \n",
       "\n",
       "attached base packages:\n",
       "[1] stats     graphics  grDevices utils     datasets  methods   base     \n",
       "\n",
       "other attached packages:\n",
       "[1] ggplot2_3.1.1\n",
       "\n",
       "loaded via a namespace (and not attached):\n",
       " [1] Rcpp_1.0.1       plyr_1.8.4       pillar_1.4.6     compiler_3.6.3  \n",
       " [5] forcats_0.4.0    base64enc_0.1-3  tools_3.6.3      digest_0.6.18   \n",
       " [9] uuid_0.1-2       jsonlite_1.6     evaluate_0.13    lifecycle_0.2.0 \n",
       "[13] tibble_3.0.3     nlme_3.1-139     gtable_0.3.0     lattice_0.20-38 \n",
       "[17] pkgconfig_2.0.3  rlang_0.4.7      IRdisplay_0.7.0  IRkernel_0.8.15 \n",
       "[21] haven_2.1.0      withr_2.3.0      httr_1.4.2       repr_0.19.2     \n",
       "[25] dplyr_0.8.0.1    hms_0.4.2        generics_0.0.2   vctrs_0.3.4     \n",
       "[29] grid_3.6.3       tidyselect_0.2.5 glue_1.4.2       R6_2.4.1        \n",
       "[33] pbdZMQ_0.3-3     purrr_0.3.4      tidyr_0.8.3      magrittr_1.5    \n",
       "[37] backports_1.1.10 scales_1.0.0     ellipsis_0.3.1   htmltools_0.3.6 \n",
       "[41] assertthat_0.2.1 colorspace_1.4-1 lazyeval_0.2.2   munsell_0.5.0   \n",
       "[45] broom_0.5.2      crayon_1.3.4    "
      ]
     },
     "metadata": {},
     "output_type": "display_data"
    }
   ],
   "source": [
    "sessionInfo()"
   ]
  }
 ],
 "metadata": {
  "kernelspec": {
   "display_name": "R [conda env:mosaic]",
   "language": "R",
   "name": "conda-env-mosaic-r"
  },
  "language_info": {
   "codemirror_mode": "r",
   "file_extension": ".r",
   "mimetype": "text/x-r-source",
   "name": "R",
   "pygments_lexer": "r",
   "version": "3.6.3"
  }
 },
 "nbformat": 4,
 "nbformat_minor": 4
}
