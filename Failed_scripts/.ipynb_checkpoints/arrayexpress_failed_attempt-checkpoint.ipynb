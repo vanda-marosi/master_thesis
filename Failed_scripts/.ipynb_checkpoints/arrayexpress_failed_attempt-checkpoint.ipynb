{
 "cells": [
  {
   "cell_type": "markdown",
   "metadata": {},
   "source": [
    "# Download data to transcriptomic papers\n",
    "## 1. Data import"
   ]
  },
  {
   "cell_type": "code",
   "execution_count": 55,
   "metadata": {},
   "outputs": [],
   "source": [
    "library(parallel)\n",
    "library(foreach, warn.conflicts = FALSE)\n",
    "library(doParallel)\n",
    "library(dplyr,  warn.conflicts = FALSE)\n",
    "library(ArrayExpress,  warn.conflicts = FALSE)\n",
    "setwd(\"/nfs/pgsb/projects/comparative_triticeae/phenotype/flower_development/refpapers/\")"
   ]
  },
  {
   "cell_type": "code",
   "execution_count": 56,
   "metadata": {},
   "outputs": [
    {
     "name": "stdout",
     "output_type": "stream",
     "text": [
      "'data.frame':\t53 obs. of  1 variable:\n",
      " $ PubmedID: Factor w/ 53 levels \"10852485\",\"18539775\",..: 51 49 47 42 43 45 24 50 46 32 ...\n",
      "   PubmedID\n",
      "1  32066846\n",
      "2  32019527\n",
      "3  31910796\n",
      "4  31165748\n",
      "5  31185903\n",
      "6  31628536\n",
      "7  28484474\n",
      "8  32060572\n",
      "9  31729646\n",
      "10 29259104\n",
      "11 29068370\n",
      "12 28428792\n",
      "13 29143606\n",
      "14 25966171\n",
      "15 25886815\n",
      "16 19255779\n",
      "17 10852485\n",
      "18 31076487\n",
      "19 29581960\n",
      "20 22443345\n",
      "21 29211012\n",
      "22 29064514\n",
      "23 28241738\n",
      "24 27458461\n",
      "25 25898130\n",
      "26 23821595\n",
      "27 23293955\n",
      "28  7437483\n",
      "29 31469444\n",
      "30 31134117\n",
      "31 30276910\n",
      "32 31076750\n",
      "33 30843087\n",
      "34 29790929\n",
      "35 29757397\n",
      "36 28848574\n",
      "37 29739311\n",
      "38 28515146\n",
      "39 27898828\n",
      "40 28531235\n",
      "41 27163605\n",
      "42 26982202\n",
      "43 26307377\n",
      "44 25886913\n",
      "45 25707852\n",
      "46 25660346\n",
      "47 25562483\n",
      "48 25517485\n",
      "49 22508932\n",
      "50 18539775\n",
      "51  9207838\n",
      "52 31963482\n",
      "53 26055625\n"
     ]
    }
   ],
   "source": [
    "pmid_transcript <- readRDS(\"PMIDlist_transcript.rds\")\n",
    "pmid_transcript <- as.data.frame(pmid_transcript, rownames = FALSE)\n",
    "colnames(pmid_transcript) <- \"PubmedID\"\n",
    "str(pmid_transcript)\n",
    "print(pmid_transcript)"
   ]
  },
  {
   "cell_type": "markdown",
   "metadata": {},
   "source": [
    "## 2. Create query in ArrayExpress, intersect with PMID_transcriptomic list"
   ]
  },
  {
   "cell_type": "code",
   "execution_count": 52,
   "metadata": {},
   "outputs": [
    {
     "data": {
      "text/plain": [
       "   user  system elapsed \n",
       "  0.087   0.026 276.263 "
      ]
     },
     "metadata": {},
     "output_type": "display_data"
    },
    {
     "name": "stdout",
     "output_type": "stream",
     "text": [
      "'data.frame':\t14115 obs. of  8 variables:\n",
      " $ ID               : Factor w/ 14115 levels \"E-AFMX-3\",\"E-ATMX-22\",..: 13885 13837 13888 13887 13886 13884 13883 13713 13543 13397 ...\n",
      " $ Raw              : Factor w/ 2 levels \"no\",\"yes\": 1 1 1 1 1 2 1 1 1 1 ...\n",
      " $ Processed        : Factor w/ 1 level \"no\": 1 1 1 1 1 1 1 1 1 1 ...\n",
      " $ ReleaseDate      : Factor w/ 3312 levels \"2002-03-19\",\"2002-06-27\",..: 3312 3311 3310 3310 3310 3310 3310 3310 3310 3310 ...\n",
      " $ PubmedID         : Factor w/ 5210 levels \"10471496\",\"11116097\",..: 5204 5199 5204 5204 5204 5204 5204 5204 5204 5204 ...\n",
      " $ Species          : Factor w/ 1520 levels \"[Candida] glabrata\",..: 739 739 739 739 739 739 1378 739 655 739 ...\n",
      " $ ExperimentDesign : Factor w/ 966 levels \"all pairs\",\"all pairs | binding site identification | organism part comparison\",..: 877 680 189 189 189 877 832 879 903 762 ...\n",
      " $ ExperimentFactors: Factor w/ 11666 levels \"-BARCODE=CTG | -BARCODE=GAT | INFECTED WITH=MCMV | INFECTED WITH=mock (control) | IP ANTIBODY=anti-Ago1 mAb (2A\"| __truncated__,..: 2493 5703 3307 3236 2745 2492 7913 9789 9491 7932 ...\n"
     ]
    }
   ],
   "source": [
    "#searchwords <- (\"wheat\", \"barley\", \"triticeae\", \"hordeinae\", \"agropyron\", \"anthosachne\", \"australopyrum\", \"campeiostachys\", \"connorochloa\", \"critesion\", \"crithopsis\", \"douglasdeweya\", \"elymus\", \"eremopyrum\", \"festucopsis\", \"henrardia\", \"heteranthelium\", \"hordelymus\", \"hordeum\", \"hystrix\", \"kengyilia\", \"leymus\", \"pascopyrum\", \"peridictyon\", \"psathyrostachys\", \"pseudoroegneria\", \"secale\", \"stenostachys\", \"taeniatherum\", \"triticinae\", \"aegilops\", \"amblyopyrum\", \"dasypyrum\", \"haynaldia\", \"lophopyrum\", \"thinopyrum\")\n",
    "#searchwords <- '\"wheat\" OR \"barley\"'\n",
    "# starting from Agropyron the names have 0 result, and interrupt the command\n",
    "#OR \"Agropyron\" OR \"Anthosachne\" OR \"Australopyrum\" OR \"Campeiostachys\" OR \"Connorochloa\" OR \"Critesion\" OR \"Crithopsis\" OR \"Douglasdeweya\" OR \"Elymus\" OR \"Eremopyrum\" OR \"Festucopsis\" OR \"Henrardia\" OR \"Heteranthelium\" OR \"Hordelymus\" OR \"Hordeum\" OR \"Hystrix\" OR \"Kengyilia\" OR \"Leymus\" OR \"Pascopyrum\" OR \"Peridictyon\" OR \"Psathyrostachys\" OR \"Pseudoroegneria\" OR \"Secale\" OR \"Stenostachys\" OR \"Taeniatherum\" OR \"Triticinae\" OR \"Aegilops\" OR \"Amblyopyrum\" OR \"Dasypyrum\" OR \"Haynaldia\" OR \"Lophopyrum\" OR \"Thinopyrum\" OR \"Triticum\"\n",
    "triticeae <- '\"wheat\" OR \"Triticum+aestivum\" OR \"barley\" OR \"Hordeum+vulgare\" OR \"Triticeae\" OR \"Hordeinae\" OR \"Triticum\" OR \"comparative\" OR \"transcriptomics\" OR \"sequencing\" OR \"rna-seq+analysis\" OR \"differential+expression\"' \n",
    "cl <- makeCluster(60)\n",
    "registerDoParallel(cl)\n",
    "system.time({\n",
    "query1 <- foreach(i=triticeae, .packages =\"ArrayExpress\", .combine = rbind) %dopar% {\n",
    "    queryAE(keywords = i)\n",
    "    }\n",
    "        })\n",
    "stopCluster(cl)\n",
    "str(query1)"
   ]
  },
  {
   "cell_type": "code",
   "execution_count": 46,
   "metadata": {},
   "outputs": [
    {
     "ename": "ERROR",
     "evalue": "Error in {: task 1 failed - \"XML content does not seem to be XML: 'mus\" OR \"Eremopyrum\" OR \"Festucopsis\" OR \"Henrardia\" OR \"Heteranthelium\" OR \"Hordelymus\" OR \"Hordeum\" OR \"Hystrix\" OR \"Kengyilia\" OR \"Leymus\" OR \"Pascopyrum\" OR \"Peridictyon\" OR \"Psathyrostachys\" OR \"Pseudoroegneria\" OR \"Secale\" OR \"Stenostachys\" OR \"Taeniatherum\" OR \"Triticinae\" OR \"Aegilops\" OR \"Amblyopyrum\" OR \"Dasypyrum\" OR \"Haynaldia\" OR \"Lophopyrum\" OR \"Thinopyrum\".xml'\"\n",
     "output_type": "error",
     "traceback": [
      "Error in {: task 1 failed - \"XML content does not seem to be XML: 'mus\" OR \"Eremopyrum\" OR \"Festucopsis\" OR \"Henrardia\" OR \"Heteranthelium\" OR \"Hordelymus\" OR \"Hordeum\" OR \"Hystrix\" OR \"Kengyilia\" OR \"Leymus\" OR \"Pascopyrum\" OR \"Peridictyon\" OR \"Psathyrostachys\" OR \"Pseudoroegneria\" OR \"Secale\" OR \"Stenostachys\" OR \"Taeniatherum\" OR \"Triticinae\" OR \"Aegilops\" OR \"Amblyopyrum\" OR \"Dasypyrum\" OR \"Haynaldia\" OR \"Lophopyrum\" OR \"Thinopyrum\".xml'\"\nTraceback:\n",
      "1. system.time({\n .     query2 <- foreach(i = species, .packages = \"ArrayExpress\", \n .         .combine = rbind) %dopar% {\n .         queryAE(species = i)\n .     }\n . })",
      "2. foreach(i = species, .packages = \"ArrayExpress\", .combine = rbind) %dopar% \n .     {\n .         queryAE(species = i)\n .     }   # at line 5-7 of file <text>",
      "3. e$fun(obj, substitute(ex), parent.frame(), e$data)"
     ]
    },
    {
     "name": "stderr",
     "output_type": "stream",
     "text": [
      "Timing stopped at: 0.016 0.007 7.787\n"
     ]
    }
   ],
   "source": [
    "species <- '\"Triticum\" OR \"Hordeum\" OR \"Agropyron\" OR \"Anthosachne\" OR \"Critesion\" OR \"Crithopsis\" OR \"Elymus\" OR \"Eremopyrum\" OR \"Festucopsis\" OR \"Henrardia\" OR \"Heteranthelium\" OR \"Hordelymus\" OR \"Hystrix\" OR \"Kengyilia\" OR \"Leymus\" OR \"Pascopyrum\" OR \"Peridictyon\" OR \"Psathyrostachys\" OR \"Pseudoroegneria\" OR \"Secale\" OR \"Stenostachys\" OR \"Taeniatherum\" OR \"Triticinae\" OR \"Aegilops\" OR \"Amblyopyrum\" OR \"Dasypyrum\" OR \"Haynaldia\" OR \"Lophopyrum\" OR \"Thinopyrum\"'\n",
    "cl <- makeCluster(30)\n",
    "registerDoParallel(cl)\n",
    "system.time({\n",
    "query2 <- foreach(i=species, .packages =\"ArrayExpress\", .combine = rbind) %dopar% {\n",
    "    queryAE(species = i)\n",
    "    }\n",
    "        })\n",
    "stopCluster(cl)\n",
    "str(query2) "
   ]
  },
  {
   "cell_type": "code",
   "execution_count": 58,
   "metadata": {},
   "outputs": [
    {
     "name": "stderr",
     "output_type": "stream",
     "text": [
      "Warning message:\n",
      "“Column `PubmedID` joining factors with different levels, coercing to character vector”"
     ]
    },
    {
     "name": "stdout",
     "output_type": "stream",
     "text": [
      "'data.frame':\t8 obs. of  8 variables:\n",
      " $ ID               : Factor w/ 14115 levels \"E-AFMX-3\",\"E-ATMX-22\",..: 12588 12592 12819 4247 12777 12776 12136 4193\n",
      " $ Raw              : Factor w/ 2 levels \"no\",\"yes\": 1 1 1 1 1 1 1 1\n",
      " $ Processed        : Factor w/ 1 level \"no\": 1 1 1 1 1 1 1 1\n",
      " $ ReleaseDate      : Factor w/ 3312 levels \"2002-03-19\",\"2002-06-27\",..: 2284 2172 1949 1321 1315 1315 1315 1309\n",
      " $ PubmedID         : chr  \"26307377\" \"25517485\" \"25886815\" \"22508932\" ...\n",
      " $ Species          : Factor w/ 1520 levels \"[Candida] glabrata\",..: 777 1056 1440 1440 238 1338 1056 1440\n",
      " $ ExperimentDesign : Factor w/ 966 levels \"all pairs\",\"all pairs | binding site identification | organism part comparison\",..: 877 877 877 877 877 877 822 877\n",
      " $ ExperimentFactors: Factor w/ 11666 levels \"-BARCODE=CTG | -BARCODE=GAT | INFECTED WITH=MCMV | INFECTED WITH=mock (control) | IP ANTIBODY=anti-Ago1 mAb (2A\"| __truncated__,..: 5042 8934 6705 5966 8935 8935 8935 5148\n"
     ]
    },
    {
     "name": "stderr",
     "output_type": "stream",
     "text": [
      "Warning message:\n",
      "“Column `PubmedID` joining factors with different levels, coercing to character vector”"
     ]
    },
    {
     "name": "stdout",
     "output_type": "stream",
     "text": [
      "'data.frame':\t4 obs. of  8 variables:\n",
      " $ ID               : Factor w/ 337 levels \"E-AFMX-3\",\"E-GEOD-10328\",..: 258 278 102 101\n",
      " $ Raw              : Factor w/ 2 levels \"no\",\"yes\": 1 1 1 1\n",
      " $ Processed        : Factor w/ 1 level \"no\": 1 1 1 1\n",
      " $ ReleaseDate      : Factor w/ 249 levels \"2004-09-01\",\"2005-05-01\",..: 188 153 115 113\n",
      " $ PubmedID         : chr  \"26307377\" \"25886815\" \"22508932\" \"22508932\"\n",
      " $ Species          : Factor w/ 34 levels \"Aegilops speltoides | Aegilops tauschii | Secale cereale | Triticum aestivum | Triticum urartu\",..: 16 21 21 21\n",
      " $ ExperimentDesign : Factor w/ 84 levels \"all pairs | co-expression | development or differentiation design | time series design\",..: 70 70 70 70\n",
      " $ ExperimentFactors: Factor w/ 278 levels \"age/developmental stage=3-week old | age/developmental stage=booting stage | organism part=leaf | organism part\"| __truncated__,..: 91 135 103 93\n"
     ]
    }
   ],
   "source": [
    "#inner join with pmid-list & keywordsAE\n",
    "AEtranscript1 <- inner_join(query1, pmid_transcript, by = \"PubmedID\")\n",
    "str(AEtranscript1)\n",
    "#only 6 datasets are in intersection & speciesAE\n",
    "AEtranscript2 <- inner_join(query2, pmid_transcript, by = \"PubmedID\")\n",
    "str(AEtranscript2)\n",
    "#only 6 datasets are in intersection"
   ]
  },
  {
   "cell_type": "code",
   "execution_count": 57,
   "metadata": {},
   "outputs": [
    {
     "ename": "ERROR",
     "evalue": "Error in quearyAE(keywords = \"wheat\"): could not find function \"quearyAE\"\n",
     "output_type": "error",
     "traceback": [
      "Error in quearyAE(keywords = \"wheat\"): could not find function \"quearyAE\"\nTraceback:\n"
     ]
    }
   ],
   "source": [
    "wheat1 <- quearyAE(keywords = \"wheat\")\n",
    "str(wheat1)\n",
    "wheat2 <- quearyAE(species = \"Triticum+aestivum\")\n",
    "str(wheat2)"
   ]
  },
  {
   "cell_type": "code",
   "execution_count": null,
   "metadata": {},
   "outputs": [],
   "source": []
  }
 ],
 "metadata": {
  "kernelspec": {
   "display_name": "R [conda env:r]",
   "language": "R",
   "name": "conda-env-r-r"
  },
  "language_info": {
   "codemirror_mode": "r",
   "file_extension": ".r",
   "mimetype": "text/x-r-source",
   "name": "R",
   "pygments_lexer": "r",
   "version": "3.6.3"
  }
 },
 "nbformat": 4,
 "nbformat_minor": 4
}
