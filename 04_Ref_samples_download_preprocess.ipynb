{
 "cells": [
  {
   "cell_type": "markdown",
   "metadata": {},
   "source": [
    "# Creating datasets: Download & Symlink & Preprocessing steps\n",
    "## 1. Download (missing = not yet downloaded) data"
   ]
  },
  {
   "cell_type": "code",
   "execution_count": 3,
   "metadata": {},
   "outputs": [],
   "source": [
    "library(tidyverse, warn.conflicts = FALSE)"
   ]
  },
  {
   "cell_type": "code",
   "execution_count": 4,
   "metadata": {},
   "outputs": [
    {
     "name": "stdout",
     "output_type": "stream",
     "text": [
      "Rows: 215\n",
      "Columns: 36\n",
      "$ Dataset                 <chr> \"cytoplasmic_male_sterility\", \"cytoplasmic_ma…\n",
      "$ PMID                    <int> 32019527, 32019527, 32019527, 32019527, 32019…\n",
      "$ Run.ID                  <chr> \"SRR10737427\", \"SRR10737428\", \"SRR10737429\", …\n",
      "$ GSA                     <chr> \"\", \"\", \"\", \"\", \"\", \"\", \"CRA002161\", \"CRA0021…\n",
      "$ NCBI.BioProject         <chr> \"PRJNA596597\", \"PRJNA596597\", \"PRJNA596597\", …\n",
      "$ SRA.Sample.ID           <chr> \"SRS5860070\", \"SRS5860068\", \"SRS5860066\", \"SR…\n",
      "$ BioSample.ID            <chr> \"SAMN13632079\", \"SAMN13632078\", \"SAMN13632077…\n",
      "$ Sample.Name.Alias       <chr> \"303-B\", \"303-B\", \"303-B\", \"C303A\", \"C303A\", …\n",
      "$ Batch                   <int> 1, 1, 1, 2, 2, 2, 3, 3, 3, 4, 4, 4, 5, 5, 5, …\n",
      "$ Organism                <chr> \"Triticum aestivum\", \"Triticum aestivum\", \"Tr…\n",
      "$ Cultivar                <chr> \"303-B\", \"303-B\", \"303-B\", \"C303A\", \"C303A\", …\n",
      "$ GM                      <chr> \"wt\", \"wt\", \"wt\", \"mut\", \"mut\", \"mut\", \"wt\", …\n",
      "$ Genotype                <chr> \"303-B\", \"303-B\", \"303-B\", \"C303A\", \"C303A\", …\n",
      "$ Dev.stage               <chr> \"Anther at binucleate stage\", \"Anther at binu…\n",
      "$ Zadok_scale             <int> 57, 57, 57, 57, 57, 57, 57, 57, 57, 57, 57, 5…\n",
      "$ Intermediate_age        <chr> \"Heading\", \"Heading\", \"Heading\", \"Heading\", \"…\n",
      "$ High_level_age          <chr> \"Reproductive\", \"Reproductive\", \"Reproductive…\n",
      "$ Intermediate_tissue     <chr> \"anther\", \"anther\", \"anther\", \"anther\", \"anth…\n",
      "$ High_level_tissue       <chr> \"inflorescence\", \"inflorescence\", \"infloresce…\n",
      "$ Treatment               <chr> \"control\", \"control\", \"control\", \"mutant\", \"m…\n",
      "$ RNA_extraction          <chr> \"trizol\", \"trizol\", \"trizol\", \"trizol\", \"triz…\n",
      "$ RNA_enrichment          <chr> \"oligo_dT_bead\", \"oligo_dT_bead\", \"oligo_dT_b…\n",
      "$ RNA_input..microg.      <chr> \"unknown\", \"unknown\", \"unknown\", \"unknown\", \"…\n",
      "$ PCR_purification        <chr> \"AMPure_XP_bead\", \"AMPure_XP_bead\", \"AMPure_X…\n",
      "$ Growth_condition        <chr> \"field\", \"field\", \"field\", \"field\", \"field\", …\n",
      "$ Day_night_condition     <chr> \"natural\", \"natural\", \"natural\", \"natural\", \"…\n",
      "$ Temperature_day_night_c <chr> \"natural\", \"natural\", \"natural\", \"natural\", \"…\n",
      "$ Growth_location         <chr> \"China_Northwest_University\", \"China_Northwes…\n",
      "$ Seq_location            <chr> \"China_Guangzhou_SageneBiotechLtd\", \"China_Gu…\n",
      "$ Instrument              <chr> \"Illumina HiSeq 2500\", \"Illumina HiSeq 2500\",…\n",
      "$ Library.layout          <chr> \"paired\", \"paired\", \"paired\", \"paired\", \"pair…\n",
      "$ PO.dev.general          <chr> \"PO:0007047\", \"PO:0007047\", \"PO:0007047\", \"PO…\n",
      "$ PO.dev.narrow           <chr> \"PO:0007002\", \"PO:0007002\", \"PO:0007002\", \"PO…\n",
      "$ PO.tissue               <chr> \"PO:0009066\", \"PO:0009066\", \"PO:0009066\", \"PO…\n",
      "$ Metadata                <chr> \"fertile maintainer line\", \"fertile maintaine…\n",
      "$ Read.length..bp.        <chr> \"150\", \"150\", \"150\", \"150\", \"150\", \"150\", \"\",…\n",
      "Rows: 240\n",
      "Columns: 35\n",
      "$ Dataset                 <chr> \"photoperiod_mutant_preanthesis\", \"photoperio…\n",
      "$ PMID                    <int> 26307377, 26307377, 26307377, 26307377, 26307…\n",
      "$ Run.ID                  <chr> \"ERR781039\", \"ERR781040\", \"ERR781041\", \"ERR78…\n",
      "$ NCBI.BioProject         <chr> \"PRJEB8748\", \"PRJEB8748\", \"PRJEB8748\", \"PRJEB…\n",
      "$ SRA.Sample.ID           <chr> \"ERS680781\", \"ERS680782\", \"ERS680783\", \"ERS68…\n",
      "$ BioSample.ID            <chr> \"SAMEA3304876\", \"SAMEA3304854\", \"SAMEA3304885…\n",
      "$ Sample.Name.Alias       <chr> \"A_Apex_SD_S42-IL017_W0.5_0DAS_rep1\", \"B_Apex…\n",
      "$ Batch                   <int> 1, 1, 1, 2, 2, 2, 3, 3, 3, 4, 4, 5, 5, 5, 6, …\n",
      "$ Organism                <chr> \"Hordeum vulgare\", \"Hordeum vulgare\", \"Hordeu…\n",
      "$ Cultivar                <chr> \"S42-IL107\", \"S42-IL107\", \"S42-IL107\", \"Scarl…\n",
      "$ GM                      <chr> \"wt\", \"wt\", \"wt\", \"mut\", \"mut\", \"mut\", \"wt\", …\n",
      "$ Genotype                <chr> \"PPD-H1\", \"PPD-H1\", \"PPD-H1\", \"ppd-H1\", \"ppd-…\n",
      "$ Dev.stage               <chr> \"W0.5 – leaf at coleoptile tip\", \"W0.5 – leaf…\n",
      "$ Zadok_scale             <int> 9, 9, 9, 11, 11, 11, 11, 11, 11, 29, 29, 29, …\n",
      "$ Intermediate_age        <chr> \"Germination\", \"Germination\", \"Germination\", …\n",
      "$ High_level_age          <chr> \"Seedling\", \"Seedling\", \"Seedling\", \"Seedling…\n",
      "$ Intermediate_tissue     <chr> \"apex\", \"apex\", \"apex\", \"apex\", \"apex\", \"apex…\n",
      "$ High_level_tissue       <chr> \"leaf\", \"leaf\", \"leaf\", \"leaf\", \"leaf\", \"leaf…\n",
      "$ Treatment               <chr> \"control\", \"control\", \"control\", \"mutant\", \"m…\n",
      "$ RNA_extraction          <chr> \"trizol\", \"trizol\", \"trizol\", \"trizol\", \"triz…\n",
      "$ RNA_enrichment          <chr> \"Rneasy_microkit_Qiagen\", \"Rneasy_microkit_Qi…\n",
      "$ RNA_input..microg.      <chr> \"unknown\", \"unknown\", \"unknown\", \"unknown\", \"…\n",
      "$ PCR_purification        <chr> \"unknown\", \"unknown\", \"unknown\", \"unknown\", \"…\n",
      "$ Growth_condition        <chr> \"incubator\", \"incubator\", \"incubator\", \"incub…\n",
      "$ Day_night_condition     <chr> \"8_16\", \"8_16\", \"8_16\", \"16_8\", \"16_8\", \"16_8…\n",
      "$ Temperature_day_night_c <chr> \"22_18\", \"22_18\", \"22_18\", \"22_18\", \"22_18\", …\n",
      "$ Growth_location         <chr> \"Germany\", \"Germany\", \"Germany\", \"Germany\", \"…\n",
      "$ Seq_location            <chr> \"Germany\", \"Germany\", \"Germany\", \"Germany\", \"…\n",
      "$ Instrument              <chr> \"Illumina HiSeq 2000\", \"Illumina HiSeq 2000\",…\n",
      "$ Library.layout          <chr> \"single\", \"single\", \"single\", \"single\", \"sing…\n",
      "$ PO.dev.general          <chr> \"PO:0007057\", \"PO:0007057\", \"PO:0007057\", \"PO…\n",
      "$ PO.dev.narrow           <chr> \"PO:0007045\", \"PO:0007045\", \"PO:0007045\", \"PO…\n",
      "$ PO.tissue               <chr> \"PO:0000037\", \"PO:0000037\", \"PO:0000037\", \"PO…\n",
      "$ Metadata                <chr> \"biological replication 1.1 harvest time  0 p…\n",
      "$ Read.length..bp.        <chr> \"100\", \"100\", \"100\", \"100\", \"100\", \"100\", \"10…\n",
      "Rows: 2,410\n",
      "Columns: 14\n",
      "$ study               <chr> \"SRP141021\", \"SRP141021\", \"SRP141021\", \"SRP141021…\n",
      "$ sample              <chr> \"SRR7030988\", \"SRR7030987\", \"SRR7030986\", \"SRR703…\n",
      "$ genotype            <chr> \"cv Chinese Spring\", \"cv Chinese Spring\", \"cv Chi…\n",
      "$ name                <chr> \"SRR7030988\", \"SRR7030987\", \"SRR7030986\", \"SRR703…\n",
      "$ platform_model      <chr> \"Illumina HiSeq 4000\", \"Illumina HiSeq 4000\", \"Il…\n",
      "$ stage               <chr> \"0_DAT_control_leaf\", \"0_DAT_control_leaf\", \"0_DA…\n",
      "$ stage.PO            <chr> \"PO:0025337\", \"PO:0025337\", \"PO:0025337\", \"PO:002…\n",
      "$ stage.PO.name       <chr> \"life of whole plant stage\", \"life of whole plant…\n",
      "$ tissue              <chr> \"leaf tissues\", \"leaf tissues\", \"leaf tissues\", \"…\n",
      "$ tissue.PO           <chr> \"PO_0025034\", \"PO_0025034\", \"PO_0025034\", \"PO_002…\n",
      "$ tissue.PO.name      <chr> \"leaf\", \"leaf\", \"leaf\", \"leaf\", \"leaf\", \"leaf\", \"…\n",
      "$ treatment           <chr> \"control\", \"control\", \"control\", \"control\", \"heat…\n",
      "$ treatment.PECO      <chr> \"none\", \"none\", \"none\", \"none\", \"PECO:0007173\", \"…\n",
      "$ treatment.PECO.name <chr> \"none\", \"none\", \"none\", \"none\", \"warm/hot tempera…\n",
      "Rows: 1,610\n",
      "Columns: 55\n",
      "$ Run                         <chr> \"DRR045276\", \"DRR045277\", \"DRR045278\", \"D…\n",
      "$ Assay.Type                  <chr> \"RNA-Seq\", \"RNA-Seq\", \"RNA-Seq\", \"RNA-Seq…\n",
      "$ AvgSpotLen                  <int> 200, 299, 299, 300, 180, 180, 300, 300, 3…\n",
      "$ LibraryLayout               <chr> \"PAIRED\", \"PAIRED\", \"PAIRED\", \"PAIRED\", \"…\n",
      "$ BioProject                  <chr> \"PRJDB4103\", \"PRJDB4103\", \"PRJDB4103\", \"P…\n",
      "$ Instrument                  <chr> \"Illumina MiSeq\", \"Illumina MiSeq\", \"Illu…\n",
      "$ Cultivar                    <chr> \"Haruna Nijo\", \"Haruna Nijo\", \"Haruna Nij…\n",
      "$ Sample.Name                 <chr> \"SAMD00040023\", \"SAMD00040022\", \"SAMD0004…\n",
      "$ Organism                    <chr> \"Hordeum vulgare subsp. vulgare\", \"Hordeu…\n",
      "$ tissue                      <chr> \"\", \"\", \"\", \"\", \"seedling\", \"seedling\", \"…\n",
      "$ tissue.PO                   <chr> \"\", \"\", \"\", \"\", \"PO:0000003\", \"PO:0000003…\n",
      "$ tissue.PO.name              <chr> \"\", \"\", \"\", \"\", \"whole plant  \", \"whole p…\n",
      "$ Age                         <chr> \"\", \"\", \"\", \"\", \"\", \"\", \"\", \"\", \"\", \"\", \"…\n",
      "$ stage                       <chr> \"\", \"\", \"\", \"\", \"seedling having three le…\n",
      "$ stage.PO                    <chr> \"\", \"\", \"\", \"\", \"PO:0007106\", \"PO:0007106…\n",
      "$ stage.PO.name               <chr> \"\", \"\", \"\", \"\", \" three leaves visible st…\n",
      "$ treatment                   <chr> \"\", \"\", \"\", \"\", \"\", \"\", \"Foma_AP1\", \"Foma…\n",
      "$ environmental.ontology      <chr> \"\", \"\", \"\", \"\", \"\", \"\", \"\", \"\", \"\", \"\", \"…\n",
      "$ environmental.ontology.name <chr> \"\", \"\", \"\", \"\", \"\", \"\", \"\", \"\", \"\", \"\", \"…\n",
      "$ replicate                   <chr> \"\", \"\", \"\", \"\", \"\", \"\", \"\", \"\", \"\", \"\", \"…\n",
      "$ comment                     <chr> \"\", \"\", \"\", \"\", \"\", \"\", \"\", \"\", \"\", \"\", \"…\n",
      "$ X                           <lgl> NA, NA, NA, NA, NA, NA, NA, NA, NA, NA, N…\n",
      "$ X.1                         <lgl> NA, NA, NA, NA, NA, NA, NA, NA, NA, NA, N…\n",
      "$ X.2                         <lgl> NA, NA, NA, NA, NA, NA, NA, NA, NA, NA, N…\n",
      "$ X.3                         <lgl> NA, NA, NA, NA, NA, NA, NA, NA, NA, NA, N…\n",
      "$ X.4                         <lgl> NA, NA, NA, NA, NA, NA, NA, NA, NA, NA, N…\n",
      "$ X.5                         <lgl> NA, NA, NA, NA, NA, NA, NA, NA, NA, NA, N…\n",
      "$ X.6                         <lgl> NA, NA, NA, NA, NA, NA, NA, NA, NA, NA, N…\n",
      "$ X.7                         <chr> \"\", \"\", \"\", \"\", \"\", \"\", \"\", \"\", \"\", \"\", \"…\n",
      "$ X.8                         <lgl> NA, NA, NA, NA, NA, NA, NA, NA, NA, NA, N…\n",
      "$ X.9                         <lgl> NA, NA, NA, NA, NA, NA, NA, NA, NA, NA, N…\n",
      "$ X.10                        <lgl> NA, NA, NA, NA, NA, NA, NA, NA, NA, NA, N…\n",
      "$ X.11                        <lgl> NA, NA, NA, NA, NA, NA, NA, NA, NA, NA, N…\n",
      "$ X.12                        <lgl> NA, NA, NA, NA, NA, NA, NA, NA, NA, NA, N…\n",
      "$ X.13                        <lgl> NA, NA, NA, NA, NA, NA, NA, NA, NA, NA, N…\n",
      "$ X.14                        <lgl> NA, NA, NA, NA, NA, NA, NA, NA, NA, NA, N…\n",
      "$ X.15                        <lgl> NA, NA, NA, NA, NA, NA, NA, NA, NA, NA, N…\n",
      "$ X.16                        <lgl> NA, NA, NA, NA, NA, NA, NA, NA, NA, NA, N…\n",
      "$ X.17                        <lgl> NA, NA, NA, NA, NA, NA, NA, NA, NA, NA, N…\n",
      "$ X.18                        <lgl> NA, NA, NA, NA, NA, NA, NA, NA, NA, NA, N…\n",
      "$ X.19                        <lgl> NA, NA, NA, NA, NA, NA, NA, NA, NA, NA, N…\n",
      "$ X.20                        <lgl> NA, NA, NA, NA, NA, NA, NA, NA, NA, NA, N…\n",
      "$ X.21                        <lgl> NA, NA, NA, NA, NA, NA, NA, NA, NA, NA, N…\n",
      "$ X.22                        <lgl> NA, NA, NA, NA, NA, NA, NA, NA, NA, NA, N…\n",
      "$ X.23                        <lgl> NA, NA, NA, NA, NA, NA, NA, NA, NA, NA, N…\n",
      "$ X.24                        <lgl> NA, NA, NA, NA, NA, NA, NA, NA, NA, NA, N…\n",
      "$ X.25                        <lgl> NA, NA, NA, NA, NA, NA, NA, NA, NA, NA, N…\n",
      "$ X.26                        <lgl> NA, NA, NA, NA, NA, NA, NA, NA, NA, NA, N…\n",
      "$ X.27                        <lgl> NA, NA, NA, NA, NA, NA, NA, NA, NA, NA, N…\n",
      "$ X.28                        <lgl> NA, NA, NA, NA, NA, NA, NA, NA, NA, NA, N…\n",
      "$ X.29                        <lgl> NA, NA, NA, NA, NA, NA, NA, NA, NA, NA, N…\n",
      "$ X.30                        <lgl> NA, NA, NA, NA, NA, NA, NA, NA, NA, NA, N…\n",
      "$ X.31                        <lgl> NA, NA, NA, NA, NA, NA, NA, NA, NA, NA, N…\n",
      "$ X.32                        <lgl> NA, NA, NA, NA, NA, NA, NA, NA, NA, NA, N…\n",
      "$ X.33                        <chr> \"\", \"\", \"\", \"\", \"\", \"\", \"\", \"\", \"\", \"\", \"…\n"
     ]
    }
   ],
   "source": [
    "setwd(\"/home/vanda.marosi//floral_development_thesis_vm/datatables/\")\n",
    "# import my datasets\n",
    "wheat <- read.table(\"wheat_final.csv\", header = TRUE, sep = \",\", stringsAsFactors = FALSE)\n",
    "barley <- read.table(\"barley_final.csv\", header = TRUE, sep = \",\", stringsAsFactors = FALSE)\n",
    "glimpse(wheat)\n",
    "glimpse(barley)\n",
    "# import Nadia & Maxim's datasets\n",
    "wheat_m <- read.table(\"wheat_22012020_v1_MM.csv\", header = TRUE, sep = \",\", stringsAsFactors = FALSE)\n",
    "barley_n <- read.table(\"hordeum_vulgare_14012020_NK.csv\", header = TRUE, sep = \",\", stringsAsFactors = FALSE)\n",
    "glimpse(wheat_m)\n",
    "glimpse(barley_n)"
   ]
  },
  {
   "cell_type": "code",
   "execution_count": 70,
   "metadata": {},
   "outputs": [
    {
     "name": "stdout",
     "output_type": "stream",
     "text": [
      "Rows: 67\n",
      "Columns: 3\n",
      "$ Run.ID          <chr> \"CRR088963\", \"CRR088962\", \"CRR088961\", \"CRR088960\", \"…\n",
      "$ Dataset.name    <chr> \"iamsls\", \"iamsls\", \"iamsls\", \"iamsls\", \"iamsls\", \"ia…\n",
      "$ NCBI.BioProject <chr> \"\", \"\", \"\", \"\", \"\", \"\", \"\", \"\", \"\", \"\", \"\", \"\", \"\", \"…\n",
      "Rows: 148\n",
      "Columns: 3\n",
      "$ Run.ID          <chr> \"SRR10737427\", \"SRR10737428\", \"SRR10737429\", \"SRR1073…\n",
      "$ Dataset.name    <chr> \"pistillody of stamen\", \"pistillody of stamen\", \"pist…\n",
      "$ NCBI.BioProject <chr> \"PRJNA596597\", \"PRJNA596597\", \"PRJNA596597\", \"PRJNA59…\n"
     ]
    }
   ],
   "source": [
    "# intersect wheat tables\n",
    "w_v <- select(wheat, Run.ID, Dataset.name, NCBI.BioProject)\n",
    "w_m <- select(wheat_m, sample)\n",
    "colnames(w_m) <- \"Run.ID\"\n",
    "# this gives id-s that appear in mine but not in Maxim's -> 67 fastq-s have to be downloaded\n",
    "y <- anti_join(w_v, w_m, by = \"Run.ID\") # all rows in w_v that do not have a match in w_m\n",
    "glimpse(y)\n",
    "\n",
    "# this gives id-s that appear in Maxim's from my list -> 148 fastq-s have to be symbolic linked\n",
    "y1 <- inner_join(w_v, w_m, by = \"Run.ID\") # retain only rows in both sets\n",
    "glimpse(y1)"
   ]
  },
  {
   "cell_type": "code",
   "execution_count": 71,
   "metadata": {},
   "outputs": [
    {
     "name": "stdout",
     "output_type": "stream",
     "text": [
      "Rows: 65\n",
      "Columns: 3\n",
      "$ Run.ID          <chr> \"ERR781039\", \"ERR781040\", \"ERR781041\", \"ERR781042\", \"…\n",
      "$ Dataset.name    <chr> \"inflorescence development\", \"inflorescence developme…\n",
      "$ NCBI.BioProject <chr> \"PRJEB8748\", \"PRJEB8748\", \"PRJEB8748\", \"PRJEB8748\", \"…\n",
      "Rows: 175\n",
      "Columns: 3\n",
      "$ Run.ID          <chr> \"ERR1248084\", \"ERR1248085\", \"ERR1248086\", \"ERR1248087…\n",
      "$ Dataset.name    <chr> \"ref dataset drought\", \"ref dataset drought\", \"ref da…\n",
      "$ NCBI.BioProject <chr> \"PRJEB12540\", \"PRJEB12540\", \"PRJEB12540\", \"PRJEB12540…\n"
     ]
    }
   ],
   "source": [
    "# intersect barley tables\n",
    "b_v <- select(barley, Run.ID, Dataset.name, NCBI.BioProject)\n",
    "b_n <- select(barley_n, Run)\n",
    "colnames(b_n) <- \"Run.ID\"\n",
    "# this gives id-s that appear in mine but not in Nadia's -> 65 fastq-s have to be downloaded\n",
    "x <- anti_join(b_v, b_n, by = \"Run.ID\")\n",
    "glimpse(x)\n",
    "\n",
    "# this gives id-s that appear in Maxim's from my list -> 175 fastq-s have to be symbolic linked\n",
    "x1 <- inner_join(b_v, b_n, by = \"Run.ID\")\n",
    "glimpse(x1)"
   ]
  },
  {
   "cell_type": "markdown",
   "metadata": {},
   "source": [
    "## 1.1 Download additional fastq-s (from my dataset) using `sra-toolkit`"
   ]
  },
  {
   "cell_type": "code",
   "execution_count": 6,
   "metadata": {},
   "outputs": [
    {
     "name": "stdout",
     "output_type": "stream",
     "text": [
      " chr [1:67] \"CRR088963\" \"CRR088962\" \"CRR088961\" \"CRR088960\" \"CRR088959\" ...\n",
      " chr [1:65] \"ERR781039\" \"ERR781040\" \"ERR781041\" \"ERR781042\" \"ERR781043\" ...\n"
     ]
    }
   ],
   "source": [
    "# get Run.ID-s into single vector\n",
    "setwd(\"/nfs/pgsb/projects/comparative_triticeae/phenotype/flower_development/refsets/triticum\")\n",
    "w_download <- dplyr::pull(y, Run.ID)\n",
    "write.table(w_download, file = \"wheat_download_runids.txt\", append = FALSE, quote = FALSE, sep = \"\\t\", dec = \".\",\n",
    "            row.names = FALSE, col.names = FALSE)\n",
    "glimpse(w_download)\n",
    "    \n",
    "setwd(\"/nfs/pgsb/projects/comparative_triticeae/phenotype/flower_development/refsets/hordeum\")\n",
    "b_download <- dplyr::pull(x, Run.ID)\n",
    "write.table(b_download, file = \"barley_download_runids.txt\", append = FALSE, quote = FALSE, sep = \"\\t\", dec = \".\",\n",
    "            row.names = FALSE, col.names = FALSE)\n",
    "glimpse(b_download)"
   ]
  },
  {
   "cell_type": "markdown",
   "metadata": {},
   "source": [
    "## 1.2 Steps to download extra files (added to the flower-dataset but not listed in Nadia&Maxim's tables)\n",
    "1. N&M's and my selected samples Run.ID-s were intersected and saved as vectors: 67 wheat, 65 barley samples needed to be downloaded\n",
    "2. The above vectors were written into .txt files, placed in subfolders for the respective species\n",
    "3. SRA Toolkit was downloaded to the same main folder (https://www.ncbi.nlm.nih.gov/sra/docs/sradownload/)\n",
    "4. `PATH-bin` had to be established every time I opened the terminal, solved this issue by placing it in my bashrc\n",
    "5. `vdb-config -i` was called for basic configuration following the website's recommendation, and a main empty folder was put as download-target\n",
    "6. `prefetch --option-file wheat_download_runids.txt`\n",
    "7. `fasterq-dump --split-files *.sra`\n",
    "8. copied the `.*fastq`-s into destination folder (triticum), and emptied the sra-download folder for the next batch\n",
    "9. `prefetch --option-file barley_download_runids.txt`\n",
    "10. `fasterq-dump --split-files *.sra`\n",
    "11. copied the `.*fastq`-s into destination folder (hordeum), and emptied the sra-download folder\n",
    "12. for the extra 2 China + 1 France dataset, the respective websites were called, each of the fastq-s weblink were copied into a bash script with `wget` \n",
    "13. `chmod +x` - to make the bash-scripts executable\n",
    "14. `./*.sh` - to execute them\n",
    "15. I double-checked whether all files were downloaded, manually downloaded the missing ones, eg.: `prefetch SRR000001` and than `fasterq-dump --split-files SRR000001.sra`"
   ]
  },
  {
   "cell_type": "markdown",
   "metadata": {},
   "source": [
    "## 2. Create symlinks "
   ]
  },
  {
   "cell_type": "code",
   "execution_count": 6,
   "metadata": {},
   "outputs": [
    {
     "name": "stdout",
     "output_type": "stream",
     "text": [
      " chr [1:148] \"SRR10737427\" \"SRR10737428\" \"SRR10737429\" \"SRR10737430\" ...\n",
      " chr [1:175] \"ERR1248084\" \"ERR1248085\" \"ERR1248086\" \"ERR1248087\" ...\n"
     ]
    }
   ],
   "source": [
    "# get Run.ID-s into single vector\n",
    "setwd(\"/nfs/pgsb/projects/comparative_triticeae/phenotype/flower_development/refsets/triticum\")\n",
    "#w_download <- as.vector(dplyr::pull(y, Run.ID))\n",
    "w_symlink <- dplyr::pull(y1, Run.ID)\n",
    "#w_download <- as.name(w_download)\n",
    "write.table(w_symlink, file = \"wheat_symlink_runids.txt\", append = FALSE, quote = FALSE, sep = \",\", dec = \".\",\n",
    "            row.names = FALSE, col.names = FALSE)\n",
    "glimpse(w_symlink)\n",
    "    \n",
    "setwd(\"/nfs/pgsb/projects/comparative_triticeae/phenotype/flower_development/refsets/hordeum\")\n",
    "b_symlink <- dplyr::pull(x1, Run.ID)\n",
    "write.table(b_symlink, file = \"barley_symlink_runids.txt\", append = FALSE, quote = FALSE, sep = \",\", dec = \".\",\n",
    "            row.names = FALSE, col.names = FALSE)\n",
    "glimpse(b_symlink)"
   ]
  },
  {
   "cell_type": "markdown",
   "metadata": {},
   "source": [
    "## 2.1 My steps to create symbolic-links\n",
    "1. N&M's and my selected samples Run.ID-s were intersected and saved as vectors: 148 wheat, 175 barley samples needed to be symbolic-linked\n",
    "2. The above vectors were written into `wheat/barley_symlink_runids.txt` files, placed in subfolders for the respective species\n",
    "\n",
    "### For Wheat dataset:\n",
    "* from `/nfs/scratch/daniel.lang/comparative_triticeae/raw/T.aestivum`\n",
    "* to `/nfs/pgsb/projects/comparative_triticeae/phenotype/flower_development/refsets/triticum`\n",
    "\n",
    "### For Barley dataset:\n",
    "* from `/nfs/scratch/daniel.lang/comparative_triticeae/raw/H.vulgare`\n",
    "* to `/nfs/pgsb/projects/comparative_triticeae/phenotype/flower_development/refsets/hordeum`\n",
    "\n",
    "## 2.2 Bash-scripts to find failed SRA-s and create symlinks for existing ones:\n",
    "1. `csver.sh`: creates a `.csv` file with two columns, 1st column: source files with their path, 2nd column: final destination with symlink-names\n",
    "    - it is also optimized to detect first the paired fastq-s, and as second step also the single ones (for later use of creating input tables to FastQC/Trimmomatic etc)\n",
    "2. `confirmationlinker.sh`: \n",
    "    - #1 run: which files from my link-list has missing targets from source directory? points them out, that they can be manually downloaded\n",
    "    - #2 run: creates link between two tables to prepare them for `ln -s`\n",
    "3. `linker.sh`: creates symlinks using `ln -s /path/to/file /path/to/link`\n",
    "\n",
    "* scripts are located at: `vanda.marosi/scripts/`\n",
    "\n",
    "* for the wheat table missing SRA-s(failed downloads), I have `prefetch`-ed them into my folder: SRR7106399, SRR7106400, SRR7106402, SRR7106404, SRR6802615\n",
    "\n",
    "* for the barley table missing SRA-s are 87, detected via the `confirmationlinker.sh` and cut into new `missing_barley.txt` and `prefetch`-ed:\n",
    "\n",
    "    from this (column of 87 rows):\n",
    "    **this link will have no target ERR2026425.fastq.gz**\n",
    "    \n",
    "    made this (column of 87 rows):\n",
    "    **ERR2026425**\n",
    "\n",
    "    `./confirmationlinker.sh | cut -d \" \" -f 7 | cut -d \".\" -f 1 > missing_barley.txt`\n",
    "* to set maximum file size download limit to 100G (default: 20G): `prefetch --max-size 100G SRR649944`\n"
   ]
  },
  {
   "cell_type": "markdown",
   "metadata": {},
   "source": [
    "## 2.3 Create symlinks for French dataset\n",
    "* used the three above mentioned bash scripts, modified partially but creating symlinks into same folder, with these names: FRR7482-9"
   ]
  },
  {
   "cell_type": "code",
   "execution_count": 10,
   "metadata": {},
   "outputs": [
    {
     "data": {
      "text/html": [
       "<table>\n",
       "<caption>A data.frame: 6 × 2</caption>\n",
       "<thead>\n",
       "\t<tr><th></th><th scope=col>V1</th><th scope=col>V2</th></tr>\n",
       "\t<tr><th></th><th scope=col>&lt;chr&gt;</th><th scope=col>&lt;chr&gt;</th></tr>\n",
       "</thead>\n",
       "<tbody>\n",
       "\t<tr><th scope=row>1</th><td>/nfs/pgsb/projects/comparative_triticeae/phenotype/flower_development/refsets/triticum/NG-5789_1A_lib7482_1_sequence_val_1.fq.gz</td><td> /nfs/pgsb/projects/comparative_triticeae/phenotype/flower_development/refsets/triticum/FRR7482_1.fastq.gz</td></tr>\n",
       "\t<tr><th scope=row>2</th><td>/nfs/pgsb/projects/comparative_triticeae/phenotype/flower_development/refsets/triticum/NG-5789_1A_lib7482_2_sequence_val_2.fq.gz</td><td> /nfs/pgsb/projects/comparative_triticeae/phenotype/flower_development/refsets/triticum/FRR7482_2.fastq.gz</td></tr>\n",
       "\t<tr><th scope=row>3</th><td>/nfs/pgsb/projects/comparative_triticeae/phenotype/flower_development/refsets/triticum/NG-5789_1B_lib7486_1_sequence_val_1.fq.gz</td><td> /nfs/pgsb/projects/comparative_triticeae/phenotype/flower_development/refsets/triticum/FRR7486_1.fastq.gz</td></tr>\n",
       "\t<tr><th scope=row>4</th><td>/nfs/pgsb/projects/comparative_triticeae/phenotype/flower_development/refsets/triticum/NG-5789_1B_lib7486_2_sequence_val_2.fq.gz</td><td> /nfs/pgsb/projects/comparative_triticeae/phenotype/flower_development/refsets/triticum/FRR7486_2.fastq.gz</td></tr>\n",
       "\t<tr><th scope=row>5</th><td>/nfs/pgsb/projects/comparative_triticeae/phenotype/flower_development/refsets/triticum/NG-5789_2A_lib7483_1_sequence_val_1.fq.gz</td><td> /nfs/pgsb/projects/comparative_triticeae/phenotype/flower_development/refsets/triticum/FRR7483_1.fastq.gz</td></tr>\n",
       "\t<tr><th scope=row>6</th><td>/nfs/pgsb/projects/comparative_triticeae/phenotype/flower_development/refsets/triticum/NG-5789_2A_lib7483_2_sequence_val_2.fq.gz</td><td> /nfs/pgsb/projects/comparative_triticeae/phenotype/flower_development/refsets/triticum/FRR7483_2.fastq.gz</td></tr>\n",
       "</tbody>\n",
       "</table>\n"
      ],
      "text/latex": [
       "A data.frame: 6 × 2\n",
       "\\begin{tabular}{r|ll}\n",
       "  & V1 & V2\\\\\n",
       "  & <chr> & <chr>\\\\\n",
       "\\hline\n",
       "\t1 & /nfs/pgsb/projects/comparative\\_triticeae/phenotype/flower\\_development/refsets/triticum/NG-5789\\_1A\\_lib7482\\_1\\_sequence\\_val\\_1.fq.gz &  /nfs/pgsb/projects/comparative\\_triticeae/phenotype/flower\\_development/refsets/triticum/FRR7482\\_1.fastq.gz\\\\\n",
       "\t2 & /nfs/pgsb/projects/comparative\\_triticeae/phenotype/flower\\_development/refsets/triticum/NG-5789\\_1A\\_lib7482\\_2\\_sequence\\_val\\_2.fq.gz &  /nfs/pgsb/projects/comparative\\_triticeae/phenotype/flower\\_development/refsets/triticum/FRR7482\\_2.fastq.gz\\\\\n",
       "\t3 & /nfs/pgsb/projects/comparative\\_triticeae/phenotype/flower\\_development/refsets/triticum/NG-5789\\_1B\\_lib7486\\_1\\_sequence\\_val\\_1.fq.gz &  /nfs/pgsb/projects/comparative\\_triticeae/phenotype/flower\\_development/refsets/triticum/FRR7486\\_1.fastq.gz\\\\\n",
       "\t4 & /nfs/pgsb/projects/comparative\\_triticeae/phenotype/flower\\_development/refsets/triticum/NG-5789\\_1B\\_lib7486\\_2\\_sequence\\_val\\_2.fq.gz &  /nfs/pgsb/projects/comparative\\_triticeae/phenotype/flower\\_development/refsets/triticum/FRR7486\\_2.fastq.gz\\\\\n",
       "\t5 & /nfs/pgsb/projects/comparative\\_triticeae/phenotype/flower\\_development/refsets/triticum/NG-5789\\_2A\\_lib7483\\_1\\_sequence\\_val\\_1.fq.gz &  /nfs/pgsb/projects/comparative\\_triticeae/phenotype/flower\\_development/refsets/triticum/FRR7483\\_1.fastq.gz\\\\\n",
       "\t6 & /nfs/pgsb/projects/comparative\\_triticeae/phenotype/flower\\_development/refsets/triticum/NG-5789\\_2A\\_lib7483\\_2\\_sequence\\_val\\_2.fq.gz &  /nfs/pgsb/projects/comparative\\_triticeae/phenotype/flower\\_development/refsets/triticum/FRR7483\\_2.fastq.gz\\\\\n",
       "\\end{tabular}\n"
      ],
      "text/markdown": [
       "\n",
       "A data.frame: 6 × 2\n",
       "\n",
       "| <!--/--> | V1 &lt;chr&gt; | V2 &lt;chr&gt; |\n",
       "|---|---|---|\n",
       "| 1 | /nfs/pgsb/projects/comparative_triticeae/phenotype/flower_development/refsets/triticum/NG-5789_1A_lib7482_1_sequence_val_1.fq.gz |  /nfs/pgsb/projects/comparative_triticeae/phenotype/flower_development/refsets/triticum/FRR7482_1.fastq.gz |\n",
       "| 2 | /nfs/pgsb/projects/comparative_triticeae/phenotype/flower_development/refsets/triticum/NG-5789_1A_lib7482_2_sequence_val_2.fq.gz |  /nfs/pgsb/projects/comparative_triticeae/phenotype/flower_development/refsets/triticum/FRR7482_2.fastq.gz |\n",
       "| 3 | /nfs/pgsb/projects/comparative_triticeae/phenotype/flower_development/refsets/triticum/NG-5789_1B_lib7486_1_sequence_val_1.fq.gz |  /nfs/pgsb/projects/comparative_triticeae/phenotype/flower_development/refsets/triticum/FRR7486_1.fastq.gz |\n",
       "| 4 | /nfs/pgsb/projects/comparative_triticeae/phenotype/flower_development/refsets/triticum/NG-5789_1B_lib7486_2_sequence_val_2.fq.gz |  /nfs/pgsb/projects/comparative_triticeae/phenotype/flower_development/refsets/triticum/FRR7486_2.fastq.gz |\n",
       "| 5 | /nfs/pgsb/projects/comparative_triticeae/phenotype/flower_development/refsets/triticum/NG-5789_2A_lib7483_1_sequence_val_1.fq.gz |  /nfs/pgsb/projects/comparative_triticeae/phenotype/flower_development/refsets/triticum/FRR7483_1.fastq.gz |\n",
       "| 6 | /nfs/pgsb/projects/comparative_triticeae/phenotype/flower_development/refsets/triticum/NG-5789_2A_lib7483_2_sequence_val_2.fq.gz |  /nfs/pgsb/projects/comparative_triticeae/phenotype/flower_development/refsets/triticum/FRR7483_2.fastq.gz |\n",
       "\n"
      ],
      "text/plain": [
       "  V1                                                                                                                              \n",
       "1 /nfs/pgsb/projects/comparative_triticeae/phenotype/flower_development/refsets/triticum/NG-5789_1A_lib7482_1_sequence_val_1.fq.gz\n",
       "2 /nfs/pgsb/projects/comparative_triticeae/phenotype/flower_development/refsets/triticum/NG-5789_1A_lib7482_2_sequence_val_2.fq.gz\n",
       "3 /nfs/pgsb/projects/comparative_triticeae/phenotype/flower_development/refsets/triticum/NG-5789_1B_lib7486_1_sequence_val_1.fq.gz\n",
       "4 /nfs/pgsb/projects/comparative_triticeae/phenotype/flower_development/refsets/triticum/NG-5789_1B_lib7486_2_sequence_val_2.fq.gz\n",
       "5 /nfs/pgsb/projects/comparative_triticeae/phenotype/flower_development/refsets/triticum/NG-5789_2A_lib7483_1_sequence_val_1.fq.gz\n",
       "6 /nfs/pgsb/projects/comparative_triticeae/phenotype/flower_development/refsets/triticum/NG-5789_2A_lib7483_2_sequence_val_2.fq.gz\n",
       "  V2                                                                                                        \n",
       "1  /nfs/pgsb/projects/comparative_triticeae/phenotype/flower_development/refsets/triticum/FRR7482_1.fastq.gz\n",
       "2  /nfs/pgsb/projects/comparative_triticeae/phenotype/flower_development/refsets/triticum/FRR7482_2.fastq.gz\n",
       "3  /nfs/pgsb/projects/comparative_triticeae/phenotype/flower_development/refsets/triticum/FRR7486_1.fastq.gz\n",
       "4  /nfs/pgsb/projects/comparative_triticeae/phenotype/flower_development/refsets/triticum/FRR7486_2.fastq.gz\n",
       "5  /nfs/pgsb/projects/comparative_triticeae/phenotype/flower_development/refsets/triticum/FRR7483_1.fastq.gz\n",
       "6  /nfs/pgsb/projects/comparative_triticeae/phenotype/flower_development/refsets/triticum/FRR7483_2.fastq.gz"
      ]
     },
     "metadata": {},
     "output_type": "display_data"
    }
   ],
   "source": [
    "setwd(\"~/scripts\")\n",
    "symlink_french_dataset <- read.table(\"ngtmpindex.csv\", header = FALSE, sep = \",\", stringsAsFactors = FALSE)\n",
    "head(symlink_french_dataset)"
   ]
  },
  {
   "cell_type": "markdown",
   "metadata": {},
   "source": [
    "## 3. Crosscheck downloaded files with original table"
   ]
  },
  {
   "cell_type": "code",
   "execution_count": 7,
   "metadata": {},
   "outputs": [
    {
     "name": "stdout",
     "output_type": "stream",
     "text": [
      "Rows: 215\n",
      "Columns: 1\n",
      "$ V1 <chr> \"CRR078059\", \"CRR078060\", \"CRR078061\", \"CRR078062\", \"CRR078063\", \"…\n",
      "Rows: 215\n",
      "Columns: 3\n",
      "$ Run.ID          <chr> \"SRR10737427\", \"SRR10737428\", \"SRR10737429\", \"SRR1073…\n",
      "$ Dataset.name    <chr> \"pistillody of stamen\", \"pistillody of stamen\", \"pist…\n",
      "$ NCBI.BioProject <chr> \"PRJNA596597\", \"PRJNA596597\", \"PRJNA596597\", \"PRJNA59…\n"
     ]
    }
   ],
   "source": [
    "# triticum double-check, here is a column created from the downloaded files using bash (ls *gz | cut -d \".\" -f 1 | cut -d \"_\" -f 1 | uniq | grep -v NG > wheat_final_list.txt)\n",
    "setwd(\"/nfs/pgsb/projects/comparative_triticeae/phenotype/flower_development/refsets/triticum\")\n",
    "w_check <- read.table(\"wheat_final_list.txt\", header = FALSE, sep = \"\\t\", stringsAsFactors = FALSE)\n",
    "glimpse(w_check)\n",
    "colnames(w_check) <- \"Run.ID\"\n",
    "# the intersection with my original wheat table (based on which files were downloaded) will give the rows that are present in both tables\n",
    "ww <- inner_join(w_v, w_check, by = \"Run.ID\")\n",
    "glimpse(ww)\n",
    "# everything was succesfull!"
   ]
  },
  {
   "cell_type": "code",
   "execution_count": 9,
   "metadata": {},
   "outputs": [
    {
     "name": "stdout",
     "output_type": "stream",
     "text": [
      "Rows: 240\n",
      "Columns: 1\n",
      "$ V1 <chr> \"ERR1248084\", \"ERR1248085\", \"ERR1248086\", \"ERR1248087\", \"ERR124808…\n",
      "Rows: 240\n",
      "Columns: 3\n",
      "$ Run.ID          <chr> \"ERR781039\", \"ERR781040\", \"ERR781041\", \"ERR781042\", \"…\n",
      "$ Dataset.name    <chr> \"inflorescence development\", \"inflorescence developme…\n",
      "$ NCBI.BioProject <chr> \"PRJEB8748\", \"PRJEB8748\", \"PRJEB8748\", \"PRJEB8748\", \"…\n"
     ]
    }
   ],
   "source": [
    "# hordeum double-check -> here is a column created from the downloaded files using bash (ls *gz | cut -d \".\" -f 1 | cut -d \"_\" -f 1 | uniq | grep -v NG > barley_final_list.txt\n",
    "setwd(\"/nfs/pgsb/projects/comparative_triticeae/phenotype/flower_development/refsets/hordeum\")\n",
    "b_check <- read.table(\"barley_final_list.txt\", header = FALSE, sep = \"\\t\", stringsAsFactors = FALSE)\n",
    "glimpse(b_check)\n",
    "colnames(b_check) <- \"Run.ID\"\n",
    "# the intersection with my original wheat table (based on which files were downloaded) will give the rows that are present in both tables\n",
    "bb <- inner_join(b_v, b_check, by = \"Run.ID\")\n",
    "glimpse(bb)\n",
    "# everything was succesfull!"
   ]
  },
  {
   "cell_type": "markdown",
   "metadata": {},
   "source": [
    "## 4. Rename libraries\n",
    "* to create  universal `_1/2_fastq.gz` naming using bash scripts\n",
    "* 1. format in triticum only: `CRR088946_f1.fastq.gz`\n",
    "    solution: `for file in $(find ./*f1.fastq.gz);do file1=$(echo $file | cut -d '/' -f 2 | cut -d '_' -f 1 ); echo mv ./${file1}_f1.* ./${file1}1.fastq.gz; done`\n",
    "* 2. format in triticum only: `CRR088946_r2.fastq.gz`\n",
    "    solution: `for file in $(find ./*r2.fastq.gz);do file1=$(echo $file | cut -d '/' -f 2 | cut -d '_' -f 1 ); echo mv ./${file1}_r2.* ./${file1}_2.fastq.gz; done`\n",
    "* 3. format in tri/hordeum both: `SRR7106404.sra_1.fastq.gz`\n",
    "    solution: `for file in $(find ./*.sra_1.fastq.gz);do file1=$(echo $file | cut -d '/' -f 2 | cut -d '.' -f 1 ); echo mv ./${file1}.sra_1* ./${file1}_1.fastq.gz; done`\n",
    "* 4. format in tri/hordeum both: `SRR7106404.sra_2.fastq.gz`\n",
    "    solution: `for file in $(find ./*.sra_2.fastq.gz);do file1=$(echo $file | cut -d '/' -f 2 | cut -d '.' -f 1 ); echo mv ./${file1}.sra_2* ./${file1}_2.fastq.gz; done`\n",
    "* 5. format in tri/hordeum both: `SRR5464507.sra.fastq.gz`\n",
    "     solution: `for file in $(find ./*.sra.fastq.gz);do file1=$(echo $file | cut -d '/' -f 2 | cut -d '.' -f 1 ); echo mv ./${file1}.sra.* ./${file1}.fastq.gz; done`"
   ]
  },
  {
   "cell_type": "markdown",
   "metadata": {},
   "source": [
    "## 5. MD5 checksum\n",
    "* Perl script from Daniel: \n",
    "    - for triticum: `perl -ne 'chomp; @a=split/\\t/; next if $a[0]=~ /^CRR|FRR/; my $u= sprintf(q(https://www.ebi.ac.uk/ena/data/warehouse/filereport?accession=%s&result=read_run&fields=run_accession,fastq_ftp,fastq_md5,fastq_bytes,read_count,first_public,last_updated,center_name,broker_name),$a[0]); my $c=`curl -s \"$u\"`;  if ($i) {$c=~ s/^run_accession.+\\n//g;} print $c; $i++;' wheat_project_table.txt > wheat_project_table.only_sra.metadata.txt`\n",
    "    - for hordeum: `perl -ne 'chomp; @a=split/\\t/; next if $a[0]=~ /^CRR|FRR/; my $u= sprintf(q(https://www.ebi.ac.uk/ena/data/warehouse/filereport?accession=%s&result=read_run&fields=run_accession,fastq_ftp,fastq_md5,fastq_bytes,read_count,first_public,last_updated,center_name,broker_name),$a[0]); my $c=`curl -s \"$u\"`;  if ($i) {$c=~ s/^run_accession.+\\n//g;} print $c; $i++;' barley_project_table.txt > barley_project_table.only_sra.metadata.txt`\n",
    "\n",
    "* 3 datasets that were downloaded from other websites had to be excluded as they dont have SRAnumber: `CRR|FRR`:\n",
    "    - CRR: 1x18, 1x27\n",
    "    - FRR: 1x8\n",
    "    - alltogether 53 samples are impossible to md5sum-check\n",
    "\n",
    "### 5.1 Triticum"
   ]
  },
  {
   "cell_type": "code",
   "execution_count": 131,
   "metadata": {},
   "outputs": [
    {
     "name": "stdout",
     "output_type": "stream",
     "text": [
      "Rows: 395\n",
      "Columns: 2\n",
      "$ md5sum      <chr> \"f733f5ee55823b5ebf2a849753fbe4d1\", \"1e496dfb4829e6d2fcf0…\n",
      "$ read_origin <chr> \"CRR078059.fastq.gz\", \"CRR078060.fastq.gz\", \"CRR078061.fa…\n"
     ]
    },
    {
     "data": {
      "text/html": [
       "<table>\n",
       "<caption>A data.frame: 6 × 2</caption>\n",
       "<thead>\n",
       "\t<tr><th></th><th scope=col>md5sum</th><th scope=col>read_origin</th></tr>\n",
       "\t<tr><th></th><th scope=col>&lt;chr&gt;</th><th scope=col>&lt;chr&gt;</th></tr>\n",
       "</thead>\n",
       "<tbody>\n",
       "\t<tr><th scope=row>390</th><td>2fc1e290297d7aa65e27d2768ae07d9d</td><td>SRR9593826_1.fastq.gz</td></tr>\n",
       "\t<tr><th scope=row>391</th><td>a24c2baae8befbfdbf8310e81c6b0408</td><td>SRR9593826_2.fastq.gz</td></tr>\n",
       "\t<tr><th scope=row>392</th><td>d81780ca607bcdf0316f6ff7167538be</td><td>SRR9593827_1.fastq.gz</td></tr>\n",
       "\t<tr><th scope=row>393</th><td>3c721cd1caa85c4c18a4c43173721152</td><td>SRR9593827_2.fastq.gz</td></tr>\n",
       "\t<tr><th scope=row>394</th><td>2916437a5589491f0f1ecc9bc5ef4529</td><td>SRR9593828_1.fastq.gz</td></tr>\n",
       "\t<tr><th scope=row>395</th><td>9a656f9988cf72ec05c0ed20c0c420a1</td><td>SRR9593828_2.fastq.gz</td></tr>\n",
       "</tbody>\n",
       "</table>\n"
      ],
      "text/latex": [
       "A data.frame: 6 × 2\n",
       "\\begin{tabular}{r|ll}\n",
       "  & md5sum & read\\_origin\\\\\n",
       "  & <chr> & <chr>\\\\\n",
       "\\hline\n",
       "\t390 & 2fc1e290297d7aa65e27d2768ae07d9d & SRR9593826\\_1.fastq.gz\\\\\n",
       "\t391 & a24c2baae8befbfdbf8310e81c6b0408 & SRR9593826\\_2.fastq.gz\\\\\n",
       "\t392 & d81780ca607bcdf0316f6ff7167538be & SRR9593827\\_1.fastq.gz\\\\\n",
       "\t393 & 3c721cd1caa85c4c18a4c43173721152 & SRR9593827\\_2.fastq.gz\\\\\n",
       "\t394 & 2916437a5589491f0f1ecc9bc5ef4529 & SRR9593828\\_1.fastq.gz\\\\\n",
       "\t395 & 9a656f9988cf72ec05c0ed20c0c420a1 & SRR9593828\\_2.fastq.gz\\\\\n",
       "\\end{tabular}\n"
      ],
      "text/markdown": [
       "\n",
       "A data.frame: 6 × 2\n",
       "\n",
       "| <!--/--> | md5sum &lt;chr&gt; | read_origin &lt;chr&gt; |\n",
       "|---|---|---|\n",
       "| 390 | 2fc1e290297d7aa65e27d2768ae07d9d | SRR9593826_1.fastq.gz |\n",
       "| 391 | a24c2baae8befbfdbf8310e81c6b0408 | SRR9593826_2.fastq.gz |\n",
       "| 392 | d81780ca607bcdf0316f6ff7167538be | SRR9593827_1.fastq.gz |\n",
       "| 393 | 3c721cd1caa85c4c18a4c43173721152 | SRR9593827_2.fastq.gz |\n",
       "| 394 | 2916437a5589491f0f1ecc9bc5ef4529 | SRR9593828_1.fastq.gz |\n",
       "| 395 | 9a656f9988cf72ec05c0ed20c0c420a1 | SRR9593828_2.fastq.gz |\n",
       "\n"
      ],
      "text/plain": [
       "    md5sum                           read_origin          \n",
       "390 2fc1e290297d7aa65e27d2768ae07d9d SRR9593826_1.fastq.gz\n",
       "391 a24c2baae8befbfdbf8310e81c6b0408 SRR9593826_2.fastq.gz\n",
       "392 d81780ca607bcdf0316f6ff7167538be SRR9593827_1.fastq.gz\n",
       "393 3c721cd1caa85c4c18a4c43173721152 SRR9593827_2.fastq.gz\n",
       "394 2916437a5589491f0f1ecc9bc5ef4529 SRR9593828_1.fastq.gz\n",
       "395 9a656f9988cf72ec05c0ed20c0c420a1 SRR9593828_2.fastq.gz"
      ]
     },
     "metadata": {},
     "output_type": "display_data"
    },
    {
     "name": "stdout",
     "output_type": "stream",
     "text": [
      "Rows: 162\n",
      "Columns: 5\n",
      "$ run_accession <chr> \"SRR10737427\", \"SRR10737428\", \"SRR10737429\", \"SRR107374…\n",
      "$ fastq_ftp     <chr> \"ftp.sra.ebi.ac.uk/vol1/fastq/SRR107/027/SRR10737427/SR…\n",
      "$ fastq_md5     <chr> \"c48a1b60c43bdd2be454da61bb3639c2;f561735f47f93862cf552…\n",
      "$ fastq_bytes   <chr> \"2002341649;2538119255\", \"1974289005;2491528745\", \"1673…\n",
      "$ read_count    <int> 24689119, 24037621, 19838033, 24597111, 23550244, 23342…\n"
     ]
    },
    {
     "data": {
      "text/html": [
       "<table>\n",
       "<caption>A data.frame: 6 × 5</caption>\n",
       "<thead>\n",
       "\t<tr><th></th><th scope=col>run_accession</th><th scope=col>fastq_ftp</th><th scope=col>fastq_md5</th><th scope=col>fastq_bytes</th><th scope=col>read_count</th></tr>\n",
       "\t<tr><th></th><th scope=col>&lt;chr&gt;</th><th scope=col>&lt;chr&gt;</th><th scope=col>&lt;chr&gt;</th><th scope=col>&lt;chr&gt;</th><th scope=col>&lt;int&gt;</th></tr>\n",
       "</thead>\n",
       "<tbody>\n",
       "\t<tr><th scope=row>157</th><td>SRR5186313</td><td>ftp.sra.ebi.ac.uk/vol1/fastq/SRR518/003/SRR5186313/SRR5186313_1.fastq.gz;ftp.sra.ebi.ac.uk/vol1/fastq/SRR518/003/SRR5186313/SRR5186313_2.fastq.gz</td><td>5a531c5b27bdf30631d945dd0e7ff312;fae6d79a2325fcc19b11130960bd3e26</td><td>1825752785;1899613025</td><td>23607972</td></tr>\n",
       "\t<tr><th scope=row>158</th><td>SRR5186364</td><td>ftp.sra.ebi.ac.uk/vol1/fastq/SRR518/004/SRR5186364/SRR5186364_1.fastq.gz;ftp.sra.ebi.ac.uk/vol1/fastq/SRR518/004/SRR5186364/SRR5186364_2.fastq.gz</td><td>5f1b636f4eb935bf1f4243914e9b83b9;601c31619da584853d14b91786dc76e6</td><td>1790888245;1872901419</td><td>23279520</td></tr>\n",
       "\t<tr><th scope=row>159</th><td>SRR5186375</td><td>ftp.sra.ebi.ac.uk/vol1/fastq/SRR518/005/SRR5186375/SRR5186375_1.fastq.gz;ftp.sra.ebi.ac.uk/vol1/fastq/SRR518/005/SRR5186375/SRR5186375_2.fastq.gz</td><td>26731d99fc42c834abafed858621955a;a556d201fa0e2be73c13bab5dc24b726</td><td>1821737928;1915714923</td><td>23375772</td></tr>\n",
       "\t<tr><th scope=row>160</th><td>SRR5186382</td><td>ftp.sra.ebi.ac.uk/vol1/fastq/SRR518/002/SRR5186382/SRR5186382_1.fastq.gz;ftp.sra.ebi.ac.uk/vol1/fastq/SRR518/002/SRR5186382/SRR5186382_2.fastq.gz</td><td>d203a431336e1d8d3e1d7474206ff3c8;2c3e8c6dfe877438516c6d1bd80476dd</td><td>1822596582;1896701016</td><td>23530190</td></tr>\n",
       "\t<tr><th scope=row>161</th><td>SRR5186387</td><td>ftp.sra.ebi.ac.uk/vol1/fastq/SRR518/007/SRR5186387/SRR5186387_1.fastq.gz;ftp.sra.ebi.ac.uk/vol1/fastq/SRR518/007/SRR5186387/SRR5186387_2.fastq.gz</td><td>f382a7e050bf68e8161a15a7cc3da81c;2e43e68afd7207b95637b3c5da450ab8</td><td>1795499261;1901983362</td><td>23293084</td></tr>\n",
       "\t<tr><th scope=row>162</th><td>SRR5186416</td><td>ftp.sra.ebi.ac.uk/vol1/fastq/SRR518/006/SRR5186416/SRR5186416_1.fastq.gz;ftp.sra.ebi.ac.uk/vol1/fastq/SRR518/006/SRR5186416/SRR5186416_2.fastq.gz</td><td>1f1834e127d76e260f6d6f0163b39460;0314277a3e5652ddc0d2a9b0239c99ef</td><td>1724414113;1819518362</td><td>23194453</td></tr>\n",
       "</tbody>\n",
       "</table>\n"
      ],
      "text/latex": [
       "A data.frame: 6 × 5\n",
       "\\begin{tabular}{r|lllll}\n",
       "  & run\\_accession & fastq\\_ftp & fastq\\_md5 & fastq\\_bytes & read\\_count\\\\\n",
       "  & <chr> & <chr> & <chr> & <chr> & <int>\\\\\n",
       "\\hline\n",
       "\t157 & SRR5186313 & ftp.sra.ebi.ac.uk/vol1/fastq/SRR518/003/SRR5186313/SRR5186313\\_1.fastq.gz;ftp.sra.ebi.ac.uk/vol1/fastq/SRR518/003/SRR5186313/SRR5186313\\_2.fastq.gz & 5a531c5b27bdf30631d945dd0e7ff312;fae6d79a2325fcc19b11130960bd3e26 & 1825752785;1899613025 & 23607972\\\\\n",
       "\t158 & SRR5186364 & ftp.sra.ebi.ac.uk/vol1/fastq/SRR518/004/SRR5186364/SRR5186364\\_1.fastq.gz;ftp.sra.ebi.ac.uk/vol1/fastq/SRR518/004/SRR5186364/SRR5186364\\_2.fastq.gz & 5f1b636f4eb935bf1f4243914e9b83b9;601c31619da584853d14b91786dc76e6 & 1790888245;1872901419 & 23279520\\\\\n",
       "\t159 & SRR5186375 & ftp.sra.ebi.ac.uk/vol1/fastq/SRR518/005/SRR5186375/SRR5186375\\_1.fastq.gz;ftp.sra.ebi.ac.uk/vol1/fastq/SRR518/005/SRR5186375/SRR5186375\\_2.fastq.gz & 26731d99fc42c834abafed858621955a;a556d201fa0e2be73c13bab5dc24b726 & 1821737928;1915714923 & 23375772\\\\\n",
       "\t160 & SRR5186382 & ftp.sra.ebi.ac.uk/vol1/fastq/SRR518/002/SRR5186382/SRR5186382\\_1.fastq.gz;ftp.sra.ebi.ac.uk/vol1/fastq/SRR518/002/SRR5186382/SRR5186382\\_2.fastq.gz & d203a431336e1d8d3e1d7474206ff3c8;2c3e8c6dfe877438516c6d1bd80476dd & 1822596582;1896701016 & 23530190\\\\\n",
       "\t161 & SRR5186387 & ftp.sra.ebi.ac.uk/vol1/fastq/SRR518/007/SRR5186387/SRR5186387\\_1.fastq.gz;ftp.sra.ebi.ac.uk/vol1/fastq/SRR518/007/SRR5186387/SRR5186387\\_2.fastq.gz & f382a7e050bf68e8161a15a7cc3da81c;2e43e68afd7207b95637b3c5da450ab8 & 1795499261;1901983362 & 23293084\\\\\n",
       "\t162 & SRR5186416 & ftp.sra.ebi.ac.uk/vol1/fastq/SRR518/006/SRR5186416/SRR5186416\\_1.fastq.gz;ftp.sra.ebi.ac.uk/vol1/fastq/SRR518/006/SRR5186416/SRR5186416\\_2.fastq.gz & 1f1834e127d76e260f6d6f0163b39460;0314277a3e5652ddc0d2a9b0239c99ef & 1724414113;1819518362 & 23194453\\\\\n",
       "\\end{tabular}\n"
      ],
      "text/markdown": [
       "\n",
       "A data.frame: 6 × 5\n",
       "\n",
       "| <!--/--> | run_accession &lt;chr&gt; | fastq_ftp &lt;chr&gt; | fastq_md5 &lt;chr&gt; | fastq_bytes &lt;chr&gt; | read_count &lt;int&gt; |\n",
       "|---|---|---|---|---|---|\n",
       "| 157 | SRR5186313 | ftp.sra.ebi.ac.uk/vol1/fastq/SRR518/003/SRR5186313/SRR5186313_1.fastq.gz;ftp.sra.ebi.ac.uk/vol1/fastq/SRR518/003/SRR5186313/SRR5186313_2.fastq.gz | 5a531c5b27bdf30631d945dd0e7ff312;fae6d79a2325fcc19b11130960bd3e26 | 1825752785;1899613025 | 23607972 |\n",
       "| 158 | SRR5186364 | ftp.sra.ebi.ac.uk/vol1/fastq/SRR518/004/SRR5186364/SRR5186364_1.fastq.gz;ftp.sra.ebi.ac.uk/vol1/fastq/SRR518/004/SRR5186364/SRR5186364_2.fastq.gz | 5f1b636f4eb935bf1f4243914e9b83b9;601c31619da584853d14b91786dc76e6 | 1790888245;1872901419 | 23279520 |\n",
       "| 159 | SRR5186375 | ftp.sra.ebi.ac.uk/vol1/fastq/SRR518/005/SRR5186375/SRR5186375_1.fastq.gz;ftp.sra.ebi.ac.uk/vol1/fastq/SRR518/005/SRR5186375/SRR5186375_2.fastq.gz | 26731d99fc42c834abafed858621955a;a556d201fa0e2be73c13bab5dc24b726 | 1821737928;1915714923 | 23375772 |\n",
       "| 160 | SRR5186382 | ftp.sra.ebi.ac.uk/vol1/fastq/SRR518/002/SRR5186382/SRR5186382_1.fastq.gz;ftp.sra.ebi.ac.uk/vol1/fastq/SRR518/002/SRR5186382/SRR5186382_2.fastq.gz | d203a431336e1d8d3e1d7474206ff3c8;2c3e8c6dfe877438516c6d1bd80476dd | 1822596582;1896701016 | 23530190 |\n",
       "| 161 | SRR5186387 | ftp.sra.ebi.ac.uk/vol1/fastq/SRR518/007/SRR5186387/SRR5186387_1.fastq.gz;ftp.sra.ebi.ac.uk/vol1/fastq/SRR518/007/SRR5186387/SRR5186387_2.fastq.gz | f382a7e050bf68e8161a15a7cc3da81c;2e43e68afd7207b95637b3c5da450ab8 | 1795499261;1901983362 | 23293084 |\n",
       "| 162 | SRR5186416 | ftp.sra.ebi.ac.uk/vol1/fastq/SRR518/006/SRR5186416/SRR5186416_1.fastq.gz;ftp.sra.ebi.ac.uk/vol1/fastq/SRR518/006/SRR5186416/SRR5186416_2.fastq.gz | 1f1834e127d76e260f6d6f0163b39460;0314277a3e5652ddc0d2a9b0239c99ef | 1724414113;1819518362 | 23194453 |\n",
       "\n"
      ],
      "text/plain": [
       "    run_accession\n",
       "157 SRR5186313   \n",
       "158 SRR5186364   \n",
       "159 SRR5186375   \n",
       "160 SRR5186382   \n",
       "161 SRR5186387   \n",
       "162 SRR5186416   \n",
       "    fastq_ftp                                                                                                                                        \n",
       "157 ftp.sra.ebi.ac.uk/vol1/fastq/SRR518/003/SRR5186313/SRR5186313_1.fastq.gz;ftp.sra.ebi.ac.uk/vol1/fastq/SRR518/003/SRR5186313/SRR5186313_2.fastq.gz\n",
       "158 ftp.sra.ebi.ac.uk/vol1/fastq/SRR518/004/SRR5186364/SRR5186364_1.fastq.gz;ftp.sra.ebi.ac.uk/vol1/fastq/SRR518/004/SRR5186364/SRR5186364_2.fastq.gz\n",
       "159 ftp.sra.ebi.ac.uk/vol1/fastq/SRR518/005/SRR5186375/SRR5186375_1.fastq.gz;ftp.sra.ebi.ac.uk/vol1/fastq/SRR518/005/SRR5186375/SRR5186375_2.fastq.gz\n",
       "160 ftp.sra.ebi.ac.uk/vol1/fastq/SRR518/002/SRR5186382/SRR5186382_1.fastq.gz;ftp.sra.ebi.ac.uk/vol1/fastq/SRR518/002/SRR5186382/SRR5186382_2.fastq.gz\n",
       "161 ftp.sra.ebi.ac.uk/vol1/fastq/SRR518/007/SRR5186387/SRR5186387_1.fastq.gz;ftp.sra.ebi.ac.uk/vol1/fastq/SRR518/007/SRR5186387/SRR5186387_2.fastq.gz\n",
       "162 ftp.sra.ebi.ac.uk/vol1/fastq/SRR518/006/SRR5186416/SRR5186416_1.fastq.gz;ftp.sra.ebi.ac.uk/vol1/fastq/SRR518/006/SRR5186416/SRR5186416_2.fastq.gz\n",
       "    fastq_md5                                                        \n",
       "157 5a531c5b27bdf30631d945dd0e7ff312;fae6d79a2325fcc19b11130960bd3e26\n",
       "158 5f1b636f4eb935bf1f4243914e9b83b9;601c31619da584853d14b91786dc76e6\n",
       "159 26731d99fc42c834abafed858621955a;a556d201fa0e2be73c13bab5dc24b726\n",
       "160 d203a431336e1d8d3e1d7474206ff3c8;2c3e8c6dfe877438516c6d1bd80476dd\n",
       "161 f382a7e050bf68e8161a15a7cc3da81c;2e43e68afd7207b95637b3c5da450ab8\n",
       "162 1f1834e127d76e260f6d6f0163b39460;0314277a3e5652ddc0d2a9b0239c99ef\n",
       "    fastq_bytes           read_count\n",
       "157 1825752785;1899613025 23607972  \n",
       "158 1790888245;1872901419 23279520  \n",
       "159 1821737928;1915714923 23375772  \n",
       "160 1822596582;1896701016 23530190  \n",
       "161 1795499261;1901983362 23293084  \n",
       "162 1724414113;1819518362 23194453  "
      ]
     },
     "metadata": {},
     "output_type": "display_data"
    }
   ],
   "source": [
    "setwd(\"/nfs/pgsb/projects/comparative_triticeae/phenotype/flower_development/refsets/triticum\")\n",
    "md5_myfiles_t <- read.table(\"md5sum_triticum.txt\", header = FALSE, stringsAsFactors = FALSE, fill = TRUE)\n",
    "colnames(md5_myfiles_t) <- c(\"md5sum\", \"read_origin\")\n",
    "glimpse(md5_myfiles_t)\n",
    "# in my files there are total 395 files: 180 paired (2x=360) + 35 single reads\n",
    "tail(md5_myfiles_t)\n",
    "\n",
    "md5_srafiles_t <- read.table(\"wheat_project_table.only_sra.metadata.txt\", header = TRUE, stringsAsFactors = FALSE, fill = TRUE)\n",
    "glimpse(md5_srafiles_t)\n",
    "# from my files 53 had to be excluded (not SRA-based), and 8 are single reads, and 9 SRAquery failed = (395-53-8-9)/2=162 rows\n",
    "# so 9 rows are fully empty!!! only run accession is available: rows 96-104 are empty\n",
    "tail(md5_srafiles_t)"
   ]
  },
  {
   "cell_type": "code",
   "execution_count": 129,
   "metadata": {},
   "outputs": [
    {
     "name": "stderr",
     "output_type": "stream",
     "text": [
      "Warning message:\n",
      "“Expected 2 pieces. Missing pieces filled with `NA` in 8 rows [88, 89, 90, 91, 92, 93, 94, 95].”Warning message:\n",
      "“Expected 2 pieces. Missing pieces filled with `NA` in 8 rows [88, 89, 90, 91, 92, 93, 94, 95].”"
     ]
    },
    {
     "name": "stdout",
     "output_type": "stream",
     "text": [
      "Rows: 153\n",
      "Columns: 5\n",
      "$ run_accession <chr> \"SRR10737427\", \"SRR10737428\", \"SRR10737429\", \"SRR107374…\n",
      "$ read          <chr> \"ftp.sra.ebi.ac.uk/vol1/fastq/SRR107/027/SRR10737427/SR…\n",
      "$ read2         <chr> \"ftp.sra.ebi.ac.uk/vol1/fastq/SRR107/027/SRR10737427/SR…\n",
      "$ md5sum        <chr> \"c48a1b60c43bdd2be454da61bb3639c2\", \"c90946fe4d3243d6c3…\n",
      "$ md5sum2       <chr> \"f561735f47f93862cf552112d5ecfd44\", \"735ebb95b8efb3cf26…\n",
      "Rows: 306\n",
      "Columns: 2\n",
      "$ read   <chr> \"ftp.sra.ebi.ac.uk/vol1/fastq/SRR107/027/SRR10737427/SRR107374…\n",
      "$ md5sum <chr> \"c48a1b60c43bdd2be454da61bb3639c2\", \"c90946fe4d3243d6c39817345…\n",
      "Rows: 298\n",
      "Columns: 2\n",
      "$ read   <chr> \"ftp.sra.ebi.ac.uk/vol1/fastq/SRR107/027/SRR10737427/SRR107374…\n",
      "$ md5sum <chr> \"c48a1b60c43bdd2be454da61bb3639c2\", \"c90946fe4d3243d6c39817345…\n"
     ]
    },
    {
     "data": {
      "text/html": [
       "<table>\n",
       "<caption>A data.frame: 6 × 2</caption>\n",
       "<thead>\n",
       "\t<tr><th></th><th scope=col>read</th><th scope=col>md5sum</th></tr>\n",
       "\t<tr><th></th><th scope=col>&lt;chr&gt;</th><th scope=col>&lt;chr&gt;</th></tr>\n",
       "</thead>\n",
       "<tbody>\n",
       "\t<tr><th scope=row>1</th><td>ftp.sra.ebi.ac.uk/vol1/fastq/SRR107/027/SRR10737427/SRR10737427_1.fastq.gz</td><td>c48a1b60c43bdd2be454da61bb3639c2</td></tr>\n",
       "\t<tr><th scope=row>2</th><td>ftp.sra.ebi.ac.uk/vol1/fastq/SRR107/028/SRR10737428/SRR10737428_1.fastq.gz</td><td>c90946fe4d3243d6c39817345124b33c</td></tr>\n",
       "\t<tr><th scope=row>3</th><td>ftp.sra.ebi.ac.uk/vol1/fastq/SRR107/029/SRR10737429/SRR10737429_1.fastq.gz</td><td>36969eeb74e3f80d16e1c46558c9a220</td></tr>\n",
       "\t<tr><th scope=row>4</th><td>ftp.sra.ebi.ac.uk/vol1/fastq/SRR107/030/SRR10737430/SRR10737430_1.fastq.gz</td><td>1845b33ce6e8507e2f6a69fdf1768be5</td></tr>\n",
       "\t<tr><th scope=row>5</th><td>ftp.sra.ebi.ac.uk/vol1/fastq/SRR107/031/SRR10737431/SRR10737431_1.fastq.gz</td><td>99b22710f2a9d2b02d57588f245b7b2f</td></tr>\n",
       "\t<tr><th scope=row>6</th><td>ftp.sra.ebi.ac.uk/vol1/fastq/SRR107/032/SRR10737432/SRR10737432_1.fastq.gz</td><td>781ed0f598ef66f9926ed843a3aebf76</td></tr>\n",
       "</tbody>\n",
       "</table>\n"
      ],
      "text/latex": [
       "A data.frame: 6 × 2\n",
       "\\begin{tabular}{r|ll}\n",
       "  & read & md5sum\\\\\n",
       "  & <chr> & <chr>\\\\\n",
       "\\hline\n",
       "\t1 & ftp.sra.ebi.ac.uk/vol1/fastq/SRR107/027/SRR10737427/SRR10737427\\_1.fastq.gz & c48a1b60c43bdd2be454da61bb3639c2\\\\\n",
       "\t2 & ftp.sra.ebi.ac.uk/vol1/fastq/SRR107/028/SRR10737428/SRR10737428\\_1.fastq.gz & c90946fe4d3243d6c39817345124b33c\\\\\n",
       "\t3 & ftp.sra.ebi.ac.uk/vol1/fastq/SRR107/029/SRR10737429/SRR10737429\\_1.fastq.gz & 36969eeb74e3f80d16e1c46558c9a220\\\\\n",
       "\t4 & ftp.sra.ebi.ac.uk/vol1/fastq/SRR107/030/SRR10737430/SRR10737430\\_1.fastq.gz & 1845b33ce6e8507e2f6a69fdf1768be5\\\\\n",
       "\t5 & ftp.sra.ebi.ac.uk/vol1/fastq/SRR107/031/SRR10737431/SRR10737431\\_1.fastq.gz & 99b22710f2a9d2b02d57588f245b7b2f\\\\\n",
       "\t6 & ftp.sra.ebi.ac.uk/vol1/fastq/SRR107/032/SRR10737432/SRR10737432\\_1.fastq.gz & 781ed0f598ef66f9926ed843a3aebf76\\\\\n",
       "\\end{tabular}\n"
      ],
      "text/markdown": [
       "\n",
       "A data.frame: 6 × 2\n",
       "\n",
       "| <!--/--> | read &lt;chr&gt; | md5sum &lt;chr&gt; |\n",
       "|---|---|---|\n",
       "| 1 | ftp.sra.ebi.ac.uk/vol1/fastq/SRR107/027/SRR10737427/SRR10737427_1.fastq.gz | c48a1b60c43bdd2be454da61bb3639c2 |\n",
       "| 2 | ftp.sra.ebi.ac.uk/vol1/fastq/SRR107/028/SRR10737428/SRR10737428_1.fastq.gz | c90946fe4d3243d6c39817345124b33c |\n",
       "| 3 | ftp.sra.ebi.ac.uk/vol1/fastq/SRR107/029/SRR10737429/SRR10737429_1.fastq.gz | 36969eeb74e3f80d16e1c46558c9a220 |\n",
       "| 4 | ftp.sra.ebi.ac.uk/vol1/fastq/SRR107/030/SRR10737430/SRR10737430_1.fastq.gz | 1845b33ce6e8507e2f6a69fdf1768be5 |\n",
       "| 5 | ftp.sra.ebi.ac.uk/vol1/fastq/SRR107/031/SRR10737431/SRR10737431_1.fastq.gz | 99b22710f2a9d2b02d57588f245b7b2f |\n",
       "| 6 | ftp.sra.ebi.ac.uk/vol1/fastq/SRR107/032/SRR10737432/SRR10737432_1.fastq.gz | 781ed0f598ef66f9926ed843a3aebf76 |\n",
       "\n"
      ],
      "text/plain": [
       "  read                                                                      \n",
       "1 ftp.sra.ebi.ac.uk/vol1/fastq/SRR107/027/SRR10737427/SRR10737427_1.fastq.gz\n",
       "2 ftp.sra.ebi.ac.uk/vol1/fastq/SRR107/028/SRR10737428/SRR10737428_1.fastq.gz\n",
       "3 ftp.sra.ebi.ac.uk/vol1/fastq/SRR107/029/SRR10737429/SRR10737429_1.fastq.gz\n",
       "4 ftp.sra.ebi.ac.uk/vol1/fastq/SRR107/030/SRR10737430/SRR10737430_1.fastq.gz\n",
       "5 ftp.sra.ebi.ac.uk/vol1/fastq/SRR107/031/SRR10737431/SRR10737431_1.fastq.gz\n",
       "6 ftp.sra.ebi.ac.uk/vol1/fastq/SRR107/032/SRR10737432/SRR10737432_1.fastq.gz\n",
       "  md5sum                          \n",
       "1 c48a1b60c43bdd2be454da61bb3639c2\n",
       "2 c90946fe4d3243d6c39817345124b33c\n",
       "3 36969eeb74e3f80d16e1c46558c9a220\n",
       "4 1845b33ce6e8507e2f6a69fdf1768be5\n",
       "5 99b22710f2a9d2b02d57588f245b7b2f\n",
       "6 781ed0f598ef66f9926ed843a3aebf76"
      ]
     },
     "metadata": {},
     "output_type": "display_data"
    }
   ],
   "source": [
    "# wrangling md5_srafiles_t\n",
    "# delete missing gap of 94-104\n",
    "md5_1 <- slice(md5_srafiles_t, 1:95)\n",
    "md5_2 <- slice(md5_srafiles_t, 105:162)\n",
    "md5_srafiles_joined <- bind_rows(md5_1, md5_2)\n",
    "# select relevant columns\n",
    "md5_srafiles_js <- select(md5_srafiles_joined, run_accession, fastq_ftp, fastq_md5)\n",
    "# separate read names\n",
    "md5_srafiles_t_n <- separate(md5_srafiles_js, fastq_ftp, sep=\";\", into=c(\"read\", \"read2\"), remove = TRUE)\n",
    "# separate md5sums\n",
    "md5_srafiles_t_nm <- separate(md5_srafiles_t_n, fastq_md5, sep=\";\", into=c(\"md5sum\", \"md5sum2\"), remove = TRUE)\n",
    "glimpse(md5_srafiles_t_nm)\n",
    "# bind column2-s under column1-s as new rows\n",
    "col1 <- select(md5_srafiles_t_nm, read, md5sum)\n",
    "col2 <- select(md5_srafiles_t_nm, read2, md5sum2)\n",
    "colnames(col2) <- c(\"read\", \"md5sum\")\n",
    "md5_srafiles_clean <- bind_rows(col1, col2)\n",
    "glimpse(md5_srafiles_clean)\n",
    "\n",
    "# delete missing gap of 241-248 from single reads\n",
    "md5_j1 <- slice(md5_srafiles_clean, 1:240)\n",
    "md5_j2 <- slice(md5_srafiles_clean, 249:306)\n",
    "md5_srafiles_jc <- bind_rows(md5_j1, md5_j2)\n",
    "# final table\n",
    "glimpse(md5_srafiles_jc)\n",
    "head(md5_srafiles_jc)"
   ]
  },
  {
   "cell_type": "code",
   "execution_count": 125,
   "metadata": {},
   "outputs": [
    {
     "name": "stdout",
     "output_type": "stream",
     "text": [
      "Rows: 298\n",
      "Columns: 2\n",
      "$ read   <chr> \"ftp.sra.ebi.ac.uk/vol1/fastq/SRR107/027/SRR10737427/SRR107374…\n",
      "$ md5sum <chr> \"c48a1b60c43bdd2be454da61bb3639c2\", \"c90946fe4d3243d6c39817345…\n"
     ]
    }
   ],
   "source": [
    "# intersect two tables\n",
    "missing <- anti_join(md5_srafiles_jc, md5_myfiles_t, by = \"md5sum\")\n",
    "glimpse(missing)"
   ]
  },
  {
   "cell_type": "markdown",
   "metadata": {},
   "source": [
    "### 5.2 Hordeum"
   ]
  },
  {
   "cell_type": "code",
   "execution_count": 147,
   "metadata": {},
   "outputs": [
    {
     "name": "stdout",
     "output_type": "stream",
     "text": [
      "Rows: 433\n",
      "Columns: 2\n",
      "$ md5sum      <chr> \"ab64193890edd469d38655955585ac2f\", \"26120850d01b56932af6…\n",
      "$ read_origin <chr> \"ERR1248084_1.fastq.gz\", \"ERR1248084_2.fastq.gz\", \"ERR124…\n"
     ]
    },
    {
     "data": {
      "text/html": [
       "<table>\n",
       "<caption>A data.frame: 6 × 2</caption>\n",
       "<thead>\n",
       "\t<tr><th></th><th scope=col>md5sum</th><th scope=col>read_origin</th></tr>\n",
       "\t<tr><th></th><th scope=col>&lt;chr&gt;</th><th scope=col>&lt;chr&gt;</th></tr>\n",
       "</thead>\n",
       "<tbody>\n",
       "\t<tr><th scope=row>428</th><td>aeaaab884267a57687cca261a19f3071</td><td>SRR9890004_1.fastq.gz</td></tr>\n",
       "\t<tr><th scope=row>429</th><td>03ef1475894988e931c6fc933ec06348</td><td>SRR9890004_2.fastq.gz</td></tr>\n",
       "\t<tr><th scope=row>430</th><td>ad99daa9542c46e4fff4ec9de370532c</td><td>SRR9890005_1.fastq.gz</td></tr>\n",
       "\t<tr><th scope=row>431</th><td>6ce80aecc9b7afd8d9d2b1d842cc70b3</td><td>SRR9890005_2.fastq.gz</td></tr>\n",
       "\t<tr><th scope=row>432</th><td>d5cd12618ab7d5a98622610bcc7b189f</td><td>SRR9890006_1.fastq.gz</td></tr>\n",
       "\t<tr><th scope=row>433</th><td>e07233b7a7fd8a1e70a8818e8bf3db59</td><td>SRR9890006_2.fastq.gz</td></tr>\n",
       "</tbody>\n",
       "</table>\n"
      ],
      "text/latex": [
       "A data.frame: 6 × 2\n",
       "\\begin{tabular}{r|ll}\n",
       "  & md5sum & read\\_origin\\\\\n",
       "  & <chr> & <chr>\\\\\n",
       "\\hline\n",
       "\t428 & aeaaab884267a57687cca261a19f3071 & SRR9890004\\_1.fastq.gz\\\\\n",
       "\t429 & 03ef1475894988e931c6fc933ec06348 & SRR9890004\\_2.fastq.gz\\\\\n",
       "\t430 & ad99daa9542c46e4fff4ec9de370532c & SRR9890005\\_1.fastq.gz\\\\\n",
       "\t431 & 6ce80aecc9b7afd8d9d2b1d842cc70b3 & SRR9890005\\_2.fastq.gz\\\\\n",
       "\t432 & d5cd12618ab7d5a98622610bcc7b189f & SRR9890006\\_1.fastq.gz\\\\\n",
       "\t433 & e07233b7a7fd8a1e70a8818e8bf3db59 & SRR9890006\\_2.fastq.gz\\\\\n",
       "\\end{tabular}\n"
      ],
      "text/markdown": [
       "\n",
       "A data.frame: 6 × 2\n",
       "\n",
       "| <!--/--> | md5sum &lt;chr&gt; | read_origin &lt;chr&gt; |\n",
       "|---|---|---|\n",
       "| 428 | aeaaab884267a57687cca261a19f3071 | SRR9890004_1.fastq.gz |\n",
       "| 429 | 03ef1475894988e931c6fc933ec06348 | SRR9890004_2.fastq.gz |\n",
       "| 430 | ad99daa9542c46e4fff4ec9de370532c | SRR9890005_1.fastq.gz |\n",
       "| 431 | 6ce80aecc9b7afd8d9d2b1d842cc70b3 | SRR9890005_2.fastq.gz |\n",
       "| 432 | d5cd12618ab7d5a98622610bcc7b189f | SRR9890006_1.fastq.gz |\n",
       "| 433 | e07233b7a7fd8a1e70a8818e8bf3db59 | SRR9890006_2.fastq.gz |\n",
       "\n"
      ],
      "text/plain": [
       "    md5sum                           read_origin          \n",
       "428 aeaaab884267a57687cca261a19f3071 SRR9890004_1.fastq.gz\n",
       "429 03ef1475894988e931c6fc933ec06348 SRR9890004_2.fastq.gz\n",
       "430 ad99daa9542c46e4fff4ec9de370532c SRR9890005_1.fastq.gz\n",
       "431 6ce80aecc9b7afd8d9d2b1d842cc70b3 SRR9890005_2.fastq.gz\n",
       "432 d5cd12618ab7d5a98622610bcc7b189f SRR9890006_1.fastq.gz\n",
       "433 e07233b7a7fd8a1e70a8818e8bf3db59 SRR9890006_2.fastq.gz"
      ]
     },
     "metadata": {},
     "output_type": "display_data"
    },
    {
     "name": "stdout",
     "output_type": "stream",
     "text": [
      "Rows: 268\n",
      "Columns: 3\n",
      "$ run_accession <chr> \"ERR781039\", \"ERR781040\", \"ERR781041\", \"ERR781042\", \"ER…\n",
      "$ fastq_ftp     <chr> \"ftp.sra.ebi.ac.uk/vol1/fastq/ERR781/ERR781039/ERR78103…\n",
      "$ fastq_md5     <chr> \"948b0de6103c2aeffc4528e50a836fc7\", \"23ee478974a8d8c4bf…\n"
     ]
    },
    {
     "data": {
      "text/html": [
       "<table>\n",
       "<caption>A data.frame: 6 × 3</caption>\n",
       "<thead>\n",
       "\t<tr><th></th><th scope=col>run_accession</th><th scope=col>fastq_ftp</th><th scope=col>fastq_md5</th></tr>\n",
       "\t<tr><th></th><th scope=col>&lt;chr&gt;</th><th scope=col>&lt;chr&gt;</th><th scope=col>&lt;chr&gt;</th></tr>\n",
       "</thead>\n",
       "<tbody>\n",
       "\t<tr><th scope=row>263</th><td>ERR515192</td><td>ftp.sra.ebi.ac.uk/vol1/fastq/ERR515/ERR515192/ERR515192_1.fastq.gz;ftp.sra.ebi.ac.uk/vol1/fastq/ERR515/ERR515192/ERR515192_2.fastq.gz</td><td>6453c813f381e90256a1ace2805f15f3;0863ee3974059d5388cc9e4dd00b6ff1</td></tr>\n",
       "\t<tr><th scope=row>264</th><td>ERR515193</td><td>ftp.sra.ebi.ac.uk/vol1/fastq/ERR515/ERR515193/ERR515193_1.fastq.gz;ftp.sra.ebi.ac.uk/vol1/fastq/ERR515/ERR515193/ERR515193_2.fastq.gz</td><td>1290c2824b66bffd9338f175200a0fca;71aea413b20d193dd841270382b3e684</td></tr>\n",
       "\t<tr><th scope=row>265</th><td>ERR515194</td><td>ftp.sra.ebi.ac.uk/vol1/fastq/ERR515/ERR515194/ERR515194_1.fastq.gz;ftp.sra.ebi.ac.uk/vol1/fastq/ERR515/ERR515194/ERR515194_2.fastq.gz</td><td>bebfce4b8b24578249cda412db2dd5d2;1a61643391a886e357f0977fe66c75ef</td></tr>\n",
       "\t<tr><th scope=row>266</th><td>ERR515195</td><td>ftp.sra.ebi.ac.uk/vol1/fastq/ERR515/ERR515195/ERR515195_1.fastq.gz;ftp.sra.ebi.ac.uk/vol1/fastq/ERR515/ERR515195/ERR515195_2.fastq.gz</td><td>fbc583e70b1c2dfba4a4e50f10424ec0;f3c30acbebb3492be10bc0e6355efd34</td></tr>\n",
       "\t<tr><th scope=row>267</th><td>ERR515196</td><td>ftp.sra.ebi.ac.uk/vol1/fastq/ERR515/ERR515196/ERR515196_1.fastq.gz;ftp.sra.ebi.ac.uk/vol1/fastq/ERR515/ERR515196/ERR515196_2.fastq.gz</td><td>67cfa3dd95fc5e78f0d6b9e9cb7939d6;e9b5669ef6747d2d15ddfdeceee81f72</td></tr>\n",
       "\t<tr><th scope=row>268</th><td>ERR515197</td><td>ftp.sra.ebi.ac.uk/vol1/fastq/ERR515/ERR515197/ERR515197_1.fastq.gz;ftp.sra.ebi.ac.uk/vol1/fastq/ERR515/ERR515197/ERR515197_2.fastq.gz</td><td>504444da4ffce064c91c60d04553f2da;bd3e06e3b0bc0a11df6a33dd32605ba6</td></tr>\n",
       "</tbody>\n",
       "</table>\n"
      ],
      "text/latex": [
       "A data.frame: 6 × 3\n",
       "\\begin{tabular}{r|lll}\n",
       "  & run\\_accession & fastq\\_ftp & fastq\\_md5\\\\\n",
       "  & <chr> & <chr> & <chr>\\\\\n",
       "\\hline\n",
       "\t263 & ERR515192 & ftp.sra.ebi.ac.uk/vol1/fastq/ERR515/ERR515192/ERR515192\\_1.fastq.gz;ftp.sra.ebi.ac.uk/vol1/fastq/ERR515/ERR515192/ERR515192\\_2.fastq.gz & 6453c813f381e90256a1ace2805f15f3;0863ee3974059d5388cc9e4dd00b6ff1\\\\\n",
       "\t264 & ERR515193 & ftp.sra.ebi.ac.uk/vol1/fastq/ERR515/ERR515193/ERR515193\\_1.fastq.gz;ftp.sra.ebi.ac.uk/vol1/fastq/ERR515/ERR515193/ERR515193\\_2.fastq.gz & 1290c2824b66bffd9338f175200a0fca;71aea413b20d193dd841270382b3e684\\\\\n",
       "\t265 & ERR515194 & ftp.sra.ebi.ac.uk/vol1/fastq/ERR515/ERR515194/ERR515194\\_1.fastq.gz;ftp.sra.ebi.ac.uk/vol1/fastq/ERR515/ERR515194/ERR515194\\_2.fastq.gz & bebfce4b8b24578249cda412db2dd5d2;1a61643391a886e357f0977fe66c75ef\\\\\n",
       "\t266 & ERR515195 & ftp.sra.ebi.ac.uk/vol1/fastq/ERR515/ERR515195/ERR515195\\_1.fastq.gz;ftp.sra.ebi.ac.uk/vol1/fastq/ERR515/ERR515195/ERR515195\\_2.fastq.gz & fbc583e70b1c2dfba4a4e50f10424ec0;f3c30acbebb3492be10bc0e6355efd34\\\\\n",
       "\t267 & ERR515196 & ftp.sra.ebi.ac.uk/vol1/fastq/ERR515/ERR515196/ERR515196\\_1.fastq.gz;ftp.sra.ebi.ac.uk/vol1/fastq/ERR515/ERR515196/ERR515196\\_2.fastq.gz & 67cfa3dd95fc5e78f0d6b9e9cb7939d6;e9b5669ef6747d2d15ddfdeceee81f72\\\\\n",
       "\t268 & ERR515197 & ftp.sra.ebi.ac.uk/vol1/fastq/ERR515/ERR515197/ERR515197\\_1.fastq.gz;ftp.sra.ebi.ac.uk/vol1/fastq/ERR515/ERR515197/ERR515197\\_2.fastq.gz & 504444da4ffce064c91c60d04553f2da;bd3e06e3b0bc0a11df6a33dd32605ba6\\\\\n",
       "\\end{tabular}\n"
      ],
      "text/markdown": [
       "\n",
       "A data.frame: 6 × 3\n",
       "\n",
       "| <!--/--> | run_accession &lt;chr&gt; | fastq_ftp &lt;chr&gt; | fastq_md5 &lt;chr&gt; |\n",
       "|---|---|---|---|\n",
       "| 263 | ERR515192 | ftp.sra.ebi.ac.uk/vol1/fastq/ERR515/ERR515192/ERR515192_1.fastq.gz;ftp.sra.ebi.ac.uk/vol1/fastq/ERR515/ERR515192/ERR515192_2.fastq.gz | 6453c813f381e90256a1ace2805f15f3;0863ee3974059d5388cc9e4dd00b6ff1 |\n",
       "| 264 | ERR515193 | ftp.sra.ebi.ac.uk/vol1/fastq/ERR515/ERR515193/ERR515193_1.fastq.gz;ftp.sra.ebi.ac.uk/vol1/fastq/ERR515/ERR515193/ERR515193_2.fastq.gz | 1290c2824b66bffd9338f175200a0fca;71aea413b20d193dd841270382b3e684 |\n",
       "| 265 | ERR515194 | ftp.sra.ebi.ac.uk/vol1/fastq/ERR515/ERR515194/ERR515194_1.fastq.gz;ftp.sra.ebi.ac.uk/vol1/fastq/ERR515/ERR515194/ERR515194_2.fastq.gz | bebfce4b8b24578249cda412db2dd5d2;1a61643391a886e357f0977fe66c75ef |\n",
       "| 266 | ERR515195 | ftp.sra.ebi.ac.uk/vol1/fastq/ERR515/ERR515195/ERR515195_1.fastq.gz;ftp.sra.ebi.ac.uk/vol1/fastq/ERR515/ERR515195/ERR515195_2.fastq.gz | fbc583e70b1c2dfba4a4e50f10424ec0;f3c30acbebb3492be10bc0e6355efd34 |\n",
       "| 267 | ERR515196 | ftp.sra.ebi.ac.uk/vol1/fastq/ERR515/ERR515196/ERR515196_1.fastq.gz;ftp.sra.ebi.ac.uk/vol1/fastq/ERR515/ERR515196/ERR515196_2.fastq.gz | 67cfa3dd95fc5e78f0d6b9e9cb7939d6;e9b5669ef6747d2d15ddfdeceee81f72 |\n",
       "| 268 | ERR515197 | ftp.sra.ebi.ac.uk/vol1/fastq/ERR515/ERR515197/ERR515197_1.fastq.gz;ftp.sra.ebi.ac.uk/vol1/fastq/ERR515/ERR515197/ERR515197_2.fastq.gz | 504444da4ffce064c91c60d04553f2da;bd3e06e3b0bc0a11df6a33dd32605ba6 |\n",
       "\n"
      ],
      "text/plain": [
       "    run_accession\n",
       "263 ERR515192    \n",
       "264 ERR515193    \n",
       "265 ERR515194    \n",
       "266 ERR515195    \n",
       "267 ERR515196    \n",
       "268 ERR515197    \n",
       "    fastq_ftp                                                                                                                            \n",
       "263 ftp.sra.ebi.ac.uk/vol1/fastq/ERR515/ERR515192/ERR515192_1.fastq.gz;ftp.sra.ebi.ac.uk/vol1/fastq/ERR515/ERR515192/ERR515192_2.fastq.gz\n",
       "264 ftp.sra.ebi.ac.uk/vol1/fastq/ERR515/ERR515193/ERR515193_1.fastq.gz;ftp.sra.ebi.ac.uk/vol1/fastq/ERR515/ERR515193/ERR515193_2.fastq.gz\n",
       "265 ftp.sra.ebi.ac.uk/vol1/fastq/ERR515/ERR515194/ERR515194_1.fastq.gz;ftp.sra.ebi.ac.uk/vol1/fastq/ERR515/ERR515194/ERR515194_2.fastq.gz\n",
       "266 ftp.sra.ebi.ac.uk/vol1/fastq/ERR515/ERR515195/ERR515195_1.fastq.gz;ftp.sra.ebi.ac.uk/vol1/fastq/ERR515/ERR515195/ERR515195_2.fastq.gz\n",
       "267 ftp.sra.ebi.ac.uk/vol1/fastq/ERR515/ERR515196/ERR515196_1.fastq.gz;ftp.sra.ebi.ac.uk/vol1/fastq/ERR515/ERR515196/ERR515196_2.fastq.gz\n",
       "268 ftp.sra.ebi.ac.uk/vol1/fastq/ERR515/ERR515197/ERR515197_1.fastq.gz;ftp.sra.ebi.ac.uk/vol1/fastq/ERR515/ERR515197/ERR515197_2.fastq.gz\n",
       "    fastq_md5                                                        \n",
       "263 6453c813f381e90256a1ace2805f15f3;0863ee3974059d5388cc9e4dd00b6ff1\n",
       "264 1290c2824b66bffd9338f175200a0fca;71aea413b20d193dd841270382b3e684\n",
       "265 bebfce4b8b24578249cda412db2dd5d2;1a61643391a886e357f0977fe66c75ef\n",
       "266 fbc583e70b1c2dfba4a4e50f10424ec0;f3c30acbebb3492be10bc0e6355efd34\n",
       "267 67cfa3dd95fc5e78f0d6b9e9cb7939d6;e9b5669ef6747d2d15ddfdeceee81f72\n",
       "268 504444da4ffce064c91c60d04553f2da;bd3e06e3b0bc0a11df6a33dd32605ba6"
      ]
     },
     "metadata": {},
     "output_type": "display_data"
    }
   ],
   "source": [
    "# import tables\n",
    "setwd(\"/nfs/pgsb/projects/comparative_triticeae/phenotype/flower_development/refsets/hordeum\")\n",
    "md5_myfiles_h <- read.table(\"md5sum_hordeum.txt\", header = FALSE, stringsAsFactors = FALSE, fill = TRUE)\n",
    "colnames(md5_myfiles_h) <- c(\"md5sum\", \"read_origin\")\n",
    "glimpse(md5_myfiles_h)\n",
    "# in my files there are total 433 files: 193 paired (2x=386) + 47 single reads\n",
    "tail(md5_myfiles_h)\n",
    "\n",
    "md5_srafiles_h <- read.table(\"barley_project_table.only_sra.metadata.txt\", header = FALSE, stringsAsFactors = FALSE, fill = TRUE)\n",
    "colnames(md5_srafiles_h) <- c(\"run_accession\", \"fastq_ftp\", \"fastq_md5\", \"4\", \"5\", \"6\", \"7\", \"8\", \"9\", \"10\", \"11\")\n",
    "md5_srafiles_h <- select(md5_srafiles_h, run_accession, fastq_ftp, fastq_md5)\n",
    "glimpse(md5_srafiles_h)\n",
    "# there are many empty queries!!!\n",
    "tail(md5_srafiles_h)"
   ]
  },
  {
   "cell_type": "code",
   "execution_count": 150,
   "metadata": {},
   "outputs": [
    {
     "name": "stderr",
     "output_type": "stream",
     "text": [
      "Warning message:\n",
      "“Expected 2 pieces. Missing pieces filled with `NA` in 75 rows [1, 2, 3, 4, 5, 6, 7, 8, 9, 10, 11, 12, 13, 14, 15, 16, 17, 18, 19, 20, ...].”Warning message:\n",
      "“Expected 2 pieces. Missing pieces filled with `NA` in 75 rows [1, 2, 3, 4, 5, 6, 7, 8, 9, 10, 11, 12, 13, 14, 15, 16, 17, 18, 19, 20, ...].”"
     ]
    },
    {
     "name": "stdout",
     "output_type": "stream",
     "text": [
      "Rows: 268\n",
      "Columns: 5\n",
      "$ run_accession <chr> \"ERR781039\", \"ERR781040\", \"ERR781041\", \"ERR781042\", \"ER…\n",
      "$ read          <chr> \"ftp.sra.ebi.ac.uk/vol1/fastq/ERR781/ERR781039/ERR78103…\n",
      "$ read2         <chr> NA, NA, NA, NA, NA, NA, NA, NA, NA, NA, NA, NA, NA, NA,…\n",
      "$ md5sum        <chr> \"948b0de6103c2aeffc4528e50a836fc7\", \"23ee478974a8d8c4bf…\n",
      "$ md5sum2       <chr> NA, NA, NA, NA, NA, NA, NA, NA, NA, NA, NA, NA, NA, NA,…\n",
      "Rows: 536\n",
      "Columns: 2\n",
      "$ read   <chr> \"ftp.sra.ebi.ac.uk/vol1/fastq/ERR781/ERR781039/ERR781039.fastq…\n",
      "$ md5sum <chr> \"948b0de6103c2aeffc4528e50a836fc7\", \"23ee478974a8d8c4bff871f01…\n",
      "Rows: 489\n",
      "Columns: 2\n",
      "$ read   <chr> \"ftp.sra.ebi.ac.uk/vol1/fastq/ERR781/ERR781039/ERR781039.fastq…\n",
      "$ md5sum <chr> \"948b0de6103c2aeffc4528e50a836fc7\", \"23ee478974a8d8c4bff871f01…\n"
     ]
    },
    {
     "data": {
      "text/html": [
       "<table>\n",
       "<caption>A data.frame: 6 × 2</caption>\n",
       "<thead>\n",
       "\t<tr><th></th><th scope=col>read</th><th scope=col>md5sum</th></tr>\n",
       "\t<tr><th></th><th scope=col>&lt;chr&gt;</th><th scope=col>&lt;chr&gt;</th></tr>\n",
       "</thead>\n",
       "<tbody>\n",
       "\t<tr><th scope=row>1</th><td>ftp.sra.ebi.ac.uk/vol1/fastq/ERR781/ERR781039/ERR781039.fastq.gz</td><td>948b0de6103c2aeffc4528e50a836fc7</td></tr>\n",
       "\t<tr><th scope=row>2</th><td>ftp.sra.ebi.ac.uk/vol1/fastq/ERR781/ERR781040/ERR781040.fastq.gz</td><td>23ee478974a8d8c4bff871f01448818d</td></tr>\n",
       "\t<tr><th scope=row>3</th><td>ftp.sra.ebi.ac.uk/vol1/fastq/ERR781/ERR781041/ERR781041.fastq.gz</td><td>4d89368a89b6ddbefd9f737224c2dd37</td></tr>\n",
       "\t<tr><th scope=row>4</th><td>ftp.sra.ebi.ac.uk/vol1/fastq/ERR781/ERR781042/ERR781042.fastq.gz</td><td>0eb49bddcf0785ad4c4789a64b304b02</td></tr>\n",
       "\t<tr><th scope=row>5</th><td>ftp.sra.ebi.ac.uk/vol1/fastq/ERR781/ERR781043/ERR781043.fastq.gz</td><td>2b4e82f440d4c5cf534dbc6ab31bf7a3</td></tr>\n",
       "\t<tr><th scope=row>6</th><td>ftp.sra.ebi.ac.uk/vol1/fastq/ERR781/ERR781044/ERR781044.fastq.gz</td><td>ae7176a805965f383295d93b3f042212</td></tr>\n",
       "</tbody>\n",
       "</table>\n"
      ],
      "text/latex": [
       "A data.frame: 6 × 2\n",
       "\\begin{tabular}{r|ll}\n",
       "  & read & md5sum\\\\\n",
       "  & <chr> & <chr>\\\\\n",
       "\\hline\n",
       "\t1 & ftp.sra.ebi.ac.uk/vol1/fastq/ERR781/ERR781039/ERR781039.fastq.gz & 948b0de6103c2aeffc4528e50a836fc7\\\\\n",
       "\t2 & ftp.sra.ebi.ac.uk/vol1/fastq/ERR781/ERR781040/ERR781040.fastq.gz & 23ee478974a8d8c4bff871f01448818d\\\\\n",
       "\t3 & ftp.sra.ebi.ac.uk/vol1/fastq/ERR781/ERR781041/ERR781041.fastq.gz & 4d89368a89b6ddbefd9f737224c2dd37\\\\\n",
       "\t4 & ftp.sra.ebi.ac.uk/vol1/fastq/ERR781/ERR781042/ERR781042.fastq.gz & 0eb49bddcf0785ad4c4789a64b304b02\\\\\n",
       "\t5 & ftp.sra.ebi.ac.uk/vol1/fastq/ERR781/ERR781043/ERR781043.fastq.gz & 2b4e82f440d4c5cf534dbc6ab31bf7a3\\\\\n",
       "\t6 & ftp.sra.ebi.ac.uk/vol1/fastq/ERR781/ERR781044/ERR781044.fastq.gz & ae7176a805965f383295d93b3f042212\\\\\n",
       "\\end{tabular}\n"
      ],
      "text/markdown": [
       "\n",
       "A data.frame: 6 × 2\n",
       "\n",
       "| <!--/--> | read &lt;chr&gt; | md5sum &lt;chr&gt; |\n",
       "|---|---|---|\n",
       "| 1 | ftp.sra.ebi.ac.uk/vol1/fastq/ERR781/ERR781039/ERR781039.fastq.gz | 948b0de6103c2aeffc4528e50a836fc7 |\n",
       "| 2 | ftp.sra.ebi.ac.uk/vol1/fastq/ERR781/ERR781040/ERR781040.fastq.gz | 23ee478974a8d8c4bff871f01448818d |\n",
       "| 3 | ftp.sra.ebi.ac.uk/vol1/fastq/ERR781/ERR781041/ERR781041.fastq.gz | 4d89368a89b6ddbefd9f737224c2dd37 |\n",
       "| 4 | ftp.sra.ebi.ac.uk/vol1/fastq/ERR781/ERR781042/ERR781042.fastq.gz | 0eb49bddcf0785ad4c4789a64b304b02 |\n",
       "| 5 | ftp.sra.ebi.ac.uk/vol1/fastq/ERR781/ERR781043/ERR781043.fastq.gz | 2b4e82f440d4c5cf534dbc6ab31bf7a3 |\n",
       "| 6 | ftp.sra.ebi.ac.uk/vol1/fastq/ERR781/ERR781044/ERR781044.fastq.gz | ae7176a805965f383295d93b3f042212 |\n",
       "\n"
      ],
      "text/plain": [
       "  read                                                            \n",
       "1 ftp.sra.ebi.ac.uk/vol1/fastq/ERR781/ERR781039/ERR781039.fastq.gz\n",
       "2 ftp.sra.ebi.ac.uk/vol1/fastq/ERR781/ERR781040/ERR781040.fastq.gz\n",
       "3 ftp.sra.ebi.ac.uk/vol1/fastq/ERR781/ERR781041/ERR781041.fastq.gz\n",
       "4 ftp.sra.ebi.ac.uk/vol1/fastq/ERR781/ERR781042/ERR781042.fastq.gz\n",
       "5 ftp.sra.ebi.ac.uk/vol1/fastq/ERR781/ERR781043/ERR781043.fastq.gz\n",
       "6 ftp.sra.ebi.ac.uk/vol1/fastq/ERR781/ERR781044/ERR781044.fastq.gz\n",
       "  md5sum                          \n",
       "1 948b0de6103c2aeffc4528e50a836fc7\n",
       "2 23ee478974a8d8c4bff871f01448818d\n",
       "3 4d89368a89b6ddbefd9f737224c2dd37\n",
       "4 0eb49bddcf0785ad4c4789a64b304b02\n",
       "5 2b4e82f440d4c5cf534dbc6ab31bf7a3\n",
       "6 ae7176a805965f383295d93b3f042212"
      ]
     },
     "metadata": {},
     "output_type": "display_data"
    }
   ],
   "source": [
    "# wrangling md5_srafiles_h\n",
    "# separate read names\n",
    "md5_srafiles_t_n <- separate(md5_srafiles_h, fastq_ftp, sep=\";\", into=c(\"read\", \"read2\"), remove = TRUE)\n",
    "# separate md5sums\n",
    "md5_srafiles_t_nm <- separate(md5_srafiles_t_n, fastq_md5, sep=\";\", into=c(\"md5sum\", \"md5sum2\"), remove = TRUE)\n",
    "glimpse(md5_srafiles_t_nm)\n",
    "# bind column2-s under column1-s as new rows\n",
    "col1 <- select(md5_srafiles_t_nm, read, md5sum)\n",
    "col2 <- select(md5_srafiles_t_nm, read2, md5sum2)\n",
    "colnames(col2) <- c(\"read\", \"md5sum\")\n",
    "md5_srafiles_clean <- bind_rows(col1, col2)\n",
    "glimpse(md5_srafiles_clean)\n",
    "\n",
    "# delete missing gap of 241-248 from single reads\n",
    "md5_h1 <- slice(md5_srafiles_clean, 1:268)\n",
    "md5_h2 <- slice(md5_srafiles_clean, 316:536)\n",
    "md5_srafiles_final <- bind_rows(md5_h1, md5_h2)\n",
    "# final table\n",
    "glimpse(md5_srafiles_final)\n",
    "head(md5_srafiles_final)"
   ]
  },
  {
   "cell_type": "code",
   "execution_count": 151,
   "metadata": {},
   "outputs": [
    {
     "name": "stdout",
     "output_type": "stream",
     "text": [
      "Rows: 489\n",
      "Columns: 2\n",
      "$ read   <chr> \"ftp.sra.ebi.ac.uk/vol1/fastq/ERR781/ERR781039/ERR781039.fastq…\n",
      "$ md5sum <chr> \"948b0de6103c2aeffc4528e50a836fc7\", \"23ee478974a8d8c4bff871f01…\n"
     ]
    }
   ],
   "source": [
    "# intersect two tables\n",
    "missing <- anti_join(md5_srafiles_final, md5_myfiles_h, by = \"md5sum\")\n",
    "glimpse(missing)"
   ]
  },
  {
   "cell_type": "markdown",
   "metadata": {},
   "source": [
    "# 6. Preprocessing\n",
    "* 1. FastQC + MultiQC\n",
    "* 2. Trimmomatic\n",
    "* 3. FastQC + MultiQC"
   ]
  },
  {
   "cell_type": "markdown",
   "metadata": {},
   "source": [
    "## 6.1 Create Project table for FastQC_01_raw\n",
    "### 6.1.1 Triticum"
   ]
  },
  {
   "cell_type": "code",
   "execution_count": 64,
   "metadata": {},
   "outputs": [
    {
     "name": "stdout",
     "output_type": "stream",
     "text": [
      "Rows: 215\n",
      "Columns: 4\n",
      "$ ID           <chr> \"SRR10737427\", \"SRR10737428\", \"SRR10737429\", \"SRR1073743…\n",
      "$ dataset_name <chr> \"pistillody of stamen\", \"pistillody of stamen\", \"pistill…\n",
      "$ tissue       <chr> \"anther\", \"anther\", \"anther\", \"anther\", \"anther\", \"anthe…\n",
      "$ library      <chr> \"paired\", \"paired\", \"paired\", \"paired\", \"paired\", \"paire…\n",
      "           ID              dataset_name tissue library\n",
      "1 SRR10737427      pistillody of stamen anther  paired\n",
      "2 SRR10737428      pistillody of stamen anther  paired\n",
      "3   CRR078059                      tf q  spike  single\n",
      "4   CRR078085                      tf q  spike  single\n",
      "5  SRR5464524 inflorescence development  spike  single\n"
     ]
    }
   ],
   "source": [
    "w_pt <- select(wheat, Run.ID, Dataset.name, Tissue)\n",
    "w_pt <- inner_join(w_pt, w_check, by = \"Run.ID\")\n",
    "colnames(w_pt) <- c(\"ID\", \"dataset_name\", \"tissue\", \"library\")\n",
    "glimpse(w_pt)\n",
    "# save project table\n",
    "setwd(\"/nfs/pgsb/projects/comparative_triticeae/phenotype/flower_development/refsets/triticum\")\n",
    "write.table(w_pt, file = \"wheat_project_table.txt\", append = FALSE, quote = FALSE, sep = \"\\t\", dec = \".\",\n",
    "            row.names = FALSE, col.names = FALSE)\n",
    "# create & save testing subset \n",
    "w_pt_test1 <- slice(w_pt, 1:2) # choosing 2 paried reads with \"_1/2.fastq.gz\"\n",
    "w_pt_test2 <- slice(w_pt, 102:103) # choosing 2 single reads with \"fq.gz\"\n",
    "w_pt_test3 <- slice(w_pt, 141) # choosing 1 single read with \"sra.fastq.gz\" extension\n",
    "w_pt_test <- bind_rows(w_pt_test1, w_pt_test2)\n",
    "w_pt_test <- bind_rows(w_pt_test, w_pt_test3)\n",
    "print(w_pt_test)\n",
    "write.table(w_pt_test, file = \"wheat_project_table_test.txt\", append = FALSE, quote = FALSE, sep = \"\\t\", dec = \".\",\n",
    "            row.names = FALSE, col.names = TRUE)"
   ]
  },
  {
   "cell_type": "markdown",
   "metadata": {},
   "source": [
    "### 6.1.2 Hordeum"
   ]
  },
  {
   "cell_type": "code",
   "execution_count": 12,
   "metadata": {},
   "outputs": [
    {
     "name": "stdout",
     "output_type": "stream",
     "text": [
      "Rows: 240\n",
      "Columns: 3\n",
      "$ ID           <chr> \"ERR781039\", \"ERR781040\", \"ERR781041\", \"ERR781042\", \"ERR…\n",
      "$ dataset_name <chr> \"inflorescence development\", \"inflorescence development\"…\n",
      "$ tissue       <chr> \"apex\", \"apex\", \"apex\", \"apex\", \"apex\", \"apex\", \"apex\", …\n"
     ]
    }
   ],
   "source": [
    "b_pt <- select(barley, Run.ID, Dataset.name, Tissue)\n",
    "b_pt <- inner_join(b_pt, b_check, by = \"Run.ID\")\n",
    "colnames(b_pt) <- c(\"ID\", \"dataset_name\", \"tissue\")\n",
    "glimpse(b_pt)\n",
    "# save project table\n",
    "setwd(\"/nfs/pgsb/projects/comparative_triticeae/phenotype/flower_development/refsets/hordeum\")\n",
    "write.table(b_pt, file = \"barley_project_table.txt\", append = FALSE, quote = FALSE, sep = \"\\t\", dec = \".\",\n",
    "            row.names = FALSE, col.names = TRUE)\n"
   ]
  },
  {
   "cell_type": "markdown",
   "metadata": {},
   "source": [
    "### 6.1.3 Delete 0 size files from FastQC-folder\n",
    "1. to confirm: `for file in $(find ./ -size 0 -print); do ls $file; echo $file will be removed;ls $file -lah; done`\n",
    "\n",
    "2. to delete: `for file in $(find ./ -size 0 -print); do ls $file; echo $file will be removed;ls $file -lah; rm $file; done`"
   ]
  },
  {
   "cell_type": "markdown",
   "metadata": {},
   "source": [
    "### 6.1.4 Crosscheck fastqc-s with original dataset"
   ]
  },
  {
   "cell_type": "code",
   "execution_count": 33,
   "metadata": {},
   "outputs": [
    {
     "name": "stdout",
     "output_type": "stream",
     "text": [
      "Rows: 179\n",
      "Columns: 1\n",
      "$ Run.ID <chr> \"CRR088946\", \"CRR088947\", \"CRR088948\", \"CRR088949\", \"CRR088950…\n",
      "Rows: 215\n",
      "Columns: 2\n",
      "Groups: Library.layout [2]\n",
      "$ Run.ID         <chr> \"SRR10737427\", \"SRR10737428\", \"SRR10737429\", \"SRR10737…\n",
      "$ Library.layout <chr> \"paired\", \"paired\", \"paired\", \"paired\", \"paired\", \"pai…\n",
      "Rows: 36\n",
      "Columns: 2\n",
      "Groups: Library.layout [2]\n",
      "$ Run.ID         <chr> \"SRR10737427\", \"CRR078059\", \"CRR078085\", \"CRR078084\", …\n",
      "$ Library.layout <chr> \"paired\", \"single\", \"single\", \"single\", \"single\", \"sin…\n",
      "# A tibble: 36 x 2\n",
      "# Groups:   Library.layout [2]\n",
      "   Run.ID      Library.layout\n",
      "   <chr>       <chr>         \n",
      " 1 SRR10737427 paired        \n",
      " 2 CRR078059   single        \n",
      " 3 CRR078085   single        \n",
      " 4 CRR078084   single        \n",
      " 5 CRR078083   single        \n",
      " 6 CRR078082   single        \n",
      " 7 CRR078081   single        \n",
      " 8 CRR078080   single        \n",
      " 9 CRR078079   single        \n",
      "10 CRR078078   single        \n",
      "# … with 26 more rows\n"
     ]
    }
   ],
   "source": [
    "# hordeum had all the runs completed\n",
    "# triticum had one paired read missing:\n",
    "setwd(\"/nfs/pgsb/projects/comparative_triticeae/phenotype/flower_development/refsets/triticum/01_FastQC_raw_paired\")\n",
    "final <- read.table(\"01_trit_paired_fastqc.txt\", header = FALSE, sep = \"\\t\", stringsAsFactors = FALSE)\n",
    "colnames(final) <- \"Run.ID\"\n",
    "glimpse(final)\n",
    "\n",
    "# create table with read layout\n",
    "w_check <- select(wheat, Run.ID, Library.layout)\n",
    "w_check_paired <- group_by(w_check, Library.layout)\n",
    "glimpse(w_check_paired)\n",
    "\n",
    "# intersect tables and get the missing paired read\n",
    "joined_wf <- anti_join(w_check_paired, final, by = \"Run.ID\")\n",
    "glimpse(joined_wf)\n",
    "print(joined_wf)\n",
    "# for some reason SRR10737427* wasnt processed, although it exists as a symlink and looks whole"
   ]
  },
  {
   "cell_type": "code",
   "execution_count": 164,
   "metadata": {},
   "outputs": [
    {
     "name": "stdout",
     "output_type": "stream",
     "text": [
      "Rows: 1\n",
      "Columns: 3\n",
      "$ ID           <chr> \"SRR10737427\"\n",
      "$ dataset_name <chr> \"pistillody of stamen\"\n",
      "$ tissue       <chr> \"anther\"\n"
     ]
    }
   ],
   "source": [
    "# create extra project table for that 1 missing file: SRR10737427\n",
    "setwd(\"/nfs/pgsb/projects/comparative_triticeae/phenotype/flower_development/refsets/triticum\")\n",
    "extra <- read.table(\"wheat_project_table_trimmomatic_paired.txt\", header = FALSE, sep = \"\\t\", stringsAsFactors = FALSE)\n",
    "extra <- slice(extra, 2)\n",
    "colnames(extra) <- c(\"ID\", \"dataset_name\", \"tissue\")\n",
    "glimpse(extra)\n",
    "write.table(extra, file = \"extra_1missingfile_paired.txt\", append = FALSE, quote = FALSE, sep = \"\\t\", dec = \".\",\n",
    "            row.names = FALSE, col.names = TRUE)"
   ]
  },
  {
   "cell_type": "markdown",
   "metadata": {},
   "source": [
    "## 6.2 Trimming with `Trimmomatic`\n",
    "* bash scripts are available: `home/pgsb/vanda.marosi/scripts/triticum & /hordeum`\n",
    "\n",
    "### Create separate project tables for Trimmomatic paired & single reads\n",
    "### 6.2.1 Triticum"
   ]
  },
  {
   "cell_type": "code",
   "execution_count": 158,
   "metadata": {},
   "outputs": [
    {
     "name": "stdout",
     "output_type": "stream",
     "text": [
      "Rows: 215\n",
      "Columns: 4\n",
      "Groups: library [2]\n",
      "$ ID           <chr> \"SRR10737427\", \"SRR10737428\", \"SRR10737429\", \"SRR1073743…\n",
      "$ dataset_name <chr> \"pistillody of stamen\", \"pistillody of stamen\", \"pistill…\n",
      "$ tissue       <chr> \"anther\", \"anther\", \"anther\", \"anther\", \"anther\", \"anthe…\n",
      "$ library      <chr> \"paired\", \"paired\", \"paired\", \"paired\", \"paired\", \"paire…\n",
      "Rows: 180\n",
      "Columns: 3\n",
      "$ ID           <chr> \"SRR10737427\", \"SRR10737428\", \"SRR10737429\", \"SRR1073743…\n",
      "$ dataset_name <chr> \"pistillody of stamen\", \"pistillody of stamen\", \"pistill…\n",
      "$ tissue       <chr> \"anther\", \"anther\", \"anther\", \"anther\", \"anther\", \"anthe…\n",
      "Rows: 35\n",
      "Columns: 3\n",
      "$ ID           <chr> \"CRR078059\", \"CRR078085\", \"CRR078084\", \"CRR078083\", \"CRR…\n",
      "$ dataset_name <chr> \"tf q\", \"tf q\", \"tf q\", \"tf q\", \"tf q\", \"tf q\", \"tf q\", …\n",
      "$ tissue       <chr> \"spike\", \"spike\", \"spike\", \"spike\", \"spike\", \"spike\", \"s…\n"
     ]
    }
   ],
   "source": [
    "setwd(\"/nfs/pgsb/projects/comparative_triticeae/phenotype/flower_development/refsets/triticum\")\n",
    "w_pt_trim <- select(wheat, Run.ID, Dataset.name, Tissue, Library.layout)\n",
    "colnames(w_pt_trim) <- c(\"ID\", \"dataset_name\", \"tissue\", \"library\")\n",
    "w_pt_trim <- group_by(w_pt_trim, library)\n",
    "glimpse(w_pt_trim)\n",
    "\n",
    "w_pt_trim_paired <- filter(w_pt_trim, library == \"paired\")\n",
    "w_pt_trim_paired <- ungroup(w_pt_trim_paired)\n",
    "w_pt_trim_paired <- select(w_pt_trim_paired, ID, dataset_name, tissue)\n",
    "glimpse(w_pt_trim_paired)\n",
    "write.table(w_pt_trim_paired, file = \"wheat_project_table_trimmomatic_paired.txt\", append = FALSE, quote = FALSE, sep = \"\\t\", dec = \".\",\n",
    "            row.names = FALSE, col.names = TRUE)\n",
    "\n",
    "w_pt_trim_single <- filter(w_pt_trim, library == \"single\")\n",
    "w_pt_trim_single <- ungroup(w_pt_trim_single)\n",
    "w_pt_trim_single <- select(w_pt_trim_single, ID, dataset_name, tissue)\n",
    "glimpse(w_pt_trim_single)\n",
    "write.table(w_pt_trim_single, file = \"wheat_project_table_trimmomatic_single.txt\", append = FALSE, quote = FALSE, sep = \"\\t\", dec = \".\",\n",
    "            row.names = FALSE, col.names = TRUE)"
   ]
  },
  {
   "cell_type": "markdown",
   "metadata": {},
   "source": [
    "### 6.2.2 Hordeum"
   ]
  },
  {
   "cell_type": "code",
   "execution_count": 159,
   "metadata": {},
   "outputs": [
    {
     "name": "stdout",
     "output_type": "stream",
     "text": [
      "Rows: 240\n",
      "Columns: 4\n",
      "Groups: library [2]\n",
      "$ ID           <chr> \"ERR781039\", \"ERR781040\", \"ERR781041\", \"ERR781042\", \"ERR…\n",
      "$ dataset_name <chr> \"inflorescence development\", \"inflorescence development\"…\n",
      "$ tissue       <chr> \"apex\", \"apex\", \"apex\", \"apex\", \"apex\", \"apex\", \"apex\", …\n",
      "$ library      <chr> \"single\", \"single\", \"single\", \"single\", \"single\", \"singl…\n",
      "Rows: 193\n",
      "Columns: 3\n",
      "$ ID           <chr> \"ERR1248084\", \"ERR1248085\", \"ERR1248086\", \"ERR1248087\", …\n",
      "$ dataset_name <chr> \"ref dataset drought\", \"ref dataset drought\", \"ref datas…\n",
      "$ tissue       <chr> \"spike\", \"spike\", \"spike\", \"spike\", \"spike\", \"spike\", \"l…\n",
      "Rows: 47\n",
      "Columns: 3\n",
      "$ ID           <chr> \"ERR781039\", \"ERR781040\", \"ERR781041\", \"ERR781042\", \"ERR…\n",
      "$ dataset_name <chr> \"inflorescence development\", \"inflorescence development\"…\n",
      "$ tissue       <chr> \"apex\", \"apex\", \"apex\", \"apex\", \"apex\", \"apex\", \"apex\", …\n"
     ]
    }
   ],
   "source": [
    "setwd(\"/nfs/pgsb/projects/comparative_triticeae/phenotype/flower_development/refsets/hordeum\")\n",
    "b_pt_trim <- select(barley, Run.ID, Dataset.name, Tissue, Library.layout)\n",
    "colnames(b_pt_trim) <- c(\"ID\", \"dataset_name\", \"tissue\", \"library\")\n",
    "b_pt_trim <- group_by(b_pt_trim, library)\n",
    "glimpse(b_pt_trim)\n",
    "\n",
    "b_pt_trim_paired <- filter(b_pt_trim, library == \"paired\")\n",
    "b_pt_trim_paired <- ungroup(b_pt_trim_paired)\n",
    "b_pt_trim_paired <- select(b_pt_trim_paired, ID, dataset_name, tissue)\n",
    "glimpse(b_pt_trim_paired)\n",
    "write.table(b_pt_trim_paired, file = \"barley_project_table_trimmomatic_paired.txt\", append = FALSE, quote = FALSE, sep = \"\\t\", dec = \".\",\n",
    "            row.names = FALSE, col.names = TRUE)\n",
    "\n",
    "b_pt_trim_single <- filter(b_pt_trim, library == \"single\")\n",
    "b_pt_trim_single <- ungroup(b_pt_trim_single)\n",
    "b_pt_trim_single <- select(b_pt_trim_single, ID, dataset_name, tissue)\n",
    "glimpse(b_pt_trim_single)\n",
    "write.table(b_pt_trim_single, file = \"barley_project_table_trimmomatic_single.txt\", append = FALSE, quote = FALSE, sep = \"\\t\", dec = \".\",\n",
    "            row.names = FALSE, col.names = TRUE)"
   ]
  },
  {
   "cell_type": "markdown",
   "metadata": {},
   "source": [
    "## 6.3 FastQC & MultiQC\n",
    "* bash scripts are available: `home/pgsb/vanda.marosi/scripts/triticum & /hordeum`\n",
    "\n",
    "### Results\n",
    "* **wheat paired:** 1 sample failed - out of 180\n",
    "* **wheat single:** all 35 good\n",
    "* **barley single:** all 47 good\n",
    "* **barley paired:** 1 sample failed - out of \n",
    " - since then all of them checked and are good!\n",
    "\n",
    "#### Investigating 1 barley paired failed sequences\n",
    "1. table of successful runs with bash: `ls | grep \".zip\" | cut -d \"_\" -f 1 | uniq > 03_hordeum_paired_fastqc.txt` "
   ]
  },
  {
   "cell_type": "code",
   "execution_count": 162,
   "metadata": {},
   "outputs": [
    {
     "name": "stdout",
     "output_type": "stream",
     "text": [
      "Rows: 192\n",
      "Columns: 1\n",
      "$ Run.ID <chr> \"ERR1248085\", \"ERR1248086\", \"ERR1248087\", \"ERR1248088\", \"ERR12…\n",
      "Rows: 193\n",
      "Columns: 2\n",
      "$ Run.ID         <chr> \"ERR1248084\", \"ERR1248085\", \"ERR1248086\", \"ERR1248087\"…\n",
      "$ Library.layout <chr> \"paired\", \"paired\", \"paired\", \"paired\", \"paired\", \"pai…\n",
      "      Run.ID Library.layout\n",
      "1 ERR1248084         paired\n"
     ]
    }
   ],
   "source": [
    "## looking for barley paired 2 missing files\n",
    "setwd(\"/nfs/pgsb/projects/comparative_triticeae/phenotype/flower_development/refsets/hordeum/03_FastQC_trimmed_paired\")\n",
    "fqc_b <- read.table(\"03_hordeum_paired_fastqc.txt\", header = FALSE, sep = \"\\t\", stringsAsFactors = FALSE)\n",
    "colnames(fqc_b) <- \"Run.ID\"\n",
    "glimpse(fqc_b)\n",
    "\n",
    "# create table with read layout\n",
    "b_check <- select(barley, Run.ID, Library.layout)\n",
    "b_check_paired <- filter(b_check, Library.layout == \"paired\")\n",
    "glimpse(b_check_paired)\n",
    "\n",
    "# intersect tables and get the missing paired read\n",
    "joined_b <- anti_join(b_check_paired, fqc_b, by = \"Run.ID\")\n",
    "print(joined_b)"
   ]
  },
  {
   "cell_type": "markdown",
   "metadata": {},
   "source": [
    "read ERR1248084 has 101 basepair, and seems to be an average quality sample from the 1st (raw) multiqc\n",
    "* solution: rerun sample from trimmomatic separately, bash scripts are made with name `extra` for trimming and last fastqc"
   ]
  },
  {
   "cell_type": "code",
   "execution_count": 165,
   "metadata": {},
   "outputs": [
    {
     "name": "stdout",
     "output_type": "stream",
     "text": [
      "Rows: 1\n",
      "Columns: 3\n",
      "$ ID           <chr> \"ERR1248084\"\n",
      "$ dataset_name <chr> \"ref dataset drought\"\n",
      "$ tissue       <chr> \"spike\"\n"
     ]
    }
   ],
   "source": [
    "# create extra project table for that 1 missing file: ERR1248084\n",
    "setwd(\"/nfs/pgsb/projects/comparative_triticeae/phenotype/flower_development/refsets/hordeum\")\n",
    "extra <- read.table(\"barley_project_table_trimmomatic_paired.txt\", header = FALSE, sep = \"\\t\", stringsAsFactors = FALSE)\n",
    "extra <- slice(extra, 2)\n",
    "colnames(extra) <- c(\"ID\", \"dataset_name\", \"tissue\")\n",
    "glimpse(extra)\n",
    "write.table(extra, file = \"extra_1missingfile_paired.txt\", append = FALSE, quote = FALSE, sep = \"\\t\", dec = \".\",\n",
    "            row.names = FALSE, col.names = TRUE)"
   ]
  },
  {
   "cell_type": "markdown",
   "metadata": {},
   "source": [
    "after re-running:\n",
    "- triticum SRR10737427 paired sample: 01_FastQC & `multiqc -f .`, Trimmomatic, 03_FastQC & `multiqc -f .`\n",
    "- hordeum ERR1248084 paired sample: Trimmomatic, 03_FastQC & `multiqc -f .`, \n",
    "\n",
    "a new multiqc-report was generated and finally all samples were fully processed and in place"
   ]
  },
  {
   "cell_type": "markdown",
   "metadata": {},
   "source": [
    "# Final results of quality controlled data\n",
    "* created bash scripts to measure data size in GB\n",
    "* scripts are available under `size_calculator_wheat/barley.sh` in the Bash_scripts folder\n",
    "* final calculation: \n",
    "       barley = 696 GB paried + 38 GB single = 734 GB\n",
    "       wheat = 723 GB paired + 19 GB single = 742 GB\n",
    "       in total 1476 GB = 1.44 TB data"
   ]
  },
  {
   "cell_type": "code",
   "execution_count": null,
   "metadata": {},
   "outputs": [],
   "source": []
  },
  {
   "cell_type": "code",
   "execution_count": 152,
   "metadata": {},
   "outputs": [
    {
     "data": {
      "text/plain": [
       "R version 3.6.3 (2020-02-29)\n",
       "Platform: x86_64-conda_cos6-linux-gnu (64-bit)\n",
       "Running under: CentOS Linux 7 (Core)\n",
       "\n",
       "Matrix products: default\n",
       "BLAS/LAPACK: /home/vanda.marosi/anaconda3/envs/r/lib/libopenblasp-r0.3.9.so\n",
       "\n",
       "locale:\n",
       " [1] LC_CTYPE=en_US.UTF-8       LC_NUMERIC=C              \n",
       " [3] LC_TIME=de_DE.UTF-8        LC_COLLATE=en_US.UTF-8    \n",
       " [5] LC_MONETARY=de_DE.UTF-8    LC_MESSAGES=en_US.UTF-8   \n",
       " [7] LC_PAPER=de_DE.UTF-8       LC_NAME=C                 \n",
       " [9] LC_ADDRESS=C               LC_TELEPHONE=C            \n",
       "[11] LC_MEASUREMENT=de_DE.UTF-8 LC_IDENTIFICATION=C       \n",
       "\n",
       "attached base packages:\n",
       "[1] stats     graphics  grDevices utils     datasets  methods   base     \n",
       "\n",
       "other attached packages:\n",
       "[1] forcats_0.5.0   stringr_1.4.0   purrr_0.3.4     readr_1.3.1    \n",
       "[5] tidyr_1.0.2     tibble_3.0.1    ggplot2_3.3.0   tidyverse_1.2.1\n",
       "[9] dplyr_0.8.5    \n",
       "\n",
       "loaded via a namespace (and not attached):\n",
       " [1] Rcpp_1.0.4.6     cellranger_1.1.0 pillar_1.4.3     compiler_3.6.3  \n",
       " [5] base64enc_0.1-3  tools_3.6.3      digest_0.6.25    uuid_0.1-4      \n",
       " [9] lubridate_1.7.8  gtable_0.3.0     jsonlite_1.6.1   evaluate_0.14   \n",
       "[13] lifecycle_0.2.0  nlme_3.1-147     lattice_0.20-41  pkgconfig_2.0.3 \n",
       "[17] rlang_0.4.5      rstudioapi_0.11  IRdisplay_0.7.0  cli_2.0.2       \n",
       "[21] IRkernel_0.8.15  haven_2.2.0      withr_2.2.0      xml2_1.3.2      \n",
       "[25] httr_1.4.1       repr_1.1.0       hms_0.5.3        generics_0.0.2  \n",
       "[29] vctrs_0.2.4      grid_3.6.3       tidyselect_1.0.0 glue_1.4.0      \n",
       "[33] R6_2.4.1         fansi_0.4.1      readxl_1.3.1     pbdZMQ_0.3-3    \n",
       "[37] modelr_0.1.6     magrittr_1.5     scales_1.1.0     backports_1.1.6 \n",
       "[41] ellipsis_0.3.0   htmltools_0.4.0  rvest_0.3.5      assertthat_0.2.1\n",
       "[45] colorspace_1.4-1 utf8_1.1.4       stringi_1.4.6    munsell_0.5.0   \n",
       "[49] broom_0.5.6      crayon_1.3.4    "
      ]
     },
     "metadata": {},
     "output_type": "display_data"
    }
   ],
   "source": [
    "sessionInfo()"
   ]
  }
 ],
 "metadata": {
  "kernelspec": {
   "display_name": "R [conda env:r]",
   "language": "R",
   "name": "conda-env-r-r"
  },
  "language_info": {
   "codemirror_mode": "r",
   "file_extension": ".r",
   "mimetype": "text/x-r-source",
   "name": "R",
   "pygments_lexer": "r",
   "version": "3.6.3"
  }
 },
 "nbformat": 4,
 "nbformat_minor": 4
}
