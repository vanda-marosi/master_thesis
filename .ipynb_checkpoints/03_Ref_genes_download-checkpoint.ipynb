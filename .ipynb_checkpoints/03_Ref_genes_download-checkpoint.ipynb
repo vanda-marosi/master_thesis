{
 "cells": [
  {
   "cell_type": "markdown",
   "metadata": {},
   "source": [
    "# Download all flower development related gene sequences\n",
    "### Created 3 sets of gene-seqs:\n",
    "* Set of genes from **3x-filtered** flower development related PMIDs: **108 genes** - saved in `refgenes/two_times_filtered`\n",
    "* Set of genes from **2x-filtered** flower development related PMIDs: **165 genes** - saved in `refgenes/three_times_filtered`\n",
    "* (Additional) Set of genes from **earlier transcriptomic papers**, where they were proved to be DEG in flower development related experiments: this list is not comparable to the other two, as the genes havent been proved to have a real flower-related function! It is only interesting to look at such lists and re-analyse them. The used papers: ..., The number of genes: **~170 genes** - saved in `refgenes/DEG_analyses_based`\n",
    "## 1. Data import"
   ]
  },
  {
   "cell_type": "code",
   "execution_count": 2,
   "metadata": {},
   "outputs": [
    {
     "name": "stderr",
     "output_type": "stream",
     "text": [
      "Loading required package: iterators\n"
     ]
    }
   ],
   "source": [
    "library(taxize)\n",
    "library(dplyr,  warn.conflicts = FALSE)\n",
    "library(genbankr)\n",
    "library(rentrez)\n",
    "library(usethis)\n",
    "library(parallel)\n",
    "library(foreach, warn.conflicts = FALSE)\n",
    "library(doParallel)\n",
    "setwd(\"/nfs/pgsb/projects/comparative_triticeae/phenotype/flower_development/refpapers/\")"
   ]
  },
  {
   "cell_type": "code",
   "execution_count": 3,
   "metadata": {},
   "outputs": [
    {
     "name": "stdout",
     "output_type": "stream",
     "text": [
      "Rows: 898\n",
      "Columns: 1\n",
      "$ pmid <int> 31963482, 31628536, 31473791, 31009129, 31729646, 31185903, 3051…\n",
      "Rows: 308\n",
      "Columns: 1\n",
      "$ pmid <int> 29581960, 26157170, 24762030, 24162539, 30518316, 28163591, 2852…\n"
     ]
    }
   ],
   "source": [
    "# pmid-flower-list with 2x-overlap - 898 PMIDs\n",
    "pmid_flower <- readRDS(\"PMIDlist_flower.rds\")\n",
    "pmid_flower <- as.integer(pmid_flower)\n",
    "pmid_flower <- as.data.frame(pmid_flower, rownames = FALSE, stringsAsFactors = FALSE)\n",
    "colnames(pmid_flower) <- \"pmid\"\n",
    "glimpse(pmid_flower)\n",
    "# pmid-flower-list with 3x-overlap - 308 PMIDs\n",
    "pmid_flower_three <- readRDS(\"PMIDlist_flower_3.rds\")\n",
    "pmid_flower_three <- as.integer(pmid_flower_three)\n",
    "pmid_flower_three <- as.data.frame(pmid_flower_three, rownames = FALSE, stringsAsFactors = FALSE)\n",
    "colnames(pmid_flower_three) <- \"pmid\"\n",
    "glimpse(pmid_flower_three)"
   ]
  },
  {
   "cell_type": "code",
   "execution_count": 4,
   "metadata": {},
   "outputs": [
    {
     "name": "stdout",
     "output_type": "stream",
     "text": [
      "Rows: 12,465,900\n",
      "Columns: 3\n",
      "$ taxid  <int> 9, 9, 9, 9, 9, 9, 9, 9, 9, 9, 9, 9, 9, 9, 9, 9, 33, 33, 33, 33…\n",
      "$ geneid <int> 1246500, 1246501, 1246502, 1246503, 1246504, 1246505, 1246509,…\n",
      "$ pmid   <int> 9873079, 9873079, 9873079, 9873079, 9873079, 9873079, 10984505…\n"
     ]
    },
    {
     "data": {
      "text/html": [
       "<table>\n",
       "<caption>A data.frame: 6 × 3</caption>\n",
       "<thead>\n",
       "\t<tr><th></th><th scope=col>taxid</th><th scope=col>geneid</th><th scope=col>pmid</th></tr>\n",
       "\t<tr><th></th><th scope=col>&lt;int&gt;</th><th scope=col>&lt;int&gt;</th><th scope=col>&lt;int&gt;</th></tr>\n",
       "</thead>\n",
       "<tbody>\n",
       "\t<tr><th scope=row>1</th><td>9</td><td>1246500</td><td>9873079</td></tr>\n",
       "\t<tr><th scope=row>2</th><td>9</td><td>1246501</td><td>9873079</td></tr>\n",
       "\t<tr><th scope=row>3</th><td>9</td><td>1246502</td><td>9873079</td></tr>\n",
       "\t<tr><th scope=row>4</th><td>9</td><td>1246503</td><td>9873079</td></tr>\n",
       "\t<tr><th scope=row>5</th><td>9</td><td>1246504</td><td>9873079</td></tr>\n",
       "\t<tr><th scope=row>6</th><td>9</td><td>1246505</td><td>9873079</td></tr>\n",
       "</tbody>\n",
       "</table>\n"
      ],
      "text/latex": [
       "A data.frame: 6 × 3\n",
       "\\begin{tabular}{r|lll}\n",
       "  & taxid & geneid & pmid\\\\\n",
       "  & <int> & <int> & <int>\\\\\n",
       "\\hline\n",
       "\t1 & 9 & 1246500 & 9873079\\\\\n",
       "\t2 & 9 & 1246501 & 9873079\\\\\n",
       "\t3 & 9 & 1246502 & 9873079\\\\\n",
       "\t4 & 9 & 1246503 & 9873079\\\\\n",
       "\t5 & 9 & 1246504 & 9873079\\\\\n",
       "\t6 & 9 & 1246505 & 9873079\\\\\n",
       "\\end{tabular}\n"
      ],
      "text/markdown": [
       "\n",
       "A data.frame: 6 × 3\n",
       "\n",
       "| <!--/--> | taxid &lt;int&gt; | geneid &lt;int&gt; | pmid &lt;int&gt; |\n",
       "|---|---|---|---|\n",
       "| 1 | 9 | 1246500 | 9873079 |\n",
       "| 2 | 9 | 1246501 | 9873079 |\n",
       "| 3 | 9 | 1246502 | 9873079 |\n",
       "| 4 | 9 | 1246503 | 9873079 |\n",
       "| 5 | 9 | 1246504 | 9873079 |\n",
       "| 6 | 9 | 1246505 | 9873079 |\n",
       "\n"
      ],
      "text/plain": [
       "  taxid geneid  pmid   \n",
       "1 9     1246500 9873079\n",
       "2 9     1246501 9873079\n",
       "3 9     1246502 9873079\n",
       "4 9     1246503 9873079\n",
       "5 9     1246504 9873079\n",
       "6 9     1246505 9873079"
      ]
     },
     "metadata": {},
     "output_type": "display_data"
    }
   ],
   "source": [
    "# Downloaded Gene2Pubmed from ftp://ftp.ncbi.nih.gov/gene/DATA/gene2pubmed.gz @03.04.2020\n",
    "gene2pm <- read.table(\"gene2pubmed\", sep = \"\")\n",
    "colnames(gene2pm) <- c(\"taxid\", \"geneid\", \"pmid\")\n",
    "glimpse(gene2pm)\n",
    "head(gene2pm)"
   ]
  },
  {
   "cell_type": "markdown",
   "metadata": {},
   "source": [
    "## 2. Get *Triticeae*-taxIDs into single vector"
   ]
  },
  {
   "cell_type": "code",
   "execution_count": 5,
   "metadata": {},
   "outputs": [
    {
     "name": "stdout",
     "output_type": "stream",
     "text": [
      "══  1 queries  ═══════════════\n"
     ]
    },
    {
     "name": "stderr",
     "output_type": "stream",
     "text": [
      "\n",
      "Retrieving data for taxon 'Triticeae'\n",
      "\n"
     ]
    },
    {
     "name": "stdout",
     "output_type": "stream",
     "text": [
      "✔  Found:  Triticeae\n",
      "══  Results  ═════════════════\n",
      "\n",
      "● Total: 1 \n",
      "● Found: 1 \n",
      "● Not Found: 0\n"
     ]
    },
    {
     "data": {
      "text/html": [
       "'147389'"
      ],
      "text/latex": [
       "'147389'"
      ],
      "text/markdown": [
       "'147389'"
      ],
      "text/plain": [
       "[1] \"147389\""
      ]
     },
     "metadata": {},
     "output_type": "display_data"
    }
   ],
   "source": [
    "uid <- get_uid(sciname = \"Triticeae\")\n",
    "uid[1]"
   ]
  },
  {
   "cell_type": "code",
   "execution_count": 6,
   "metadata": {},
   "outputs": [
    {
     "name": "stdout",
     "output_type": "stream",
     "text": [
      "List of 1\n",
      " $ 147389:'data.frame':\t389 obs. of  3 variables:\n",
      "  ..$ childtaxa_id  : chr [1:389] \"2259637\" \"1986981\" \"1986980\" \"1986370\" ...\n",
      "  ..$ childtaxa_name: chr [1:389] \"Aegilops tauschii x Triticum aestivum\" \"Aegilops longissima x Triticum urartu\" \"Triticum urartu x Aegilops tauschii\" \"Triticum urartu x Aegilops longissima\" ...\n",
      "  ..$ rank          : chr [1:389] \"species\" \"species\" \"species\" \"species\" ...\n",
      " - attr(*, \"class\")= chr \"downstream\"\n",
      " - attr(*, \"db\")= chr \"ncbi\"\n"
     ]
    }
   ],
   "source": [
    "# 147389 is the id for Triticeae\n",
    "tax_children <- downstream(uid[1], downto = \"species\", db = \"ncbi\")\n",
    "glimpse(tax_children)"
   ]
  },
  {
   "cell_type": "markdown",
   "metadata": {},
   "source": [
    "**For future problem solving:**\n",
    "I had to put `ENTREZ_KEY='532056952c2098c0cd03a43bc25e345a7f08'` into my `.Renviron` file in the path of `/home/pgsb/vanda.marosi/` using the `usethis::edit_r_environ()` and terminal navigation with bash and restarted R"
   ]
  },
  {
   "cell_type": "code",
   "execution_count": 7,
   "metadata": {},
   "outputs": [
    {
     "name": "stdout",
     "output_type": "stream",
     "text": [
      "Rows: 389\n",
      "Columns: 3\n",
      "$ taxid <chr> \"2259637\", \"1986981\", \"1986980\", \"1986370\", \"1897139\", \"1897138…\n",
      "$ name  <chr> \"Aegilops tauschii x Triticum aestivum\", \"Aegilops longissima x…\n",
      "$ rank  <chr> \"species\", \"species\", \"species\", \"species\", \"species\", \"species…\n"
     ]
    }
   ],
   "source": [
    "# convert to data.frame and data wrangling for tidy data\n",
    "attributes(tax_children) <- NULL\n",
    "tax <- as.data.frame(tax_children, stringsAsFactors = FALSE)\n",
    "colnames(tax) <- c(\"taxid\", \"name\", \"rank\")\n",
    "glimpse(tax)"
   ]
  },
  {
   "cell_type": "code",
   "execution_count": 8,
   "metadata": {},
   "outputs": [
    {
     "name": "stdout",
     "output_type": "stream",
     "text": [
      "'data.frame':\t389 obs. of  1 variable:\n",
      " $ taxid: int  2259637 1986981 1986980 1986370 1897139 1897138 1593905 1593904 1245757 866788 ...\n"
     ]
    }
   ],
   "source": [
    "# total of 389 taxid-s found for triticeae\n",
    "tax_id <- as.integer(tax$taxid)\n",
    "taxid <- as.data.frame(tax_id, rownames = FALSE)\n",
    "colnames(taxid) <- \"taxid\"\n",
    "str(taxid)"
   ]
  },
  {
   "cell_type": "markdown",
   "metadata": {},
   "source": [
    "## 3. Intersect `tax_id` and `pmid_flower` with `Gene2Pubmed` table"
   ]
  },
  {
   "cell_type": "code",
   "execution_count": 9,
   "metadata": {},
   "outputs": [
    {
     "name": "stdout",
     "output_type": "stream",
     "text": [
      "Rows: 27,930\n",
      "Columns: 3\n",
      "$ taxid  <int> 4483, 4483, 4483, 4483, 4483, 4483, 4483, 4483, 4483, 4483, 44…\n",
      "$ geneid <int> 20356298, 20356299, 20356300, 20356301, 20356302, 20356303, 20…\n",
      "$ pmid   <int> 25059383, 25059383, 25059383, 25059383, 25059383, 25059383, 25…\n"
     ]
    }
   ],
   "source": [
    "#intersect taxid with gene2pubmed\n",
    "trittax_geneid_pmid <- inner_join(gene2pm, taxid, by = \"taxid\")\n",
    "glimpse(trittax_geneid_pmid)\n",
    "# 27 930 geneIDs are linked to Triticeae taxid-s"
   ]
  },
  {
   "cell_type": "code",
   "execution_count": 10,
   "metadata": {},
   "outputs": [
    {
     "name": "stdout",
     "output_type": "stream",
     "text": [
      "Rows: 165\n",
      "Columns: 1\n",
      "$ geneid <int> 548127, 548227, 732672, 732690, 100286750, 100498855, 10049885…\n",
      "Rows: 165\n",
      "Columns: 3\n",
      "$ taxid  <int> 4513, 4513, 4513, 4513, 4513, 4513, 4513, 4513, 4513, 4513, 45…\n",
      "$ geneid <int> 548127, 548227, 732672, 732690, 100286750, 100498855, 10049885…\n",
      "$ pmid   <int> 24260147, 8982067, 22242122, 11925035, 19305410, 20431086, 204…\n",
      "Rows: 108\n",
      "Columns: 1\n",
      "$ geneid <int> 100498855, 100498856, 542800, 543003, 543004, 543009, 543010, …\n",
      "Rows: 108\n",
      "Columns: 3\n",
      "$ taxid  <int> 4513, 4513, 4565, 4565, 4565, 4565, 4565, 4565, 4565, 4565, 45…\n",
      "$ geneid <int> 100498855, 100498856, 542800, 543003, 543004, 543009, 543010, …\n",
      "$ pmid   <int> 20431086, 20431086, 14652757, 12061894, 12061894, 14612572, 15…\n"
     ]
    }
   ],
   "source": [
    "# intersect pmid_flower with gene2pubmed that was already filtered with taxid-s to get only Triticeae relevant genes\n",
    "setwd(\"/nfs/pgsb/projects/comparative_triticeae/phenotype/flower_development/refgenes\")\n",
    "# for 2x-overlap list 165 genes are found\n",
    "trittax_geneid_flowerpmid <- inner_join(trittax_geneid_pmid, pmid_flower, by = \"pmid\")\n",
    "write.table(trittax_geneid_flowerpmid, file = \"triticeae_twoxfiltered_geneid_pmid.txt\", append = FALSE, quote = FALSE, sep = \"\\t\", dec = \".\",\n",
    "            row.names = FALSE, col.names = TRUE)\n",
    "\n",
    "# save list for Uniport analyses\n",
    "two <- select(trittax_geneid_flowerpmid, geneid)\n",
    "glimpse(two)\n",
    "write.table(two, file = \"triticeae_two_genelist.txt\", append = FALSE, quote = FALSE, sep = \"\\t\", dec = \".\",\n",
    "            row.names = FALSE, col.names = TRUE)\n",
    "glimpse(trittax_geneid_flowerpmid)\n",
    "\n",
    "# for 3x-overlap list 108 genes are found - focusing on this list mainly!!\n",
    "trittax_geneid_flowerpmid_three <- inner_join(trittax_geneid_pmid, pmid_flower_three, by = \"pmid\")\n",
    "\n",
    "# save list for Uniport analyses\n",
    "three <- select(trittax_geneid_flowerpmid_three, geneid)\n",
    "glimpse(three)\n",
    "write.table(three, file = \"triticeae_three_genelist.txt\", append = FALSE, quote = FALSE, sep = \"\\t\", dec = \".\",\n",
    "            row.names = FALSE, col.names = TRUE)\n",
    "glimpse(trittax_geneid_flowerpmid_three)"
   ]
  },
  {
   "cell_type": "markdown",
   "metadata": {},
   "source": [
    "# 3.1 Inspect few example transcriptomics article whether it is present with genes in `Gene2pubmed` database/table\n",
    "* title: Identification of Wheat Inflorescence Development-Related Genes Using a Comparative Transcriptomics Approach - PMID 29581960 \n",
    "* title: Genome-Wide Investigation of Heat Shock Transcription Factor Family in Wheat (Triticum aestivum L.) and Possible Roles in Anther Development. - PMID 31963482"
   ]
  },
  {
   "cell_type": "code",
   "execution_count": 11,
   "metadata": {},
   "outputs": [
    {
     "data": {
      "text/html": [],
      "text/latex": [],
      "text/markdown": [],
      "text/plain": [
       "integer(0)"
      ]
     },
     "metadata": {},
     "output_type": "display_data"
    },
    {
     "data": {
      "text/html": [],
      "text/latex": [],
      "text/markdown": [],
      "text/plain": [
       "integer(0)"
      ]
     },
     "metadata": {},
     "output_type": "display_data"
    }
   ],
   "source": [
    "#trittax_geneid_flowerpmid$pmid[[29581960]]\n",
    "#which(trittax_geneid_flowerpmid$pmid == 29581960)\n",
    "#which(pmid_flower == 29581960)\n",
    "which(gene2pm$pmid == 29581960)\n",
    "which(gene2pm$pmid == 31963482)\n",
    "# they are not present on the GeneID list"
   ]
  },
  {
   "cell_type": "markdown",
   "metadata": {},
   "source": [
    "# 4. Download Geneseqs for flower-dev related geneIDs\n",
    "### 4.1 `Rentrez`\n",
    "* for batch download from `nuccore` database both in the formats of `rettype =`\n",
    "    - **Genbank**:`gb` = GenBank flat file OR `gbwithparts` = GenBank flat file with full sequence (contigs)\n",
    "    - **FASTA**: `fasta_cds_na` = CDS nucleotide FASTA OR `fasta_cds_aa` = CDS protein FASTA (for nucleotide I just used `fasta` bc the other did not give results for all the id-s)\n",
    "\n",
    "### 4.1.1 `Three_times_filtered` flower-dev related list of genes"
   ]
  },
  {
   "cell_type": "code",
   "execution_count": 11,
   "metadata": {},
   "outputs": [
    {
     "data": {
      "text/html": [
       "<style>\n",
       ".list-inline {list-style: none; margin:0; padding: 0}\n",
       ".list-inline>li {display: inline-block}\n",
       ".list-inline>li:not(:last-child)::after {content: \"\\00b7\"; padding: 0 .5ex}\n",
       "</style>\n",
       "<ol class=list-inline><li>100682416</li><li>100682417</li><li>100682418</li><li>100682419</li><li>101290634</li><li>109738555</li></ol>\n"
      ],
      "text/latex": [
       "\\begin{enumerate*}\n",
       "\\item 100682416\n",
       "\\item 100682417\n",
       "\\item 100682418\n",
       "\\item 100682419\n",
       "\\item 101290634\n",
       "\\item 109738555\n",
       "\\end{enumerate*}\n"
      ],
      "text/markdown": [
       "1. 100682416\n",
       "2. 100682417\n",
       "3. 100682418\n",
       "4. 100682419\n",
       "5. 101290634\n",
       "6. 109738555\n",
       "\n",
       "\n"
      ],
      "text/plain": [
       "[1] 100682416 100682417 100682418 100682419 101290634 109738555"
      ]
     },
     "metadata": {},
     "output_type": "display_data"
    }
   ],
   "source": [
    "# create genelist from dataframe\n",
    "genelist <- trittax_geneid_flowerpmid_three$geneid\n",
    "tail(genelist)"
   ]
  },
  {
   "cell_type": "code",
   "execution_count": 12,
   "metadata": {},
   "outputs": [
    {
     "name": "stdout",
     "output_type": "stream",
     "text": [
      "List of 2\n",
      " $ links:List of 3\n",
      "  ..$ gene_nuccore          : chr [1:8] \"1149780475\" \"1149780473\" \"1149780471\" \"1143453207\" ...\n",
      "  ..$ gene_nuccore_pos      : chr \"1143453207\"\n",
      "  ..$ gene_nuccore_refseqrna: chr [1:3] \"1149780475\" \"1149780473\" \"1149780471\"\n",
      "  ..- attr(*, \"class\")= chr [1:2] \"elink_classic\" \"list\"\n",
      " $ file :Classes 'XMLInternalElementNode', 'XMLInternalNode', 'XMLAbstractNode' <externalptr> \n",
      " - attr(*, \"content\")= chr \" $links: IDs for linked records from NCBI\\n \"\n",
      " - attr(*, \"class\")= chr [1:2] \"elink\" \"list\"\n"
     ]
    },
    {
     "data": {
      "text/html": [
       "<dl>\n",
       "\t<dt>$gene_nuccore</dt>\n",
       "\t\t<dd><style>\n",
       ".list-inline {list-style: none; margin:0; padding: 0}\n",
       ".list-inline>li {display: inline-block}\n",
       ".list-inline>li:not(:last-child)::after {content: \"\\00b7\"; padding: 0 .5ex}\n",
       "</style>\n",
       "<ol class=list-inline><li>'1149780475'</li><li>'1149780473'</li><li>'1149780471'</li><li>'1143453207'</li><li>'1027405096'</li><li>'948293459'</li><li>'948293457'</li><li>'343424461'</li></ol>\n",
       "</dd>\n",
       "\t<dt>$gene_nuccore_pos</dt>\n",
       "\t\t<dd>'1143453207'</dd>\n",
       "\t<dt>$gene_nuccore_refseqrna</dt>\n",
       "\t\t<dd><style>\n",
       ".list-inline {list-style: none; margin:0; padding: 0}\n",
       ".list-inline>li {display: inline-block}\n",
       ".list-inline>li:not(:last-child)::after {content: \"\\00b7\"; padding: 0 .5ex}\n",
       "</style>\n",
       "<ol class=list-inline><li>'1149780475'</li><li>'1149780473'</li><li>'1149780471'</li></ol>\n",
       "</dd>\n",
       "</dl>\n"
      ],
      "text/latex": [
       "\\begin{description}\n",
       "\\item[\\$gene\\_nuccore] \\begin{enumerate*}\n",
       "\\item '1149780475'\n",
       "\\item '1149780473'\n",
       "\\item '1149780471'\n",
       "\\item '1143453207'\n",
       "\\item '1027405096'\n",
       "\\item '948293459'\n",
       "\\item '948293457'\n",
       "\\item '343424461'\n",
       "\\end{enumerate*}\n",
       "\n",
       "\\item[\\$gene\\_nuccore\\_pos] '1143453207'\n",
       "\\item[\\$gene\\_nuccore\\_refseqrna] \\begin{enumerate*}\n",
       "\\item '1149780475'\n",
       "\\item '1149780473'\n",
       "\\item '1149780471'\n",
       "\\end{enumerate*}\n",
       "\n",
       "\\end{description}\n"
      ],
      "text/markdown": [
       "$gene_nuccore\n",
       ":   1. '1149780475'\n",
       "2. '1149780473'\n",
       "3. '1149780471'\n",
       "4. '1143453207'\n",
       "5. '1027405096'\n",
       "6. '948293459'\n",
       "7. '948293457'\n",
       "8. '343424461'\n",
       "\n",
       "\n",
       "\n",
       "$gene_nuccore_pos\n",
       ":   '1143453207'\n",
       "$gene_nuccore_refseqrna\n",
       ":   1. '1149780475'\n",
       "2. '1149780473'\n",
       "3. '1149780471'\n",
       "\n",
       "\n",
       "\n",
       "\n",
       "\n"
      ],
      "text/plain": [
       "elink result with information from 3 databases:\n",
       "[1] gene_nuccore           gene_nuccore_pos       gene_nuccore_refseqrna"
      ]
     },
     "metadata": {},
     "output_type": "display_data"
    }
   ],
   "source": [
    "# to fetch a single GeneID I have to link from GeneDataBase to Nuccore (works with different UID)\n",
    "# within $link choose $gene_nuccore_refseqrna (for transcript) but most cases just have $gene_nuccore and the two numbers are equal in a few checked examples\n",
    "# here is an example how to access id-conversion\n",
    "gene_ids <- c(109738555)\n",
    "linked_seq_ids <- entrez_link(dbfrom=\"gene\", id=gene_ids, db=\"nuccore\")\n",
    "glimpse(linked_seq_ids)\n",
    "linked_seq_ids$links"
   ]
  },
  {
   "cell_type": "code",
   "execution_count": 13,
   "metadata": {},
   "outputs": [
    {
     "name": "stdout",
     "output_type": "stream",
     "text": [
      " chr [1:152] \"298704707\" \"298704709\" \"669026884\" \"45356042\" \"660451103\" ...\n"
     ]
    }
   ],
   "source": [
    "nuccore_id_list <- foreach(i=genelist, .packages =\"rentrez\", .combine = 'c') %do% (entrez_link(dbfrom=\"gene\", id = i, db=\"nuccore\"))$links$gene_nuccore \n",
    "str(nuccore_id_list)"
   ]
  },
  {
   "cell_type": "code",
   "execution_count": 14,
   "metadata": {},
   "outputs": [],
   "source": [
    "# loop for Genbank format\n",
    "setwd(\"/nfs/pgsb/projects/comparative_triticeae/phenotype/flower_development/refgenes/three_times_filtered/genbank\")\n",
    "cl <- makeCluster(3)\n",
    "registerDoParallel(cl)\n",
    "a <- foreach(i=nuccore_id_list, .packages=\"rentrez\") %dopar% {\n",
    "    seq <- entrez_fetch(db=\"nuccore\", id=i, rettype=\"gbwithparts\")\n",
    "    write(seq, file=paste(i,\".gb\",sep=\"\"))\n",
    "    }\n",
    "stopCluster(cl)"
   ]
  },
  {
   "cell_type": "code",
   "execution_count": 28,
   "metadata": {},
   "outputs": [
    {
     "data": {
      "text/html": [
       "'character'"
      ],
      "text/latex": [
       "'character'"
      ],
      "text/markdown": [
       "'character'"
      ],
      "text/plain": [
       "[1] \"character\""
      ]
     },
     "metadata": {},
     "output_type": "display_data"
    },
    {
     "data": {
      "text/html": [
       "634"
      ],
      "text/latex": [
       "634"
      ],
      "text/markdown": [
       "634"
      ],
      "text/plain": [
       "[1] 634"
      ]
     },
     "metadata": {},
     "output_type": "display_data"
    },
    {
     "name": "stdout",
     "output_type": "stream",
     "text": [
      ">lcl|HM130525.1_cds_ADI96237.1_1 [gene=ODDSOC1] [protein=ODDSOC1]\n",
      "[protein_id=ADI96237.1] [location=30..533] [gbkey=CDS]\n",
      "ATGGCGCGGCGCGGGCGGGTTGAGCTGCGGCGGATCGAGGACCGGACGAGCCGGCAGGTGCGCTTCTCCA\n",
      "AGCGCCGC\n"
     ]
    },
    {
     "data": {
      "text/html": [
       "293"
      ],
      "text/latex": [
       "293"
      ],
      "text/markdown": [
       "293"
      ],
      "text/plain": [
       "[1] 293"
      ]
     },
     "metadata": {},
     "output_type": "display_data"
    },
    {
     "name": "stdout",
     "output_type": "stream",
     "text": [
      ">lcl|HM130525.1_prot_ADI96237.1_1 [gene=ODDSOC1] [protein=ODDSOC1]\n",
      "[protein_id=ADI96237.1] [location=30..533] [gbkey=CDS]\n",
      "MARRGRVELRRIEDRTSRQVRFSKRRAGLFKKAFELSLLCDAEVALLVFSPAGKLYEYSSASIEGTYDRY\n",
      "QQFAVPG\n"
     ]
    },
    {
     "data": {
      "text/html": [
       "894"
      ],
      "text/latex": [
       "894"
      ],
      "text/markdown": [
       "894"
      ],
      "text/plain": [
       "[1] 894"
      ]
     },
     "metadata": {},
     "output_type": "display_data"
    },
    {
     "name": "stdout",
     "output_type": "stream",
     "text": [
      ">HM130525.1 Hordeum vulgare subsp. vulgare cultivar Igri ODDSOC1\n",
      "(ODDSOC1) mRNA, complete cds\n",
      "GAGAGACGGGCTGCGGCCGGAGGAGGAGGATGGCGCGGCGCGGGCGGGTTGAGCTGCGGCGGATCGAGGA\n",
      "CCGGACGAGCCGGCAGGTGCGCTTCTCCAAGCGCC\n"
     ]
    },
    {
     "data": {
      "text/html": [
       "3055"
      ],
      "text/latex": [
       "3055"
      ],
      "text/markdown": [
       "3055"
      ],
      "text/plain": [
       "[1] 3055"
      ]
     },
     "metadata": {},
     "output_type": "display_data"
    },
    {
     "name": "stdout",
     "output_type": "stream",
     "text": [
      "LOCUS HM130525 787 bp mRNA linear PLN 26-JUN-2010 DEFINITION Hordeum\n",
      "vulgare subsp. vulgare cultivar Igri ODDSOC1 (ODDSOC1) mRNA, complete\n",
      "cds. ACCESSION HM130525 VERSION HM130525.1 KEYWORDS . SOURCE Hordeum\n",
      "vulgare subsp. vulgare (domesticate\n"
     ]
    },
    {
     "data": {
      "text/html": [
       "3055"
      ],
      "text/latex": [
       "3055"
      ],
      "text/markdown": [
       "3055"
      ],
      "text/plain": [
       "[1] 3055"
      ]
     },
     "metadata": {},
     "output_type": "display_data"
    },
    {
     "name": "stdout",
     "output_type": "stream",
     "text": [
      "LOCUS HM130525 787 bp mRNA linear PLN 26-JUN-2010 DEFINITION Hordeum\n",
      "vulgare subsp. vulgare cultivar Igri ODDSOC1 (ODDSOC1) mRNA, complete\n",
      "cds. ACCESSION HM130525 VERSION HM130525.1 KEYWORDS . SOURCE Hordeum\n",
      "vulgare subsp. vulgare (domesticate\n"
     ]
    }
   ],
   "source": [
    "# differences between data-types\n",
    "# nucleotide CDS\n",
    "seq1 <- entrez_fetch(db=\"nuccore\", id=298704707, rettype=\"fasta_cds_na\")\n",
    "class(seq1)\n",
    "nchar(seq1)\n",
    "cat(strwrap(substr(seq1, 1, 200)), sep=\"\\n\")\n",
    "# protein CDS\n",
    "seq2 <- entrez_fetch(db=\"nuccore\", id=298704707, rettype=\"fasta_cds_aa\")\n",
    "nchar(seq2)\n",
    "cat(strwrap(substr(seq2, 1, 200)), sep=\"\\n\")\n",
    "# fasta\n",
    "seq3 <- entrez_fetch(db=\"nuccore\", id=298704707, rettype=\"fasta\")\n",
    "nchar(seq3)\n",
    "cat(strwrap(substr(seq3, 1, 200)), sep=\"\\n\")\n",
    "# GenBank flat file\n",
    "seq4 <- entrez_fetch(db=\"nuccore\", id=298704707, rettype=\"gb\")\n",
    "nchar(seq4)\n",
    "cat(strwrap(substr(seq4, 1, 300)), sep=\"\\n\")\n",
    "# GenBank flat file with full sequence\n",
    "seq5 <- entrez_fetch(db=\"nuccore\", id=298704707, rettype=\"gbwithparts\")\n",
    "nchar(seq5)\n",
    "cat(strwrap(substr(seq5, 1, 300)), sep=\"\\n\")"
   ]
  },
  {
   "cell_type": "code",
   "execution_count": 16,
   "metadata": {},
   "outputs": [],
   "source": [
    "# loop for fasta_nucleotide format into fasta (fasta_cds_na doesnt give results for all the id-s)\n",
    "setwd(\"/nfs/pgsb/projects/comparative_triticeae/phenotype/flower_development/refgenes/three_times_filtered/fasta_nucleotide\")\n",
    "cl <- makeCluster(3)\n",
    "registerDoParallel(cl)\n",
    "b <- foreach(i=nuccore_id_list, .packages=\"rentrez\") %dopar% {\n",
    "    seq <- entrez_fetch(db=\"nuccore\", id=i, rettype=\"fasta\")\n",
    "    write(seq, file=paste(i,\".fasta\",sep=\"\"))\n",
    "    }\n",
    "stopCluster(cl)"
   ]
  },
  {
   "cell_type": "code",
   "execution_count": 17,
   "metadata": {},
   "outputs": [],
   "source": [
    "# loop for fasta_protein format into - doesnt seem to work for all! empty ones need to be deleted in bash\n",
    "setwd(\"/nfs/pgsb/projects/comparative_triticeae/phenotype/flower_development/refgenes/three_times_filtered/fasta_protein\")\n",
    "cl <- makeCluster(3)\n",
    "registerDoParallel(cl)\n",
    "c <- foreach(i=nuccore_id_list, .packages=\"rentrez\") %dopar% {\n",
    "    seq <- entrez_fetch(db=\"nuccore\", id=i, rettype=\"fasta_cds_aa\")\n",
    "    write(seq, file=paste(i,\".fasta\",sep=\"\"))\n",
    "    }\n",
    "stopCluster(cl)"
   ]
  },
  {
   "cell_type": "markdown",
   "metadata": {},
   "source": [
    "### 4.1.1 `Two_times_filtered` flower-dev related list of genes"
   ]
  },
  {
   "cell_type": "code",
   "execution_count": 13,
   "metadata": {},
   "outputs": [
    {
     "name": "stdout",
     "output_type": "stream",
     "text": [
      " int [1:165] 548127 548227 732672 732690 100286750 100498855 100498856 100505452 100505453 100505454 ...\n",
      " chr [1:254] \"13991760\" \"1808986\" \"255918289\" \"255918287\" \"59804999\" ...\n"
     ]
    }
   ],
   "source": [
    "# create genelist from dataframe\n",
    "genelist_two <- trittax_geneid_flowerpmid$geneid\n",
    "glimpse(genelist_two)\n",
    "# convert to nuccore id-s\n",
    "nuccore_id_list_two <- foreach(i=genelist_two, .packages =\"rentrez\", .combine = 'c') %do% (entrez_link(dbfrom=\"gene\", id = i, db=\"nuccore\"))$links$gene_nuccore \n",
    "\n",
    "setwd(\"/nfs/pgsb/projects/comparative_triticeae/phenotype/flower_development/refgenes/two_times_filtered\")\n",
    "write.table(nuccore_id_list_two, file = \"twotimes_filtered_accession.txt\", append = FALSE, quote = FALSE, sep = \"\\t\", dec = \".\",\n",
    "            row.names = FALSE, col.names = TRUE)\n",
    "glimpse(nuccore_id_list_two)"
   ]
  },
  {
   "cell_type": "code",
   "execution_count": 11,
   "metadata": {},
   "outputs": [],
   "source": [
    "# loop for Genbank format\n",
    "setwd(\"/nfs/pgsb/projects/comparative_triticeae/phenotype/flower_development/refgenes/two_times_filtered/genbank\")\n",
    "cl <- makeCluster(3)\n",
    "registerDoParallel(cl)\n",
    "a <- foreach(i=nuccore_id_list_two, .packages=\"rentrez\") %dopar% {\n",
    "    seq <- entrez_fetch(db=\"nuccore\", id=i, rettype=\"gbwithparts\")\n",
    "    write(seq, file=paste(i,\".gb\",sep=\"\"))\n",
    "    }\n",
    "stopCluster(cl)"
   ]
  },
  {
   "cell_type": "code",
   "execution_count": 14,
   "metadata": {},
   "outputs": [],
   "source": [
    "# loop for fasta_nucleotide format into fasta (fasta_cds_na doesnt give results for all the id-s)\n",
    "setwd(\"/nfs/pgsb/projects/comparative_triticeae/phenotype/flower_development/refgenes/two_times_filtered/fasta_nucleotide\")\n",
    "cl <- makeCluster(3)\n",
    "registerDoParallel(cl)\n",
    "b <- foreach(i=nuccore_id_list_two, .packages=\"rentrez\") %dopar% {\n",
    "    seq <- entrez_fetch(db=\"nuccore\", id=i, rettype=\"fasta\")\n",
    "    write(seq, file=paste(i,\".fasta\",sep=\"\"))\n",
    "    }\n",
    "stopCluster(cl)"
   ]
  },
  {
   "cell_type": "code",
   "execution_count": 15,
   "metadata": {},
   "outputs": [],
   "source": [
    "#  loop for fasta_protein format into - doesnt seem to work for all! empty ones need to be deleted in bash\n",
    "setwd(\"/nfs/pgsb/projects/comparative_triticeae/phenotype/flower_development/refgenes/two_times_filtered/fasta_protein\")\n",
    "cl <- makeCluster(3)\n",
    "registerDoParallel(cl)\n",
    "c <- foreach(i=nuccore_id_list_two, .packages=\"rentrez\") %dopar% {\n",
    "    seq <- entrez_fetch(db=\"nuccore\", id=i, rettype=\"fasta_cds_aa\")\n",
    "    write(seq, file=paste(i,\".fasta\",sep=\"\"))\n",
    "    }\n",
    "stopCluster(cl)"
   ]
  },
  {
   "cell_type": "markdown",
   "metadata": {},
   "source": [
    "### 4.1.1 Additionally collected flower-dev related list of genes"
   ]
  },
  {
   "cell_type": "markdown",
   "metadata": {},
   "source": [
    "Daniel sent one, + the first paper he sent, + the papers that came from transcriptomics filter but were experimental"
   ]
  },
  {
   "cell_type": "markdown",
   "metadata": {},
   "source": [
    "would be interesting to create a set as \"false negatives\" but after finishing the rest of the analysis"
   ]
  },
  {
   "cell_type": "markdown",
   "metadata": {},
   "source": [
    "# 5. Mapping\n",
    "## 5.1 Parsing sequence files with `Genbank-r`\n",
    "* a package for parsing GenBank files into semantically useful objects, able to read Genbank files\n",
    "* `readGenBank()`: takes either local file or text in a form of a GBAccession object containing Nuccore versioned accession numbers\n",
    "    - uses `rentrez`\n",
    "    - generates a GenBankFull object, which contains the annotations and the origin sequence\n",
    "    - useful tutorial: https://bioconductor.org/packages/release/bioc/vignettes/genbankr/inst/doc/genbankr.html"
   ]
  },
  {
   "cell_type": "code",
   "execution_count": 22,
   "metadata": {},
   "outputs": [
    {
     "data": {
      "text/html": [
       "'532056952c2098c0cd03a43bc25e345a7f08'"
      ],
      "text/latex": [
       "'532056952c2098c0cd03a43bc25e345a7f08'"
      ],
      "text/markdown": [
       "'532056952c2098c0cd03a43bc25e345a7f08'"
      ],
      "text/plain": [
       "[1] \"532056952c2098c0cd03a43bc25e345a7f08\""
      ]
     },
     "metadata": {},
     "output_type": "display_data"
    }
   ],
   "source": [
    "Sys.getenv(\"ENTREZ_KEY\")"
   ]
  },
  {
   "cell_type": "code",
   "execution_count": 54,
   "metadata": {},
   "outputs": [
    {
     "name": "stdout",
     "output_type": "stream",
     "text": [
      " chr [1:242] \"1027405096.gb\" \"1036031969.gb\" \"108795022.gb\" \"109150347.gb\" ...\n"
     ]
    }
   ],
   "source": [
    "gb_names <- list.files(path=\"/nfs/pgsb/projects/comparative_triticeae/phenotype/flower_development/refgenes/two_times_filtered/genbank\", full.names=FALSE)\n",
    "str(gb_names)"
   ]
  },
  {
   "cell_type": "code",
   "execution_count": 55,
   "metadata": {},
   "outputs": [],
   "source": [
    "setwd(\"/nfs/pgsb/projects/comparative_triticeae/phenotype/flower_development/refgenes/two_times_filtered/genbank\")\n",
    "suppressPackageStartupMessages(library(genbankr))\n",
    "#here is a package default example\n",
    "#smpfile = system.file(\"sample.gbk\", package=\"genbankr\")\n",
    "#here is one of my files\n",
    "gb = parseGenBank(\"1027405096.gb\")"
   ]
  },
  {
   "cell_type": "code",
   "execution_count": 4,
   "metadata": {},
   "outputs": [
    {
     "name": "stdout",
     "output_type": "stream",
     "text": [
      "List of 11\n",
      " $ LOCUS     : chr \"LOCUS       IAAV01057863             252 bp    RNA     linear   TSA 11-MAY-2016\"\n",
      " $ FEATURES  :List of 1\n",
      "  ..$ 1:'data.frame':\t1 obs. of  13 variables:\n",
      "  .. ..$ seqnames   : chr \"KU-2627\"\n",
      "  .. ..$ start      : int 1\n",
      "  .. ..$ end        : int 252\n",
      "  .. ..$ strand     : chr \"+\"\n",
      "  .. ..$ type       : chr \"source\"\n",
      "  .. ..$ organism   : chr \"Aegilops tauschii\"\n",
      "  .. ..$ mol_type   : chr \"transcribed RNA\"\n",
      "  .. ..$ strain     : chr \"KU-2627\"\n",
      "  .. ..$ db_xref    : chr \"taxon:37682\"\n",
      "  .. ..$ tissue_type: chr \"leaves\"\n",
      "  .. ..$ dev_stage  : chr \"ten-day-old seedling\"\n",
      "  .. ..$ note       : chr \"contig: KU2627_c42261_g1_i1\"\n",
      "  .. ..$ loctype    : chr \"normal\"\n",
      "  ..- attr(*, \"dim\")= int 1\n",
      "  ..- attr(*, \"dimnames\")=List of 1\n",
      "  .. ..$ : chr \"1\"\n",
      " $ ORIGIN    :Formal class 'DNAStringSet' [package \"Biostrings\"] with 5 slots\n",
      "  .. ..@ pool           :Formal class 'SharedRaw_Pool' [package \"XVector\"] with 2 slots\n",
      "  .. .. .. ..@ xp_list                    :List of 1\n",
      "  .. .. .. .. ..$ :<externalptr> \n",
      "  .. .. .. ..@ .link_to_cached_object_list:List of 1\n",
      "  .. .. .. .. ..$ :<environment: 0x55a8de1eacc8> \n",
      "  .. ..@ ranges         :Formal class 'GroupedIRanges' [package \"XVector\"] with 7 slots\n",
      "  .. .. .. ..@ group          : int 1\n",
      "  .. .. .. ..@ start          : int 1\n",
      "  .. .. .. ..@ width          : int 252\n",
      "  .. .. .. ..@ NAMES          : chr \"KU-2627\"\n",
      "  .. .. .. ..@ elementType    : chr \"ANY\"\n",
      "  .. .. .. ..@ elementMetadata: NULL\n",
      "  .. .. .. ..@ metadata       : list()\n",
      "  .. ..@ elementType    : chr \"DNAString\"\n",
      "  .. ..@ elementMetadata: NULL\n",
      "  .. ..@ metadata       : list()\n",
      " $ ACCESSION : chr \"IAAV01057863\"\n",
      " $ COMMENT   : NULL\n",
      " $ DBLINK    : NULL\n",
      " $ DEFINITION: chr \"TSA: Aegilops tauschii mRNA, contig: KU2627_c42261_g1_i1, strain: KU-2627, transcribed RNA sequence.\"\n",
      " $ KEYWORDS  : chr \"TSA; Transcriptome Shotgun Assembly.\"\n",
      " $ REFERENCE : NULL\n",
      " $ SOURCE    :List of 3\n",
      "  ..$ source  : chr \"Aegilops tauschii\"\n",
      "  ..$ organism: chr \"Aegilops tauschii\"\n",
      "  ..$ lineage : chr [1:16] \"            Eukaryota\" \"Viridiplantae\" \"Streptophyta\" \"Embryophyta\" ...\n",
      " $ VERSION   : Named chr [1:2] \"IAAV01057863.1\" NA\n",
      "  ..- attr(*, \"names\")= chr [1:2] \"accession.version\" \"GenInfoID\"\n"
     ]
    }
   ],
   "source": [
    "str(gb)"
   ]
  },
  {
   "cell_type": "code",
   "execution_count": 5,
   "metadata": {},
   "outputs": [
    {
     "data": {
      "text/html": [
       "'Aegilops tauschii'"
      ],
      "text/latex": [
       "'Aegilops tauschii'"
      ],
      "text/markdown": [
       "'Aegilops tauschii'"
      ],
      "text/plain": [
       "[1] \"Aegilops tauschii\""
      ]
     },
     "metadata": {},
     "output_type": "display_data"
    },
    {
     "data": {
      "text/html": [
       "'transcribed RNA'"
      ],
      "text/latex": [
       "'transcribed RNA'"
      ],
      "text/markdown": [
       "'transcribed RNA'"
      ],
      "text/plain": [
       "[1] \"transcribed RNA\""
      ]
     },
     "metadata": {},
     "output_type": "display_data"
    }
   ],
   "source": [
    "#extract information for grouping files: organism, mol_type\n",
    "a <- gb$FEATURES\n",
    "a <- unlist(a)\n",
    "a[[6]]\n",
    "a[[7]]"
   ]
  },
  {
   "cell_type": "code",
   "execution_count": 56,
   "metadata": {},
   "outputs": [
    {
     "name": "stderr",
     "output_type": "stream",
     "text": [
      "Partial range detected in a compound range (join or order) feature. Excluding entire annotation\n",
      "Partial range detected in a compound range (join or order) feature. Excluding entire annotation\n",
      "Partial range detected in a compound range (join or order) feature. Excluding entire annotation\n",
      "Partial range detected in a compound range (join or order) feature. Excluding entire annotation\n",
      "Partial range detected in a compound range (join or order) feature. Excluding entire annotation\n",
      "Partial range detected in a compound range (join or order) feature. Excluding entire annotation\n",
      "Partial range detected in a compound range (join or order) feature. Excluding entire annotation\n",
      "Partial range detected in a compound range (join or order) feature. Excluding entire annotation\n",
      "Partial range detected in a compound range (join or order) feature. Excluding entire annotation\n",
      "Partial range detected in a compound range (join or order) feature. Excluding entire annotation\n",
      "Partial range detected in a compound range (join or order) feature. Excluding entire annotation\n",
      "Partial range detected in a compound range (join or order) feature. Excluding entire annotation\n",
      "Partial range detected in a compound range (join or order) feature. Excluding entire annotation\n",
      "Partial range detected in a compound range (join or order) feature. Excluding entire annotation\n",
      "Partial range detected in a compound range (join or order) feature. Excluding entire annotation\n",
      "Partial range detected in a compound range (join or order) feature. Excluding entire annotation\n",
      "Partial range detected in a compound range (join or order) feature. Excluding entire annotation\n",
      "Partial range detected in a compound range (join or order) feature. Excluding entire annotation\n",
      "Partial range detected in a compound range (join or order) feature. Excluding entire annotation\n",
      "Partial range detected in a compound range (join or order) feature. Excluding entire annotation\n",
      "Partial range detected in a compound range (join or order) feature. Excluding entire annotation\n",
      "Partial range detected in a compound range (join or order) feature. Excluding entire annotation\n",
      "Partial range detected in a compound range (join or order) feature. Excluding entire annotation\n",
      "Partial range detected in a compound range (join or order) feature. Excluding entire annotation\n",
      "Partial range detected in a compound range (join or order) feature. Excluding entire annotation\n",
      "Partial range detected in a compound range (join or order) feature. Excluding entire annotation\n",
      "Partial range detected in a compound range (join or order) feature. Excluding entire annotation\n",
      "Partial range detected in a compound range (join or order) feature. Excluding entire annotation\n",
      "Partial range detected in a compound range (join or order) feature. Excluding entire annotation\n",
      "Partial range detected in a compound range (join or order) feature. Excluding entire annotation\n",
      "Partial range detected in a compound range (join or order) feature. Excluding entire annotation\n",
      "Partial range detected in a compound range (join or order) feature. Excluding entire annotation\n",
      "Partial range detected in a compound range (join or order) feature. Excluding entire annotation\n",
      "Partial range detected in a compound range (join or order) feature. Excluding entire annotation\n",
      "Partial range detected in a compound range (join or order) feature. Excluding entire annotation\n",
      "Partial range detected in a compound range (join or order) feature. Excluding entire annotation\n",
      "Partial range detected in a compound range (join or order) feature. Excluding entire annotation\n",
      "Partial range detected in a compound range (join or order) feature. Excluding entire annotation\n",
      "Partial range detected in a compound range (join or order) feature. Excluding entire annotation\n",
      "Partial range detected in a compound range (join or order) feature. Excluding entire annotation\n",
      "Partial range detected in a compound range (join or order) feature. Excluding entire annotation\n",
      "Partial range detected in a compound range (join or order) feature. Excluding entire annotation\n",
      "Partial range detected in a compound range (join or order) feature. Excluding entire annotation\n",
      "Partial range detected in a compound range (join or order) feature. Excluding entire annotation\n",
      "Partial range detected in a compound range (join or order) feature. Excluding entire annotation\n",
      "Partial range detected in a compound range (join or order) feature. Excluding entire annotation\n"
     ]
    },
    {
     "name": "stdout",
     "output_type": "stream",
     "text": [
      " chr [1:242] \"Aegilops tauschii\" \"Triticum aestivum\" \"Triticum aestivum\" ...\n",
      " chr [1:242] \"transcribed RNA\" \"genomic DNA\" \"mRNA\" \"mRNA\" \"mRNA\" \"mRNA\" ...\n"
     ]
    }
   ],
   "source": [
    "#extract metadata into vector\n",
    "setwd(\"/nfs/pgsb/projects/comparative_triticeae/phenotype/flower_development/refgenes/two_times_filtered/genbank\")\n",
    "gb_organism <- foreach(i=gb_names, .packages =\"genbankr\", .combine = \"c\") %do% (suppressWarnings(unlist(parseGenBank(i)$FEATURES))[[6]])\n",
    "gb_moltype <- foreach(i=gb_names, .packages =\"genbankr\", .combine = \"c\") %do% (suppressWarnings(unlist(parseGenBank(i)$FEATURES))[[7]])\n",
    "glimpse(gb_organism)\n",
    "glimpse(gb_moltype)"
   ]
  },
  {
   "cell_type": "code",
   "execution_count": 57,
   "metadata": {},
   "outputs": [
    {
     "name": "stdout",
     "output_type": "stream",
     "text": [
      "Rows: 242\n",
      "Columns: 3\n",
      "$ filename <chr> \"1027405096.gb\", \"1036031969.gb\", \"108795022.gb\", \"109150347…\n",
      "$ organism <chr> \"Aegilops tauschii\", \"Triticum aestivum\", \"Triticum aestivum…\n",
      "$ molecule <chr> \"transcribed RNA\", \"genomic DNA\", \"mRNA\", \"mRNA\", \"mRNA\", \"m…\n"
     ]
    }
   ],
   "source": [
    "gb_names <- as.data.frame(gb_names, stringsAsFactors = FALSE)\n",
    "gb_organism <- as.data.frame(gb_organism, stringsAsFactors = FALSE)\n",
    "gb_moltype <- as.data.frame(gb_moltype, stringsAsFactors = FALSE)\n",
    "gb_meta <- bind_cols(gb_names, gb_organism, gb_moltype)\n",
    "colnames(gb_meta) <- c(\"filename\", \"organism\", \"molecule\")\n",
    "glimpse(gb_meta)"
   ]
  },
  {
   "cell_type": "markdown",
   "metadata": {},
   "source": [
    "### Separation of fasta_nucleotide files based on organism & mol_type"
   ]
  },
  {
   "cell_type": "code",
   "execution_count": 58,
   "metadata": {},
   "outputs": [
    {
     "name": "stdout",
     "output_type": "stream",
     "text": [
      "Rows: 219\n",
      "Columns: 3\n",
      "$ filename <chr> \"1036031969.gb\", \"108795022.gb\", \"109150347.gb\", \"109150355.…\n",
      "$ organism <chr> \"Triticum aestivum\", \"Triticum aestivum\", \"Triticum aestivum…\n",
      "$ molecule <chr> \"genomic DNA\", \"mRNA\", \"mRNA\", \"mRNA\", \"mRNA\", \"genomic DNA\"…\n",
      "Rows: 15\n",
      "Columns: 3\n",
      "$ filename <chr> \"13991760.gb\", \"151419595.gb\", \"1808986.gb\", \"208293841.gb\",…\n",
      "$ organism <chr> \"Hordeum vulgare\", \"Hordeum vulgare subsp. vulgare\", \"Hordeu…\n",
      "$ molecule <chr> \"mRNA\", \"mRNA\", \"mRNA\", \"mRNA\", \"genomic DNA\", \"genomic DNA\"…\n",
      "Rows: 8\n",
      "Columns: 3\n",
      "$ filename <chr> \"1027405096.gb\", \"1143453207.gb\", \"1149780471.gb\", \"11497804…\n",
      "$ organism <chr> \"Aegilops tauschii\", \"Aegilops tauschii subsp. tauschii\", \"A…\n",
      "$ molecule <chr> \"transcribed RNA\", \"genomic DNA\", \"mRNA\", \"mRNA\", \"mRNA\", \"g…\n"
     ]
    }
   ],
   "source": [
    "library(stringr)\n",
    "# grouping by organism\n",
    "triticum <- dplyr::filter(gb_meta, organism == \"Triticum aestivum\")\n",
    "glimpse(triticum)\n",
    "hordeum <- dplyr::filter(gb_meta, organism %in% c(\"Hordeum vulgare\",\"Hordeum vulgare subsp. vulgare\"))\n",
    "glimpse(hordeum)\n",
    "aegilops <- dplyr::filter(gb_meta, organism %in% c(\"Aegilops tauschii\",\"Aegilops tauschii subsp. tauschii\"))\n",
    "glimpse(aegilops)"
   ]
  },
  {
   "cell_type": "code",
   "execution_count": 75,
   "metadata": {},
   "outputs": [
    {
     "name": "stdout",
     "output_type": "stream",
     "text": [
      "Rows: 46\n",
      "Columns: 3\n",
      "$ filename <chr> \"1036031969.gb\", \"109240245.gb\", \"109450933.gb\", \"117168399.…\n",
      "$ organism <chr> \"Triticum aestivum\", \"Triticum aestivum\", \"Triticum aestivum…\n",
      "$ molecule <chr> \"genomic DNA\", \"genomic DNA\", \"genomic DNA\", \"genomic DNA\", …\n",
      " chr [1:46] \"1036031969.fasta\" \"109240245.fasta\" \"109450933.fasta\" ...\n",
      "Rows: 173\n",
      "Columns: 3\n",
      "$ filename <chr> \"108795022.gb\", \"109150347.gb\", \"109150355.gb\", \"109150357.g…\n",
      "$ organism <chr> \"Triticum aestivum\", \"Triticum aestivum\", \"Triticum aestivum…\n",
      "$ molecule <chr> \"mRNA\", \"mRNA\", \"mRNA\", \"mRNA\", \"mRNA\", \"mRNA\", \"mRNA\", \"mRN…\n",
      " chr [1:173] \"108795022.fasta\" \"109150347.fasta\" \"109150355.fasta\" ...\n"
     ]
    }
   ],
   "source": [
    "# group triticum by molecule\n",
    "# nosplicing\n",
    "t_nosplicing <- dplyr::filter(triticum, molecule %in% c(\"genomic DNA\"))\n",
    "glimpse(t_nosplicing)\n",
    "# save filename-list\n",
    "t_nosplicing_filename <- pull(t_nosplicing, filename)\n",
    "t_nosplicing_filename <- str_replace(t_nosplicing_filename, \".gb\", \".fasta\")\n",
    "glimpse(t_nosplicing_filename)\n",
    "setwd(\"/nfs/pgsb/projects/comparative_triticeae/phenotype/flower_development/refgenes/gmap/triticum/\")\n",
    "write.table(t_nosplicing_filename, file = \"wheat_nosplicing.csv\", append = FALSE, quote = FALSE, sep = \" \", dec = \".\",\n",
    "            row.names = FALSE, col.names = FALSE)\n",
    "\n",
    "# splicing\n",
    "t_splicing <- dplyr::filter(triticum, molecule %in% c(\"unassigned DNA\", \"transcribed RNA\", \"mRNA\"))\n",
    "glimpse(t_splicing)\n",
    "# save filename-list\n",
    "t_splicing_filename <- pull(t_splicing, filename)\n",
    "t_splicing_filename <- str_replace(t_splicing_filename, \".gb\", \".fasta\")\n",
    "glimpse(t_splicing_filename)\n",
    "setwd(\"/nfs/pgsb/projects/comparative_triticeae/phenotype/flower_development/refgenes/gmap/triticum/\")\n",
    "write.table(t_splicing_filename, file = \"wheat_splicing.csv\", append = FALSE, quote = FALSE, sep = \" \", dec = \".\",\n",
    "            row.names = FALSE, col.names = FALSE)"
   ]
  },
  {
   "cell_type": "code",
   "execution_count": 76,
   "metadata": {},
   "outputs": [
    {
     "name": "stdout",
     "output_type": "stream",
     "text": [
      "Rows: 6\n",
      "Columns: 3\n",
      "$ filename <chr> \"255918287.gb\", \"255918289.gb\", \"308211036.gb\", \"308211038.g…\n",
      "$ organism <chr> \"Hordeum vulgare\", \"Hordeum vulgare\", \"Hordeum vulgare\", \"Ho…\n",
      "$ molecule <chr> \"genomic DNA\", \"genomic DNA\", \"genomic DNA\", \"genomic DNA\", …\n",
      " chr [1:6] \"255918287.fasta\" \"255918289.fasta\" \"308211036.fasta\" ...\n",
      "Rows: 9\n",
      "Columns: 3\n",
      "$ filename <chr> \"13991760.gb\", \"151419595.gb\", \"1808986.gb\", \"208293841.gb\",…\n",
      "$ organism <chr> \"Hordeum vulgare\", \"Hordeum vulgare subsp. vulgare\", \"Hordeu…\n",
      "$ molecule <chr> \"mRNA\", \"mRNA\", \"mRNA\", \"mRNA\", \"mRNA\", \"mRNA\", \"mRNA\", \"mRN…\n",
      " chr [1:9] \"13991760.fasta\" \"151419595.fasta\" \"1808986.fasta\" ...\n"
     ]
    }
   ],
   "source": [
    "# group hordeum by molecule\n",
    "h_nosplicing <- dplyr::filter(hordeum, molecule %in% c(\"genomic DNA\"))\n",
    "glimpse(h_nosplicing)\n",
    "# save filename-list\n",
    "h_nosplicing_filename <- pull(h_nosplicing, filename)\n",
    "h_nosplicing_filename <- str_replace(h_nosplicing_filename, \".gb\", \".fasta\")\n",
    "glimpse(h_nosplicing_filename)\n",
    "setwd(\"/nfs/pgsb/projects/comparative_triticeae/phenotype/flower_development/refgenes/gmap/hordeum/\")\n",
    "write.table(h_nosplicing_filename, file = \"barley_nosplicing.csv\", append = FALSE, quote = FALSE, sep = \" \", dec = \".\",\n",
    "            row.names = FALSE, col.names = FALSE)\n",
    "\n",
    "h_splicing <- dplyr::filter(hordeum, molecule %in% c(\"unassigned DNA\", \"transcribed RNA\", \"mRNA\"))\n",
    "glimpse(h_splicing)\n",
    "# save\n",
    "h_splicing_filename <- pull(h_splicing, filename)\n",
    "h_splicing_filename <- str_replace(h_splicing_filename, \".gb\", \".fasta\")\n",
    "glimpse(h_splicing_filename)\n",
    "setwd(\"/nfs/pgsb/projects/comparative_triticeae/phenotype/flower_development/refgenes/gmap/hordeum/\")\n",
    "write.table(h_splicing_filename, file = \"barley_splicing.csv\", append = FALSE, quote = FALSE, sep = \" \", dec = \".\",\n",
    "            row.names = FALSE, col.names = FALSE)"
   ]
  },
  {
   "cell_type": "code",
   "execution_count": 77,
   "metadata": {},
   "outputs": [
    {
     "name": "stdout",
     "output_type": "stream",
     "text": [
      "Rows: 2\n",
      "Columns: 3\n",
      "$ filename <chr> \"1143453207.gb\", \"343424461.gb\"\n",
      "$ organism <chr> \"Aegilops tauschii subsp. tauschii\", \"Aegilops tauschii\"\n",
      "$ molecule <chr> \"genomic DNA\", \"genomic DNA\"\n",
      " chr [1:2] \"1143453207.fasta\" \"343424461.fasta\"\n",
      "Rows: 6\n",
      "Columns: 3\n",
      "$ filename <chr> \"1027405096.gb\", \"1149780471.gb\", \"1149780473.gb\", \"11497804…\n",
      "$ organism <chr> \"Aegilops tauschii\", \"Aegilops tauschii subsp. tauschii\", \"A…\n",
      "$ molecule <chr> \"transcribed RNA\", \"mRNA\", \"mRNA\", \"mRNA\", \"mRNA\", \"mRNA\"\n",
      " chr [1:6] \"1027405096.fasta\" \"1149780471.fasta\" \"1149780473.fasta\" ...\n"
     ]
    }
   ],
   "source": [
    "# group aegilops by molecule\n",
    "a_nosplicing <- dplyr::filter(aegilops, molecule %in% c(\"genomic DNA\"))\n",
    "glimpse(a_nosplicing)\n",
    "# save filename-list\n",
    "a_nosplicing_filename <- pull(a_nosplicing, filename)\n",
    "a_nosplicing_filename <- str_replace(a_nosplicing_filename, \".gb\", \".fasta\")\n",
    "glimpse(a_nosplicing_filename)\n",
    "setwd(\"/nfs/pgsb/projects/comparative_triticeae/phenotype/flower_development/refgenes/gmap/aegilops/\")\n",
    "write.table(a_nosplicing_filename, file = \"aegilops_nosplicing.csv\", append = FALSE, quote = FALSE, sep = \" \", dec = \".\",\n",
    "            row.names = FALSE, col.names = FALSE)\n",
    "\n",
    "a_splicing <- dplyr::filter(aegilops, molecule %in% c(\"unassigned DNA\", \"transcribed RNA\", \"mRNA\"))\n",
    "glimpse(a_splicing)\n",
    "# save filename-list\n",
    "a_splicing_filename <- pull(a_splicing, filename)\n",
    "a_splicing_filename <- str_replace(a_splicing_filename, \".gb\", \".fasta\")\n",
    "glimpse(a_splicing_filename)\n",
    "setwd(\"/nfs/pgsb/projects/comparative_triticeae/phenotype/flower_development/refgenes/gmap/aegilops/\")\n",
    "write.table(a_splicing_filename, file = \"aegilops_splicing.csv\", append = FALSE, quote = FALSE, sep = \" \", dec = \".\",\n",
    "            row.names = FALSE, col.names = FALSE)"
   ]
  },
  {
   "cell_type": "markdown",
   "metadata": {},
   "source": [
    "Above files had to be concatenated into single `.fasta` files, despite trying to solve it in R (proof below) it turned to be better to use bash:\n",
    "* `cat $(cat wheat_splicing.csv) > wheat_splicing.fasta` -the source table had to be space separated, command has to be executed in the directory of the `.fasta` files"
   ]
  },
  {
   "cell_type": "code",
   "execution_count": 60,
   "metadata": {},
   "outputs": [],
   "source": [
    "# concatenate triticum nucleotide_fasta files into single file and save into gmap/triticum folder\n",
    "### nosplicing\n",
    "library(seqinr)\n",
    "setwd(\"/nfs/pgsb/projects/comparative_triticeae/phenotype/flower_development/refgenes/two_times_filtered/fasta_nucleotide\")\n",
    "t_nosplicing_cat <- foreach(i=t_nosplicing_filename, .packages =\"seqinr\") %do% read.fasta(file = i,  as.string = TRUE, forceDNAtolower = FALSE, whole.header = TRUE, set.attributes = FALSE)"
   ]
  },
  {
   "cell_type": "code",
   "execution_count": 26,
   "metadata": {},
   "outputs": [
    {
     "data": {
      "text/html": [
       "<ol>\n",
       "\t<li><strong>$`AH013429.2 Triticum aestivum cultivar Xinkehan 9 HMW glutenin subunit gene, complete cds`</strong> = 'GCCAGGGAAAGACAATGGACATGCAGAGAGGCGGGGGCGGGGAAGAAACACATGGAGATCATAGAAGAACATAAGAGGTTAAACATAGGAGGAGGATATAATGGACAATTAAATCCACATTACCTGAACTCATTTGGGAAGTGGAAAAATCCCCTATTCTGGTGTAAATCAAACTAATTGACGCGAGTTTTCTCTGAAGATTCTATGTTAATTTTAGACATGAATGACCAAAGGTTTCAGTTAGTTGAGTTTTGTCATCGAAAGGTGTTTACATAAGTCCAAAAATTCTACCAGCTTTTGGTACGGCGCGTCATAGAACAGATAAATGTTGTGAGTCATTGGATAGATATTATGAGTCATAGCATGGGTTTGTGTAGCCTGGAAATCTAACTATGACAAGAAACAAAACATAAATGGGCTTTTGAAAGATGATTTATCAACTTACCTTATCCATGCAAGCTACCTTCCACTAGTCGACATGCTTAGAAGCTTTTAGTGACCGCAGTATTTGCAAAAGCAATGGCTAACAGACACCCAAACCCCAAGAAGCATAACCACTTCTCTTAGATAAAAATAGCAGATCGATATACAAACGTCTACACTTCTGCAAACAATACCCAGAAGCCAGAATTAGGATTGAACCGATTACGTGGCTTTAGCAGACCGTCCAAAAATCTGTTTTGCAAAGCTCCAATTGCTCCTTGCTTATCCAGCTTCTTTTGTGTTGGCAAATTGTTCTTTTCCAACCGACTTTATTCTTTTCACATTTCTTCTTAGGCTGAACTAACCTTCGTCGTGCACACAACCATTGTCCTGAACCTTCACCACGTCCCTATAAAAGCCCAACCAATCTCCACAATTTCATCATCACCCACAACACCGAGCACCACAAAATAGAGATCAATTCACTGACAGTCCANNNNNNNNNNNNNNNNNNNNNNNNNNNNNNNNNNNNNNNNNNNNNNNNNNNNNNNNNNNNNNNNNNNNNNNNNNNNNNNNNNNNNNNNNNNNNNNNNNNNATGGCTAAGCGGCTGGTCCTCTTTGCGGCAGTAGTCATCGCCCTCGTGGCTCTCACCACCGCTGAAGGTGAGGCCTCTAGGCAACTACAGTGTGAGCGCGAGCTCCAGGAGAGCTCGCTTGAGGCATGCCGGCAGGTCGTGGACCAACAGTTGGCCGGTCGGCTGCCATGGAGCACGGGGCTCCAGATGCGATGCTGCCAGCAGCTCCGAGATGTTAGCGCCAAGTGCCGCTCTGTCGCCGTCAGCCAAGTCGCAAGACAATATGAGCAAACTGTGGTGCCGCCCAAGGGCGGATCCTTCTACCCTGGTGAGACCACGCCACTGCAGCAACTCCAACAAGGAATATTTTGGGGAACATCTTCACAAACAGTACAAGGGTATTACCCAAGCGTAACTTCTCCTCGGCAGGGGTCATATTATCCAGGCCAAGCTTCTCCACAACAGCCAGGACAAGGGCAACAGCCTGGCAAATGGCAAGAACCAGGACAAGGGCAACAATGGTACTACCCAACTTCTCTGCAGCAGCCAGGACAAGGGCAACAGATAGGAAAAGGGAAACAAGGGTACTACCCAACTTCTCTGCAGCAACCAGGACAAGGGCAACAAATAGGACAAGGGCAACAAGGGTACTACCCAACTTCTCCGCAGCACACAGGACAAAGGCAACAACCAGTACAAGGGCAACAAATAGGACAAGGGCAACAACCAGAACAAGGGCAACAACCAGGACAATGGCAACAAGGGTACTATCCAACTTCTCCACAGCAGCTAGGACAAGGGCAACAACCAGGACAATGGCAACAATCAGGACAAGGGCAACAAGGGCACTACCCAACTTCTCTACAACAGCCAGGACAAGGGCAACAAGGGCATTACCTAGCTTCTCAGCAGCAGCCAGCACAAGGGCAACAAGGGCACTACCCAGCTTCTCAGCAGCAGCCAGGACAAGGGCAACAAGGGCACTACCCAGCTTCTCAGCAGCAGCCAGGACAAGGGCAACAAGGGCACTACCCAGCTTCTCAGCAAGAGCCAGGACAAGGGCAACAAGGGCAAATCCCAGCTTCTCAGCAGCAGCCAGGACAAGGGCAACAAGGGCACTACCCAGCTTCTCTGCAGCAACCAGGACAACAAGGGCATTACCCAACTTCTCTACAGCAGCTAGGACAAGGGCAACAAATAGGACAGCCAGGACAAAAGCAACAACCAGGACAAGGGCAACAAACAGGACAAGGGCAACAGCCAGAACAAGAGCAACAACCAGGACAAGGGCAACAAGGATACTATCCAACTTCTCTGCAGCAGCCAGGACAAGGACAACAGCAAGGACAAGGGCAACAAGGGTACTACCCAACTTCTCTCCAGCAGCCAGGACAAGGGCAACAAGGGCACTACCCAGCTTCTCTGCAGCAGCCAGGACAAGGACAGCCAGGACAAAGGCAACAACCAGGACAAGGGCAACATCCAGAACAAGGTCAACAACCAGGACAAGGGCAACAAGGGTACTATCCAACTTCTCCACAGCAGCCAGGACAAGGGCAACAACTAGGACAAGGGCAACAAGGGTACTACCCAACTTCTCCGCAGCAGCCAGGACAAGGGCAACAACCAGGACAAGGGCAACAAGGGCACTGCCCAATGTCCCCGCAGCAGACAGGACAAGCGCAACAACTAGGACAAGGCCAACAAATAGGACAAGTGCAACAACCAGGACAAGGGCAACAAGGGTACTACCCAACTTCTCTGCAGCAGCCTGGACAAGGGCAACAGTCAGGACAAGGGCAACAGTCAGGACAAGGACACCAACCAGGACAAGGGCAGCAATCAGGACAAGAGAAACAAGGCTACGACAGCCCATACCATGTTAGCGCAGAGCAGCAAGCGGCCAGCCCAATGGTGGCAAAGGCGCAGCAGCCCGCGACACAGCTGCCGACAGTGTGTCGGATGGAGGGGGGCGACGCATTGTCGGCTAGCCAGTGATAG'</li>\n",
       "\t<li><strong>$`DQ534491.1 Triticum aestivum MADS3 mRNA, complete cds`</strong> = 'AAGAAGAGAGAGGTAGAGAGAGGCCGGGGAAGAAGAGAGCCAGCGAGCGGCAAGGCGGCGGAAGGATGGGGCGCGGCAAGGTGGAGCTGAAGCGGATCGACAACAAGATCAGCCGGCAGGTGACGTTCGCCAAGCGCCGCAACGGGCTGCTCAAGAAGGCGTACGAGCTGTCGGTGCTCTGCGACGCCGAGGTCGCGCTCATCATCTTCTCCACCCGCGGCCGCCTCTTCGAGTTCTCCACATCCTCATGCATGTACAAGACACTAGAGCGGTACCGCAGCTGCAACTTCAACTCCGAGGCAACTGCAACTCCGGAGACTGAACAAAGCAATTACCAGGAGTACTTGAAGCTGAAGACAAGAGTTGAGTTCCTACAGACAACTCAGAGAAATCTTCTTGGCGAGGACTTGGGCCCACTTAACATGAAGGAACTTGAGCAGCTTGAGAACCAAATTGAGATATCTCTCAAACATATCAGGGCGACAAAGAGCCAACAGTCACTTGATCAGCTCTTTGAGCTCAAGCGCAAGGAACAACAACTGCAAGATGTTAATAAAGACTTACGGAAGAAGATACAAGAAACTAGTGTGGAAAATGTGCTGCAAATGTCTTGCCAGGACGTTGGACCTAGTGGGTCTAGTGGCCATGCTAATCAAGCTAATCAACAGGAGTATTTTCATCATGATTGTGACCCTTCCCTGCATATAGGGTATCAACGAAATTTCCTGGATCAGTTGAACAAAGAATGAATGGTTGTATGAGCTGAGCCTGAGCG'</li>\n",
       "\t<li><strong>$`AB244637.1 Triticum aestivum TaGlb2a mRNA for endo-beta-1,3-glucanase, complete cds`</strong> = 'TCCTAGCATAGCAAGCTGGTCGAGCTTCCGAAGATGGCGCGGCAGCGTACGTGCTCTGCCTCCGCGCTCGCGCTCGCCGTGGCGTTGGTCGTCGGAATCCTGGCGTCCATCCCTGTCGAGGTGGAATCCATCGGCGTGTGCAACGGGATGCAAGGCGACAGCCAGTCCCTGCCATCGCGGGCCGACGTGGTGCAGTTCTACGGGACCAAGGGCATCAGCGCCATGCGCATCTACGCCCCGGACCCCGAGACGCTCCAGGCCCTCGGCGACACCGGCATCGACCTCATCATGGACGTGGGCAACGGCAACCTTTCCGCCCTCGCCTCCGACGCCGGCTTGGCGGCGTCCTGGGTCCAAGAAAACGTGCTGGCCTACCCGCGCGTCAGCATCAAGTATATCGCCGCCGGCAACGAGGTGGAAGGCGGCGACACGCAGAACATCGTCCGGGCCATGAAGAACCTCAACGCCGCGCTCTCCAAGGCCAGCCGCCCTGACGTGAAGGTTTCCACGGCGGTCAAGATGAGCGTGCTCGCGTCCTCCTCGCCTCCCTCCAGCGGCGTGTTCAAAGACGCGTATATGTCGGAGGTGACCCAGCTGCTCAAGGACACCAGCGCGCCGCTGCTCGCCAACGTGTACCCCTACATCGCCAAAAGGGACACCCCGACCATCGACCTCAGCTTCGCGCTCTTCCAGCCGAACACCAACCCGGTGAACGACAACGGCAACGGCCTCACCTACACCAACCTCTTCGACGCCATGGTCGACGCTATGTACACGGCCATGGAGCAGGCGGGTGCGTCGGACGTGCCCATCGTGGTCTCGGAGAGCGGGTGGCCATCCGCCGGCGACGACCTGGCAACCCCCACCAACGCGCAGGCGTACAACCAGAACCTGATCGACCACGTCGGCAAAGGCACGCCCAAGAGGGCCGGGCCCCTGGAGACGTACATCTTCGCCATGTTCAACGAGAACCAAAAGGGAGGGCTCGAGACTGAGAGGAACTTCGGGTTGTTCAACGGCCCCGATAAGACGCCGGTGTACCCTATAAGGTTTACCAATTAGTTAAGACGACCGGACTATATCTTCATGTTTACAGGAGTACATACGTACTGTAGCTCTTACTACGGTCGATCTCAATAAGCTGCGGAATAATTCGTGCAAGGACGTACAAGTATTTTACTAGATAATGTCATATGAATAAGAGCCATAAA'</li>\n",
       "\t<li><strong>$`AB244641.1 Triticum aestivum TaGlb2e mRNA for endo-beta-1,3-glucanase, complete cds`</strong> = 'GAATTCGGCACGAGGCGGGGACGTACGTGCGTGCATCGACTGTTTCTTCCTCGCACAACAAGCTGGTCGATCGATCGAGCTTCTGAAGATGGCGCGGCAACGTACGGTCGCCATGGCGCTGGTCGTCGGAGTGATCTTGGCGTCCATCACTATCGATCAGGTGCAATCCATCGGCGTGTGCAACGGCAAGGTCGGCGACAACCTGCCATCGCGGGCCGAGGTGGTGCGGTTCTACAAGTCCCTGGGAATCGGCGCCATGCGCATCTACGAGCCGGAACCCGAGACGCTCCTGGCTCTCGACGGCACCGAGATCGAACTCATCATGGACGTGGGTGGCGGCTTCGCCGCCATCGCCTCCGACCCTGCCGCCGCGGCCGGCTGGATCCGTGACAACGTGCTTGCCTTCCCGGGCGTGCGCATCAAGTACATTGCGGCCGGCAACGAGATCGAGGGCAGCGACACGGACAACATCGTCCCGGCCATCAAGAACCTCAACGCCGCGCTCGCTGCGGCCAGCCGCACTGACGTCAAGGTGTCCACGGCGGTCAAGATGAGCGTGCTGGGGTCCTCCTCGCCGCCCTCCGAGGGCGCGTTCAAGGACCCATACATGACGGAGGTGGCCAAGATGCTCAAGGCCACCGGGGCCCCGCTCCTCGCCAACGTGTACCCCTACTTCGCCAAAAGGGACACCCCGGACATCGACCTCGGCTTCGCGCTCTTCAAGCAAAGCACCAGCACGGTGAGCGACAGCGGTCTCACCTACACGAACCTCTTCGACGCCATGGTCGACGCGGTTTACTCGGCCTTGGAGAAGGCGGGTGCGCCGGACGTGCCCATTGTGGTCTCGGAGAGCGGATGGCCGTCGGCCGGCGACGACCTGGCAACCGTCGCTAACGCGCAGGCGTACAACCAGGGGCTCATCGACCACGTCGGCAAAGGCACGCCCAAGAGGCCGGTGCCCCTGGAGACGTACATCTTCGCCATGTTCAACGAGAACCAGAAAGGAGGGGCCGTGACAGAGAAGAGCTTTGGGCTGTTCAACGGCCCCGACAAGACGCCGGTGTACCCTATAAAGTTCAACAATTAGCTAAGACAGCCGGACTACATATTCATGCATACAATACATATATAGCTGCTGCTTCGATCGATC'</li>\n",
       "\t<li><strong>$`AB244642.1 Triticum aestivum TaGlb2f mRNA for endo-beta-1,3-glucanase, complete cds`</strong> = 'CACAGTAGACGAGTACGCCCGTGCATAACAAGCTGACCGAGCTTCTGAAGATGGCGCGGCAGCGTACGTGCTCTGCCTCCGCGCTCGCGCTCGCCGTGGCGTTGGTCGTCGGAGTCTTGGCGTCCATCCCTATCGAGGTGGAATCCATCGGGGTGTGCAACGGGATGATAGGCGACAGCCAGTCCCTGCCATCTCCGGCCGACGTGGTGCAGTTGTACAGGACCAAGGGCATCAGCGCCATGCGCATCTACGCCCCGGACCCGGAGACGCTCCAGGCCCTCGGCGACACCGGCATCGACCTCATCATGGACGTCGGCAACGGCAACCTTTCCGCCCTCGCCTCCGACGCCGGTTTGGCCGCGTCCTGGGTCCAAGAAAACGTGCTGGCCTACCCGCACGTCAGCATCAAGTATATCGCGGCCGGCAACGAGGTGGAAGGCGGCGACACGCAGAACATCGTCCCGGCCATGACGAACCTCAACGCCGCGCTCTCCAAGGCCAGCCGCCCTGACGTGAAGGTGTCCACGGCGGTCAAGATGAGCGTGCTCGCGTCCTCCTCGCCTCCCTCCAGCGGCGTGTTCAAAGACGCGTACATGACGGAGGTGGCCCAGCTGCTCAAGGACACCAGCGCGCCGCTGCTCGCCAACGTGTACCCCTACATCGCCAAAAGGGACACCCCGACCATCGACCTCAGCTTCGCGCTCTTCCAGCCGAGCACCAACCAGGTGAACGACAACGGCAACGGCCTCACCTACACCAACCTCTTCGATGCCATGGTCGACGCCATGTACACGGCCATGGAGCAGGCGGGTGCGTCGGACGTGCCCATCGTGGTCTCGGAGAGCGGGTGGCCGTCGGCCGGCGACGACCTTGCAACCCCCACTAACGCGCAGGCGTACAACCAGAACCTCATCGACCACGTCGGCAAAGGCACGCCCAAGAGGGCCGGGCCCCTGGAGACGTACATCTTCGCCATGTTCAACGAGAACCGAAAGGACGGGCCCGACACAGAGAGGAACTTCGGGCTGTTCAACGGCCCCGACAAGACGCCGGTGTACCCTATAAGGTTCACCAATTAGTTAAGAAGACGTCCGGACTATATTTTCATGTATACATGAGTACATACATATCTCTTATTACGGTAGATCTCAATAAGCTGCACAATAATACGTACAAGCACG'</li>\n",
       "\t<li><strong>$`AB262660.1 Triticum aestivum pinb gene for puroindoline b protein, complete cds`</strong> = 'TGGTTATTTAGTAGAGTAAATAGCATAAAACTACTACTTTACAGGTCAGGGTTTCAAAAAACTACCCATTTTTATTTTTTCTCAGATAACTACCAAATGGGTGGTTGGCTGTTTAAAAAAACCCAAAACATCTAGTGTTTTACAATTGATCGTGATTATGACAATTGGGACCCGCATATAAGAAAACCGATTGTTTGGCCGTCTATTTGACCGTTAACTGACATGTGGGGTCCACATGCCAGCTCTCTTCCTTGTTCTCTTCACTCCTCCTGCCTCTCTTCTTCCCTAGGAGGCCGATGGAGCGCCGGCCGCCGCTCCTTCCACCAGCGCCGGTCGCCCCTCCTTCCACCTCGTCGTCGTTAGCCGGCCGCTCCTCCGCCTCCACTACTGCCCCCTCTCCCTAGAACCTTTTCTTCTCACCGTGGCCTCTTCTCCCCCAACGCGCCGTCGGCCTCGACCTGCAGCCTTGGCGCCTGACGTGCCGCCCTCCATGGAGCCATGGCGCCACCGGCTAGAGGCGCTGCCCTGCCAGCATGGACGGTCGTGATGGAAGGGAGCTCCACGGCTGCGCCATGGCTGCTGGTCGCGACGGAAGGGAGCTCCACTGTGGCGCCATGGCTGCTGGTGGATGCTGGTCGTGACGGAAGGGAGCTCCACGCGCCGCCCCCGACGGAACGGAGCTCCACGGCGGCACCATGGCTGCTGGTCGCGACGGAAGGGAGCTTCACACGCCGGCCACGACAGAAGGGAGCTCCATGGCGGTGCCATGGCTACTGGCCGGCGACCCTCACGGTGGCTCCTAGCGCACGGCCACGGGAGGGACCTGATTGCTTTTTTCAAAAGTTTGCGGGGACCCGACTGTGTTTTTGAAAAGTTTGCAAGGACCTGATGGCATTTTTTAAAACTTTGCAGACACTAACATGTGGGACCCACATGTCAATTAACGGTCAAACAAACGGTCAAATAGACGGATCGTTTAGGTGCGGGCCCGACCTGTCATAAACCTGTTTAATTTTTTAATAACGAAGATTTTGAGTTTTTTGAAACAGCCGACCCCTGACTTGGTAGTTATCTGAGAAAAATTAAAAACCGGTAGTTTTTTGAAACCCTAGCCTGTAAAGTAGTAGTTAGTAAAACAATTAAATTTGTGTCATACTTGCATTTCCTGTTTATCCTATGATCTGCATGACTGTGTGCAACTGCAAATGAGCCTCCACCCTAGGCTTATTTCCATATTGATTATTACTCACCTCGATTTTTGTTTGTAAGTGTGTTTATTTATTGGTCAAAGATAATTGTTTCTGGGGAAAAATGAAGGATTAGAAGAAGCTTGTCATGTGCCGAATCTCAATCTTCGATAAACCAAGGGAGAATAATTAGAAAAGATGGCTATCTAATATGACTCATTGCACTTTCTAGGTCAGAATCAAAACCCTTTTATGGCATTGTACATGGGGAGGTGAGCTCTGTTCTAAGGTTAATCCTAACCCGTGTTGTTTGAAATACCTATTTACCCCCTCCGATGCATCTAGATCCTCGGACACCTTGTTAAAAAAAATTACTTCCTTGGAGACAAATACTATTTTGGAGAATAATGAAAATCATTTAGAAACATTTGACATGAACGACATGATTCCAGAGACAATAAAAAACTTAAAAACAAACGATGGATAAGAAGATGATGTCTTGATAAATCATTACTTGTCGAGTTGTCGTGTACTACTAGTCTGTAAAATACAGTCTCTAACAAATTTGGTACAATCTGAGATCCATCTTGAACAACCTGCACAATCCTACAAGTTTAGTTTCGCAAAAGAATAACAATATGAACCATGTGACTTTCTTGGTACGTACAAAACCACAGAGAGAGAGAGAGAGAGAGAGAGAGAGAGAGAGAGAAGGGTCACACATCATTAGATAAGGTCTATCTTCACAAAGTTGCACATACATGTACAGTACAGGAAGCGACATGTATCTCAATACCACATGGTTCTAGATACTGGACGAAAAAGCAGTGGCTAGAAAGATGACGATATATAGATGCATTACTTATCATATACTACTACCTAGAAAAATACAATATCTAATTTCCTCTTGATCCTTCTTGAACAACCTGCACAACACTACAAGTTCAGTTTCACAAAAGCGTAAGTCTAAAGCTTTGGTACAACAACAACTTATGGTTTATTTTGAGAAAAGGTCAGATTCAGTACACGGAACATCACATATCTCAACAACTTCCACCAGTTTTGTGTGCTTTCAAAGTAACTTTGATTGGTATCCAGCTATACAACACACAACCGCACACAGAAATCGTGCCACCTCAATTATAAATAAAGGTGTGGCCTCATCTCATCTATTCATCTCCACCTGCACCAAAACACACTGACAACATGAAGGCCCTCTTCCTCATAGGCCAGAGCGGGGTACTAGACAACAGCAAATCGAGATTGGAGCACACCAAATGCACGCTTGACATACTTCCTGCAAGCCTCCTGACACTTAACAAAGCAGGATTTCTTGCCTCCTGGCACAGGGTTTGAGATAGTCTTCACAAATGTTGACCATCTTGGATAGATGCCATCTGCTAGGTAGTATCCCTTGTTATAGTGGCGCCCATTGACCTTGAAGTTCACCGGAGGAGCATGACTTTAACAAGCTTGGCAAAGACATTCGAGCACTGCAGGACGTTGATGTCATTGTAAGTTCCTGGCATACCAAGAAGGAGTGCCAAATCTAGAGGTCCTTTGTATTGCCTCAAGTACCACACCGCAAGCTCCTTTCGCTCCTTTCTACATTCCCTGCCAGGCAAATGGACAGTTTTTCCATGCCCAATCCATGCATTCGATGCTTCCAAGCATCCCAGGAAATCCTCTTGCTTCTGTGCTAGGATCCGAGCAGTGTCTTCAGCATTGGGTGACCGCAAGTATTCTGGTCCAAACACTTCCACCACTGCCCTGCAGAACTTGTACAAACACTAGGCCATGCGTCCAAATCTCTAGTCGCATGTGCTTCTACCTCGCCGACAAACTGGAAGGGATGGCCTTCCCCAACCCGGGGCTCTACACCCATGTGAAGGGCAAGGAACAGTAGCAATAGGTTGCTGAGGATTTTGAGAAAATCAAATAGTGTTCCGGAGAATTTTGTGAATCAGATGAACAACTAGGAATGAACAAATCCTTAATACGTGTGAGGATTATTCGTAGGCGTATTCATGCAACAAATATCTATAAGGCAGTGGCACAAGGGATTCTTAAAAAGTTGGAGAATAATTTGATGCACCTTGTAATAACAAGAGCAGCTGGGAATGAAAGTAAGAACGACAGGTGTATGTATTTATCCATAGGGATATATCAGTGGTAGGGGATTGCAAAAGCGACGGGCACAGAGTCTCGAGAGAGCATCGGAGAGTATCTTCGAAATCTTCTGGTGTAGCAGGCGATCATCTGGACTGAATGGGCTCTCCGGGAGAAAGTATTTTCGAGAACCTAAAGTTAGATTTTTAGCAAAATTATTTAAACCGAATATAAGAGATATCAGAACCCCAGAGTATAGACGAGGAATAAAAGATCCTAATACCACCCAAATGGCTACATGGACCCGTAAGCCACACAACCATGTTAGCAAAAAGTTATTCAATGACTAGACTCAACTTCGGCCAAGGAGTTGGAAAGGGGGATTCCTACTGGCAGTCGGCTCTGATACCAACTTGTGACTCCCCTGATTTGACCATACACAAATCATACACGCAAATGCGTACGACCAAGATCAGGGACTCATGGGAAGATATCACAACACAACTCTAGACACAAATTAAAGTCATACAAGCTTTATATTACAAGCCAGGGGCCTCGAGGGCTCGAATACATAAGCTCGAAAGCACAATAGTCAGCGGAAGCAACAATATCTGAGTACAGGCATAAGTTAAACAAGTTGTCATAAGATGGCTAGCACAAACAGGGATAAAGATCAAAAAGGCAAGGCCTCCTGCCTGGGAGCCTCCTAACTACTCCTGGTCGTCGACAGCCTCCACGTAGTAGGAGCATCCGTCGGGGATTTAGTAGTCGTCAGCGGTGGCATCTGACTCCTAGGCTCCAACATCTTATCGCAACATCCGGAAAGTAGAGAGAAGGGGGAAATGGGTAGCAAAGCAACCGTGAGTACTCATTCGAAGTACTCGCAAGACTTACATCAGATCTAAACTACATATGCATTGGTATCAAATGAATGGGGTAATATCTGTGGACTAAACTGCAGAATGCCAGAATAAGAGGGGGAGAAGCTAGTCCTATCAAAGACTACGCTTCCAGTAACCTCCGTCTTGCAGTAGTAGAAGAGAATAGCAGATAAGTATCAACACATAGCATAACCCACCTGGCGATCCTCTCCTTGTCACCCTGTGAGAGAGCGAACACCGGGTTGTATCTGGAAGTTATCTGGGTGTGCTTTATTAAGTCGGCTGGTACATCATCCTCCCATAGGAGGCCTTTGCATCTGGGCGTGTGTGGCCTATTTTCATTTCACCCCAGTTATTCCATCGAACTAAGTAGCAACATGTAAGGAGTCAGTTTTCGAGATACCACACAACACCAATTTTCCAACGAAACTAATGAGAAATAAAAAGGTGCATCACTCATTTTCGACCAAATTAATTATGTCTTGGTATTAGAGTTTTCTCTCTCTGTCCTGATAAACCCAAACGGAGGGAGTAAAGATTATCTATCTCAACATCACATGATTCTAAATACAAAACAGAAAACCACGGCTAGAAGAGGACGACATCTAGAGGCATTGCTTTTCATGTACTAATACCTTGTTAAACACATTCTCTAACAAATTGGTTTGGATCCTTCTTCAACAATTTCCACACACTACAAGGCCAGTTCACAAAAGCTTAAAGCGTGAGCATTGGTACAAAACTAGTTGTGGTCTATCTTGAGAAAAGGGAACACTTAGTACACGAAACGTCACCTGTCTCAACAACTTGCACCATTTCTGTTGGCTCGCAAAGTAACTTTATTTAGTATACCAACTTAATTTGTGAGCATTAGCCAAAGCAACACACAATGGTAGGCAAAAACCATGTCACTAAGCAATAAATAAAGGGGAGCCTCAACCCATCTATTCATCTCCACCACCACCAAAACAACATTGAAAACATGAAGACCTTATTCCTCCTAGCTCTCCTTGCTCTTGTAGCGAGCACAACCTTCGCGCAATACTCAGAAGTTGGCGGCTGGTACAATGAAGTTGGCGGAGGAGGTGGTTCTCAACAATGTCCGCAGGAGCGGCCGAAGCTAAGCTCTTGCAAGGATTACGTGATGGAGCGATGTTTCACAATGAAGGATTTTCCAGTCACCTGGCCCACAAAATGGTGGAAGGGCGGCTGTGAGCATGAGGTTCGGGAGAAGTGCTGCAAGCAGCTGAGCCAGATAGCACCACAATGTCGCTGTGATTCTATCCGGCGAGTGATCCAAGGCAGGCTCGGTGGCTTCTTGGGCATTTGGCGAGGTGAGGTATTCAAACAACTTCAGAGGGCCCAGAGCCTCCCCTCAAAGTGCAACATGGGCGCCGACTGCAAGTTCCCTAGTGGCTATTACTGGTGATGATATAGCCTCTATTCGTGCCAATAAAATGTCACATATCATA'</li>\n",
       "</ol>\n"
      ],
      "text/latex": [
       "\\begin{enumerate}\n",
       "\\item \\textbf{\\$`AH013429.2 Triticum aestivum cultivar Xinkehan 9 HMW glutenin subunit gene, complete cds`} = 'GCCAGGGAAAGACAATGGACATGCAGAGAGGCGGGGGCGGGGAAGAAACACATGGAGATCATAGAAGAACATAAGAGGTTAAACATAGGAGGAGGATATAATGGACAATTAAATCCACATTACCTGAACTCATTTGGGAAGTGGAAAAATCCCCTATTCTGGTGTAAATCAAACTAATTGACGCGAGTTTTCTCTGAAGATTCTATGTTAATTTTAGACATGAATGACCAAAGGTTTCAGTTAGTTGAGTTTTGTCATCGAAAGGTGTTTACATAAGTCCAAAAATTCTACCAGCTTTTGGTACGGCGCGTCATAGAACAGATAAATGTTGTGAGTCATTGGATAGATATTATGAGTCATAGCATGGGTTTGTGTAGCCTGGAAATCTAACTATGACAAGAAACAAAACATAAATGGGCTTTTGAAAGATGATTTATCAACTTACCTTATCCATGCAAGCTACCTTCCACTAGTCGACATGCTTAGAAGCTTTTAGTGACCGCAGTATTTGCAAAAGCAATGGCTAACAGACACCCAAACCCCAAGAAGCATAACCACTTCTCTTAGATAAAAATAGCAGATCGATATACAAACGTCTACACTTCTGCAAACAATACCCAGAAGCCAGAATTAGGATTGAACCGATTACGTGGCTTTAGCAGACCGTCCAAAAATCTGTTTTGCAAAGCTCCAATTGCTCCTTGCTTATCCAGCTTCTTTTGTGTTGGCAAATTGTTCTTTTCCAACCGACTTTATTCTTTTCACATTTCTTCTTAGGCTGAACTAACCTTCGTCGTGCACACAACCATTGTCCTGAACCTTCACCACGTCCCTATAAAAGCCCAACCAATCTCCACAATTTCATCATCACCCACAACACCGAGCACCACAAAATAGAGATCAATTCACTGACAGTCCANNNNNNNNNNNNNNNNNNNNNNNNNNNNNNNNNNNNNNNNNNNNNNNNNNNNNNNNNNNNNNNNNNNNNNNNNNNNNNNNNNNNNNNNNNNNNNNNNNNNATGGCTAAGCGGCTGGTCCTCTTTGCGGCAGTAGTCATCGCCCTCGTGGCTCTCACCACCGCTGAAGGTGAGGCCTCTAGGCAACTACAGTGTGAGCGCGAGCTCCAGGAGAGCTCGCTTGAGGCATGCCGGCAGGTCGTGGACCAACAGTTGGCCGGTCGGCTGCCATGGAGCACGGGGCTCCAGATGCGATGCTGCCAGCAGCTCCGAGATGTTAGCGCCAAGTGCCGCTCTGTCGCCGTCAGCCAAGTCGCAAGACAATATGAGCAAACTGTGGTGCCGCCCAAGGGCGGATCCTTCTACCCTGGTGAGACCACGCCACTGCAGCAACTCCAACAAGGAATATTTTGGGGAACATCTTCACAAACAGTACAAGGGTATTACCCAAGCGTAACTTCTCCTCGGCAGGGGTCATATTATCCAGGCCAAGCTTCTCCACAACAGCCAGGACAAGGGCAACAGCCTGGCAAATGGCAAGAACCAGGACAAGGGCAACAATGGTACTACCCAACTTCTCTGCAGCAGCCAGGACAAGGGCAACAGATAGGAAAAGGGAAACAAGGGTACTACCCAACTTCTCTGCAGCAACCAGGACAAGGGCAACAAATAGGACAAGGGCAACAAGGGTACTACCCAACTTCTCCGCAGCACACAGGACAAAGGCAACAACCAGTACAAGGGCAACAAATAGGACAAGGGCAACAACCAGAACAAGGGCAACAACCAGGACAATGGCAACAAGGGTACTATCCAACTTCTCCACAGCAGCTAGGACAAGGGCAACAACCAGGACAATGGCAACAATCAGGACAAGGGCAACAAGGGCACTACCCAACTTCTCTACAACAGCCAGGACAAGGGCAACAAGGGCATTACCTAGCTTCTCAGCAGCAGCCAGCACAAGGGCAACAAGGGCACTACCCAGCTTCTCAGCAGCAGCCAGGACAAGGGCAACAAGGGCACTACCCAGCTTCTCAGCAGCAGCCAGGACAAGGGCAACAAGGGCACTACCCAGCTTCTCAGCAAGAGCCAGGACAAGGGCAACAAGGGCAAATCCCAGCTTCTCAGCAGCAGCCAGGACAAGGGCAACAAGGGCACTACCCAGCTTCTCTGCAGCAACCAGGACAACAAGGGCATTACCCAACTTCTCTACAGCAGCTAGGACAAGGGCAACAAATAGGACAGCCAGGACAAAAGCAACAACCAGGACAAGGGCAACAAACAGGACAAGGGCAACAGCCAGAACAAGAGCAACAACCAGGACAAGGGCAACAAGGATACTATCCAACTTCTCTGCAGCAGCCAGGACAAGGACAACAGCAAGGACAAGGGCAACAAGGGTACTACCCAACTTCTCTCCAGCAGCCAGGACAAGGGCAACAAGGGCACTACCCAGCTTCTCTGCAGCAGCCAGGACAAGGACAGCCAGGACAAAGGCAACAACCAGGACAAGGGCAACATCCAGAACAAGGTCAACAACCAGGACAAGGGCAACAAGGGTACTATCCAACTTCTCCACAGCAGCCAGGACAAGGGCAACAACTAGGACAAGGGCAACAAGGGTACTACCCAACTTCTCCGCAGCAGCCAGGACAAGGGCAACAACCAGGACAAGGGCAACAAGGGCACTGCCCAATGTCCCCGCAGCAGACAGGACAAGCGCAACAACTAGGACAAGGCCAACAAATAGGACAAGTGCAACAACCAGGACAAGGGCAACAAGGGTACTACCCAACTTCTCTGCAGCAGCCTGGACAAGGGCAACAGTCAGGACAAGGGCAACAGTCAGGACAAGGACACCAACCAGGACAAGGGCAGCAATCAGGACAAGAGAAACAAGGCTACGACAGCCCATACCATGTTAGCGCAGAGCAGCAAGCGGCCAGCCCAATGGTGGCAAAGGCGCAGCAGCCCGCGACACAGCTGCCGACAGTGTGTCGGATGGAGGGGGGCGACGCATTGTCGGCTAGCCAGTGATAG'\n",
       "\\item \\textbf{\\$`DQ534491.1 Triticum aestivum MADS3 mRNA, complete cds`} = 'AAGAAGAGAGAGGTAGAGAGAGGCCGGGGAAGAAGAGAGCCAGCGAGCGGCAAGGCGGCGGAAGGATGGGGCGCGGCAAGGTGGAGCTGAAGCGGATCGACAACAAGATCAGCCGGCAGGTGACGTTCGCCAAGCGCCGCAACGGGCTGCTCAAGAAGGCGTACGAGCTGTCGGTGCTCTGCGACGCCGAGGTCGCGCTCATCATCTTCTCCACCCGCGGCCGCCTCTTCGAGTTCTCCACATCCTCATGCATGTACAAGACACTAGAGCGGTACCGCAGCTGCAACTTCAACTCCGAGGCAACTGCAACTCCGGAGACTGAACAAAGCAATTACCAGGAGTACTTGAAGCTGAAGACAAGAGTTGAGTTCCTACAGACAACTCAGAGAAATCTTCTTGGCGAGGACTTGGGCCCACTTAACATGAAGGAACTTGAGCAGCTTGAGAACCAAATTGAGATATCTCTCAAACATATCAGGGCGACAAAGAGCCAACAGTCACTTGATCAGCTCTTTGAGCTCAAGCGCAAGGAACAACAACTGCAAGATGTTAATAAAGACTTACGGAAGAAGATACAAGAAACTAGTGTGGAAAATGTGCTGCAAATGTCTTGCCAGGACGTTGGACCTAGTGGGTCTAGTGGCCATGCTAATCAAGCTAATCAACAGGAGTATTTTCATCATGATTGTGACCCTTCCCTGCATATAGGGTATCAACGAAATTTCCTGGATCAGTTGAACAAAGAATGAATGGTTGTATGAGCTGAGCCTGAGCG'\n",
       "\\item \\textbf{\\$`AB244637.1 Triticum aestivum TaGlb2a mRNA for endo-beta-1,3-glucanase, complete cds`} = 'TCCTAGCATAGCAAGCTGGTCGAGCTTCCGAAGATGGCGCGGCAGCGTACGTGCTCTGCCTCCGCGCTCGCGCTCGCCGTGGCGTTGGTCGTCGGAATCCTGGCGTCCATCCCTGTCGAGGTGGAATCCATCGGCGTGTGCAACGGGATGCAAGGCGACAGCCAGTCCCTGCCATCGCGGGCCGACGTGGTGCAGTTCTACGGGACCAAGGGCATCAGCGCCATGCGCATCTACGCCCCGGACCCCGAGACGCTCCAGGCCCTCGGCGACACCGGCATCGACCTCATCATGGACGTGGGCAACGGCAACCTTTCCGCCCTCGCCTCCGACGCCGGCTTGGCGGCGTCCTGGGTCCAAGAAAACGTGCTGGCCTACCCGCGCGTCAGCATCAAGTATATCGCCGCCGGCAACGAGGTGGAAGGCGGCGACACGCAGAACATCGTCCGGGCCATGAAGAACCTCAACGCCGCGCTCTCCAAGGCCAGCCGCCCTGACGTGAAGGTTTCCACGGCGGTCAAGATGAGCGTGCTCGCGTCCTCCTCGCCTCCCTCCAGCGGCGTGTTCAAAGACGCGTATATGTCGGAGGTGACCCAGCTGCTCAAGGACACCAGCGCGCCGCTGCTCGCCAACGTGTACCCCTACATCGCCAAAAGGGACACCCCGACCATCGACCTCAGCTTCGCGCTCTTCCAGCCGAACACCAACCCGGTGAACGACAACGGCAACGGCCTCACCTACACCAACCTCTTCGACGCCATGGTCGACGCTATGTACACGGCCATGGAGCAGGCGGGTGCGTCGGACGTGCCCATCGTGGTCTCGGAGAGCGGGTGGCCATCCGCCGGCGACGACCTGGCAACCCCCACCAACGCGCAGGCGTACAACCAGAACCTGATCGACCACGTCGGCAAAGGCACGCCCAAGAGGGCCGGGCCCCTGGAGACGTACATCTTCGCCATGTTCAACGAGAACCAAAAGGGAGGGCTCGAGACTGAGAGGAACTTCGGGTTGTTCAACGGCCCCGATAAGACGCCGGTGTACCCTATAAGGTTTACCAATTAGTTAAGACGACCGGACTATATCTTCATGTTTACAGGAGTACATACGTACTGTAGCTCTTACTACGGTCGATCTCAATAAGCTGCGGAATAATTCGTGCAAGGACGTACAAGTATTTTACTAGATAATGTCATATGAATAAGAGCCATAAA'\n",
       "\\item \\textbf{\\$`AB244641.1 Triticum aestivum TaGlb2e mRNA for endo-beta-1,3-glucanase, complete cds`} = 'GAATTCGGCACGAGGCGGGGACGTACGTGCGTGCATCGACTGTTTCTTCCTCGCACAACAAGCTGGTCGATCGATCGAGCTTCTGAAGATGGCGCGGCAACGTACGGTCGCCATGGCGCTGGTCGTCGGAGTGATCTTGGCGTCCATCACTATCGATCAGGTGCAATCCATCGGCGTGTGCAACGGCAAGGTCGGCGACAACCTGCCATCGCGGGCCGAGGTGGTGCGGTTCTACAAGTCCCTGGGAATCGGCGCCATGCGCATCTACGAGCCGGAACCCGAGACGCTCCTGGCTCTCGACGGCACCGAGATCGAACTCATCATGGACGTGGGTGGCGGCTTCGCCGCCATCGCCTCCGACCCTGCCGCCGCGGCCGGCTGGATCCGTGACAACGTGCTTGCCTTCCCGGGCGTGCGCATCAAGTACATTGCGGCCGGCAACGAGATCGAGGGCAGCGACACGGACAACATCGTCCCGGCCATCAAGAACCTCAACGCCGCGCTCGCTGCGGCCAGCCGCACTGACGTCAAGGTGTCCACGGCGGTCAAGATGAGCGTGCTGGGGTCCTCCTCGCCGCCCTCCGAGGGCGCGTTCAAGGACCCATACATGACGGAGGTGGCCAAGATGCTCAAGGCCACCGGGGCCCCGCTCCTCGCCAACGTGTACCCCTACTTCGCCAAAAGGGACACCCCGGACATCGACCTCGGCTTCGCGCTCTTCAAGCAAAGCACCAGCACGGTGAGCGACAGCGGTCTCACCTACACGAACCTCTTCGACGCCATGGTCGACGCGGTTTACTCGGCCTTGGAGAAGGCGGGTGCGCCGGACGTGCCCATTGTGGTCTCGGAGAGCGGATGGCCGTCGGCCGGCGACGACCTGGCAACCGTCGCTAACGCGCAGGCGTACAACCAGGGGCTCATCGACCACGTCGGCAAAGGCACGCCCAAGAGGCCGGTGCCCCTGGAGACGTACATCTTCGCCATGTTCAACGAGAACCAGAAAGGAGGGGCCGTGACAGAGAAGAGCTTTGGGCTGTTCAACGGCCCCGACAAGACGCCGGTGTACCCTATAAAGTTCAACAATTAGCTAAGACAGCCGGACTACATATTCATGCATACAATACATATATAGCTGCTGCTTCGATCGATC'\n",
       "\\item \\textbf{\\$`AB244642.1 Triticum aestivum TaGlb2f mRNA for endo-beta-1,3-glucanase, complete cds`} = 'CACAGTAGACGAGTACGCCCGTGCATAACAAGCTGACCGAGCTTCTGAAGATGGCGCGGCAGCGTACGTGCTCTGCCTCCGCGCTCGCGCTCGCCGTGGCGTTGGTCGTCGGAGTCTTGGCGTCCATCCCTATCGAGGTGGAATCCATCGGGGTGTGCAACGGGATGATAGGCGACAGCCAGTCCCTGCCATCTCCGGCCGACGTGGTGCAGTTGTACAGGACCAAGGGCATCAGCGCCATGCGCATCTACGCCCCGGACCCGGAGACGCTCCAGGCCCTCGGCGACACCGGCATCGACCTCATCATGGACGTCGGCAACGGCAACCTTTCCGCCCTCGCCTCCGACGCCGGTTTGGCCGCGTCCTGGGTCCAAGAAAACGTGCTGGCCTACCCGCACGTCAGCATCAAGTATATCGCGGCCGGCAACGAGGTGGAAGGCGGCGACACGCAGAACATCGTCCCGGCCATGACGAACCTCAACGCCGCGCTCTCCAAGGCCAGCCGCCCTGACGTGAAGGTGTCCACGGCGGTCAAGATGAGCGTGCTCGCGTCCTCCTCGCCTCCCTCCAGCGGCGTGTTCAAAGACGCGTACATGACGGAGGTGGCCCAGCTGCTCAAGGACACCAGCGCGCCGCTGCTCGCCAACGTGTACCCCTACATCGCCAAAAGGGACACCCCGACCATCGACCTCAGCTTCGCGCTCTTCCAGCCGAGCACCAACCAGGTGAACGACAACGGCAACGGCCTCACCTACACCAACCTCTTCGATGCCATGGTCGACGCCATGTACACGGCCATGGAGCAGGCGGGTGCGTCGGACGTGCCCATCGTGGTCTCGGAGAGCGGGTGGCCGTCGGCCGGCGACGACCTTGCAACCCCCACTAACGCGCAGGCGTACAACCAGAACCTCATCGACCACGTCGGCAAAGGCACGCCCAAGAGGGCCGGGCCCCTGGAGACGTACATCTTCGCCATGTTCAACGAGAACCGAAAGGACGGGCCCGACACAGAGAGGAACTTCGGGCTGTTCAACGGCCCCGACAAGACGCCGGTGTACCCTATAAGGTTCACCAATTAGTTAAGAAGACGTCCGGACTATATTTTCATGTATACATGAGTACATACATATCTCTTATTACGGTAGATCTCAATAAGCTGCACAATAATACGTACAAGCACG'\n",
       "\\item \\textbf{\\$`AB262660.1 Triticum aestivum pinb gene for puroindoline b protein, complete cds`} = 'TGGTTATTTAGTAGAGTAAATAGCATAAAACTACTACTTTACAGGTCAGGGTTTCAAAAAACTACCCATTTTTATTTTTTCTCAGATAACTACCAAATGGGTGGTTGGCTGTTTAAAAAAACCCAAAACATCTAGTGTTTTACAATTGATCGTGATTATGACAATTGGGACCCGCATATAAGAAAACCGATTGTTTGGCCGTCTATTTGACCGTTAACTGACATGTGGGGTCCACATGCCAGCTCTCTTCCTTGTTCTCTTCACTCCTCCTGCCTCTCTTCTTCCCTAGGAGGCCGATGGAGCGCCGGCCGCCGCTCCTTCCACCAGCGCCGGTCGCCCCTCCTTCCACCTCGTCGTCGTTAGCCGGCCGCTCCTCCGCCTCCACTACTGCCCCCTCTCCCTAGAACCTTTTCTTCTCACCGTGGCCTCTTCTCCCCCAACGCGCCGTCGGCCTCGACCTGCAGCCTTGGCGCCTGACGTGCCGCCCTCCATGGAGCCATGGCGCCACCGGCTAGAGGCGCTGCCCTGCCAGCATGGACGGTCGTGATGGAAGGGAGCTCCACGGCTGCGCCATGGCTGCTGGTCGCGACGGAAGGGAGCTCCACTGTGGCGCCATGGCTGCTGGTGGATGCTGGTCGTGACGGAAGGGAGCTCCACGCGCCGCCCCCGACGGAACGGAGCTCCACGGCGGCACCATGGCTGCTGGTCGCGACGGAAGGGAGCTTCACACGCCGGCCACGACAGAAGGGAGCTCCATGGCGGTGCCATGGCTACTGGCCGGCGACCCTCACGGTGGCTCCTAGCGCACGGCCACGGGAGGGACCTGATTGCTTTTTTCAAAAGTTTGCGGGGACCCGACTGTGTTTTTGAAAAGTTTGCAAGGACCTGATGGCATTTTTTAAAACTTTGCAGACACTAACATGTGGGACCCACATGTCAATTAACGGTCAAACAAACGGTCAAATAGACGGATCGTTTAGGTGCGGGCCCGACCTGTCATAAACCTGTTTAATTTTTTAATAACGAAGATTTTGAGTTTTTTGAAACAGCCGACCCCTGACTTGGTAGTTATCTGAGAAAAATTAAAAACCGGTAGTTTTTTGAAACCCTAGCCTGTAAAGTAGTAGTTAGTAAAACAATTAAATTTGTGTCATACTTGCATTTCCTGTTTATCCTATGATCTGCATGACTGTGTGCAACTGCAAATGAGCCTCCACCCTAGGCTTATTTCCATATTGATTATTACTCACCTCGATTTTTGTTTGTAAGTGTGTTTATTTATTGGTCAAAGATAATTGTTTCTGGGGAAAAATGAAGGATTAGAAGAAGCTTGTCATGTGCCGAATCTCAATCTTCGATAAACCAAGGGAGAATAATTAGAAAAGATGGCTATCTAATATGACTCATTGCACTTTCTAGGTCAGAATCAAAACCCTTTTATGGCATTGTACATGGGGAGGTGAGCTCTGTTCTAAGGTTAATCCTAACCCGTGTTGTTTGAAATACCTATTTACCCCCTCCGATGCATCTAGATCCTCGGACACCTTGTTAAAAAAAATTACTTCCTTGGAGACAAATACTATTTTGGAGAATAATGAAAATCATTTAGAAACATTTGACATGAACGACATGATTCCAGAGACAATAAAAAACTTAAAAACAAACGATGGATAAGAAGATGATGTCTTGATAAATCATTACTTGTCGAGTTGTCGTGTACTACTAGTCTGTAAAATACAGTCTCTAACAAATTTGGTACAATCTGAGATCCATCTTGAACAACCTGCACAATCCTACAAGTTTAGTTTCGCAAAAGAATAACAATATGAACCATGTGACTTTCTTGGTACGTACAAAACCACAGAGAGAGAGAGAGAGAGAGAGAGAGAGAGAGAGAGAAGGGTCACACATCATTAGATAAGGTCTATCTTCACAAAGTTGCACATACATGTACAGTACAGGAAGCGACATGTATCTCAATACCACATGGTTCTAGATACTGGACGAAAAAGCAGTGGCTAGAAAGATGACGATATATAGATGCATTACTTATCATATACTACTACCTAGAAAAATACAATATCTAATTTCCTCTTGATCCTTCTTGAACAACCTGCACAACACTACAAGTTCAGTTTCACAAAAGCGTAAGTCTAAAGCTTTGGTACAACAACAACTTATGGTTTATTTTGAGAAAAGGTCAGATTCAGTACACGGAACATCACATATCTCAACAACTTCCACCAGTTTTGTGTGCTTTCAAAGTAACTTTGATTGGTATCCAGCTATACAACACACAACCGCACACAGAAATCGTGCCACCTCAATTATAAATAAAGGTGTGGCCTCATCTCATCTATTCATCTCCACCTGCACCAAAACACACTGACAACATGAAGGCCCTCTTCCTCATAGGCCAGAGCGGGGTACTAGACAACAGCAAATCGAGATTGGAGCACACCAAATGCACGCTTGACATACTTCCTGCAAGCCTCCTGACACTTAACAAAGCAGGATTTCTTGCCTCCTGGCACAGGGTTTGAGATAGTCTTCACAAATGTTGACCATCTTGGATAGATGCCATCTGCTAGGTAGTATCCCTTGTTATAGTGGCGCCCATTGACCTTGAAGTTCACCGGAGGAGCATGACTTTAACAAGCTTGGCAAAGACATTCGAGCACTGCAGGACGTTGATGTCATTGTAAGTTCCTGGCATACCAAGAAGGAGTGCCAAATCTAGAGGTCCTTTGTATTGCCTCAAGTACCACACCGCAAGCTCCTTTCGCTCCTTTCTACATTCCCTGCCAGGCAAATGGACAGTTTTTCCATGCCCAATCCATGCATTCGATGCTTCCAAGCATCCCAGGAAATCCTCTTGCTTCTGTGCTAGGATCCGAGCAGTGTCTTCAGCATTGGGTGACCGCAAGTATTCTGGTCCAAACACTTCCACCACTGCCCTGCAGAACTTGTACAAACACTAGGCCATGCGTCCAAATCTCTAGTCGCATGTGCTTCTACCTCGCCGACAAACTGGAAGGGATGGCCTTCCCCAACCCGGGGCTCTACACCCATGTGAAGGGCAAGGAACAGTAGCAATAGGTTGCTGAGGATTTTGAGAAAATCAAATAGTGTTCCGGAGAATTTTGTGAATCAGATGAACAACTAGGAATGAACAAATCCTTAATACGTGTGAGGATTATTCGTAGGCGTATTCATGCAACAAATATCTATAAGGCAGTGGCACAAGGGATTCTTAAAAAGTTGGAGAATAATTTGATGCACCTTGTAATAACAAGAGCAGCTGGGAATGAAAGTAAGAACGACAGGTGTATGTATTTATCCATAGGGATATATCAGTGGTAGGGGATTGCAAAAGCGACGGGCACAGAGTCTCGAGAGAGCATCGGAGAGTATCTTCGAAATCTTCTGGTGTAGCAGGCGATCATCTGGACTGAATGGGCTCTCCGGGAGAAAGTATTTTCGAGAACCTAAAGTTAGATTTTTAGCAAAATTATTTAAACCGAATATAAGAGATATCAGAACCCCAGAGTATAGACGAGGAATAAAAGATCCTAATACCACCCAAATGGCTACATGGACCCGTAAGCCACACAACCATGTTAGCAAAAAGTTATTCAATGACTAGACTCAACTTCGGCCAAGGAGTTGGAAAGGGGGATTCCTACTGGCAGTCGGCTCTGATACCAACTTGTGACTCCCCTGATTTGACCATACACAAATCATACACGCAAATGCGTACGACCAAGATCAGGGACTCATGGGAAGATATCACAACACAACTCTAGACACAAATTAAAGTCATACAAGCTTTATATTACAAGCCAGGGGCCTCGAGGGCTCGAATACATAAGCTCGAAAGCACAATAGTCAGCGGAAGCAACAATATCTGAGTACAGGCATAAGTTAAACAAGTTGTCATAAGATGGCTAGCACAAACAGGGATAAAGATCAAAAAGGCAAGGCCTCCTGCCTGGGAGCCTCCTAACTACTCCTGGTCGTCGACAGCCTCCACGTAGTAGGAGCATCCGTCGGGGATTTAGTAGTCGTCAGCGGTGGCATCTGACTCCTAGGCTCCAACATCTTATCGCAACATCCGGAAAGTAGAGAGAAGGGGGAAATGGGTAGCAAAGCAACCGTGAGTACTCATTCGAAGTACTCGCAAGACTTACATCAGATCTAAACTACATATGCATTGGTATCAAATGAATGGGGTAATATCTGTGGACTAAACTGCAGAATGCCAGAATAAGAGGGGGAGAAGCTAGTCCTATCAAAGACTACGCTTCCAGTAACCTCCGTCTTGCAGTAGTAGAAGAGAATAGCAGATAAGTATCAACACATAGCATAACCCACCTGGCGATCCTCTCCTTGTCACCCTGTGAGAGAGCGAACACCGGGTTGTATCTGGAAGTTATCTGGGTGTGCTTTATTAAGTCGGCTGGTACATCATCCTCCCATAGGAGGCCTTTGCATCTGGGCGTGTGTGGCCTATTTTCATTTCACCCCAGTTATTCCATCGAACTAAGTAGCAACATGTAAGGAGTCAGTTTTCGAGATACCACACAACACCAATTTTCCAACGAAACTAATGAGAAATAAAAAGGTGCATCACTCATTTTCGACCAAATTAATTATGTCTTGGTATTAGAGTTTTCTCTCTCTGTCCTGATAAACCCAAACGGAGGGAGTAAAGATTATCTATCTCAACATCACATGATTCTAAATACAAAACAGAAAACCACGGCTAGAAGAGGACGACATCTAGAGGCATTGCTTTTCATGTACTAATACCTTGTTAAACACATTCTCTAACAAATTGGTTTGGATCCTTCTTCAACAATTTCCACACACTACAAGGCCAGTTCACAAAAGCTTAAAGCGTGAGCATTGGTACAAAACTAGTTGTGGTCTATCTTGAGAAAAGGGAACACTTAGTACACGAAACGTCACCTGTCTCAACAACTTGCACCATTTCTGTTGGCTCGCAAAGTAACTTTATTTAGTATACCAACTTAATTTGTGAGCATTAGCCAAAGCAACACACAATGGTAGGCAAAAACCATGTCACTAAGCAATAAATAAAGGGGAGCCTCAACCCATCTATTCATCTCCACCACCACCAAAACAACATTGAAAACATGAAGACCTTATTCCTCCTAGCTCTCCTTGCTCTTGTAGCGAGCACAACCTTCGCGCAATACTCAGAAGTTGGCGGCTGGTACAATGAAGTTGGCGGAGGAGGTGGTTCTCAACAATGTCCGCAGGAGCGGCCGAAGCTAAGCTCTTGCAAGGATTACGTGATGGAGCGATGTTTCACAATGAAGGATTTTCCAGTCACCTGGCCCACAAAATGGTGGAAGGGCGGCTGTGAGCATGAGGTTCGGGAGAAGTGCTGCAAGCAGCTGAGCCAGATAGCACCACAATGTCGCTGTGATTCTATCCGGCGAGTGATCCAAGGCAGGCTCGGTGGCTTCTTGGGCATTTGGCGAGGTGAGGTATTCAAACAACTTCAGAGGGCCCAGAGCCTCCCCTCAAAGTGCAACATGGGCGCCGACTGCAAGTTCCCTAGTGGCTATTACTGGTGATGATATAGCCTCTATTCGTGCCAATAAAATGTCACATATCATA'\n",
       "\\end{enumerate}\n"
      ],
      "text/markdown": [
       "1. **$`AH013429.2 Triticum aestivum cultivar Xinkehan 9 HMW glutenin subunit gene, complete cds`** = 'GCCAGGGAAAGACAATGGACATGCAGAGAGGCGGGGGCGGGGAAGAAACACATGGAGATCATAGAAGAACATAAGAGGTTAAACATAGGAGGAGGATATAATGGACAATTAAATCCACATTACCTGAACTCATTTGGGAAGTGGAAAAATCCCCTATTCTGGTGTAAATCAAACTAATTGACGCGAGTTTTCTCTGAAGATTCTATGTTAATTTTAGACATGAATGACCAAAGGTTTCAGTTAGTTGAGTTTTGTCATCGAAAGGTGTTTACATAAGTCCAAAAATTCTACCAGCTTTTGGTACGGCGCGTCATAGAACAGATAAATGTTGTGAGTCATTGGATAGATATTATGAGTCATAGCATGGGTTTGTGTAGCCTGGAAATCTAACTATGACAAGAAACAAAACATAAATGGGCTTTTGAAAGATGATTTATCAACTTACCTTATCCATGCAAGCTACCTTCCACTAGTCGACATGCTTAGAAGCTTTTAGTGACCGCAGTATTTGCAAAAGCAATGGCTAACAGACACCCAAACCCCAAGAAGCATAACCACTTCTCTTAGATAAAAATAGCAGATCGATATACAAACGTCTACACTTCTGCAAACAATACCCAGAAGCCAGAATTAGGATTGAACCGATTACGTGGCTTTAGCAGACCGTCCAAAAATCTGTTTTGCAAAGCTCCAATTGCTCCTTGCTTATCCAGCTTCTTTTGTGTTGGCAAATTGTTCTTTTCCAACCGACTTTATTCTTTTCACATTTCTTCTTAGGCTGAACTAACCTTCGTCGTGCACACAACCATTGTCCTGAACCTTCACCACGTCCCTATAAAAGCCCAACCAATCTCCACAATTTCATCATCACCCACAACACCGAGCACCACAAAATAGAGATCAATTCACTGACAGTCCANNNNNNNNNNNNNNNNNNNNNNNNNNNNNNNNNNNNNNNNNNNNNNNNNNNNNNNNNNNNNNNNNNNNNNNNNNNNNNNNNNNNNNNNNNNNNNNNNNNNATGGCTAAGCGGCTGGTCCTCTTTGCGGCAGTAGTCATCGCCCTCGTGGCTCTCACCACCGCTGAAGGTGAGGCCTCTAGGCAACTACAGTGTGAGCGCGAGCTCCAGGAGAGCTCGCTTGAGGCATGCCGGCAGGTCGTGGACCAACAGTTGGCCGGTCGGCTGCCATGGAGCACGGGGCTCCAGATGCGATGCTGCCAGCAGCTCCGAGATGTTAGCGCCAAGTGCCGCTCTGTCGCCGTCAGCCAAGTCGCAAGACAATATGAGCAAACTGTGGTGCCGCCCAAGGGCGGATCCTTCTACCCTGGTGAGACCACGCCACTGCAGCAACTCCAACAAGGAATATTTTGGGGAACATCTTCACAAACAGTACAAGGGTATTACCCAAGCGTAACTTCTCCTCGGCAGGGGTCATATTATCCAGGCCAAGCTTCTCCACAACAGCCAGGACAAGGGCAACAGCCTGGCAAATGGCAAGAACCAGGACAAGGGCAACAATGGTACTACCCAACTTCTCTGCAGCAGCCAGGACAAGGGCAACAGATAGGAAAAGGGAAACAAGGGTACTACCCAACTTCTCTGCAGCAACCAGGACAAGGGCAACAAATAGGACAAGGGCAACAAGGGTACTACCCAACTTCTCCGCAGCACACAGGACAAAGGCAACAACCAGTACAAGGGCAACAAATAGGACAAGGGCAACAACCAGAACAAGGGCAACAACCAGGACAATGGCAACAAGGGTACTATCCAACTTCTCCACAGCAGCTAGGACAAGGGCAACAACCAGGACAATGGCAACAATCAGGACAAGGGCAACAAGGGCACTACCCAACTTCTCTACAACAGCCAGGACAAGGGCAACAAGGGCATTACCTAGCTTCTCAGCAGCAGCCAGCACAAGGGCAACAAGGGCACTACCCAGCTTCTCAGCAGCAGCCAGGACAAGGGCAACAAGGGCACTACCCAGCTTCTCAGCAGCAGCCAGGACAAGGGCAACAAGGGCACTACCCAGCTTCTCAGCAAGAGCCAGGACAAGGGCAACAAGGGCAAATCCCAGCTTCTCAGCAGCAGCCAGGACAAGGGCAACAAGGGCACTACCCAGCTTCTCTGCAGCAACCAGGACAACAAGGGCATTACCCAACTTCTCTACAGCAGCTAGGACAAGGGCAACAAATAGGACAGCCAGGACAAAAGCAACAACCAGGACAAGGGCAACAAACAGGACAAGGGCAACAGCCAGAACAAGAGCAACAACCAGGACAAGGGCAACAAGGATACTATCCAACTTCTCTGCAGCAGCCAGGACAAGGACAACAGCAAGGACAAGGGCAACAAGGGTACTACCCAACTTCTCTCCAGCAGCCAGGACAAGGGCAACAAGGGCACTACCCAGCTTCTCTGCAGCAGCCAGGACAAGGACAGCCAGGACAAAGGCAACAACCAGGACAAGGGCAACATCCAGAACAAGGTCAACAACCAGGACAAGGGCAACAAGGGTACTATCCAACTTCTCCACAGCAGCCAGGACAAGGGCAACAACTAGGACAAGGGCAACAAGGGTACTACCCAACTTCTCCGCAGCAGCCAGGACAAGGGCAACAACCAGGACAAGGGCAACAAGGGCACTGCCCAATGTCCCCGCAGCAGACAGGACAAGCGCAACAACTAGGACAAGGCCAACAAATAGGACAAGTGCAACAACCAGGACAAGGGCAACAAGGGTACTACCCAACTTCTCTGCAGCAGCCTGGACAAGGGCAACAGTCAGGACAAGGGCAACAGTCAGGACAAGGACACCAACCAGGACAAGGGCAGCAATCAGGACAAGAGAAACAAGGCTACGACAGCCCATACCATGTTAGCGCAGAGCAGCAAGCGGCCAGCCCAATGGTGGCAAAGGCGCAGCAGCCCGCGACACAGCTGCCGACAGTGTGTCGGATGGAGGGGGGCGACGCATTGTCGGCTAGCCAGTGATAG'\n",
       "2. **$`DQ534491.1 Triticum aestivum MADS3 mRNA, complete cds`** = 'AAGAAGAGAGAGGTAGAGAGAGGCCGGGGAAGAAGAGAGCCAGCGAGCGGCAAGGCGGCGGAAGGATGGGGCGCGGCAAGGTGGAGCTGAAGCGGATCGACAACAAGATCAGCCGGCAGGTGACGTTCGCCAAGCGCCGCAACGGGCTGCTCAAGAAGGCGTACGAGCTGTCGGTGCTCTGCGACGCCGAGGTCGCGCTCATCATCTTCTCCACCCGCGGCCGCCTCTTCGAGTTCTCCACATCCTCATGCATGTACAAGACACTAGAGCGGTACCGCAGCTGCAACTTCAACTCCGAGGCAACTGCAACTCCGGAGACTGAACAAAGCAATTACCAGGAGTACTTGAAGCTGAAGACAAGAGTTGAGTTCCTACAGACAACTCAGAGAAATCTTCTTGGCGAGGACTTGGGCCCACTTAACATGAAGGAACTTGAGCAGCTTGAGAACCAAATTGAGATATCTCTCAAACATATCAGGGCGACAAAGAGCCAACAGTCACTTGATCAGCTCTTTGAGCTCAAGCGCAAGGAACAACAACTGCAAGATGTTAATAAAGACTTACGGAAGAAGATACAAGAAACTAGTGTGGAAAATGTGCTGCAAATGTCTTGCCAGGACGTTGGACCTAGTGGGTCTAGTGGCCATGCTAATCAAGCTAATCAACAGGAGTATTTTCATCATGATTGTGACCCTTCCCTGCATATAGGGTATCAACGAAATTTCCTGGATCAGTTGAACAAAGAATGAATGGTTGTATGAGCTGAGCCTGAGCG'\n",
       "3. **$`AB244637.1 Triticum aestivum TaGlb2a mRNA for endo-beta-1,3-glucanase, complete cds`** = 'TCCTAGCATAGCAAGCTGGTCGAGCTTCCGAAGATGGCGCGGCAGCGTACGTGCTCTGCCTCCGCGCTCGCGCTCGCCGTGGCGTTGGTCGTCGGAATCCTGGCGTCCATCCCTGTCGAGGTGGAATCCATCGGCGTGTGCAACGGGATGCAAGGCGACAGCCAGTCCCTGCCATCGCGGGCCGACGTGGTGCAGTTCTACGGGACCAAGGGCATCAGCGCCATGCGCATCTACGCCCCGGACCCCGAGACGCTCCAGGCCCTCGGCGACACCGGCATCGACCTCATCATGGACGTGGGCAACGGCAACCTTTCCGCCCTCGCCTCCGACGCCGGCTTGGCGGCGTCCTGGGTCCAAGAAAACGTGCTGGCCTACCCGCGCGTCAGCATCAAGTATATCGCCGCCGGCAACGAGGTGGAAGGCGGCGACACGCAGAACATCGTCCGGGCCATGAAGAACCTCAACGCCGCGCTCTCCAAGGCCAGCCGCCCTGACGTGAAGGTTTCCACGGCGGTCAAGATGAGCGTGCTCGCGTCCTCCTCGCCTCCCTCCAGCGGCGTGTTCAAAGACGCGTATATGTCGGAGGTGACCCAGCTGCTCAAGGACACCAGCGCGCCGCTGCTCGCCAACGTGTACCCCTACATCGCCAAAAGGGACACCCCGACCATCGACCTCAGCTTCGCGCTCTTCCAGCCGAACACCAACCCGGTGAACGACAACGGCAACGGCCTCACCTACACCAACCTCTTCGACGCCATGGTCGACGCTATGTACACGGCCATGGAGCAGGCGGGTGCGTCGGACGTGCCCATCGTGGTCTCGGAGAGCGGGTGGCCATCCGCCGGCGACGACCTGGCAACCCCCACCAACGCGCAGGCGTACAACCAGAACCTGATCGACCACGTCGGCAAAGGCACGCCCAAGAGGGCCGGGCCCCTGGAGACGTACATCTTCGCCATGTTCAACGAGAACCAAAAGGGAGGGCTCGAGACTGAGAGGAACTTCGGGTTGTTCAACGGCCCCGATAAGACGCCGGTGTACCCTATAAGGTTTACCAATTAGTTAAGACGACCGGACTATATCTTCATGTTTACAGGAGTACATACGTACTGTAGCTCTTACTACGGTCGATCTCAATAAGCTGCGGAATAATTCGTGCAAGGACGTACAAGTATTTTACTAGATAATGTCATATGAATAAGAGCCATAAA'\n",
       "4. **$`AB244641.1 Triticum aestivum TaGlb2e mRNA for endo-beta-1,3-glucanase, complete cds`** = 'GAATTCGGCACGAGGCGGGGACGTACGTGCGTGCATCGACTGTTTCTTCCTCGCACAACAAGCTGGTCGATCGATCGAGCTTCTGAAGATGGCGCGGCAACGTACGGTCGCCATGGCGCTGGTCGTCGGAGTGATCTTGGCGTCCATCACTATCGATCAGGTGCAATCCATCGGCGTGTGCAACGGCAAGGTCGGCGACAACCTGCCATCGCGGGCCGAGGTGGTGCGGTTCTACAAGTCCCTGGGAATCGGCGCCATGCGCATCTACGAGCCGGAACCCGAGACGCTCCTGGCTCTCGACGGCACCGAGATCGAACTCATCATGGACGTGGGTGGCGGCTTCGCCGCCATCGCCTCCGACCCTGCCGCCGCGGCCGGCTGGATCCGTGACAACGTGCTTGCCTTCCCGGGCGTGCGCATCAAGTACATTGCGGCCGGCAACGAGATCGAGGGCAGCGACACGGACAACATCGTCCCGGCCATCAAGAACCTCAACGCCGCGCTCGCTGCGGCCAGCCGCACTGACGTCAAGGTGTCCACGGCGGTCAAGATGAGCGTGCTGGGGTCCTCCTCGCCGCCCTCCGAGGGCGCGTTCAAGGACCCATACATGACGGAGGTGGCCAAGATGCTCAAGGCCACCGGGGCCCCGCTCCTCGCCAACGTGTACCCCTACTTCGCCAAAAGGGACACCCCGGACATCGACCTCGGCTTCGCGCTCTTCAAGCAAAGCACCAGCACGGTGAGCGACAGCGGTCTCACCTACACGAACCTCTTCGACGCCATGGTCGACGCGGTTTACTCGGCCTTGGAGAAGGCGGGTGCGCCGGACGTGCCCATTGTGGTCTCGGAGAGCGGATGGCCGTCGGCCGGCGACGACCTGGCAACCGTCGCTAACGCGCAGGCGTACAACCAGGGGCTCATCGACCACGTCGGCAAAGGCACGCCCAAGAGGCCGGTGCCCCTGGAGACGTACATCTTCGCCATGTTCAACGAGAACCAGAAAGGAGGGGCCGTGACAGAGAAGAGCTTTGGGCTGTTCAACGGCCCCGACAAGACGCCGGTGTACCCTATAAAGTTCAACAATTAGCTAAGACAGCCGGACTACATATTCATGCATACAATACATATATAGCTGCTGCTTCGATCGATC'\n",
       "5. **$`AB244642.1 Triticum aestivum TaGlb2f mRNA for endo-beta-1,3-glucanase, complete cds`** = 'CACAGTAGACGAGTACGCCCGTGCATAACAAGCTGACCGAGCTTCTGAAGATGGCGCGGCAGCGTACGTGCTCTGCCTCCGCGCTCGCGCTCGCCGTGGCGTTGGTCGTCGGAGTCTTGGCGTCCATCCCTATCGAGGTGGAATCCATCGGGGTGTGCAACGGGATGATAGGCGACAGCCAGTCCCTGCCATCTCCGGCCGACGTGGTGCAGTTGTACAGGACCAAGGGCATCAGCGCCATGCGCATCTACGCCCCGGACCCGGAGACGCTCCAGGCCCTCGGCGACACCGGCATCGACCTCATCATGGACGTCGGCAACGGCAACCTTTCCGCCCTCGCCTCCGACGCCGGTTTGGCCGCGTCCTGGGTCCAAGAAAACGTGCTGGCCTACCCGCACGTCAGCATCAAGTATATCGCGGCCGGCAACGAGGTGGAAGGCGGCGACACGCAGAACATCGTCCCGGCCATGACGAACCTCAACGCCGCGCTCTCCAAGGCCAGCCGCCCTGACGTGAAGGTGTCCACGGCGGTCAAGATGAGCGTGCTCGCGTCCTCCTCGCCTCCCTCCAGCGGCGTGTTCAAAGACGCGTACATGACGGAGGTGGCCCAGCTGCTCAAGGACACCAGCGCGCCGCTGCTCGCCAACGTGTACCCCTACATCGCCAAAAGGGACACCCCGACCATCGACCTCAGCTTCGCGCTCTTCCAGCCGAGCACCAACCAGGTGAACGACAACGGCAACGGCCTCACCTACACCAACCTCTTCGATGCCATGGTCGACGCCATGTACACGGCCATGGAGCAGGCGGGTGCGTCGGACGTGCCCATCGTGGTCTCGGAGAGCGGGTGGCCGTCGGCCGGCGACGACCTTGCAACCCCCACTAACGCGCAGGCGTACAACCAGAACCTCATCGACCACGTCGGCAAAGGCACGCCCAAGAGGGCCGGGCCCCTGGAGACGTACATCTTCGCCATGTTCAACGAGAACCGAAAGGACGGGCCCGACACAGAGAGGAACTTCGGGCTGTTCAACGGCCCCGACAAGACGCCGGTGTACCCTATAAGGTTCACCAATTAGTTAAGAAGACGTCCGGACTATATTTTCATGTATACATGAGTACATACATATCTCTTATTACGGTAGATCTCAATAAGCTGCACAATAATACGTACAAGCACG'\n",
       "6. **$`AB262660.1 Triticum aestivum pinb gene for puroindoline b protein, complete cds`** = 'TGGTTATTTAGTAGAGTAAATAGCATAAAACTACTACTTTACAGGTCAGGGTTTCAAAAAACTACCCATTTTTATTTTTTCTCAGATAACTACCAAATGGGTGGTTGGCTGTTTAAAAAAACCCAAAACATCTAGTGTTTTACAATTGATCGTGATTATGACAATTGGGACCCGCATATAAGAAAACCGATTGTTTGGCCGTCTATTTGACCGTTAACTGACATGTGGGGTCCACATGCCAGCTCTCTTCCTTGTTCTCTTCACTCCTCCTGCCTCTCTTCTTCCCTAGGAGGCCGATGGAGCGCCGGCCGCCGCTCCTTCCACCAGCGCCGGTCGCCCCTCCTTCCACCTCGTCGTCGTTAGCCGGCCGCTCCTCCGCCTCCACTACTGCCCCCTCTCCCTAGAACCTTTTCTTCTCACCGTGGCCTCTTCTCCCCCAACGCGCCGTCGGCCTCGACCTGCAGCCTTGGCGCCTGACGTGCCGCCCTCCATGGAGCCATGGCGCCACCGGCTAGAGGCGCTGCCCTGCCAGCATGGACGGTCGTGATGGAAGGGAGCTCCACGGCTGCGCCATGGCTGCTGGTCGCGACGGAAGGGAGCTCCACTGTGGCGCCATGGCTGCTGGTGGATGCTGGTCGTGACGGAAGGGAGCTCCACGCGCCGCCCCCGACGGAACGGAGCTCCACGGCGGCACCATGGCTGCTGGTCGCGACGGAAGGGAGCTTCACACGCCGGCCACGACAGAAGGGAGCTCCATGGCGGTGCCATGGCTACTGGCCGGCGACCCTCACGGTGGCTCCTAGCGCACGGCCACGGGAGGGACCTGATTGCTTTTTTCAAAAGTTTGCGGGGACCCGACTGTGTTTTTGAAAAGTTTGCAAGGACCTGATGGCATTTTTTAAAACTTTGCAGACACTAACATGTGGGACCCACATGTCAATTAACGGTCAAACAAACGGTCAAATAGACGGATCGTTTAGGTGCGGGCCCGACCTGTCATAAACCTGTTTAATTTTTTAATAACGAAGATTTTGAGTTTTTTGAAACAGCCGACCCCTGACTTGGTAGTTATCTGAGAAAAATTAAAAACCGGTAGTTTTTTGAAACCCTAGCCTGTAAAGTAGTAGTTAGTAAAACAATTAAATTTGTGTCATACTTGCATTTCCTGTTTATCCTATGATCTGCATGACTGTGTGCAACTGCAAATGAGCCTCCACCCTAGGCTTATTTCCATATTGATTATTACTCACCTCGATTTTTGTTTGTAAGTGTGTTTATTTATTGGTCAAAGATAATTGTTTCTGGGGAAAAATGAAGGATTAGAAGAAGCTTGTCATGTGCCGAATCTCAATCTTCGATAAACCAAGGGAGAATAATTAGAAAAGATGGCTATCTAATATGACTCATTGCACTTTCTAGGTCAGAATCAAAACCCTTTTATGGCATTGTACATGGGGAGGTGAGCTCTGTTCTAAGGTTAATCCTAACCCGTGTTGTTTGAAATACCTATTTACCCCCTCCGATGCATCTAGATCCTCGGACACCTTGTTAAAAAAAATTACTTCCTTGGAGACAAATACTATTTTGGAGAATAATGAAAATCATTTAGAAACATTTGACATGAACGACATGATTCCAGAGACAATAAAAAACTTAAAAACAAACGATGGATAAGAAGATGATGTCTTGATAAATCATTACTTGTCGAGTTGTCGTGTACTACTAGTCTGTAAAATACAGTCTCTAACAAATTTGGTACAATCTGAGATCCATCTTGAACAACCTGCACAATCCTACAAGTTTAGTTTCGCAAAAGAATAACAATATGAACCATGTGACTTTCTTGGTACGTACAAAACCACAGAGAGAGAGAGAGAGAGAGAGAGAGAGAGAGAGAGAAGGGTCACACATCATTAGATAAGGTCTATCTTCACAAAGTTGCACATACATGTACAGTACAGGAAGCGACATGTATCTCAATACCACATGGTTCTAGATACTGGACGAAAAAGCAGTGGCTAGAAAGATGACGATATATAGATGCATTACTTATCATATACTACTACCTAGAAAAATACAATATCTAATTTCCTCTTGATCCTTCTTGAACAACCTGCACAACACTACAAGTTCAGTTTCACAAAAGCGTAAGTCTAAAGCTTTGGTACAACAACAACTTATGGTTTATTTTGAGAAAAGGTCAGATTCAGTACACGGAACATCACATATCTCAACAACTTCCACCAGTTTTGTGTGCTTTCAAAGTAACTTTGATTGGTATCCAGCTATACAACACACAACCGCACACAGAAATCGTGCCACCTCAATTATAAATAAAGGTGTGGCCTCATCTCATCTATTCATCTCCACCTGCACCAAAACACACTGACAACATGAAGGCCCTCTTCCTCATAGGCCAGAGCGGGGTACTAGACAACAGCAAATCGAGATTGGAGCACACCAAATGCACGCTTGACATACTTCCTGCAAGCCTCCTGACACTTAACAAAGCAGGATTTCTTGCCTCCTGGCACAGGGTTTGAGATAGTCTTCACAAATGTTGACCATCTTGGATAGATGCCATCTGCTAGGTAGTATCCCTTGTTATAGTGGCGCCCATTGACCTTGAAGTTCACCGGAGGAGCATGACTTTAACAAGCTTGGCAAAGACATTCGAGCACTGCAGGACGTTGATGTCATTGTAAGTTCCTGGCATACCAAGAAGGAGTGCCAAATCTAGAGGTCCTTTGTATTGCCTCAAGTACCACACCGCAAGCTCCTTTCGCTCCTTTCTACATTCCCTGCCAGGCAAATGGACAGTTTTTCCATGCCCAATCCATGCATTCGATGCTTCCAAGCATCCCAGGAAATCCTCTTGCTTCTGTGCTAGGATCCGAGCAGTGTCTTCAGCATTGGGTGACCGCAAGTATTCTGGTCCAAACACTTCCACCACTGCCCTGCAGAACTTGTACAAACACTAGGCCATGCGTCCAAATCTCTAGTCGCATGTGCTTCTACCTCGCCGACAAACTGGAAGGGATGGCCTTCCCCAACCCGGGGCTCTACACCCATGTGAAGGGCAAGGAACAGTAGCAATAGGTTGCTGAGGATTTTGAGAAAATCAAATAGTGTTCCGGAGAATTTTGTGAATCAGATGAACAACTAGGAATGAACAAATCCTTAATACGTGTGAGGATTATTCGTAGGCGTATTCATGCAACAAATATCTATAAGGCAGTGGCACAAGGGATTCTTAAAAAGTTGGAGAATAATTTGATGCACCTTGTAATAACAAGAGCAGCTGGGAATGAAAGTAAGAACGACAGGTGTATGTATTTATCCATAGGGATATATCAGTGGTAGGGGATTGCAAAAGCGACGGGCACAGAGTCTCGAGAGAGCATCGGAGAGTATCTTCGAAATCTTCTGGTGTAGCAGGCGATCATCTGGACTGAATGGGCTCTCCGGGAGAAAGTATTTTCGAGAACCTAAAGTTAGATTTTTAGCAAAATTATTTAAACCGAATATAAGAGATATCAGAACCCCAGAGTATAGACGAGGAATAAAAGATCCTAATACCACCCAAATGGCTACATGGACCCGTAAGCCACACAACCATGTTAGCAAAAAGTTATTCAATGACTAGACTCAACTTCGGCCAAGGAGTTGGAAAGGGGGATTCCTACTGGCAGTCGGCTCTGATACCAACTTGTGACTCCCCTGATTTGACCATACACAAATCATACACGCAAATGCGTACGACCAAGATCAGGGACTCATGGGAAGATATCACAACACAACTCTAGACACAAATTAAAGTCATACAAGCTTTATATTACAAGCCAGGGGCCTCGAGGGCTCGAATACATAAGCTCGAAAGCACAATAGTCAGCGGAAGCAACAATATCTGAGTACAGGCATAAGTTAAACAAGTTGTCATAAGATGGCTAGCACAAACAGGGATAAAGATCAAAAAGGCAAGGCCTCCTGCCTGGGAGCCTCCTAACTACTCCTGGTCGTCGACAGCCTCCACGTAGTAGGAGCATCCGTCGGGGATTTAGTAGTCGTCAGCGGTGGCATCTGACTCCTAGGCTCCAACATCTTATCGCAACATCCGGAAAGTAGAGAGAAGGGGGAAATGGGTAGCAAAGCAACCGTGAGTACTCATTCGAAGTACTCGCAAGACTTACATCAGATCTAAACTACATATGCATTGGTATCAAATGAATGGGGTAATATCTGTGGACTAAACTGCAGAATGCCAGAATAAGAGGGGGAGAAGCTAGTCCTATCAAAGACTACGCTTCCAGTAACCTCCGTCTTGCAGTAGTAGAAGAGAATAGCAGATAAGTATCAACACATAGCATAACCCACCTGGCGATCCTCTCCTTGTCACCCTGTGAGAGAGCGAACACCGGGTTGTATCTGGAAGTTATCTGGGTGTGCTTTATTAAGTCGGCTGGTACATCATCCTCCCATAGGAGGCCTTTGCATCTGGGCGTGTGTGGCCTATTTTCATTTCACCCCAGTTATTCCATCGAACTAAGTAGCAACATGTAAGGAGTCAGTTTTCGAGATACCACACAACACCAATTTTCCAACGAAACTAATGAGAAATAAAAAGGTGCATCACTCATTTTCGACCAAATTAATTATGTCTTGGTATTAGAGTTTTCTCTCTCTGTCCTGATAAACCCAAACGGAGGGAGTAAAGATTATCTATCTCAACATCACATGATTCTAAATACAAAACAGAAAACCACGGCTAGAAGAGGACGACATCTAGAGGCATTGCTTTTCATGTACTAATACCTTGTTAAACACATTCTCTAACAAATTGGTTTGGATCCTTCTTCAACAATTTCCACACACTACAAGGCCAGTTCACAAAAGCTTAAAGCGTGAGCATTGGTACAAAACTAGTTGTGGTCTATCTTGAGAAAAGGGAACACTTAGTACACGAAACGTCACCTGTCTCAACAACTTGCACCATTTCTGTTGGCTCGCAAAGTAACTTTATTTAGTATACCAACTTAATTTGTGAGCATTAGCCAAAGCAACACACAATGGTAGGCAAAAACCATGTCACTAAGCAATAAATAAAGGGGAGCCTCAACCCATCTATTCATCTCCACCACCACCAAAACAACATTGAAAACATGAAGACCTTATTCCTCCTAGCTCTCCTTGCTCTTGTAGCGAGCACAACCTTCGCGCAATACTCAGAAGTTGGCGGCTGGTACAATGAAGTTGGCGGAGGAGGTGGTTCTCAACAATGTCCGCAGGAGCGGCCGAAGCTAAGCTCTTGCAAGGATTACGTGATGGAGCGATGTTTCACAATGAAGGATTTTCCAGTCACCTGGCCCACAAAATGGTGGAAGGGCGGCTGTGAGCATGAGGTTCGGGAGAAGTGCTGCAAGCAGCTGAGCCAGATAGCACCACAATGTCGCTGTGATTCTATCCGGCGAGTGATCCAAGGCAGGCTCGGTGGCTTCTTGGGCATTTGGCGAGGTGAGGTATTCAAACAACTTCAGAGGGCCCAGAGCCTCCCCTCAAAGTGCAACATGGGCGCCGACTGCAAGTTCCCTAGTGGCTATTACTGGTGATGATATAGCCTCTATTCGTGCCAATAAAATGTCACATATCATA'\n",
       "\n",
       "\n"
      ],
      "text/plain": [
       "[[1]]\n",
       "[[1]]$`AH013429.2 Triticum aestivum cultivar Xinkehan 9 HMW glutenin subunit gene, complete cds`\n",
       "[1] \"GCCAGGGAAAGACAATGGACATGCAGAGAGGCGGGGGCGGGGAAGAAACACATGGAGATCATAGAAGAACATAAGAGGTTAAACATAGGAGGAGGATATAATGGACAATTAAATCCACATTACCTGAACTCATTTGGGAAGTGGAAAAATCCCCTATTCTGGTGTAAATCAAACTAATTGACGCGAGTTTTCTCTGAAGATTCTATGTTAATTTTAGACATGAATGACCAAAGGTTTCAGTTAGTTGAGTTTTGTCATCGAAAGGTGTTTACATAAGTCCAAAAATTCTACCAGCTTTTGGTACGGCGCGTCATAGAACAGATAAATGTTGTGAGTCATTGGATAGATATTATGAGTCATAGCATGGGTTTGTGTAGCCTGGAAATCTAACTATGACAAGAAACAAAACATAAATGGGCTTTTGAAAGATGATTTATCAACTTACCTTATCCATGCAAGCTACCTTCCACTAGTCGACATGCTTAGAAGCTTTTAGTGACCGCAGTATTTGCAAAAGCAATGGCTAACAGACACCCAAACCCCAAGAAGCATAACCACTTCTCTTAGATAAAAATAGCAGATCGATATACAAACGTCTACACTTCTGCAAACAATACCCAGAAGCCAGAATTAGGATTGAACCGATTACGTGGCTTTAGCAGACCGTCCAAAAATCTGTTTTGCAAAGCTCCAATTGCTCCTTGCTTATCCAGCTTCTTTTGTGTTGGCAAATTGTTCTTTTCCAACCGACTTTATTCTTTTCACATTTCTTCTTAGGCTGAACTAACCTTCGTCGTGCACACAACCATTGTCCTGAACCTTCACCACGTCCCTATAAAAGCCCAACCAATCTCCACAATTTCATCATCACCCACAACACCGAGCACCACAAAATAGAGATCAATTCACTGACAGTCCANNNNNNNNNNNNNNNNNNNNNNNNNNNNNNNNNNNNNNNNNNNNNNNNNNNNNNNNNNNNNNNNNNNNNNNNNNNNNNNNNNNNNNNNNNNNNNNNNNNNATGGCTAAGCGGCTGGTCCTCTTTGCGGCAGTAGTCATCGCCCTCGTGGCTCTCACCACCGCTGAAGGTGAGGCCTCTAGGCAACTACAGTGTGAGCGCGAGCTCCAGGAGAGCTCGCTTGAGGCATGCCGGCAGGTCGTGGACCAACAGTTGGCCGGTCGGCTGCCATGGAGCACGGGGCTCCAGATGCGATGCTGCCAGCAGCTCCGAGATGTTAGCGCCAAGTGCCGCTCTGTCGCCGTCAGCCAAGTCGCAAGACAATATGAGCAAACTGTGGTGCCGCCCAAGGGCGGATCCTTCTACCCTGGTGAGACCACGCCACTGCAGCAACTCCAACAAGGAATATTTTGGGGAACATCTTCACAAACAGTACAAGGGTATTACCCAAGCGTAACTTCTCCTCGGCAGGGGTCATATTATCCAGGCCAAGCTTCTCCACAACAGCCAGGACAAGGGCAACAGCCTGGCAAATGGCAAGAACCAGGACAAGGGCAACAATGGTACTACCCAACTTCTCTGCAGCAGCCAGGACAAGGGCAACAGATAGGAAAAGGGAAACAAGGGTACTACCCAACTTCTCTGCAGCAACCAGGACAAGGGCAACAAATAGGACAAGGGCAACAAGGGTACTACCCAACTTCTCCGCAGCACACAGGACAAAGGCAACAACCAGTACAAGGGCAACAAATAGGACAAGGGCAACAACCAGAACAAGGGCAACAACCAGGACAATGGCAACAAGGGTACTATCCAACTTCTCCACAGCAGCTAGGACAAGGGCAACAACCAGGACAATGGCAACAATCAGGACAAGGGCAACAAGGGCACTACCCAACTTCTCTACAACAGCCAGGACAAGGGCAACAAGGGCATTACCTAGCTTCTCAGCAGCAGCCAGCACAAGGGCAACAAGGGCACTACCCAGCTTCTCAGCAGCAGCCAGGACAAGGGCAACAAGGGCACTACCCAGCTTCTCAGCAGCAGCCAGGACAAGGGCAACAAGGGCACTACCCAGCTTCTCAGCAAGAGCCAGGACAAGGGCAACAAGGGCAAATCCCAGCTTCTCAGCAGCAGCCAGGACAAGGGCAACAAGGGCACTACCCAGCTTCTCTGCAGCAACCAGGACAACAAGGGCATTACCCAACTTCTCTACAGCAGCTAGGACAAGGGCAACAAATAGGACAGCCAGGACAAAAGCAACAACCAGGACAAGGGCAACAAACAGGACAAGGGCAACAGCCAGAACAAGAGCAACAACCAGGACAAGGGCAACAAGGATACTATCCAACTTCTCTGCAGCAGCCAGGACAAGGACAACAGCAAGGACAAGGGCAACAAGGGTACTACCCAACTTCTCTCCAGCAGCCAGGACAAGGGCAACAAGGGCACTACCCAGCTTCTCTGCAGCAGCCAGGACAAGGACAGCCAGGACAAAGGCAACAACCAGGACAAGGGCAACATCCAGAACAAGGTCAACAACCAGGACAAGGGCAACAAGGGTACTATCCAACTTCTCCACAGCAGCCAGGACAAGGGCAACAACTAGGACAAGGGCAACAAGGGTACTACCCAACTTCTCCGCAGCAGCCAGGACAAGGGCAACAACCAGGACAAGGGCAACAAGGGCACTGCCCAATGTCCCCGCAGCAGACAGGACAAGCGCAACAACTAGGACAAGGCCAACAAATAGGACAAGTGCAACAACCAGGACAAGGGCAACAAGGGTACTACCCAACTTCTCTGCAGCAGCCTGGACAAGGGCAACAGTCAGGACAAGGGCAACAGTCAGGACAAGGACACCAACCAGGACAAGGGCAGCAATCAGGACAAGAGAAACAAGGCTACGACAGCCCATACCATGTTAGCGCAGAGCAGCAAGCGGCCAGCCCAATGGTGGCAAAGGCGCAGCAGCCCGCGACACAGCTGCCGACAGTGTGTCGGATGGAGGGGGGCGACGCATTGTCGGCTAGCCAGTGATAG\"\n",
       "\n",
       "\n",
       "[[2]]\n",
       "[[2]]$`DQ534491.1 Triticum aestivum MADS3 mRNA, complete cds`\n",
       "[1] \"AAGAAGAGAGAGGTAGAGAGAGGCCGGGGAAGAAGAGAGCCAGCGAGCGGCAAGGCGGCGGAAGGATGGGGCGCGGCAAGGTGGAGCTGAAGCGGATCGACAACAAGATCAGCCGGCAGGTGACGTTCGCCAAGCGCCGCAACGGGCTGCTCAAGAAGGCGTACGAGCTGTCGGTGCTCTGCGACGCCGAGGTCGCGCTCATCATCTTCTCCACCCGCGGCCGCCTCTTCGAGTTCTCCACATCCTCATGCATGTACAAGACACTAGAGCGGTACCGCAGCTGCAACTTCAACTCCGAGGCAACTGCAACTCCGGAGACTGAACAAAGCAATTACCAGGAGTACTTGAAGCTGAAGACAAGAGTTGAGTTCCTACAGACAACTCAGAGAAATCTTCTTGGCGAGGACTTGGGCCCACTTAACATGAAGGAACTTGAGCAGCTTGAGAACCAAATTGAGATATCTCTCAAACATATCAGGGCGACAAAGAGCCAACAGTCACTTGATCAGCTCTTTGAGCTCAAGCGCAAGGAACAACAACTGCAAGATGTTAATAAAGACTTACGGAAGAAGATACAAGAAACTAGTGTGGAAAATGTGCTGCAAATGTCTTGCCAGGACGTTGGACCTAGTGGGTCTAGTGGCCATGCTAATCAAGCTAATCAACAGGAGTATTTTCATCATGATTGTGACCCTTCCCTGCATATAGGGTATCAACGAAATTTCCTGGATCAGTTGAACAAAGAATGAATGGTTGTATGAGCTGAGCCTGAGCG\"\n",
       "\n",
       "\n",
       "[[3]]\n",
       "[[3]]$`AB244637.1 Triticum aestivum TaGlb2a mRNA for endo-beta-1,3-glucanase, complete cds`\n",
       "[1] \"TCCTAGCATAGCAAGCTGGTCGAGCTTCCGAAGATGGCGCGGCAGCGTACGTGCTCTGCCTCCGCGCTCGCGCTCGCCGTGGCGTTGGTCGTCGGAATCCTGGCGTCCATCCCTGTCGAGGTGGAATCCATCGGCGTGTGCAACGGGATGCAAGGCGACAGCCAGTCCCTGCCATCGCGGGCCGACGTGGTGCAGTTCTACGGGACCAAGGGCATCAGCGCCATGCGCATCTACGCCCCGGACCCCGAGACGCTCCAGGCCCTCGGCGACACCGGCATCGACCTCATCATGGACGTGGGCAACGGCAACCTTTCCGCCCTCGCCTCCGACGCCGGCTTGGCGGCGTCCTGGGTCCAAGAAAACGTGCTGGCCTACCCGCGCGTCAGCATCAAGTATATCGCCGCCGGCAACGAGGTGGAAGGCGGCGACACGCAGAACATCGTCCGGGCCATGAAGAACCTCAACGCCGCGCTCTCCAAGGCCAGCCGCCCTGACGTGAAGGTTTCCACGGCGGTCAAGATGAGCGTGCTCGCGTCCTCCTCGCCTCCCTCCAGCGGCGTGTTCAAAGACGCGTATATGTCGGAGGTGACCCAGCTGCTCAAGGACACCAGCGCGCCGCTGCTCGCCAACGTGTACCCCTACATCGCCAAAAGGGACACCCCGACCATCGACCTCAGCTTCGCGCTCTTCCAGCCGAACACCAACCCGGTGAACGACAACGGCAACGGCCTCACCTACACCAACCTCTTCGACGCCATGGTCGACGCTATGTACACGGCCATGGAGCAGGCGGGTGCGTCGGACGTGCCCATCGTGGTCTCGGAGAGCGGGTGGCCATCCGCCGGCGACGACCTGGCAACCCCCACCAACGCGCAGGCGTACAACCAGAACCTGATCGACCACGTCGGCAAAGGCACGCCCAAGAGGGCCGGGCCCCTGGAGACGTACATCTTCGCCATGTTCAACGAGAACCAAAAGGGAGGGCTCGAGACTGAGAGGAACTTCGGGTTGTTCAACGGCCCCGATAAGACGCCGGTGTACCCTATAAGGTTTACCAATTAGTTAAGACGACCGGACTATATCTTCATGTTTACAGGAGTACATACGTACTGTAGCTCTTACTACGGTCGATCTCAATAAGCTGCGGAATAATTCGTGCAAGGACGTACAAGTATTTTACTAGATAATGTCATATGAATAAGAGCCATAAA\"\n",
       "\n",
       "\n",
       "[[4]]\n",
       "[[4]]$`AB244641.1 Triticum aestivum TaGlb2e mRNA for endo-beta-1,3-glucanase, complete cds`\n",
       "[1] \"GAATTCGGCACGAGGCGGGGACGTACGTGCGTGCATCGACTGTTTCTTCCTCGCACAACAAGCTGGTCGATCGATCGAGCTTCTGAAGATGGCGCGGCAACGTACGGTCGCCATGGCGCTGGTCGTCGGAGTGATCTTGGCGTCCATCACTATCGATCAGGTGCAATCCATCGGCGTGTGCAACGGCAAGGTCGGCGACAACCTGCCATCGCGGGCCGAGGTGGTGCGGTTCTACAAGTCCCTGGGAATCGGCGCCATGCGCATCTACGAGCCGGAACCCGAGACGCTCCTGGCTCTCGACGGCACCGAGATCGAACTCATCATGGACGTGGGTGGCGGCTTCGCCGCCATCGCCTCCGACCCTGCCGCCGCGGCCGGCTGGATCCGTGACAACGTGCTTGCCTTCCCGGGCGTGCGCATCAAGTACATTGCGGCCGGCAACGAGATCGAGGGCAGCGACACGGACAACATCGTCCCGGCCATCAAGAACCTCAACGCCGCGCTCGCTGCGGCCAGCCGCACTGACGTCAAGGTGTCCACGGCGGTCAAGATGAGCGTGCTGGGGTCCTCCTCGCCGCCCTCCGAGGGCGCGTTCAAGGACCCATACATGACGGAGGTGGCCAAGATGCTCAAGGCCACCGGGGCCCCGCTCCTCGCCAACGTGTACCCCTACTTCGCCAAAAGGGACACCCCGGACATCGACCTCGGCTTCGCGCTCTTCAAGCAAAGCACCAGCACGGTGAGCGACAGCGGTCTCACCTACACGAACCTCTTCGACGCCATGGTCGACGCGGTTTACTCGGCCTTGGAGAAGGCGGGTGCGCCGGACGTGCCCATTGTGGTCTCGGAGAGCGGATGGCCGTCGGCCGGCGACGACCTGGCAACCGTCGCTAACGCGCAGGCGTACAACCAGGGGCTCATCGACCACGTCGGCAAAGGCACGCCCAAGAGGCCGGTGCCCCTGGAGACGTACATCTTCGCCATGTTCAACGAGAACCAGAAAGGAGGGGCCGTGACAGAGAAGAGCTTTGGGCTGTTCAACGGCCCCGACAAGACGCCGGTGTACCCTATAAAGTTCAACAATTAGCTAAGACAGCCGGACTACATATTCATGCATACAATACATATATAGCTGCTGCTTCGATCGATC\"\n",
       "\n",
       "\n",
       "[[5]]\n",
       "[[5]]$`AB244642.1 Triticum aestivum TaGlb2f mRNA for endo-beta-1,3-glucanase, complete cds`\n",
       "[1] \"CACAGTAGACGAGTACGCCCGTGCATAACAAGCTGACCGAGCTTCTGAAGATGGCGCGGCAGCGTACGTGCTCTGCCTCCGCGCTCGCGCTCGCCGTGGCGTTGGTCGTCGGAGTCTTGGCGTCCATCCCTATCGAGGTGGAATCCATCGGGGTGTGCAACGGGATGATAGGCGACAGCCAGTCCCTGCCATCTCCGGCCGACGTGGTGCAGTTGTACAGGACCAAGGGCATCAGCGCCATGCGCATCTACGCCCCGGACCCGGAGACGCTCCAGGCCCTCGGCGACACCGGCATCGACCTCATCATGGACGTCGGCAACGGCAACCTTTCCGCCCTCGCCTCCGACGCCGGTTTGGCCGCGTCCTGGGTCCAAGAAAACGTGCTGGCCTACCCGCACGTCAGCATCAAGTATATCGCGGCCGGCAACGAGGTGGAAGGCGGCGACACGCAGAACATCGTCCCGGCCATGACGAACCTCAACGCCGCGCTCTCCAAGGCCAGCCGCCCTGACGTGAAGGTGTCCACGGCGGTCAAGATGAGCGTGCTCGCGTCCTCCTCGCCTCCCTCCAGCGGCGTGTTCAAAGACGCGTACATGACGGAGGTGGCCCAGCTGCTCAAGGACACCAGCGCGCCGCTGCTCGCCAACGTGTACCCCTACATCGCCAAAAGGGACACCCCGACCATCGACCTCAGCTTCGCGCTCTTCCAGCCGAGCACCAACCAGGTGAACGACAACGGCAACGGCCTCACCTACACCAACCTCTTCGATGCCATGGTCGACGCCATGTACACGGCCATGGAGCAGGCGGGTGCGTCGGACGTGCCCATCGTGGTCTCGGAGAGCGGGTGGCCGTCGGCCGGCGACGACCTTGCAACCCCCACTAACGCGCAGGCGTACAACCAGAACCTCATCGACCACGTCGGCAAAGGCACGCCCAAGAGGGCCGGGCCCCTGGAGACGTACATCTTCGCCATGTTCAACGAGAACCGAAAGGACGGGCCCGACACAGAGAGGAACTTCGGGCTGTTCAACGGCCCCGACAAGACGCCGGTGTACCCTATAAGGTTCACCAATTAGTTAAGAAGACGTCCGGACTATATTTTCATGTATACATGAGTACATACATATCTCTTATTACGGTAGATCTCAATAAGCTGCACAATAATACGTACAAGCACG\"\n",
       "\n",
       "\n",
       "[[6]]\n",
       "[[6]]$`AB262660.1 Triticum aestivum pinb gene for puroindoline b protein, complete cds`\n",
       "[1] \"TGGTTATTTAGTAGAGTAAATAGCATAAAACTACTACTTTACAGGTCAGGGTTTCAAAAAACTACCCATTTTTATTTTTTCTCAGATAACTACCAAATGGGTGGTTGGCTGTTTAAAAAAACCCAAAACATCTAGTGTTTTACAATTGATCGTGATTATGACAATTGGGACCCGCATATAAGAAAACCGATTGTTTGGCCGTCTATTTGACCGTTAACTGACATGTGGGGTCCACATGCCAGCTCTCTTCCTTGTTCTCTTCACTCCTCCTGCCTCTCTTCTTCCCTAGGAGGCCGATGGAGCGCCGGCCGCCGCTCCTTCCACCAGCGCCGGTCGCCCCTCCTTCCACCTCGTCGTCGTTAGCCGGCCGCTCCTCCGCCTCCACTACTGCCCCCTCTCCCTAGAACCTTTTCTTCTCACCGTGGCCTCTTCTCCCCCAACGCGCCGTCGGCCTCGACCTGCAGCCTTGGCGCCTGACGTGCCGCCCTCCATGGAGCCATGGCGCCACCGGCTAGAGGCGCTGCCCTGCCAGCATGGACGGTCGTGATGGAAGGGAGCTCCACGGCTGCGCCATGGCTGCTGGTCGCGACGGAAGGGAGCTCCACTGTGGCGCCATGGCTGCTGGTGGATGCTGGTCGTGACGGAAGGGAGCTCCACGCGCCGCCCCCGACGGAACGGAGCTCCACGGCGGCACCATGGCTGCTGGTCGCGACGGAAGGGAGCTTCACACGCCGGCCACGACAGAAGGGAGCTCCATGGCGGTGCCATGGCTACTGGCCGGCGACCCTCACGGTGGCTCCTAGCGCACGGCCACGGGAGGGACCTGATTGCTTTTTTCAAAAGTTTGCGGGGACCCGACTGTGTTTTTGAAAAGTTTGCAAGGACCTGATGGCATTTTTTAAAACTTTGCAGACACTAACATGTGGGACCCACATGTCAATTAACGGTCAAACAAACGGTCAAATAGACGGATCGTTTAGGTGCGGGCCCGACCTGTCATAAACCTGTTTAATTTTTTAATAACGAAGATTTTGAGTTTTTTGAAACAGCCGACCCCTGACTTGGTAGTTATCTGAGAAAAATTAAAAACCGGTAGTTTTTTGAAACCCTAGCCTGTAAAGTAGTAGTTAGTAAAACAATTAAATTTGTGTCATACTTGCATTTCCTGTTTATCCTATGATCTGCATGACTGTGTGCAACTGCAAATGAGCCTCCACCCTAGGCTTATTTCCATATTGATTATTACTCACCTCGATTTTTGTTTGTAAGTGTGTTTATTTATTGGTCAAAGATAATTGTTTCTGGGGAAAAATGAAGGATTAGAAGAAGCTTGTCATGTGCCGAATCTCAATCTTCGATAAACCAAGGGAGAATAATTAGAAAAGATGGCTATCTAATATGACTCATTGCACTTTCTAGGTCAGAATCAAAACCCTTTTATGGCATTGTACATGGGGAGGTGAGCTCTGTTCTAAGGTTAATCCTAACCCGTGTTGTTTGAAATACCTATTTACCCCCTCCGATGCATCTAGATCCTCGGACACCTTGTTAAAAAAAATTACTTCCTTGGAGACAAATACTATTTTGGAGAATAATGAAAATCATTTAGAAACATTTGACATGAACGACATGATTCCAGAGACAATAAAAAACTTAAAAACAAACGATGGATAAGAAGATGATGTCTTGATAAATCATTACTTGTCGAGTTGTCGTGTACTACTAGTCTGTAAAATACAGTCTCTAACAAATTTGGTACAATCTGAGATCCATCTTGAACAACCTGCACAATCCTACAAGTTTAGTTTCGCAAAAGAATAACAATATGAACCATGTGACTTTCTTGGTACGTACAAAACCACAGAGAGAGAGAGAGAGAGAGAGAGAGAGAGAGAGAGAAGGGTCACACATCATTAGATAAGGTCTATCTTCACAAAGTTGCACATACATGTACAGTACAGGAAGCGACATGTATCTCAATACCACATGGTTCTAGATACTGGACGAAAAAGCAGTGGCTAGAAAGATGACGATATATAGATGCATTACTTATCATATACTACTACCTAGAAAAATACAATATCTAATTTCCTCTTGATCCTTCTTGAACAACCTGCACAACACTACAAGTTCAGTTTCACAAAAGCGTAAGTCTAAAGCTTTGGTACAACAACAACTTATGGTTTATTTTGAGAAAAGGTCAGATTCAGTACACGGAACATCACATATCTCAACAACTTCCACCAGTTTTGTGTGCTTTCAAAGTAACTTTGATTGGTATCCAGCTATACAACACACAACCGCACACAGAAATCGTGCCACCTCAATTATAAATAAAGGTGTGGCCTCATCTCATCTATTCATCTCCACCTGCACCAAAACACACTGACAACATGAAGGCCCTCTTCCTCATAGGCCAGAGCGGGGTACTAGACAACAGCAAATCGAGATTGGAGCACACCAAATGCACGCTTGACATACTTCCTGCAAGCCTCCTGACACTTAACAAAGCAGGATTTCTTGCCTCCTGGCACAGGGTTTGAGATAGTCTTCACAAATGTTGACCATCTTGGATAGATGCCATCTGCTAGGTAGTATCCCTTGTTATAGTGGCGCCCATTGACCTTGAAGTTCACCGGAGGAGCATGACTTTAACAAGCTTGGCAAAGACATTCGAGCACTGCAGGACGTTGATGTCATTGTAAGTTCCTGGCATACCAAGAAGGAGTGCCAAATCTAGAGGTCCTTTGTATTGCCTCAAGTACCACACCGCAAGCTCCTTTCGCTCCTTTCTACATTCCCTGCCAGGCAAATGGACAGTTTTTCCATGCCCAATCCATGCATTCGATGCTTCCAAGCATCCCAGGAAATCCTCTTGCTTCTGTGCTAGGATCCGAGCAGTGTCTTCAGCATTGGGTGACCGCAAGTATTCTGGTCCAAACACTTCCACCACTGCCCTGCAGAACTTGTACAAACACTAGGCCATGCGTCCAAATCTCTAGTCGCATGTGCTTCTACCTCGCCGACAAACTGGAAGGGATGGCCTTCCCCAACCCGGGGCTCTACACCCATGTGAAGGGCAAGGAACAGTAGCAATAGGTTGCTGAGGATTTTGAGAAAATCAAATAGTGTTCCGGAGAATTTTGTGAATCAGATGAACAACTAGGAATGAACAAATCCTTAATACGTGTGAGGATTATTCGTAGGCGTATTCATGCAACAAATATCTATAAGGCAGTGGCACAAGGGATTCTTAAAAAGTTGGAGAATAATTTGATGCACCTTGTAATAACAAGAGCAGCTGGGAATGAAAGTAAGAACGACAGGTGTATGTATTTATCCATAGGGATATATCAGTGGTAGGGGATTGCAAAAGCGACGGGCACAGAGTCTCGAGAGAGCATCGGAGAGTATCTTCGAAATCTTCTGGTGTAGCAGGCGATCATCTGGACTGAATGGGCTCTCCGGGAGAAAGTATTTTCGAGAACCTAAAGTTAGATTTTTAGCAAAATTATTTAAACCGAATATAAGAGATATCAGAACCCCAGAGTATAGACGAGGAATAAAAGATCCTAATACCACCCAAATGGCTACATGGACCCGTAAGCCACACAACCATGTTAGCAAAAAGTTATTCAATGACTAGACTCAACTTCGGCCAAGGAGTTGGAAAGGGGGATTCCTACTGGCAGTCGGCTCTGATACCAACTTGTGACTCCCCTGATTTGACCATACACAAATCATACACGCAAATGCGTACGACCAAGATCAGGGACTCATGGGAAGATATCACAACACAACTCTAGACACAAATTAAAGTCATACAAGCTTTATATTACAAGCCAGGGGCCTCGAGGGCTCGAATACATAAGCTCGAAAGCACAATAGTCAGCGGAAGCAACAATATCTGAGTACAGGCATAAGTTAAACAAGTTGTCATAAGATGGCTAGCACAAACAGGGATAAAGATCAAAAAGGCAAGGCCTCCTGCCTGGGAGCCTCCTAACTACTCCTGGTCGTCGACAGCCTCCACGTAGTAGGAGCATCCGTCGGGGATTTAGTAGTCGTCAGCGGTGGCATCTGACTCCTAGGCTCCAACATCTTATCGCAACATCCGGAAAGTAGAGAGAAGGGGGAAATGGGTAGCAAAGCAACCGTGAGTACTCATTCGAAGTACTCGCAAGACTTACATCAGATCTAAACTACATATGCATTGGTATCAAATGAATGGGGTAATATCTGTGGACTAAACTGCAGAATGCCAGAATAAGAGGGGGAGAAGCTAGTCCTATCAAAGACTACGCTTCCAGTAACCTCCGTCTTGCAGTAGTAGAAGAGAATAGCAGATAAGTATCAACACATAGCATAACCCACCTGGCGATCCTCTCCTTGTCACCCTGTGAGAGAGCGAACACCGGGTTGTATCTGGAAGTTATCTGGGTGTGCTTTATTAAGTCGGCTGGTACATCATCCTCCCATAGGAGGCCTTTGCATCTGGGCGTGTGTGGCCTATTTTCATTTCACCCCAGTTATTCCATCGAACTAAGTAGCAACATGTAAGGAGTCAGTTTTCGAGATACCACACAACACCAATTTTCCAACGAAACTAATGAGAAATAAAAAGGTGCATCACTCATTTTCGACCAAATTAATTATGTCTTGGTATTAGAGTTTTCTCTCTCTGTCCTGATAAACCCAAACGGAGGGAGTAAAGATTATCTATCTCAACATCACATGATTCTAAATACAAAACAGAAAACCACGGCTAGAAGAGGACGACATCTAGAGGCATTGCTTTTCATGTACTAATACCTTGTTAAACACATTCTCTAACAAATTGGTTTGGATCCTTCTTCAACAATTTCCACACACTACAAGGCCAGTTCACAAAAGCTTAAAGCGTGAGCATTGGTACAAAACTAGTTGTGGTCTATCTTGAGAAAAGGGAACACTTAGTACACGAAACGTCACCTGTCTCAACAACTTGCACCATTTCTGTTGGCTCGCAAAGTAACTTTATTTAGTATACCAACTTAATTTGTGAGCATTAGCCAAAGCAACACACAATGGTAGGCAAAAACCATGTCACTAAGCAATAAATAAAGGGGAGCCTCAACCCATCTATTCATCTCCACCACCACCAAAACAACATTGAAAACATGAAGACCTTATTCCTCCTAGCTCTCCTTGCTCTTGTAGCGAGCACAACCTTCGCGCAATACTCAGAAGTTGGCGGCTGGTACAATGAAGTTGGCGGAGGAGGTGGTTCTCAACAATGTCCGCAGGAGCGGCCGAAGCTAAGCTCTTGCAAGGATTACGTGATGGAGCGATGTTTCACAATGAAGGATTTTCCAGTCACCTGGCCCACAAAATGGTGGAAGGGCGGCTGTGAGCATGAGGTTCGGGAGAAGTGCTGCAAGCAGCTGAGCCAGATAGCACCACAATGTCGCTGTGATTCTATCCGGCGAGTGATCCAAGGCAGGCTCGGTGGCTTCTTGGGCATTTGGCGAGGTGAGGTATTCAAACAACTTCAGAGGGCCCAGAGCCTCCCCTCAAAGTGCAACATGGGCGCCGACTGCAAGTTCCCTAGTGGCTATTACTGGTGATGATATAGCCTCTATTCGTGCCAATAAAATGTCACATATCATA\"\n",
       "\n"
      ]
     },
     "metadata": {},
     "output_type": "display_data"
    }
   ],
   "source": [
    "head(t_nosplicing_cat)"
   ]
  },
  {
   "cell_type": "code",
   "execution_count": 61,
   "metadata": {},
   "outputs": [
    {
     "ename": "ERROR",
     "evalue": "Error in write.fasta(sequences = t_nosplicing_cat, names = names(t_nosplicing_cat), : unused argument (whole.header = TRUE)\n",
     "output_type": "error",
     "traceback": [
      "Error in write.fasta(sequences = t_nosplicing_cat, names = names(t_nosplicing_cat), : unused argument (whole.header = TRUE)\nTraceback:\n"
     ]
    }
   ],
   "source": [
    "# DOES NOT WORK!!!! - fasta headers are cut off no matter what options are used\n",
    "# write into file\n",
    "setwd(\"/nfs/pgsb/projects/comparative_triticeae/phenotype/flower_development/refgenes/gmap/triticum\")\n",
    "#triticum_nosplicing <- tempfile(fileext = \"fasta\")\n",
    "#tmpf <- tempfile()\n",
    "write.fasta(sequences = t_nosplicing_cat, names = names(t_nosplicing_cat), file.out = \"./triticum_nosplicing1.fasta\", open = \"w\", nbchar = 60, as.string = TRUE, whole.header = TRUE)\n",
    "test <- read.fasta(\"./triticum_nosplicing.fasta\", set.attributes = TRUE)\n",
    "identical(test, t_nosplicing_cat)"
   ]
  },
  {
   "cell_type": "markdown",
   "metadata": {},
   "source": [
    "## 4.3 Mapping with GMAP\n",
    "* **official website:** http://research-pub.gene.com/gmap/\n",
    "* my gmap is installed into `seqtools` conda environment\n",
    "* due to the large genome size in barley&wheat I ahd to use `gmapl` instead, but it was installed along with gmap\n",
    "* **perl scripts to inspect files:** \n",
    "    - `perl -ne 'print $1,\"\\n\" if /mol_type=\"([^\"]+)\"/;' genbank/*.gb| sort | uniq -c`\n",
    "    - `perl -ne 'print $1,\"\\n\" if /^\\s*ORGANISM\\s+(.+)/;' genbank/*.gb| sort | uniq -c`\n",
    "* **preparations:** \n",
    "    - gene-seqs belong to 3 organisms: triticum, hordeum, aegilops\n",
    "    - they have 4 types of data: \n",
    "        - genomic DNA - `--nosplicing` flag has to be on! (Turns off splicing (useful for aligning genomic sequences onto a genome)\n",
    "        - mRNA & transcribedRNA & unassigned (which we assign to transcribedRNA) - `--nosplicing` flag has to be off!\n",
    "    - create dataframe with \"Organism\" and \"mol_type\" information to parse files\n",
    "    - create concatenated merged fasta file from all the nucleotide gene fastas for each group to map (script and output paths are above)\n",
    "    - create symlinks of each ref.genome into gmap folder for indexing\n",
    "* **1.:** indexing\n",
    "    - directory: `/nfs/pgsb/projects/comparative_triticeae/phenotype/flower_development/indexes/gmap`\n",
    "    - run indexing command in a screen session in the directory of the respective genome where symlinks are:\n",
    "        \n",
    "        `gmap_build -D /nfs/pgsb/projects/comparative_triticeae/phenotype/flower_development/indexes/gmap -d triticum -k 15 genome.fasta`\n",
    "        \n",
    "        `gmap_build -D /nfs/pgsb/projects/comparative_triticeae/phenotype/flower_development/indexes/gmap -d hordeum -k 15 genome.fasta`\n",
    "        \n",
    "        `gmap_build -D /nfs/pgsb/projects/comparative_triticeae/phenotype/flower_development/indexes/gmap -d aegilops -k 15 genome.fasta`\n",
    "    - use the `-D` flag to specify the default location for the tool\n",
    "    - it can take upto a day long\n",
    "* **2.:** use Aegilops 2+1 fastas to create 12 different output formats\n",
    "    - inspect result files and choose the option for the entire analysis\n",
    "    - for splicing category only a single file was tested\n",
    "    - for nosplicing the cat csv based 2 files\n",
    "* **3.:** run the respective `gmap_gff.sh` script on slurm\n",
    "    - here `-f` specifies the output file format, where `est.gff` and `alignment.gff` is the most recommended and can be later converted into counttable using STAR/HISAT\n",
    "    - destination directories: `/nfs/pgsb/projects/comparative_triticeae/phenotype/flower_development/refgenes/gmap/`\n",
    "    - scripts are found: `home/pgsb/vanda.marosi/scripts/gmap/`"
   ]
  },
  {
   "cell_type": "markdown",
   "metadata": {},
   "source": [
    "## Location of Ref.Genomes\n",
    "* all of them are symlinked under: `/nfs/pgsb/projects/comparative_triticeae/phenotype/flower_development/genomes/`\n",
    "\n",
    "`./Horvu/CDS.fasta:49281\n",
    "./Horvu/protein.fasta:46294\n",
    "./Horvu/transcript.fasta:49281\n",
    "./Horvu/genome.fasta:8\n",
    "./Triae/protein.fasta:122722\n",
    "./Triae/genome.fasta:22\n",
    "./Triae/transcript.fasta:123075\n",
    "./Triae/CDS.fasta:122722\n",
    "./Aegta/transcript.fasta:68789\n",
    "./Aegta/genome.fasta:8\n",
    "./Aegta/CDS.fasta:68789\n",
    "./Aegta/protein.fasta:68390`"
   ]
  },
  {
   "cell_type": "markdown",
   "metadata": {},
   "source": [
    "## 4.4 Filtering with identity&coverage values and intersection with ref.annotations"
   ]
  },
  {
   "cell_type": "code",
   "execution_count": null,
   "metadata": {},
   "outputs": [],
   "source": []
  },
  {
   "cell_type": "code",
   "execution_count": 27,
   "metadata": {},
   "outputs": [
    {
     "data": {
      "text/plain": [
       "R version 3.6.3 (2020-02-29)\n",
       "Platform: x86_64-conda_cos6-linux-gnu (64-bit)\n",
       "Running under: CentOS Linux 7 (Core)\n",
       "\n",
       "Matrix products: default\n",
       "BLAS/LAPACK: /home/vanda.marosi/anaconda3/envs/r/lib/libopenblasp-r0.3.9.so\n",
       "\n",
       "locale:\n",
       " [1] LC_CTYPE=en_US.UTF-8       LC_NUMERIC=C              \n",
       " [3] LC_TIME=de_DE.UTF-8        LC_COLLATE=en_US.UTF-8    \n",
       " [5] LC_MONETARY=de_DE.UTF-8    LC_MESSAGES=en_US.UTF-8   \n",
       " [7] LC_PAPER=de_DE.UTF-8       LC_NAME=C                 \n",
       " [9] LC_ADDRESS=C               LC_TELEPHONE=C            \n",
       "[11] LC_MEASUREMENT=de_DE.UTF-8 LC_IDENTIFICATION=C       \n",
       "\n",
       "attached base packages:\n",
       "[1] parallel  stats     graphics  grDevices utils     datasets  methods  \n",
       "[8] base     \n",
       "\n",
       "other attached packages:\n",
       "[1] doParallel_1.0.14 iterators_1.0.12  foreach_1.5.0     usethis_1.6.0    \n",
       "[5] rentrez_1.2.2     genbankr_1.14.0   dplyr_0.8.5       taxize_0.9.94    \n",
       "\n",
       "loaded via a namespace (and not attached):\n",
       " [1] nlme_3.1-147                bitops_1.0-6               \n",
       " [3] matrixStats_0.56.0          fs_1.4.1                   \n",
       " [5] bold_0.9.0                  bit64_0.9-7                \n",
       " [7] progress_1.2.2              httr_1.4.1                 \n",
       " [9] GenomeInfoDb_1.22.0         repr_1.1.0                 \n",
       "[11] tools_3.6.3                 utf8_1.1.4                 \n",
       "[13] R6_2.4.1                    DBI_1.1.0                  \n",
       "[15] BiocGenerics_0.32.0         tidyselect_1.0.0           \n",
       "[17] prettyunits_1.1.1           bit_1.1-15.2               \n",
       "[19] curl_4.3                    compiler_3.6.3             \n",
       "[21] cli_2.0.2                   Biobase_2.46.0             \n",
       "[23] xml2_1.3.2                  DelayedArray_0.12.0        \n",
       "[25] triebeard_0.3.0             rtracklayer_1.46.0         \n",
       "[27] askpass_1.1                 rappdirs_0.3.1             \n",
       "[29] pbdZMQ_0.3-3                stringr_1.4.0              \n",
       "[31] digest_0.6.25               Rsamtools_2.2.3            \n",
       "[33] XVector_0.26.0              base64enc_0.1-3            \n",
       "[35] pkgconfig_2.0.3             htmltools_0.4.0            \n",
       "[37] dbplyr_1.4.3                BSgenome_1.54.0            \n",
       "[39] rlang_0.4.5                 httpcode_0.3.0             \n",
       "[41] RSQLite_2.2.0               zoo_1.8-7                  \n",
       "[43] jsonlite_1.6.1              BiocParallel_1.20.0        \n",
       "[45] VariantAnnotation_1.32.0    RCurl_1.98-1.2             \n",
       "[47] magrittr_1.5                GenomeInfoDbData_1.2.2     \n",
       "[49] Matrix_1.2-18               Rcpp_1.0.4.6               \n",
       "[51] IRkernel_0.8.15             S4Vectors_0.24.0           \n",
       "[53] fansi_0.4.1                 ape_5.3                    \n",
       "[55] lifecycle_0.2.0             stringi_1.4.6              \n",
       "[57] SummarizedExperiment_1.16.0 zlibbioc_1.32.0            \n",
       "[59] plyr_1.8.6                  BiocFileCache_1.10.2       \n",
       "[61] grid_3.6.3                  blob_1.2.1                 \n",
       "[63] crayon_1.3.4                lattice_0.20-41            \n",
       "[65] IRdisplay_0.7.0             Biostrings_2.54.0          \n",
       "[67] GenomicFeatures_1.38.2      hms_0.5.3                  \n",
       "[69] pillar_1.4.3                GenomicRanges_1.38.0       \n",
       "[71] uuid_0.1-4                  codetools_0.2-16           \n",
       "[73] biomaRt_2.42.1              stats4_3.6.3               \n",
       "[75] crul_0.9.0                  XML_3.99-0.3               \n",
       "[77] glue_1.4.0                  evaluate_0.14              \n",
       "[79] data.table_1.12.8           urltools_1.7.3             \n",
       "[81] vctrs_0.2.4                 openssl_1.4.1              \n",
       "[83] purrr_0.3.4                 reshape_0.8.8              \n",
       "[85] assertthat_0.2.1            tibble_3.0.1               \n",
       "[87] GenomicAlignments_1.22.1    AnnotationDbi_1.48.0       \n",
       "[89] memoise_1.1.0               IRanges_2.20.0             \n",
       "[91] ellipsis_0.3.0             "
      ]
     },
     "metadata": {},
     "output_type": "display_data"
    }
   ],
   "source": [
    "sessionInfo()"
   ]
  }
 ],
 "metadata": {
  "kernelspec": {
   "display_name": "R [conda env:r]",
   "language": "R",
   "name": "conda-env-r-r"
  },
  "language_info": {
   "codemirror_mode": "r",
   "file_extension": ".r",
   "mimetype": "text/x-r-source",
   "name": "R",
   "pygments_lexer": "r",
   "version": "3.6.3"
  }
 },
 "nbformat": 4,
 "nbformat_minor": 4
}
