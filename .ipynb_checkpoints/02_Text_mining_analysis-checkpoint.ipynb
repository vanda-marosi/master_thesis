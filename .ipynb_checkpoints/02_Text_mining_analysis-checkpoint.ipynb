{
 "cells": [
  {
   "cell_type": "markdown",
   "metadata": {},
   "source": [
    "# Text mining on `final_triticeae` dataset"
   ]
  },
  {
   "cell_type": "code",
   "execution_count": 2,
   "metadata": {},
   "outputs": [
    {
     "name": "stderr",
     "output_type": "stream",
     "text": [
      "Loading required package: NLP\n",
      "Loading required package: iterators\n"
     ]
    }
   ],
   "source": [
    "library(tm, warn.conflicts = FALSE)\n",
    "library(NLP, warn.conflicts = FALSE)\n",
    "library(dplyr, warn.conflicts = FALSE)\n",
    "library(parallel)\n",
    "library(foreach, warn.conflicts = FALSE)\n",
    "library(doParallel)\n",
    "library(purrr, warn.conflicts = FALSE)\n",
    "library(RVenn)"
   ]
  },
  {
   "cell_type": "code",
   "execution_count": 3,
   "metadata": {},
   "outputs": [
    {
     "data": {
      "text/html": [
       "'/mnt/filer/projects/comparative_triticeae/phenotype/flower_development/refpapers'"
      ],
      "text/latex": [
       "'/mnt/filer/projects/comparative\\_triticeae/phenotype/flower\\_development/refpapers'"
      ],
      "text/markdown": [
       "'/mnt/filer/projects/comparative_triticeae/phenotype/flower_development/refpapers'"
      ],
      "text/plain": [
       "[1] \"/mnt/filer/projects/comparative_triticeae/phenotype/flower_development/refpapers\""
      ]
     },
     "metadata": {},
     "output_type": "display_data"
    }
   ],
   "source": [
    "setwd(\"/nfs/pgsb/projects/comparative_triticeae/phenotype/flower_development/refpapers/\")\n",
    "getwd()"
   ]
  },
  {
   "cell_type": "markdown",
   "metadata": {},
   "source": [
    "## 1. Data import"
   ]
  },
  {
   "cell_type": "code",
   "execution_count": 4,
   "metadata": {},
   "outputs": [
    {
     "name": "stdout",
     "output_type": "stream",
     "text": [
      "'data.frame':\t80826 obs. of  5 variables:\n",
      " $ pmid    : chr  \"32231884\" \"32231040\" \"32230597\" \"32230394\" ...\n",
      " $ title   : chr  \"Proximate composition, functional properties and quantitative analysis of benzoyl peroxide and benzoic acid in \"| __truncated__ \"Determination of Glyphosate in Dried Wheat by <sup>1</sup>H-NMR Spectroscopy.\" \"Review of the genus Eurygaster (Hemiptera: Heteroptera: Scutelleridae) of Russia.\" \"Description of Pratylenchoides ojcowensis sp. nov. (Nematoda: Merlinidae) from Polish Jurassic Highland.\" ...\n",
      " $ abstract: chr  \"Extensive milling processes have deprived wheat flour from essential nutrients. The objective of the current st\"| __truncated__ \"A wheat field was sprayed with a dosage of 1.1 kg a.i./ha Roundup PowerMax 10 days before harvest. The <sup>1</\"| __truncated__ \"Six species of the genus Eurygaster Laporte, 1833 are currently recorded from the territory of the Russian Fede\"| __truncated__ \"A new species of the genus Pratylenchoides has been described. It was found in Polish Jurassic Highland, in Ojc\"| __truncated__ ...\n",
      " $ year    : chr  \"2020\" \"2020\" \"2020\" \"2020\" ...\n",
      " $ journal : chr  \"PeerJ\" \"Molecules (Basel, Switzerland)\" \"Zootaxa\" \"Zootaxa\" ...\n"
     ]
    },
    {
     "data": {
      "text/html": [
       "<table>\n",
       "<caption>A data.frame: 6 × 5</caption>\n",
       "<thead>\n",
       "\t<tr><th></th><th scope=col>pmid</th><th scope=col>title</th><th scope=col>abstract</th><th scope=col>year</th><th scope=col>journal</th></tr>\n",
       "\t<tr><th></th><th scope=col>&lt;chr&gt;</th><th scope=col>&lt;chr&gt;</th><th scope=col>&lt;chr&gt;</th><th scope=col>&lt;chr&gt;</th><th scope=col>&lt;chr&gt;</th></tr>\n",
       "</thead>\n",
       "<tbody>\n",
       "\t<tr><th scope=row>80821</th><td>4157536</td><td>[Effect of ferulic acid on alpha-amylase formation and on the germination of barley].                                                        </td><td>NA</td><td>1965</td><td>Archives internationales de physiologie et de biochimie</td></tr>\n",
       "\t<tr><th scope=row>80822</th><td>4157535</td><td>[Activation and inhibition of alpha-amylase formation during the germination of barley].                                                     </td><td>NA</td><td>1965</td><td>Archives internationales de physiologie et de biochimie</td></tr>\n",
       "\t<tr><th scope=row>80823</th><td>4157738</td><td>The formation of o-coumaroyl-beta-glucoside from coumarin-2-14C in barley embryos.                                                           </td><td>NA</td><td>1965</td><td>Archives internationales de physiologie et de biochimie</td></tr>\n",
       "\t<tr><th scope=row>80824</th><td>5833367</td><td>Studies on carbohydrate-metabolizing enzymes. 11. The hydrolysis of lichenin by enzyme preparations from malted barley and Rhizopus arrhizus.</td><td>NA</td><td>1965</td><td>The Biochemical journal                                </td></tr>\n",
       "\t<tr><th scope=row>80825</th><td>5832296</td><td>Studies on carbohydrate-metabolizing enzymes. 10. Barley beta-glucosidases.                                                                  </td><td>NA</td><td>1965</td><td>The Biochemical journal                                </td></tr>\n",
       "\t<tr><th scope=row>80826</th><td>5830068</td><td>[On the structure of beta-amylase from barley and malt. 13. (On seed proteins)].                                                             </td><td>NA</td><td>1965</td><td>Hoppe-Seyler's Zeitschrift fur physiologische Chemie   </td></tr>\n",
       "</tbody>\n",
       "</table>\n"
      ],
      "text/latex": [
       "A data.frame: 6 × 5\n",
       "\\begin{tabular}{r|lllll}\n",
       "  & pmid & title & abstract & year & journal\\\\\n",
       "  & <chr> & <chr> & <chr> & <chr> & <chr>\\\\\n",
       "\\hline\n",
       "\t80821 & 4157536 & {[}Effect of ferulic acid on alpha-amylase formation and on the germination of barley{]}.                                                         & NA & 1965 & Archives internationales de physiologie et de biochimie\\\\\n",
       "\t80822 & 4157535 & {[}Activation and inhibition of alpha-amylase formation during the germination of barley{]}.                                                      & NA & 1965 & Archives internationales de physiologie et de biochimie\\\\\n",
       "\t80823 & 4157738 & The formation of o-coumaroyl-beta-glucoside from coumarin-2-14C in barley embryos.                                                            & NA & 1965 & Archives internationales de physiologie et de biochimie\\\\\n",
       "\t80824 & 5833367 & Studies on carbohydrate-metabolizing enzymes. 11. The hydrolysis of lichenin by enzyme preparations from malted barley and Rhizopus arrhizus. & NA & 1965 & The Biochemical journal                                \\\\\n",
       "\t80825 & 5832296 & Studies on carbohydrate-metabolizing enzymes. 10. Barley beta-glucosidases.                                                                   & NA & 1965 & The Biochemical journal                                \\\\\n",
       "\t80826 & 5830068 & {[}On the structure of beta-amylase from barley and malt. 13. (On seed proteins){]}.                                                              & NA & 1965 & Hoppe-Seyler's Zeitschrift fur physiologische Chemie   \\\\\n",
       "\\end{tabular}\n"
      ],
      "text/markdown": [
       "\n",
       "A data.frame: 6 × 5\n",
       "\n",
       "| <!--/--> | pmid &lt;chr&gt; | title &lt;chr&gt; | abstract &lt;chr&gt; | year &lt;chr&gt; | journal &lt;chr&gt; |\n",
       "|---|---|---|---|---|---|\n",
       "| 80821 | 4157536 | [Effect of ferulic acid on alpha-amylase formation and on the germination of barley].                                                         | NA | 1965 | Archives internationales de physiologie et de biochimie |\n",
       "| 80822 | 4157535 | [Activation and inhibition of alpha-amylase formation during the germination of barley].                                                      | NA | 1965 | Archives internationales de physiologie et de biochimie |\n",
       "| 80823 | 4157738 | The formation of o-coumaroyl-beta-glucoside from coumarin-2-14C in barley embryos.                                                            | NA | 1965 | Archives internationales de physiologie et de biochimie |\n",
       "| 80824 | 5833367 | Studies on carbohydrate-metabolizing enzymes. 11. The hydrolysis of lichenin by enzyme preparations from malted barley and Rhizopus arrhizus. | NA | 1965 | The Biochemical journal                                 |\n",
       "| 80825 | 5832296 | Studies on carbohydrate-metabolizing enzymes. 10. Barley beta-glucosidases.                                                                   | NA | 1965 | The Biochemical journal                                 |\n",
       "| 80826 | 5830068 | [On the structure of beta-amylase from barley and malt. 13. (On seed proteins)].                                                              | NA | 1965 | Hoppe-Seyler's Zeitschrift fur physiologische Chemie    |\n",
       "\n"
      ],
      "text/plain": [
       "      pmid   \n",
       "80821 4157536\n",
       "80822 4157535\n",
       "80823 4157738\n",
       "80824 5833367\n",
       "80825 5832296\n",
       "80826 5830068\n",
       "      title                                                                                                                                        \n",
       "80821 [Effect of ferulic acid on alpha-amylase formation and on the germination of barley].                                                        \n",
       "80822 [Activation and inhibition of alpha-amylase formation during the germination of barley].                                                     \n",
       "80823 The formation of o-coumaroyl-beta-glucoside from coumarin-2-14C in barley embryos.                                                           \n",
       "80824 Studies on carbohydrate-metabolizing enzymes. 11. The hydrolysis of lichenin by enzyme preparations from malted barley and Rhizopus arrhizus.\n",
       "80825 Studies on carbohydrate-metabolizing enzymes. 10. Barley beta-glucosidases.                                                                  \n",
       "80826 [On the structure of beta-amylase from barley and malt. 13. (On seed proteins)].                                                             \n",
       "      abstract year journal                                                \n",
       "80821 NA       1965 Archives internationales de physiologie et de biochimie\n",
       "80822 NA       1965 Archives internationales de physiologie et de biochimie\n",
       "80823 NA       1965 Archives internationales de physiologie et de biochimie\n",
       "80824 NA       1965 The Biochemical journal                                \n",
       "80825 NA       1965 The Biochemical journal                                \n",
       "80826 NA       1965 Hoppe-Seyler's Zeitschrift fur physiologische Chemie   "
      ]
     },
     "metadata": {},
     "output_type": "display_data"
    }
   ],
   "source": [
    "trit <- readRDS(\"final_triticeae.rds\")\n",
    "str(trit)\n",
    "trit <- arrange(trit, desc(year))\n",
    "tail(trit)"
   ]
  },
  {
   "cell_type": "markdown",
   "metadata": {},
   "source": [
    "## 2. Creating & Inspecting Corpus from Dataframe\n",
    "The dataframe passed to `DataframeSource()` must have a specific structure:\n",
    "* Column one must be called `doc_id` and contain a unique string for each row.\n",
    "* Column two must be called `text` with \"UTF-8\" encoding.\n",
    "* Any other columns, 3+ are considered metadata.\n",
    "\n",
    "Including more data in original `final_triticeae.rds` table (publishing country, date) should be considered for more analysis!\n",
    "\n",
    "### 2.1 Data-wrangling to reach desired format on `trit`:"
   ]
  },
  {
   "cell_type": "code",
   "execution_count": 5,
   "metadata": {},
   "outputs": [
    {
     "data": {
      "text/plain": [
       "     pmid              title             abstract             year          \n",
       " Length:80826       Length:80826       Length:80826       Length:80826      \n",
       " Class :character   Class :character   Class :character   Class :character  \n",
       " Mode  :character   Mode  :character   Mode  :character   Mode  :character  \n",
       "   journal         \n",
       " Length:80826      \n",
       " Class :character  \n",
       " Mode  :character  "
      ]
     },
     "metadata": {},
     "output_type": "display_data"
    }
   ],
   "source": [
    "summary(trit)"
   ]
  },
  {
   "cell_type": "code",
   "execution_count": 6,
   "metadata": {},
   "outputs": [
    {
     "name": "stdout",
     "output_type": "stream",
     "text": [
      " chr [1:80826] \"Proximate composition, functional properties and quantitative analysis of benzoyl peroxide and benzoic acid in \"| __truncated__ ...\n"
     ]
    },
    {
     "data": {
      "text/plain": [
       "     pmid              title             abstract             year          \n",
       " Length:80826       Length:80826       Length:80826       Length:80826      \n",
       " Class :character   Class :character   Class :character   Class :character  \n",
       " Mode  :character   Mode  :character   Mode  :character   Mode  :character  \n",
       "   journal          title_abstract    \n",
       " Length:80826       Length:80826      \n",
       " Class :character   Class :character  \n",
       " Mode  :character   Mode  :character  "
      ]
     },
     "metadata": {},
     "output_type": "display_data"
    },
    {
     "data": {
      "text/html": [
       "<table>\n",
       "<caption>A data.frame: 6 × 6</caption>\n",
       "<thead>\n",
       "\t<tr><th></th><th scope=col>pmid</th><th scope=col>title</th><th scope=col>abstract</th><th scope=col>year</th><th scope=col>journal</th><th scope=col>title_abstract</th></tr>\n",
       "\t<tr><th></th><th scope=col>&lt;chr&gt;</th><th scope=col>&lt;chr&gt;</th><th scope=col>&lt;chr&gt;</th><th scope=col>&lt;chr&gt;</th><th scope=col>&lt;chr&gt;</th><th scope=col>&lt;chr&gt;</th></tr>\n",
       "</thead>\n",
       "<tbody>\n",
       "\t<tr><th scope=row>1</th><td>32231884</td><td>Proximate composition, functional properties and quantitative analysis of benzoyl peroxide and benzoic acid in wheat flour samples: effect on wheat flour quality.</td><td>Extensive milling processes have deprived wheat flour from essential nutrients. The objective of the current study was to assess the nutritive quality of commercial wheat flour (soft flour (SF)) through analyses of proximate composition and functional properties as well as quantification of benzoyl peroxide (BPO; added as bleaching agent in the SF) by comparing the results with whole wheat flour (WF; never received any additives). The samples included commercial SF purchased from the local supplier of different flour mills (who use BPO as additive) and a control sample without additives was prepared by grinding the seeds harvested from wheat (&lt;i&gt;Triticum aestivum&lt;/i&gt; L.; Inqulab 91) crop grown in the experimental field of University of Agriculture, Faisalabad, under optimized field conditions without any fertilizers and insecticides. Functional properties (including bulk density, water absorption capacity, oil absorption capacity, emulsifying activity, foaming capacity, least gelatinization concentration and gelatinization temperature) and proximate composition (including moisture content, ash contents, crude protein, gluten and starch contents) were determined and compared for all the samples. Benzoyl peroxide (BPO) and Benzoic Acid (BA) quantification was performed through High Performance Liquid Chromatography. Finally dietary intake was estimated for BPO and BA. Results showed that SF had lesser fiber, protein and ash contents, whereas, higher damaged starch, fat, gluten and bulk density. A parallel experiment under selected conditions (temperature, time and solute concentration) showed dissociation of BPO into BA soon after the exposure. Observed BA range (13.77 mg/g after 16 h) in SF and exposure level assessment (44.3 ± 1.36 mg/kg/BW) showed higher intake of BA on the consumption of SF. The results revealed the superiority of WF over SF in nutritive qualities as well as free of toxicants such as BA.</td><td>2020</td><td><span style=white-space:pre-wrap>PeerJ                         </span></td><td>Proximate composition, functional properties and quantitative analysis of benzoyl peroxide and benzoic acid in wheat flour samples: effect on wheat flour quality.Extensive milling processes have deprived wheat flour from essential nutrients. The objective of the current study was to assess the nutritive quality of commercial wheat flour (soft flour (SF)) through analyses of proximate composition and functional properties as well as quantification of benzoyl peroxide (BPO; added as bleaching agent in the SF) by comparing the results with whole wheat flour (WF; never received any additives). The samples included commercial SF purchased from the local supplier of different flour mills (who use BPO as additive) and a control sample without additives was prepared by grinding the seeds harvested from wheat (&lt;i&gt;Triticum aestivum&lt;/i&gt; L.; Inqulab 91) crop grown in the experimental field of University of Agriculture, Faisalabad, under optimized field conditions without any fertilizers and insecticides. Functional properties (including bulk density, water absorption capacity, oil absorption capacity, emulsifying activity, foaming capacity, least gelatinization concentration and gelatinization temperature) and proximate composition (including moisture content, ash contents, crude protein, gluten and starch contents) were determined and compared for all the samples. Benzoyl peroxide (BPO) and Benzoic Acid (BA) quantification was performed through High Performance Liquid Chromatography. Finally dietary intake was estimated for BPO and BA. Results showed that SF had lesser fiber, protein and ash contents, whereas, higher damaged starch, fat, gluten and bulk density. A parallel experiment under selected conditions (temperature, time and solute concentration) showed dissociation of BPO into BA soon after the exposure. Observed BA range (13.77 mg/g after 16 h) in SF and exposure level assessment (44.3 ± 1.36 mg/kg/BW) showed higher intake of BA on the consumption of SF. The results revealed the superiority of WF over SF in nutritive qualities as well as free of toxicants such as BA. </td></tr>\n",
       "\t<tr><th scope=row>2</th><td>32231040</td><td><span style=white-space:pre-wrap>Determination of Glyphosate in Dried Wheat by &lt;sup&gt;1&lt;/sup&gt;H-NMR Spectroscopy.                                                                                     </span></td><td><span style=white-space:pre-wrap>A wheat field was sprayed with a dosage of 1.1 kg a.i./ha Roundup PowerMax 10 days before harvest. The &lt;sup&gt;1&lt;/sup&gt;H Nuclear Magnetic Resonance (NMR) spectroscopy was used for the detection and quantification of the glyphosate (GLYP) in dried wheat spikelets, leaves, and stems. The quantification was done by the integration of the CH&lt;sub&gt;2&lt;/sub&gt;-P groups doublet at 3.00 ppm with good linearity. The GLYP content varied between different samples and parts of the plant. On average, the largest content of herbicide was found in leaves (20.0 mg/kg), followed by stems (6.4 mg/kg) and spikelets (6.3 mg/kg). Our study shows that the &lt;sup&gt;1&lt;/sup&gt;H-NMR spectroscopy can be a rapid and reliable tool for GLYP detection and quantification in the field studies.                                                                                                                                                                                                                                                                                                                                                                                                                                                                                                                                                                                                                                                                                                                                                                                                                                                                                                                                                                                                                                                                                                                                                                                                                               </span></td><td>2020</td><td>Molecules (Basel, Switzerland)</td><td><span style=white-space:pre-wrap>Determination of Glyphosate in Dried Wheat by &lt;sup&gt;1&lt;/sup&gt;H-NMR Spectroscopy.A wheat field was sprayed with a dosage of 1.1 kg a.i./ha Roundup PowerMax 10 days before harvest. The &lt;sup&gt;1&lt;/sup&gt;H Nuclear Magnetic Resonance (NMR) spectroscopy was used for the detection and quantification of the glyphosate (GLYP) in dried wheat spikelets, leaves, and stems. The quantification was done by the integration of the CH&lt;sub&gt;2&lt;/sub&gt;-P groups doublet at 3.00 ppm with good linearity. The GLYP content varied between different samples and parts of the plant. On average, the largest content of herbicide was found in leaves (20.0 mg/kg), followed by stems (6.4 mg/kg) and spikelets (6.3 mg/kg). Our study shows that the &lt;sup&gt;1&lt;/sup&gt;H-NMR spectroscopy can be a rapid and reliable tool for GLYP detection and quantification in the field studies.                                                                                                                                                                                                                                                                                                                                                                                                                                                                                                                                                                                                                                                                                                                                                                                                                                                                                                                                                                                                                                                                                                                                                                                                                                                                                                                     </span></td></tr>\n",
       "\t<tr><th scope=row>3</th><td>32230597</td><td>Review of the genus Eurygaster (Hemiptera: Heteroptera: Scutelleridae) of Russia.                                                                                 </td><td>Six species of the genus Eurygaster Laporte, 1833 are currently recorded from the territory of the Russian Federation including Eurygaster integriceps Puton, 1881, the most important pest of wheat in Russia. Determination of Eurygaster spp. to the species level remains challenging especially in the case of closely related E. integriceps, E. maura (Linnaeus, 1758), and E. testudinaria (Geoffroy, 1785). This often leads to errors in identification of these species and provides incorrect information for plant protection services. Additional features for more precise identification are discussed and a key to all species of the genus Eurygaster of Russia is provided. The key is backed up with short diagnoses of every species, original color photographs and summarized data on the distribution. Taxonomic status of E. testudinaria sinica Walker, 1867 is discussed and E. testudinaria sinica Walker, 1867 is synonymized with the nominative subspecies. Also, a key to all seven genera of Scutelleridae known from Russia is given.                                                                                                                                                                                                                                                                                                                                                                                                                                                                                                                                                                                                                                                                                                                                                                                                                                                                                                                                            </td><td>2020</td><td>Zootaxa                       </td><td>Review of the genus Eurygaster (Hemiptera: Heteroptera: Scutelleridae) of Russia.Six species of the genus Eurygaster Laporte, 1833 are currently recorded from the territory of the Russian Federation including Eurygaster integriceps Puton, 1881, the most important pest of wheat in Russia. Determination of Eurygaster spp. to the species level remains challenging especially in the case of closely related E. integriceps, E. maura (Linnaeus, 1758), and E. testudinaria (Geoffroy, 1785). This often leads to errors in identification of these species and provides incorrect information for plant protection services. Additional features for more precise identification are discussed and a key to all species of the genus Eurygaster of Russia is provided. The key is backed up with short diagnoses of every species, original color photographs and summarized data on the distribution. Taxonomic status of E. testudinaria sinica Walker, 1867 is discussed and E. testudinaria sinica Walker, 1867 is synonymized with the nominative subspecies. Also, a key to all seven genera of Scutelleridae known from Russia is given.                                                                                                                                                                                                                                                                                                                                                                                                                                                                                                                                                                                                                                                                                                                                                                                                                                                                                                                                                                                                                              </td></tr>\n",
       "\t<tr><th scope=row>4</th><td>32230394</td><td>Description of Pratylenchoides ojcowensis sp. nov. (Nematoda: Merlinidae) from Polish Jurassic Highland.                                                          </td><td>A new species of the genus Pratylenchoides has been described. It was found in Polish Jurassic Highland, in Ojców National Park. Pratylenchoides ojcowensis sp. nov. was isolated from the soil located around tangled roots of Elymus sp. and Trifolium sp. This species is marked by a conical head in both females and males which is not separated from the body contour and has with 4-5 annuli; a relatively short stylet (20.3-21.3 µm females, 17.7-20.9 µm males) with oval knobs directed posteriorly; the dorsal pharyngeal nucleus located anterior to the cardia (the subventral pharyngeal nuclei located posterior; a pharyngeal lobe of length about two body widths (1.8-2.6); a lateral field with 6 lines in the middle part of body and sometimes with partially areolated outer bands; intestinal fasciculi present; round sperm in the spermatheca in females; a female tail with a maximum of 29 annuli, and an annulated tail terminus. The status of the new species has been verifiied by DNA sequencing and phylogenetic analysis of the 28S rDNA region. The results obtained in the study indicated that P. ojcowensis sp. nov. is most related to P. alkani, P. ritteri and P. nevadensis from which is distinguished by the shape of the female head (conoid vs rounded), shorter stylet in females (20.3-21.3 µm vs 22.0-25.0 µm, 21.0-25.0 µm, 22.0-26.0 µm) and differences in 28S rDNA sequences. In addition (as per the original descriptions Yüksel 1977, Sher 1970, Talavera Tobar 1996) it is distinguished from P. alkani by smaller number of male's head annuli (4-5 vs 7-9), from P. ritteri it is distinguished by posteriorly directed stylet knobs (vs directed laterally), from P. nevadensis it is distinguished by oval and posteriorly directed stylet knobs (vs rounded and directed laterally).                                                                                                                                                               </td><td>2020</td><td>Zootaxa                       </td><td>Description of Pratylenchoides ojcowensis sp. nov. (Nematoda: Merlinidae) from Polish Jurassic Highland.A new species of the genus Pratylenchoides has been described. It was found in Polish Jurassic Highland, in Ojców National Park. Pratylenchoides ojcowensis sp. nov. was isolated from the soil located around tangled roots of Elymus sp. and Trifolium sp. This species is marked by a conical head in both females and males which is not separated from the body contour and has with 4-5 annuli; a relatively short stylet (20.3-21.3 µm females, 17.7-20.9 µm males) with oval knobs directed posteriorly; the dorsal pharyngeal nucleus located anterior to the cardia (the subventral pharyngeal nuclei located posterior; a pharyngeal lobe of length about two body widths (1.8-2.6); a lateral field with 6 lines in the middle part of body and sometimes with partially areolated outer bands; intestinal fasciculi present; round sperm in the spermatheca in females; a female tail with a maximum of 29 annuli, and an annulated tail terminus. The status of the new species has been verifiied by DNA sequencing and phylogenetic analysis of the 28S rDNA region. The results obtained in the study indicated that P. ojcowensis sp. nov. is most related to P. alkani, P. ritteri and P. nevadensis from which is distinguished by the shape of the female head (conoid vs rounded), shorter stylet in females (20.3-21.3 µm vs 22.0-25.0 µm, 21.0-25.0 µm, 22.0-26.0 µm) and differences in 28S rDNA sequences. In addition (as per the original descriptions Yüksel 1977, Sher 1970, Talavera Tobar 1996) it is distinguished from P. alkani by smaller number of male's head annuli (4-5 vs 7-9), from P. ritteri it is distinguished by posteriorly directed stylet knobs (vs directed laterally), from P. nevadensis it is distinguished by oval and posteriorly directed stylet knobs (vs rounded and directed laterally).                                                                                                                                                                                                                          </td></tr>\n",
       "\t<tr><th scope=row>5</th><td>32230099</td><td>Prionotropis xausi, a new species of Thrinchinae (Orthoptera: Pamphagidae) from Catalonia (northeast of the Iberian Peninsula).                                   </td><td>A new species of the genus Prionotropis Fieber, 1853 is described from Catalonia (Northeast of the Iberian Peninsula). Prionotropis xausi n. sp. was collected in a steppic calcareous grassland with low shrubs and scattered rocks, dominated by Buxus, Arctostaphylos uva-ursi, Thymus and Poa species. P. xausi n. sp. is characterized by the pronotum in dorsal view narrow and in lateral view with the principal transverse sulcus between prozona and metazona clearly incised. Females squamipterous with the tegmina extending at most to the end of second abdominal segment. Males sub-brachypterous with the tegmina reaching the 5th abdominal tergite and the epiproct visible. Inside hind femora at the base to the middle part and inside hind tibia red. Phallic complex with the epiphallus more long than wide with short posterior edge and the penis valves long. This new species is compared to the similar species P. rhodanica Uvarov, 1923 , P. azami Uvarov, 1923 and P. hystrix (Germar, 1817) and to the species presents in Catalonia P. flexuosa (Serville, 1838) and P. ancosae Olmo-Vidal, 2017. P. xausi is the species of the genus Prionotropis with the smallest males.                                                                                                                                                                                                                                                                                                                                                                                                                                                                                                                                                                                                                                                                                                                                                                                                    </td><td>2020</td><td>Zootaxa                       </td><td>Prionotropis xausi, a new species of Thrinchinae (Orthoptera: Pamphagidae) from Catalonia (northeast of the Iberian Peninsula).A new species of the genus Prionotropis Fieber, 1853 is described from Catalonia (Northeast of the Iberian Peninsula). Prionotropis xausi n. sp. was collected in a steppic calcareous grassland with low shrubs and scattered rocks, dominated by Buxus, Arctostaphylos uva-ursi, Thymus and Poa species. P. xausi n. sp. is characterized by the pronotum in dorsal view narrow and in lateral view with the principal transverse sulcus between prozona and metazona clearly incised. Females squamipterous with the tegmina extending at most to the end of second abdominal segment. Males sub-brachypterous with the tegmina reaching the 5th abdominal tergite and the epiproct visible. Inside hind femora at the base to the middle part and inside hind tibia red. Phallic complex with the epiphallus more long than wide with short posterior edge and the penis valves long. This new species is compared to the similar species P. rhodanica Uvarov, 1923 , P. azami Uvarov, 1923 and P. hystrix (Germar, 1817) and to the species presents in Catalonia P. flexuosa (Serville, 1838) and P. ancosae Olmo-Vidal, 2017. P. xausi is the species of the genus Prionotropis with the smallest males.                                                                                                                                                                                                                                                                                                                                                                                                                                                                                                                                                                                                                                                                                                                                                                                                                                        </td></tr>\n",
       "\t<tr><th scope=row>6</th><td>32229608</td><td>Differential effects of day-night cues and the circadian clock on the barley transcriptome.                                                                       </td><td>The circadian clock is a complex transcriptional network that regulates gene expression in anticipation of the day-night cycle and controls agronomic traits in plants. However, in crops, how the internal clock and day-night cues affect the transcriptome remains poorly understood. We analyzed the diel and circadian leaf transcriptomes in the barley (Hordeum vulgare) cultivar Bowman and derived introgression lines harboring mutations in EARLY FLOWERING 3 (ELF3), LUX ARRHYTHMO 1 (LUX1), and EARLY MATURITY 7 (EAM7). The elf3 and lux1 mutants exhibited abolished circadian transcriptome oscillations under constant conditions, whereas eam7 maintained oscillations of ≈30% of the circadian transcriptome. However, day-night cues fully restored transcript oscillations in all three mutants and thus compensated for a disrupted oscillator in the arrhythmic barley clock mutants elf3 and lux1. Nevertheless, elf3, but not lux1, affected the phase of the diel oscillating transcriptome and thus the integration of external cues into the clock. Using dynamical modeling, we predicted a structure of the barley circadian oscillator and interactions of its individual components with day-night cues. Our findings provide a valuable resource for exploring the function and output targets of the circadian clock and for further investigations into the diel and circadian control of the barley transcriptome.                                                                                                                                                                                                                                                                                                                                                                                                                                                                                                                                                             </td><td>2020</td><td>Plant physiology              </td><td>Differential effects of day-night cues and the circadian clock on the barley transcriptome.The circadian clock is a complex transcriptional network that regulates gene expression in anticipation of the day-night cycle and controls agronomic traits in plants. However, in crops, how the internal clock and day-night cues affect the transcriptome remains poorly understood. We analyzed the diel and circadian leaf transcriptomes in the barley (Hordeum vulgare) cultivar Bowman and derived introgression lines harboring mutations in EARLY FLOWERING 3 (ELF3), LUX ARRHYTHMO 1 (LUX1), and EARLY MATURITY 7 (EAM7). The elf3 and lux1 mutants exhibited abolished circadian transcriptome oscillations under constant conditions, whereas eam7 maintained oscillations of ≈30% of the circadian transcriptome. However, day-night cues fully restored transcript oscillations in all three mutants and thus compensated for a disrupted oscillator in the arrhythmic barley clock mutants elf3 and lux1. Nevertheless, elf3, but not lux1, affected the phase of the diel oscillating transcriptome and thus the integration of external cues into the clock. Using dynamical modeling, we predicted a structure of the barley circadian oscillator and interactions of its individual components with day-night cues. Our findings provide a valuable resource for exploring the function and output targets of the circadian clock and for further investigations into the diel and circadian control of the barley transcriptome.                                                                                                                                                                                                                                                                                                                                                                                                                                                                                                                                                                                                                                     </td></tr>\n",
       "</tbody>\n",
       "</table>\n"
      ],
      "text/latex": [
       "A data.frame: 6 × 6\n",
       "\\begin{tabular}{r|llllll}\n",
       "  & pmid & title & abstract & year & journal & title\\_abstract\\\\\n",
       "  & <chr> & <chr> & <chr> & <chr> & <chr> & <chr>\\\\\n",
       "\\hline\n",
       "\t1 & 32231884 & Proximate composition, functional properties and quantitative analysis of benzoyl peroxide and benzoic acid in wheat flour samples: effect on wheat flour quality. & Extensive milling processes have deprived wheat flour from essential nutrients. The objective of the current study was to assess the nutritive quality of commercial wheat flour (soft flour (SF)) through analyses of proximate composition and functional properties as well as quantification of benzoyl peroxide (BPO; added as bleaching agent in the SF) by comparing the results with whole wheat flour (WF; never received any additives). The samples included commercial SF purchased from the local supplier of different flour mills (who use BPO as additive) and a control sample without additives was prepared by grinding the seeds harvested from wheat (<i>Triticum aestivum</i> L.; Inqulab 91) crop grown in the experimental field of University of Agriculture, Faisalabad, under optimized field conditions without any fertilizers and insecticides. Functional properties (including bulk density, water absorption capacity, oil absorption capacity, emulsifying activity, foaming capacity, least gelatinization concentration and gelatinization temperature) and proximate composition (including moisture content, ash contents, crude protein, gluten and starch contents) were determined and compared for all the samples. Benzoyl peroxide (BPO) and Benzoic Acid (BA) quantification was performed through High Performance Liquid Chromatography. Finally dietary intake was estimated for BPO and BA. Results showed that SF had lesser fiber, protein and ash contents, whereas, higher damaged starch, fat, gluten and bulk density. A parallel experiment under selected conditions (temperature, time and solute concentration) showed dissociation of BPO into BA soon after the exposure. Observed BA range (13.77 mg/g after 16 h) in SF and exposure level assessment (44.3 ± 1.36 mg/kg/BW) showed higher intake of BA on the consumption of SF. The results revealed the superiority of WF over SF in nutritive qualities as well as free of toxicants such as BA. & 2020 & PeerJ                          & Proximate composition, functional properties and quantitative analysis of benzoyl peroxide and benzoic acid in wheat flour samples: effect on wheat flour quality.Extensive milling processes have deprived wheat flour from essential nutrients. The objective of the current study was to assess the nutritive quality of commercial wheat flour (soft flour (SF)) through analyses of proximate composition and functional properties as well as quantification of benzoyl peroxide (BPO; added as bleaching agent in the SF) by comparing the results with whole wheat flour (WF; never received any additives). The samples included commercial SF purchased from the local supplier of different flour mills (who use BPO as additive) and a control sample without additives was prepared by grinding the seeds harvested from wheat (<i>Triticum aestivum</i> L.; Inqulab 91) crop grown in the experimental field of University of Agriculture, Faisalabad, under optimized field conditions without any fertilizers and insecticides. Functional properties (including bulk density, water absorption capacity, oil absorption capacity, emulsifying activity, foaming capacity, least gelatinization concentration and gelatinization temperature) and proximate composition (including moisture content, ash contents, crude protein, gluten and starch contents) were determined and compared for all the samples. Benzoyl peroxide (BPO) and Benzoic Acid (BA) quantification was performed through High Performance Liquid Chromatography. Finally dietary intake was estimated for BPO and BA. Results showed that SF had lesser fiber, protein and ash contents, whereas, higher damaged starch, fat, gluten and bulk density. A parallel experiment under selected conditions (temperature, time and solute concentration) showed dissociation of BPO into BA soon after the exposure. Observed BA range (13.77 mg/g after 16 h) in SF and exposure level assessment (44.3 ± 1.36 mg/kg/BW) showed higher intake of BA on the consumption of SF. The results revealed the superiority of WF over SF in nutritive qualities as well as free of toxicants such as BA. \\\\\n",
       "\t2 & 32231040 & Determination of Glyphosate in Dried Wheat by <sup>1</sup>H-NMR Spectroscopy.                                                                                      & A wheat field was sprayed with a dosage of 1.1 kg a.i./ha Roundup PowerMax 10 days before harvest. The <sup>1</sup>H Nuclear Magnetic Resonance (NMR) spectroscopy was used for the detection and quantification of the glyphosate (GLYP) in dried wheat spikelets, leaves, and stems. The quantification was done by the integration of the CH<sub>2</sub>-P groups doublet at 3.00 ppm with good linearity. The GLYP content varied between different samples and parts of the plant. On average, the largest content of herbicide was found in leaves (20.0 mg/kg), followed by stems (6.4 mg/kg) and spikelets (6.3 mg/kg). Our study shows that the <sup>1</sup>H-NMR spectroscopy can be a rapid and reliable tool for GLYP detection and quantification in the field studies.                                                                                                                                                                                                                                                                                                                                                                                                                                                                                                                                                                                                                                                                                                                                                                                                                                                                                                                                                                                                                                                                                                                                                                                                                                & 2020 & Molecules (Basel, Switzerland) & Determination of Glyphosate in Dried Wheat by <sup>1</sup>H-NMR Spectroscopy.A wheat field was sprayed with a dosage of 1.1 kg a.i./ha Roundup PowerMax 10 days before harvest. The <sup>1</sup>H Nuclear Magnetic Resonance (NMR) spectroscopy was used for the detection and quantification of the glyphosate (GLYP) in dried wheat spikelets, leaves, and stems. The quantification was done by the integration of the CH<sub>2</sub>-P groups doublet at 3.00 ppm with good linearity. The GLYP content varied between different samples and parts of the plant. On average, the largest content of herbicide was found in leaves (20.0 mg/kg), followed by stems (6.4 mg/kg) and spikelets (6.3 mg/kg). Our study shows that the <sup>1</sup>H-NMR spectroscopy can be a rapid and reliable tool for GLYP detection and quantification in the field studies.                                                                                                                                                                                                                                                                                                                                                                                                                                                                                                                                                                                                                                                                                                                                                                                                                                                                                                                                                                                                                                                                                                                                                                                                                                                                                                                     \\\\\n",
       "\t3 & 32230597 & Review of the genus Eurygaster (Hemiptera: Heteroptera: Scutelleridae) of Russia.                                                                                  & Six species of the genus Eurygaster Laporte, 1833 are currently recorded from the territory of the Russian Federation including Eurygaster integriceps Puton, 1881, the most important pest of wheat in Russia. Determination of Eurygaster spp. to the species level remains challenging especially in the case of closely related E. integriceps, E. maura (Linnaeus, 1758), and E. testudinaria (Geoffroy, 1785). This often leads to errors in identification of these species and provides incorrect information for plant protection services. Additional features for more precise identification are discussed and a key to all species of the genus Eurygaster of Russia is provided. The key is backed up with short diagnoses of every species, original color photographs and summarized data on the distribution. Taxonomic status of E. testudinaria sinica Walker, 1867 is discussed and E. testudinaria sinica Walker, 1867 is synonymized with the nominative subspecies. Also, a key to all seven genera of Scutelleridae known from Russia is given.                                                                                                                                                                                                                                                                                                                                                                                                                                                                                                                                                                                                                                                                                                                                                                                                                                                                                                                                             & 2020 & Zootaxa                        & Review of the genus Eurygaster (Hemiptera: Heteroptera: Scutelleridae) of Russia.Six species of the genus Eurygaster Laporte, 1833 are currently recorded from the territory of the Russian Federation including Eurygaster integriceps Puton, 1881, the most important pest of wheat in Russia. Determination of Eurygaster spp. to the species level remains challenging especially in the case of closely related E. integriceps, E. maura (Linnaeus, 1758), and E. testudinaria (Geoffroy, 1785). This often leads to errors in identification of these species and provides incorrect information for plant protection services. Additional features for more precise identification are discussed and a key to all species of the genus Eurygaster of Russia is provided. The key is backed up with short diagnoses of every species, original color photographs and summarized data on the distribution. Taxonomic status of E. testudinaria sinica Walker, 1867 is discussed and E. testudinaria sinica Walker, 1867 is synonymized with the nominative subspecies. Also, a key to all seven genera of Scutelleridae known from Russia is given.                                                                                                                                                                                                                                                                                                                                                                                                                                                                                                                                                                                                                                                                                                                                                                                                                                                                                                                                                                                                                              \\\\\n",
       "\t4 & 32230394 & Description of Pratylenchoides ojcowensis sp. nov. (Nematoda: Merlinidae) from Polish Jurassic Highland.                                                           & A new species of the genus Pratylenchoides has been described. It was found in Polish Jurassic Highland, in Ojców National Park. Pratylenchoides ojcowensis sp. nov. was isolated from the soil located around tangled roots of Elymus sp. and Trifolium sp. This species is marked by a conical head in both females and males which is not separated from the body contour and has with 4-5 annuli; a relatively short stylet (20.3-21.3 µm females, 17.7-20.9 µm males) with oval knobs directed posteriorly; the dorsal pharyngeal nucleus located anterior to the cardia (the subventral pharyngeal nuclei located posterior; a pharyngeal lobe of length about two body widths (1.8-2.6); a lateral field with 6 lines in the middle part of body and sometimes with partially areolated outer bands; intestinal fasciculi present; round sperm in the spermatheca in females; a female tail with a maximum of 29 annuli, and an annulated tail terminus. The status of the new species has been verifiied by DNA sequencing and phylogenetic analysis of the 28S rDNA region. The results obtained in the study indicated that P. ojcowensis sp. nov. is most related to P. alkani, P. ritteri and P. nevadensis from which is distinguished by the shape of the female head (conoid vs rounded), shorter stylet in females (20.3-21.3 µm vs 22.0-25.0 µm, 21.0-25.0 µm, 22.0-26.0 µm) and differences in 28S rDNA sequences. In addition (as per the original descriptions Yüksel 1977, Sher 1970, Talavera Tobar 1996) it is distinguished from P. alkani by smaller number of male's head annuli (4-5 vs 7-9), from P. ritteri it is distinguished by posteriorly directed stylet knobs (vs directed laterally), from P. nevadensis it is distinguished by oval and posteriorly directed stylet knobs (vs rounded and directed laterally).                                                                                                                                                                & 2020 & Zootaxa                        & Description of Pratylenchoides ojcowensis sp. nov. (Nematoda: Merlinidae) from Polish Jurassic Highland.A new species of the genus Pratylenchoides has been described. It was found in Polish Jurassic Highland, in Ojców National Park. Pratylenchoides ojcowensis sp. nov. was isolated from the soil located around tangled roots of Elymus sp. and Trifolium sp. This species is marked by a conical head in both females and males which is not separated from the body contour and has with 4-5 annuli; a relatively short stylet (20.3-21.3 µm females, 17.7-20.9 µm males) with oval knobs directed posteriorly; the dorsal pharyngeal nucleus located anterior to the cardia (the subventral pharyngeal nuclei located posterior; a pharyngeal lobe of length about two body widths (1.8-2.6); a lateral field with 6 lines in the middle part of body and sometimes with partially areolated outer bands; intestinal fasciculi present; round sperm in the spermatheca in females; a female tail with a maximum of 29 annuli, and an annulated tail terminus. The status of the new species has been verifiied by DNA sequencing and phylogenetic analysis of the 28S rDNA region. The results obtained in the study indicated that P. ojcowensis sp. nov. is most related to P. alkani, P. ritteri and P. nevadensis from which is distinguished by the shape of the female head (conoid vs rounded), shorter stylet in females (20.3-21.3 µm vs 22.0-25.0 µm, 21.0-25.0 µm, 22.0-26.0 µm) and differences in 28S rDNA sequences. In addition (as per the original descriptions Yüksel 1977, Sher 1970, Talavera Tobar 1996) it is distinguished from P. alkani by smaller number of male's head annuli (4-5 vs 7-9), from P. ritteri it is distinguished by posteriorly directed stylet knobs (vs directed laterally), from P. nevadensis it is distinguished by oval and posteriorly directed stylet knobs (vs rounded and directed laterally).                                                                                                                                                                                                                          \\\\\n",
       "\t5 & 32230099 & Prionotropis xausi, a new species of Thrinchinae (Orthoptera: Pamphagidae) from Catalonia (northeast of the Iberian Peninsula).                                    & A new species of the genus Prionotropis Fieber, 1853 is described from Catalonia (Northeast of the Iberian Peninsula). Prionotropis xausi n. sp. was collected in a steppic calcareous grassland with low shrubs and scattered rocks, dominated by Buxus, Arctostaphylos uva-ursi, Thymus and Poa species. P. xausi n. sp. is characterized by the pronotum in dorsal view narrow and in lateral view with the principal transverse sulcus between prozona and metazona clearly incised. Females squamipterous with the tegmina extending at most to the end of second abdominal segment. Males sub-brachypterous with the tegmina reaching the 5th abdominal tergite and the epiproct visible. Inside hind femora at the base to the middle part and inside hind tibia red. Phallic complex with the epiphallus more long than wide with short posterior edge and the penis valves long. This new species is compared to the similar species P. rhodanica Uvarov, 1923 , P. azami Uvarov, 1923 and P. hystrix (Germar, 1817) and to the species presents in Catalonia P. flexuosa (Serville, 1838) and P. ancosae Olmo-Vidal, 2017. P. xausi is the species of the genus Prionotropis with the smallest males.                                                                                                                                                                                                                                                                                                                                                                                                                                                                                                                                                                                                                                                                                                                                                                                                     & 2020 & Zootaxa                        & Prionotropis xausi, a new species of Thrinchinae (Orthoptera: Pamphagidae) from Catalonia (northeast of the Iberian Peninsula).A new species of the genus Prionotropis Fieber, 1853 is described from Catalonia (Northeast of the Iberian Peninsula). Prionotropis xausi n. sp. was collected in a steppic calcareous grassland with low shrubs and scattered rocks, dominated by Buxus, Arctostaphylos uva-ursi, Thymus and Poa species. P. xausi n. sp. is characterized by the pronotum in dorsal view narrow and in lateral view with the principal transverse sulcus between prozona and metazona clearly incised. Females squamipterous with the tegmina extending at most to the end of second abdominal segment. Males sub-brachypterous with the tegmina reaching the 5th abdominal tergite and the epiproct visible. Inside hind femora at the base to the middle part and inside hind tibia red. Phallic complex with the epiphallus more long than wide with short posterior edge and the penis valves long. This new species is compared to the similar species P. rhodanica Uvarov, 1923 , P. azami Uvarov, 1923 and P. hystrix (Germar, 1817) and to the species presents in Catalonia P. flexuosa (Serville, 1838) and P. ancosae Olmo-Vidal, 2017. P. xausi is the species of the genus Prionotropis with the smallest males.                                                                                                                                                                                                                                                                                                                                                                                                                                                                                                                                                                                                                                                                                                                                                                                                                                        \\\\\n",
       "\t6 & 32229608 & Differential effects of day-night cues and the circadian clock on the barley transcriptome.                                                                        & The circadian clock is a complex transcriptional network that regulates gene expression in anticipation of the day-night cycle and controls agronomic traits in plants. However, in crops, how the internal clock and day-night cues affect the transcriptome remains poorly understood. We analyzed the diel and circadian leaf transcriptomes in the barley (Hordeum vulgare) cultivar Bowman and derived introgression lines harboring mutations in EARLY FLOWERING 3 (ELF3), LUX ARRHYTHMO 1 (LUX1), and EARLY MATURITY 7 (EAM7). The elf3 and lux1 mutants exhibited abolished circadian transcriptome oscillations under constant conditions, whereas eam7 maintained oscillations of ≈30\\% of the circadian transcriptome. However, day-night cues fully restored transcript oscillations in all three mutants and thus compensated for a disrupted oscillator in the arrhythmic barley clock mutants elf3 and lux1. Nevertheless, elf3, but not lux1, affected the phase of the diel oscillating transcriptome and thus the integration of external cues into the clock. Using dynamical modeling, we predicted a structure of the barley circadian oscillator and interactions of its individual components with day-night cues. Our findings provide a valuable resource for exploring the function and output targets of the circadian clock and for further investigations into the diel and circadian control of the barley transcriptome.                                                                                                                                                                                                                                                                                                                                                                                                                                                                                                                                                              & 2020 & Plant physiology               & Differential effects of day-night cues and the circadian clock on the barley transcriptome.The circadian clock is a complex transcriptional network that regulates gene expression in anticipation of the day-night cycle and controls agronomic traits in plants. However, in crops, how the internal clock and day-night cues affect the transcriptome remains poorly understood. We analyzed the diel and circadian leaf transcriptomes in the barley (Hordeum vulgare) cultivar Bowman and derived introgression lines harboring mutations in EARLY FLOWERING 3 (ELF3), LUX ARRHYTHMO 1 (LUX1), and EARLY MATURITY 7 (EAM7). The elf3 and lux1 mutants exhibited abolished circadian transcriptome oscillations under constant conditions, whereas eam7 maintained oscillations of ≈30\\% of the circadian transcriptome. However, day-night cues fully restored transcript oscillations in all three mutants and thus compensated for a disrupted oscillator in the arrhythmic barley clock mutants elf3 and lux1. Nevertheless, elf3, but not lux1, affected the phase of the diel oscillating transcriptome and thus the integration of external cues into the clock. Using dynamical modeling, we predicted a structure of the barley circadian oscillator and interactions of its individual components with day-night cues. Our findings provide a valuable resource for exploring the function and output targets of the circadian clock and for further investigations into the diel and circadian control of the barley transcriptome.                                                                                                                                                                                                                                                                                                                                                                                                                                                                                                                                                                                                                                     \\\\\n",
       "\\end{tabular}\n"
      ],
      "text/markdown": [
       "\n",
       "A data.frame: 6 × 6\n",
       "\n",
       "| <!--/--> | pmid &lt;chr&gt; | title &lt;chr&gt; | abstract &lt;chr&gt; | year &lt;chr&gt; | journal &lt;chr&gt; | title_abstract &lt;chr&gt; |\n",
       "|---|---|---|---|---|---|---|\n",
       "| 1 | 32231884 | Proximate composition, functional properties and quantitative analysis of benzoyl peroxide and benzoic acid in wheat flour samples: effect on wheat flour quality. | Extensive milling processes have deprived wheat flour from essential nutrients. The objective of the current study was to assess the nutritive quality of commercial wheat flour (soft flour (SF)) through analyses of proximate composition and functional properties as well as quantification of benzoyl peroxide (BPO; added as bleaching agent in the SF) by comparing the results with whole wheat flour (WF; never received any additives). The samples included commercial SF purchased from the local supplier of different flour mills (who use BPO as additive) and a control sample without additives was prepared by grinding the seeds harvested from wheat (&lt;i&gt;Triticum aestivum&lt;/i&gt; L.; Inqulab 91) crop grown in the experimental field of University of Agriculture, Faisalabad, under optimized field conditions without any fertilizers and insecticides. Functional properties (including bulk density, water absorption capacity, oil absorption capacity, emulsifying activity, foaming capacity, least gelatinization concentration and gelatinization temperature) and proximate composition (including moisture content, ash contents, crude protein, gluten and starch contents) were determined and compared for all the samples. Benzoyl peroxide (BPO) and Benzoic Acid (BA) quantification was performed through High Performance Liquid Chromatography. Finally dietary intake was estimated for BPO and BA. Results showed that SF had lesser fiber, protein and ash contents, whereas, higher damaged starch, fat, gluten and bulk density. A parallel experiment under selected conditions (temperature, time and solute concentration) showed dissociation of BPO into BA soon after the exposure. Observed BA range (13.77 mg/g after 16 h) in SF and exposure level assessment (44.3 ± 1.36 mg/kg/BW) showed higher intake of BA on the consumption of SF. The results revealed the superiority of WF over SF in nutritive qualities as well as free of toxicants such as BA. | 2020 | PeerJ                          | Proximate composition, functional properties and quantitative analysis of benzoyl peroxide and benzoic acid in wheat flour samples: effect on wheat flour quality.Extensive milling processes have deprived wheat flour from essential nutrients. The objective of the current study was to assess the nutritive quality of commercial wheat flour (soft flour (SF)) through analyses of proximate composition and functional properties as well as quantification of benzoyl peroxide (BPO; added as bleaching agent in the SF) by comparing the results with whole wheat flour (WF; never received any additives). The samples included commercial SF purchased from the local supplier of different flour mills (who use BPO as additive) and a control sample without additives was prepared by grinding the seeds harvested from wheat (&lt;i&gt;Triticum aestivum&lt;/i&gt; L.; Inqulab 91) crop grown in the experimental field of University of Agriculture, Faisalabad, under optimized field conditions without any fertilizers and insecticides. Functional properties (including bulk density, water absorption capacity, oil absorption capacity, emulsifying activity, foaming capacity, least gelatinization concentration and gelatinization temperature) and proximate composition (including moisture content, ash contents, crude protein, gluten and starch contents) were determined and compared for all the samples. Benzoyl peroxide (BPO) and Benzoic Acid (BA) quantification was performed through High Performance Liquid Chromatography. Finally dietary intake was estimated for BPO and BA. Results showed that SF had lesser fiber, protein and ash contents, whereas, higher damaged starch, fat, gluten and bulk density. A parallel experiment under selected conditions (temperature, time and solute concentration) showed dissociation of BPO into BA soon after the exposure. Observed BA range (13.77 mg/g after 16 h) in SF and exposure level assessment (44.3 ± 1.36 mg/kg/BW) showed higher intake of BA on the consumption of SF. The results revealed the superiority of WF over SF in nutritive qualities as well as free of toxicants such as BA.  |\n",
       "| 2 | 32231040 | Determination of Glyphosate in Dried Wheat by &lt;sup&gt;1&lt;/sup&gt;H-NMR Spectroscopy.                                                                                      | A wheat field was sprayed with a dosage of 1.1 kg a.i./ha Roundup PowerMax 10 days before harvest. The &lt;sup&gt;1&lt;/sup&gt;H Nuclear Magnetic Resonance (NMR) spectroscopy was used for the detection and quantification of the glyphosate (GLYP) in dried wheat spikelets, leaves, and stems. The quantification was done by the integration of the CH&lt;sub&gt;2&lt;/sub&gt;-P groups doublet at 3.00 ppm with good linearity. The GLYP content varied between different samples and parts of the plant. On average, the largest content of herbicide was found in leaves (20.0 mg/kg), followed by stems (6.4 mg/kg) and spikelets (6.3 mg/kg). Our study shows that the &lt;sup&gt;1&lt;/sup&gt;H-NMR spectroscopy can be a rapid and reliable tool for GLYP detection and quantification in the field studies.                                                                                                                                                                                                                                                                                                                                                                                                                                                                                                                                                                                                                                                                                                                                                                                                                                                                                                                                                                                                                                                                                                                                                                                                                                | 2020 | Molecules (Basel, Switzerland) | Determination of Glyphosate in Dried Wheat by &lt;sup&gt;1&lt;/sup&gt;H-NMR Spectroscopy.A wheat field was sprayed with a dosage of 1.1 kg a.i./ha Roundup PowerMax 10 days before harvest. The &lt;sup&gt;1&lt;/sup&gt;H Nuclear Magnetic Resonance (NMR) spectroscopy was used for the detection and quantification of the glyphosate (GLYP) in dried wheat spikelets, leaves, and stems. The quantification was done by the integration of the CH&lt;sub&gt;2&lt;/sub&gt;-P groups doublet at 3.00 ppm with good linearity. The GLYP content varied between different samples and parts of the plant. On average, the largest content of herbicide was found in leaves (20.0 mg/kg), followed by stems (6.4 mg/kg) and spikelets (6.3 mg/kg). Our study shows that the &lt;sup&gt;1&lt;/sup&gt;H-NMR spectroscopy can be a rapid and reliable tool for GLYP detection and quantification in the field studies.                                                                                                                                                                                                                                                                                                                                                                                                                                                                                                                                                                                                                                                                                                                                                                                                                                                                                                                                                                                                                                                                                                                                                                                                                                                                                                                      |\n",
       "| 3 | 32230597 | Review of the genus Eurygaster (Hemiptera: Heteroptera: Scutelleridae) of Russia.                                                                                  | Six species of the genus Eurygaster Laporte, 1833 are currently recorded from the territory of the Russian Federation including Eurygaster integriceps Puton, 1881, the most important pest of wheat in Russia. Determination of Eurygaster spp. to the species level remains challenging especially in the case of closely related E. integriceps, E. maura (Linnaeus, 1758), and E. testudinaria (Geoffroy, 1785). This often leads to errors in identification of these species and provides incorrect information for plant protection services. Additional features for more precise identification are discussed and a key to all species of the genus Eurygaster of Russia is provided. The key is backed up with short diagnoses of every species, original color photographs and summarized data on the distribution. Taxonomic status of E. testudinaria sinica Walker, 1867 is discussed and E. testudinaria sinica Walker, 1867 is synonymized with the nominative subspecies. Also, a key to all seven genera of Scutelleridae known from Russia is given.                                                                                                                                                                                                                                                                                                                                                                                                                                                                                                                                                                                                                                                                                                                                                                                                                                                                                                                                             | 2020 | Zootaxa                        | Review of the genus Eurygaster (Hemiptera: Heteroptera: Scutelleridae) of Russia.Six species of the genus Eurygaster Laporte, 1833 are currently recorded from the territory of the Russian Federation including Eurygaster integriceps Puton, 1881, the most important pest of wheat in Russia. Determination of Eurygaster spp. to the species level remains challenging especially in the case of closely related E. integriceps, E. maura (Linnaeus, 1758), and E. testudinaria (Geoffroy, 1785). This often leads to errors in identification of these species and provides incorrect information for plant protection services. Additional features for more precise identification are discussed and a key to all species of the genus Eurygaster of Russia is provided. The key is backed up with short diagnoses of every species, original color photographs and summarized data on the distribution. Taxonomic status of E. testudinaria sinica Walker, 1867 is discussed and E. testudinaria sinica Walker, 1867 is synonymized with the nominative subspecies. Also, a key to all seven genera of Scutelleridae known from Russia is given.                                                                                                                                                                                                                                                                                                                                                                                                                                                                                                                                                                                                                                                                                                                                                                                                                                                                                                                                                                                                                               |\n",
       "| 4 | 32230394 | Description of Pratylenchoides ojcowensis sp. nov. (Nematoda: Merlinidae) from Polish Jurassic Highland.                                                           | A new species of the genus Pratylenchoides has been described. It was found in Polish Jurassic Highland, in Ojców National Park. Pratylenchoides ojcowensis sp. nov. was isolated from the soil located around tangled roots of Elymus sp. and Trifolium sp. This species is marked by a conical head in both females and males which is not separated from the body contour and has with 4-5 annuli; a relatively short stylet (20.3-21.3 µm females, 17.7-20.9 µm males) with oval knobs directed posteriorly; the dorsal pharyngeal nucleus located anterior to the cardia (the subventral pharyngeal nuclei located posterior; a pharyngeal lobe of length about two body widths (1.8-2.6); a lateral field with 6 lines in the middle part of body and sometimes with partially areolated outer bands; intestinal fasciculi present; round sperm in the spermatheca in females; a female tail with a maximum of 29 annuli, and an annulated tail terminus. The status of the new species has been verifiied by DNA sequencing and phylogenetic analysis of the 28S rDNA region. The results obtained in the study indicated that P. ojcowensis sp. nov. is most related to P. alkani, P. ritteri and P. nevadensis from which is distinguished by the shape of the female head (conoid vs rounded), shorter stylet in females (20.3-21.3 µm vs 22.0-25.0 µm, 21.0-25.0 µm, 22.0-26.0 µm) and differences in 28S rDNA sequences. In addition (as per the original descriptions Yüksel 1977, Sher 1970, Talavera Tobar 1996) it is distinguished from P. alkani by smaller number of male's head annuli (4-5 vs 7-9), from P. ritteri it is distinguished by posteriorly directed stylet knobs (vs directed laterally), from P. nevadensis it is distinguished by oval and posteriorly directed stylet knobs (vs rounded and directed laterally).                                                                                                                                                                | 2020 | Zootaxa                        | Description of Pratylenchoides ojcowensis sp. nov. (Nematoda: Merlinidae) from Polish Jurassic Highland.A new species of the genus Pratylenchoides has been described. It was found in Polish Jurassic Highland, in Ojców National Park. Pratylenchoides ojcowensis sp. nov. was isolated from the soil located around tangled roots of Elymus sp. and Trifolium sp. This species is marked by a conical head in both females and males which is not separated from the body contour and has with 4-5 annuli; a relatively short stylet (20.3-21.3 µm females, 17.7-20.9 µm males) with oval knobs directed posteriorly; the dorsal pharyngeal nucleus located anterior to the cardia (the subventral pharyngeal nuclei located posterior; a pharyngeal lobe of length about two body widths (1.8-2.6); a lateral field with 6 lines in the middle part of body and sometimes with partially areolated outer bands; intestinal fasciculi present; round sperm in the spermatheca in females; a female tail with a maximum of 29 annuli, and an annulated tail terminus. The status of the new species has been verifiied by DNA sequencing and phylogenetic analysis of the 28S rDNA region. The results obtained in the study indicated that P. ojcowensis sp. nov. is most related to P. alkani, P. ritteri and P. nevadensis from which is distinguished by the shape of the female head (conoid vs rounded), shorter stylet in females (20.3-21.3 µm vs 22.0-25.0 µm, 21.0-25.0 µm, 22.0-26.0 µm) and differences in 28S rDNA sequences. In addition (as per the original descriptions Yüksel 1977, Sher 1970, Talavera Tobar 1996) it is distinguished from P. alkani by smaller number of male's head annuli (4-5 vs 7-9), from P. ritteri it is distinguished by posteriorly directed stylet knobs (vs directed laterally), from P. nevadensis it is distinguished by oval and posteriorly directed stylet knobs (vs rounded and directed laterally).                                                                                                                                                                                                                           |\n",
       "| 5 | 32230099 | Prionotropis xausi, a new species of Thrinchinae (Orthoptera: Pamphagidae) from Catalonia (northeast of the Iberian Peninsula).                                    | A new species of the genus Prionotropis Fieber, 1853 is described from Catalonia (Northeast of the Iberian Peninsula). Prionotropis xausi n. sp. was collected in a steppic calcareous grassland with low shrubs and scattered rocks, dominated by Buxus, Arctostaphylos uva-ursi, Thymus and Poa species. P. xausi n. sp. is characterized by the pronotum in dorsal view narrow and in lateral view with the principal transverse sulcus between prozona and metazona clearly incised. Females squamipterous with the tegmina extending at most to the end of second abdominal segment. Males sub-brachypterous with the tegmina reaching the 5th abdominal tergite and the epiproct visible. Inside hind femora at the base to the middle part and inside hind tibia red. Phallic complex with the epiphallus more long than wide with short posterior edge and the penis valves long. This new species is compared to the similar species P. rhodanica Uvarov, 1923 , P. azami Uvarov, 1923 and P. hystrix (Germar, 1817) and to the species presents in Catalonia P. flexuosa (Serville, 1838) and P. ancosae Olmo-Vidal, 2017. P. xausi is the species of the genus Prionotropis with the smallest males.                                                                                                                                                                                                                                                                                                                                                                                                                                                                                                                                                                                                                                                                                                                                                                                                     | 2020 | Zootaxa                        | Prionotropis xausi, a new species of Thrinchinae (Orthoptera: Pamphagidae) from Catalonia (northeast of the Iberian Peninsula).A new species of the genus Prionotropis Fieber, 1853 is described from Catalonia (Northeast of the Iberian Peninsula). Prionotropis xausi n. sp. was collected in a steppic calcareous grassland with low shrubs and scattered rocks, dominated by Buxus, Arctostaphylos uva-ursi, Thymus and Poa species. P. xausi n. sp. is characterized by the pronotum in dorsal view narrow and in lateral view with the principal transverse sulcus between prozona and metazona clearly incised. Females squamipterous with the tegmina extending at most to the end of second abdominal segment. Males sub-brachypterous with the tegmina reaching the 5th abdominal tergite and the epiproct visible. Inside hind femora at the base to the middle part and inside hind tibia red. Phallic complex with the epiphallus more long than wide with short posterior edge and the penis valves long. This new species is compared to the similar species P. rhodanica Uvarov, 1923 , P. azami Uvarov, 1923 and P. hystrix (Germar, 1817) and to the species presents in Catalonia P. flexuosa (Serville, 1838) and P. ancosae Olmo-Vidal, 2017. P. xausi is the species of the genus Prionotropis with the smallest males.                                                                                                                                                                                                                                                                                                                                                                                                                                                                                                                                                                                                                                                                                                                                                                                                                                         |\n",
       "| 6 | 32229608 | Differential effects of day-night cues and the circadian clock on the barley transcriptome.                                                                        | The circadian clock is a complex transcriptional network that regulates gene expression in anticipation of the day-night cycle and controls agronomic traits in plants. However, in crops, how the internal clock and day-night cues affect the transcriptome remains poorly understood. We analyzed the diel and circadian leaf transcriptomes in the barley (Hordeum vulgare) cultivar Bowman and derived introgression lines harboring mutations in EARLY FLOWERING 3 (ELF3), LUX ARRHYTHMO 1 (LUX1), and EARLY MATURITY 7 (EAM7). The elf3 and lux1 mutants exhibited abolished circadian transcriptome oscillations under constant conditions, whereas eam7 maintained oscillations of ≈30% of the circadian transcriptome. However, day-night cues fully restored transcript oscillations in all three mutants and thus compensated for a disrupted oscillator in the arrhythmic barley clock mutants elf3 and lux1. Nevertheless, elf3, but not lux1, affected the phase of the diel oscillating transcriptome and thus the integration of external cues into the clock. Using dynamical modeling, we predicted a structure of the barley circadian oscillator and interactions of its individual components with day-night cues. Our findings provide a valuable resource for exploring the function and output targets of the circadian clock and for further investigations into the diel and circadian control of the barley transcriptome.                                                                                                                                                                                                                                                                                                                                                                                                                                                                                                                                                              | 2020 | Plant physiology               | Differential effects of day-night cues and the circadian clock on the barley transcriptome.The circadian clock is a complex transcriptional network that regulates gene expression in anticipation of the day-night cycle and controls agronomic traits in plants. However, in crops, how the internal clock and day-night cues affect the transcriptome remains poorly understood. We analyzed the diel and circadian leaf transcriptomes in the barley (Hordeum vulgare) cultivar Bowman and derived introgression lines harboring mutations in EARLY FLOWERING 3 (ELF3), LUX ARRHYTHMO 1 (LUX1), and EARLY MATURITY 7 (EAM7). The elf3 and lux1 mutants exhibited abolished circadian transcriptome oscillations under constant conditions, whereas eam7 maintained oscillations of ≈30% of the circadian transcriptome. However, day-night cues fully restored transcript oscillations in all three mutants and thus compensated for a disrupted oscillator in the arrhythmic barley clock mutants elf3 and lux1. Nevertheless, elf3, but not lux1, affected the phase of the diel oscillating transcriptome and thus the integration of external cues into the clock. Using dynamical modeling, we predicted a structure of the barley circadian oscillator and interactions of its individual components with day-night cues. Our findings provide a valuable resource for exploring the function and output targets of the circadian clock and for further investigations into the diel and circadian control of the barley transcriptome.                                                                                                                                                                                                                                                                                                                                                                                                                                                                                                                                                                                                                                      |\n",
       "\n"
      ],
      "text/plain": [
       "  pmid    \n",
       "1 32231884\n",
       "2 32231040\n",
       "3 32230597\n",
       "4 32230394\n",
       "5 32230099\n",
       "6 32229608\n",
       "  title                                                                                                                                                             \n",
       "1 Proximate composition, functional properties and quantitative analysis of benzoyl peroxide and benzoic acid in wheat flour samples: effect on wheat flour quality.\n",
       "2 Determination of Glyphosate in Dried Wheat by <sup>1</sup>H-NMR Spectroscopy.                                                                                     \n",
       "3 Review of the genus Eurygaster (Hemiptera: Heteroptera: Scutelleridae) of Russia.                                                                                 \n",
       "4 Description of Pratylenchoides ojcowensis sp. nov. (Nematoda: Merlinidae) from Polish Jurassic Highland.                                                          \n",
       "5 Prionotropis xausi, a new species of Thrinchinae (Orthoptera: Pamphagidae) from Catalonia (northeast of the Iberian Peninsula).                                   \n",
       "6 Differential effects of day-night cues and the circadian clock on the barley transcriptome.                                                                       \n",
       "  abstract                                                                                                                                                                                                                                                                                                                                                                                                                                                                                                                                                                                                                                                                                                                                                                                                                                                                                                                                                                                                                                                                                                                                                                                                                                                                                                                                                                                                                                                                                                                                                                                                                                                                                                                                                                                                                                                                                                                                                                                                           \n",
       "1 Extensive milling processes have deprived wheat flour from essential nutrients. The objective of the current study was to assess the nutritive quality of commercial wheat flour (soft flour (SF)) through analyses of proximate composition and functional properties as well as quantification of benzoyl peroxide (BPO; added as bleaching agent in the SF) by comparing the results with whole wheat flour (WF; never received any additives). The samples included commercial SF purchased from the local supplier of different flour mills (who use BPO as additive) and a control sample without additives was prepared by grinding the seeds harvested from wheat (<i>Triticum aestivum</i> L.; Inqulab 91) crop grown in the experimental field of University of Agriculture, Faisalabad, under optimized field conditions without any fertilizers and insecticides. Functional properties (including bulk density, water absorption capacity, oil absorption capacity, emulsifying activity, foaming capacity, least gelatinization concentration and gelatinization temperature) and proximate composition (including moisture content, ash contents, crude protein, gluten and starch contents) were determined and compared for all the samples. Benzoyl peroxide (BPO) and Benzoic Acid (BA) quantification was performed through High Performance Liquid Chromatography. Finally dietary intake was estimated for BPO and BA. Results showed that SF had lesser fiber, protein and ash contents, whereas, higher damaged starch, fat, gluten and bulk density. A parallel experiment under selected conditions (temperature, time and solute concentration) showed dissociation of BPO into BA soon after the exposure. Observed BA range (13.77 mg/g after 16 h) in SF and exposure level assessment (44.3 ± 1.36 mg/kg/BW) showed higher intake of BA on the consumption of SF. The results revealed the superiority of WF over SF in nutritive qualities as well as free of toxicants such as BA.\n",
       "2 A wheat field was sprayed with a dosage of 1.1 kg a.i./ha Roundup PowerMax 10 days before harvest. The <sup>1</sup>H Nuclear Magnetic Resonance (NMR) spectroscopy was used for the detection and quantification of the glyphosate (GLYP) in dried wheat spikelets, leaves, and stems. The quantification was done by the integration of the CH<sub>2</sub>-P groups doublet at 3.00 ppm with good linearity. The GLYP content varied between different samples and parts of the plant. On average, the largest content of herbicide was found in leaves (20.0 mg/kg), followed by stems (6.4 mg/kg) and spikelets (6.3 mg/kg). Our study shows that the <sup>1</sup>H-NMR spectroscopy can be a rapid and reliable tool for GLYP detection and quantification in the field studies.                                                                                                                                                                                                                                                                                                                                                                                                                                                                                                                                                                                                                                                                                                                                                                                                                                                                                                                                                                                                                                                                                                                                                                                                                               \n",
       "3 Six species of the genus Eurygaster Laporte, 1833 are currently recorded from the territory of the Russian Federation including Eurygaster integriceps Puton, 1881, the most important pest of wheat in Russia. Determination of Eurygaster spp. to the species level remains challenging especially in the case of closely related E. integriceps, E. maura (Linnaeus, 1758), and E. testudinaria (Geoffroy, 1785). This often leads to errors in identification of these species and provides incorrect information for plant protection services. Additional features for more precise identification are discussed and a key to all species of the genus Eurygaster of Russia is provided. The key is backed up with short diagnoses of every species, original color photographs and summarized data on the distribution. Taxonomic status of E. testudinaria sinica Walker, 1867 is discussed and E. testudinaria sinica Walker, 1867 is synonymized with the nominative subspecies. Also, a key to all seven genera of Scutelleridae known from Russia is given.                                                                                                                                                                                                                                                                                                                                                                                                                                                                                                                                                                                                                                                                                                                                                                                                                                                                                                                                            \n",
       "4 A new species of the genus Pratylenchoides has been described. It was found in Polish Jurassic Highland, in Ojców National Park. Pratylenchoides ojcowensis sp. nov. was isolated from the soil located around tangled roots of Elymus sp. and Trifolium sp. This species is marked by a conical head in both females and males which is not separated from the body contour and has with 4-5 annuli; a relatively short stylet (20.3-21.3 µm females, 17.7-20.9 µm males) with oval knobs directed posteriorly; the dorsal pharyngeal nucleus located anterior to the cardia (the subventral pharyngeal nuclei located posterior; a pharyngeal lobe of length about two body widths (1.8-2.6); a lateral field with 6 lines in the middle part of body and sometimes with partially areolated outer bands; intestinal fasciculi present; round sperm in the spermatheca in females; a female tail with a maximum of 29 annuli, and an annulated tail terminus. The status of the new species has been verifiied by DNA sequencing and phylogenetic analysis of the 28S rDNA region. The results obtained in the study indicated that P. ojcowensis sp. nov. is most related to P. alkani, P. ritteri and P. nevadensis from which is distinguished by the shape of the female head (conoid vs rounded), shorter stylet in females (20.3-21.3 µm vs 22.0-25.0 µm, 21.0-25.0 µm, 22.0-26.0 µm) and differences in 28S rDNA sequences. In addition (as per the original descriptions Yüksel 1977, Sher 1970, Talavera Tobar 1996) it is distinguished from P. alkani by smaller number of male's head annuli (4-5 vs 7-9), from P. ritteri it is distinguished by posteriorly directed stylet knobs (vs directed laterally), from P. nevadensis it is distinguished by oval and posteriorly directed stylet knobs (vs rounded and directed laterally).                                                                                                                                                               \n",
       "5 A new species of the genus Prionotropis Fieber, 1853 is described from Catalonia (Northeast of the Iberian Peninsula). Prionotropis xausi n. sp. was collected in a steppic calcareous grassland with low shrubs and scattered rocks, dominated by Buxus, Arctostaphylos uva-ursi, Thymus and Poa species. P. xausi n. sp. is characterized by the pronotum in dorsal view narrow and in lateral view with the principal transverse sulcus between prozona and metazona clearly incised. Females squamipterous with the tegmina extending at most to the end of second abdominal segment. Males sub-brachypterous with the tegmina reaching the 5th abdominal tergite and the epiproct visible. Inside hind femora at the base to the middle part and inside hind tibia red. Phallic complex with the epiphallus more long than wide with short posterior edge and the penis valves long. This new species is compared to the similar species P. rhodanica Uvarov, 1923 , P. azami Uvarov, 1923 and P. hystrix (Germar, 1817) and to the species presents in Catalonia P. flexuosa (Serville, 1838) and P. ancosae Olmo-Vidal, 2017. P. xausi is the species of the genus Prionotropis with the smallest males.                                                                                                                                                                                                                                                                                                                                                                                                                                                                                                                                                                                                                                                                                                                                                                                                    \n",
       "6 The circadian clock is a complex transcriptional network that regulates gene expression in anticipation of the day-night cycle and controls agronomic traits in plants. However, in crops, how the internal clock and day-night cues affect the transcriptome remains poorly understood. We analyzed the diel and circadian leaf transcriptomes in the barley (Hordeum vulgare) cultivar Bowman and derived introgression lines harboring mutations in EARLY FLOWERING 3 (ELF3), LUX ARRHYTHMO 1 (LUX1), and EARLY MATURITY 7 (EAM7). The elf3 and lux1 mutants exhibited abolished circadian transcriptome oscillations under constant conditions, whereas eam7 maintained oscillations of ≈30% of the circadian transcriptome. However, day-night cues fully restored transcript oscillations in all three mutants and thus compensated for a disrupted oscillator in the arrhythmic barley clock mutants elf3 and lux1. Nevertheless, elf3, but not lux1, affected the phase of the diel oscillating transcriptome and thus the integration of external cues into the clock. Using dynamical modeling, we predicted a structure of the barley circadian oscillator and interactions of its individual components with day-night cues. Our findings provide a valuable resource for exploring the function and output targets of the circadian clock and for further investigations into the diel and circadian control of the barley transcriptome.                                                                                                                                                                                                                                                                                                                                                                                                                                                                                                                                                             \n",
       "  year journal                       \n",
       "1 2020 PeerJ                         \n",
       "2 2020 Molecules (Basel, Switzerland)\n",
       "3 2020 Zootaxa                       \n",
       "4 2020 Zootaxa                       \n",
       "5 2020 Zootaxa                       \n",
       "6 2020 Plant physiology              \n",
       "  title_abstract                                                                                                                                                                                                                                                                                                                                                                                                                                                                                                                                                                                                                                                                                                                                                                                                                                                                                                                                                                                                                                                                                                                                                                                                                                                                                                                                                                                                                                                                                                                                                                                                                                                                                                                                                                                                                                                                                                                                                                                                                                                                                                                                                                        \n",
       "1 Proximate composition, functional properties and quantitative analysis of benzoyl peroxide and benzoic acid in wheat flour samples: effect on wheat flour quality.Extensive milling processes have deprived wheat flour from essential nutrients. The objective of the current study was to assess the nutritive quality of commercial wheat flour (soft flour (SF)) through analyses of proximate composition and functional properties as well as quantification of benzoyl peroxide (BPO; added as bleaching agent in the SF) by comparing the results with whole wheat flour (WF; never received any additives). The samples included commercial SF purchased from the local supplier of different flour mills (who use BPO as additive) and a control sample without additives was prepared by grinding the seeds harvested from wheat (<i>Triticum aestivum</i> L.; Inqulab 91) crop grown in the experimental field of University of Agriculture, Faisalabad, under optimized field conditions without any fertilizers and insecticides. Functional properties (including bulk density, water absorption capacity, oil absorption capacity, emulsifying activity, foaming capacity, least gelatinization concentration and gelatinization temperature) and proximate composition (including moisture content, ash contents, crude protein, gluten and starch contents) were determined and compared for all the samples. Benzoyl peroxide (BPO) and Benzoic Acid (BA) quantification was performed through High Performance Liquid Chromatography. Finally dietary intake was estimated for BPO and BA. Results showed that SF had lesser fiber, protein and ash contents, whereas, higher damaged starch, fat, gluten and bulk density. A parallel experiment under selected conditions (temperature, time and solute concentration) showed dissociation of BPO into BA soon after the exposure. Observed BA range (13.77 mg/g after 16 h) in SF and exposure level assessment (44.3 ± 1.36 mg/kg/BW) showed higher intake of BA on the consumption of SF. The results revealed the superiority of WF over SF in nutritive qualities as well as free of toxicants such as BA. \n",
       "2 Determination of Glyphosate in Dried Wheat by <sup>1</sup>H-NMR Spectroscopy.A wheat field was sprayed with a dosage of 1.1 kg a.i./ha Roundup PowerMax 10 days before harvest. The <sup>1</sup>H Nuclear Magnetic Resonance (NMR) spectroscopy was used for the detection and quantification of the glyphosate (GLYP) in dried wheat spikelets, leaves, and stems. The quantification was done by the integration of the CH<sub>2</sub>-P groups doublet at 3.00 ppm with good linearity. The GLYP content varied between different samples and parts of the plant. On average, the largest content of herbicide was found in leaves (20.0 mg/kg), followed by stems (6.4 mg/kg) and spikelets (6.3 mg/kg). Our study shows that the <sup>1</sup>H-NMR spectroscopy can be a rapid and reliable tool for GLYP detection and quantification in the field studies.                                                                                                                                                                                                                                                                                                                                                                                                                                                                                                                                                                                                                                                                                                                                                                                                                                                                                                                                                                                                                                                                                                                                                                                                                                                                                                                     \n",
       "3 Review of the genus Eurygaster (Hemiptera: Heteroptera: Scutelleridae) of Russia.Six species of the genus Eurygaster Laporte, 1833 are currently recorded from the territory of the Russian Federation including Eurygaster integriceps Puton, 1881, the most important pest of wheat in Russia. Determination of Eurygaster spp. to the species level remains challenging especially in the case of closely related E. integriceps, E. maura (Linnaeus, 1758), and E. testudinaria (Geoffroy, 1785). This often leads to errors in identification of these species and provides incorrect information for plant protection services. Additional features for more precise identification are discussed and a key to all species of the genus Eurygaster of Russia is provided. The key is backed up with short diagnoses of every species, original color photographs and summarized data on the distribution. Taxonomic status of E. testudinaria sinica Walker, 1867 is discussed and E. testudinaria sinica Walker, 1867 is synonymized with the nominative subspecies. Also, a key to all seven genera of Scutelleridae known from Russia is given.                                                                                                                                                                                                                                                                                                                                                                                                                                                                                                                                                                                                                                                                                                                                                                                                                                                                                                                                                                                                                              \n",
       "4 Description of Pratylenchoides ojcowensis sp. nov. (Nematoda: Merlinidae) from Polish Jurassic Highland.A new species of the genus Pratylenchoides has been described. It was found in Polish Jurassic Highland, in Ojców National Park. Pratylenchoides ojcowensis sp. nov. was isolated from the soil located around tangled roots of Elymus sp. and Trifolium sp. This species is marked by a conical head in both females and males which is not separated from the body contour and has with 4-5 annuli; a relatively short stylet (20.3-21.3 µm females, 17.7-20.9 µm males) with oval knobs directed posteriorly; the dorsal pharyngeal nucleus located anterior to the cardia (the subventral pharyngeal nuclei located posterior; a pharyngeal lobe of length about two body widths (1.8-2.6); a lateral field with 6 lines in the middle part of body and sometimes with partially areolated outer bands; intestinal fasciculi present; round sperm in the spermatheca in females; a female tail with a maximum of 29 annuli, and an annulated tail terminus. The status of the new species has been verifiied by DNA sequencing and phylogenetic analysis of the 28S rDNA region. The results obtained in the study indicated that P. ojcowensis sp. nov. is most related to P. alkani, P. ritteri and P. nevadensis from which is distinguished by the shape of the female head (conoid vs rounded), shorter stylet in females (20.3-21.3 µm vs 22.0-25.0 µm, 21.0-25.0 µm, 22.0-26.0 µm) and differences in 28S rDNA sequences. In addition (as per the original descriptions Yüksel 1977, Sher 1970, Talavera Tobar 1996) it is distinguished from P. alkani by smaller number of male's head annuli (4-5 vs 7-9), from P. ritteri it is distinguished by posteriorly directed stylet knobs (vs directed laterally), from P. nevadensis it is distinguished by oval and posteriorly directed stylet knobs (vs rounded and directed laterally).                                                                                                                                                                                                                          \n",
       "5 Prionotropis xausi, a new species of Thrinchinae (Orthoptera: Pamphagidae) from Catalonia (northeast of the Iberian Peninsula).A new species of the genus Prionotropis Fieber, 1853 is described from Catalonia (Northeast of the Iberian Peninsula). Prionotropis xausi n. sp. was collected in a steppic calcareous grassland with low shrubs and scattered rocks, dominated by Buxus, Arctostaphylos uva-ursi, Thymus and Poa species. P. xausi n. sp. is characterized by the pronotum in dorsal view narrow and in lateral view with the principal transverse sulcus between prozona and metazona clearly incised. Females squamipterous with the tegmina extending at most to the end of second abdominal segment. Males sub-brachypterous with the tegmina reaching the 5th abdominal tergite and the epiproct visible. Inside hind femora at the base to the middle part and inside hind tibia red. Phallic complex with the epiphallus more long than wide with short posterior edge and the penis valves long. This new species is compared to the similar species P. rhodanica Uvarov, 1923 , P. azami Uvarov, 1923 and P. hystrix (Germar, 1817) and to the species presents in Catalonia P. flexuosa (Serville, 1838) and P. ancosae Olmo-Vidal, 2017. P. xausi is the species of the genus Prionotropis with the smallest males.                                                                                                                                                                                                                                                                                                                                                                                                                                                                                                                                                                                                                                                                                                                                                                                                                                        \n",
       "6 Differential effects of day-night cues and the circadian clock on the barley transcriptome.The circadian clock is a complex transcriptional network that regulates gene expression in anticipation of the day-night cycle and controls agronomic traits in plants. However, in crops, how the internal clock and day-night cues affect the transcriptome remains poorly understood. We analyzed the diel and circadian leaf transcriptomes in the barley (Hordeum vulgare) cultivar Bowman and derived introgression lines harboring mutations in EARLY FLOWERING 3 (ELF3), LUX ARRHYTHMO 1 (LUX1), and EARLY MATURITY 7 (EAM7). The elf3 and lux1 mutants exhibited abolished circadian transcriptome oscillations under constant conditions, whereas eam7 maintained oscillations of ≈30% of the circadian transcriptome. However, day-night cues fully restored transcript oscillations in all three mutants and thus compensated for a disrupted oscillator in the arrhythmic barley clock mutants elf3 and lux1. Nevertheless, elf3, but not lux1, affected the phase of the diel oscillating transcriptome and thus the integration of external cues into the clock. Using dynamical modeling, we predicted a structure of the barley circadian oscillator and interactions of its individual components with day-night cues. Our findings provide a valuable resource for exploring the function and output targets of the circadian clock and for further investigations into the diel and circadian control of the barley transcriptome.                                                                                                                                                                                                                                                                                                                                                                                                                                                                                                                                                                                                                                     "
      ]
     },
     "metadata": {},
     "output_type": "display_data"
    }
   ],
   "source": [
    "# Merge \"title\" into \"abstract\" column and bind again, later need to delete old \"abstract\"\n",
    "title_abstract <- paste0(trit$title, trit$abstract, sep=\" \")\n",
    "str(title_abstract)\n",
    "tabstract <- as.data.frame(title_abstract, stringsAsFactors = FALSE)\n",
    "trit_mergedtitle <- bind_cols(trit, tabstract)\n",
    "summary(trit_mergedtitle)\n",
    "head(trit_mergedtitle)"
   ]
  },
  {
   "cell_type": "code",
   "execution_count": 7,
   "metadata": {},
   "outputs": [
    {
     "data": {
      "text/plain": [
       "     pmid              title               year             journal         \n",
       " Length:80826       Length:80826       Length:80826       Length:80826      \n",
       " Class :character   Class :character   Class :character   Class :character  \n",
       " Mode  :character   Mode  :character   Mode  :character   Mode  :character  \n",
       " title_abstract    \n",
       " Length:80826      \n",
       " Class :character  \n",
       " Mode  :character  "
      ]
     },
     "metadata": {},
     "output_type": "display_data"
    }
   ],
   "source": [
    "# drop \"abstract\" column\n",
    "trit_new <- subset(trit_mergedtitle, select = -abstract)\n",
    "summary(trit_new)"
   ]
  },
  {
   "cell_type": "code",
   "execution_count": 8,
   "metadata": {},
   "outputs": [
    {
     "data": {
      "text/plain": [
       "     pmid              title               year             journal         \n",
       " Length:80826       Length:80826       Length:80826       Length:80826      \n",
       " Class :character   Class :character   Class :character   Class :character  \n",
       " Mode  :character   Mode  :character   Mode  :character   Mode  :character  \n",
       "                                                                            \n",
       "                                                                            \n",
       "                                                                            \n",
       " title_abstract         doc_id     \n",
       " Length:80826       Min.   :    1  \n",
       " Class :character   1st Qu.:20207  \n",
       " Mode  :character   Median :40414  \n",
       "                    Mean   :40414  \n",
       "                    3rd Qu.:60620  \n",
       "                    Max.   :80826  "
      ]
     },
     "metadata": {},
     "output_type": "display_data"
    }
   ],
   "source": [
    "# Create doc_id column\n",
    "doc_id <- c(1:80826)\n",
    "id <- as.data.frame(doc_id)\n",
    "trit_with_id <- bind_cols(trit_new, id)\n",
    "summary(trit_with_id)"
   ]
  },
  {
   "cell_type": "code",
   "execution_count": 9,
   "metadata": {},
   "outputs": [
    {
     "data": {
      "text/plain": [
       "     pmid              title               year             journal         \n",
       " Length:80826       Length:80826       Length:80826       Length:80826      \n",
       " Class :character   Class :character   Class :character   Class :character  \n",
       " Mode  :character   Mode  :character   Mode  :character   Mode  :character  \n",
       "                                                                            \n",
       "                                                                            \n",
       "                                                                            \n",
       "     text               doc_id     \n",
       " Length:80826       Min.   :    1  \n",
       " Class :character   1st Qu.:20207  \n",
       " Mode  :character   Median :40414  \n",
       "                    Mean   :40414  \n",
       "                    3rd Qu.:60620  \n",
       "                    Max.   :80826  "
      ]
     },
     "metadata": {},
     "output_type": "display_data"
    }
   ],
   "source": [
    "# Rename abstract to text\n",
    "trit_ready <- rename(trit_with_id, text = title_abstract)\n",
    "summary(trit_ready)"
   ]
  },
  {
   "cell_type": "code",
   "execution_count": 10,
   "metadata": {},
   "outputs": [
    {
     "data": {
      "text/plain": [
       "     doc_id          text               pmid              title          \n",
       " Min.   :    1   Length:80826       Length:80826       Length:80826      \n",
       " 1st Qu.:20207   Class :character   Class :character   Class :character  \n",
       " Median :40414   Mode  :character   Mode  :character   Mode  :character  \n",
       " Mean   :40414                                                           \n",
       " 3rd Qu.:60620                                                           \n",
       " Max.   :80826                                                           \n",
       "     year             journal         \n",
       " Length:80826       Length:80826      \n",
       " Class :character   Class :character  \n",
       " Mode  :character   Mode  :character  \n",
       "                                      \n",
       "                                      \n",
       "                                      "
      ]
     },
     "metadata": {},
     "output_type": "display_data"
    }
   ],
   "source": [
    "# Reordering\n",
    "trit_reordered <- trit_ready[, c(6, 5, 1, 2, 3, 4)]\n",
    "summary(trit_reordered)"
   ]
  },
  {
   "cell_type": "markdown",
   "metadata": {},
   "source": [
    "### 2.2 Create Corpus from reordered Dataframe"
   ]
  },
  {
   "cell_type": "code",
   "execution_count": 11,
   "metadata": {},
   "outputs": [
    {
     "name": "stdout",
     "output_type": "stream",
     "text": [
      "<<VCorpus>>\n",
      "Metadata:  corpus specific: 0, document level (indexed): 4\n",
      "Content:  documents: 80826\n"
     ]
    }
   ],
   "source": [
    "trit_source <- DataframeSource(trit_reordered)\n",
    "trit_corpus <- VCorpus(trit_source)\n",
    "# VCorpus object is a nested list, or list of lists. \n",
    "# VCorpus = Volatile Corpus which exist only in the memory not saved permanently\n",
    "# For permanent creation use PCorpus\n",
    "# At each index of the VCorpus object, there is a PlainTextDocument object, \n",
    "# which is a list containing actual text data (content), and some corresponding metadata (meta)\n",
    "# VCorpus = PlainTextDocument1(content + metadata) + PlainTextDocument2(content + metada)\n",
    "print(trit_corpus)"
   ]
  },
  {
   "cell_type": "code",
   "execution_count": 12,
   "metadata": {},
   "outputs": [
    {
     "name": "stdout",
     "output_type": "stream",
     "text": [
      "<<VCorpus>>\n",
      "Metadata:  corpus specific: 0, document level (indexed): 4\n",
      "Content:  documents: 3\n",
      "\n",
      "[[1]]\n",
      "<<PlainTextDocument>>\n",
      "Metadata:  7\n",
      "Content:  chars: 2246\n",
      "\n",
      "[[2]]\n",
      "<<PlainTextDocument>>\n",
      "Metadata:  7\n",
      "Content:  chars: 1976\n",
      "\n",
      "[[3]]\n",
      "<<PlainTextDocument>>\n",
      "Metadata:  7\n",
      "Content:  chars: 1764\n",
      "\n"
     ]
    }
   ],
   "source": [
    "inspect(trit_corpus[30:32])"
   ]
  },
  {
   "cell_type": "code",
   "execution_count": 13,
   "metadata": {},
   "outputs": [
    {
     "name": "stdout",
     "output_type": "stream",
     "text": [
      "<<PlainTextDocument>>\n",
      "Metadata:  7\n",
      "Content:  chars: 2246\n",
      "\n",
      "Impacts of drought and nitrogen enrichment on leaf nutrient resorption and root nutrient allocation in four Tibetan plant species.Plant nutrient resorption, a process by which plant withdraws nutrients from senescing structures to developing tissues, can significantly affect plant growth, litter decomposition and nutrient cycling. Global change factors, such as nitrogen (N) deposition and altered precipitation, may mediate plant nutrient resorption and allocation. The ongoing global change is accompanied with increased N inputs and drought frequency in many regions. However, the interactive effects of increased N availability and drought on plant nutrient-responses remain largely unclear. In a pot experiment, we examined the impacts of N enrichment and drought on leaf N and phosphorous (P) resorption and root nutrient allocation in four species from the Qinghai-Tibet Plateau, including two graminoid species (Kobresia capillifolia and Elymus nutans) and two forb species (Delphinium kamaonense and Aster diplostephioides). Our results showed divergent resorption patterns within the two functional groups. E. nutans and D. kamaonense showed stronger N resorption than K. capillifolia and A. diplostephioides. N addition did not alter their N resorption efficiencies, but decreased the N resorption proficiencies of the former two species. In contrast, drought did not affect N or P resorption proficiencies, but decreased N resorption efficiency of K. capillifolia. Besides, N addition facilitated P resorption in K. capillifolia and D. kamaonense, and drought did the same in A. diplostephioides, suggesting that P resorption plays an important role in nutrient conservation in these species. Moreover, species with stronger N resorption allocated more biomass C or N to aboveground and enhanced their litter quality under N enrichment, while species with weaker resorption allocated more biomass C and/or N to belowground part under drought. Together, these results show that the responses of nutrient resorption and allocation to N enrichment and drought are highly species-specific. Future studies should take these differential responses into consideration to better predict litter decomposition and ecosystem nutrient cycling. \n"
     ]
    }
   ],
   "source": [
    "inspect(trit_corpus[[30]])\n",
    "# alternatively: trit_corpus[[30]][1]\n",
    "# same with: content(trit_corpus[[30]])"
   ]
  },
  {
   "cell_type": "code",
   "execution_count": 14,
   "metadata": {},
   "outputs": [
    {
     "data": {
      "text/plain": [
       "  author       : character(0)\n",
       "  datetimestamp: 2020-06-17 15:09:38\n",
       "  description  : character(0)\n",
       "  heading      : character(0)\n",
       "  id           : 80826\n",
       "  language     : en\n",
       "  origin       : character(0)"
      ]
     },
     "metadata": {},
     "output_type": "display_data"
    }
   ],
   "source": [
    "meta(trit_corpus[[80826]])\n",
    "# here metadata is printed for the x-th element of the corpus"
   ]
  },
  {
   "cell_type": "code",
   "execution_count": 15,
   "metadata": {},
   "outputs": [
    {
     "data": {
      "text/html": [
       "<table>\n",
       "<caption>A data.frame: 16 × 4</caption>\n",
       "<thead>\n",
       "\t<tr><th scope=col>pmid</th><th scope=col>title</th><th scope=col>year</th><th scope=col>journal</th></tr>\n",
       "\t<tr><th scope=col>&lt;chr&gt;</th><th scope=col>&lt;chr&gt;</th><th scope=col>&lt;chr&gt;</th><th scope=col>&lt;chr&gt;</th></tr>\n",
       "</thead>\n",
       "<tbody>\n",
       "\t<tr><td>5890521</td><td>Retained placenta, abortions and abnormal calves from beef cows fed all-barley rations.                                                      </td><td>1965</td><td>The Canadian veterinary journal = La revue veterinaire canadienne</td></tr>\n",
       "\t<tr><td>5835785</td><td>Gibberellic acid: action in barley endosperm does not require endogenous auxin.                                                              </td><td>1965</td><td>Science (New York, N.Y.)                                         </td></tr>\n",
       "\t<tr><td>5830538</td><td>Strontium-90 in Canadian wheat from the 1963 crop year.                                                                                      </td><td>1965</td><td>Radiological health data and reports                             </td></tr>\n",
       "\t<tr><td>5827911</td><td>Wheat proteins. II. Changes in the protein composition of Triticum vulgare during the life cycle of the plant.                               </td><td>1965</td><td>Journal of the science of food and agriculture                   </td></tr>\n",
       "\t<tr><td>5833319</td><td>Cross protection and mutual exclusion by three strains of barley yellow dwarf virus in Avena sativa L.                                       </td><td>1965</td><td>Virology                                                         </td></tr>\n",
       "\t<tr><td>5834513</td><td>Efficiency of egg production of three types of caged layers fed diets containing maize, oats or barley as the main cereal ingredient.        </td><td>1965</td><td>British poultry science                                          </td></tr>\n",
       "\t<tr><td>5897189</td><td>Studies in rats given a barley product mixed up in food. Growth, fertility, stress, intestinal function, longevity.                          </td><td>1965</td><td>Nutritio et dieta; European review of nutrition and dietetics    </td></tr>\n",
       "\t<tr><td>5831104</td><td>The effect of kinetin on nucleic acids and nucleases of excised barley leaves.                                                               </td><td>1965</td><td>Plant physiology                                                 </td></tr>\n",
       "\t<tr><td>5831098</td><td>Physiological effects of gibberellic acid. 8. Growth retardants on barley endosperm.                                                         </td><td>1965</td><td>Plant physiology                                                 </td></tr>\n",
       "\t<tr><td>5319553</td><td>[The structure and properties of wheat gluten].                                                                                              </td><td>1965</td><td>Postepy biochemii                                                </td></tr>\n",
       "\t<tr><td>4157536</td><td>[Effect of ferulic acid on alpha-amylase formation and on the germination of barley].                                                        </td><td>1965</td><td>Archives internationales de physiologie et de biochimie          </td></tr>\n",
       "\t<tr><td>4157535</td><td>[Activation and inhibition of alpha-amylase formation during the germination of barley].                                                     </td><td>1965</td><td>Archives internationales de physiologie et de biochimie          </td></tr>\n",
       "\t<tr><td>4157738</td><td>The formation of o-coumaroyl-beta-glucoside from coumarin-2-14C in barley embryos.                                                           </td><td>1965</td><td>Archives internationales de physiologie et de biochimie          </td></tr>\n",
       "\t<tr><td>5833367</td><td>Studies on carbohydrate-metabolizing enzymes. 11. The hydrolysis of lichenin by enzyme preparations from malted barley and Rhizopus arrhizus.</td><td>1965</td><td>The Biochemical journal                                          </td></tr>\n",
       "\t<tr><td>5832296</td><td>Studies on carbohydrate-metabolizing enzymes. 10. Barley beta-glucosidases.                                                                  </td><td>1965</td><td>The Biochemical journal                                          </td></tr>\n",
       "\t<tr><td>5830068</td><td>[On the structure of beta-amylase from barley and malt. 13. (On seed proteins)].                                                             </td><td>1965</td><td>Hoppe-Seyler's Zeitschrift fur physiologische Chemie             </td></tr>\n",
       "</tbody>\n",
       "</table>\n"
      ],
      "text/latex": [
       "A data.frame: 16 × 4\n",
       "\\begin{tabular}{llll}\n",
       " pmid & title & year & journal\\\\\n",
       " <chr> & <chr> & <chr> & <chr>\\\\\n",
       "\\hline\n",
       "\t 5890521 & Retained placenta, abortions and abnormal calves from beef cows fed all-barley rations.                                                       & 1965 & The Canadian veterinary journal = La revue veterinaire canadienne\\\\\n",
       "\t 5835785 & Gibberellic acid: action in barley endosperm does not require endogenous auxin.                                                               & 1965 & Science (New York, N.Y.)                                         \\\\\n",
       "\t 5830538 & Strontium-90 in Canadian wheat from the 1963 crop year.                                                                                       & 1965 & Radiological health data and reports                             \\\\\n",
       "\t 5827911 & Wheat proteins. II. Changes in the protein composition of Triticum vulgare during the life cycle of the plant.                                & 1965 & Journal of the science of food and agriculture                   \\\\\n",
       "\t 5833319 & Cross protection and mutual exclusion by three strains of barley yellow dwarf virus in Avena sativa L.                                        & 1965 & Virology                                                         \\\\\n",
       "\t 5834513 & Efficiency of egg production of three types of caged layers fed diets containing maize, oats or barley as the main cereal ingredient.         & 1965 & British poultry science                                          \\\\\n",
       "\t 5897189 & Studies in rats given a barley product mixed up in food. Growth, fertility, stress, intestinal function, longevity.                           & 1965 & Nutritio et dieta; European review of nutrition and dietetics    \\\\\n",
       "\t 5831104 & The effect of kinetin on nucleic acids and nucleases of excised barley leaves.                                                                & 1965 & Plant physiology                                                 \\\\\n",
       "\t 5831098 & Physiological effects of gibberellic acid. 8. Growth retardants on barley endosperm.                                                          & 1965 & Plant physiology                                                 \\\\\n",
       "\t 5319553 & {[}The structure and properties of wheat gluten{]}.                                                                                               & 1965 & Postepy biochemii                                                \\\\\n",
       "\t 4157536 & {[}Effect of ferulic acid on alpha-amylase formation and on the germination of barley{]}.                                                         & 1965 & Archives internationales de physiologie et de biochimie          \\\\\n",
       "\t 4157535 & {[}Activation and inhibition of alpha-amylase formation during the germination of barley{]}.                                                      & 1965 & Archives internationales de physiologie et de biochimie          \\\\\n",
       "\t 4157738 & The formation of o-coumaroyl-beta-glucoside from coumarin-2-14C in barley embryos.                                                            & 1965 & Archives internationales de physiologie et de biochimie          \\\\\n",
       "\t 5833367 & Studies on carbohydrate-metabolizing enzymes. 11. The hydrolysis of lichenin by enzyme preparations from malted barley and Rhizopus arrhizus. & 1965 & The Biochemical journal                                          \\\\\n",
       "\t 5832296 & Studies on carbohydrate-metabolizing enzymes. 10. Barley beta-glucosidases.                                                                   & 1965 & The Biochemical journal                                          \\\\\n",
       "\t 5830068 & {[}On the structure of beta-amylase from barley and malt. 13. (On seed proteins){]}.                                                              & 1965 & Hoppe-Seyler's Zeitschrift fur physiologische Chemie             \\\\\n",
       "\\end{tabular}\n"
      ],
      "text/markdown": [
       "\n",
       "A data.frame: 16 × 4\n",
       "\n",
       "| pmid &lt;chr&gt; | title &lt;chr&gt; | year &lt;chr&gt; | journal &lt;chr&gt; |\n",
       "|---|---|---|---|\n",
       "| 5890521 | Retained placenta, abortions and abnormal calves from beef cows fed all-barley rations.                                                       | 1965 | The Canadian veterinary journal = La revue veterinaire canadienne |\n",
       "| 5835785 | Gibberellic acid: action in barley endosperm does not require endogenous auxin.                                                               | 1965 | Science (New York, N.Y.)                                          |\n",
       "| 5830538 | Strontium-90 in Canadian wheat from the 1963 crop year.                                                                                       | 1965 | Radiological health data and reports                              |\n",
       "| 5827911 | Wheat proteins. II. Changes in the protein composition of Triticum vulgare during the life cycle of the plant.                                | 1965 | Journal of the science of food and agriculture                    |\n",
       "| 5833319 | Cross protection and mutual exclusion by three strains of barley yellow dwarf virus in Avena sativa L.                                        | 1965 | Virology                                                          |\n",
       "| 5834513 | Efficiency of egg production of three types of caged layers fed diets containing maize, oats or barley as the main cereal ingredient.         | 1965 | British poultry science                                           |\n",
       "| 5897189 | Studies in rats given a barley product mixed up in food. Growth, fertility, stress, intestinal function, longevity.                           | 1965 | Nutritio et dieta; European review of nutrition and dietetics     |\n",
       "| 5831104 | The effect of kinetin on nucleic acids and nucleases of excised barley leaves.                                                                | 1965 | Plant physiology                                                  |\n",
       "| 5831098 | Physiological effects of gibberellic acid. 8. Growth retardants on barley endosperm.                                                          | 1965 | Plant physiology                                                  |\n",
       "| 5319553 | [The structure and properties of wheat gluten].                                                                                               | 1965 | Postepy biochemii                                                 |\n",
       "| 4157536 | [Effect of ferulic acid on alpha-amylase formation and on the germination of barley].                                                         | 1965 | Archives internationales de physiologie et de biochimie           |\n",
       "| 4157535 | [Activation and inhibition of alpha-amylase formation during the germination of barley].                                                      | 1965 | Archives internationales de physiologie et de biochimie           |\n",
       "| 4157738 | The formation of o-coumaroyl-beta-glucoside from coumarin-2-14C in barley embryos.                                                            | 1965 | Archives internationales de physiologie et de biochimie           |\n",
       "| 5833367 | Studies on carbohydrate-metabolizing enzymes. 11. The hydrolysis of lichenin by enzyme preparations from malted barley and Rhizopus arrhizus. | 1965 | The Biochemical journal                                           |\n",
       "| 5832296 | Studies on carbohydrate-metabolizing enzymes. 10. Barley beta-glucosidases.                                                                   | 1965 | The Biochemical journal                                           |\n",
       "| 5830068 | [On the structure of beta-amylase from barley and malt. 13. (On seed proteins)].                                                              | 1965 | Hoppe-Seyler's Zeitschrift fur physiologische Chemie              |\n",
       "\n"
      ],
      "text/plain": [
       "   pmid   \n",
       "1  5890521\n",
       "2  5835785\n",
       "3  5830538\n",
       "4  5827911\n",
       "5  5833319\n",
       "6  5834513\n",
       "7  5897189\n",
       "8  5831104\n",
       "9  5831098\n",
       "10 5319553\n",
       "11 4157536\n",
       "12 4157535\n",
       "13 4157738\n",
       "14 5833367\n",
       "15 5832296\n",
       "16 5830068\n",
       "   title                                                                                                                                        \n",
       "1  Retained placenta, abortions and abnormal calves from beef cows fed all-barley rations.                                                      \n",
       "2  Gibberellic acid: action in barley endosperm does not require endogenous auxin.                                                              \n",
       "3  Strontium-90 in Canadian wheat from the 1963 crop year.                                                                                      \n",
       "4  Wheat proteins. II. Changes in the protein composition of Triticum vulgare during the life cycle of the plant.                               \n",
       "5  Cross protection and mutual exclusion by three strains of barley yellow dwarf virus in Avena sativa L.                                       \n",
       "6  Efficiency of egg production of three types of caged layers fed diets containing maize, oats or barley as the main cereal ingredient.        \n",
       "7  Studies in rats given a barley product mixed up in food. Growth, fertility, stress, intestinal function, longevity.                          \n",
       "8  The effect of kinetin on nucleic acids and nucleases of excised barley leaves.                                                               \n",
       "9  Physiological effects of gibberellic acid. 8. Growth retardants on barley endosperm.                                                         \n",
       "10 [The structure and properties of wheat gluten].                                                                                              \n",
       "11 [Effect of ferulic acid on alpha-amylase formation and on the germination of barley].                                                        \n",
       "12 [Activation and inhibition of alpha-amylase formation during the germination of barley].                                                     \n",
       "13 The formation of o-coumaroyl-beta-glucoside from coumarin-2-14C in barley embryos.                                                           \n",
       "14 Studies on carbohydrate-metabolizing enzymes. 11. The hydrolysis of lichenin by enzyme preparations from malted barley and Rhizopus arrhizus.\n",
       "15 Studies on carbohydrate-metabolizing enzymes. 10. Barley beta-glucosidases.                                                                  \n",
       "16 [On the structure of beta-amylase from barley and malt. 13. (On seed proteins)].                                                             \n",
       "   year journal                                                          \n",
       "1  1965 The Canadian veterinary journal = La revue veterinaire canadienne\n",
       "2  1965 Science (New York, N.Y.)                                         \n",
       "3  1965 Radiological health data and reports                             \n",
       "4  1965 Journal of the science of food and agriculture                   \n",
       "5  1965 Virology                                                         \n",
       "6  1965 British poultry science                                          \n",
       "7  1965 Nutritio et dieta; European review of nutrition and dietetics    \n",
       "8  1965 Plant physiology                                                 \n",
       "9  1965 Plant physiology                                                 \n",
       "10 1965 Postepy biochemii                                                \n",
       "11 1965 Archives internationales de physiologie et de biochimie          \n",
       "12 1965 Archives internationales de physiologie et de biochimie          \n",
       "13 1965 Archives internationales de physiologie et de biochimie          \n",
       "14 1965 The Biochemical journal                                          \n",
       "15 1965 The Biochemical journal                                          \n",
       "16 1965 Hoppe-Seyler's Zeitschrift fur physiologische Chemie             "
      ]
     },
     "metadata": {},
     "output_type": "display_data"
    }
   ],
   "source": [
    "#inspect oldest publications\n",
    "meta(trit_corpus) %>% filter(year == 1965)"
   ]
  },
  {
   "cell_type": "markdown",
   "metadata": {},
   "source": [
    "## 3. Metadata management\n",
    "* adding **pmid**, **title** (as description), **year** and **journal** to metadata on local level (= to each document inside the corpus) for later easier identification:\n",
    "* (this step is unnecessary, can be skipped, here I did it for experimenting)"
   ]
  },
  {
   "cell_type": "code",
   "execution_count": 16,
   "metadata": {},
   "outputs": [
    {
     "data": {
      "text/html": [
       "<style>\n",
       ".dl-inline {width: auto; margin:0; padding: 0}\n",
       ".dl-inline>dt, .dl-inline>dd {float: none; width: auto; display: inline-block}\n",
       ".dl-inline>dt::after {content: \":\\0020\"; padding-right: .5ex}\n",
       ".dl-inline>dt:not(:first-of-type) {padding-left: .5ex}\n",
       "</style><dl class=dl-inline><dt>pmid</dt><dd>'character'</dd><dt>title</dt><dd>'character'</dd><dt>abstract</dt><dd>'character'</dd><dt>year</dt><dd>'character'</dd><dt>journal</dt><dd>'character'</dd></dl>\n"
      ],
      "text/latex": [
       "\\begin{description*}\n",
       "\\item[pmid] 'character'\n",
       "\\item[title] 'character'\n",
       "\\item[abstract] 'character'\n",
       "\\item[year] 'character'\n",
       "\\item[journal] 'character'\n",
       "\\end{description*}\n"
      ],
      "text/markdown": [
       "pmid\n",
       ":   'character'title\n",
       ":   'character'abstract\n",
       ":   'character'year\n",
       ":   'character'journal\n",
       ":   'character'\n",
       "\n"
      ],
      "text/plain": [
       "       pmid       title    abstract        year     journal \n",
       "\"character\" \"character\" \"character\" \"character\" \"character\" "
      ]
     },
     "metadata": {},
     "output_type": "display_data"
    }
   ],
   "source": [
    "sapply(trit, class)"
   ]
  },
  {
   "cell_type": "code",
   "execution_count": 17,
   "metadata": {},
   "outputs": [],
   "source": [
    "meta(trit_corpus, tag = \"pmid\", type = \"local\") <- trit$pmid\n",
    "meta(trit_corpus, tag = \"description\", type = \"local\") <- trit$title\n",
    "meta(trit_corpus, tag = \"year\", type = \"local\") <- trit$year\n",
    "meta(trit_corpus, tag = \"journal\", type = \"local\") <- trit$journal"
   ]
  },
  {
   "cell_type": "code",
   "execution_count": 18,
   "metadata": {},
   "outputs": [
    {
     "data": {
      "text/plain": [
       "  author       : character(0)\n",
       "  datetimestamp: 2020-06-17 15:09:38\n",
       "  description  : [On the structure of beta-amylase from barley and malt. 13. (On seed proteins)].\n",
       "  heading      : character(0)\n",
       "  id           : 80826\n",
       "  language     : en\n",
       "  origin       : character(0)\n",
       "  pmid         : 5830068\n",
       "  year         : 1965\n",
       "  journal      : Hoppe-Seyler's Zeitschrift fur physiologische Chemie"
      ]
     },
     "metadata": {},
     "output_type": "display_data"
    }
   ],
   "source": [
    "meta(trit_corpus[[80826]])"
   ]
  },
  {
   "cell_type": "markdown",
   "metadata": {},
   "source": [
    "## 4. Transformations & Cleaning functions\n",
    "### Common preprocessing functions include:\n",
    "* `tolower()`: Make all characters lowercase\n",
    "* `removePunctuation()`: Remove all punctuation marks\n",
    "* `removeNumbers()`: Remove numbers\n",
    "* `stripWhitespace()`: Remove excess whitespace\n",
    "* `removeWords()` specifically for collections of 174 most commonly used words in English with `stopwords(\"en\")`\n",
    "* `tm_map` is used to apply cleaning functions on a corpus, it takes two arguments, a corpus and a cleaning function\n",
    "* for compatibility, `base R` and `qdap` functions need to be wrapped in `content_transformer()`"
   ]
  },
  {
   "cell_type": "code",
   "execution_count": 19,
   "metadata": {},
   "outputs": [],
   "source": [
    "clean_corpus <- function(corpus){\n",
    "  corpus <- tm_map(corpus, content_transformer(tolower))\n",
    "  corpus <- tm_map(corpus, removePunctuation)\n",
    "  corpus <- tm_map(corpus, removeNumbers)\n",
    "  corpus <- tm_map(corpus, removeWords, words = c(stopwords(\"en\"), \"known\", \"activated\", \"increasing\", \"significant\", \"investigated\", \"applied\", \"concentration\", \"study\", \"showed\", \"improved\", \"enhanced\", \"two\", \"using\", \"results\", \"also\", \"increase\", \"use\", \"active\"))\n",
    "  corpus <- tm_map(corpus, stripWhitespace)\n",
    "  return(corpus)\n",
    "}\n",
    "trit_corpus <- clean_corpus(trit_corpus)"
   ]
  },
  {
   "cell_type": "code",
   "execution_count": 20,
   "metadata": {},
   "outputs": [
    {
     "name": "stdout",
     "output_type": "stream",
     "text": [
      "<<PlainTextDocument>>\n",
      "Metadata:  10\n",
      "Content:  chars: 1760\n",
      "\n",
      "impacts drought nitrogen enrichment leaf nutrient resorption root nutrient allocation four tibetan plant speciesplant nutrient resorption process plant withdraws nutrients senescing structures developing tissues can significantly affect plant growth litter decomposition nutrient cycling global change factors nitrogen n deposition altered precipitation may mediate plant nutrient resorption allocation ongoing global change accompanied increased n inputs drought frequency many regions however interactive effects increased n availability drought plant nutrientresponses remain largely unclear pot experiment examined impacts n enrichment drought leaf n phosphorous p resorption root nutrient allocation four species qinghaitibet plateau including graminoid species kobresia capillifolia elymus nutans forb species delphinium kamaonense aster diplostephioides divergent resorption patterns within functional groups e nutans d kamaonense stronger n resorption k capillifolia diplostephioides n addition alter n resorption efficiencies decreased n resorption proficiencies former species contrast drought affect n p resorption proficiencies decreased n resorption efficiency k capillifolia besides n addition facilitated p resorption k capillifolia d kamaonense drought diplostephioides suggesting p resorption plays important role nutrient conservation species moreover species stronger n resorption allocated biomass c n aboveground litter quality n enrichment species weaker resorption allocated biomass c andor n belowground part drought together show responses nutrient resorption allocation n enrichment drought highly speciesspecific future studies take differential responses consideration better predict litter decomposition ecosystem nutrient cycling \n"
     ]
    }
   ],
   "source": [
    "inspect(trit_corpus[[30]])"
   ]
  },
  {
   "cell_type": "markdown",
   "metadata": {},
   "source": [
    "# 5. Create TDM or DTM\n",
    "* TDM is often the matrix used for language analysis, because it is likely to have more terms than documents and life is generally easier with more rows than columns\n",
    "* like in case of this analysis TDM is more handy as there are 80 826 documents (columns) given to 251 112 terms (rows)"
   ]
  },
  {
   "cell_type": "code",
   "execution_count": 28,
   "metadata": {},
   "outputs": [
    {
     "name": "stderr",
     "output_type": "stream",
     "text": [
      "\n",
      "Attaching package: ‘ggplot2’\n",
      "\n",
      "The following object is masked from ‘package:NLP’:\n",
      "\n",
      "    annotate\n",
      "\n"
     ]
    }
   ],
   "source": [
    "library(wordcloud)\n",
    "library(SnowballC)\n",
    "library(ggplot2)"
   ]
  },
  {
   "cell_type": "code",
   "execution_count": 22,
   "metadata": {},
   "outputs": [],
   "source": [
    "#stemming of words\n",
    "trit_stemmed <- tm_map(trit_corpus, stemDocument, language = \"english\")"
   ]
  },
  {
   "cell_type": "code",
   "execution_count": 23,
   "metadata": {},
   "outputs": [
    {
     "data": {
      "text/html": [
       "<style>\n",
       ".list-inline {list-style: none; margin:0; padding: 0}\n",
       ".list-inline>li {display: inline-block}\n",
       ".list-inline>li:not(:last-child)::after {content: \"\\00b7\"; padding: 0 .5ex}\n",
       "</style>\n",
       "<ol class=list-inline><li>251112</li><li>80826</li></ol>\n"
      ],
      "text/latex": [
       "\\begin{enumerate*}\n",
       "\\item 251112\n",
       "\\item 80826\n",
       "\\end{enumerate*}\n"
      ],
      "text/markdown": [
       "1. 251112\n",
       "2. 80826\n",
       "\n",
       "\n"
      ],
      "text/plain": [
       "[1] 251112  80826"
      ]
     },
     "metadata": {},
     "output_type": "display_data"
    }
   ],
   "source": [
    "trit_tdm <- TermDocumentMatrix(trit_stemmed)\n",
    "trit_m <- as.matrix(trit_tdm)\n",
    "dim(trit_m)\n",
    "trit_m <- rowSums(trit_m)\n",
    "trit_m <- sort(trit_m, decreasing =TRUE)"
   ]
  },
  {
   "cell_type": "code",
   "execution_count": 66,
   "metadata": {},
   "outputs": [
    {
     "name": "stdout",
     "output_type": "stream",
     "text": [
      " Named num [1:251112] 134928 57377 54164 53230 49253 ...\n",
      " - attr(*, \"names\")= chr [1:251112] \"wheat\" \"protein\" \"gene\" \"plant\" ...\n"
     ]
    },
    {
     "data": {
      "text/html": [
       "<table>\n",
       "<caption>A data.frame: 6 × 2</caption>\n",
       "<thead>\n",
       "\t<tr><th></th><th scope=col>words</th><th scope=col>frequency</th></tr>\n",
       "\t<tr><th></th><th scope=col>&lt;fct&gt;</th><th scope=col>&lt;dbl&gt;</th></tr>\n",
       "</thead>\n",
       "<tbody>\n",
       "\t<tr><th scope=row>wheat</th><td>wheat  </td><td>134928</td></tr>\n",
       "\t<tr><th scope=row>protein</th><td>protein</td><td> 57377</td></tr>\n",
       "\t<tr><th scope=row>gene</th><td>gene   </td><td> 54164</td></tr>\n",
       "\t<tr><th scope=row>plant</th><td>plant  </td><td> 53230</td></tr>\n",
       "\t<tr><th scope=row>effect</th><td>effect </td><td> 49253</td></tr>\n",
       "\t<tr><th scope=row>differ</th><td>differ </td><td> 45657</td></tr>\n",
       "</tbody>\n",
       "</table>\n"
      ],
      "text/latex": [
       "A data.frame: 6 × 2\n",
       "\\begin{tabular}{r|ll}\n",
       "  & words & frequency\\\\\n",
       "  & <fct> & <dbl>\\\\\n",
       "\\hline\n",
       "\twheat & wheat   & 134928\\\\\n",
       "\tprotein & protein &  57377\\\\\n",
       "\tgene & gene    &  54164\\\\\n",
       "\tplant & plant   &  53230\\\\\n",
       "\teffect & effect  &  49253\\\\\n",
       "\tdiffer & differ  &  45657\\\\\n",
       "\\end{tabular}\n"
      ],
      "text/markdown": [
       "\n",
       "A data.frame: 6 × 2\n",
       "\n",
       "| <!--/--> | words &lt;fct&gt; | frequency &lt;dbl&gt; |\n",
       "|---|---|---|\n",
       "| wheat | wheat   | 134928 |\n",
       "| protein | protein |  57377 |\n",
       "| gene | gene    |  54164 |\n",
       "| plant | plant   |  53230 |\n",
       "| effect | effect  |  49253 |\n",
       "| differ | differ  |  45657 |\n",
       "\n"
      ],
      "text/plain": [
       "        words   frequency\n",
       "wheat   wheat   134928   \n",
       "protein protein  57377   \n",
       "gene    gene     54164   \n",
       "plant   plant    53230   \n",
       "effect  effect   49253   \n",
       "differ  differ   45657   "
      ]
     },
     "metadata": {},
     "output_type": "display_data"
    },
    {
     "name": "stderr",
     "output_type": "stream",
     "text": [
      "Loading required package: viridisLite\n"
     ]
    },
    {
     "data": {
      "image/png": "[encoded data removed]",
      "text/plain": [
       "plot without title"
      ]
     },
     "metadata": {},
     "output_type": "display_data"
    }
   ],
   "source": [
    "glimpse(trit_m)\n",
    "trit_top <- as.data.frame(trit_m[1:10])\n",
    "trit_top <- cbind(Row.Names = rownames(trit_top), trit_top)\n",
    "colnames(trit_top) <- c(\"words\", \"frequency\")\n",
    "head(trit_top)\n",
    "\n",
    "# expand color palette\n",
    "colourCount = length(unique(trit_top$words))\n",
    "getPalette = colorRampPalette(brewer.pal(9, \"Pastel1\"))\n",
    "# use together with: + scale_fill_manual(values = getPalette(colourCount)) \n",
    "\n",
    "library(viridis)\n",
    "\n",
    "ggplot(trit_top, aes(x = words, y = frequency, fill = words)) + geom_col(width = 0.4) + theme_classic() + scale_y_continuous(breaks =c(20000, 60000, 135000), limits=c(0, 135000))+ labs(x = \"\", y = \"Frequency\") + scale_color_viridis() + coord_flip() + theme(legend.position='none', axis.text.y = element_text(size = 14, face = \"bold\"))\n",
    "#\"springgreen4\", horiz=T , las=1, xlab = )"
   ]
  },
  {
   "cell_type": "code",
   "execution_count": 57,
   "metadata": {},
   "outputs": [
    {
     "data": {
      "image/png": "[encoded data removed]",
      "text/plain": [
       "plot without title"
      ]
     },
     "metadata": {},
     "output_type": "display_data"
    }
   ],
   "source": [
    "terms_vec <- names(trit_m)\n",
    "wordcloud(terms_vec, trit_m, max.words = 100, colors = \"springgreen4\")"
   ]
  },
  {
   "cell_type": "markdown",
   "metadata": {},
   "source": [
    "# 6. Filter corpus with keywords to create flower-PMID list\n",
    "\n",
    "The 15 keywords I considered for filtering are:\n",
    "* **anther, fertility, floral, floret, flower, inflorescence, lemma, palea, panicle, pistil, pollen, spike, stamen, stigma, style**\n",
    "* in single-word searches I had to exclude (because misleading): flower (sunflower and cow on barley diet...), lemma (plasmalemma), style, stigma, spike (hplc studies), pollen (allergies), fertility (misleading 23836161(PMID))\n",
    "* **final solution:** use combinations especially for ambiguous words\n",
    "    - how: \n",
    "        1. use grep of single searchwords (with foreach for-loop), than do pairwise intersection of each list (thus achieve a combination of 2 words for each list) and finally unify them - with the use of `RVenn` package\n",
    "        (it is possible to use two expression within one grep, like: `tm_filter(trit_triticeae, FUN = function(x) any(grep(\"flower fertility\", content(x))))`\n",
    "        2. search for multiple words in text-doc-matrix columns - too complicated way, but can be tried whether it gives the same result"
   ]
  },
  {
   "cell_type": "code",
   "execution_count": 25,
   "metadata": {},
   "outputs": [
    {
     "name": "stdout",
     "output_type": "stream",
     "text": [
      "<<VCorpus>>\n",
      "Metadata:  corpus specific: 0, document level (indexed): 4\n",
      "Content:  documents: 80826\n"
     ]
    }
   ],
   "source": [
    "print(trit_corpus)"
   ]
  },
  {
   "cell_type": "code",
   "execution_count": 26,
   "metadata": {},
   "outputs": [
    {
     "name": "stdout",
     "output_type": "stream",
     "text": [
      "<<VCorpus>>\n",
      "Metadata:  corpus specific: 0, document level (indexed): 4\n",
      "Content:  documents: 68753\n"
     ]
    }
   ],
   "source": [
    "# Re-Filter corpus with original searchwords (from NCBI download) -> to be sure of their presence in the abstracts! and thus the article's focus is on them\n",
    "# Original Pubmed query searched through the entire articles, any mention in any paragraph meant to include them in my initial 81 000 results\n",
    "trit_triticeae <- tm_filter(trit_corpus, FUN = function(x) any(grep(\"(wheat|bread wheat|common wheat|Triticum aestivum|barley|domestic barley|Hordeum vulgare|Triticeae|Hordeinae|Agropyron|Anthosachne|Australopyrum|Campeiostachys|Connorochloa|Critesion|Crithopsis|Douglasdeweya|Elymus|Eremopyrum|Festucopsis|Henrardia|Heteranthelium|Hordelymus|Hordeum|Hystrix|Kengyilia|Leymus|Pascopyrum|Peridictyon|Psathyrostachys|Pseudoroegneria|Secale|Stenostachys|Taeniatherum|Triticinae|Aegilops|Amblyopyrum|Dasypyrum|Haynaldia|Lophopyrum|Thinopyrum|Triticum\n",
    ")\", perl=TRUE, content(x))))\n",
    "print(trit_triticeae)\n",
    "# only 68 753 articles are truly dealing with Triticeae research (rest must be side-mentions in main-text, but not in the abstract, thus can be excluded)\n",
    "# use this in an UpsetR along with full-database, wheat and barley to compare scales\n",
    "# further searches should be inside this set only"
   ]
  },
  {
   "cell_type": "code",
   "execution_count": 27,
   "metadata": {},
   "outputs": [
    {
     "data": {
      "text/plain": [
       "   user  system elapsed \n",
       " 12.987   3.941  34.387 "
      ]
     },
     "metadata": {},
     "output_type": "display_data"
    },
    {
     "name": "stdout",
     "output_type": "stream",
     "text": [
      "List of 15\n",
      " $ : chr [1:435] \"32131726\" \"32066846\" \"32048207\" \"31963482\" ...\n",
      " $ : chr [1:621] \"32181421\" \"32179904\" \"32174526\" \"32173682\" ...\n",
      " $ : chr [1:234] \"32172750\" \"32113949\" \"32111029\" \"32061090\" ...\n",
      " $ : chr [1:214] \"32172750\" \"32103263\" \"31914168\" \"31875911\" ...\n",
      " $ : chr [1:1698] \"32229608\" \"32226438\" \"32214360\" \"32210989\" ...\n",
      " $ : chr [1:182] \"32131726\" \"32088154\" \"32043419\" \"31640618\" ...\n",
      " $ : chr [1:282] \"32103263\" \"31982426\" \"31936205\" \"31808224\" ...\n",
      " $ : chr [1:56] \"31494998\" \"31245178\" \"30868385\" \"30841851\" ...\n",
      " $ : chr [1:78] \"32199367\" \"32174943\" \"32161624\" \"31889983\" ...\n",
      " $ : chr [1:69] \"32019527\" \"31943230\" \"31888472\" \"31165748\" ...\n",
      " $ : chr [1:602] \"32181421\" \"32180947\" \"32066846\" \"32038666\" ...\n",
      " $ : chr [1:1790] \"32231040\" \"32229393\" \"32214360\" \"32211011\" ...\n",
      " $ : chr [1:56] \"32181421\" \"32019527\" \"31888472\" \"31401233\" ...\n",
      " $ : chr [1:64] \"32105432\" \"31820048\" \"31557302\" \"31168160\" ...\n",
      " $ : chr [1:285] \"32176103\" \"32148306\" \"31915642\" \"31895924\" ...\n"
     ]
    }
   ],
   "source": [
    "# filtering with 15 searchwords into single lists of pmid-s combined into a list object\n",
    "searchwords <- c(\"anther\", \"fertility\", \"floral\", \"floret\", \"flower\", \"inflorescence\", \"lemma\", \"palea\", \"panicle\", \"pistil\", \"pollen\", \"spike\", \"stamen\", \"stigma\", \"style\")\n",
    "#foreach gives back a list by default, specifying .combine=\"\" just made life complicated\n",
    "cl <- makeCluster(16)\n",
    "registerDoParallel(cl)\n",
    "system.time({\n",
    "a <- foreach(i=searchwords, .packages = \"tm\") %dopar% {\n",
    "     meta(tm_filter(trit_triticeae, FUN = function(x) any(grep(i, content(x)))))$pmid\n",
    "}\n",
    "                  })\n",
    "stopCluster(cl)\n",
    "str(a)"
   ]
  },
  {
   "cell_type": "code",
   "execution_count": 28,
   "metadata": {},
   "outputs": [
    {
     "data": {
      "text/html": [
       "<dl>\n",
       "\t<dt>$Set_12...Set_13</dt>\n",
       "\t\t<dd><style>\n",
       ".list-inline {list-style: none; margin:0; padding: 0}\n",
       ".list-inline>li {display: inline-block}\n",
       ".list-inline>li:not(:last-child)::after {content: \"\\00b7\"; padding: 0 .5ex}\n",
       "</style>\n",
       "<ol class=list-inline><li>'31165748'</li><li>'31046676'</li><li>'28676817'</li><li>'29506473'</li><li>'28515146'</li><li>'27208226'</li><li>'25966171'</li><li>'26505395'</li><li>'24563243'</li><li>'23192388'</li><li>'24162202'</li><li>'22395962'</li><li>'15692181'</li><li>'18794174'</li><li>'17704940'</li><li>'16858583'</li><li>'11851918'</li><li>'10198085'</li><li>'7715728'</li></ol>\n",
       "</dd>\n",
       "\t<dt>$Set_12...Set_14</dt>\n",
       "\t\t<dd><style>\n",
       ".list-inline {list-style: none; margin:0; padding: 0}\n",
       ".list-inline>li {display: inline-block}\n",
       ".list-inline>li:not(:last-child)::after {content: \"\\00b7\"; padding: 0 .5ex}\n",
       "</style>\n",
       "<ol class=list-inline><li>'30899270'</li><li>'30474697'</li><li>'28676817'</li><li>'22791834'</li><li>'22186277'</li></ol>\n",
       "</dd>\n",
       "\t<dt>$Set_12...Set_15</dt>\n",
       "\t\t<dd><style>\n",
       ".list-inline {list-style: none; margin:0; padding: 0}\n",
       ".list-inline>li {display: inline-block}\n",
       ".list-inline>li:not(:last-child)::after {content: \"\\00b7\"; padding: 0 .5ex}\n",
       "</style>\n",
       "<ol class=list-inline><li>'26471973'</li><li>'24603887'</li><li>'22791834'</li><li>'22087742'</li></ol>\n",
       "</dd>\n",
       "\t<dt>$Set_13...Set_14</dt>\n",
       "\t\t<dd>'28676817'</dd>\n",
       "\t<dt>$Set_13...Set_15</dt>\n",
       "\t\t<dd></dd>\n",
       "\t<dt>$Set_14...Set_15</dt>\n",
       "\t\t<dd>'22791834'</dd>\n",
       "</dl>\n"
      ],
      "text/latex": [
       "\\begin{description}\n",
       "\\item[\\$Set\\_12...Set\\_13] \\begin{enumerate*}\n",
       "\\item '31165748'\n",
       "\\item '31046676'\n",
       "\\item '28676817'\n",
       "\\item '29506473'\n",
       "\\item '28515146'\n",
       "\\item '27208226'\n",
       "\\item '25966171'\n",
       "\\item '26505395'\n",
       "\\item '24563243'\n",
       "\\item '23192388'\n",
       "\\item '24162202'\n",
       "\\item '22395962'\n",
       "\\item '15692181'\n",
       "\\item '18794174'\n",
       "\\item '17704940'\n",
       "\\item '16858583'\n",
       "\\item '11851918'\n",
       "\\item '10198085'\n",
       "\\item '7715728'\n",
       "\\end{enumerate*}\n",
       "\n",
       "\\item[\\$Set\\_12...Set\\_14] \\begin{enumerate*}\n",
       "\\item '30899270'\n",
       "\\item '30474697'\n",
       "\\item '28676817'\n",
       "\\item '22791834'\n",
       "\\item '22186277'\n",
       "\\end{enumerate*}\n",
       "\n",
       "\\item[\\$Set\\_12...Set\\_15] \\begin{enumerate*}\n",
       "\\item '26471973'\n",
       "\\item '24603887'\n",
       "\\item '22791834'\n",
       "\\item '22087742'\n",
       "\\end{enumerate*}\n",
       "\n",
       "\\item[\\$Set\\_13...Set\\_14] '28676817'\n",
       "\\item[\\$Set\\_13...Set\\_15] \n",
       "\\item[\\$Set\\_14...Set\\_15] '22791834'\n",
       "\\end{description}\n"
      ],
      "text/markdown": [
       "$Set_12...Set_13\n",
       ":   1. '31165748'\n",
       "2. '31046676'\n",
       "3. '28676817'\n",
       "4. '29506473'\n",
       "5. '28515146'\n",
       "6. '27208226'\n",
       "7. '25966171'\n",
       "8. '26505395'\n",
       "9. '24563243'\n",
       "10. '23192388'\n",
       "11. '24162202'\n",
       "12. '22395962'\n",
       "13. '15692181'\n",
       "14. '18794174'\n",
       "15. '17704940'\n",
       "16. '16858583'\n",
       "17. '11851918'\n",
       "18. '10198085'\n",
       "19. '7715728'\n",
       "\n",
       "\n",
       "\n",
       "$Set_12...Set_14\n",
       ":   1. '30899270'\n",
       "2. '30474697'\n",
       "3. '28676817'\n",
       "4. '22791834'\n",
       "5. '22186277'\n",
       "\n",
       "\n",
       "\n",
       "$Set_12...Set_15\n",
       ":   1. '26471973'\n",
       "2. '24603887'\n",
       "3. '22791834'\n",
       "4. '22087742'\n",
       "\n",
       "\n",
       "\n",
       "$Set_13...Set_14\n",
       ":   '28676817'\n",
       "$Set_13...Set_15\n",
       ":   \n",
       "$Set_14...Set_15\n",
       ":   '22791834'\n",
       "\n",
       "\n"
      ],
      "text/plain": [
       "$Set_12...Set_13\n",
       " [1] \"31165748\" \"31046676\" \"28676817\" \"29506473\" \"28515146\" \"27208226\"\n",
       " [7] \"25966171\" \"26505395\" \"24563243\" \"23192388\" \"24162202\" \"22395962\"\n",
       "[13] \"15692181\" \"18794174\" \"17704940\" \"16858583\" \"11851918\" \"10198085\"\n",
       "[19] \"7715728\" \n",
       "\n",
       "$Set_12...Set_14\n",
       "[1] \"30899270\" \"30474697\" \"28676817\" \"22791834\" \"22186277\"\n",
       "\n",
       "$Set_12...Set_15\n",
       "[1] \"26471973\" \"24603887\" \"22791834\" \"22087742\"\n",
       "\n",
       "$Set_13...Set_14\n",
       "[1] \"28676817\"\n",
       "\n",
       "$Set_13...Set_15\n",
       "character(0)\n",
       "\n",
       "$Set_14...Set_15\n",
       "[1] \"22791834\"\n"
      ]
     },
     "metadata": {},
     "output_type": "display_data"
    },
    {
     "name": "stdout",
     "output_type": "stream",
     "text": [
      " chr [1:898] \"31963482\" \"31628536\" \"31473791\" \"31009129\" \"31729646\" ...\n"
     ]
    }
   ],
   "source": [
    "#intersection & union of created single-searchword lists\n",
    "search = Venn(a)\n",
    "intersected <- overlap_pairs(search)\n",
    "tail(intersected)\n",
    "# result is a list of 120 intersection pairs with different sizes, each list now contains PMIDs with at least 2 searchwords existing inside their articles\n",
    "intersected = Venn(intersected)\n",
    "final <- unite(intersected)\n",
    "str(final)\n",
    "# the final list has 898 PMIDs from 80826 initial searches each of them 2x overlapping with 15 keywords"
   ]
  },
  {
   "cell_type": "code",
   "execution_count": 29,
   "metadata": {},
   "outputs": [
    {
     "name": "stdout",
     "output_type": "stream",
     "text": [
      " chr [1:308] \"29581960\" \"26157170\" \"24762030\" \"24162539\" \"30518316\" ...\n"
     ]
    }
   ],
   "source": [
    "# create list with 3x overlapping terms\n",
    "third <- overlap_pairs(intersected)\n",
    "third = Venn(third)\n",
    "final_third <- unite(third)\n",
    "str(final_third)"
   ]
  },
  {
   "cell_type": "code",
   "execution_count": 30,
   "metadata": {},
   "outputs": [],
   "source": [
    "# Save lists for extracting GeneIDs in the next steps\n",
    "# 2x-overlap list\n",
    "write.table(final, file = \"PMIDlist_flower.tsv\", row.names = FALSE, sep=\"\\t\")\n",
    "saveRDS(final, file = \"PMIDlist_flower.rds\")\n",
    "#3 3x-overlap list\n",
    "write.table(final_third, file = \"PMIDlist_flower_3.tsv\", row.names = FALSE, sep=\"\\t\")\n",
    "saveRDS(final_third, file = \"PMIDlist_flower_3.rds\")"
   ]
  },
  {
   "cell_type": "markdown",
   "metadata": {},
   "source": [
    "# 7. Quality control\n",
    "* random testing of the filtered PMID articles\n",
    "* already found false positives in `final` which has 2x-overlap of keyterms: **5/13**\n",
    "    - PMID 26972421: Imidazolium salts with antifungal potential for the control of head blight of wheat caused by Fusarium graminearum.\n",
    "        - existing searchwords: flower, spike & wheat\n",
    "    - PMID 30474697: Involvement of the two L-lactate dehydrogenase in development and pathogenicity in Fusarium graminearum.\n",
    "        - stigma, spike & wheat\n",
    "    - PMID 26471973: The wheat durable, multipathogen resistance gene Lr34 confers partial blast resistance in rice.\n",
    "        - spike, (life)style & wheat\n",
    "    - PMID 22087742: The quantitative analysis of thiamin and riboflavin and their respective vitamers in fermented alcoholic beverages.\n",
    "        - spkie (HPLC), (beer) style & wheat\n",
    "* solution: creating 3x-keyword containing list `final_third`, also found false positives: **1/12** checked random PMIDs\n",
    "    - PMID 29506473: Three endoplasmic reticulum-associated fatty acyl-coenzyme a reductases were involved in the production of primary alcohols in hexaploid wheat (Triticum aestivum L.)."
   ]
  },
  {
   "cell_type": "code",
   "execution_count": 31,
   "metadata": {},
   "outputs": [
    {
     "data": {
      "text/html": [
       "<style>\n",
       ".list-inline {list-style: none; margin:0; padding: 0}\n",
       ".list-inline>li {display: inline-block}\n",
       ".list-inline>li:not(:last-child)::after {content: \"\\00b7\"; padding: 0 .5ex}\n",
       "</style>\n",
       "<ol class=list-inline><li>'31963482'</li><li>'31628536'</li><li>'31473791'</li><li>'31009129'</li><li>'31729646'</li><li>'31185903'</li></ol>\n"
      ],
      "text/latex": [
       "\\begin{enumerate*}\n",
       "\\item '31963482'\n",
       "\\item '31628536'\n",
       "\\item '31473791'\n",
       "\\item '31009129'\n",
       "\\item '31729646'\n",
       "\\item '31185903'\n",
       "\\end{enumerate*}\n"
      ],
      "text/markdown": [
       "1. '31963482'\n",
       "2. '31628536'\n",
       "3. '31473791'\n",
       "4. '31009129'\n",
       "5. '31729646'\n",
       "6. '31185903'\n",
       "\n",
       "\n"
      ],
      "text/plain": [
       "[1] \"31963482\" \"31628536\" \"31473791\" \"31009129\" \"31729646\" \"31185903\""
      ]
     },
     "metadata": {},
     "output_type": "display_data"
    },
    {
     "data": {
      "text/html": [
       "<style>\n",
       ".list-inline {list-style: none; margin:0; padding: 0}\n",
       ".list-inline>li {display: inline-block}\n",
       ".list-inline>li:not(:last-child)::after {content: \"\\00b7\"; padding: 0 .5ex}\n",
       "</style>\n",
       "<ol class=list-inline><li>'12324597'</li><li>'28526911'</li><li>'8232200'</li><li>'30474697'</li><li>'26471973'</li><li>'22087742'</li></ol>\n"
      ],
      "text/latex": [
       "\\begin{enumerate*}\n",
       "\\item '12324597'\n",
       "\\item '28526911'\n",
       "\\item '8232200'\n",
       "\\item '30474697'\n",
       "\\item '26471973'\n",
       "\\item '22087742'\n",
       "\\end{enumerate*}\n"
      ],
      "text/markdown": [
       "1. '12324597'\n",
       "2. '28526911'\n",
       "3. '8232200'\n",
       "4. '30474697'\n",
       "5. '26471973'\n",
       "6. '22087742'\n",
       "\n",
       "\n"
      ],
      "text/plain": [
       "[1] \"12324597\" \"28526911\" \"8232200\"  \"30474697\" \"26471973\" \"22087742\""
      ]
     },
     "metadata": {},
     "output_type": "display_data"
    }
   ],
   "source": [
    "# 2x-overlap list - 898 PMID\n",
    "head(final)\n",
    "tail(final)"
   ]
  },
  {
   "cell_type": "code",
   "execution_count": 32,
   "metadata": {},
   "outputs": [
    {
     "data": {
      "text/html": [
       "<style>\n",
       ".list-inline {list-style: none; margin:0; padding: 0}\n",
       ".list-inline>li {display: inline-block}\n",
       ".list-inline>li:not(:last-child)::after {content: \"\\00b7\"; padding: 0 .5ex}\n",
       "</style>\n",
       "<ol class=list-inline><li>'29581960'</li><li>'26157170'</li><li>'24762030'</li><li>'24162539'</li><li>'30518316'</li><li>'28163591'</li></ol>\n"
      ],
      "text/latex": [
       "\\begin{enumerate*}\n",
       "\\item '29581960'\n",
       "\\item '26157170'\n",
       "\\item '24762030'\n",
       "\\item '24162539'\n",
       "\\item '30518316'\n",
       "\\item '28163591'\n",
       "\\end{enumerate*}\n"
      ],
      "text/markdown": [
       "1. '29581960'\n",
       "2. '26157170'\n",
       "3. '24762030'\n",
       "4. '24162539'\n",
       "5. '30518316'\n",
       "6. '28163591'\n",
       "\n",
       "\n"
      ],
      "text/plain": [
       "[1] \"29581960\" \"26157170\" \"24762030\" \"24162539\" \"30518316\" \"28163591\""
      ]
     },
     "metadata": {},
     "output_type": "display_data"
    },
    {
     "data": {
      "text/html": [
       "<style>\n",
       ".list-inline {list-style: none; margin:0; padding: 0}\n",
       ".list-inline>li {display: inline-block}\n",
       ".list-inline>li:not(:last-child)::after {content: \"\\00b7\"; padding: 0 .5ex}\n",
       "</style>\n",
       "<ol class=list-inline><li>'32019527'</li><li>'26408275'</li><li>'29506473'</li><li>'26505395'</li><li>'18794174'</li><li>'28676817'</li></ol>\n"
      ],
      "text/latex": [
       "\\begin{enumerate*}\n",
       "\\item '32019527'\n",
       "\\item '26408275'\n",
       "\\item '29506473'\n",
       "\\item '26505395'\n",
       "\\item '18794174'\n",
       "\\item '28676817'\n",
       "\\end{enumerate*}\n"
      ],
      "text/markdown": [
       "1. '32019527'\n",
       "2. '26408275'\n",
       "3. '29506473'\n",
       "4. '26505395'\n",
       "5. '18794174'\n",
       "6. '28676817'\n",
       "\n",
       "\n"
      ],
      "text/plain": [
       "[1] \"32019527\" \"26408275\" \"29506473\" \"26505395\" \"18794174\" \"28676817\""
      ]
     },
     "metadata": {},
     "output_type": "display_data"
    }
   ],
   "source": [
    "# 3x-overlap list - 308 PMID\n",
    "head(final_third)\n",
    "tail(final_third)"
   ]
  },
  {
   "cell_type": "markdown",
   "metadata": {},
   "source": [
    "# 8. Visualise overlap of keyterms\n",
    "* source: https://github.com/hms-dbmi/UpSetR"
   ]
  },
  {
   "cell_type": "code",
   "execution_count": 33,
   "metadata": {},
   "outputs": [],
   "source": [
    "library(UpSetR, warn.conflicts = FALSE)\n",
    "library(ggplot2, warn.conflicts = FALSE)\n",
    "library(grid)\n",
    "library(dplyr, warn.conflicts = FALSE)"
   ]
  },
  {
   "cell_type": "code",
   "execution_count": 34,
   "metadata": {},
   "outputs": [
    {
     "name": "stdout",
     "output_type": "stream",
     "text": [
      " chr [1:80826] \"32231884\" \"32231040\" \"32230597\" \"32230394\" \"32230099\" ...\n",
      " chr [1:68753] \"32231884\" \"32231040\" \"32230597\" \"32229608\" \"32229393\" ...\n",
      " chr [1:56257] \"32231884\" \"32231040\" \"32230597\" \"32229393\" \"32229110\" ...\n",
      " chr [1:17252] \"32229608\" \"32229337\" \"32229335\" \"32227786\" \"32226437\" ...\n"
     ]
    }
   ],
   "source": [
    "#creating sets for UpsetR\n",
    "#full set\n",
    "fullset <- meta(trit_corpus)$pmid\n",
    "str(fullset)\n",
    "# set of triticeae containing articles\n",
    "triticeae <- meta(tm_filter(trit_corpus, FUN = function(x) any(grep(\"(wheat|bread wheat|common wheat|Triticum aestivum|barley|domestic barley|Hordeum vulgare|Triticeae|Hordeinae|Agropyron|Anthosachne|Australopyrum|Campeiostachys|Connorochloa|Critesion|Crithopsis|Douglasdeweya|Elymus|Eremopyrum|Festucopsis|Henrardia|Heteranthelium|Hordelymus|Hordeum|Hystrix|Kengyilia|Leymus|Pascopyrum|Peridictyon|Psathyrostachys|Pseudoroegneria|Secale|Stenostachys|Taeniatherum|Triticinae|Aegilops|Amblyopyrum|Dasypyrum|Haynaldia|Lophopyrum|Thinopyrum|Triticum)\", perl=TRUE, content(x)))))$pmid\n",
    "str(triticeae)\n",
    "# sets of single searches for display only\n",
    "wheat <- meta(tm_filter(trit_corpus, FUN = function(x) any(grep(\"wheat\", content(x)))))$pmid\n",
    "str(wheat)\n",
    "barley <- meta(tm_filter(trit_corpus, FUN = function(x) any(grep(\"barley\", content(x)))))$pmid\n",
    "str(barley)"
   ]
  },
  {
   "cell_type": "code",
   "execution_count": 35,
   "metadata": {},
   "outputs": [
    {
     "name": "stdout",
     "output_type": "stream",
     "text": [
      " chr [1:1698] \"32229608\" \"32226438\" \"32214360\" \"32210989\" \"32193575\" ...\n"
     ]
    }
   ],
   "source": [
    "anther <- unlist(a[1])\n",
    "fertility <- unlist(a[2])\n",
    "floral <- unlist(a[3])\n",
    "floret <- unlist(a[4])\n",
    "flower <- unlist(a[5])\n",
    "inflorescence <- unlist(a[6])\n",
    "lemma <- unlist(a[7])\n",
    "palea <- unlist(a[8])\n",
    "panicle <- unlist(a[9])\n",
    "pistil <- unlist(a[10])\n",
    "pollen <- unlist(a[11])\n",
    "spike <- unlist(a[12])\n",
    "stamen <- unlist(a[13])\n",
    "stigma <- unlist(a[14])\n",
    "style <- unlist(a[15])\n",
    "selection <- final_third\n",
    "str(flower)"
   ]
  },
  {
   "cell_type": "code",
   "execution_count": 36,
   "metadata": {},
   "outputs": [
    {
     "data": {
      "text/html": [
       "<table>\n",
       "<caption>A data.frame: 6 × 4</caption>\n",
       "<thead>\n",
       "\t<tr><th></th><th scope=col>pmid</th><th scope=col>title</th><th scope=col>year</th><th scope=col>journal</th></tr>\n",
       "\t<tr><th></th><th scope=col>&lt;chr&gt;</th><th scope=col>&lt;chr&gt;</th><th scope=col>&lt;chr&gt;</th><th scope=col>&lt;chr&gt;</th></tr>\n",
       "</thead>\n",
       "<tbody>\n",
       "\t<tr><th scope=row>1</th><td>32231884</td><td>Proximate composition, functional properties and quantitative analysis of benzoyl peroxide and benzoic acid in wheat flour samples: effect on wheat flour quality.</td><td>2020</td><td>PeerJ                         </td></tr>\n",
       "\t<tr><th scope=row>2</th><td>32231040</td><td><span style=white-space:pre-wrap>Determination of Glyphosate in Dried Wheat by &lt;sup&gt;1&lt;/sup&gt;H-NMR Spectroscopy.                                                                                     </span></td><td>2020</td><td>Molecules (Basel, Switzerland)</td></tr>\n",
       "\t<tr><th scope=row>3</th><td>32230597</td><td>Review of the genus Eurygaster (Hemiptera: Heteroptera: Scutelleridae) of Russia.                                                                                 </td><td>2020</td><td>Zootaxa                       </td></tr>\n",
       "\t<tr><th scope=row>4</th><td>32230394</td><td>Description of Pratylenchoides ojcowensis sp. nov. (Nematoda: Merlinidae) from Polish Jurassic Highland.                                                          </td><td>2020</td><td>Zootaxa                       </td></tr>\n",
       "\t<tr><th scope=row>5</th><td>32230099</td><td>Prionotropis xausi, a new species of Thrinchinae (Orthoptera: Pamphagidae) from Catalonia (northeast of the Iberian Peninsula).                                   </td><td>2020</td><td>Zootaxa                       </td></tr>\n",
       "\t<tr><th scope=row>6</th><td>32229608</td><td>Differential effects of day-night cues and the circadian clock on the barley transcriptome.                                                                       </td><td>2020</td><td>Plant physiology              </td></tr>\n",
       "</tbody>\n",
       "</table>\n"
      ],
      "text/latex": [
       "A data.frame: 6 × 4\n",
       "\\begin{tabular}{r|llll}\n",
       "  & pmid & title & year & journal\\\\\n",
       "  & <chr> & <chr> & <chr> & <chr>\\\\\n",
       "\\hline\n",
       "\t1 & 32231884 & Proximate composition, functional properties and quantitative analysis of benzoyl peroxide and benzoic acid in wheat flour samples: effect on wheat flour quality. & 2020 & PeerJ                         \\\\\n",
       "\t2 & 32231040 & Determination of Glyphosate in Dried Wheat by <sup>1</sup>H-NMR Spectroscopy.                                                                                      & 2020 & Molecules (Basel, Switzerland)\\\\\n",
       "\t3 & 32230597 & Review of the genus Eurygaster (Hemiptera: Heteroptera: Scutelleridae) of Russia.                                                                                  & 2020 & Zootaxa                       \\\\\n",
       "\t4 & 32230394 & Description of Pratylenchoides ojcowensis sp. nov. (Nematoda: Merlinidae) from Polish Jurassic Highland.                                                           & 2020 & Zootaxa                       \\\\\n",
       "\t5 & 32230099 & Prionotropis xausi, a new species of Thrinchinae (Orthoptera: Pamphagidae) from Catalonia (northeast of the Iberian Peninsula).                                    & 2020 & Zootaxa                       \\\\\n",
       "\t6 & 32229608 & Differential effects of day-night cues and the circadian clock on the barley transcriptome.                                                                        & 2020 & Plant physiology              \\\\\n",
       "\\end{tabular}\n"
      ],
      "text/markdown": [
       "\n",
       "A data.frame: 6 × 4\n",
       "\n",
       "| <!--/--> | pmid &lt;chr&gt; | title &lt;chr&gt; | year &lt;chr&gt; | journal &lt;chr&gt; |\n",
       "|---|---|---|---|---|\n",
       "| 1 | 32231884 | Proximate composition, functional properties and quantitative analysis of benzoyl peroxide and benzoic acid in wheat flour samples: effect on wheat flour quality. | 2020 | PeerJ                          |\n",
       "| 2 | 32231040 | Determination of Glyphosate in Dried Wheat by &lt;sup&gt;1&lt;/sup&gt;H-NMR Spectroscopy.                                                                                      | 2020 | Molecules (Basel, Switzerland) |\n",
       "| 3 | 32230597 | Review of the genus Eurygaster (Hemiptera: Heteroptera: Scutelleridae) of Russia.                                                                                  | 2020 | Zootaxa                        |\n",
       "| 4 | 32230394 | Description of Pratylenchoides ojcowensis sp. nov. (Nematoda: Merlinidae) from Polish Jurassic Highland.                                                           | 2020 | Zootaxa                        |\n",
       "| 5 | 32230099 | Prionotropis xausi, a new species of Thrinchinae (Orthoptera: Pamphagidae) from Catalonia (northeast of the Iberian Peninsula).                                    | 2020 | Zootaxa                        |\n",
       "| 6 | 32229608 | Differential effects of day-night cues and the circadian clock on the barley transcriptome.                                                                        | 2020 | Plant physiology               |\n",
       "\n"
      ],
      "text/plain": [
       "  pmid    \n",
       "1 32231884\n",
       "2 32231040\n",
       "3 32230597\n",
       "4 32230394\n",
       "5 32230099\n",
       "6 32229608\n",
       "  title                                                                                                                                                             \n",
       "1 Proximate composition, functional properties and quantitative analysis of benzoyl peroxide and benzoic acid in wheat flour samples: effect on wheat flour quality.\n",
       "2 Determination of Glyphosate in Dried Wheat by <sup>1</sup>H-NMR Spectroscopy.                                                                                     \n",
       "3 Review of the genus Eurygaster (Hemiptera: Heteroptera: Scutelleridae) of Russia.                                                                                 \n",
       "4 Description of Pratylenchoides ojcowensis sp. nov. (Nematoda: Merlinidae) from Polish Jurassic Highland.                                                          \n",
       "5 Prionotropis xausi, a new species of Thrinchinae (Orthoptera: Pamphagidae) from Catalonia (northeast of the Iberian Peninsula).                                   \n",
       "6 Differential effects of day-night cues and the circadian clock on the barley transcriptome.                                                                       \n",
       "  year journal                       \n",
       "1 2020 PeerJ                         \n",
       "2 2020 Molecules (Basel, Switzerland)\n",
       "3 2020 Zootaxa                       \n",
       "4 2020 Zootaxa                       \n",
       "5 2020 Zootaxa                       \n",
       "6 2020 Plant physiology              "
      ]
     },
     "metadata": {},
     "output_type": "display_data"
    }
   ],
   "source": [
    "extra <- as.data.frame(meta(trit_corpus))\n",
    "head(extra)"
   ]
  },
  {
   "cell_type": "code",
   "execution_count": 37,
   "metadata": {},
   "outputs": [
    {
     "name": "stdout",
     "output_type": "stream",
     "text": [
      "'data.frame':\t80826 obs. of  20 variables:\n",
      " $ PubmedResults: int  1 1 1 1 1 1 1 1 1 1 ...\n",
      " $ Triticeae    : int  1 1 1 0 0 1 1 1 1 1 ...\n",
      " $ Wheat        : int  1 1 1 0 0 0 1 0 0 1 ...\n",
      " $ Barley       : int  0 0 0 0 0 1 0 1 1 0 ...\n",
      " $ Anther       : int  0 0 0 0 0 0 0 0 0 0 ...\n",
      " $ Fertility    : int  0 0 0 0 0 0 0 0 0 0 ...\n",
      " $ Floral       : int  0 0 0 0 0 0 0 0 0 0 ...\n",
      " $ Floret       : int  0 0 0 0 0 0 0 0 0 0 ...\n",
      " $ Flower       : int  0 0 0 0 0 1 0 0 0 0 ...\n",
      " $ Inflorescence: int  0 0 0 0 0 0 0 0 0 0 ...\n",
      " $ Lemma        : int  0 0 0 0 0 0 0 0 0 0 ...\n",
      " $ Palea        : int  0 0 0 0 0 0 0 0 0 0 ...\n",
      " $ Panicle      : int  0 0 0 0 0 0 0 0 0 0 ...\n",
      " $ Pistil       : int  0 0 0 0 0 0 0 0 0 0 ...\n",
      " $ Pollen       : int  0 0 0 0 0 0 0 0 0 0 ...\n",
      " $ Spike        : int  0 1 0 0 0 0 1 0 0 0 ...\n",
      " $ Stamen       : int  0 0 0 0 0 0 0 0 0 0 ...\n",
      " $ Stigma       : int  0 0 0 0 0 0 0 0 0 0 ...\n",
      " $ Style        : int  0 0 0 0 0 0 0 0 0 0 ...\n",
      " $ Selection    : int  0 0 0 0 0 0 0 0 0 0 ...\n"
     ]
    }
   ],
   "source": [
    "listInput <- list(fullset, triticeae, wheat, barley, anther, fertility, floral, floret, flower, inflorescence, lemma, palea, panicle, pistil, pollen, spike, stamen, stigma, style, selection)\n",
    "u <- fromList(listInput)\n",
    "colnames(u) <- c(\"PubmedResults\", \"Triticeae\", \"Wheat\", \"Barley\", \"Anther\", \"Fertility\", \"Floral\", \"Floret\", \"Flower\", \"Inflorescence\", \"Lemma\", \"Palea\", \"Panicle\", \"Pistil\", \"Pollen\", \"Spike\", \"Stamen\", \"Stigma\", \"Style\", \"Selection\") \n",
    "str(u)"
   ]
  },
  {
   "cell_type": "code",
   "execution_count": 38,
   "metadata": {},
   "outputs": [
    {
     "data": {
      "text/html": [
       "<table>\n",
       "<caption>A data.frame: 6 × 24</caption>\n",
       "<thead>\n",
       "\t<tr><th></th><th scope=col>PMID</th><th scope=col>Title</th><th scope=col>Year</th><th scope=col>Journal</th><th scope=col>PubmedResults</th><th scope=col>Triticeae</th><th scope=col>Wheat</th><th scope=col>Barley</th><th scope=col>Anther</th><th scope=col>Fertility</th><th scope=col>⋯</th><th scope=col>Lemma</th><th scope=col>Palea</th><th scope=col>Panicle</th><th scope=col>Pistil</th><th scope=col>Pollen</th><th scope=col>Spike</th><th scope=col>Stamen</th><th scope=col>Stigma</th><th scope=col>Style</th><th scope=col>Selection</th></tr>\n",
       "\t<tr><th></th><th scope=col>&lt;chr&gt;</th><th scope=col>&lt;chr&gt;</th><th scope=col>&lt;int&gt;</th><th scope=col>&lt;chr&gt;</th><th scope=col>&lt;int&gt;</th><th scope=col>&lt;int&gt;</th><th scope=col>&lt;int&gt;</th><th scope=col>&lt;int&gt;</th><th scope=col>&lt;int&gt;</th><th scope=col>&lt;int&gt;</th><th scope=col>⋯</th><th scope=col>&lt;int&gt;</th><th scope=col>&lt;int&gt;</th><th scope=col>&lt;int&gt;</th><th scope=col>&lt;int&gt;</th><th scope=col>&lt;int&gt;</th><th scope=col>&lt;int&gt;</th><th scope=col>&lt;int&gt;</th><th scope=col>&lt;int&gt;</th><th scope=col>&lt;int&gt;</th><th scope=col>&lt;int&gt;</th></tr>\n",
       "</thead>\n",
       "<tbody>\n",
       "\t<tr><th scope=row>80821</th><td>4157536</td><td>[Effect of ferulic acid on alpha-amylase formation and on the germination of barley].                                                        </td><td>1965</td><td>Archives internationales de physiologie et de biochimie</td><td>1</td><td>1</td><td>0</td><td>1</td><td>0</td><td>0</td><td>⋯</td><td>0</td><td>0</td><td>0</td><td>0</td><td>0</td><td>0</td><td>0</td><td>0</td><td>0</td><td>0</td></tr>\n",
       "\t<tr><th scope=row>80822</th><td>4157535</td><td>[Activation and inhibition of alpha-amylase formation during the germination of barley].                                                     </td><td>1965</td><td>Archives internationales de physiologie et de biochimie</td><td>1</td><td>1</td><td>0</td><td>1</td><td>0</td><td>0</td><td>⋯</td><td>0</td><td>0</td><td>0</td><td>0</td><td>0</td><td>0</td><td>0</td><td>0</td><td>0</td><td>0</td></tr>\n",
       "\t<tr><th scope=row>80823</th><td>4157738</td><td>The formation of o-coumaroyl-beta-glucoside from coumarin-2-14C in barley embryos.                                                           </td><td>1965</td><td>Archives internationales de physiologie et de biochimie</td><td>1</td><td>1</td><td>0</td><td>1</td><td>0</td><td>0</td><td>⋯</td><td>0</td><td>0</td><td>0</td><td>0</td><td>0</td><td>0</td><td>0</td><td>0</td><td>0</td><td>0</td></tr>\n",
       "\t<tr><th scope=row>80824</th><td>5833367</td><td>Studies on carbohydrate-metabolizing enzymes. 11. The hydrolysis of lichenin by enzyme preparations from malted barley and Rhizopus arrhizus.</td><td>1965</td><td>The Biochemical journal                                </td><td>1</td><td>1</td><td>0</td><td>1</td><td>0</td><td>0</td><td>⋯</td><td>0</td><td>0</td><td>0</td><td>0</td><td>0</td><td>0</td><td>0</td><td>0</td><td>0</td><td>0</td></tr>\n",
       "\t<tr><th scope=row>80825</th><td>5832296</td><td>Studies on carbohydrate-metabolizing enzymes. 10. Barley beta-glucosidases.                                                                  </td><td>1965</td><td>The Biochemical journal                                </td><td>1</td><td>1</td><td>0</td><td>1</td><td>0</td><td>0</td><td>⋯</td><td>0</td><td>0</td><td>0</td><td>0</td><td>0</td><td>0</td><td>0</td><td>0</td><td>0</td><td>0</td></tr>\n",
       "\t<tr><th scope=row>80826</th><td>5830068</td><td>[On the structure of beta-amylase from barley and malt. 13. (On seed proteins)].                                                             </td><td>1965</td><td>Hoppe-Seyler's Zeitschrift fur physiologische Chemie   </td><td>1</td><td>1</td><td>0</td><td>1</td><td>0</td><td>0</td><td>⋯</td><td>0</td><td>0</td><td>0</td><td>0</td><td>0</td><td>0</td><td>0</td><td>0</td><td>0</td><td>0</td></tr>\n",
       "</tbody>\n",
       "</table>\n"
      ],
      "text/latex": [
       "A data.frame: 6 × 24\n",
       "\\begin{tabular}{r|lllllllllllllllllllll}\n",
       "  & PMID & Title & Year & Journal & PubmedResults & Triticeae & Wheat & Barley & Anther & Fertility & ⋯ & Lemma & Palea & Panicle & Pistil & Pollen & Spike & Stamen & Stigma & Style & Selection\\\\\n",
       "  & <chr> & <chr> & <int> & <chr> & <int> & <int> & <int> & <int> & <int> & <int> & ⋯ & <int> & <int> & <int> & <int> & <int> & <int> & <int> & <int> & <int> & <int>\\\\\n",
       "\\hline\n",
       "\t80821 & 4157536 & {[}Effect of ferulic acid on alpha-amylase formation and on the germination of barley{]}.                                                         & 1965 & Archives internationales de physiologie et de biochimie & 1 & 1 & 0 & 1 & 0 & 0 & ⋯ & 0 & 0 & 0 & 0 & 0 & 0 & 0 & 0 & 0 & 0\\\\\n",
       "\t80822 & 4157535 & {[}Activation and inhibition of alpha-amylase formation during the germination of barley{]}.                                                      & 1965 & Archives internationales de physiologie et de biochimie & 1 & 1 & 0 & 1 & 0 & 0 & ⋯ & 0 & 0 & 0 & 0 & 0 & 0 & 0 & 0 & 0 & 0\\\\\n",
       "\t80823 & 4157738 & The formation of o-coumaroyl-beta-glucoside from coumarin-2-14C in barley embryos.                                                            & 1965 & Archives internationales de physiologie et de biochimie & 1 & 1 & 0 & 1 & 0 & 0 & ⋯ & 0 & 0 & 0 & 0 & 0 & 0 & 0 & 0 & 0 & 0\\\\\n",
       "\t80824 & 5833367 & Studies on carbohydrate-metabolizing enzymes. 11. The hydrolysis of lichenin by enzyme preparations from malted barley and Rhizopus arrhizus. & 1965 & The Biochemical journal                                 & 1 & 1 & 0 & 1 & 0 & 0 & ⋯ & 0 & 0 & 0 & 0 & 0 & 0 & 0 & 0 & 0 & 0\\\\\n",
       "\t80825 & 5832296 & Studies on carbohydrate-metabolizing enzymes. 10. Barley beta-glucosidases.                                                                   & 1965 & The Biochemical journal                                 & 1 & 1 & 0 & 1 & 0 & 0 & ⋯ & 0 & 0 & 0 & 0 & 0 & 0 & 0 & 0 & 0 & 0\\\\\n",
       "\t80826 & 5830068 & {[}On the structure of beta-amylase from barley and malt. 13. (On seed proteins){]}.                                                              & 1965 & Hoppe-Seyler's Zeitschrift fur physiologische Chemie    & 1 & 1 & 0 & 1 & 0 & 0 & ⋯ & 0 & 0 & 0 & 0 & 0 & 0 & 0 & 0 & 0 & 0\\\\\n",
       "\\end{tabular}\n"
      ],
      "text/markdown": [
       "\n",
       "A data.frame: 6 × 24\n",
       "\n",
       "| <!--/--> | PMID &lt;chr&gt; | Title &lt;chr&gt; | Year &lt;int&gt; | Journal &lt;chr&gt; | PubmedResults &lt;int&gt; | Triticeae &lt;int&gt; | Wheat &lt;int&gt; | Barley &lt;int&gt; | Anther &lt;int&gt; | Fertility &lt;int&gt; | ⋯ ⋯ | Lemma &lt;int&gt; | Palea &lt;int&gt; | Panicle &lt;int&gt; | Pistil &lt;int&gt; | Pollen &lt;int&gt; | Spike &lt;int&gt; | Stamen &lt;int&gt; | Stigma &lt;int&gt; | Style &lt;int&gt; | Selection &lt;int&gt; |\n",
       "|---|---|---|---|---|---|---|---|---|---|---|---|---|---|---|---|---|---|---|---|---|---|\n",
       "| 80821 | 4157536 | [Effect of ferulic acid on alpha-amylase formation and on the germination of barley].                                                         | 1965 | Archives internationales de physiologie et de biochimie | 1 | 1 | 0 | 1 | 0 | 0 | ⋯ | 0 | 0 | 0 | 0 | 0 | 0 | 0 | 0 | 0 | 0 |\n",
       "| 80822 | 4157535 | [Activation and inhibition of alpha-amylase formation during the germination of barley].                                                      | 1965 | Archives internationales de physiologie et de biochimie | 1 | 1 | 0 | 1 | 0 | 0 | ⋯ | 0 | 0 | 0 | 0 | 0 | 0 | 0 | 0 | 0 | 0 |\n",
       "| 80823 | 4157738 | The formation of o-coumaroyl-beta-glucoside from coumarin-2-14C in barley embryos.                                                            | 1965 | Archives internationales de physiologie et de biochimie | 1 | 1 | 0 | 1 | 0 | 0 | ⋯ | 0 | 0 | 0 | 0 | 0 | 0 | 0 | 0 | 0 | 0 |\n",
       "| 80824 | 5833367 | Studies on carbohydrate-metabolizing enzymes. 11. The hydrolysis of lichenin by enzyme preparations from malted barley and Rhizopus arrhizus. | 1965 | The Biochemical journal                                 | 1 | 1 | 0 | 1 | 0 | 0 | ⋯ | 0 | 0 | 0 | 0 | 0 | 0 | 0 | 0 | 0 | 0 |\n",
       "| 80825 | 5832296 | Studies on carbohydrate-metabolizing enzymes. 10. Barley beta-glucosidases.                                                                   | 1965 | The Biochemical journal                                 | 1 | 1 | 0 | 1 | 0 | 0 | ⋯ | 0 | 0 | 0 | 0 | 0 | 0 | 0 | 0 | 0 | 0 |\n",
       "| 80826 | 5830068 | [On the structure of beta-amylase from barley and malt. 13. (On seed proteins)].                                                              | 1965 | Hoppe-Seyler's Zeitschrift fur physiologische Chemie    | 1 | 1 | 0 | 1 | 0 | 0 | ⋯ | 0 | 0 | 0 | 0 | 0 | 0 | 0 | 0 | 0 | 0 |\n",
       "\n"
      ],
      "text/plain": [
       "      PMID   \n",
       "80821 4157536\n",
       "80822 4157535\n",
       "80823 4157738\n",
       "80824 5833367\n",
       "80825 5832296\n",
       "80826 5830068\n",
       "      Title                                                                                                                                        \n",
       "80821 [Effect of ferulic acid on alpha-amylase formation and on the germination of barley].                                                        \n",
       "80822 [Activation and inhibition of alpha-amylase formation during the germination of barley].                                                     \n",
       "80823 The formation of o-coumaroyl-beta-glucoside from coumarin-2-14C in barley embryos.                                                           \n",
       "80824 Studies on carbohydrate-metabolizing enzymes. 11. The hydrolysis of lichenin by enzyme preparations from malted barley and Rhizopus arrhizus.\n",
       "80825 Studies on carbohydrate-metabolizing enzymes. 10. Barley beta-glucosidases.                                                                  \n",
       "80826 [On the structure of beta-amylase from barley and malt. 13. (On seed proteins)].                                                             \n",
       "      Year Journal                                                \n",
       "80821 1965 Archives internationales de physiologie et de biochimie\n",
       "80822 1965 Archives internationales de physiologie et de biochimie\n",
       "80823 1965 Archives internationales de physiologie et de biochimie\n",
       "80824 1965 The Biochemical journal                                \n",
       "80825 1965 The Biochemical journal                                \n",
       "80826 1965 Hoppe-Seyler's Zeitschrift fur physiologische Chemie   \n",
       "      PubmedResults Triticeae Wheat Barley Anther Fertility ⋯ Lemma Palea\n",
       "80821 1             1         0     1      0      0         ⋯ 0     0    \n",
       "80822 1             1         0     1      0      0         ⋯ 0     0    \n",
       "80823 1             1         0     1      0      0         ⋯ 0     0    \n",
       "80824 1             1         0     1      0      0         ⋯ 0     0    \n",
       "80825 1             1         0     1      0      0         ⋯ 0     0    \n",
       "80826 1             1         0     1      0      0         ⋯ 0     0    \n",
       "      Panicle Pistil Pollen Spike Stamen Stigma Style Selection\n",
       "80821 0       0      0      0     0      0      0     0        \n",
       "80822 0       0      0      0     0      0      0     0        \n",
       "80823 0       0      0      0     0      0      0     0        \n",
       "80824 0       0      0      0     0      0      0     0        \n",
       "80825 0       0      0      0     0      0      0     0        \n",
       "80826 0       0      0      0     0      0      0     0        "
      ]
     },
     "metadata": {},
     "output_type": "display_data"
    }
   ],
   "source": [
    "all <- bind_cols(extra, u)\n",
    "colnames(all) <- c(\"PMID\", \"Title\", \"Year\", \"Journal\", \"PubmedResults\", \"Triticeae\", \"Wheat\", \"Barley\", \"Anther\", \"Fertility\", \"Floral\", \"Floret\", \"Flower\", \"Inflorescence\", \"Lemma\", \"Palea\", \"Panicle\", \"Pistil\", \"Pollen\", \"Spike\", \"Stamen\", \"Stigma\", \"Style\", \"Selection\")\n",
    "all$Year <- as.integer(all$Year)\n",
    "tail(all)"
   ]
  },
  {
   "cell_type": "code",
   "execution_count": 39,
   "metadata": {},
   "outputs": [
    {
     "data": {
      "image/png": "[encoded data removed]",
      "text/plain": [
       "plot without title"
      ]
     },
     "metadata": {},
     "output_type": "display_data"
    }
   ],
   "source": [
    "upset(all, sets = c(\"PubmedResults\", \"Triticeae\", \"Wheat\", \"Barley\"),\n",
    "      order.by = \"freq\", main.bar.color = \"black\", matrix.color = \"dodgerblue4\", shade.color = \"paleturquoise\", sets.bar.color =c(\"dodgerblue4\",\"lightblue\",\"dodgerblue4\",\"dodgerblue4\"), matrix.dot.alpha = 30, shade.alpha = 0.75, att.color = \"darkcyan\",\n",
    "      set_size.show = F, text.scale = c(1, 1, 1, 0.8, 1, 1), point.size = 2.5,\n",
    "      mainbar.y.label = \"Intersection Size\", sets.x.label = \"Articles per searchword\",\n",
    "      attribute.plots=list(gridrows=40,plots=list(list(plot=histogram, x = \"Year\"))))\n",
    "\n",
    "#text.scale = c(intersection size title, intersection size tick labels, set size title, set size tick labels, set names, numbers above bars)\n",
    "#mb.ratio = parameter entered as percentages, change the proportions of the plot heights assigned to the matrix and intersection size bar plot\n",
    "#to highlight intersection: queries = list(list(query = intersects, params = list(\"Wheat\"), active = T)),\n",
    "#to include one more plot: , list(plot = scatter_plot, x = \"Year\", y = \"PMID\"), ncols = 2)\n",
    "#to write my own plotting function: myplot <- function(mydata, x, y) {\n",
    "    #plot <- (ggplot(data = mydata, aes_string(x = x, y = y, colour = \"color\")) + \n",
    "        #geom_point() + scale_color_identity() + theme(plot.margin = unit(c(0, \n",
    "        #0, 0, 0), \"cm\")))\n",
    "#}"
   ]
  },
  {
   "cell_type": "code",
   "execution_count": 40,
   "metadata": {},
   "outputs": [
    {
     "data": {
      "image/png": "[encoded data removed]",
      "text/plain": [
       "plot without title"
      ]
     },
     "metadata": {},
     "output_type": "display_data"
    }
   ],
   "source": [
    "upset(u, sets = c(\"Selection\", \"Anther\", \"Fertility\", \"Floral\", \"Floret\", \"Flower\", \"Inflorescence\", \"Lemma\", \"Palea\", \"Panicle\", \"Pistil\", \"Pollen\", \"Spike\", \"Stamen\", \"Stigma\", \"Style\"),\n",
    "     nintersects = 50, mb.ratio = c(0.55, 0.45), order.by = \"freq\", keep.order = TRUE, number.angles = 30, text.scale = c(1.3, 1.3, 1, 1, 1, 0.75), \n",
    "      main.bar.color = \"black\", matrix.color = \"forestgreen\", sets.bar.color =c(\"green\",\"darkgreen\",\"darkgreen\",\"darkgreen\",\"darkgreen\",\"darkgreen\",\"darkgreen\",\"darkgreen\",\"darkgreen\",\"darkgreen\",\"darkgreen\",\"darkgreen\",\"darkgreen\",\"darkgreen\",\"darkgreen\",\"darkgreen\"), shade.color = \"palegreen\", matrix.dot.alpha = 60, shade.alpha = 0.75,\n",
    "      mainbar.y.label = \"Intersection Size\", sets.x.label = \"Articles per searchword\")\n",
    "# queries = list(list(query = intersects, params = list(\"Selection\"), color = \"dodgerblue4\", active = T))\n",
    "#sets.bar.color=c(\"maroon\",\"blue\",\"orange\")"
   ]
  },
  {
   "cell_type": "markdown",
   "metadata": {},
   "source": [
    "# 9. Filter corpus with keywords to create transcriptomic PMID list as a subset of flower-PMID list"
   ]
  },
  {
   "cell_type": "code",
   "execution_count": 41,
   "metadata": {},
   "outputs": [
    {
     "data": {
      "text/plain": [
       "     doc_id          text               pmid              title          \n",
       " Min.   :    1   Length:80826       Length:80826       Length:80826      \n",
       " 1st Qu.:20207   Class :character   Class :character   Class :character  \n",
       " Median :40414   Mode  :character   Mode  :character   Mode  :character  \n",
       " Mean   :40414                                                           \n",
       " 3rd Qu.:60620                                                           \n",
       " Max.   :80826                                                           \n",
       "     year             journal         \n",
       " Length:80826       Length:80826      \n",
       " Class :character   Class :character  \n",
       " Mode  :character   Mode  :character  \n",
       "                                      \n",
       "                                      \n",
       "                                      "
      ]
     },
     "metadata": {},
     "output_type": "display_data"
    }
   ],
   "source": [
    "# Transcriptomic papers do not have single GeneIDs ordered to them, but a large collection of genes identified - needs manual inspection!\n",
    "# substract original trit_corpus with final flower PMID list to generate a corpus for flower papers\n",
    "summary(trit_reordered)"
   ]
  },
  {
   "cell_type": "code",
   "execution_count": 42,
   "metadata": {},
   "outputs": [
    {
     "data": {
      "text/plain": [
       "       pmid    \n",
       " 10198085:  1  \n",
       " 10399553:  1  \n",
       " 10399554:  1  \n",
       " 10428875:  1  \n",
       " 10449582:  1  \n",
       " 10586878:  1  \n",
       " (Other) :892  "
      ]
     },
     "metadata": {},
     "output_type": "display_data"
    }
   ],
   "source": [
    "pmid <- as.data.frame(final, rownames = FALSE)\n",
    "colnames(pmid) <- \"pmid\"\n",
    "summary(pmid)"
   ]
  },
  {
   "cell_type": "code",
   "execution_count": 43,
   "metadata": {},
   "outputs": [
    {
     "name": "stderr",
     "output_type": "stream",
     "text": [
      "Warning message:\n",
      "“Column `pmid` joining character vector and factor, coercing into character vector”"
     ]
    },
    {
     "data": {
      "text/plain": [
       "     doc_id          text               pmid              title          \n",
       " Min.   :   49   Length:898         Length:898         Length:898        \n",
       " 1st Qu.:12384   Class :character   Class :character   Class :character  \n",
       " Median :27783   Mode  :character   Mode  :character   Mode  :character  \n",
       " Mean   :28481                                                           \n",
       " 3rd Qu.:42347                                                           \n",
       " Max.   :78646                                                           \n",
       "     year             journal         \n",
       " Length:898         Length:898        \n",
       " Class :character   Class :character  \n",
       " Mode  :character   Mode  :character  \n",
       "                                      \n",
       "                                      \n",
       "                                      "
      ]
     },
     "metadata": {},
     "output_type": "display_data"
    }
   ],
   "source": [
    "trit_transcript <- inner_join(trit_reordered, pmid, by = \"pmid\")\n",
    "summary(trit_transcript)"
   ]
  },
  {
   "cell_type": "code",
   "execution_count": 44,
   "metadata": {},
   "outputs": [
    {
     "name": "stdout",
     "output_type": "stream",
     "text": [
      "<<VCorpus>>\n",
      "Metadata:  corpus specific: 0, document level (indexed): 4\n",
      "Content:  documents: 898\n"
     ]
    }
   ],
   "source": [
    "# re-generate corpus from flower related papers (trit_transcript)\n",
    "transcript_source <- DataframeSource(trit_transcript)\n",
    "transcript_corpus <- VCorpus(transcript_source)\n",
    "print(transcript_corpus)\n",
    "# cleaning again\n",
    "transcript_corpus <- clean_corpus(transcript_corpus)\n",
    "# create tdm to analyse flower related papers explicitly?"
   ]
  },
  {
   "cell_type": "code",
   "execution_count": 45,
   "metadata": {},
   "outputs": [
    {
     "data": {
      "text/html": [
       "<style>\n",
       ".dl-inline {width: auto; margin:0; padding: 0}\n",
       ".dl-inline>dt, .dl-inline>dd {float: none; width: auto; display: inline-block}\n",
       ".dl-inline>dt::after {content: \":\\0020\"; padding-right: .5ex}\n",
       ".dl-inline>dt:not(:first-of-type) {padding-left: .5ex}\n",
       "</style><dl class=dl-inline><dt>doc_id</dt><dd>'integer'</dd><dt>text</dt><dd>'character'</dd><dt>pmid</dt><dd>'character'</dd><dt>title</dt><dd>'character'</dd><dt>year</dt><dd>'character'</dd><dt>journal</dt><dd>'character'</dd></dl>\n"
      ],
      "text/latex": [
       "\\begin{description*}\n",
       "\\item[doc\\textbackslash{}\\_id] 'integer'\n",
       "\\item[text] 'character'\n",
       "\\item[pmid] 'character'\n",
       "\\item[title] 'character'\n",
       "\\item[year] 'character'\n",
       "\\item[journal] 'character'\n",
       "\\end{description*}\n"
      ],
      "text/markdown": [
       "doc_id\n",
       ":   'integer'text\n",
       ":   'character'pmid\n",
       ":   'character'title\n",
       ":   'character'year\n",
       ":   'character'journal\n",
       ":   'character'\n",
       "\n"
      ],
      "text/plain": [
       "     doc_id        text        pmid       title        year     journal \n",
       "  \"integer\" \"character\" \"character\" \"character\" \"character\" \"character\" "
      ]
     },
     "metadata": {},
     "output_type": "display_data"
    }
   ],
   "source": [
    "# include metadata\n",
    "trit_transcript$pmid <- as.character(trit_transcript$pmid)\n",
    "sapply(trit_transcript, class)\n",
    "meta(transcript_corpus, tag = \"pmid\", type = \"local\") <- trit_transcript$pmid\n",
    "meta(transcript_corpus, tag = \"description\", type = \"local\") <- trit_transcript$title"
   ]
  },
  {
   "cell_type": "code",
   "execution_count": 46,
   "metadata": {},
   "outputs": [
    {
     "name": "stdout",
     "output_type": "stream",
     "text": [
      "<<PlainTextDocument>>\n",
      "Metadata:  8\n",
      "Content:  chars: 785\n",
      "\n",
      "molecular mapping intermedium spikec intc nonbrittle rachis btr loci barley hordeum vulgare llateral spikelet fertility nonbrittle rachis key characters studying evolution barley fertility lateral spikelets controlled predominantly alleles vrs locus chromosome hl modified alleles intc locus chromosome hs nonbrittle rachis controlled alleles tightly linked loci btr btr chromosome hs paper presents integration intc btr loci molecular linkage maps barley intc locus mapped end chromosome hs cm distal mwg locus analysis followed composite interval mapping quantitative trait loci verified position intc locus linkage analysis recombinant inbred lines btr locus flanked aflp loci em em map distances cm cm respectively molecular markers will expedite highdensity mapping intc btr loci \n"
     ]
    },
    {
     "data": {
      "text/plain": [
       "  author       : character(0)\n",
       "  datetimestamp: 2020-06-17 14:53:59\n",
       "  description  : Molecular mapping of the intermedium spike-c ( int-c) and non-brittle rachis 1 ( btr1) loci in barley ( Hordeum vulgare L.).\n",
       "  heading      : character(0)\n",
       "  id           : 10747\n",
       "  language     : en\n",
       "  origin       : character(0)\n",
       "  pmid         : 12582565"
      ]
     },
     "metadata": {},
     "output_type": "display_data"
    }
   ],
   "source": [
    "inspect(transcript_corpus[[200]])\n",
    "meta(transcript_corpus[[200]])"
   ]
  },
  {
   "cell_type": "code",
   "execution_count": 47,
   "metadata": {},
   "outputs": [
    {
     "data": {
      "text/plain": [
       "   user  system elapsed \n",
       "  0.073   0.015   0.394 "
      ]
     },
     "metadata": {},
     "output_type": "display_data"
    },
    {
     "name": "stdout",
     "output_type": "stream",
     "text": [
      "List of 6\n",
      " $ : chr [1:40] \"32066846\" \"32060572\" \"32019527\" \"31910796\" ...\n",
      " $ : chr [1:8] \"32019527\" \"31910796\" \"31165748\" \"31076487\" ...\n",
      " $ : chr [1:20] \"32181421\" \"32066846\" \"32060572\" \"31963482\" ...\n",
      " $ : chr [1:9] \"32019527\" \"31185903\" \"31076750\" \"29739311\" ...\n",
      " $ : chr [1:5] \"28531235\" \"27507961\" \"25886815\" \"25063396\" ...\n",
      " $ : chr [1:41] \"32019527\" \"31910796\" \"31835796\" \"31778224\" ...\n"
     ]
    }
   ],
   "source": [
    "# filtering with 6 searchwords into single lists of pmid-s combined into a list object\n",
    "words <- c(\"differentially expressed\", \"comparative transcriptom\", \"rnaseq\", \"rna seq\", \"differential gene expression\", \"transcriptome\")\n",
    "#foreach gives back a list by default, specifying .combine=\"\" just made life complicated\n",
    "cl <- makeCluster(5)\n",
    "registerDoParallel(cl)\n",
    "system.time({\n",
    "b <- foreach(i=words, .packages = \"tm\") %dopar% {\n",
    "     meta(tm_filter(transcript_corpus, FUN = function(x) any(grep(i, content(x)))))$pmid\n",
    "}\n",
    "                  })\n",
    "stopCluster(cl)\n",
    "str(b)"
   ]
  },
  {
   "cell_type": "code",
   "execution_count": 48,
   "metadata": {},
   "outputs": [
    {
     "name": "stdout",
     "output_type": "stream",
     "text": [
      "List of 15\n",
      " $ Set_1...Set_2: chr [1:4] \"32019527\" \"31910796\" \"31165748\" \"31185903\"\n",
      " $ Set_1...Set_3: chr [1:9] \"32066846\" \"32060572\" \"31165748\" \"31729646\" ...\n",
      " $ Set_1...Set_4: chr [1:4] \"32019527\" \"31185903\" \"31076750\" \"25886815\"\n",
      " $ Set_1...Set_5: chr \"25886815\"\n",
      " $ Set_1...Set_6: chr [1:16] \"32019527\" \"31910796\" \"31778224\" \"31628536\" ...\n",
      " $ Set_2...Set_3: chr [1:3] \"31165748\" \"29581960\" \"29064514\"\n",
      " $ Set_2...Set_4: chr [1:2] \"32019527\" \"31185903\"\n",
      " $ Set_2...Set_5: chr(0) \n",
      " $ Set_2...Set_6: chr [1:6] \"32019527\" \"31910796\" \"31165748\" \"31185903\" ...\n",
      " $ Set_3...Set_4: chr \"25517485\"\n",
      " $ Set_3...Set_5: chr \"28531235\"\n",
      " $ Set_3...Set_6: chr [1:8] \"31469444\" \"31165748\" \"29068370\" \"29064514\" ...\n",
      " $ Set_4...Set_5: chr \"25886815\"\n",
      " $ Set_4...Set_6: chr [1:8] \"32019527\" \"31185903\" \"31076750\" \"29739311\" ...\n",
      " $ Set_5...Set_6: chr [1:2] \"27507961\" \"25886815\"\n",
      " chr [1:32] \"32019527\" \"31910796\" \"31165748\" \"31185903\" \"32066846\" ...\n"
     ]
    }
   ],
   "source": [
    "#intersection & union of created single-searchword lists\n",
    "t_search = Venn(b)\n",
    "intersected_trans <- overlap_pairs(t_search)\n",
    "str(intersected_trans)\n",
    "# result is a list of 15 intersection pairs with different sizes, each list now contains PMIDs with at least 2 searchwords existing inside their articles\n",
    "intersected_trans = Venn(intersected_trans)\n",
    "final_trans <- unite(intersected_trans)\n",
    "str(final_trans)\n",
    "# the final list has 20 PMIDs from 80826 initial searches"
   ]
  },
  {
   "cell_type": "code",
   "execution_count": 49,
   "metadata": {},
   "outputs": [
    {
     "name": "stdout",
     "output_type": "stream",
     "text": [
      " [1] \"32019527\" \"31910796\" \"31165748\" \"31185903\" \"32066846\" \"32060572\"\n",
      " [7] \"31729646\" \"29068370\" \"28484474\" \"28428792\" \"29143606\" \"26055625\"\n",
      "[13] \"31076750\" \"25886815\" \"31778224\" \"31628536\" \"30337587\" \"28515146\"\n",
      "[19] \"28241738\" \"25898130\" \"17207255\" \"29581960\" \"29064514\" \"22443345\"\n",
      "[25] \"25517485\" \"28531235\" \"31469444\" \"25562483\" \"29739311\" \"26307377\"\n",
      "[31] \"25707852\" \"27507961\"\n"
     ]
    }
   ],
   "source": [
    "print(final_trans)"
   ]
  },
  {
   "cell_type": "code",
   "execution_count": 50,
   "metadata": {},
   "outputs": [],
   "source": [
    "# Save list for intersection\n",
    "write.table(final_trans, file = \"PMIDlist_transcript.tsv\", row.names = FALSE, sep=\"\\t\")\n",
    "saveRDS(final_trans, file = \"PMIDlist_transcript.rds\")"
   ]
  },
  {
   "cell_type": "markdown",
   "metadata": {},
   "source": [
    "## Visualize transcriptomic-papers with UpsetR"
   ]
  },
  {
   "cell_type": "code",
   "execution_count": null,
   "metadata": {},
   "outputs": [],
   "source": []
  },
  {
   "cell_type": "code",
   "execution_count": 51,
   "metadata": {},
   "outputs": [
    {
     "name": "stdout",
     "output_type": "stream",
     "text": [
      " chr [1:898] \"32214360\" \"32181421\" \"32172750\" \"32131726\" \"32103263\" ...\n"
     ]
    }
   ],
   "source": [
    "#creating sets for UpsetR\n",
    "#full set\n",
    "fullset_t <- meta(transcript_corpus)$pmid\n",
    "str(fullset_t)"
   ]
  },
  {
   "cell_type": "code",
   "execution_count": 52,
   "metadata": {},
   "outputs": [
    {
     "name": "stdout",
     "output_type": "stream",
     "text": [
      " chr [1:40] \"32066846\" \"32060572\" \"32019527\" \"31910796\" \"31790345\" ...\n"
     ]
    }
   ],
   "source": [
    "differentially_expressed <- unlist(b[1])\n",
    "comparative_transcriptom <- unlist(b[2])\n",
    "rnaseq <- unlist(b[3])\n",
    "rna_seq <- unlist(b[4])\n",
    "differential_gene_expression <- unlist(b[5])\n",
    "transcriptome <- unlist(b[6])\n",
    "str(differentially_expressed)"
   ]
  },
  {
   "cell_type": "code",
   "execution_count": 53,
   "metadata": {},
   "outputs": [
    {
     "data": {
      "text/html": [
       "<table>\n",
       "<caption>A data.frame: 6 × 4</caption>\n",
       "<thead>\n",
       "\t<tr><th></th><th scope=col>pmid</th><th scope=col>title</th><th scope=col>year</th><th scope=col>journal</th></tr>\n",
       "\t<tr><th></th><th scope=col>&lt;chr&gt;</th><th scope=col>&lt;chr&gt;</th><th scope=col>&lt;chr&gt;</th><th scope=col>&lt;chr&gt;</th></tr>\n",
       "</thead>\n",
       "<tbody>\n",
       "\t<tr><th scope=row>1</th><td>32214360</td><td>Wheat individual grain-size variance originates from crop development and from specific genetic determinism.                                                </td><td>2020</td><td>PloS one                      </td></tr>\n",
       "\t<tr><th scope=row>2</th><td>32181421</td><td><span style=white-space:pre-wrap>Identification of genes involved in male sterility in wheat (&lt;i&gt;Triticum aestivum&lt;/i&gt; L.) which could be used in a genic hybrid breeding system.            </span></td><td>2020</td><td><span style=white-space:pre-wrap>Plant direct                  </span></td></tr>\n",
       "\t<tr><th scope=row>3</th><td>32172750</td><td>Inferring vascular architecture of the wheat spikelet based on resource allocation in the branched head&lt;sup&gt;t&lt;/sup&gt; (bh&lt;sup&gt;t&lt;/sup&gt;-A1) near isogenic lines.</td><td>2020</td><td>Functional plant biology : FPB</td></tr>\n",
       "\t<tr><th scope=row>4</th><td>32131726</td><td>Evolution of PHAS loci in the young spike of Allohexaploid wheat.                                                                                           </td><td>2020</td><td>BMC genomics                  </td></tr>\n",
       "\t<tr><th scope=row>5</th><td>32103263</td><td>Mis-expression of a transcriptional repressor candidate provides a molecular mechanism for the suppression of awns by Tipped 1 in wheat.                    </td><td>2020</td><td>Journal of experimental botany</td></tr>\n",
       "\t<tr><th scope=row>6</th><td>32066846</td><td>Identification and validation of reference genes for RT-qPCR normalization in wheat meiosis.                                                                </td><td>2020</td><td>Scientific reports            </td></tr>\n",
       "</tbody>\n",
       "</table>\n"
      ],
      "text/latex": [
       "A data.frame: 6 × 4\n",
       "\\begin{tabular}{r|llll}\n",
       "  & pmid & title & year & journal\\\\\n",
       "  & <chr> & <chr> & <chr> & <chr>\\\\\n",
       "\\hline\n",
       "\t1 & 32214360 & Wheat individual grain-size variance originates from crop development and from specific genetic determinism.                                                 & 2020 & PloS one                      \\\\\n",
       "\t2 & 32181421 & Identification of genes involved in male sterility in wheat (<i>Triticum aestivum</i> L.) which could be used in a genic hybrid breeding system.             & 2020 & Plant direct                  \\\\\n",
       "\t3 & 32172750 & Inferring vascular architecture of the wheat spikelet based on resource allocation in the branched head<sup>t</sup> (bh<sup>t</sup>-A1) near isogenic lines. & 2020 & Functional plant biology : FPB\\\\\n",
       "\t4 & 32131726 & Evolution of PHAS loci in the young spike of Allohexaploid wheat.                                                                                            & 2020 & BMC genomics                  \\\\\n",
       "\t5 & 32103263 & Mis-expression of a transcriptional repressor candidate provides a molecular mechanism for the suppression of awns by Tipped 1 in wheat.                     & 2020 & Journal of experimental botany\\\\\n",
       "\t6 & 32066846 & Identification and validation of reference genes for RT-qPCR normalization in wheat meiosis.                                                                 & 2020 & Scientific reports            \\\\\n",
       "\\end{tabular}\n"
      ],
      "text/markdown": [
       "\n",
       "A data.frame: 6 × 4\n",
       "\n",
       "| <!--/--> | pmid &lt;chr&gt; | title &lt;chr&gt; | year &lt;chr&gt; | journal &lt;chr&gt; |\n",
       "|---|---|---|---|---|\n",
       "| 1 | 32214360 | Wheat individual grain-size variance originates from crop development and from specific genetic determinism.                                                 | 2020 | PloS one                       |\n",
       "| 2 | 32181421 | Identification of genes involved in male sterility in wheat (&lt;i&gt;Triticum aestivum&lt;/i&gt; L.) which could be used in a genic hybrid breeding system.             | 2020 | Plant direct                   |\n",
       "| 3 | 32172750 | Inferring vascular architecture of the wheat spikelet based on resource allocation in the branched head&lt;sup&gt;t&lt;/sup&gt; (bh&lt;sup&gt;t&lt;/sup&gt;-A1) near isogenic lines. | 2020 | Functional plant biology : FPB |\n",
       "| 4 | 32131726 | Evolution of PHAS loci in the young spike of Allohexaploid wheat.                                                                                            | 2020 | BMC genomics                   |\n",
       "| 5 | 32103263 | Mis-expression of a transcriptional repressor candidate provides a molecular mechanism for the suppression of awns by Tipped 1 in wheat.                     | 2020 | Journal of experimental botany |\n",
       "| 6 | 32066846 | Identification and validation of reference genes for RT-qPCR normalization in wheat meiosis.                                                                 | 2020 | Scientific reports             |\n",
       "\n"
      ],
      "text/plain": [
       "  pmid    \n",
       "1 32214360\n",
       "2 32181421\n",
       "3 32172750\n",
       "4 32131726\n",
       "5 32103263\n",
       "6 32066846\n",
       "  title                                                                                                                                                       \n",
       "1 Wheat individual grain-size variance originates from crop development and from specific genetic determinism.                                                \n",
       "2 Identification of genes involved in male sterility in wheat (<i>Triticum aestivum</i> L.) which could be used in a genic hybrid breeding system.            \n",
       "3 Inferring vascular architecture of the wheat spikelet based on resource allocation in the branched head<sup>t</sup> (bh<sup>t</sup>-A1) near isogenic lines.\n",
       "4 Evolution of PHAS loci in the young spike of Allohexaploid wheat.                                                                                           \n",
       "5 Mis-expression of a transcriptional repressor candidate provides a molecular mechanism for the suppression of awns by Tipped 1 in wheat.                    \n",
       "6 Identification and validation of reference genes for RT-qPCR normalization in wheat meiosis.                                                                \n",
       "  year journal                       \n",
       "1 2020 PloS one                      \n",
       "2 2020 Plant direct                  \n",
       "3 2020 Functional plant biology : FPB\n",
       "4 2020 BMC genomics                  \n",
       "5 2020 Journal of experimental botany\n",
       "6 2020 Scientific reports            "
      ]
     },
     "metadata": {},
     "output_type": "display_data"
    }
   ],
   "source": [
    "extra_t <- as.data.frame(meta(transcript_corpus))\n",
    "head(extra_t)"
   ]
  },
  {
   "cell_type": "code",
   "execution_count": 54,
   "metadata": {},
   "outputs": [
    {
     "name": "stdout",
     "output_type": "stream",
     "text": [
      "'data.frame':\t898 obs. of  8 variables:\n",
      " $ FlowerPapers                : int  1 1 1 1 1 1 1 1 1 1 ...\n",
      " $ Differentially expressed    : int  0 0 0 0 0 1 0 0 0 1 ...\n",
      " $ Comparative transcriptom    : int  0 0 0 0 0 0 0 0 0 0 ...\n",
      " $ RNAseq                      : int  0 1 0 0 0 1 0 0 0 1 ...\n",
      " $ RNA seq                     : int  0 0 0 0 0 0 0 0 0 0 ...\n",
      " $ Differential gene expression: int  0 0 0 0 0 0 0 0 0 0 ...\n",
      " $ Transcriptome               : int  0 0 0 0 0 0 0 0 0 0 ...\n",
      " $ Selection                   : int  0 0 0 0 0 1 0 0 0 1 ...\n"
     ]
    }
   ],
   "source": [
    "listInput <- list(fullset_t, differentially_expressed, comparative_transcriptom, rnaseq, rna_seq, differential_gene_expression, transcriptome, final_trans)\n",
    "u <- fromList(listInput)\n",
    "colnames(u) <- c(\"FlowerPapers\", \"Differentially expressed\", \"Comparative transcriptom\", \"RNAseq\", \"RNA seq\", \"Differential gene expression\", \"Transcriptome\", \"Selection\") \n",
    "str(u)"
   ]
  },
  {
   "cell_type": "code",
   "execution_count": 55,
   "metadata": {},
   "outputs": [
    {
     "data": {
      "text/html": [
       "<table>\n",
       "<caption>A data.frame: 6 × 12</caption>\n",
       "<thead>\n",
       "\t<tr><th></th><th scope=col>PMID</th><th scope=col>Title</th><th scope=col>Year</th><th scope=col>Journal</th><th scope=col>FlowerPapers</th><th scope=col>Differentially expressed</th><th scope=col>Comparative transcriptom</th><th scope=col>RNAseq</th><th scope=col>RNA seq</th><th scope=col>Differential gene expression</th><th scope=col>Transcriptome</th><th scope=col>Selection</th></tr>\n",
       "\t<tr><th></th><th scope=col>&lt;chr&gt;</th><th scope=col>&lt;chr&gt;</th><th scope=col>&lt;int&gt;</th><th scope=col>&lt;chr&gt;</th><th scope=col>&lt;int&gt;</th><th scope=col>&lt;int&gt;</th><th scope=col>&lt;int&gt;</th><th scope=col>&lt;int&gt;</th><th scope=col>&lt;int&gt;</th><th scope=col>&lt;int&gt;</th><th scope=col>&lt;int&gt;</th><th scope=col>&lt;int&gt;</th></tr>\n",
       "</thead>\n",
       "<tbody>\n",
       "\t<tr><th scope=row>893</th><td>7080085</td><td>Cytogenetic hazards from agricultural chemicals. 4. Sequential screening in the barley progeny test for cytogenetic activity of some systemic fungicides and a metabolite.                                                                                     </td><td>1982</td><td>Toxicology letters                                     </td><td>1</td><td>0</td><td>0</td><td>0</td><td>0</td><td>0</td><td>0</td><td>0</td></tr>\n",
       "\t<tr><th scope=row>894</th><td>7437483</td><td>Change in ultrastructure of apical cells in wheat shoots in ontogenesis.                                                                                                                                                                                       </td><td>1981</td><td>Biology bulletin of the Academy of Sciences of the USSR</td><td>1</td><td>0</td><td>0</td><td>0</td><td>0</td><td>0</td><td>0</td><td>0</td></tr>\n",
       "\t<tr><th scope=row>895</th><td>6936981</td><td>[The relevance of cereal grain pollen in hayfever (author's transl)].                                                                                                                                                                                          </td><td>1981</td><td>Wiener klinische Wochenschrift. Supplementum           </td><td>1</td><td>0</td><td>0</td><td>0</td><td>0</td><td>0</td><td>0</td><td>0</td></tr>\n",
       "\t<tr><th scope=row>896</th><td>726054 </td><td>[Inheritance of certain quantitative and qualitative traits in a system of diallele barley crosses].                                                                                                                                                           </td><td>1979</td><td>TSitologiia i genetika                                 </td><td>1</td><td>0</td><td>0</td><td>0</td><td>0</td><td>0</td><td>0</td><td>0</td></tr>\n",
       "\t<tr><th scope=row>897</th><td>661826 </td><td>[Genetic change in the waxy trait of barley under the influence of wild type DNA. Analysis of the composition of starch and the electrophoretic spectrum of caryopsis hordein from altered plants and the retention of these changes to the fourth generation].</td><td>1978</td><td>Molekuliarnaia biologiia                               </td><td>1</td><td>0</td><td>0</td><td>0</td><td>0</td><td>0</td><td>0</td><td>0</td></tr>\n",
       "\t<tr><th scope=row>898</th><td>1145741</td><td>[Variability in the fertility of pollen from M2 mutants of spring durum wheat].                                                                                                                                                                                </td><td>1975</td><td>TSitologiia i genetika                                 </td><td>1</td><td>0</td><td>0</td><td>0</td><td>0</td><td>0</td><td>0</td><td>0</td></tr>\n",
       "</tbody>\n",
       "</table>\n"
      ],
      "text/latex": [
       "A data.frame: 6 × 12\n",
       "\\begin{tabular}{r|llllllllllll}\n",
       "  & PMID & Title & Year & Journal & FlowerPapers & Differentially expressed & Comparative transcriptom & RNAseq & RNA seq & Differential gene expression & Transcriptome & Selection\\\\\n",
       "  & <chr> & <chr> & <int> & <chr> & <int> & <int> & <int> & <int> & <int> & <int> & <int> & <int>\\\\\n",
       "\\hline\n",
       "\t893 & 7080085 & Cytogenetic hazards from agricultural chemicals. 4. Sequential screening in the barley progeny test for cytogenetic activity of some systemic fungicides and a metabolite.                                                                                      & 1982 & Toxicology letters                                      & 1 & 0 & 0 & 0 & 0 & 0 & 0 & 0\\\\\n",
       "\t894 & 7437483 & Change in ultrastructure of apical cells in wheat shoots in ontogenesis.                                                                                                                                                                                        & 1981 & Biology bulletin of the Academy of Sciences of the USSR & 1 & 0 & 0 & 0 & 0 & 0 & 0 & 0\\\\\n",
       "\t895 & 6936981 & {[}The relevance of cereal grain pollen in hayfever (author's transl){]}.                                                                                                                                                                                           & 1981 & Wiener klinische Wochenschrift. Supplementum            & 1 & 0 & 0 & 0 & 0 & 0 & 0 & 0\\\\\n",
       "\t896 & 726054  & {[}Inheritance of certain quantitative and qualitative traits in a system of diallele barley crosses{]}.                                                                                                                                                            & 1979 & TSitologiia i genetika                                  & 1 & 0 & 0 & 0 & 0 & 0 & 0 & 0\\\\\n",
       "\t897 & 661826  & {[}Genetic change in the waxy trait of barley under the influence of wild type DNA. Analysis of the composition of starch and the electrophoretic spectrum of caryopsis hordein from altered plants and the retention of these changes to the fourth generation{]}. & 1978 & Molekuliarnaia biologiia                                & 1 & 0 & 0 & 0 & 0 & 0 & 0 & 0\\\\\n",
       "\t898 & 1145741 & {[}Variability in the fertility of pollen from M2 mutants of spring durum wheat{]}.                                                                                                                                                                                 & 1975 & TSitologiia i genetika                                  & 1 & 0 & 0 & 0 & 0 & 0 & 0 & 0\\\\\n",
       "\\end{tabular}\n"
      ],
      "text/markdown": [
       "\n",
       "A data.frame: 6 × 12\n",
       "\n",
       "| <!--/--> | PMID &lt;chr&gt; | Title &lt;chr&gt; | Year &lt;int&gt; | Journal &lt;chr&gt; | FlowerPapers &lt;int&gt; | Differentially expressed &lt;int&gt; | Comparative transcriptom &lt;int&gt; | RNAseq &lt;int&gt; | RNA seq &lt;int&gt; | Differential gene expression &lt;int&gt; | Transcriptome &lt;int&gt; | Selection &lt;int&gt; |\n",
       "|---|---|---|---|---|---|---|---|---|---|---|---|---|\n",
       "| 893 | 7080085 | Cytogenetic hazards from agricultural chemicals. 4. Sequential screening in the barley progeny test for cytogenetic activity of some systemic fungicides and a metabolite.                                                                                      | 1982 | Toxicology letters                                      | 1 | 0 | 0 | 0 | 0 | 0 | 0 | 0 |\n",
       "| 894 | 7437483 | Change in ultrastructure of apical cells in wheat shoots in ontogenesis.                                                                                                                                                                                        | 1981 | Biology bulletin of the Academy of Sciences of the USSR | 1 | 0 | 0 | 0 | 0 | 0 | 0 | 0 |\n",
       "| 895 | 6936981 | [The relevance of cereal grain pollen in hayfever (author's transl)].                                                                                                                                                                                           | 1981 | Wiener klinische Wochenschrift. Supplementum            | 1 | 0 | 0 | 0 | 0 | 0 | 0 | 0 |\n",
       "| 896 | 726054  | [Inheritance of certain quantitative and qualitative traits in a system of diallele barley crosses].                                                                                                                                                            | 1979 | TSitologiia i genetika                                  | 1 | 0 | 0 | 0 | 0 | 0 | 0 | 0 |\n",
       "| 897 | 661826  | [Genetic change in the waxy trait of barley under the influence of wild type DNA. Analysis of the composition of starch and the electrophoretic spectrum of caryopsis hordein from altered plants and the retention of these changes to the fourth generation]. | 1978 | Molekuliarnaia biologiia                                | 1 | 0 | 0 | 0 | 0 | 0 | 0 | 0 |\n",
       "| 898 | 1145741 | [Variability in the fertility of pollen from M2 mutants of spring durum wheat].                                                                                                                                                                                 | 1975 | TSitologiia i genetika                                  | 1 | 0 | 0 | 0 | 0 | 0 | 0 | 0 |\n",
       "\n"
      ],
      "text/plain": [
       "    PMID   \n",
       "893 7080085\n",
       "894 7437483\n",
       "895 6936981\n",
       "896 726054 \n",
       "897 661826 \n",
       "898 1145741\n",
       "    Title                                                                                                                                                                                                                                                          \n",
       "893 Cytogenetic hazards from agricultural chemicals. 4. Sequential screening in the barley progeny test for cytogenetic activity of some systemic fungicides and a metabolite.                                                                                     \n",
       "894 Change in ultrastructure of apical cells in wheat shoots in ontogenesis.                                                                                                                                                                                       \n",
       "895 [The relevance of cereal grain pollen in hayfever (author's transl)].                                                                                                                                                                                          \n",
       "896 [Inheritance of certain quantitative and qualitative traits in a system of diallele barley crosses].                                                                                                                                                           \n",
       "897 [Genetic change in the waxy trait of barley under the influence of wild type DNA. Analysis of the composition of starch and the electrophoretic spectrum of caryopsis hordein from altered plants and the retention of these changes to the fourth generation].\n",
       "898 [Variability in the fertility of pollen from M2 mutants of spring durum wheat].                                                                                                                                                                                \n",
       "    Year Journal                                                 FlowerPapers\n",
       "893 1982 Toxicology letters                                      1           \n",
       "894 1981 Biology bulletin of the Academy of Sciences of the USSR 1           \n",
       "895 1981 Wiener klinische Wochenschrift. Supplementum            1           \n",
       "896 1979 TSitologiia i genetika                                  1           \n",
       "897 1978 Molekuliarnaia biologiia                                1           \n",
       "898 1975 TSitologiia i genetika                                  1           \n",
       "    Differentially expressed Comparative transcriptom RNAseq RNA seq\n",
       "893 0                        0                        0      0      \n",
       "894 0                        0                        0      0      \n",
       "895 0                        0                        0      0      \n",
       "896 0                        0                        0      0      \n",
       "897 0                        0                        0      0      \n",
       "898 0                        0                        0      0      \n",
       "    Differential gene expression Transcriptome Selection\n",
       "893 0                            0             0        \n",
       "894 0                            0             0        \n",
       "895 0                            0             0        \n",
       "896 0                            0             0        \n",
       "897 0                            0             0        \n",
       "898 0                            0             0        "
      ]
     },
     "metadata": {},
     "output_type": "display_data"
    }
   ],
   "source": [
    "all <- bind_cols(extra_t, u)\n",
    "colnames(all) <- c(\"PMID\", \"Title\", \"Year\", \"Journal\", \"FlowerPapers\", \"Differentially expressed\", \"Comparative transcriptom\", \"RNAseq\", \"RNA seq\", \"Differential gene expression\", \"Transcriptome\", \"Selection\") \n",
    "all$Year <- as.integer(all$Year)\n",
    "tail(all)"
   ]
  },
  {
   "cell_type": "code",
   "execution_count": 59,
   "metadata": {},
   "outputs": [
    {
     "data": {
      "image/png": "[encoded data removed]",
      "text/plain": [
       "plot without title"
      ]
     },
     "metadata": {},
     "output_type": "display_data"
    }
   ],
   "source": [
    "upset(all, sets = c(\"FlowerPapers\", \"Differentially expressed\", \"Comparative transcriptom\", \"RNAseq\", \"RNA seq\", \"Differential gene expression\", \"Transcriptome\", \"Selection\"),\n",
    "      order.by = \"freq\", main.bar.color = \"black\", matrix.color = \"red4\", shade.color = \"lightcoral\", sets.bar.color =c(\"red\", \"red4\", \"red4\", \"firebrick1\", \"red4\", \"red4\", \"red4\", \"red4\"), matrix.dot.alpha = 30, shade.alpha = 0.75,\n",
    "      set_size.show = F, text.scale = c(1, 1, 1, 0.8, 1, 1), point.size = 2.5,\n",
    "      mainbar.y.label = \"Intersection Size\", sets.x.label = \"Articles per searchword\")\n",
    "\n",
    "#text.scale = c(intersection size title, intersection size tick labels, set size title, set size tick labels, set names, numbers above bars)\n",
    "#mb.ratio = parameter entered as percentages, change the proportions of the plot heights assigned to the matrix and intersection size bar plot\n",
    "#to highlight intersection: queries = list(list(query = intersects, params = list(\"Wheat\"), active = T)),\n",
    "#to include one more plot: , list(plot = scatter_plot, x = \"Year\", y = \"PMID\"), ncols = 2)\n",
    "#to write my own plotting function: myplot <- function(mydata, x, y) {\n",
    "    #plot <- (ggplot(data = mydata, aes_string(x = x, y = y, colour = \"color\")) + \n",
    "        #geom_point() + scale_color_identity() + theme(plot.margin = unit(c(0, \n",
    "        #0, 0, 0), \"cm\")))\n",
    "#}"
   ]
  },
  {
   "cell_type": "code",
   "execution_count": 60,
   "metadata": {},
   "outputs": [
    {
     "data": {
      "text/plain": [
       "R version 3.6.3 (2020-02-29)\n",
       "Platform: x86_64-conda_cos6-linux-gnu (64-bit)\n",
       "Running under: CentOS Linux 7 (Core)\n",
       "\n",
       "Matrix products: default\n",
       "BLAS/LAPACK: /home/vanda.marosi/anaconda3/envs/r/lib/libopenblasp-r0.3.9.so\n",
       "\n",
       "locale:\n",
       " [1] LC_CTYPE=en_US.UTF-8       LC_NUMERIC=C              \n",
       " [3] LC_TIME=de_DE.UTF-8        LC_COLLATE=en_US.UTF-8    \n",
       " [5] LC_MONETARY=de_DE.UTF-8    LC_MESSAGES=en_US.UTF-8   \n",
       " [7] LC_PAPER=de_DE.UTF-8       LC_NAME=C                 \n",
       " [9] LC_ADDRESS=C               LC_TELEPHONE=C            \n",
       "[11] LC_MEASUREMENT=de_DE.UTF-8 LC_IDENTIFICATION=C       \n",
       "\n",
       "attached base packages:\n",
       "[1] grid      parallel  stats     graphics  grDevices utils     datasets \n",
       "[8] methods   base     \n",
       "\n",
       "other attached packages:\n",
       " [1] ggplot2_3.3.0      UpSetR_1.4.0       SnowballC_0.6.0    wordcloud_2.6     \n",
       " [5] RColorBrewer_1.1-2 RVenn_1.1.0        purrr_0.3.4        doParallel_1.0.14 \n",
       " [9] iterators_1.0.12   foreach_1.5.0      dplyr_0.8.5        tm_0.7-6          \n",
       "[13] NLP_0.2-0         \n",
       "\n",
       "loaded via a namespace (and not attached):\n",
       " [1] Rcpp_1.0.4.6     plyr_1.8.6       pillar_1.4.3     compiler_3.6.3  \n",
       " [5] base64enc_0.1-3  tools_3.6.3      digest_0.6.25    uuid_0.1-4      \n",
       " [9] gtable_0.3.0     jsonlite_1.6.1   evaluate_0.14    tibble_3.0.1    \n",
       "[13] lifecycle_0.2.0  pkgconfig_2.0.3  rlang_0.4.5      IRdisplay_0.7.0 \n",
       "[17] IRkernel_0.8.15  gridExtra_2.3    withr_2.2.0      repr_1.1.0      \n",
       "[21] xml2_1.3.2       vctrs_0.2.4      tidyselect_1.0.0 glue_1.4.0      \n",
       "[25] R6_2.4.1         pbdZMQ_0.3-3     farver_2.0.3     magrittr_1.5    \n",
       "[29] scales_1.1.0     codetools_0.2-16 htmltools_0.4.0  ellipsis_0.3.0  \n",
       "[33] assertthat_0.2.1 colorspace_1.4-1 labeling_0.3     munsell_0.5.0   \n",
       "[37] slam_0.1-47      crayon_1.3.4    "
      ]
     },
     "metadata": {},
     "output_type": "display_data"
    }
   ],
   "source": [
    "sessionInfo()"
   ]
  }
 ],
 "metadata": {
  "kernelspec": {
   "display_name": "R [conda env:r]",
   "language": "R",
   "name": "conda-env-r-r"
  },
  "language_info": {
   "codemirror_mode": "r",
   "file_extension": ".r",
   "mimetype": "text/x-r-source",
   "name": "R",
   "pygments_lexer": "r",
   "version": "3.6.3"
  }
 },
 "nbformat": 4,
 "nbformat_minor": 4
}
