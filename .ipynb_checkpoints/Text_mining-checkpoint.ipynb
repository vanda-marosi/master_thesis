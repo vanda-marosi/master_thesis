{
 "cells": [
  {
   "cell_type": "markdown",
   "metadata": {},
   "source": [
    "# Creating corpus using the `RIsmed` package - 0.1\n",
    "### Wheat\n",
    "In order not to overload the E-utility servers, NCBI recommends that users post no more than three\n",
    "URL requests per second and limit large jobs to either weekends or between 9:00 PM and 5:00 AM\n",
    "Eastern time during weekdays. Failure to comply with this policy may result in an IP address being\n",
    "blocked from accessing NCBI."
   ]
  },
  {
   "cell_type": "code",
   "execution_count": null,
   "metadata": {},
   "outputs": [],
   "source": [
    "library(RISmed)\n",
    "search_query <- EUtilsSummary(\"Triticum aestivum\", type = \"esearch\", db =\"pubmed\",  retmax=1000, mindate=1950, maxdate=2020)\n",
    "summary(search_query)\n",
    "# retmax=Maximum number of records to retrieve, default is 1000.\n",
    "# the total result is 32291 articles"
   ]
  },
  {
   "cell_type": "code",
   "execution_count": null,
   "metadata": {},
   "outputs": [],
   "source": [
    "# to see the ids of our returned query\n",
    "head(QueryId(search_query))"
   ]
  },
  {
   "cell_type": "code",
   "execution_count": null,
   "metadata": {},
   "outputs": [],
   "source": [
    "# export query into data.frame:\n",
    "wheat <- EUtilsGet(search_query, type = \"efetch\", db = \"pubmed\")\n",
    "class(wheat)\n",
    "pubmed_wheat <- data.frame(\"Title\"=ArticleTitle(wheat),\"Abstract\"=AbstractText(wheat), \"PMID\"=PMID(wheat))\n",
    "head(pubmed_wheat)"
   ]
  },
  {
   "cell_type": "code",
   "execution_count": null,
   "metadata": {},
   "outputs": [],
   "source": [
    "# get rid of commas, for writing it into csv\n",
    "pubmed_wheat$Abstract <- as.character(pubmed_wheat$Abstract)\n",
    "pubmed_wheat$Abstract <- gsub(\",\", \" \", pubmed_wheat$Abstract, fixed = TRUE)\n",
    "# export csv for documentation\n",
    "write.csv(pubmed_wheat, file = \"RISmed_wheat.csv\", row.names = FALSE)"
   ]
  },
  {
   "cell_type": "markdown",
   "metadata": {},
   "source": [
    "### Barley\n"
   ]
  },
  {
   "cell_type": "code",
   "execution_count": null,
   "metadata": {},
   "outputs": [],
   "source": [
    "search_query2 <- EUtilsSummary(\"Hordeum vulgare\", type = \"esearch\", db =\"pubmed\",  retmax=1000, mindate=1950, maxdate=2020)\n",
    "summary(search_query2)\n",
    "#the total result is 11520 articles\n",
    "\n",
    "# to see the ids of our returned query\n",
    "head(QueryId(search_query))\n",
    "\n",
    "# export query into data.frame:\n",
    "barley <- EUtilsGet(search_query2, type = \"efetch\", db = \"pubmed\")\n",
    "class(barley)\n",
    "pubmed_barley <- data.frame(\"Title\"=ArticleTitle(barley),\"Abstract\"=AbstractText(barley), \"PMID\"=PMID(barley))\n",
    "head(pubmed_barley)\n",
    "\n",
    "# get rid of commas, for writing it into csv\n",
    "pubmed_barley$Abstract <- as.character(pubmed_barley$Abstract)\n",
    "pubmed_barley$Abstract <- gsub(\",\", \" \", pubmed_barley$Abstract, fixed = TRUE)\n",
    "# export csv for documentation\n",
    "write.csv(pubmed_barley, file = \"RISmed_barley.csv\", row.names = FALSE)\n"
   ]
  },
  {
   "cell_type": "code",
   "execution_count": null,
   "metadata": {},
   "outputs": [],
   "source": [
    "## Issue:\n",
    "* many titles/abstracts are nonrecognised and displayed as \"NA\" -> doesnt provide full result of searches!\n",
    "\n",
    "## Advantage\n",
    "* easy and quick way to get corpus formatted data.frame of most article abstracts with PMIDs etc"
   ]
  }
 ],
 "metadata": {
  "kernelspec": {
   "display_name": "R [conda env:r]",
   "language": "R",
   "name": "conda-env-r-r"
  },
  "language_info": {
   "codemirror_mode": "r",
   "file_extension": ".r",
   "mimetype": "text/x-r-source",
   "name": "R",
   "pygments_lexer": "r",
   "version": "3.6.1"
  }
 },
 "nbformat": 4,
 "nbformat_minor": 4
}
