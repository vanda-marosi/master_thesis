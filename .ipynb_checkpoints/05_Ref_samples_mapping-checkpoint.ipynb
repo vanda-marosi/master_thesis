{
 "cells": [
  {
   "cell_type": "markdown",
   "metadata": {},
   "source": [
    "# Mapping \n",
    "\n",
    "## 1. Mapping single & paired reads with `kallisto` using bash scripts on slurm\n",
    "* adapted Maxim's scripts:\n",
    "* created symlinks: ` ln -s /path/to/file /path/to/symlink`\n",
    "* directory of indexes: `/nfs/pgsb/projects/comparative_triticeae/phenotype/flower_development/indexes/kallisto`\n",
    "* created indexes using: - with a k-mer length of 31\n",
    "    - triticum: `kallisto index -i /nfs/pgsb/projects/comparative_triticeae/phenotype/flower_development/indexes/kallisto/triticum_transcritpt.idx transcript.fasta`\n",
    "    - hordeum: `kallisto index -i /nfs/pgsb/projects/comparative_triticeae/phenotype/flower_development/indexes/kallisto/hordeum_transcript.idx transcript.fasta`\n",
    "* location of kallisto tool: `/home/pgsb/vanda.marosi/anaconda3/envs/seqtools/bin/kallisto`\n",
    "* bash scripts are available: `~/scripts/triticum OR hordeum/run_04_..._kallisto_single OR paired.sh`\n",
    "\n",
    "## 1.1 Location of Ref.Genomes\n",
    "* all of them are symlinked under: `/nfs/pgsb/projects/comparative_triticeae/phenotype/flower_development/genomes/`\n",
    "`./Horvu/CDS.fasta:49281\n",
    "./Horvu/protein.fasta:46294\n",
    "./Horvu/transcript.fasta:49281\n",
    "./Horvu/genome.fasta:8\n",
    "./Triae/protein.fasta:122722\n",
    "./Triae/genome.fasta:22\n",
    "./Triae/transcript.fasta:123075\n",
    "./Triae/CDS.fasta:122722`\n",
    "\n",
    "* as an example Daniel's snakemake kallisto pipeline: https://ibis-gitlab.helmholtz-muenchen.de/daniel.lang/kallisto/-/tree/master\n",
    "\n",
    "## 1.2 After mapping\n",
    "* the default result from `kallisto` for each sample is 3 files: \n",
    "    - `abundance.h5` - binary file\n",
    "    - `abundance.tsv` - tab separated file: `target_id, length, eff_length, est_counts, tpm`\n",
    "    - `run_info.json` - inf about run command, time, tool version etc.\n",
    "    - kallisto created a normalized table of the transcripts, which can be used for PCA already\n",
    "    - but to divide the transcripts into real genes `readr` and `tximport` packages has to be used to combine my results with annotation.gff files and make a real count-table\n",
    "    - count table can be log-transformed, and further statistical validations, PCAs using `r-sleuth`, `DeSeq2`, `HR`\n",
    "* manuals & example guidelines:\n",
    "    - tximport: https://bioconductor.org/packages/release/bioc/vignettes/tximport/inst/doc/tximport.html#kallisto"
   ]
  },
  {
   "cell_type": "code",
   "execution_count": null,
   "metadata": {},
   "outputs": [],
   "source": []
  },
  {
   "cell_type": "markdown",
   "metadata": {},
   "source": [
    "# 2. Map transcripts to genes and create count-tables\n",
    "* here first only paired OR single reads were converted into a count-table and later was their merged table made"
   ]
  },
  {
   "cell_type": "code",
   "execution_count": 2,
   "metadata": {},
   "outputs": [],
   "source": [
    "library(rhdf5, warn.conflicts = FALSE)\n",
    "library(readr, warn.conflicts = FALSE)\n",
    "library(tximport, warn.conflicts = FALSE)\n",
    "library(GenomicFeatures, warn.conflicts = FALSE)\n",
    "# do not call tidyverse here!!! its `select()` interferes with tximport!\n",
    "# call tidyverse only after creating all necessary tx2gene objects"
   ]
  },
  {
   "cell_type": "markdown",
   "metadata": {},
   "source": [
    "## Triticum paired"
   ]
  },
  {
   "cell_type": "code",
   "execution_count": 3,
   "metadata": {},
   "outputs": [
    {
     "name": "stdout",
     "output_type": "stream",
     "text": [
      "'data.frame':\t180 obs. of  3 variables:\n",
      " $ ID          : chr  \"SRR10737427\" \"SRR10737428\" \"SRR10737429\" \"SRR10737430\" ...\n",
      " $ dataset_name: chr  \"pistillody of stamen\" \"pistillody of stamen\" \"pistillody of stamen\" \"pistillody of stamen\" ...\n",
      " $ tissue      : chr  \"anther\" \"anther\" \"anther\" \"anther\" ...\n"
     ]
    }
   ],
   "source": [
    "setwd(\"/nfs/pgsb/projects/comparative_triticeae/phenotype/flower_development/refsets/triticum/\")\n",
    "trit_paired <- read.table(\"wheat_project_table_trimmomatic_paired.txt\", sep = \"\\t\", header = TRUE, stringsAsFactors = FALSE)\n",
    "str(trit_paired)"
   ]
  },
  {
   "cell_type": "code",
   "execution_count": 4,
   "metadata": {},
   "outputs": [
    {
     "data": {
      "text/html": [
       "<style>\n",
       ".dl-inline {width: auto; margin:0; padding: 0}\n",
       ".dl-inline>dt, .dl-inline>dd {float: none; width: auto; display: inline-block}\n",
       ".dl-inline>dt::after {content: \":\\0020\"; padding-right: .5ex}\n",
       ".dl-inline>dt:not(:first-of-type) {padding-left: .5ex}\n",
       "</style><dl class=dl-inline><dt>SRR10737427</dt><dd>'SRR10737427/abundance.h5'</dd><dt>SRR10737428</dt><dd>'SRR10737428/abundance.h5'</dd><dt>SRR10737429</dt><dd>'SRR10737429/abundance.h5'</dd><dt>SRR10737430</dt><dd>'SRR10737430/abundance.h5'</dd><dt>SRR10737431</dt><dd>'SRR10737431/abundance.h5'</dd><dt>SRR10737432</dt><dd>'SRR10737432/abundance.h5'</dd></dl>\n"
      ],
      "text/latex": [
       "\\begin{description*}\n",
       "\\item[SRR10737427] 'SRR10737427/abundance.h5'\n",
       "\\item[SRR10737428] 'SRR10737428/abundance.h5'\n",
       "\\item[SRR10737429] 'SRR10737429/abundance.h5'\n",
       "\\item[SRR10737430] 'SRR10737430/abundance.h5'\n",
       "\\item[SRR10737431] 'SRR10737431/abundance.h5'\n",
       "\\item[SRR10737432] 'SRR10737432/abundance.h5'\n",
       "\\end{description*}\n"
      ],
      "text/markdown": [
       "SRR10737427\n",
       ":   'SRR10737427/abundance.h5'SRR10737428\n",
       ":   'SRR10737428/abundance.h5'SRR10737429\n",
       ":   'SRR10737429/abundance.h5'SRR10737430\n",
       ":   'SRR10737430/abundance.h5'SRR10737431\n",
       ":   'SRR10737431/abundance.h5'SRR10737432\n",
       ":   'SRR10737432/abundance.h5'\n",
       "\n"
      ],
      "text/plain": [
       "               SRR10737427                SRR10737428 \n",
       "\"SRR10737427/abundance.h5\" \"SRR10737428/abundance.h5\" \n",
       "               SRR10737429                SRR10737430 \n",
       "\"SRR10737429/abundance.h5\" \"SRR10737430/abundance.h5\" \n",
       "               SRR10737431                SRR10737432 \n",
       "\"SRR10737431/abundance.h5\" \"SRR10737432/abundance.h5\" "
      ]
     },
     "metadata": {},
     "output_type": "display_data"
    },
    {
     "data": {
      "text/html": [
       "TRUE"
      ],
      "text/latex": [
       "TRUE"
      ],
      "text/markdown": [
       "TRUE"
      ],
      "text/plain": [
       "[1] TRUE"
      ]
     },
     "metadata": {},
     "output_type": "display_data"
    }
   ],
   "source": [
    "setwd(\"/nfs/pgsb/projects/comparative_triticeae/phenotype/flower_development/refsets/triticum/04_Kallisto_paired\")\n",
    "files_tp <- file.path(trit_paired$ID, \"abundance.h5\")\n",
    "names(files_tp) <- paste0(trit_paired$ID)\n",
    "head(files_tp)\n",
    "all(file.exists(files_tp))"
   ]
  },
  {
   "cell_type": "markdown",
   "metadata": {},
   "source": [
    "Transcripts need to be associated with gene IDs for gene-level summarization:\n",
    "1. We first make a data.frame called tx2gene with two columns: \n",
    "    - 1) transcript ID and \n",
    "    - 2) gene ID. \n",
    "2. The column names do not matter but this column order must be used. The transcript ID must be the same one used in the abundance files."
   ]
  },
  {
   "cell_type": "code",
   "execution_count": 5,
   "metadata": {},
   "outputs": [
    {
     "name": "stderr",
     "output_type": "stream",
     "text": [
      "Import genomic features from the file as a GRanges object ... \n",
      "OK\n",
      "\n",
      "Prepare the 'metadata' data frame ... \n",
      "OK\n",
      "\n",
      "Make the TxDb object ... \n",
      "OK\n",
      "\n"
     ]
    },
    {
     "name": "stdout",
     "output_type": "stream",
     "text": [
      "Reference class 'TxDb' [package \"GenomicFeatures\"] with 5 fields\n",
      " $ conn           :Formal class 'SQLiteConnection' [package \"RSQLite\"] with 7 slots\n",
      "  .. ..@ ptr                :<externalptr> \n",
      "  .. ..@ dbname             : chr \"\"\n",
      "  .. ..@ loadable.extensions: logi TRUE\n",
      "  .. ..@ flags              : int 70\n",
      "  .. ..@ vfs                : chr \"\"\n",
      "  .. ..@ ref                :<environment: 0x55c1e4dc3360> \n",
      "  .. ..@ bigint             : chr \"integer64\"\n",
      " $ packageName    : chr(0) \n",
      " $ user_seqlevels : chr [1:22] \"chr1A\" \"chr1B\" \"chr2A\" \"chr2B\" ...\n",
      " $ user2seqlevels0: int [1:22] 1 2 3 4 5 6 7 8 9 10 ...\n",
      " $ isActiveSeq    : logi [1:22] TRUE TRUE TRUE TRUE TRUE TRUE ...\n",
      " and 16 methods, of which 2 are  possibly relevant:\n",
      "   finalize, initialize\n"
     ]
    }
   ],
   "source": [
    "# create tx2gene data.frame\n",
    "setwd(\"/nfs/pgsb/projects/comparative_triticeae/phenotype/flower_development/genomes/Triae/\")\n",
    "txdb_trit <- makeTxDbFromGFF(\"annotation.gff3\", organism = \"Triticum aestivum\")\n",
    "#makeTxDbFromGFF(file, format=c(\"auto\", \"gff3\", \"gtf\"), dataSource=NA, organism=NA, taxonomyId=NA, circ_seqs=DEFAULT_CIRC_SEQS, chrominfo=NULL, miRBaseBuild=NA, dbxrefTag)\n",
    "str(txdb_trit)"
   ]
  },
  {
   "cell_type": "code",
   "execution_count": 6,
   "metadata": {},
   "outputs": [
    {
     "name": "stderr",
     "output_type": "stream",
     "text": [
      "'select()' returned 1:1 mapping between keys and columns\n",
      "\n"
     ]
    },
    {
     "data": {
      "text/html": [
       "<table>\n",
       "<caption>A data.frame: 6 × 2</caption>\n",
       "<thead>\n",
       "\t<tr><th></th><th scope=col>TXNAME</th><th scope=col>GENEID</th></tr>\n",
       "\t<tr><th></th><th scope=col>&lt;chr&gt;</th><th scope=col>&lt;chr&gt;</th></tr>\n",
       "</thead>\n",
       "<tbody>\n",
       "\t<tr><th scope=row>1</th><td>TraesCHI1A01G000600.1</td><td>TraesCHI1A01G000600</td></tr>\n",
       "\t<tr><th scope=row>2</th><td>TraesCHI1A01G000800.1</td><td>TraesCHI1A01G000800</td></tr>\n",
       "\t<tr><th scope=row>3</th><td>TraesCHI1A01G001100.1</td><td>TraesCHI1A01G001100</td></tr>\n",
       "\t<tr><th scope=row>4</th><td>TraesCHI1A01G001400.1</td><td>TraesCHI1A01G001400</td></tr>\n",
       "\t<tr><th scope=row>5</th><td>TraesCHI1A01G001500.1</td><td>TraesCHI1A01G001500</td></tr>\n",
       "\t<tr><th scope=row>6</th><td>TraesCHI1A01G001700.1</td><td>TraesCHI1A01G001700</td></tr>\n",
       "</tbody>\n",
       "</table>\n"
      ],
      "text/latex": [
       "A data.frame: 6 × 2\n",
       "\\begin{tabular}{r|ll}\n",
       "  & TXNAME & GENEID\\\\\n",
       "  & <chr> & <chr>\\\\\n",
       "\\hline\n",
       "\t1 & TraesCHI1A01G000600.1 & TraesCHI1A01G000600\\\\\n",
       "\t2 & TraesCHI1A01G000800.1 & TraesCHI1A01G000800\\\\\n",
       "\t3 & TraesCHI1A01G001100.1 & TraesCHI1A01G001100\\\\\n",
       "\t4 & TraesCHI1A01G001400.1 & TraesCHI1A01G001400\\\\\n",
       "\t5 & TraesCHI1A01G001500.1 & TraesCHI1A01G001500\\\\\n",
       "\t6 & TraesCHI1A01G001700.1 & TraesCHI1A01G001700\\\\\n",
       "\\end{tabular}\n"
      ],
      "text/markdown": [
       "\n",
       "A data.frame: 6 × 2\n",
       "\n",
       "| <!--/--> | TXNAME &lt;chr&gt; | GENEID &lt;chr&gt; |\n",
       "|---|---|---|\n",
       "| 1 | TraesCHI1A01G000600.1 | TraesCHI1A01G000600 |\n",
       "| 2 | TraesCHI1A01G000800.1 | TraesCHI1A01G000800 |\n",
       "| 3 | TraesCHI1A01G001100.1 | TraesCHI1A01G001100 |\n",
       "| 4 | TraesCHI1A01G001400.1 | TraesCHI1A01G001400 |\n",
       "| 5 | TraesCHI1A01G001500.1 | TraesCHI1A01G001500 |\n",
       "| 6 | TraesCHI1A01G001700.1 | TraesCHI1A01G001700 |\n",
       "\n"
      ],
      "text/plain": [
       "  TXNAME                GENEID             \n",
       "1 TraesCHI1A01G000600.1 TraesCHI1A01G000600\n",
       "2 TraesCHI1A01G000800.1 TraesCHI1A01G000800\n",
       "3 TraesCHI1A01G001100.1 TraesCHI1A01G001100\n",
       "4 TraesCHI1A01G001400.1 TraesCHI1A01G001400\n",
       "5 TraesCHI1A01G001500.1 TraesCHI1A01G001500\n",
       "6 TraesCHI1A01G001700.1 TraesCHI1A01G001700"
      ]
     },
     "metadata": {},
     "output_type": "display_data"
    }
   ],
   "source": [
    "k_trit <- keys(txdb_trit, keytype = \"TXNAME\")\n",
    "tx2gene_trit <- select(txdb_trit, k_trit, \"GENEID\", \"TXNAME\")\n",
    "head(tx2gene_trit)"
   ]
  },
  {
   "cell_type": "markdown",
   "metadata": {},
   "source": [
    "transcripts can be converted into count-table without assigning them to genes: \n",
    "* `txi = tximport(files, type = \"kallisto\", txOut = TRUE)`\n",
    "* `head(txi$counts)`"
   ]
  },
  {
   "cell_type": "code",
   "execution_count": 58,
   "metadata": {},
   "outputs": [
    {
     "name": "stderr",
     "output_type": "stream",
     "text": [
      "1 \n",
      "2 \n",
      "3 \n",
      "4 \n",
      "5 \n",
      "6 \n",
      "7 \n",
      "8 \n",
      "9 \n",
      "10 \n",
      "11 \n",
      "12 \n",
      "13 \n",
      "14 \n",
      "15 \n",
      "16 \n",
      "17 \n",
      "18 \n",
      "19 \n",
      "20 \n",
      "21 \n",
      "22 \n",
      "23 \n",
      "24 \n",
      "25 \n",
      "26 \n",
      "27 \n",
      "28 \n",
      "29 \n",
      "30 \n",
      "31 \n",
      "32 \n",
      "33 \n",
      "34 \n",
      "35 \n",
      "36 \n",
      "37 \n",
      "38 \n",
      "39 \n",
      "40 \n",
      "41 \n",
      "42 \n",
      "43 \n",
      "44 \n",
      "45 \n",
      "46 \n",
      "47 \n",
      "48 \n",
      "49 \n",
      "50 \n",
      "51 \n",
      "52 \n",
      "53 \n",
      "54 \n",
      "55 \n",
      "56 \n",
      "57 \n",
      "58 \n",
      "59 \n",
      "60 \n",
      "61 \n",
      "62 \n",
      "63 \n",
      "64 \n",
      "65 \n",
      "66 \n",
      "67 \n",
      "68 \n",
      "69 \n",
      "70 \n",
      "71 \n",
      "72 \n",
      "73 \n",
      "74 \n",
      "75 \n",
      "76 \n",
      "77 \n",
      "78 \n",
      "79 \n",
      "80 \n",
      "81 \n",
      "82 \n",
      "83 \n",
      "84 \n",
      "85 \n",
      "86 \n",
      "87 \n",
      "88 \n",
      "89 \n",
      "90 \n",
      "91 \n",
      "92 \n",
      "93 \n",
      "94 \n",
      "95 \n",
      "96 \n",
      "97 \n",
      "98 \n",
      "99 \n",
      "100 \n",
      "101 \n",
      "102 \n",
      "103 \n",
      "104 \n",
      "105 \n",
      "106 \n",
      "107 \n",
      "108 \n",
      "109 \n",
      "110 \n",
      "111 \n",
      "112 \n",
      "113 \n",
      "114 \n",
      "115 \n",
      "116 \n",
      "117 \n",
      "118 \n",
      "119 \n",
      "120 \n",
      "121 \n",
      "122 \n",
      "123 \n",
      "124 \n",
      "125 \n",
      "126 \n",
      "127 \n",
      "128 \n",
      "129 \n",
      "130 \n",
      "131 \n",
      "132 \n",
      "133 \n",
      "134 \n",
      "135 \n",
      "136 \n",
      "137 \n",
      "138 \n",
      "139 \n",
      "140 \n",
      "141 \n",
      "142 \n",
      "143 \n",
      "144 \n",
      "145 \n",
      "146 \n",
      "147 \n",
      "148 \n",
      "149 \n",
      "150 \n",
      "151 \n",
      "152 \n",
      "153 \n",
      "154 \n",
      "155 \n",
      "156 \n",
      "157 \n",
      "158 \n",
      "159 \n",
      "160 \n",
      "161 \n",
      "162 \n",
      "163 \n",
      "164 \n",
      "165 \n",
      "166 \n",
      "167 \n",
      "168 \n",
      "169 \n",
      "170 \n",
      "171 \n",
      "172 \n",
      "173 \n",
      "174 \n",
      "175 \n",
      "176 \n",
      "177 \n",
      "178 \n",
      "179 \n",
      "180 \n",
      "\n",
      "\n",
      "summarizing abundance\n",
      "\n",
      "summarizing counts\n",
      "\n",
      "summarizing length\n",
      "\n",
      "summarizing inferential replicates\n",
      "\n"
     ]
    },
    {
     "data": {
      "text/html": [
       "<table>\n",
       "<caption>A matrix: 6 × 180 of type dbl</caption>\n",
       "<thead>\n",
       "\t<tr><th></th><th scope=col>SRR10737427</th><th scope=col>SRR10737428</th><th scope=col>SRR10737429</th><th scope=col>SRR10737430</th><th scope=col>SRR10737431</th><th scope=col>SRR10737432</th><th scope=col>CRR088963</th><th scope=col>CRR088962</th><th scope=col>CRR088961</th><th scope=col>CRR088960</th><th scope=col>⋯</th><th scope=col>SRR8413505</th><th scope=col>SRR8413506</th><th scope=col>SRR8413507</th><th scope=col>SRR8413508</th><th scope=col>SRR5186313</th><th scope=col>SRR5186364</th><th scope=col>SRR5186375</th><th scope=col>SRR5186382</th><th scope=col>SRR5186387</th><th scope=col>SRR5186416</th></tr>\n",
       "</thead>\n",
       "<tbody>\n",
       "\t<tr><th scope=row>TraesCHI1A01G000100</th><td>  0.0000</td><td>0.000000</td><td>  0.0000</td><td> 0.000000</td><td>0.000000</td><td> 0.000000</td><td>  0.0000</td><td>0.000000</td><td>  0.0000</td><td>  0.0000</td><td>⋯</td><td>  0.0000</td><td>  0.000000</td><td>  0.0000</td><td>  0.0000</td><td>0.000000</td><td>0.000000</td><td>0.000000</td><td>0.000000</td><td>0.000000</td><td>0.000000</td></tr>\n",
       "\t<tr><th scope=row>TraesCHI1A01G000200</th><td>  0.0000</td><td>0.000000</td><td>  0.0000</td><td> 0.000000</td><td>0.000000</td><td> 0.000000</td><td>  0.0000</td><td>0.000000</td><td>  0.0000</td><td>  0.0000</td><td>⋯</td><td>  0.0000</td><td>  0.000000</td><td>  0.0000</td><td>  0.0000</td><td>0.000000</td><td>0.000000</td><td>0.000000</td><td>0.000000</td><td>0.000000</td><td>0.000000</td></tr>\n",
       "\t<tr><th scope=row>TraesCHI1A01G000300</th><td>  0.0000</td><td>0.000000</td><td>  0.0000</td><td> 0.000000</td><td>0.000000</td><td> 0.000000</td><td>  0.0000</td><td>0.000000</td><td>  0.0000</td><td>  0.0000</td><td>⋯</td><td>  6.0000</td><td>  7.878112</td><td> 14.0000</td><td>  1.0000</td><td>0.000000</td><td>0.000000</td><td>0.000000</td><td>0.000000</td><td>0.000000</td><td>0.000000</td></tr>\n",
       "\t<tr><th scope=row>TraesCHI1A01G000400</th><td>  0.0000</td><td>0.000000</td><td>  0.0000</td><td> 4.893036</td><td>4.726423</td><td> 1.938802</td><td>  0.0000</td><td>0.000000</td><td>  0.0000</td><td>  0.0000</td><td>⋯</td><td>140.5432</td><td>108.839845</td><td>177.3651</td><td>112.3966</td><td>1.993108</td><td>0.000000</td><td>0.000000</td><td>0.000000</td><td>2.004102</td><td>0.000000</td></tr>\n",
       "\t<tr><th scope=row>TraesCHI1A01G000500</th><td>  1.0000</td><td>8.000000</td><td>  7.0000</td><td> 9.000000</td><td>2.000000</td><td> 3.000000</td><td>  1.0000</td><td>8.000000</td><td>  7.0000</td><td>  9.0000</td><td>⋯</td><td>  5.0000</td><td> 11.000000</td><td> 12.0000</td><td>  5.0000</td><td>1.000000</td><td>0.000000</td><td>2.000000</td><td>0.000000</td><td>0.000000</td><td>0.000000</td></tr>\n",
       "\t<tr><th scope=row>TraesCHI1A01G000600</th><td>193.3952</td><td>2.465932</td><td>159.4838</td><td>51.088736</td><td>8.853329</td><td>80.785644</td><td>193.3877</td><td>2.465675</td><td>159.5168</td><td>126.3058</td><td>⋯</td><td>387.2507</td><td>513.135328</td><td>458.2691</td><td>355.3096</td><td>0.000000</td><td>2.649372</td><td>1.307648</td><td>4.297154</td><td>4.083578</td><td>1.356089</td></tr>\n",
       "</tbody>\n",
       "</table>\n"
      ],
      "text/latex": [
       "A matrix: 6 × 180 of type dbl\n",
       "\\begin{tabular}{r|lllllllllllllllllllll}\n",
       "  & SRR10737427 & SRR10737428 & SRR10737429 & SRR10737430 & SRR10737431 & SRR10737432 & CRR088963 & CRR088962 & CRR088961 & CRR088960 & ⋯ & SRR8413505 & SRR8413506 & SRR8413507 & SRR8413508 & SRR5186313 & SRR5186364 & SRR5186375 & SRR5186382 & SRR5186387 & SRR5186416\\\\\n",
       "\\hline\n",
       "\tTraesCHI1A01G000100 &   0.0000 & 0.000000 &   0.0000 &  0.000000 & 0.000000 &  0.000000 &   0.0000 & 0.000000 &   0.0000 &   0.0000 & ⋯ &   0.0000 &   0.000000 &   0.0000 &   0.0000 & 0.000000 & 0.000000 & 0.000000 & 0.000000 & 0.000000 & 0.000000\\\\\n",
       "\tTraesCHI1A01G000200 &   0.0000 & 0.000000 &   0.0000 &  0.000000 & 0.000000 &  0.000000 &   0.0000 & 0.000000 &   0.0000 &   0.0000 & ⋯ &   0.0000 &   0.000000 &   0.0000 &   0.0000 & 0.000000 & 0.000000 & 0.000000 & 0.000000 & 0.000000 & 0.000000\\\\\n",
       "\tTraesCHI1A01G000300 &   0.0000 & 0.000000 &   0.0000 &  0.000000 & 0.000000 &  0.000000 &   0.0000 & 0.000000 &   0.0000 &   0.0000 & ⋯ &   6.0000 &   7.878112 &  14.0000 &   1.0000 & 0.000000 & 0.000000 & 0.000000 & 0.000000 & 0.000000 & 0.000000\\\\\n",
       "\tTraesCHI1A01G000400 &   0.0000 & 0.000000 &   0.0000 &  4.893036 & 4.726423 &  1.938802 &   0.0000 & 0.000000 &   0.0000 &   0.0000 & ⋯ & 140.5432 & 108.839845 & 177.3651 & 112.3966 & 1.993108 & 0.000000 & 0.000000 & 0.000000 & 2.004102 & 0.000000\\\\\n",
       "\tTraesCHI1A01G000500 &   1.0000 & 8.000000 &   7.0000 &  9.000000 & 2.000000 &  3.000000 &   1.0000 & 8.000000 &   7.0000 &   9.0000 & ⋯ &   5.0000 &  11.000000 &  12.0000 &   5.0000 & 1.000000 & 0.000000 & 2.000000 & 0.000000 & 0.000000 & 0.000000\\\\\n",
       "\tTraesCHI1A01G000600 & 193.3952 & 2.465932 & 159.4838 & 51.088736 & 8.853329 & 80.785644 & 193.3877 & 2.465675 & 159.5168 & 126.3058 & ⋯ & 387.2507 & 513.135328 & 458.2691 & 355.3096 & 0.000000 & 2.649372 & 1.307648 & 4.297154 & 4.083578 & 1.356089\\\\\n",
       "\\end{tabular}\n"
      ],
      "text/markdown": [
       "\n",
       "A matrix: 6 × 180 of type dbl\n",
       "\n",
       "| <!--/--> | SRR10737427 | SRR10737428 | SRR10737429 | SRR10737430 | SRR10737431 | SRR10737432 | CRR088963 | CRR088962 | CRR088961 | CRR088960 | ⋯ | SRR8413505 | SRR8413506 | SRR8413507 | SRR8413508 | SRR5186313 | SRR5186364 | SRR5186375 | SRR5186382 | SRR5186387 | SRR5186416 |\n",
       "|---|---|---|---|---|---|---|---|---|---|---|---|---|---|---|---|---|---|---|---|---|---|\n",
       "| TraesCHI1A01G000100 |   0.0000 | 0.000000 |   0.0000 |  0.000000 | 0.000000 |  0.000000 |   0.0000 | 0.000000 |   0.0000 |   0.0000 | ⋯ |   0.0000 |   0.000000 |   0.0000 |   0.0000 | 0.000000 | 0.000000 | 0.000000 | 0.000000 | 0.000000 | 0.000000 |\n",
       "| TraesCHI1A01G000200 |   0.0000 | 0.000000 |   0.0000 |  0.000000 | 0.000000 |  0.000000 |   0.0000 | 0.000000 |   0.0000 |   0.0000 | ⋯ |   0.0000 |   0.000000 |   0.0000 |   0.0000 | 0.000000 | 0.000000 | 0.000000 | 0.000000 | 0.000000 | 0.000000 |\n",
       "| TraesCHI1A01G000300 |   0.0000 | 0.000000 |   0.0000 |  0.000000 | 0.000000 |  0.000000 |   0.0000 | 0.000000 |   0.0000 |   0.0000 | ⋯ |   6.0000 |   7.878112 |  14.0000 |   1.0000 | 0.000000 | 0.000000 | 0.000000 | 0.000000 | 0.000000 | 0.000000 |\n",
       "| TraesCHI1A01G000400 |   0.0000 | 0.000000 |   0.0000 |  4.893036 | 4.726423 |  1.938802 |   0.0000 | 0.000000 |   0.0000 |   0.0000 | ⋯ | 140.5432 | 108.839845 | 177.3651 | 112.3966 | 1.993108 | 0.000000 | 0.000000 | 0.000000 | 2.004102 | 0.000000 |\n",
       "| TraesCHI1A01G000500 |   1.0000 | 8.000000 |   7.0000 |  9.000000 | 2.000000 |  3.000000 |   1.0000 | 8.000000 |   7.0000 |   9.0000 | ⋯ |   5.0000 |  11.000000 |  12.0000 |   5.0000 | 1.000000 | 0.000000 | 2.000000 | 0.000000 | 0.000000 | 0.000000 |\n",
       "| TraesCHI1A01G000600 | 193.3952 | 2.465932 | 159.4838 | 51.088736 | 8.853329 | 80.785644 | 193.3877 | 2.465675 | 159.5168 | 126.3058 | ⋯ | 387.2507 | 513.135328 | 458.2691 | 355.3096 | 0.000000 | 2.649372 | 1.307648 | 4.297154 | 4.083578 | 1.356089 |\n",
       "\n"
      ],
      "text/plain": [
       "                    SRR10737427 SRR10737428 SRR10737429 SRR10737430 SRR10737431\n",
       "TraesCHI1A01G000100   0.0000    0.000000      0.0000     0.000000   0.000000   \n",
       "TraesCHI1A01G000200   0.0000    0.000000      0.0000     0.000000   0.000000   \n",
       "TraesCHI1A01G000300   0.0000    0.000000      0.0000     0.000000   0.000000   \n",
       "TraesCHI1A01G000400   0.0000    0.000000      0.0000     4.893036   4.726423   \n",
       "TraesCHI1A01G000500   1.0000    8.000000      7.0000     9.000000   2.000000   \n",
       "TraesCHI1A01G000600 193.3952    2.465932    159.4838    51.088736   8.853329   \n",
       "                    SRR10737432 CRR088963 CRR088962 CRR088961 CRR088960 ⋯\n",
       "TraesCHI1A01G000100  0.000000     0.0000  0.000000    0.0000    0.0000  ⋯\n",
       "TraesCHI1A01G000200  0.000000     0.0000  0.000000    0.0000    0.0000  ⋯\n",
       "TraesCHI1A01G000300  0.000000     0.0000  0.000000    0.0000    0.0000  ⋯\n",
       "TraesCHI1A01G000400  1.938802     0.0000  0.000000    0.0000    0.0000  ⋯\n",
       "TraesCHI1A01G000500  3.000000     1.0000  8.000000    7.0000    9.0000  ⋯\n",
       "TraesCHI1A01G000600 80.785644   193.3877  2.465675  159.5168  126.3058  ⋯\n",
       "                    SRR8413505 SRR8413506 SRR8413507 SRR8413508 SRR5186313\n",
       "TraesCHI1A01G000100   0.0000     0.000000   0.0000     0.0000   0.000000  \n",
       "TraesCHI1A01G000200   0.0000     0.000000   0.0000     0.0000   0.000000  \n",
       "TraesCHI1A01G000300   6.0000     7.878112  14.0000     1.0000   0.000000  \n",
       "TraesCHI1A01G000400 140.5432   108.839845 177.3651   112.3966   1.993108  \n",
       "TraesCHI1A01G000500   5.0000    11.000000  12.0000     5.0000   1.000000  \n",
       "TraesCHI1A01G000600 387.2507   513.135328 458.2691   355.3096   0.000000  \n",
       "                    SRR5186364 SRR5186375 SRR5186382 SRR5186387 SRR5186416\n",
       "TraesCHI1A01G000100 0.000000   0.000000   0.000000   0.000000   0.000000  \n",
       "TraesCHI1A01G000200 0.000000   0.000000   0.000000   0.000000   0.000000  \n",
       "TraesCHI1A01G000300 0.000000   0.000000   0.000000   0.000000   0.000000  \n",
       "TraesCHI1A01G000400 0.000000   0.000000   0.000000   2.004102   0.000000  \n",
       "TraesCHI1A01G000500 0.000000   2.000000   0.000000   0.000000   0.000000  \n",
       "TraesCHI1A01G000600 2.649372   1.307648   4.297154   4.083578   1.356089  "
      ]
     },
     "metadata": {},
     "output_type": "display_data"
    }
   ],
   "source": [
    "# create count table\n",
    "setwd(\"/nfs/pgsb/projects/comparative_triticeae/phenotype/flower_development/refsets/triticum/04_Kallisto_paired/\")\n",
    "txi_trit_paired <- tximport(files_tp, type = \"kallisto\", tx2gene = tx2gene_trit)\n",
    "head(txi_trit_paired$counts)"
   ]
  },
  {
   "cell_type": "code",
   "execution_count": 77,
   "metadata": {},
   "outputs": [],
   "source": [
    "# save count table\n",
    "setwd(\"/nfs/pgsb/projects/comparative_triticeae/phenotype/flower_development/refsets/triticum/\")\n",
    "write.table(txi_trit_paired, file = \"wheat_count_table_paired.txt\", append = FALSE, quote = FALSE, sep = \"\\t\", dec = \".\",\n",
    "            row.names = TRUE, col.names = TRUE)\n",
    "saveRDS(txi_trit_paired, file = \"wheat_count_table_paired.rds\")"
   ]
  },
  {
   "cell_type": "markdown",
   "metadata": {},
   "source": [
    "### Triticum single"
   ]
  },
  {
   "cell_type": "code",
   "execution_count": 60,
   "metadata": {},
   "outputs": [
    {
     "name": "stdout",
     "output_type": "stream",
     "text": [
      "Rows: 35\n",
      "Columns: 3\n",
      "$ ID           \u001b[3m\u001b[90m<chr>\u001b[39m\u001b[23m \"CRR078059\", \"CRR078085\", \"CRR078084\", \"CRR078083\", \"CRR…\n",
      "$ dataset_name \u001b[3m\u001b[90m<chr>\u001b[39m\u001b[23m \"tf q\", \"tf q\", \"tf q\", \"tf q\", \"tf q\", \"tf q\", \"tf q\", …\n",
      "$ tissue       \u001b[3m\u001b[90m<chr>\u001b[39m\u001b[23m \"spike\", \"spike\", \"spike\", \"spike\", \"spike\", \"spike\", \"s…\n"
     ]
    }
   ],
   "source": [
    "setwd(\"/nfs/pgsb/projects/comparative_triticeae/phenotype/flower_development/refsets/triticum/\")\n",
    "trit_single <- read.table(\"wheat_project_table_trimmomatic_single.txt\", sep = \"\\t\", header = TRUE, stringsAsFactors = FALSE)\n",
    "glimpse(trit_single)"
   ]
  },
  {
   "cell_type": "code",
   "execution_count": 61,
   "metadata": {},
   "outputs": [
    {
     "data": {
      "text/html": [
       "<style>\n",
       ".dl-inline {width: auto; margin:0; padding: 0}\n",
       ".dl-inline>dt, .dl-inline>dd {float: none; width: auto; display: inline-block}\n",
       ".dl-inline>dt::after {content: \":\\0020\"; padding-right: .5ex}\n",
       ".dl-inline>dt:not(:first-of-type) {padding-left: .5ex}\n",
       "</style><dl class=dl-inline><dt>CRR078059</dt><dd>'CRR078059/abundance.h5'</dd><dt>CRR078085</dt><dd>'CRR078085/abundance.h5'</dd><dt>CRR078084</dt><dd>'CRR078084/abundance.h5'</dd><dt>CRR078083</dt><dd>'CRR078083/abundance.h5'</dd><dt>CRR078082</dt><dd>'CRR078082/abundance.h5'</dd><dt>CRR078081</dt><dd>'CRR078081/abundance.h5'</dd></dl>\n"
      ],
      "text/latex": [
       "\\begin{description*}\n",
       "\\item[CRR078059] 'CRR078059/abundance.h5'\n",
       "\\item[CRR078085] 'CRR078085/abundance.h5'\n",
       "\\item[CRR078084] 'CRR078084/abundance.h5'\n",
       "\\item[CRR078083] 'CRR078083/abundance.h5'\n",
       "\\item[CRR078082] 'CRR078082/abundance.h5'\n",
       "\\item[CRR078081] 'CRR078081/abundance.h5'\n",
       "\\end{description*}\n"
      ],
      "text/markdown": [
       "CRR078059\n",
       ":   'CRR078059/abundance.h5'CRR078085\n",
       ":   'CRR078085/abundance.h5'CRR078084\n",
       ":   'CRR078084/abundance.h5'CRR078083\n",
       ":   'CRR078083/abundance.h5'CRR078082\n",
       ":   'CRR078082/abundance.h5'CRR078081\n",
       ":   'CRR078081/abundance.h5'\n",
       "\n"
      ],
      "text/plain": [
       "               CRR078059                CRR078085                CRR078084 \n",
       "\"CRR078059/abundance.h5\" \"CRR078085/abundance.h5\" \"CRR078084/abundance.h5\" \n",
       "               CRR078083                CRR078082                CRR078081 \n",
       "\"CRR078083/abundance.h5\" \"CRR078082/abundance.h5\" \"CRR078081/abundance.h5\" "
      ]
     },
     "metadata": {},
     "output_type": "display_data"
    },
    {
     "data": {
      "text/html": [
       "TRUE"
      ],
      "text/latex": [
       "TRUE"
      ],
      "text/markdown": [
       "TRUE"
      ],
      "text/plain": [
       "[1] TRUE"
      ]
     },
     "metadata": {},
     "output_type": "display_data"
    }
   ],
   "source": [
    "setwd(\"/nfs/pgsb/projects/comparative_triticeae/phenotype/flower_development/refsets/triticum/04_Kallisto_single\")\n",
    "files_ts <- file.path(trit_single$ID, \"abundance.h5\")\n",
    "names(files_ts) <- paste0(trit_single$ID)\n",
    "head(files_ts)\n",
    "all(file.exists(files_ts))"
   ]
  },
  {
   "cell_type": "code",
   "execution_count": 62,
   "metadata": {},
   "outputs": [
    {
     "name": "stderr",
     "output_type": "stream",
     "text": [
      "1 \n",
      "2 \n",
      "3 \n",
      "4 \n",
      "5 \n",
      "6 \n",
      "7 \n",
      "8 \n",
      "9 \n",
      "10 \n",
      "11 \n",
      "12 \n",
      "13 \n",
      "14 \n",
      "15 \n",
      "16 \n",
      "17 \n",
      "18 \n",
      "19 \n",
      "20 \n",
      "21 \n",
      "22 \n",
      "23 \n",
      "24 \n",
      "25 \n",
      "26 \n",
      "27 \n",
      "28 \n",
      "29 \n",
      "30 \n",
      "31 \n",
      "32 \n",
      "33 \n",
      "34 \n",
      "35 \n",
      "\n",
      "\n",
      "summarizing abundance\n",
      "\n",
      "summarizing counts\n",
      "\n",
      "summarizing length\n",
      "\n",
      "summarizing inferential replicates\n",
      "\n"
     ]
    },
    {
     "data": {
      "text/html": [
       "<table>\n",
       "<caption>A matrix: 6 × 35 of type dbl</caption>\n",
       "<thead>\n",
       "\t<tr><th></th><th scope=col>CRR078059</th><th scope=col>CRR078085</th><th scope=col>CRR078084</th><th scope=col>CRR078083</th><th scope=col>CRR078082</th><th scope=col>CRR078081</th><th scope=col>CRR078080</th><th scope=col>CRR078079</th><th scope=col>CRR078078</th><th scope=col>CRR078077</th><th scope=col>⋯</th><th scope=col>CRR078061</th><th scope=col>CRR078060</th><th scope=col>SRR5464524</th><th scope=col>SRR5464523</th><th scope=col>SRR5464520</th><th scope=col>SRR5464519</th><th scope=col>SRR5464518</th><th scope=col>SRR5464515</th><th scope=col>SRR5464508</th><th scope=col>SRR5464507</th></tr>\n",
       "</thead>\n",
       "<tbody>\n",
       "\t<tr><th scope=row>TraesCHI1A01G000100</th><td> 0.00000</td><td>0.000000</td><td> 1.075752</td><td>0.000000</td><td>0.000000</td><td>1.188353e+00</td><td>0.000000</td><td>0.000000</td><td>0.000000</td><td>0.000000</td><td>⋯</td><td>0.000000</td><td>0</td><td>637.8077</td><td>466.84146</td><td>616.33167</td><td>665.257416</td><td>722.3597</td><td>831.6903</td><td>750.68504</td><td>474.00000</td></tr>\n",
       "\t<tr><th scope=row>TraesCHI1A01G000200</th><td> 0.00000</td><td>0.000000</td><td> 0.000000</td><td>0.000000</td><td>1.000000</td><td>0.000000e+00</td><td>1.000000</td><td>0.000000</td><td>0.000000</td><td>1.000000</td><td>⋯</td><td>0.000000</td><td>0</td><td>  0.0000</td><td>  0.00000</td><td>  0.00000</td><td>  0.000000</td><td>  0.0000</td><td>  0.0000</td><td>  0.00000</td><td>  0.00000</td></tr>\n",
       "\t<tr><th scope=row>TraesCHI1A01G000300</th><td> 0.00000</td><td>0.000000</td><td> 0.000000</td><td>0.000000</td><td>0.000000</td><td>1.000000e+00</td><td>0.000000</td><td>0.000000</td><td>0.000000</td><td>0.000000</td><td>⋯</td><td>0.000000</td><td>0</td><td> 24.0000</td><td> 13.00000</td><td>  8.00000</td><td> 14.926194</td><td>  4.0000</td><td>  6.0000</td><td>  4.00000</td><td>  3.00000</td></tr>\n",
       "\t<tr><th scope=row>TraesCHI1A01G000400</th><td>13.85653</td><td>4.800697</td><td>10.421303</td><td>8.036155</td><td>5.824054</td><td>1.405039e+01</td><td>8.947824</td><td>3.314993</td><td>7.413128</td><td>7.000971</td><td>⋯</td><td>9.170686</td><td>4</td><td> 53.8823</td><td> 31.90793</td><td> 98.87497</td><td>120.652110</td><td>109.3530</td><td>119.7540</td><td>112.31362</td><td> 88.60057</td></tr>\n",
       "\t<tr><th scope=row>TraesCHI1A01G000500</th><td> 0.00000</td><td>0.000000</td><td> 0.000000</td><td>0.000000</td><td>0.000000</td><td>0.000000e+00</td><td>2.028355</td><td>2.042307</td><td>0.000000</td><td>0.000000</td><td>⋯</td><td>0.000000</td><td>0</td><td>  0.0000</td><td>  0.00000</td><td>  0.00000</td><td>  2.073806</td><td>  0.0000</td><td>  0.0000</td><td>  0.00000</td><td>  0.00000</td></tr>\n",
       "\t<tr><th scope=row>TraesCHI1A01G000600</th><td> 0.00000</td><td>0.000000</td><td> 0.000000</td><td>0.000000</td><td>0.000000</td><td>4.247404e-08</td><td>0.000000</td><td>0.000000</td><td>0.000000</td><td>0.000000</td><td>⋯</td><td>0.000000</td><td>0</td><td>  0.0000</td><td>  0.00000</td><td>  0.00000</td><td>  0.000000</td><td>  0.0000</td><td>  0.0000</td><td> 14.29808</td><td>  0.00000</td></tr>\n",
       "</tbody>\n",
       "</table>\n"
      ],
      "text/latex": [
       "A matrix: 6 × 35 of type dbl\n",
       "\\begin{tabular}{r|lllllllllllllllllllll}\n",
       "  & CRR078059 & CRR078085 & CRR078084 & CRR078083 & CRR078082 & CRR078081 & CRR078080 & CRR078079 & CRR078078 & CRR078077 & ⋯ & CRR078061 & CRR078060 & SRR5464524 & SRR5464523 & SRR5464520 & SRR5464519 & SRR5464518 & SRR5464515 & SRR5464508 & SRR5464507\\\\\n",
       "\\hline\n",
       "\tTraesCHI1A01G000100 &  0.00000 & 0.000000 &  1.075752 & 0.000000 & 0.000000 & 1.188353e+00 & 0.000000 & 0.000000 & 0.000000 & 0.000000 & ⋯ & 0.000000 & 0 & 637.8077 & 466.84146 & 616.33167 & 665.257416 & 722.3597 & 831.6903 & 750.68504 & 474.00000\\\\\n",
       "\tTraesCHI1A01G000200 &  0.00000 & 0.000000 &  0.000000 & 0.000000 & 1.000000 & 0.000000e+00 & 1.000000 & 0.000000 & 0.000000 & 1.000000 & ⋯ & 0.000000 & 0 &   0.0000 &   0.00000 &   0.00000 &   0.000000 &   0.0000 &   0.0000 &   0.00000 &   0.00000\\\\\n",
       "\tTraesCHI1A01G000300 &  0.00000 & 0.000000 &  0.000000 & 0.000000 & 0.000000 & 1.000000e+00 & 0.000000 & 0.000000 & 0.000000 & 0.000000 & ⋯ & 0.000000 & 0 &  24.0000 &  13.00000 &   8.00000 &  14.926194 &   4.0000 &   6.0000 &   4.00000 &   3.00000\\\\\n",
       "\tTraesCHI1A01G000400 & 13.85653 & 4.800697 & 10.421303 & 8.036155 & 5.824054 & 1.405039e+01 & 8.947824 & 3.314993 & 7.413128 & 7.000971 & ⋯ & 9.170686 & 4 &  53.8823 &  31.90793 &  98.87497 & 120.652110 & 109.3530 & 119.7540 & 112.31362 &  88.60057\\\\\n",
       "\tTraesCHI1A01G000500 &  0.00000 & 0.000000 &  0.000000 & 0.000000 & 0.000000 & 0.000000e+00 & 2.028355 & 2.042307 & 0.000000 & 0.000000 & ⋯ & 0.000000 & 0 &   0.0000 &   0.00000 &   0.00000 &   2.073806 &   0.0000 &   0.0000 &   0.00000 &   0.00000\\\\\n",
       "\tTraesCHI1A01G000600 &  0.00000 & 0.000000 &  0.000000 & 0.000000 & 0.000000 & 4.247404e-08 & 0.000000 & 0.000000 & 0.000000 & 0.000000 & ⋯ & 0.000000 & 0 &   0.0000 &   0.00000 &   0.00000 &   0.000000 &   0.0000 &   0.0000 &  14.29808 &   0.00000\\\\\n",
       "\\end{tabular}\n"
      ],
      "text/markdown": [
       "\n",
       "A matrix: 6 × 35 of type dbl\n",
       "\n",
       "| <!--/--> | CRR078059 | CRR078085 | CRR078084 | CRR078083 | CRR078082 | CRR078081 | CRR078080 | CRR078079 | CRR078078 | CRR078077 | ⋯ | CRR078061 | CRR078060 | SRR5464524 | SRR5464523 | SRR5464520 | SRR5464519 | SRR5464518 | SRR5464515 | SRR5464508 | SRR5464507 |\n",
       "|---|---|---|---|---|---|---|---|---|---|---|---|---|---|---|---|---|---|---|---|---|---|\n",
       "| TraesCHI1A01G000100 |  0.00000 | 0.000000 |  1.075752 | 0.000000 | 0.000000 | 1.188353e+00 | 0.000000 | 0.000000 | 0.000000 | 0.000000 | ⋯ | 0.000000 | 0 | 637.8077 | 466.84146 | 616.33167 | 665.257416 | 722.3597 | 831.6903 | 750.68504 | 474.00000 |\n",
       "| TraesCHI1A01G000200 |  0.00000 | 0.000000 |  0.000000 | 0.000000 | 1.000000 | 0.000000e+00 | 1.000000 | 0.000000 | 0.000000 | 1.000000 | ⋯ | 0.000000 | 0 |   0.0000 |   0.00000 |   0.00000 |   0.000000 |   0.0000 |   0.0000 |   0.00000 |   0.00000 |\n",
       "| TraesCHI1A01G000300 |  0.00000 | 0.000000 |  0.000000 | 0.000000 | 0.000000 | 1.000000e+00 | 0.000000 | 0.000000 | 0.000000 | 0.000000 | ⋯ | 0.000000 | 0 |  24.0000 |  13.00000 |   8.00000 |  14.926194 |   4.0000 |   6.0000 |   4.00000 |   3.00000 |\n",
       "| TraesCHI1A01G000400 | 13.85653 | 4.800697 | 10.421303 | 8.036155 | 5.824054 | 1.405039e+01 | 8.947824 | 3.314993 | 7.413128 | 7.000971 | ⋯ | 9.170686 | 4 |  53.8823 |  31.90793 |  98.87497 | 120.652110 | 109.3530 | 119.7540 | 112.31362 |  88.60057 |\n",
       "| TraesCHI1A01G000500 |  0.00000 | 0.000000 |  0.000000 | 0.000000 | 0.000000 | 0.000000e+00 | 2.028355 | 2.042307 | 0.000000 | 0.000000 | ⋯ | 0.000000 | 0 |   0.0000 |   0.00000 |   0.00000 |   2.073806 |   0.0000 |   0.0000 |   0.00000 |   0.00000 |\n",
       "| TraesCHI1A01G000600 |  0.00000 | 0.000000 |  0.000000 | 0.000000 | 0.000000 | 4.247404e-08 | 0.000000 | 0.000000 | 0.000000 | 0.000000 | ⋯ | 0.000000 | 0 |   0.0000 |   0.00000 |   0.00000 |   0.000000 |   0.0000 |   0.0000 |  14.29808 |   0.00000 |\n",
       "\n"
      ],
      "text/plain": [
       "                    CRR078059 CRR078085 CRR078084 CRR078083 CRR078082\n",
       "TraesCHI1A01G000100  0.00000  0.000000   1.075752 0.000000  0.000000 \n",
       "TraesCHI1A01G000200  0.00000  0.000000   0.000000 0.000000  1.000000 \n",
       "TraesCHI1A01G000300  0.00000  0.000000   0.000000 0.000000  0.000000 \n",
       "TraesCHI1A01G000400 13.85653  4.800697  10.421303 8.036155  5.824054 \n",
       "TraesCHI1A01G000500  0.00000  0.000000   0.000000 0.000000  0.000000 \n",
       "TraesCHI1A01G000600  0.00000  0.000000   0.000000 0.000000  0.000000 \n",
       "                    CRR078081    CRR078080 CRR078079 CRR078078 CRR078077 ⋯\n",
       "TraesCHI1A01G000100 1.188353e+00 0.000000  0.000000  0.000000  0.000000  ⋯\n",
       "TraesCHI1A01G000200 0.000000e+00 1.000000  0.000000  0.000000  1.000000  ⋯\n",
       "TraesCHI1A01G000300 1.000000e+00 0.000000  0.000000  0.000000  0.000000  ⋯\n",
       "TraesCHI1A01G000400 1.405039e+01 8.947824  3.314993  7.413128  7.000971  ⋯\n",
       "TraesCHI1A01G000500 0.000000e+00 2.028355  2.042307  0.000000  0.000000  ⋯\n",
       "TraesCHI1A01G000600 4.247404e-08 0.000000  0.000000  0.000000  0.000000  ⋯\n",
       "                    CRR078061 CRR078060 SRR5464524 SRR5464523 SRR5464520\n",
       "TraesCHI1A01G000100 0.000000  0         637.8077   466.84146  616.33167 \n",
       "TraesCHI1A01G000200 0.000000  0           0.0000     0.00000    0.00000 \n",
       "TraesCHI1A01G000300 0.000000  0          24.0000    13.00000    8.00000 \n",
       "TraesCHI1A01G000400 9.170686  4          53.8823    31.90793   98.87497 \n",
       "TraesCHI1A01G000500 0.000000  0           0.0000     0.00000    0.00000 \n",
       "TraesCHI1A01G000600 0.000000  0           0.0000     0.00000    0.00000 \n",
       "                    SRR5464519 SRR5464518 SRR5464515 SRR5464508 SRR5464507\n",
       "TraesCHI1A01G000100 665.257416 722.3597   831.6903   750.68504  474.00000 \n",
       "TraesCHI1A01G000200   0.000000   0.0000     0.0000     0.00000    0.00000 \n",
       "TraesCHI1A01G000300  14.926194   4.0000     6.0000     4.00000    3.00000 \n",
       "TraesCHI1A01G000400 120.652110 109.3530   119.7540   112.31362   88.60057 \n",
       "TraesCHI1A01G000500   2.073806   0.0000     0.0000     0.00000    0.00000 \n",
       "TraesCHI1A01G000600   0.000000   0.0000     0.0000    14.29808    0.00000 "
      ]
     },
     "metadata": {},
     "output_type": "display_data"
    }
   ],
   "source": [
    "# create count table\n",
    "setwd(\"/nfs/pgsb/projects/comparative_triticeae/phenotype/flower_development/refsets/triticum/04_Kallisto_single/\")\n",
    "txi_trit_single <- tximport(files_ts, type = \"kallisto\", tx2gene = tx2gene_trit)\n",
    "head(txi_trit_single$counts)"
   ]
  },
  {
   "cell_type": "code",
   "execution_count": 78,
   "metadata": {},
   "outputs": [],
   "source": [
    "# save count table\n",
    "setwd(\"/nfs/pgsb/projects/comparative_triticeae/phenotype/flower_development/refsets/triticum/\")\n",
    "write.table(txi_trit_single, file = \"wheat_count_table_single.txt\", append = FALSE, quote = FALSE, sep = \"\\t\", dec = \".\",\n",
    "            row.names = TRUE, col.names = TRUE)\n",
    "saveRDS(txi_trit_single, file = \"wheat_count_table_single.rds\")"
   ]
  },
  {
   "cell_type": "markdown",
   "metadata": {},
   "source": [
    "### Hordeum paired"
   ]
  },
  {
   "cell_type": "code",
   "execution_count": 66,
   "metadata": {},
   "outputs": [
    {
     "name": "stdout",
     "output_type": "stream",
     "text": [
      "Rows: 193\n",
      "Columns: 3\n",
      "$ ID           \u001b[3m\u001b[90m<chr>\u001b[39m\u001b[23m \"ERR1248084\", \"ERR1248085\", \"ERR1248086\", \"ERR1248087\", …\n",
      "$ dataset_name \u001b[3m\u001b[90m<chr>\u001b[39m\u001b[23m \"ref dataset drought\", \"ref dataset drought\", \"ref datas…\n",
      "$ tissue       \u001b[3m\u001b[90m<chr>\u001b[39m\u001b[23m \"spike\", \"spike\", \"spike\", \"spike\", \"spike\", \"spike\", \"l…\n"
     ]
    }
   ],
   "source": [
    "setwd(\"/nfs/pgsb/projects/comparative_triticeae/phenotype/flower_development/refsets/hordeum/\")\n",
    "hord_paired <- read.table(\"barley_project_table_trimmomatic_paired.txt\", sep = \"\\t\", header = TRUE, stringsAsFactors = FALSE)\n",
    "glimpse(hord_paired)"
   ]
  },
  {
   "cell_type": "code",
   "execution_count": 67,
   "metadata": {},
   "outputs": [
    {
     "data": {
      "text/html": [
       "<style>\n",
       ".dl-inline {width: auto; margin:0; padding: 0}\n",
       ".dl-inline>dt, .dl-inline>dd {float: none; width: auto; display: inline-block}\n",
       ".dl-inline>dt::after {content: \":\\0020\"; padding-right: .5ex}\n",
       ".dl-inline>dt:not(:first-of-type) {padding-left: .5ex}\n",
       "</style><dl class=dl-inline><dt>ERR1248084</dt><dd>'ERR1248084/abundance.h5'</dd><dt>ERR1248085</dt><dd>'ERR1248085/abundance.h5'</dd><dt>ERR1248086</dt><dd>'ERR1248086/abundance.h5'</dd><dt>ERR1248087</dt><dd>'ERR1248087/abundance.h5'</dd><dt>ERR1248088</dt><dd>'ERR1248088/abundance.h5'</dd><dt>ERR1248089</dt><dd>'ERR1248089/abundance.h5'</dd></dl>\n"
      ],
      "text/latex": [
       "\\begin{description*}\n",
       "\\item[ERR1248084] 'ERR1248084/abundance.h5'\n",
       "\\item[ERR1248085] 'ERR1248085/abundance.h5'\n",
       "\\item[ERR1248086] 'ERR1248086/abundance.h5'\n",
       "\\item[ERR1248087] 'ERR1248087/abundance.h5'\n",
       "\\item[ERR1248088] 'ERR1248088/abundance.h5'\n",
       "\\item[ERR1248089] 'ERR1248089/abundance.h5'\n",
       "\\end{description*}\n"
      ],
      "text/markdown": [
       "ERR1248084\n",
       ":   'ERR1248084/abundance.h5'ERR1248085\n",
       ":   'ERR1248085/abundance.h5'ERR1248086\n",
       ":   'ERR1248086/abundance.h5'ERR1248087\n",
       ":   'ERR1248087/abundance.h5'ERR1248088\n",
       ":   'ERR1248088/abundance.h5'ERR1248089\n",
       ":   'ERR1248089/abundance.h5'\n",
       "\n"
      ],
      "text/plain": [
       "               ERR1248084                ERR1248085                ERR1248086 \n",
       "\"ERR1248084/abundance.h5\" \"ERR1248085/abundance.h5\" \"ERR1248086/abundance.h5\" \n",
       "               ERR1248087                ERR1248088                ERR1248089 \n",
       "\"ERR1248087/abundance.h5\" \"ERR1248088/abundance.h5\" \"ERR1248089/abundance.h5\" "
      ]
     },
     "metadata": {},
     "output_type": "display_data"
    },
    {
     "data": {
      "text/html": [
       "TRUE"
      ],
      "text/latex": [
       "TRUE"
      ],
      "text/markdown": [
       "TRUE"
      ],
      "text/plain": [
       "[1] TRUE"
      ]
     },
     "metadata": {},
     "output_type": "display_data"
    }
   ],
   "source": [
    "setwd(\"/nfs/pgsb/projects/comparative_triticeae/phenotype/flower_development/refsets/hordeum/04_Kallisto_paired\")\n",
    "files_hp <- file.path(hord_paired$ID, \"abundance.h5\")\n",
    "names(files_hp) <- paste0(hord_paired$ID)\n",
    "head(files_hp)\n",
    "all(file.exists(files_hp))"
   ]
  },
  {
   "cell_type": "code",
   "execution_count": 7,
   "metadata": {},
   "outputs": [
    {
     "name": "stderr",
     "output_type": "stream",
     "text": [
      "Import genomic features from the file as a GRanges object ... \n",
      "OK\n",
      "\n",
      "Prepare the 'metadata' data frame ... \n",
      "OK\n",
      "\n",
      "Make the TxDb object ... \n",
      "OK\n",
      "\n"
     ]
    },
    {
     "ename": "ERROR",
     "evalue": "Error in glimpse(txdb_hord): could not find function \"glimpse\"\n",
     "output_type": "error",
     "traceback": [
      "Error in glimpse(txdb_hord): could not find function \"glimpse\"\nTraceback:\n"
     ]
    }
   ],
   "source": [
    "# create tx2gene data.frame\n",
    "setwd(\"/nfs/pgsb/projects/comparative_triticeae/phenotype/flower_development/genomes/Horvu/\")\n",
    "txdb_hord <- makeTxDbFromGFF(\"annotation.gff3\", organism = \"Hordeum vulgare\")\n",
    "#makeTxDbFromGFF(file, format=c(\"auto\", \"gff3\", \"gtf\"), dataSource=NA, organism=NA, taxonomyId=NA, circ_seqs=DEFAULT_CIRC_SEQS, chrominfo=NULL, miRBaseBuild=NA, dbxrefTag)\n",
    "glimpse(txdb_hord)"
   ]
  },
  {
   "cell_type": "code",
   "execution_count": 8,
   "metadata": {},
   "outputs": [
    {
     "name": "stderr",
     "output_type": "stream",
     "text": [
      "'select()' returned 1:1 mapping between keys and columns\n",
      "\n"
     ]
    },
    {
     "data": {
      "text/html": [
       "<table>\n",
       "<caption>A data.frame: 6 × 2</caption>\n",
       "<thead>\n",
       "\t<tr><th></th><th scope=col>TXNAME</th><th scope=col>GENEID</th></tr>\n",
       "\t<tr><th></th><th scope=col>&lt;chr&gt;</th><th scope=col>&lt;chr&gt;</th></tr>\n",
       "</thead>\n",
       "<tbody>\n",
       "\t<tr><th scope=row>1</th><td>Horvu_MOREX_1H01G000100.1</td><td>Horvu_MOREX_1H01G000100</td></tr>\n",
       "\t<tr><th scope=row>2</th><td>Horvu_MOREX_1H01G000200.1</td><td>Horvu_MOREX_1H01G000200</td></tr>\n",
       "\t<tr><th scope=row>3</th><td>Horvu_MOREX_1H01G000300.1</td><td>Horvu_MOREX_1H01G000300</td></tr>\n",
       "\t<tr><th scope=row>4</th><td>Horvu_MOREX_1H01G000700.1</td><td>Horvu_MOREX_1H01G000700</td></tr>\n",
       "\t<tr><th scope=row>5</th><td>Horvu_MOREX_1H01G000800.1</td><td>Horvu_MOREX_1H01G000800</td></tr>\n",
       "\t<tr><th scope=row>6</th><td>Horvu_MOREX_1H01G001400.1</td><td>Horvu_MOREX_1H01G001400</td></tr>\n",
       "</tbody>\n",
       "</table>\n"
      ],
      "text/latex": [
       "A data.frame: 6 × 2\n",
       "\\begin{tabular}{r|ll}\n",
       "  & TXNAME & GENEID\\\\\n",
       "  & <chr> & <chr>\\\\\n",
       "\\hline\n",
       "\t1 & Horvu\\_MOREX\\_1H01G000100.1 & Horvu\\_MOREX\\_1H01G000100\\\\\n",
       "\t2 & Horvu\\_MOREX\\_1H01G000200.1 & Horvu\\_MOREX\\_1H01G000200\\\\\n",
       "\t3 & Horvu\\_MOREX\\_1H01G000300.1 & Horvu\\_MOREX\\_1H01G000300\\\\\n",
       "\t4 & Horvu\\_MOREX\\_1H01G000700.1 & Horvu\\_MOREX\\_1H01G000700\\\\\n",
       "\t5 & Horvu\\_MOREX\\_1H01G000800.1 & Horvu\\_MOREX\\_1H01G000800\\\\\n",
       "\t6 & Horvu\\_MOREX\\_1H01G001400.1 & Horvu\\_MOREX\\_1H01G001400\\\\\n",
       "\\end{tabular}\n"
      ],
      "text/markdown": [
       "\n",
       "A data.frame: 6 × 2\n",
       "\n",
       "| <!--/--> | TXNAME &lt;chr&gt; | GENEID &lt;chr&gt; |\n",
       "|---|---|---|\n",
       "| 1 | Horvu_MOREX_1H01G000100.1 | Horvu_MOREX_1H01G000100 |\n",
       "| 2 | Horvu_MOREX_1H01G000200.1 | Horvu_MOREX_1H01G000200 |\n",
       "| 3 | Horvu_MOREX_1H01G000300.1 | Horvu_MOREX_1H01G000300 |\n",
       "| 4 | Horvu_MOREX_1H01G000700.1 | Horvu_MOREX_1H01G000700 |\n",
       "| 5 | Horvu_MOREX_1H01G000800.1 | Horvu_MOREX_1H01G000800 |\n",
       "| 6 | Horvu_MOREX_1H01G001400.1 | Horvu_MOREX_1H01G001400 |\n",
       "\n"
      ],
      "text/plain": [
       "  TXNAME                    GENEID                 \n",
       "1 Horvu_MOREX_1H01G000100.1 Horvu_MOREX_1H01G000100\n",
       "2 Horvu_MOREX_1H01G000200.1 Horvu_MOREX_1H01G000200\n",
       "3 Horvu_MOREX_1H01G000300.1 Horvu_MOREX_1H01G000300\n",
       "4 Horvu_MOREX_1H01G000700.1 Horvu_MOREX_1H01G000700\n",
       "5 Horvu_MOREX_1H01G000800.1 Horvu_MOREX_1H01G000800\n",
       "6 Horvu_MOREX_1H01G001400.1 Horvu_MOREX_1H01G001400"
      ]
     },
     "metadata": {},
     "output_type": "display_data"
    }
   ],
   "source": [
    "k_hord <- keys(txdb_hord, keytype = \"TXNAME\")\n",
    "tx2gene_hord <- select(txdb_hord, k_hord, \"GENEID\", \"TXNAME\")\n",
    "head(tx2gene_hord)"
   ]
  },
  {
   "cell_type": "code",
   "execution_count": 70,
   "metadata": {},
   "outputs": [
    {
     "name": "stderr",
     "output_type": "stream",
     "text": [
      "1 \n",
      "2 \n",
      "3 \n",
      "4 \n",
      "5 \n",
      "6 \n",
      "7 \n",
      "8 \n",
      "9 \n",
      "10 \n",
      "11 \n",
      "12 \n",
      "13 \n",
      "14 \n",
      "15 \n",
      "16 \n",
      "17 \n",
      "18 \n",
      "19 \n",
      "20 \n",
      "21 \n",
      "22 \n",
      "23 \n",
      "24 \n",
      "25 \n",
      "26 \n",
      "27 \n",
      "28 \n",
      "29 \n",
      "30 \n",
      "31 \n",
      "32 \n",
      "33 \n",
      "34 \n",
      "35 \n",
      "36 \n",
      "37 \n",
      "38 \n",
      "39 \n",
      "40 \n",
      "41 \n",
      "42 \n",
      "43 \n",
      "44 \n",
      "45 \n",
      "46 \n",
      "47 \n",
      "48 \n",
      "49 \n",
      "50 \n",
      "51 \n",
      "52 \n",
      "53 \n",
      "54 \n",
      "55 \n",
      "56 \n",
      "57 \n",
      "58 \n",
      "59 \n",
      "60 \n",
      "61 \n",
      "62 \n",
      "63 \n",
      "64 \n",
      "65 \n",
      "66 \n",
      "67 \n",
      "68 \n",
      "69 \n",
      "70 \n",
      "71 \n",
      "72 \n",
      "73 \n",
      "74 \n",
      "75 \n",
      "76 \n",
      "77 \n",
      "78 \n",
      "79 \n",
      "80 \n",
      "81 \n",
      "82 \n",
      "83 \n",
      "84 \n",
      "85 \n",
      "86 \n",
      "87 \n",
      "88 \n",
      "89 \n",
      "90 \n",
      "91 \n",
      "92 \n",
      "93 \n",
      "94 \n",
      "95 \n",
      "96 \n",
      "97 \n",
      "98 \n",
      "99 \n",
      "100 \n",
      "101 \n",
      "102 \n",
      "103 \n",
      "104 \n",
      "105 \n",
      "106 \n",
      "107 \n",
      "108 \n",
      "109 \n",
      "110 \n",
      "111 \n",
      "112 \n",
      "113 \n",
      "114 \n",
      "115 \n",
      "116 \n",
      "117 \n",
      "118 \n",
      "119 \n",
      "120 \n",
      "121 \n",
      "122 \n",
      "123 \n",
      "124 \n",
      "125 \n",
      "126 \n",
      "127 \n",
      "128 \n",
      "129 \n",
      "130 \n",
      "131 \n",
      "132 \n",
      "133 \n",
      "134 \n",
      "135 \n",
      "136 \n",
      "137 \n",
      "138 \n",
      "139 \n",
      "140 \n",
      "141 \n",
      "142 \n",
      "143 \n",
      "144 \n",
      "145 \n",
      "146 \n",
      "147 \n",
      "148 \n",
      "149 \n",
      "150 \n",
      "151 \n",
      "152 \n",
      "153 \n",
      "154 \n",
      "155 \n",
      "156 \n",
      "157 \n",
      "158 \n",
      "159 \n",
      "160 \n",
      "161 \n",
      "162 \n",
      "163 \n",
      "164 \n",
      "165 \n",
      "166 \n",
      "167 \n",
      "168 \n",
      "169 \n",
      "170 \n",
      "171 \n",
      "172 \n",
      "173 \n",
      "174 \n",
      "175 \n",
      "176 \n",
      "177 \n",
      "178 \n",
      "179 \n",
      "180 \n",
      "181 \n",
      "182 \n",
      "183 \n",
      "184 \n",
      "185 \n",
      "186 \n",
      "187 \n",
      "188 \n",
      "189 \n",
      "190 \n",
      "191 \n",
      "192 \n",
      "193 \n",
      "\n",
      "\n",
      "summarizing abundance\n",
      "\n",
      "summarizing counts\n",
      "\n",
      "summarizing length\n",
      "\n",
      "summarizing inferential replicates\n",
      "\n"
     ]
    },
    {
     "data": {
      "text/html": [
       "<table>\n",
       "<caption>A matrix: 6 × 193 of type dbl</caption>\n",
       "<thead>\n",
       "\t<tr><th></th><th scope=col>ERR1248084</th><th scope=col>ERR1248085</th><th scope=col>ERR1248086</th><th scope=col>ERR1248087</th><th scope=col>ERR1248088</th><th scope=col>ERR1248089</th><th scope=col>ERR1248116</th><th scope=col>ERR1248117</th><th scope=col>ERR1248118</th><th scope=col>ERR1248119</th><th scope=col>⋯</th><th scope=col>ERR515188</th><th scope=col>ERR515189</th><th scope=col>ERR515190</th><th scope=col>ERR515191</th><th scope=col>ERR515192</th><th scope=col>ERR515193</th><th scope=col>ERR515194</th><th scope=col>ERR515195</th><th scope=col>ERR515196</th><th scope=col>ERR515197</th></tr>\n",
       "</thead>\n",
       "<tbody>\n",
       "\t<tr><th scope=row>Horvu_MOREX_1H01G000100</th><td>1102.000</td><td>2178.000</td><td>2399.000</td><td>3877.000</td><td> 925.000</td><td>2010.000</td><td>1773.00</td><td>2407.000</td><td>2224.000</td><td>3328.000</td><td>⋯</td><td>1232.000</td><td>2237.000</td><td>1503.000</td><td>1833.000</td><td>1695.000</td><td>2477.000</td><td>2265.000</td><td>2578.000</td><td>2468.000</td><td>2317.000</td></tr>\n",
       "\t<tr><th scope=row>Horvu_MOREX_1H01G000200</th><td>   3.000</td><td>   4.000</td><td>  38.000</td><td>  14.000</td><td>   1.000</td><td>  65.000</td><td> 641.00</td><td>2034.000</td><td>2230.000</td><td>2022.000</td><td>⋯</td><td>   1.000</td><td>   3.000</td><td>  10.000</td><td>   1.000</td><td>   2.000</td><td>   8.000</td><td>   6.000</td><td>   0.000</td><td>   2.000</td><td>   2.000</td></tr>\n",
       "\t<tr><th scope=row>Horvu_MOREX_1H01G000300</th><td> 346.000</td><td> 682.000</td><td> 613.000</td><td>1097.000</td><td> 369.000</td><td> 903.000</td><td>1513.00</td><td>2346.000</td><td>2464.000</td><td>2226.000</td><td>⋯</td><td> 428.000</td><td> 610.000</td><td> 519.000</td><td> 466.000</td><td> 492.000</td><td> 652.000</td><td> 569.000</td><td> 677.000</td><td> 710.000</td><td> 584.000</td></tr>\n",
       "\t<tr><th scope=row>Horvu_MOREX_1H01G000400</th><td>1282.000</td><td>1703.000</td><td> 681.000</td><td>1293.000</td><td>1645.000</td><td>1748.000</td><td> 490.00</td><td> 484.000</td><td> 578.000</td><td> 685.000</td><td>⋯</td><td> 971.000</td><td>1640.000</td><td>1312.000</td><td>1160.000</td><td>2093.000</td><td>2738.000</td><td>2795.000</td><td>3687.000</td><td>3044.000</td><td>3045.000</td></tr>\n",
       "\t<tr><th scope=row>Horvu_MOREX_1H01G000500</th><td>2693.000</td><td>5151.000</td><td>2940.000</td><td>4303.000</td><td>3550.000</td><td>3758.000</td><td>1589.00</td><td>2689.000</td><td>2926.000</td><td>3255.000</td><td>⋯</td><td>3656.000</td><td>4336.000</td><td>4734.000</td><td>4469.000</td><td>2296.000</td><td>2418.000</td><td>2349.000</td><td>3908.000</td><td>3340.000</td><td>3221.000</td></tr>\n",
       "\t<tr><th scope=row>Horvu_MOREX_1H01G000600</th><td>1759.535</td><td>2989.789</td><td>1806.463</td><td>2680.405</td><td>2580.237</td><td>3770.057</td><td>2290.44</td><td>2551.647</td><td>2561.501</td><td>2173.419</td><td>⋯</td><td>2808.661</td><td>3316.393</td><td>2766.549</td><td>2833.275</td><td>2984.255</td><td>4250.868</td><td>3915.629</td><td>4172.974</td><td>4106.843</td><td>4045.146</td></tr>\n",
       "</tbody>\n",
       "</table>\n"
      ],
      "text/latex": [
       "A matrix: 6 × 193 of type dbl\n",
       "\\begin{tabular}{r|lllllllllllllllllllll}\n",
       "  & ERR1248084 & ERR1248085 & ERR1248086 & ERR1248087 & ERR1248088 & ERR1248089 & ERR1248116 & ERR1248117 & ERR1248118 & ERR1248119 & ⋯ & ERR515188 & ERR515189 & ERR515190 & ERR515191 & ERR515192 & ERR515193 & ERR515194 & ERR515195 & ERR515196 & ERR515197\\\\\n",
       "\\hline\n",
       "\tHorvu\\_MOREX\\_1H01G000100 & 1102.000 & 2178.000 & 2399.000 & 3877.000 &  925.000 & 2010.000 & 1773.00 & 2407.000 & 2224.000 & 3328.000 & ⋯ & 1232.000 & 2237.000 & 1503.000 & 1833.000 & 1695.000 & 2477.000 & 2265.000 & 2578.000 & 2468.000 & 2317.000\\\\\n",
       "\tHorvu\\_MOREX\\_1H01G000200 &    3.000 &    4.000 &   38.000 &   14.000 &    1.000 &   65.000 &  641.00 & 2034.000 & 2230.000 & 2022.000 & ⋯ &    1.000 &    3.000 &   10.000 &    1.000 &    2.000 &    8.000 &    6.000 &    0.000 &    2.000 &    2.000\\\\\n",
       "\tHorvu\\_MOREX\\_1H01G000300 &  346.000 &  682.000 &  613.000 & 1097.000 &  369.000 &  903.000 & 1513.00 & 2346.000 & 2464.000 & 2226.000 & ⋯ &  428.000 &  610.000 &  519.000 &  466.000 &  492.000 &  652.000 &  569.000 &  677.000 &  710.000 &  584.000\\\\\n",
       "\tHorvu\\_MOREX\\_1H01G000400 & 1282.000 & 1703.000 &  681.000 & 1293.000 & 1645.000 & 1748.000 &  490.00 &  484.000 &  578.000 &  685.000 & ⋯ &  971.000 & 1640.000 & 1312.000 & 1160.000 & 2093.000 & 2738.000 & 2795.000 & 3687.000 & 3044.000 & 3045.000\\\\\n",
       "\tHorvu\\_MOREX\\_1H01G000500 & 2693.000 & 5151.000 & 2940.000 & 4303.000 & 3550.000 & 3758.000 & 1589.00 & 2689.000 & 2926.000 & 3255.000 & ⋯ & 3656.000 & 4336.000 & 4734.000 & 4469.000 & 2296.000 & 2418.000 & 2349.000 & 3908.000 & 3340.000 & 3221.000\\\\\n",
       "\tHorvu\\_MOREX\\_1H01G000600 & 1759.535 & 2989.789 & 1806.463 & 2680.405 & 2580.237 & 3770.057 & 2290.44 & 2551.647 & 2561.501 & 2173.419 & ⋯ & 2808.661 & 3316.393 & 2766.549 & 2833.275 & 2984.255 & 4250.868 & 3915.629 & 4172.974 & 4106.843 & 4045.146\\\\\n",
       "\\end{tabular}\n"
      ],
      "text/markdown": [
       "\n",
       "A matrix: 6 × 193 of type dbl\n",
       "\n",
       "| <!--/--> | ERR1248084 | ERR1248085 | ERR1248086 | ERR1248087 | ERR1248088 | ERR1248089 | ERR1248116 | ERR1248117 | ERR1248118 | ERR1248119 | ⋯ | ERR515188 | ERR515189 | ERR515190 | ERR515191 | ERR515192 | ERR515193 | ERR515194 | ERR515195 | ERR515196 | ERR515197 |\n",
       "|---|---|---|---|---|---|---|---|---|---|---|---|---|---|---|---|---|---|---|---|---|---|\n",
       "| Horvu_MOREX_1H01G000100 | 1102.000 | 2178.000 | 2399.000 | 3877.000 |  925.000 | 2010.000 | 1773.00 | 2407.000 | 2224.000 | 3328.000 | ⋯ | 1232.000 | 2237.000 | 1503.000 | 1833.000 | 1695.000 | 2477.000 | 2265.000 | 2578.000 | 2468.000 | 2317.000 |\n",
       "| Horvu_MOREX_1H01G000200 |    3.000 |    4.000 |   38.000 |   14.000 |    1.000 |   65.000 |  641.00 | 2034.000 | 2230.000 | 2022.000 | ⋯ |    1.000 |    3.000 |   10.000 |    1.000 |    2.000 |    8.000 |    6.000 |    0.000 |    2.000 |    2.000 |\n",
       "| Horvu_MOREX_1H01G000300 |  346.000 |  682.000 |  613.000 | 1097.000 |  369.000 |  903.000 | 1513.00 | 2346.000 | 2464.000 | 2226.000 | ⋯ |  428.000 |  610.000 |  519.000 |  466.000 |  492.000 |  652.000 |  569.000 |  677.000 |  710.000 |  584.000 |\n",
       "| Horvu_MOREX_1H01G000400 | 1282.000 | 1703.000 |  681.000 | 1293.000 | 1645.000 | 1748.000 |  490.00 |  484.000 |  578.000 |  685.000 | ⋯ |  971.000 | 1640.000 | 1312.000 | 1160.000 | 2093.000 | 2738.000 | 2795.000 | 3687.000 | 3044.000 | 3045.000 |\n",
       "| Horvu_MOREX_1H01G000500 | 2693.000 | 5151.000 | 2940.000 | 4303.000 | 3550.000 | 3758.000 | 1589.00 | 2689.000 | 2926.000 | 3255.000 | ⋯ | 3656.000 | 4336.000 | 4734.000 | 4469.000 | 2296.000 | 2418.000 | 2349.000 | 3908.000 | 3340.000 | 3221.000 |\n",
       "| Horvu_MOREX_1H01G000600 | 1759.535 | 2989.789 | 1806.463 | 2680.405 | 2580.237 | 3770.057 | 2290.44 | 2551.647 | 2561.501 | 2173.419 | ⋯ | 2808.661 | 3316.393 | 2766.549 | 2833.275 | 2984.255 | 4250.868 | 3915.629 | 4172.974 | 4106.843 | 4045.146 |\n",
       "\n"
      ],
      "text/plain": [
       "                        ERR1248084 ERR1248085 ERR1248086 ERR1248087 ERR1248088\n",
       "Horvu_MOREX_1H01G000100 1102.000   2178.000   2399.000   3877.000    925.000  \n",
       "Horvu_MOREX_1H01G000200    3.000      4.000     38.000     14.000      1.000  \n",
       "Horvu_MOREX_1H01G000300  346.000    682.000    613.000   1097.000    369.000  \n",
       "Horvu_MOREX_1H01G000400 1282.000   1703.000    681.000   1293.000   1645.000  \n",
       "Horvu_MOREX_1H01G000500 2693.000   5151.000   2940.000   4303.000   3550.000  \n",
       "Horvu_MOREX_1H01G000600 1759.535   2989.789   1806.463   2680.405   2580.237  \n",
       "                        ERR1248089 ERR1248116 ERR1248117 ERR1248118 ERR1248119\n",
       "Horvu_MOREX_1H01G000100 2010.000   1773.00    2407.000   2224.000   3328.000  \n",
       "Horvu_MOREX_1H01G000200   65.000    641.00    2034.000   2230.000   2022.000  \n",
       "Horvu_MOREX_1H01G000300  903.000   1513.00    2346.000   2464.000   2226.000  \n",
       "Horvu_MOREX_1H01G000400 1748.000    490.00     484.000    578.000    685.000  \n",
       "Horvu_MOREX_1H01G000500 3758.000   1589.00    2689.000   2926.000   3255.000  \n",
       "Horvu_MOREX_1H01G000600 3770.057   2290.44    2551.647   2561.501   2173.419  \n",
       "                        ⋯ ERR515188 ERR515189 ERR515190 ERR515191 ERR515192\n",
       "Horvu_MOREX_1H01G000100 ⋯ 1232.000  2237.000  1503.000  1833.000  1695.000 \n",
       "Horvu_MOREX_1H01G000200 ⋯    1.000     3.000    10.000     1.000     2.000 \n",
       "Horvu_MOREX_1H01G000300 ⋯  428.000   610.000   519.000   466.000   492.000 \n",
       "Horvu_MOREX_1H01G000400 ⋯  971.000  1640.000  1312.000  1160.000  2093.000 \n",
       "Horvu_MOREX_1H01G000500 ⋯ 3656.000  4336.000  4734.000  4469.000  2296.000 \n",
       "Horvu_MOREX_1H01G000600 ⋯ 2808.661  3316.393  2766.549  2833.275  2984.255 \n",
       "                        ERR515193 ERR515194 ERR515195 ERR515196 ERR515197\n",
       "Horvu_MOREX_1H01G000100 2477.000  2265.000  2578.000  2468.000  2317.000 \n",
       "Horvu_MOREX_1H01G000200    8.000     6.000     0.000     2.000     2.000 \n",
       "Horvu_MOREX_1H01G000300  652.000   569.000   677.000   710.000   584.000 \n",
       "Horvu_MOREX_1H01G000400 2738.000  2795.000  3687.000  3044.000  3045.000 \n",
       "Horvu_MOREX_1H01G000500 2418.000  2349.000  3908.000  3340.000  3221.000 \n",
       "Horvu_MOREX_1H01G000600 4250.868  3915.629  4172.974  4106.843  4045.146 "
      ]
     },
     "metadata": {},
     "output_type": "display_data"
    }
   ],
   "source": [
    "# create count table\n",
    "setwd(\"/nfs/pgsb/projects/comparative_triticeae/phenotype/flower_development/refsets/hordeum/04_Kallisto_paired/\")\n",
    "txi_hord_paired <- tximport(files_hp, type = \"kallisto\", tx2gene = tx2gene_hord)\n",
    "head(txi_hord_paired$counts)"
   ]
  },
  {
   "cell_type": "code",
   "execution_count": 79,
   "metadata": {},
   "outputs": [],
   "source": [
    "# save count table\n",
    "setwd(\"/nfs/pgsb/projects/comparative_triticeae/phenotype/flower_development/refsets/hordeum/\")\n",
    "write.table(txi_hord_paired, file = \"barley_count_table_paired.txt\", append = FALSE, quote = FALSE, sep = \"\\t\", dec = \".\",\n",
    "            row.names = FALSE, col.names = TRUE)\n",
    "saveRDS(txi_hord_paired, file = \"barley_count_table_paired.rds\")"
   ]
  },
  {
   "cell_type": "markdown",
   "metadata": {},
   "source": [
    "### Hordeum single"
   ]
  },
  {
   "cell_type": "code",
   "execution_count": 72,
   "metadata": {},
   "outputs": [
    {
     "name": "stdout",
     "output_type": "stream",
     "text": [
      "Rows: 47\n",
      "Columns: 3\n",
      "$ ID           \u001b[3m\u001b[90m<chr>\u001b[39m\u001b[23m \"ERR781039\", \"ERR781040\", \"ERR781041\", \"ERR781042\", \"ERR…\n",
      "$ dataset_name \u001b[3m\u001b[90m<chr>\u001b[39m\u001b[23m \"inflorescence development\", \"inflorescence development\"…\n",
      "$ tissue       \u001b[3m\u001b[90m<chr>\u001b[39m\u001b[23m \"apex\", \"apex\", \"apex\", \"apex\", \"apex\", \"apex\", \"apex\", …\n"
     ]
    }
   ],
   "source": [
    "setwd(\"/nfs/pgsb/projects/comparative_triticeae/phenotype/flower_development/refsets/hordeum/\")\n",
    "hord_single <- read.table(\"barley_project_table_trimmomatic_single.txt\", sep = \"\\t\", header = TRUE, stringsAsFactors = FALSE)\n",
    "glimpse(hord_single)"
   ]
  },
  {
   "cell_type": "code",
   "execution_count": 73,
   "metadata": {},
   "outputs": [
    {
     "data": {
      "text/html": [
       "<style>\n",
       ".dl-inline {width: auto; margin:0; padding: 0}\n",
       ".dl-inline>dt, .dl-inline>dd {float: none; width: auto; display: inline-block}\n",
       ".dl-inline>dt::after {content: \":\\0020\"; padding-right: .5ex}\n",
       ".dl-inline>dt:not(:first-of-type) {padding-left: .5ex}\n",
       "</style><dl class=dl-inline><dt>ERR781039</dt><dd>'ERR781039/abundance.h5'</dd><dt>ERR781040</dt><dd>'ERR781040/abundance.h5'</dd><dt>ERR781041</dt><dd>'ERR781041/abundance.h5'</dd><dt>ERR781042</dt><dd>'ERR781042/abundance.h5'</dd><dt>ERR781043</dt><dd>'ERR781043/abundance.h5'</dd><dt>ERR781044</dt><dd>'ERR781044/abundance.h5'</dd></dl>\n"
      ],
      "text/latex": [
       "\\begin{description*}\n",
       "\\item[ERR781039] 'ERR781039/abundance.h5'\n",
       "\\item[ERR781040] 'ERR781040/abundance.h5'\n",
       "\\item[ERR781041] 'ERR781041/abundance.h5'\n",
       "\\item[ERR781042] 'ERR781042/abundance.h5'\n",
       "\\item[ERR781043] 'ERR781043/abundance.h5'\n",
       "\\item[ERR781044] 'ERR781044/abundance.h5'\n",
       "\\end{description*}\n"
      ],
      "text/markdown": [
       "ERR781039\n",
       ":   'ERR781039/abundance.h5'ERR781040\n",
       ":   'ERR781040/abundance.h5'ERR781041\n",
       ":   'ERR781041/abundance.h5'ERR781042\n",
       ":   'ERR781042/abundance.h5'ERR781043\n",
       ":   'ERR781043/abundance.h5'ERR781044\n",
       ":   'ERR781044/abundance.h5'\n",
       "\n"
      ],
      "text/plain": [
       "               ERR781039                ERR781040                ERR781041 \n",
       "\"ERR781039/abundance.h5\" \"ERR781040/abundance.h5\" \"ERR781041/abundance.h5\" \n",
       "               ERR781042                ERR781043                ERR781044 \n",
       "\"ERR781042/abundance.h5\" \"ERR781043/abundance.h5\" \"ERR781044/abundance.h5\" "
      ]
     },
     "metadata": {},
     "output_type": "display_data"
    },
    {
     "data": {
      "text/html": [
       "TRUE"
      ],
      "text/latex": [
       "TRUE"
      ],
      "text/markdown": [
       "TRUE"
      ],
      "text/plain": [
       "[1] TRUE"
      ]
     },
     "metadata": {},
     "output_type": "display_data"
    }
   ],
   "source": [
    "setwd(\"/nfs/pgsb/projects/comparative_triticeae/phenotype/flower_development/refsets/hordeum/04_Kallisto_single\")\n",
    "files_hs <- file.path(hord_single$ID, \"abundance.h5\")\n",
    "names(files_hs) <- paste0(hord_single$ID)\n",
    "head(files_hs)\n",
    "all(file.exists(files_hs))"
   ]
  },
  {
   "cell_type": "code",
   "execution_count": 74,
   "metadata": {},
   "outputs": [
    {
     "name": "stderr",
     "output_type": "stream",
     "text": [
      "1 \n",
      "2 \n",
      "3 \n",
      "4 \n",
      "5 \n",
      "6 \n",
      "7 \n",
      "8 \n",
      "9 \n",
      "10 \n",
      "11 \n",
      "12 \n",
      "13 \n",
      "14 \n",
      "15 \n",
      "16 \n",
      "17 \n",
      "18 \n",
      "19 \n",
      "20 \n",
      "21 \n",
      "22 \n",
      "23 \n",
      "24 \n",
      "25 \n",
      "26 \n",
      "27 \n",
      "28 \n",
      "29 \n",
      "30 \n",
      "31 \n",
      "32 \n",
      "33 \n",
      "34 \n",
      "35 \n",
      "36 \n",
      "37 \n",
      "38 \n",
      "39 \n",
      "40 \n",
      "41 \n",
      "42 \n",
      "43 \n",
      "44 \n",
      "45 \n",
      "46 \n",
      "47 \n",
      "\n",
      "\n",
      "summarizing abundance\n",
      "\n",
      "summarizing counts\n",
      "\n",
      "summarizing length\n",
      "\n",
      "summarizing inferential replicates\n",
      "\n"
     ]
    },
    {
     "data": {
      "text/html": [
       "<table>\n",
       "<caption>A matrix: 6 × 47 of type dbl</caption>\n",
       "<thead>\n",
       "\t<tr><th></th><th scope=col>ERR781039</th><th scope=col>ERR781040</th><th scope=col>ERR781041</th><th scope=col>ERR781042</th><th scope=col>ERR781043</th><th scope=col>ERR781044</th><th scope=col>ERR781045</th><th scope=col>ERR781046</th><th scope=col>ERR781047</th><th scope=col>ERR781048</th><th scope=col>⋯</th><th scope=col>ERR781076</th><th scope=col>ERR781077</th><th scope=col>ERR781078</th><th scope=col>ERR781079</th><th scope=col>ERR781080</th><th scope=col>ERR781081</th><th scope=col>ERR781082</th><th scope=col>ERR781083</th><th scope=col>ERR781084</th><th scope=col>ERR781085</th></tr>\n",
       "</thead>\n",
       "<tbody>\n",
       "\t<tr><th scope=row>Horvu_MOREX_1H01G000100</th><td>336.0000</td><td>122.0000</td><td> 66.0000</td><td>208.0000</td><td>354.000</td><td>452.0000</td><td>388.0000</td><td>405.0000</td><td>359.0000</td><td> 657.000</td><td>⋯</td><td>265.0000</td><td>434.000</td><td>280.0000</td><td>478.000</td><td>216.0000</td><td>214.0000</td><td>267.0000</td><td>574.0000</td><td>345.0000</td><td>262.0000</td></tr>\n",
       "\t<tr><th scope=row>Horvu_MOREX_1H01G000200</th><td>  1.0000</td><td>  0.0000</td><td>  0.0000</td><td>  1.0000</td><td>  1.000</td><td>  1.0000</td><td>  1.0000</td><td>  0.0000</td><td>  0.0000</td><td>   1.000</td><td>⋯</td><td>106.0000</td><td> 13.000</td><td>  8.0000</td><td> 11.000</td><td>113.0000</td><td> 86.0000</td><td>155.0000</td><td> 70.0000</td><td> 22.0000</td><td>  7.0000</td></tr>\n",
       "\t<tr><th scope=row>Horvu_MOREX_1H01G000300</th><td>116.0000</td><td> 56.0000</td><td> 45.0000</td><td> 98.0000</td><td>108.000</td><td>163.0000</td><td>160.0000</td><td>133.0000</td><td>117.0000</td><td> 284.000</td><td>⋯</td><td>173.0000</td><td>113.000</td><td> 73.0000</td><td>117.000</td><td>148.0000</td><td>145.0000</td><td>170.0000</td><td>231.0000</td><td>107.0000</td><td>114.0000</td></tr>\n",
       "\t<tr><th scope=row>Horvu_MOREX_1H01G000400</th><td>550.0000</td><td>184.0000</td><td>133.0000</td><td>351.0000</td><td>549.000</td><td>657.0000</td><td>577.0000</td><td>605.0000</td><td>540.0000</td><td>1183.000</td><td>⋯</td><td>105.0000</td><td>400.000</td><td>294.0000</td><td>501.000</td><td>111.0000</td><td>120.0000</td><td> 46.0000</td><td>342.0000</td><td>178.0000</td><td>258.0000</td></tr>\n",
       "\t<tr><th scope=row>Horvu_MOREX_1H01G000500</th><td>556.0000</td><td>167.0000</td><td>116.0000</td><td>382.0000</td><td>511.000</td><td>635.0000</td><td>772.0000</td><td>607.0000</td><td>630.0000</td><td>1166.000</td><td>⋯</td><td>413.0000</td><td>539.000</td><td>353.0000</td><td>611.000</td><td>278.0000</td><td>252.0000</td><td>289.0000</td><td>855.0000</td><td>465.0000</td><td>558.0000</td></tr>\n",
       "\t<tr><th scope=row>Horvu_MOREX_1H01G000600</th><td>707.3084</td><td>260.5543</td><td>146.4439</td><td>381.1077</td><td>572.695</td><td>776.8168</td><td>827.0809</td><td>874.5452</td><td>566.1862</td><td>1397.799</td><td>⋯</td><td>428.2955</td><td>682.448</td><td>428.6905</td><td>848.264</td><td>295.0219</td><td>242.4567</td><td>280.6461</td><td>950.6211</td><td>504.0559</td><td>688.9697</td></tr>\n",
       "</tbody>\n",
       "</table>\n"
      ],
      "text/latex": [
       "A matrix: 6 × 47 of type dbl\n",
       "\\begin{tabular}{r|lllllllllllllllllllll}\n",
       "  & ERR781039 & ERR781040 & ERR781041 & ERR781042 & ERR781043 & ERR781044 & ERR781045 & ERR781046 & ERR781047 & ERR781048 & ⋯ & ERR781076 & ERR781077 & ERR781078 & ERR781079 & ERR781080 & ERR781081 & ERR781082 & ERR781083 & ERR781084 & ERR781085\\\\\n",
       "\\hline\n",
       "\tHorvu\\_MOREX\\_1H01G000100 & 336.0000 & 122.0000 &  66.0000 & 208.0000 & 354.000 & 452.0000 & 388.0000 & 405.0000 & 359.0000 &  657.000 & ⋯ & 265.0000 & 434.000 & 280.0000 & 478.000 & 216.0000 & 214.0000 & 267.0000 & 574.0000 & 345.0000 & 262.0000\\\\\n",
       "\tHorvu\\_MOREX\\_1H01G000200 &   1.0000 &   0.0000 &   0.0000 &   1.0000 &   1.000 &   1.0000 &   1.0000 &   0.0000 &   0.0000 &    1.000 & ⋯ & 106.0000 &  13.000 &   8.0000 &  11.000 & 113.0000 &  86.0000 & 155.0000 &  70.0000 &  22.0000 &   7.0000\\\\\n",
       "\tHorvu\\_MOREX\\_1H01G000300 & 116.0000 &  56.0000 &  45.0000 &  98.0000 & 108.000 & 163.0000 & 160.0000 & 133.0000 & 117.0000 &  284.000 & ⋯ & 173.0000 & 113.000 &  73.0000 & 117.000 & 148.0000 & 145.0000 & 170.0000 & 231.0000 & 107.0000 & 114.0000\\\\\n",
       "\tHorvu\\_MOREX\\_1H01G000400 & 550.0000 & 184.0000 & 133.0000 & 351.0000 & 549.000 & 657.0000 & 577.0000 & 605.0000 & 540.0000 & 1183.000 & ⋯ & 105.0000 & 400.000 & 294.0000 & 501.000 & 111.0000 & 120.0000 &  46.0000 & 342.0000 & 178.0000 & 258.0000\\\\\n",
       "\tHorvu\\_MOREX\\_1H01G000500 & 556.0000 & 167.0000 & 116.0000 & 382.0000 & 511.000 & 635.0000 & 772.0000 & 607.0000 & 630.0000 & 1166.000 & ⋯ & 413.0000 & 539.000 & 353.0000 & 611.000 & 278.0000 & 252.0000 & 289.0000 & 855.0000 & 465.0000 & 558.0000\\\\\n",
       "\tHorvu\\_MOREX\\_1H01G000600 & 707.3084 & 260.5543 & 146.4439 & 381.1077 & 572.695 & 776.8168 & 827.0809 & 874.5452 & 566.1862 & 1397.799 & ⋯ & 428.2955 & 682.448 & 428.6905 & 848.264 & 295.0219 & 242.4567 & 280.6461 & 950.6211 & 504.0559 & 688.9697\\\\\n",
       "\\end{tabular}\n"
      ],
      "text/markdown": [
       "\n",
       "A matrix: 6 × 47 of type dbl\n",
       "\n",
       "| <!--/--> | ERR781039 | ERR781040 | ERR781041 | ERR781042 | ERR781043 | ERR781044 | ERR781045 | ERR781046 | ERR781047 | ERR781048 | ⋯ | ERR781076 | ERR781077 | ERR781078 | ERR781079 | ERR781080 | ERR781081 | ERR781082 | ERR781083 | ERR781084 | ERR781085 |\n",
       "|---|---|---|---|---|---|---|---|---|---|---|---|---|---|---|---|---|---|---|---|---|---|\n",
       "| Horvu_MOREX_1H01G000100 | 336.0000 | 122.0000 |  66.0000 | 208.0000 | 354.000 | 452.0000 | 388.0000 | 405.0000 | 359.0000 |  657.000 | ⋯ | 265.0000 | 434.000 | 280.0000 | 478.000 | 216.0000 | 214.0000 | 267.0000 | 574.0000 | 345.0000 | 262.0000 |\n",
       "| Horvu_MOREX_1H01G000200 |   1.0000 |   0.0000 |   0.0000 |   1.0000 |   1.000 |   1.0000 |   1.0000 |   0.0000 |   0.0000 |    1.000 | ⋯ | 106.0000 |  13.000 |   8.0000 |  11.000 | 113.0000 |  86.0000 | 155.0000 |  70.0000 |  22.0000 |   7.0000 |\n",
       "| Horvu_MOREX_1H01G000300 | 116.0000 |  56.0000 |  45.0000 |  98.0000 | 108.000 | 163.0000 | 160.0000 | 133.0000 | 117.0000 |  284.000 | ⋯ | 173.0000 | 113.000 |  73.0000 | 117.000 | 148.0000 | 145.0000 | 170.0000 | 231.0000 | 107.0000 | 114.0000 |\n",
       "| Horvu_MOREX_1H01G000400 | 550.0000 | 184.0000 | 133.0000 | 351.0000 | 549.000 | 657.0000 | 577.0000 | 605.0000 | 540.0000 | 1183.000 | ⋯ | 105.0000 | 400.000 | 294.0000 | 501.000 | 111.0000 | 120.0000 |  46.0000 | 342.0000 | 178.0000 | 258.0000 |\n",
       "| Horvu_MOREX_1H01G000500 | 556.0000 | 167.0000 | 116.0000 | 382.0000 | 511.000 | 635.0000 | 772.0000 | 607.0000 | 630.0000 | 1166.000 | ⋯ | 413.0000 | 539.000 | 353.0000 | 611.000 | 278.0000 | 252.0000 | 289.0000 | 855.0000 | 465.0000 | 558.0000 |\n",
       "| Horvu_MOREX_1H01G000600 | 707.3084 | 260.5543 | 146.4439 | 381.1077 | 572.695 | 776.8168 | 827.0809 | 874.5452 | 566.1862 | 1397.799 | ⋯ | 428.2955 | 682.448 | 428.6905 | 848.264 | 295.0219 | 242.4567 | 280.6461 | 950.6211 | 504.0559 | 688.9697 |\n",
       "\n"
      ],
      "text/plain": [
       "                        ERR781039 ERR781040 ERR781041 ERR781042 ERR781043\n",
       "Horvu_MOREX_1H01G000100 336.0000  122.0000   66.0000  208.0000  354.000  \n",
       "Horvu_MOREX_1H01G000200   1.0000    0.0000    0.0000    1.0000    1.000  \n",
       "Horvu_MOREX_1H01G000300 116.0000   56.0000   45.0000   98.0000  108.000  \n",
       "Horvu_MOREX_1H01G000400 550.0000  184.0000  133.0000  351.0000  549.000  \n",
       "Horvu_MOREX_1H01G000500 556.0000  167.0000  116.0000  382.0000  511.000  \n",
       "Horvu_MOREX_1H01G000600 707.3084  260.5543  146.4439  381.1077  572.695  \n",
       "                        ERR781044 ERR781045 ERR781046 ERR781047 ERR781048 ⋯\n",
       "Horvu_MOREX_1H01G000100 452.0000  388.0000  405.0000  359.0000   657.000  ⋯\n",
       "Horvu_MOREX_1H01G000200   1.0000    1.0000    0.0000    0.0000     1.000  ⋯\n",
       "Horvu_MOREX_1H01G000300 163.0000  160.0000  133.0000  117.0000   284.000  ⋯\n",
       "Horvu_MOREX_1H01G000400 657.0000  577.0000  605.0000  540.0000  1183.000  ⋯\n",
       "Horvu_MOREX_1H01G000500 635.0000  772.0000  607.0000  630.0000  1166.000  ⋯\n",
       "Horvu_MOREX_1H01G000600 776.8168  827.0809  874.5452  566.1862  1397.799  ⋯\n",
       "                        ERR781076 ERR781077 ERR781078 ERR781079 ERR781080\n",
       "Horvu_MOREX_1H01G000100 265.0000  434.000   280.0000  478.000   216.0000 \n",
       "Horvu_MOREX_1H01G000200 106.0000   13.000     8.0000   11.000   113.0000 \n",
       "Horvu_MOREX_1H01G000300 173.0000  113.000    73.0000  117.000   148.0000 \n",
       "Horvu_MOREX_1H01G000400 105.0000  400.000   294.0000  501.000   111.0000 \n",
       "Horvu_MOREX_1H01G000500 413.0000  539.000   353.0000  611.000   278.0000 \n",
       "Horvu_MOREX_1H01G000600 428.2955  682.448   428.6905  848.264   295.0219 \n",
       "                        ERR781081 ERR781082 ERR781083 ERR781084 ERR781085\n",
       "Horvu_MOREX_1H01G000100 214.0000  267.0000  574.0000  345.0000  262.0000 \n",
       "Horvu_MOREX_1H01G000200  86.0000  155.0000   70.0000   22.0000    7.0000 \n",
       "Horvu_MOREX_1H01G000300 145.0000  170.0000  231.0000  107.0000  114.0000 \n",
       "Horvu_MOREX_1H01G000400 120.0000   46.0000  342.0000  178.0000  258.0000 \n",
       "Horvu_MOREX_1H01G000500 252.0000  289.0000  855.0000  465.0000  558.0000 \n",
       "Horvu_MOREX_1H01G000600 242.4567  280.6461  950.6211  504.0559  688.9697 "
      ]
     },
     "metadata": {},
     "output_type": "display_data"
    }
   ],
   "source": [
    "# create count table\n",
    "setwd(\"/nfs/pgsb/projects/comparative_triticeae/phenotype/flower_development/refsets/hordeum/04_Kallisto_single/\")\n",
    "txi_hord_single <- tximport(files_hs, type = \"kallisto\", tx2gene = tx2gene_hord)\n",
    "head(txi_hord_single$counts)"
   ]
  },
  {
   "cell_type": "code",
   "execution_count": 80,
   "metadata": {},
   "outputs": [],
   "source": [
    "# save count table\n",
    "setwd(\"/nfs/pgsb/projects/comparative_triticeae/phenotype/flower_development/refsets/hordeum/\")\n",
    "write.table(txi_hord_single, file = \"barley_count_table_single.txt\", append = FALSE, quote = FALSE, sep = \"\\t\", dec = \".\",\n",
    "            row.names = FALSE, col.names = TRUE)\n",
    "saveRDS(txi_hord_single, file = \"barley_count_table_single.rds\")"
   ]
  },
  {
   "cell_type": "markdown",
   "metadata": {},
   "source": [
    "# Merging paired & single reads\n",
    "#### 1, symlink single & paried reads into a merge folder using `ln -s /path/to/file /path/to/link`:\n",
    "    * for barley\n",
    "        - `ln -s /nfs/pgsb/projects/comparative_triticeae/phenotype/flower_development/refsets/hordeum/04_Kallisto_single/* /nfs/pgsb/projects/comparative_triticeae/phenotype/flower_development/refsets/hordeum/04_Kallisto_allreads_symlinked/`\n",
    "        - `ln -s /nfs/pgsb/projects/comparative_triticeae/phenotype/flower_development/refsets/hordeum/04_Kallisto_paired/* /nfs/pgsb/projects/comparative_triticeae/phenotype/flower_development/refsets/hordeum/04_Kallisto_allreads_symlinked/`\n",
    "    * for wheat\n",
    "        - `ln -s /nfs/pgsb/projects/comparative_triticeae/phenotype/flower_development/refsets/triticum/04_Kallisto_single/* /nfs/pgsb/projects/comparative_triticeae/phenotype/flower_development/refsets/triticum/04_Kallisto_allreads_symlinked/`\n",
    "        - `ln -s /nfs/pgsb/projects/comparative_triticeae/phenotype/flower_development/refsets/triticum/04_Kallisto_paired/* /nfs/pgsb/projects/comparative_triticeae/phenotype/flower_development/refsets/triticum/04_Kallisto_allreads_symlinked/`\n",
    "#### 2, create file path with all the reads from this folder\n",
    "### Hordeum"
   ]
  },
  {
   "cell_type": "code",
   "execution_count": 10,
   "metadata": {},
   "outputs": [],
   "source": [
    "# load tidyverse only after created tx2gene objects, because commands interfere with each-other!!\n",
    "library(tidyverse, warn.conflicts = FALSE)\n",
    "setwd(\"/home/vanda.marosi/floral_development_thesis_vm/datatables/\")\n",
    "barley_meta <- read.table(\"barley_final.csv\", header = TRUE, sep = \",\", stringsAsFactors = FALSE)\n",
    "barley_meta <- select(barley_meta, Run.ID, Dataset, )\n",
    "colnames(barley_meta) <- c(\"ID\", \"dataset\")"
   ]
  },
  {
   "cell_type": "code",
   "execution_count": 11,
   "metadata": {},
   "outputs": [
    {
     "data": {
      "text/html": [
       "<style>\n",
       ".dl-inline {width: auto; margin:0; padding: 0}\n",
       ".dl-inline>dt, .dl-inline>dd {float: none; width: auto; display: inline-block}\n",
       ".dl-inline>dt::after {content: \":\\0020\"; padding-right: .5ex}\n",
       ".dl-inline>dt:not(:first-of-type) {padding-left: .5ex}\n",
       "</style><dl class=dl-inline><dt>ERR781039</dt><dd>'ERR781039/abundance.h5'</dd><dt>ERR781040</dt><dd>'ERR781040/abundance.h5'</dd><dt>ERR781041</dt><dd>'ERR781041/abundance.h5'</dd><dt>ERR781042</dt><dd>'ERR781042/abundance.h5'</dd><dt>ERR781043</dt><dd>'ERR781043/abundance.h5'</dd><dt>ERR781044</dt><dd>'ERR781044/abundance.h5'</dd></dl>\n"
      ],
      "text/latex": [
       "\\begin{description*}\n",
       "\\item[ERR781039] 'ERR781039/abundance.h5'\n",
       "\\item[ERR781040] 'ERR781040/abundance.h5'\n",
       "\\item[ERR781041] 'ERR781041/abundance.h5'\n",
       "\\item[ERR781042] 'ERR781042/abundance.h5'\n",
       "\\item[ERR781043] 'ERR781043/abundance.h5'\n",
       "\\item[ERR781044] 'ERR781044/abundance.h5'\n",
       "\\end{description*}\n"
      ],
      "text/markdown": [
       "ERR781039\n",
       ":   'ERR781039/abundance.h5'ERR781040\n",
       ":   'ERR781040/abundance.h5'ERR781041\n",
       ":   'ERR781041/abundance.h5'ERR781042\n",
       ":   'ERR781042/abundance.h5'ERR781043\n",
       ":   'ERR781043/abundance.h5'ERR781044\n",
       ":   'ERR781044/abundance.h5'\n",
       "\n"
      ],
      "text/plain": [
       "               ERR781039                ERR781040                ERR781041 \n",
       "\"ERR781039/abundance.h5\" \"ERR781040/abundance.h5\" \"ERR781041/abundance.h5\" \n",
       "               ERR781042                ERR781043                ERR781044 \n",
       "\"ERR781042/abundance.h5\" \"ERR781043/abundance.h5\" \"ERR781044/abundance.h5\" "
      ]
     },
     "metadata": {},
     "output_type": "display_data"
    },
    {
     "data": {
      "text/html": [
       "TRUE"
      ],
      "text/latex": [
       "TRUE"
      ],
      "text/markdown": [
       "TRUE"
      ],
      "text/plain": [
       "[1] TRUE"
      ]
     },
     "metadata": {},
     "output_type": "display_data"
    }
   ],
   "source": [
    "setwd(\"/nfs/pgsb/projects/comparative_triticeae/phenotype/flower_development/refsets/hordeum/04_Kallisto_allreads_symlinked/\")\n",
    "files_h <- file.path(barley_meta$ID, \"abundance.h5\")\n",
    "names(files_h) <- paste0(barley_meta$ID)\n",
    "head(files_h)\n",
    "all(file.exists(files_h))"
   ]
  },
  {
   "cell_type": "code",
   "execution_count": 12,
   "metadata": {},
   "outputs": [
    {
     "name": "stderr",
     "output_type": "stream",
     "text": [
      "1 \n",
      "2 \n",
      "3 \n",
      "4 \n",
      "5 \n",
      "6 \n",
      "7 \n",
      "8 \n",
      "9 \n",
      "10 \n",
      "11 \n",
      "12 \n",
      "13 \n",
      "14 \n",
      "15 \n",
      "16 \n",
      "17 \n",
      "18 \n",
      "19 \n",
      "20 \n",
      "21 \n",
      "22 \n",
      "23 \n",
      "24 \n",
      "25 \n",
      "26 \n",
      "27 \n",
      "28 \n",
      "29 \n",
      "30 \n",
      "31 \n",
      "32 \n",
      "33 \n",
      "34 \n",
      "35 \n",
      "36 \n",
      "37 \n",
      "38 \n",
      "39 \n",
      "40 \n",
      "41 \n",
      "42 \n",
      "43 \n",
      "44 \n",
      "45 \n",
      "46 \n",
      "47 \n",
      "48 \n",
      "49 \n",
      "50 \n",
      "51 \n",
      "52 \n",
      "53 \n",
      "54 \n",
      "55 \n",
      "56 \n",
      "57 \n",
      "58 \n",
      "59 \n",
      "60 \n",
      "61 \n",
      "62 \n",
      "63 \n",
      "64 \n",
      "65 \n",
      "66 \n",
      "67 \n",
      "68 \n",
      "69 \n",
      "70 \n",
      "71 \n",
      "72 \n",
      "73 \n",
      "74 \n",
      "75 \n",
      "76 \n",
      "77 \n",
      "78 \n",
      "79 \n",
      "80 \n",
      "81 \n",
      "82 \n",
      "83 \n",
      "84 \n",
      "85 \n",
      "86 \n",
      "87 \n",
      "88 \n",
      "89 \n",
      "90 \n",
      "91 \n",
      "92 \n",
      "93 \n",
      "94 \n",
      "95 \n",
      "96 \n",
      "97 \n",
      "98 \n",
      "99 \n",
      "100 \n",
      "101 \n",
      "102 \n",
      "103 \n",
      "104 \n",
      "105 \n",
      "106 \n",
      "107 \n",
      "108 \n",
      "109 \n",
      "110 \n",
      "111 \n",
      "112 \n",
      "113 \n",
      "114 \n",
      "115 \n",
      "116 \n",
      "117 \n",
      "118 \n",
      "119 \n",
      "120 \n",
      "121 \n",
      "122 \n",
      "123 \n",
      "124 \n",
      "125 \n",
      "126 \n",
      "127 \n",
      "128 \n",
      "129 \n",
      "130 \n",
      "131 \n",
      "132 \n",
      "133 \n",
      "134 \n",
      "135 \n",
      "136 \n",
      "137 \n",
      "138 \n",
      "139 \n",
      "140 \n",
      "141 \n",
      "142 \n",
      "143 \n",
      "144 \n",
      "145 \n",
      "146 \n",
      "147 \n",
      "148 \n",
      "149 \n",
      "150 \n",
      "151 \n",
      "152 \n",
      "153 \n",
      "154 \n",
      "155 \n",
      "156 \n",
      "157 \n",
      "158 \n",
      "159 \n",
      "160 \n",
      "161 \n",
      "162 \n",
      "163 \n",
      "164 \n",
      "165 \n",
      "166 \n",
      "167 \n",
      "168 \n",
      "169 \n",
      "170 \n",
      "171 \n",
      "172 \n",
      "173 \n",
      "174 \n",
      "175 \n",
      "176 \n",
      "177 \n",
      "178 \n",
      "179 \n",
      "180 \n",
      "181 \n",
      "182 \n",
      "183 \n",
      "184 \n",
      "185 \n",
      "186 \n",
      "187 \n",
      "188 \n",
      "189 \n",
      "190 \n",
      "191 \n",
      "192 \n",
      "193 \n",
      "194 \n",
      "195 \n",
      "196 \n",
      "197 \n",
      "198 \n",
      "199 \n",
      "200 \n",
      "201 \n",
      "202 \n",
      "203 \n",
      "204 \n",
      "205 \n",
      "206 \n",
      "207 \n",
      "208 \n",
      "209 \n",
      "210 \n",
      "211 \n",
      "212 \n",
      "213 \n",
      "214 \n",
      "215 \n",
      "216 \n",
      "217 \n",
      "218 \n",
      "219 \n",
      "220 \n",
      "221 \n",
      "222 \n",
      "223 \n",
      "224 \n",
      "225 \n",
      "226 \n",
      "227 \n",
      "228 \n",
      "229 \n",
      "230 \n",
      "231 \n",
      "232 \n",
      "233 \n",
      "234 \n",
      "235 \n",
      "236 \n",
      "237 \n",
      "238 \n",
      "239 \n",
      "240 \n",
      "\n",
      "\n",
      "summarizing abundance\n",
      "\n",
      "summarizing counts\n",
      "\n",
      "summarizing length\n",
      "\n",
      "summarizing inferential replicates\n",
      "\n"
     ]
    },
    {
     "data": {
      "text/html": [
       "<style>\n",
       ".list-inline {list-style: none; margin:0; padding: 0}\n",
       ".list-inline>li {display: inline-block}\n",
       ".list-inline>li:not(:last-child)::after {content: \"\\00b7\"; padding: 0 .5ex}\n",
       "</style>\n",
       "<ol class=list-inline><li>49281</li><li>240</li></ol>\n"
      ],
      "text/latex": [
       "\\begin{enumerate*}\n",
       "\\item 49281\n",
       "\\item 240\n",
       "\\end{enumerate*}\n"
      ],
      "text/markdown": [
       "1. 49281\n",
       "2. 240\n",
       "\n",
       "\n"
      ],
      "text/plain": [
       "[1] 49281   240"
      ]
     },
     "metadata": {},
     "output_type": "display_data"
    },
    {
     "data": {
      "text/html": [
       "<table>\n",
       "<caption>A matrix: 6 × 240 of type dbl</caption>\n",
       "<thead>\n",
       "\t<tr><th></th><th scope=col>ERR781039</th><th scope=col>ERR781040</th><th scope=col>ERR781041</th><th scope=col>ERR781042</th><th scope=col>ERR781043</th><th scope=col>ERR781044</th><th scope=col>ERR781045</th><th scope=col>ERR781046</th><th scope=col>ERR781047</th><th scope=col>ERR781048</th><th scope=col>⋯</th><th scope=col>ERR515188</th><th scope=col>ERR515189</th><th scope=col>ERR515190</th><th scope=col>ERR515191</th><th scope=col>ERR515192</th><th scope=col>ERR515193</th><th scope=col>ERR515194</th><th scope=col>ERR515195</th><th scope=col>ERR515196</th><th scope=col>ERR515197</th></tr>\n",
       "</thead>\n",
       "<tbody>\n",
       "\t<tr><th scope=row>Horvu_MOREX_1H01G000100</th><td>336.0000</td><td>122.0000</td><td> 66.0000</td><td>208.0000</td><td>354.000</td><td>452.0000</td><td>388.0000</td><td>405.0000</td><td>359.0000</td><td> 657.000</td><td>⋯</td><td>1232.000</td><td>2237.000</td><td>1503.000</td><td>1833.000</td><td>1695.000</td><td>2477.000</td><td>2265.000</td><td>2578.000</td><td>2468.000</td><td>2317.000</td></tr>\n",
       "\t<tr><th scope=row>Horvu_MOREX_1H01G000200</th><td>  1.0000</td><td>  0.0000</td><td>  0.0000</td><td>  1.0000</td><td>  1.000</td><td>  1.0000</td><td>  1.0000</td><td>  0.0000</td><td>  0.0000</td><td>   1.000</td><td>⋯</td><td>   1.000</td><td>   3.000</td><td>  10.000</td><td>   1.000</td><td>   2.000</td><td>   8.000</td><td>   6.000</td><td>   0.000</td><td>   2.000</td><td>   2.000</td></tr>\n",
       "\t<tr><th scope=row>Horvu_MOREX_1H01G000300</th><td>116.0000</td><td> 56.0000</td><td> 45.0000</td><td> 98.0000</td><td>108.000</td><td>163.0000</td><td>160.0000</td><td>133.0000</td><td>117.0000</td><td> 284.000</td><td>⋯</td><td> 428.000</td><td> 610.000</td><td> 519.000</td><td> 466.000</td><td> 492.000</td><td> 652.000</td><td> 569.000</td><td> 677.000</td><td> 710.000</td><td> 584.000</td></tr>\n",
       "\t<tr><th scope=row>Horvu_MOREX_1H01G000400</th><td>550.0000</td><td>184.0000</td><td>133.0000</td><td>351.0000</td><td>549.000</td><td>657.0000</td><td>577.0000</td><td>605.0000</td><td>540.0000</td><td>1183.000</td><td>⋯</td><td> 971.000</td><td>1640.000</td><td>1312.000</td><td>1160.000</td><td>2093.000</td><td>2738.000</td><td>2795.000</td><td>3687.000</td><td>3044.000</td><td>3045.000</td></tr>\n",
       "\t<tr><th scope=row>Horvu_MOREX_1H01G000500</th><td>556.0000</td><td>167.0000</td><td>116.0000</td><td>382.0000</td><td>511.000</td><td>635.0000</td><td>772.0000</td><td>607.0000</td><td>630.0000</td><td>1166.000</td><td>⋯</td><td>3656.000</td><td>4336.000</td><td>4734.000</td><td>4469.000</td><td>2296.000</td><td>2418.000</td><td>2349.000</td><td>3908.000</td><td>3340.000</td><td>3221.000</td></tr>\n",
       "\t<tr><th scope=row>Horvu_MOREX_1H01G000600</th><td>707.3084</td><td>260.5543</td><td>146.4439</td><td>381.1077</td><td>572.695</td><td>776.8168</td><td>827.0809</td><td>874.5452</td><td>566.1862</td><td>1397.799</td><td>⋯</td><td>2808.661</td><td>3316.393</td><td>2766.549</td><td>2833.275</td><td>2984.255</td><td>4250.868</td><td>3915.629</td><td>4172.974</td><td>4106.843</td><td>4045.146</td></tr>\n",
       "</tbody>\n",
       "</table>\n"
      ],
      "text/latex": [
       "A matrix: 6 × 240 of type dbl\n",
       "\\begin{tabular}{r|lllllllllllllllllllll}\n",
       "  & ERR781039 & ERR781040 & ERR781041 & ERR781042 & ERR781043 & ERR781044 & ERR781045 & ERR781046 & ERR781047 & ERR781048 & ⋯ & ERR515188 & ERR515189 & ERR515190 & ERR515191 & ERR515192 & ERR515193 & ERR515194 & ERR515195 & ERR515196 & ERR515197\\\\\n",
       "\\hline\n",
       "\tHorvu\\_MOREX\\_1H01G000100 & 336.0000 & 122.0000 &  66.0000 & 208.0000 & 354.000 & 452.0000 & 388.0000 & 405.0000 & 359.0000 &  657.000 & ⋯ & 1232.000 & 2237.000 & 1503.000 & 1833.000 & 1695.000 & 2477.000 & 2265.000 & 2578.000 & 2468.000 & 2317.000\\\\\n",
       "\tHorvu\\_MOREX\\_1H01G000200 &   1.0000 &   0.0000 &   0.0000 &   1.0000 &   1.000 &   1.0000 &   1.0000 &   0.0000 &   0.0000 &    1.000 & ⋯ &    1.000 &    3.000 &   10.000 &    1.000 &    2.000 &    8.000 &    6.000 &    0.000 &    2.000 &    2.000\\\\\n",
       "\tHorvu\\_MOREX\\_1H01G000300 & 116.0000 &  56.0000 &  45.0000 &  98.0000 & 108.000 & 163.0000 & 160.0000 & 133.0000 & 117.0000 &  284.000 & ⋯ &  428.000 &  610.000 &  519.000 &  466.000 &  492.000 &  652.000 &  569.000 &  677.000 &  710.000 &  584.000\\\\\n",
       "\tHorvu\\_MOREX\\_1H01G000400 & 550.0000 & 184.0000 & 133.0000 & 351.0000 & 549.000 & 657.0000 & 577.0000 & 605.0000 & 540.0000 & 1183.000 & ⋯ &  971.000 & 1640.000 & 1312.000 & 1160.000 & 2093.000 & 2738.000 & 2795.000 & 3687.000 & 3044.000 & 3045.000\\\\\n",
       "\tHorvu\\_MOREX\\_1H01G000500 & 556.0000 & 167.0000 & 116.0000 & 382.0000 & 511.000 & 635.0000 & 772.0000 & 607.0000 & 630.0000 & 1166.000 & ⋯ & 3656.000 & 4336.000 & 4734.000 & 4469.000 & 2296.000 & 2418.000 & 2349.000 & 3908.000 & 3340.000 & 3221.000\\\\\n",
       "\tHorvu\\_MOREX\\_1H01G000600 & 707.3084 & 260.5543 & 146.4439 & 381.1077 & 572.695 & 776.8168 & 827.0809 & 874.5452 & 566.1862 & 1397.799 & ⋯ & 2808.661 & 3316.393 & 2766.549 & 2833.275 & 2984.255 & 4250.868 & 3915.629 & 4172.974 & 4106.843 & 4045.146\\\\\n",
       "\\end{tabular}\n"
      ],
      "text/markdown": [
       "\n",
       "A matrix: 6 × 240 of type dbl\n",
       "\n",
       "| <!--/--> | ERR781039 | ERR781040 | ERR781041 | ERR781042 | ERR781043 | ERR781044 | ERR781045 | ERR781046 | ERR781047 | ERR781048 | ⋯ | ERR515188 | ERR515189 | ERR515190 | ERR515191 | ERR515192 | ERR515193 | ERR515194 | ERR515195 | ERR515196 | ERR515197 |\n",
       "|---|---|---|---|---|---|---|---|---|---|---|---|---|---|---|---|---|---|---|---|---|---|\n",
       "| Horvu_MOREX_1H01G000100 | 336.0000 | 122.0000 |  66.0000 | 208.0000 | 354.000 | 452.0000 | 388.0000 | 405.0000 | 359.0000 |  657.000 | ⋯ | 1232.000 | 2237.000 | 1503.000 | 1833.000 | 1695.000 | 2477.000 | 2265.000 | 2578.000 | 2468.000 | 2317.000 |\n",
       "| Horvu_MOREX_1H01G000200 |   1.0000 |   0.0000 |   0.0000 |   1.0000 |   1.000 |   1.0000 |   1.0000 |   0.0000 |   0.0000 |    1.000 | ⋯ |    1.000 |    3.000 |   10.000 |    1.000 |    2.000 |    8.000 |    6.000 |    0.000 |    2.000 |    2.000 |\n",
       "| Horvu_MOREX_1H01G000300 | 116.0000 |  56.0000 |  45.0000 |  98.0000 | 108.000 | 163.0000 | 160.0000 | 133.0000 | 117.0000 |  284.000 | ⋯ |  428.000 |  610.000 |  519.000 |  466.000 |  492.000 |  652.000 |  569.000 |  677.000 |  710.000 |  584.000 |\n",
       "| Horvu_MOREX_1H01G000400 | 550.0000 | 184.0000 | 133.0000 | 351.0000 | 549.000 | 657.0000 | 577.0000 | 605.0000 | 540.0000 | 1183.000 | ⋯ |  971.000 | 1640.000 | 1312.000 | 1160.000 | 2093.000 | 2738.000 | 2795.000 | 3687.000 | 3044.000 | 3045.000 |\n",
       "| Horvu_MOREX_1H01G000500 | 556.0000 | 167.0000 | 116.0000 | 382.0000 | 511.000 | 635.0000 | 772.0000 | 607.0000 | 630.0000 | 1166.000 | ⋯ | 3656.000 | 4336.000 | 4734.000 | 4469.000 | 2296.000 | 2418.000 | 2349.000 | 3908.000 | 3340.000 | 3221.000 |\n",
       "| Horvu_MOREX_1H01G000600 | 707.3084 | 260.5543 | 146.4439 | 381.1077 | 572.695 | 776.8168 | 827.0809 | 874.5452 | 566.1862 | 1397.799 | ⋯ | 2808.661 | 3316.393 | 2766.549 | 2833.275 | 2984.255 | 4250.868 | 3915.629 | 4172.974 | 4106.843 | 4045.146 |\n",
       "\n"
      ],
      "text/plain": [
       "                        ERR781039 ERR781040 ERR781041 ERR781042 ERR781043\n",
       "Horvu_MOREX_1H01G000100 336.0000  122.0000   66.0000  208.0000  354.000  \n",
       "Horvu_MOREX_1H01G000200   1.0000    0.0000    0.0000    1.0000    1.000  \n",
       "Horvu_MOREX_1H01G000300 116.0000   56.0000   45.0000   98.0000  108.000  \n",
       "Horvu_MOREX_1H01G000400 550.0000  184.0000  133.0000  351.0000  549.000  \n",
       "Horvu_MOREX_1H01G000500 556.0000  167.0000  116.0000  382.0000  511.000  \n",
       "Horvu_MOREX_1H01G000600 707.3084  260.5543  146.4439  381.1077  572.695  \n",
       "                        ERR781044 ERR781045 ERR781046 ERR781047 ERR781048 ⋯\n",
       "Horvu_MOREX_1H01G000100 452.0000  388.0000  405.0000  359.0000   657.000  ⋯\n",
       "Horvu_MOREX_1H01G000200   1.0000    1.0000    0.0000    0.0000     1.000  ⋯\n",
       "Horvu_MOREX_1H01G000300 163.0000  160.0000  133.0000  117.0000   284.000  ⋯\n",
       "Horvu_MOREX_1H01G000400 657.0000  577.0000  605.0000  540.0000  1183.000  ⋯\n",
       "Horvu_MOREX_1H01G000500 635.0000  772.0000  607.0000  630.0000  1166.000  ⋯\n",
       "Horvu_MOREX_1H01G000600 776.8168  827.0809  874.5452  566.1862  1397.799  ⋯\n",
       "                        ERR515188 ERR515189 ERR515190 ERR515191 ERR515192\n",
       "Horvu_MOREX_1H01G000100 1232.000  2237.000  1503.000  1833.000  1695.000 \n",
       "Horvu_MOREX_1H01G000200    1.000     3.000    10.000     1.000     2.000 \n",
       "Horvu_MOREX_1H01G000300  428.000   610.000   519.000   466.000   492.000 \n",
       "Horvu_MOREX_1H01G000400  971.000  1640.000  1312.000  1160.000  2093.000 \n",
       "Horvu_MOREX_1H01G000500 3656.000  4336.000  4734.000  4469.000  2296.000 \n",
       "Horvu_MOREX_1H01G000600 2808.661  3316.393  2766.549  2833.275  2984.255 \n",
       "                        ERR515193 ERR515194 ERR515195 ERR515196 ERR515197\n",
       "Horvu_MOREX_1H01G000100 2477.000  2265.000  2578.000  2468.000  2317.000 \n",
       "Horvu_MOREX_1H01G000200    8.000     6.000     0.000     2.000     2.000 \n",
       "Horvu_MOREX_1H01G000300  652.000   569.000   677.000   710.000   584.000 \n",
       "Horvu_MOREX_1H01G000400 2738.000  2795.000  3687.000  3044.000  3045.000 \n",
       "Horvu_MOREX_1H01G000500 2418.000  2349.000  3908.000  3340.000  3221.000 \n",
       "Horvu_MOREX_1H01G000600 4250.868  3915.629  4172.974  4106.843  4045.146 "
      ]
     },
     "metadata": {},
     "output_type": "display_data"
    }
   ],
   "source": [
    "# use tx2gene data.frame made earlier as txdb_hord and tx2gene_hord\n",
    "# create count table\n",
    "txi_hord <- tximport(files_h, type = \"kallisto\", tx2gene = tx2gene_hord)\n",
    "dim(txi_hord$counts)\n",
    "head(txi_hord$counts)"
   ]
  },
  {
   "cell_type": "code",
   "execution_count": 14,
   "metadata": {},
   "outputs": [],
   "source": [
    "# save count table\n",
    "setwd(\"/nfs/pgsb/projects/comparative_triticeae/phenotype/flower_development/refsets/hordeum/\")\n",
    "write.table(txi_hord, file = \"barley_count_table_merged.txt\", append = FALSE, quote = FALSE, sep = \"\\t\", dec = \".\",\n",
    "            row.names = FALSE, col.names = TRUE)\n",
    "saveRDS(txi_hord, file = \"barley_count_table_merged.rds\")"
   ]
  },
  {
   "cell_type": "markdown",
   "metadata": {},
   "source": [
    "### Triticum"
   ]
  },
  {
   "cell_type": "code",
   "execution_count": 15,
   "metadata": {},
   "outputs": [
    {
     "name": "stdout",
     "output_type": "stream",
     "text": [
      "Rows: 215\n",
      "Columns: 2\n",
      "$ ID      \u001b[3m\u001b[90m<chr>\u001b[39m\u001b[23m \"SRR10737427\", \"SRR10737428\", \"SRR10737429\", \"SRR10737430\", \"…\n",
      "$ dataset \u001b[3m\u001b[90m<chr>\u001b[39m\u001b[23m \"cytoplasmic_male_sterility\", \"cytoplasmic_male_sterility\", \"…\n"
     ]
    }
   ],
   "source": [
    "setwd(\"/home/vanda.marosi/floral_development_thesis_vm/datatables/\")\n",
    "wheat_meta <- read.table(\"wheat_final.csv\", header = TRUE, sep = \",\", stringsAsFactors = FALSE)\n",
    "wheat_meta <- select(wheat_meta, Run.ID, Dataset, )\n",
    "colnames(wheat_meta) <- c(\"ID\", \"dataset\")\n",
    "glimpse(wheat_meta)"
   ]
  },
  {
   "cell_type": "code",
   "execution_count": 16,
   "metadata": {},
   "outputs": [
    {
     "data": {
      "text/html": [
       "<style>\n",
       ".dl-inline {width: auto; margin:0; padding: 0}\n",
       ".dl-inline>dt, .dl-inline>dd {float: none; width: auto; display: inline-block}\n",
       ".dl-inline>dt::after {content: \":\\0020\"; padding-right: .5ex}\n",
       ".dl-inline>dt:not(:first-of-type) {padding-left: .5ex}\n",
       "</style><dl class=dl-inline><dt>SRR10737427</dt><dd>'SRR10737427/abundance.h5'</dd><dt>SRR10737428</dt><dd>'SRR10737428/abundance.h5'</dd><dt>SRR10737429</dt><dd>'SRR10737429/abundance.h5'</dd><dt>SRR10737430</dt><dd>'SRR10737430/abundance.h5'</dd><dt>SRR10737431</dt><dd>'SRR10737431/abundance.h5'</dd><dt>SRR10737432</dt><dd>'SRR10737432/abundance.h5'</dd></dl>\n"
      ],
      "text/latex": [
       "\\begin{description*}\n",
       "\\item[SRR10737427] 'SRR10737427/abundance.h5'\n",
       "\\item[SRR10737428] 'SRR10737428/abundance.h5'\n",
       "\\item[SRR10737429] 'SRR10737429/abundance.h5'\n",
       "\\item[SRR10737430] 'SRR10737430/abundance.h5'\n",
       "\\item[SRR10737431] 'SRR10737431/abundance.h5'\n",
       "\\item[SRR10737432] 'SRR10737432/abundance.h5'\n",
       "\\end{description*}\n"
      ],
      "text/markdown": [
       "SRR10737427\n",
       ":   'SRR10737427/abundance.h5'SRR10737428\n",
       ":   'SRR10737428/abundance.h5'SRR10737429\n",
       ":   'SRR10737429/abundance.h5'SRR10737430\n",
       ":   'SRR10737430/abundance.h5'SRR10737431\n",
       ":   'SRR10737431/abundance.h5'SRR10737432\n",
       ":   'SRR10737432/abundance.h5'\n",
       "\n"
      ],
      "text/plain": [
       "               SRR10737427                SRR10737428 \n",
       "\"SRR10737427/abundance.h5\" \"SRR10737428/abundance.h5\" \n",
       "               SRR10737429                SRR10737430 \n",
       "\"SRR10737429/abundance.h5\" \"SRR10737430/abundance.h5\" \n",
       "               SRR10737431                SRR10737432 \n",
       "\"SRR10737431/abundance.h5\" \"SRR10737432/abundance.h5\" "
      ]
     },
     "metadata": {},
     "output_type": "display_data"
    },
    {
     "data": {
      "text/html": [
       "TRUE"
      ],
      "text/latex": [
       "TRUE"
      ],
      "text/markdown": [
       "TRUE"
      ],
      "text/plain": [
       "[1] TRUE"
      ]
     },
     "metadata": {},
     "output_type": "display_data"
    }
   ],
   "source": [
    "setwd(\"/nfs/pgsb/projects/comparative_triticeae/phenotype/flower_development/refsets/triticum/04_Kallisto_allreads_symlinked/\")\n",
    "files_t <- file.path(wheat_meta$ID, \"abundance.h5\")\n",
    "names(files_t) <- paste0(wheat_meta$ID)\n",
    "head(files_t)\n",
    "all(file.exists(files_t))"
   ]
  },
  {
   "cell_type": "code",
   "execution_count": 17,
   "metadata": {},
   "outputs": [
    {
     "name": "stderr",
     "output_type": "stream",
     "text": [
      "1 \n",
      "2 \n",
      "3 \n",
      "4 \n",
      "5 \n",
      "6 \n",
      "7 \n",
      "8 \n",
      "9 \n",
      "10 \n",
      "11 \n",
      "12 \n",
      "13 \n",
      "14 \n",
      "15 \n",
      "16 \n",
      "17 \n",
      "18 \n",
      "19 \n",
      "20 \n",
      "21 \n",
      "22 \n",
      "23 \n",
      "24 \n",
      "25 \n",
      "26 \n",
      "27 \n",
      "28 \n",
      "29 \n",
      "30 \n",
      "31 \n",
      "32 \n",
      "33 \n",
      "34 \n",
      "35 \n",
      "36 \n",
      "37 \n",
      "38 \n",
      "39 \n",
      "40 \n",
      "41 \n",
      "42 \n",
      "43 \n",
      "44 \n",
      "45 \n",
      "46 \n",
      "47 \n",
      "48 \n",
      "49 \n",
      "50 \n",
      "51 \n",
      "52 \n",
      "53 \n",
      "54 \n",
      "55 \n",
      "56 \n",
      "57 \n",
      "58 \n",
      "59 \n",
      "60 \n",
      "61 \n",
      "62 \n",
      "63 \n",
      "64 \n",
      "65 \n",
      "66 \n",
      "67 \n",
      "68 \n",
      "69 \n",
      "70 \n",
      "71 \n",
      "72 \n",
      "73 \n",
      "74 \n",
      "75 \n",
      "76 \n",
      "77 \n",
      "78 \n",
      "79 \n",
      "80 \n",
      "81 \n",
      "82 \n",
      "83 \n",
      "84 \n",
      "85 \n",
      "86 \n",
      "87 \n",
      "88 \n",
      "89 \n",
      "90 \n",
      "91 \n",
      "92 \n",
      "93 \n",
      "94 \n",
      "95 \n",
      "96 \n",
      "97 \n",
      "98 \n",
      "99 \n",
      "100 \n",
      "101 \n",
      "102 \n",
      "103 \n",
      "104 \n",
      "105 \n",
      "106 \n",
      "107 \n",
      "108 \n",
      "109 \n",
      "110 \n",
      "111 \n",
      "112 \n",
      "113 \n",
      "114 \n",
      "115 \n",
      "116 \n",
      "117 \n",
      "118 \n",
      "119 \n",
      "120 \n",
      "121 \n",
      "122 \n",
      "123 \n",
      "124 \n",
      "125 \n",
      "126 \n",
      "127 \n",
      "128 \n",
      "129 \n",
      "130 \n",
      "131 \n",
      "132 \n",
      "133 \n",
      "134 \n",
      "135 \n",
      "136 \n",
      "137 \n",
      "138 \n",
      "139 \n",
      "140 \n",
      "141 \n",
      "142 \n",
      "143 \n",
      "144 \n",
      "145 \n",
      "146 \n",
      "147 \n",
      "148 \n",
      "149 \n",
      "150 \n",
      "151 \n",
      "152 \n",
      "153 \n",
      "154 \n",
      "155 \n",
      "156 \n",
      "157 \n",
      "158 \n",
      "159 \n",
      "160 \n",
      "161 \n",
      "162 \n",
      "163 \n",
      "164 \n",
      "165 \n",
      "166 \n",
      "167 \n",
      "168 \n",
      "169 \n",
      "170 \n",
      "171 \n",
      "172 \n",
      "173 \n",
      "174 \n",
      "175 \n",
      "176 \n",
      "177 \n",
      "178 \n",
      "179 \n",
      "180 \n",
      "181 \n",
      "182 \n",
      "183 \n",
      "184 \n",
      "185 \n",
      "186 \n",
      "187 \n",
      "188 \n",
      "189 \n",
      "190 \n",
      "191 \n",
      "192 \n",
      "193 \n",
      "194 \n",
      "195 \n",
      "196 \n",
      "197 \n",
      "198 \n",
      "199 \n",
      "200 \n",
      "201 \n",
      "202 \n",
      "203 \n",
      "204 \n",
      "205 \n",
      "206 \n",
      "207 \n",
      "208 \n",
      "209 \n",
      "210 \n",
      "211 \n",
      "212 \n",
      "213 \n",
      "214 \n",
      "215 \n",
      "\n",
      "\n",
      "summarizing abundance\n",
      "\n",
      "summarizing counts\n",
      "\n",
      "summarizing length\n",
      "\n",
      "summarizing inferential replicates\n",
      "\n"
     ]
    },
    {
     "data": {
      "text/html": [
       "<style>\n",
       ".list-inline {list-style: none; margin:0; padding: 0}\n",
       ".list-inline>li {display: inline-block}\n",
       ".list-inline>li:not(:last-child)::after {content: \"\\00b7\"; padding: 0 .5ex}\n",
       "</style>\n",
       "<ol class=list-inline><li>123075</li><li>215</li></ol>\n"
      ],
      "text/latex": [
       "\\begin{enumerate*}\n",
       "\\item 123075\n",
       "\\item 215\n",
       "\\end{enumerate*}\n"
      ],
      "text/markdown": [
       "1. 123075\n",
       "2. 215\n",
       "\n",
       "\n"
      ],
      "text/plain": [
       "[1] 123075    215"
      ]
     },
     "metadata": {},
     "output_type": "display_data"
    },
    {
     "data": {
      "text/html": [
       "<table>\n",
       "<caption>A matrix: 6 × 215 of type dbl</caption>\n",
       "<thead>\n",
       "\t<tr><th></th><th scope=col>SRR10737427</th><th scope=col>SRR10737428</th><th scope=col>SRR10737429</th><th scope=col>SRR10737430</th><th scope=col>SRR10737431</th><th scope=col>SRR10737432</th><th scope=col>CRR088963</th><th scope=col>CRR088962</th><th scope=col>CRR088961</th><th scope=col>CRR088960</th><th scope=col>⋯</th><th scope=col>SRR8413505</th><th scope=col>SRR8413506</th><th scope=col>SRR8413507</th><th scope=col>SRR8413508</th><th scope=col>SRR5186313</th><th scope=col>SRR5186364</th><th scope=col>SRR5186375</th><th scope=col>SRR5186382</th><th scope=col>SRR5186387</th><th scope=col>SRR5186416</th></tr>\n",
       "</thead>\n",
       "<tbody>\n",
       "\t<tr><th scope=row>TraesCHI1A01G000100</th><td>  0.0000</td><td>0.000000</td><td>  0.0000</td><td> 0.000000</td><td>0.000000</td><td> 0.000000</td><td>  0.0000</td><td>0.000000</td><td>  0.0000</td><td>  0.0000</td><td>⋯</td><td>  0.0000</td><td>  0.000000</td><td>  0.0000</td><td>  0.0000</td><td>0.000000</td><td>0.000000</td><td>0.000000</td><td>0.000000</td><td>0.000000</td><td>0.000000</td></tr>\n",
       "\t<tr><th scope=row>TraesCHI1A01G000200</th><td>  0.0000</td><td>0.000000</td><td>  0.0000</td><td> 0.000000</td><td>0.000000</td><td> 0.000000</td><td>  0.0000</td><td>0.000000</td><td>  0.0000</td><td>  0.0000</td><td>⋯</td><td>  0.0000</td><td>  0.000000</td><td>  0.0000</td><td>  0.0000</td><td>0.000000</td><td>0.000000</td><td>0.000000</td><td>0.000000</td><td>0.000000</td><td>0.000000</td></tr>\n",
       "\t<tr><th scope=row>TraesCHI1A01G000300</th><td>  0.0000</td><td>0.000000</td><td>  0.0000</td><td> 0.000000</td><td>0.000000</td><td> 0.000000</td><td>  0.0000</td><td>0.000000</td><td>  0.0000</td><td>  0.0000</td><td>⋯</td><td>  6.0000</td><td>  7.878112</td><td> 14.0000</td><td>  1.0000</td><td>0.000000</td><td>0.000000</td><td>0.000000</td><td>0.000000</td><td>0.000000</td><td>0.000000</td></tr>\n",
       "\t<tr><th scope=row>TraesCHI1A01G000400</th><td>  0.0000</td><td>0.000000</td><td>  0.0000</td><td> 4.893036</td><td>4.726423</td><td> 1.938802</td><td>  0.0000</td><td>0.000000</td><td>  0.0000</td><td>  0.0000</td><td>⋯</td><td>140.5432</td><td>108.839845</td><td>177.3651</td><td>112.3966</td><td>1.993108</td><td>0.000000</td><td>0.000000</td><td>0.000000</td><td>2.004102</td><td>0.000000</td></tr>\n",
       "\t<tr><th scope=row>TraesCHI1A01G000500</th><td>  1.0000</td><td>8.000000</td><td>  7.0000</td><td> 9.000000</td><td>2.000000</td><td> 3.000000</td><td>  1.0000</td><td>8.000000</td><td>  7.0000</td><td>  9.0000</td><td>⋯</td><td>  5.0000</td><td> 11.000000</td><td> 12.0000</td><td>  5.0000</td><td>1.000000</td><td>0.000000</td><td>2.000000</td><td>0.000000</td><td>0.000000</td><td>0.000000</td></tr>\n",
       "\t<tr><th scope=row>TraesCHI1A01G000600</th><td>193.3952</td><td>2.465932</td><td>159.4838</td><td>51.088736</td><td>8.853329</td><td>80.785644</td><td>193.3877</td><td>2.465675</td><td>159.5168</td><td>126.3058</td><td>⋯</td><td>387.2507</td><td>513.135328</td><td>458.2691</td><td>355.3096</td><td>0.000000</td><td>2.649372</td><td>1.307648</td><td>4.297154</td><td>4.083578</td><td>1.356089</td></tr>\n",
       "</tbody>\n",
       "</table>\n"
      ],
      "text/latex": [
       "A matrix: 6 × 215 of type dbl\n",
       "\\begin{tabular}{r|lllllllllllllllllllll}\n",
       "  & SRR10737427 & SRR10737428 & SRR10737429 & SRR10737430 & SRR10737431 & SRR10737432 & CRR088963 & CRR088962 & CRR088961 & CRR088960 & ⋯ & SRR8413505 & SRR8413506 & SRR8413507 & SRR8413508 & SRR5186313 & SRR5186364 & SRR5186375 & SRR5186382 & SRR5186387 & SRR5186416\\\\\n",
       "\\hline\n",
       "\tTraesCHI1A01G000100 &   0.0000 & 0.000000 &   0.0000 &  0.000000 & 0.000000 &  0.000000 &   0.0000 & 0.000000 &   0.0000 &   0.0000 & ⋯ &   0.0000 &   0.000000 &   0.0000 &   0.0000 & 0.000000 & 0.000000 & 0.000000 & 0.000000 & 0.000000 & 0.000000\\\\\n",
       "\tTraesCHI1A01G000200 &   0.0000 & 0.000000 &   0.0000 &  0.000000 & 0.000000 &  0.000000 &   0.0000 & 0.000000 &   0.0000 &   0.0000 & ⋯ &   0.0000 &   0.000000 &   0.0000 &   0.0000 & 0.000000 & 0.000000 & 0.000000 & 0.000000 & 0.000000 & 0.000000\\\\\n",
       "\tTraesCHI1A01G000300 &   0.0000 & 0.000000 &   0.0000 &  0.000000 & 0.000000 &  0.000000 &   0.0000 & 0.000000 &   0.0000 &   0.0000 & ⋯ &   6.0000 &   7.878112 &  14.0000 &   1.0000 & 0.000000 & 0.000000 & 0.000000 & 0.000000 & 0.000000 & 0.000000\\\\\n",
       "\tTraesCHI1A01G000400 &   0.0000 & 0.000000 &   0.0000 &  4.893036 & 4.726423 &  1.938802 &   0.0000 & 0.000000 &   0.0000 &   0.0000 & ⋯ & 140.5432 & 108.839845 & 177.3651 & 112.3966 & 1.993108 & 0.000000 & 0.000000 & 0.000000 & 2.004102 & 0.000000\\\\\n",
       "\tTraesCHI1A01G000500 &   1.0000 & 8.000000 &   7.0000 &  9.000000 & 2.000000 &  3.000000 &   1.0000 & 8.000000 &   7.0000 &   9.0000 & ⋯ &   5.0000 &  11.000000 &  12.0000 &   5.0000 & 1.000000 & 0.000000 & 2.000000 & 0.000000 & 0.000000 & 0.000000\\\\\n",
       "\tTraesCHI1A01G000600 & 193.3952 & 2.465932 & 159.4838 & 51.088736 & 8.853329 & 80.785644 & 193.3877 & 2.465675 & 159.5168 & 126.3058 & ⋯ & 387.2507 & 513.135328 & 458.2691 & 355.3096 & 0.000000 & 2.649372 & 1.307648 & 4.297154 & 4.083578 & 1.356089\\\\\n",
       "\\end{tabular}\n"
      ],
      "text/markdown": [
       "\n",
       "A matrix: 6 × 215 of type dbl\n",
       "\n",
       "| <!--/--> | SRR10737427 | SRR10737428 | SRR10737429 | SRR10737430 | SRR10737431 | SRR10737432 | CRR088963 | CRR088962 | CRR088961 | CRR088960 | ⋯ | SRR8413505 | SRR8413506 | SRR8413507 | SRR8413508 | SRR5186313 | SRR5186364 | SRR5186375 | SRR5186382 | SRR5186387 | SRR5186416 |\n",
       "|---|---|---|---|---|---|---|---|---|---|---|---|---|---|---|---|---|---|---|---|---|---|\n",
       "| TraesCHI1A01G000100 |   0.0000 | 0.000000 |   0.0000 |  0.000000 | 0.000000 |  0.000000 |   0.0000 | 0.000000 |   0.0000 |   0.0000 | ⋯ |   0.0000 |   0.000000 |   0.0000 |   0.0000 | 0.000000 | 0.000000 | 0.000000 | 0.000000 | 0.000000 | 0.000000 |\n",
       "| TraesCHI1A01G000200 |   0.0000 | 0.000000 |   0.0000 |  0.000000 | 0.000000 |  0.000000 |   0.0000 | 0.000000 |   0.0000 |   0.0000 | ⋯ |   0.0000 |   0.000000 |   0.0000 |   0.0000 | 0.000000 | 0.000000 | 0.000000 | 0.000000 | 0.000000 | 0.000000 |\n",
       "| TraesCHI1A01G000300 |   0.0000 | 0.000000 |   0.0000 |  0.000000 | 0.000000 |  0.000000 |   0.0000 | 0.000000 |   0.0000 |   0.0000 | ⋯ |   6.0000 |   7.878112 |  14.0000 |   1.0000 | 0.000000 | 0.000000 | 0.000000 | 0.000000 | 0.000000 | 0.000000 |\n",
       "| TraesCHI1A01G000400 |   0.0000 | 0.000000 |   0.0000 |  4.893036 | 4.726423 |  1.938802 |   0.0000 | 0.000000 |   0.0000 |   0.0000 | ⋯ | 140.5432 | 108.839845 | 177.3651 | 112.3966 | 1.993108 | 0.000000 | 0.000000 | 0.000000 | 2.004102 | 0.000000 |\n",
       "| TraesCHI1A01G000500 |   1.0000 | 8.000000 |   7.0000 |  9.000000 | 2.000000 |  3.000000 |   1.0000 | 8.000000 |   7.0000 |   9.0000 | ⋯ |   5.0000 |  11.000000 |  12.0000 |   5.0000 | 1.000000 | 0.000000 | 2.000000 | 0.000000 | 0.000000 | 0.000000 |\n",
       "| TraesCHI1A01G000600 | 193.3952 | 2.465932 | 159.4838 | 51.088736 | 8.853329 | 80.785644 | 193.3877 | 2.465675 | 159.5168 | 126.3058 | ⋯ | 387.2507 | 513.135328 | 458.2691 | 355.3096 | 0.000000 | 2.649372 | 1.307648 | 4.297154 | 4.083578 | 1.356089 |\n",
       "\n"
      ],
      "text/plain": [
       "                    SRR10737427 SRR10737428 SRR10737429 SRR10737430 SRR10737431\n",
       "TraesCHI1A01G000100   0.0000    0.000000      0.0000     0.000000   0.000000   \n",
       "TraesCHI1A01G000200   0.0000    0.000000      0.0000     0.000000   0.000000   \n",
       "TraesCHI1A01G000300   0.0000    0.000000      0.0000     0.000000   0.000000   \n",
       "TraesCHI1A01G000400   0.0000    0.000000      0.0000     4.893036   4.726423   \n",
       "TraesCHI1A01G000500   1.0000    8.000000      7.0000     9.000000   2.000000   \n",
       "TraesCHI1A01G000600 193.3952    2.465932    159.4838    51.088736   8.853329   \n",
       "                    SRR10737432 CRR088963 CRR088962 CRR088961 CRR088960 ⋯\n",
       "TraesCHI1A01G000100  0.000000     0.0000  0.000000    0.0000    0.0000  ⋯\n",
       "TraesCHI1A01G000200  0.000000     0.0000  0.000000    0.0000    0.0000  ⋯\n",
       "TraesCHI1A01G000300  0.000000     0.0000  0.000000    0.0000    0.0000  ⋯\n",
       "TraesCHI1A01G000400  1.938802     0.0000  0.000000    0.0000    0.0000  ⋯\n",
       "TraesCHI1A01G000500  3.000000     1.0000  8.000000    7.0000    9.0000  ⋯\n",
       "TraesCHI1A01G000600 80.785644   193.3877  2.465675  159.5168  126.3058  ⋯\n",
       "                    SRR8413505 SRR8413506 SRR8413507 SRR8413508 SRR5186313\n",
       "TraesCHI1A01G000100   0.0000     0.000000   0.0000     0.0000   0.000000  \n",
       "TraesCHI1A01G000200   0.0000     0.000000   0.0000     0.0000   0.000000  \n",
       "TraesCHI1A01G000300   6.0000     7.878112  14.0000     1.0000   0.000000  \n",
       "TraesCHI1A01G000400 140.5432   108.839845 177.3651   112.3966   1.993108  \n",
       "TraesCHI1A01G000500   5.0000    11.000000  12.0000     5.0000   1.000000  \n",
       "TraesCHI1A01G000600 387.2507   513.135328 458.2691   355.3096   0.000000  \n",
       "                    SRR5186364 SRR5186375 SRR5186382 SRR5186387 SRR5186416\n",
       "TraesCHI1A01G000100 0.000000   0.000000   0.000000   0.000000   0.000000  \n",
       "TraesCHI1A01G000200 0.000000   0.000000   0.000000   0.000000   0.000000  \n",
       "TraesCHI1A01G000300 0.000000   0.000000   0.000000   0.000000   0.000000  \n",
       "TraesCHI1A01G000400 0.000000   0.000000   0.000000   2.004102   0.000000  \n",
       "TraesCHI1A01G000500 0.000000   2.000000   0.000000   0.000000   0.000000  \n",
       "TraesCHI1A01G000600 2.649372   1.307648   4.297154   4.083578   1.356089  "
      ]
     },
     "metadata": {},
     "output_type": "display_data"
    }
   ],
   "source": [
    "# use tx2gene data.frame made earlier as txdb_hord and tx2gene_hord\n",
    "# create count table\n",
    "txi_trit <- tximport(files_t, type = \"kallisto\", tx2gene = tx2gene_trit)\n",
    "dim(txi_trit$counts)\n",
    "head(txi_trit$counts)"
   ]
  },
  {
   "cell_type": "code",
   "execution_count": 18,
   "metadata": {},
   "outputs": [],
   "source": [
    "# save count table\n",
    "setwd(\"/nfs/pgsb/projects/comparative_triticeae/phenotype/flower_development/refsets/triticum/\")\n",
    "write.table(txi_trit, file = \"wheat_count_table_merged.txt\", append = FALSE, quote = FALSE, sep = \"\\t\", dec = \".\",\n",
    "            row.names = TRUE, col.names = TRUE)\n",
    "saveRDS(txi_trit, file = \"wheat_count_table_merged.rds\")"
   ]
  },
  {
   "cell_type": "code",
   "execution_count": null,
   "metadata": {},
   "outputs": [],
   "source": []
  },
  {
   "cell_type": "code",
   "execution_count": null,
   "metadata": {},
   "outputs": [],
   "source": []
  },
  {
   "cell_type": "code",
   "execution_count": 76,
   "metadata": {},
   "outputs": [
    {
     "data": {
      "text/plain": [
       "R version 4.0.2 (2020-06-22)\n",
       "Platform: x86_64-conda_cos6-linux-gnu (64-bit)\n",
       "Running under: CentOS Linux 7 (Core)\n",
       "\n",
       "Matrix products: default\n",
       "BLAS/LAPACK: /home/vanda.marosi/anaconda3/envs/tximport/lib/libopenblasp-r0.3.10.so\n",
       "\n",
       "locale:\n",
       " [1] LC_CTYPE=en_US.UTF-8       LC_NUMERIC=C              \n",
       " [3] LC_TIME=de_DE.UTF-8        LC_COLLATE=en_US.UTF-8    \n",
       " [5] LC_MONETARY=de_DE.UTF-8    LC_MESSAGES=en_US.UTF-8   \n",
       " [7] LC_PAPER=de_DE.UTF-8       LC_NAME=C                 \n",
       " [9] LC_ADDRESS=C               LC_TELEPHONE=C            \n",
       "[11] LC_MEASUREMENT=de_DE.UTF-8 LC_IDENTIFICATION=C       \n",
       "\n",
       "attached base packages:\n",
       "[1] stats4    parallel  stats     graphics  grDevices utils     datasets \n",
       "[8] methods   base     \n",
       "\n",
       "other attached packages:\n",
       " [1] GenomicFeatures_1.40.0 AnnotationDbi_1.50.0   Biobase_2.48.0        \n",
       " [4] GenomicRanges_1.40.0   GenomeInfoDb_1.24.0    IRanges_2.22.1        \n",
       " [7] S4Vectors_0.26.0       BiocGenerics_0.34.0    forcats_0.5.0         \n",
       "[10] stringr_1.4.0          dplyr_1.0.0            purrr_0.3.4           \n",
       "[13] tidyr_1.1.0            tibble_3.0.3           ggplot2_3.3.2         \n",
       "[16] tidyverse_1.3.0        tximport_1.16.0        readr_1.3.1           \n",
       "[19] rhdf5_2.32.0          \n",
       "\n",
       "loaded via a namespace (and not attached):\n",
       " [1] matrixStats_0.56.0          bitops_1.0-6               \n",
       " [3] fs_1.4.2                    lubridate_1.7.9            \n",
       " [5] bit64_0.9-7                 progress_1.2.2             \n",
       " [7] httr_1.4.1                  repr_1.1.0                 \n",
       " [9] tools_4.0.2                 backports_1.1.8            \n",
       "[11] utf8_1.1.4                  R6_2.4.1                   \n",
       "[13] DBI_1.1.0                   colorspace_1.4-1           \n",
       "[15] withr_2.2.0                 tidyselect_1.1.0           \n",
       "[17] prettyunits_1.1.1           curl_4.3                   \n",
       "[19] bit_1.1-15.2                compiler_4.0.2             \n",
       "[21] cli_2.0.2                   rvest_0.3.5                \n",
       "[23] xml2_1.3.2                  DelayedArray_0.14.0        \n",
       "[25] rtracklayer_1.48.0          scales_1.1.1               \n",
       "[27] askpass_1.1                 rappdirs_0.3.1             \n",
       "[29] Rsamtools_2.4.0             pbdZMQ_0.3-3               \n",
       "[31] digest_0.6.25               XVector_0.28.0             \n",
       "[33] base64enc_0.1-3             pkgconfig_2.0.3            \n",
       "[35] htmltools_0.5.0             dbplyr_1.4.4               \n",
       "[37] rlang_0.4.7                 readxl_1.3.1               \n",
       "[39] rstudioapi_0.11             RSQLite_2.2.0              \n",
       "[41] generics_0.0.2              jsonlite_1.7.0             \n",
       "[43] BiocParallel_1.22.0         RCurl_1.98-1.2             \n",
       "[45] magrittr_1.5                GenomeInfoDbData_1.2.3     \n",
       "[47] Matrix_1.2-18               Rcpp_1.0.4.6               \n",
       "[49] IRkernel_1.1                munsell_0.5.0              \n",
       "[51] Rhdf5lib_1.10.0             fansi_0.4.1                \n",
       "[53] lifecycle_0.2.0             stringi_1.4.6              \n",
       "[55] SummarizedExperiment_1.18.1 zlibbioc_1.34.0            \n",
       "[57] BiocFileCache_1.12.0        grid_4.0.2                 \n",
       "[59] blob_1.2.1                  crayon_1.3.4               \n",
       "[61] lattice_0.20-41             IRdisplay_0.7.0            \n",
       "[63] Biostrings_2.56.0           haven_2.3.1                \n",
       "[65] hms_0.5.3                   pillar_1.4.6               \n",
       "[67] uuid_0.1-4                  biomaRt_2.44.0             \n",
       "[69] reprex_0.3.0                XML_3.99-0.3               \n",
       "[71] glue_1.4.1                  evaluate_0.14              \n",
       "[73] modelr_0.1.8                vctrs_0.3.1                \n",
       "[75] cellranger_1.1.0            gtable_0.3.0               \n",
       "[77] openssl_1.4.2               assertthat_0.2.1           \n",
       "[79] broom_0.7.0                 GenomicAlignments_1.24.0   \n",
       "[81] memoise_1.1.0               ellipsis_0.3.1             "
      ]
     },
     "metadata": {},
     "output_type": "display_data"
    }
   ],
   "source": [
    "sessionInfo()"
   ]
  }
 ],
 "metadata": {
  "kernelspec": {
   "display_name": "R [conda env:tximport]",
   "language": "R",
   "name": "conda-env-tximport-r"
  },
  "language_info": {
   "codemirror_mode": "r",
   "file_extension": ".r",
   "mimetype": "text/x-r-source",
   "name": "R",
   "pygments_lexer": "r",
   "version": "4.0.2"
  }
 },
 "nbformat": 4,
 "nbformat_minor": 4
}
